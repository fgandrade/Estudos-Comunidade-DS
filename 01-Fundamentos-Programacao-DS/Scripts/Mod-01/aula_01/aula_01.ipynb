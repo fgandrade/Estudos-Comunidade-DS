{
 "cells": [
  {
   "cell_type": "markdown",
   "id": "cb1ce5ce",
   "metadata": {},
   "source": [
    "# Comandos Auxiliares"
   ]
  },
  {
   "cell_type": "markdown",
   "id": "363b232e",
   "metadata": {},
   "source": [
    "## Leitura do Arquivo"
   ]
  },
  {
   "cell_type": "code",
   "execution_count": 1,
   "id": "bfe16f33",
   "metadata": {},
   "outputs": [],
   "source": [
    "# Função de Leitura do Arquivo\n",
    "import pandas as pd\n",
    "\n",
    "def read_file(file):\n",
    "    return pd.read_csv(file)\n",
    "\n",
    "# Conteúdos estão em uma lista\n",
    "df = read_file('aula_1.csv')"
   ]
  },
  {
   "cell_type": "code",
   "execution_count": 2,
   "id": "4ea6dd13",
   "metadata": {},
   "outputs": [
    {
     "data": {
      "text/html": [
       "<div>\n",
       "<style scoped>\n",
       "    .dataframe tbody tr th:only-of-type {\n",
       "        vertical-align: middle;\n",
       "    }\n",
       "\n",
       "    .dataframe tbody tr th {\n",
       "        vertical-align: top;\n",
       "    }\n",
       "\n",
       "    .dataframe thead th {\n",
       "        text-align: right;\n",
       "    }\n",
       "</style>\n",
       "<table border=\"1\" class=\"dataframe\">\n",
       "  <thead>\n",
       "    <tr style=\"text-align: right;\">\n",
       "      <th></th>\n",
       "      <th>id</th>\n",
       "      <th>first_name</th>\n",
       "      <th>gender</th>\n",
       "      <th>age</th>\n",
       "      <th>married</th>\n",
       "      <th>recently_bought</th>\n",
       "    </tr>\n",
       "  </thead>\n",
       "  <tbody>\n",
       "    <tr>\n",
       "      <th>181</th>\n",
       "      <td>182</td>\n",
       "      <td>Morris</td>\n",
       "      <td>Female</td>\n",
       "      <td>22</td>\n",
       "      <td>False</td>\n",
       "      <td>False</td>\n",
       "    </tr>\n",
       "    <tr>\n",
       "      <th>804</th>\n",
       "      <td>805</td>\n",
       "      <td>Lane</td>\n",
       "      <td>Male</td>\n",
       "      <td>23</td>\n",
       "      <td>False</td>\n",
       "      <td>False</td>\n",
       "    </tr>\n",
       "    <tr>\n",
       "      <th>788</th>\n",
       "      <td>789</td>\n",
       "      <td>Prissie</td>\n",
       "      <td>Male</td>\n",
       "      <td>35</td>\n",
       "      <td>False</td>\n",
       "      <td>False</td>\n",
       "    </tr>\n",
       "    <tr>\n",
       "      <th>465</th>\n",
       "      <td>466</td>\n",
       "      <td>Carree</td>\n",
       "      <td>Female</td>\n",
       "      <td>23</td>\n",
       "      <td>False</td>\n",
       "      <td>True</td>\n",
       "    </tr>\n",
       "    <tr>\n",
       "      <th>844</th>\n",
       "      <td>845</td>\n",
       "      <td>Portie</td>\n",
       "      <td>Female</td>\n",
       "      <td>68</td>\n",
       "      <td>False</td>\n",
       "      <td>True</td>\n",
       "    </tr>\n",
       "  </tbody>\n",
       "</table>\n",
       "</div>"
      ],
      "text/plain": [
       "      id first_name  gender  age  married  recently_bought\n",
       "181  182     Morris  Female   22    False            False\n",
       "804  805       Lane    Male   23    False            False\n",
       "788  789    Prissie    Male   35    False            False\n",
       "465  466     Carree  Female   23    False             True\n",
       "844  845     Portie  Female   68    False             True"
      ]
     },
     "execution_count": 2,
     "metadata": {},
     "output_type": "execute_result"
    }
   ],
   "source": [
    "df.sample(5)"
   ]
  },
  {
   "cell_type": "markdown",
   "id": "f5bb9177",
   "metadata": {},
   "source": [
    "## Introdução à Lógica de Programação"
   ]
  },
  {
   "cell_type": "markdown",
   "id": "3cd69169",
   "metadata": {},
   "source": [
    "### Problemas"
   ]
  },
  {
   "cell_type": "markdown",
   "id": "a94b977c",
   "metadata": {},
   "source": [
    "Dentro da nossa base de dados, selecione os clientes que forem maiores de 18 anos e menores de 65 anos. Desses clientes, eu quero que você selecione todas aas mulheres, pois o marketing quer enviar um voucher de 10% para elas. Depois, selecione somente os homens que forem casados, caso não sejam casados, selecione comente os que tiverem feito uma compra no último mês na loja, porque eu quero enviar um voucher de 10% em alguns produtos selecionados. Esses clientes selecionados serão os alvos da nossa campanha de dia das Mulheres."
   ]
  },
  {
   "cell_type": "markdown",
   "id": "fa3c2f73",
   "metadata": {},
   "source": [
    "<ul>\n",
    "    <li> Problema 1: Selecionar os clientes com idades entre 18 a 65 anos. </li>\n",
    "    <li> - Parte 1.1: Selecionar os clientes com idade maior que 18 anos</li>\n",
    "    <li> - Parte 1.2: Selecionar os clientes com idade menor que 65 anos</li> <br>\n",
    "    <li> Problema 2: Selecionar os clientes que são mulheres.</li> <br>\n",
    "    <li> Problema 3: Selecionar os clientes que são homens e que são casados, ou os homens que não são casados mas que compraram na loja no último mês.</li>\n",
    "    <li> - Parte 3.1: Selecionar os clientes que são homens</li>\n",
    "    <li> - Parte 3.2: Selecionar os clientes que são casados</li>\n",
    "    <li> - Parte 3.3: Selecionar os clientes que compraram na loja no último mês</li>\n",
    "    \n",
    "</ul>"
   ]
  },
  {
   "cell_type": "markdown",
   "id": "667b8dfd",
   "metadata": {},
   "source": [
    "### Solução"
   ]
  },
  {
   "cell_type": "code",
   "execution_count": 3,
   "id": "075c3bea",
   "metadata": {},
   "outputs": [],
   "source": [
    "# Respostas\n",
    "mulheres = []\n",
    "homens = []"
   ]
  },
  {
   "cell_type": "code",
   "execution_count": 8,
   "id": "785416db",
   "metadata": {},
   "outputs": [],
   "source": [
    "# Versão inicial\n",
    "for index, row in df.iterrows():\n",
    "    \n",
    "    # Condicionais aqui\n",
    "    ## Maiores que 18 anos\n",
    "    if(row['age'] >= 18):\n",
    "        ## Menores que 65 anos\n",
    "        if(row['age'] <= 65):\n",
    "            \n",
    "            ## Mulheres\n",
    "            if(row['gender'] == 'Female'):\n",
    "                mulheres.append(row)\n",
    "            else: ## Homens\n",
    "                if(row['married'] == True):\n",
    "                    homens.append(row)\n",
    "                elif(row['recently_bought'] == True):\n",
    "                    homens.append(row)               "
   ]
  },
  {
   "cell_type": "code",
   "execution_count": 9,
   "id": "924f5bed",
   "metadata": {},
   "outputs": [
    {
     "data": {
      "text/plain": [
       "id                       1\n",
       "first_name         Kynthia\n",
       "gender              Female\n",
       "age                     59\n",
       "married              False\n",
       "recently_bought       True\n",
       "Name: 0, dtype: object"
      ]
     },
     "execution_count": 9,
     "metadata": {},
     "output_type": "execute_result"
    }
   ],
   "source": [
    "mulheres[0]"
   ]
  },
  {
   "cell_type": "code",
   "execution_count": 10,
   "id": "517ff2b8",
   "metadata": {},
   "outputs": [
    {
     "data": {
      "text/plain": [
       "id                       5\n",
       "first_name         Chrissy\n",
       "gender                Male\n",
       "age                     26\n",
       "married               True\n",
       "recently_bought      False\n",
       "Name: 4, dtype: object"
      ]
     },
     "execution_count": 10,
     "metadata": {},
     "output_type": "execute_result"
    }
   ],
   "source": [
    "homens[0]"
   ]
  },
  {
   "cell_type": "markdown",
   "id": "e7de5bdb",
   "metadata": {},
   "source": [
    "## Operadores em Python"
   ]
  },
  {
   "cell_type": "markdown",
   "id": "b532c900",
   "metadata": {},
   "source": [
    "### Operadores Aritméticos e Relacionais"
   ]
  },
  {
   "cell_type": "markdown",
   "id": "5a822815",
   "metadata": {},
   "source": [
    "#### Operadores Aritméticos"
   ]
  },
  {
   "cell_type": "code",
   "execution_count": 11,
   "id": "dfc21ae3",
   "metadata": {},
   "outputs": [],
   "source": [
    "a = 5\n",
    "b = 2"
   ]
  },
  {
   "cell_type": "code",
   "execution_count": 12,
   "id": "1d9c7571",
   "metadata": {},
   "outputs": [
    {
     "name": "stdout",
     "output_type": "stream",
     "text": [
      "7\n",
      "<class 'int'>\n"
     ]
    }
   ],
   "source": [
    "# Soma\n",
    "result = a + b\n",
    "print(result)\n",
    "print(type(result))"
   ]
  },
  {
   "cell_type": "code",
   "execution_count": 13,
   "id": "ed709d70",
   "metadata": {},
   "outputs": [
    {
     "name": "stdout",
     "output_type": "stream",
     "text": [
      "3\n",
      "<class 'int'>\n"
     ]
    }
   ],
   "source": [
    "# Subtração\n",
    "result = a - b\n",
    "print(result)\n",
    "print(type(result))"
   ]
  },
  {
   "cell_type": "code",
   "execution_count": 14,
   "id": "728f9a60",
   "metadata": {},
   "outputs": [
    {
     "name": "stdout",
     "output_type": "stream",
     "text": [
      "10\n",
      "<class 'int'>\n"
     ]
    }
   ],
   "source": [
    "# Multiplicação\n",
    "result = a * b\n",
    "print(result)\n",
    "print(type(result))"
   ]
  },
  {
   "cell_type": "code",
   "execution_count": 15,
   "id": "d418b9aa",
   "metadata": {},
   "outputs": [
    {
     "name": "stdout",
     "output_type": "stream",
     "text": [
      "25\n",
      "<class 'int'>\n"
     ]
    }
   ],
   "source": [
    "# Potecicação\n",
    "result = a ** b\n",
    "print(result)\n",
    "print(type(result))"
   ]
  },
  {
   "cell_type": "code",
   "execution_count": 16,
   "id": "f3241971",
   "metadata": {},
   "outputs": [
    {
     "name": "stdout",
     "output_type": "stream",
     "text": [
      "2.5\n",
      "<class 'float'>\n"
     ]
    }
   ],
   "source": [
    "# Divisão\n",
    "result = a / b\n",
    "print(result)\n",
    "print(type(result))"
   ]
  },
  {
   "cell_type": "code",
   "execution_count": 17,
   "id": "3935c7ec",
   "metadata": {},
   "outputs": [
    {
     "name": "stdout",
     "output_type": "stream",
     "text": [
      "2\n",
      "<class 'int'>\n"
     ]
    }
   ],
   "source": [
    "# Divisão inteira\n",
    "result = a // b\n",
    "print(result)\n",
    "print(type(result))"
   ]
  },
  {
   "cell_type": "code",
   "execution_count": 18,
   "id": "4f3146f8",
   "metadata": {},
   "outputs": [
    {
     "name": "stdout",
     "output_type": "stream",
     "text": [
      "1\n",
      "<class 'int'>\n"
     ]
    }
   ],
   "source": [
    "# Resto da Divisão\n",
    "result = a % b\n",
    "print(result)\n",
    "print(type(result))"
   ]
  },
  {
   "cell_type": "markdown",
   "id": "75cebb41",
   "metadata": {},
   "source": [
    "#### Operadores Relacionais"
   ]
  },
  {
   "cell_type": "code",
   "execution_count": 19,
   "id": "73969fe5",
   "metadata": {},
   "outputs": [],
   "source": [
    "a = 5\n",
    "b = 2"
   ]
  },
  {
   "cell_type": "code",
   "execution_count": 20,
   "id": "dae2f885",
   "metadata": {},
   "outputs": [
    {
     "name": "stdout",
     "output_type": "stream",
     "text": [
      "True\n"
     ]
    }
   ],
   "source": [
    "# Maior que\n",
    "print(a > b)"
   ]
  },
  {
   "cell_type": "code",
   "execution_count": 21,
   "id": "57ec0e1a",
   "metadata": {},
   "outputs": [
    {
     "name": "stdout",
     "output_type": "stream",
     "text": [
      "True\n"
     ]
    }
   ],
   "source": [
    "# Maior ou igual que\n",
    "print(a >= b)"
   ]
  },
  {
   "cell_type": "code",
   "execution_count": 22,
   "id": "b80f116b",
   "metadata": {},
   "outputs": [
    {
     "name": "stdout",
     "output_type": "stream",
     "text": [
      "False\n"
     ]
    }
   ],
   "source": [
    "# Menor que\n",
    "print(a < b)"
   ]
  },
  {
   "cell_type": "code",
   "execution_count": 23,
   "id": "154f686c",
   "metadata": {},
   "outputs": [
    {
     "name": "stdout",
     "output_type": "stream",
     "text": [
      "False\n"
     ]
    }
   ],
   "source": [
    "# Menor ou igual que\n",
    "print(a <= b)"
   ]
  },
  {
   "cell_type": "code",
   "execution_count": 24,
   "id": "36b0c88b",
   "metadata": {},
   "outputs": [
    {
     "name": "stdout",
     "output_type": "stream",
     "text": [
      "False\n"
     ]
    }
   ],
   "source": [
    "# Igualdade\n",
    "print(a == b)"
   ]
  },
  {
   "cell_type": "code",
   "execution_count": 25,
   "id": "01695a45",
   "metadata": {},
   "outputs": [
    {
     "name": "stdout",
     "output_type": "stream",
     "text": [
      "True\n"
     ]
    }
   ],
   "source": [
    "# Diferença\n",
    "print(a != b)"
   ]
  },
  {
   "cell_type": "markdown",
   "id": "6320841b",
   "metadata": {},
   "source": [
    "### Operadores Lógicos"
   ]
  },
  {
   "cell_type": "code",
   "execution_count": 29,
   "id": "df2b07a7",
   "metadata": {},
   "outputs": [
    {
     "name": "stdout",
     "output_type": "stream",
     "text": [
      "O valor de A = True\n",
      "O valor de B = True\n"
     ]
    }
   ],
   "source": [
    "idade = 32\n",
    "a = idade >= 18\n",
    "b = idade <= 65\n",
    "\n",
    "print(f'O valor de A = {a}')\n",
    "print(f'O valor de B = {b}')"
   ]
  },
  {
   "cell_type": "code",
   "execution_count": 30,
   "id": "4f1515cb",
   "metadata": {},
   "outputs": [
    {
     "name": "stdout",
     "output_type": "stream",
     "text": [
      "verdadeiro\n"
     ]
    }
   ],
   "source": [
    "if(a and b):\n",
    "    print('verdadeiro')\n",
    "else:\n",
    "    print('falso')"
   ]
  },
  {
   "cell_type": "code",
   "execution_count": 31,
   "id": "42d38e61",
   "metadata": {},
   "outputs": [
    {
     "name": "stdout",
     "output_type": "stream",
     "text": [
      "O valor de A = False\n",
      "O valor de B = True\n"
     ]
    }
   ],
   "source": [
    "idade = 16\n",
    "a = idade >= 18\n",
    "b = idade <= 65\n",
    "\n",
    "print(f'O valor de A = {a}')\n",
    "print(f'O valor de B = {b}')"
   ]
  },
  {
   "cell_type": "code",
   "execution_count": 32,
   "id": "53793363",
   "metadata": {},
   "outputs": [
    {
     "name": "stdout",
     "output_type": "stream",
     "text": [
      "falso\n"
     ]
    }
   ],
   "source": [
    "if(a and b):\n",
    "    print('verdadeiro')\n",
    "else:\n",
    "    print('falso')"
   ]
  },
  {
   "cell_type": "code",
   "execution_count": 33,
   "id": "b14069fd",
   "metadata": {},
   "outputs": [
    {
     "name": "stdout",
     "output_type": "stream",
     "text": [
      "verdadeiro\n"
     ]
    }
   ],
   "source": [
    "if(a or b):\n",
    "    print('verdadeiro')\n",
    "else:\n",
    "    print('falso')"
   ]
  },
  {
   "cell_type": "code",
   "execution_count": 34,
   "id": "3ca06379",
   "metadata": {},
   "outputs": [],
   "source": [
    "# Versão refatorada\n",
    "for index, row in df.iterrows():\n",
    "    \n",
    "    # Condicionais aqui\n",
    "    ## Maiores que 18 anos e Menores que 65 anos\n",
    "    if(row['age'] >= 18 and row['age'] <= 65):\n",
    "            \n",
    "            ## Mulheres\n",
    "            if(row['gender'] == 'Female'):\n",
    "                mulheres.append(row)\n",
    "            else: ## Homens\n",
    "                if(row['married'] == True):\n",
    "                    homens.append(row)\n",
    "                elif(row['recently_bought'] == True):\n",
    "                    homens.append(row)    "
   ]
  },
  {
   "cell_type": "code",
   "execution_count": 36,
   "id": "6ffe0c44",
   "metadata": {},
   "outputs": [
    {
     "name": "stdout",
     "output_type": "stream",
     "text": [
      "O valor de A = False\n",
      "O valor de B = True\n"
     ]
    }
   ],
   "source": [
    "idade = 19\n",
    "a = not(idade >= 18)\n",
    "b = idade <= 65\n",
    "\n",
    "print(f'O valor de A = {a}')\n",
    "print(f'O valor de B = {b}')"
   ]
  }
 ],
 "metadata": {
  "kernelspec": {
   "display_name": "Python 3 (ipykernel)",
   "language": "python",
   "name": "python3"
  },
  "language_info": {
   "codemirror_mode": {
    "name": "ipython",
    "version": 3
   },
   "file_extension": ".py",
   "mimetype": "text/x-python",
   "name": "python",
   "nbconvert_exporter": "python",
   "pygments_lexer": "ipython3",
   "version": "3.9.7"
  }
 },
 "nbformat": 4,
 "nbformat_minor": 5
}
