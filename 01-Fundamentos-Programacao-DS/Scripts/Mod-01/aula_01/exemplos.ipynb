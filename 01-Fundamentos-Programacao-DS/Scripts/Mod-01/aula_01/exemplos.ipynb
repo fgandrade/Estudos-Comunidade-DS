{
 "cells": [
  {
   "cell_type": "markdown",
   "id": "356cb35d",
   "metadata": {},
   "source": [
    "# Exemplo - Raciocínio Lógico"
   ]
  },
  {
   "cell_type": "markdown",
   "id": "96a0f0d7",
   "metadata": {},
   "source": [
    "## Problema"
   ]
  },
  {
   "cell_type": "markdown",
   "id": "e9e8107f",
   "metadata": {
    "ExecuteTime": {
     "end_time": "2021-09-23T01:15:31.266217Z",
     "start_time": "2021-09-23T01:15:31.260904Z"
    }
   },
   "source": [
    "Em uma empresa trabalham 3 pessoas: Alice, Clara e Bianca. As três têm gostos de gênero de filmes distintos. Uma delas gosta de terror, outra gosta de ação e a outra gosta de romance. As três realizam trabalhos distintos. Uma delas Recupera os Dados, a outra faz EDA e a outra faz Monta Modelos de ML.\n",
    " \n",
    "A pessoa que gosta de filmes de terror disse: Não Monto Modelos de ML nem Recupero Dados\n",
    "\n",
    "A pessoa que gosta de filmes de ação disse: Meu nome não é Clara nem Bianca\n",
    "\n",
    "A pessoa que gosta de filmes de romance disse: Nem eu e nem Clara Montamos Modelos de ML.\n",
    " \n",
    "Qual o Nome e o Trabalho que cada pessoa realiza?"
   ]
  },
  {
   "cell_type": "markdown",
   "id": "111dc674",
   "metadata": {
    "ExecuteTime": {
     "end_time": "2021-09-23T01:18:10.271290Z",
     "start_time": "2021-09-23T01:18:10.267092Z"
    }
   },
   "source": [
    "## Análise"
   ]
  },
  {
   "cell_type": "markdown",
   "id": "e21d12c5",
   "metadata": {},
   "source": [
    "O nome de cada que gosta de cada filme e no que trabalha. Sendo que:\n",
    "As três têm gostos de gênero de filmes distintos. Uma delas gosta de terror, outra gosta de ação e a outra gosta de romance. Uma delas Recupera os Dados, a outra faz EDA e a outra faz Monta Modelos de ML. A pessoa que gosta de filmes de terror disse: Não Monto Modelos de ML nem Recupero Dados. A pessoa que gosta de filmes de ação disse: Meu nome não é Clara nem Bianca. A pessoa que gosta de filmes de romance disse: Nem eu e nem Clara Montamos Modelos de ML."
   ]
  },
  {
   "cell_type": "markdown",
   "id": "726b8569",
   "metadata": {},
   "source": [
    "## Implicações / Proposições / Afirmações"
   ]
  },
  {
   "cell_type": "markdown",
   "id": "77884643",
   "metadata": {},
   "source": [
    "Existem 3 pessoas: Alice, Clara e Bianca.\n",
    "\n",
    "As três têm gostos de gênero de filmes distintos\n",
    "* Uma delas gosta de terror, outra gosta de ação e a outra gosta de romance.\n",
    "\n",
    "As três realizam trabalhos distintos.\n",
    "* Uma delas Recupera os Dados, a outra faz EDA e a outra faz Monta Modelos de ML.\n",
    "\n",
    "A pessoa que gosta de filmes de terror disse: Não Monto Modelos de ML nem Recupero Dados\n",
    "\n",
    "A pessoa que gosta de filmes de ação disse: Meu nome não é Clara nem Bianca\n",
    "\n",
    "A pessoa que gosta de filmes de romance disse: Montamos Modelos de ML.\n",
    "\n",
    "Clara Montamos Modelos de ML"
   ]
  },
  {
   "cell_type": "markdown",
   "id": "719448b9",
   "metadata": {},
   "source": [
    "## Resolução"
   ]
  },
  {
   "cell_type": "markdown",
   "id": "e6981313",
   "metadata": {},
   "source": [
    "| Filme x Trabalho | Recuperação de Dados | EDA | Modelagem de ML \n",
    "| :--------------: | :------------------: | :-: | :-------------: \n",
    "| Terror  | F | V | F |\n",
    "| Ação    | F | F | V |\n",
    "| Romance | V | F | F |\n"
   ]
  },
  {
   "cell_type": "markdown",
   "id": "c41f9371",
   "metadata": {},
   "source": [
    "| Filme x Pessoa | Alice | Clara | Bianca |\n",
    "|:--------------:|:-----:|:-----:|:------:|\n",
    "| Terror  | F | V | F |\n",
    "| Ação    | V | F | F |\n",
    "| Romance | F | F | V |"
   ]
  },
  {
   "cell_type": "markdown",
   "id": "dd65050e",
   "metadata": {},
   "source": [
    "| Pessoa x Trabalho | Recuperação de Dados | EDA | Modelagem de ML |\n",
    "|:-----------------:|:--------------------:|:---:|:---------------:|\n",
    "| Alice  | F | F | V |\n",
    "| Clara  | F | V | F |\n",
    "| Bianca | V | F | F |\n"
   ]
  },
  {
   "cell_type": "markdown",
   "id": "3c4acf1d",
   "metadata": {},
   "source": [
    "## Resposta"
   ]
  },
  {
   "cell_type": "markdown",
   "id": "2fd5ad39",
   "metadata": {},
   "source": [
    "Alice Trabalha com ML e gosta de ação\n",
    "\n",
    "Clara trabalha com EDA e gosta de Terror\n",
    "\n",
    "Bianca trabalha com extração e gosta de Romance"
   ]
  },
  {
   "cell_type": "markdown",
   "id": "2adb82d9",
   "metadata": {},
   "source": [
    "# Exemplo - Estrutura IF"
   ]
  },
  {
   "cell_type": "markdown",
   "id": "a74d2f08",
   "metadata": {},
   "source": [
    "## Problema"
   ]
  },
  {
   "cell_type": "markdown",
   "id": "e3fee76a",
   "metadata": {
    "ExecuteTime": {
     "end_time": "2021-09-25T18:59:10.528659Z",
     "start_time": "2021-09-25T18:59:10.519979Z"
    }
   },
   "source": [
    "Escreva uma aplicação que recebe três números e retorna a soma deles. Porém se houver números repetidos o valor dos números repetidos não é contabilizado. \n",
    "\n",
    "Por exemplo, na entrada (1,2,3) a resposta é 6, na entrada (3,2,3) a resposta é 2 e na entrada (3,3,3) a resposta é 0. "
   ]
  },
  {
   "cell_type": "markdown",
   "id": "4f6c901b",
   "metadata": {},
   "source": [
    "## Resolução"
   ]
  },
  {
   "cell_type": "code",
   "execution_count": 7,
   "id": "6d9a1880",
   "metadata": {
    "ExecuteTime": {
     "end_time": "2021-10-21T01:14:40.901714Z",
     "start_time": "2021-10-21T01:14:37.178134Z"
    }
   },
   "outputs": [
    {
     "name": "stdout",
     "output_type": "stream",
     "text": [
      "Digite primeiro número: 2\n",
      "Digite segundo número: 1\n",
      "Digite terceiro número: 2\n"
     ]
    }
   ],
   "source": [
    "num1 = int(input(\"Digite primeiro número: \"))\n",
    "num2 = int(input(\"Digite segundo número: \"))\n",
    "num3 = int(input(\"Digite terceiro número: \"))"
   ]
  },
  {
   "cell_type": "code",
   "execution_count": 9,
   "id": "295b155d",
   "metadata": {
    "ExecuteTime": {
     "end_time": "2021-10-21T01:15:19.714396Z",
     "start_time": "2021-10-21T01:15:19.710683Z"
    }
   },
   "outputs": [
    {
     "name": "stdout",
     "output_type": "stream",
     "text": [
      "1\n"
     ]
    }
   ],
   "source": [
    "# Resolução aqui\n",
    "\n",
    "# Resultado\n",
    "soma = 0\n",
    "\n",
    "# São todos iguais\n",
    "if(num1 == num2 and num1 == num3):\n",
    "    print('Os 3 valores são iguais!')\n",
    "\n",
    "else: # São todos diferentes\n",
    "    if((num1 != num2) and (num1 != num3) and num2 != num3):\n",
    "        soma = num1 + num2 + num3\n",
    "    \n",
    "    else: # qual é diferente\n",
    "        if (num1 == num2):\n",
    "            soma = num3\n",
    "        elif(num1 == num3):\n",
    "            soma = num2\n",
    "        elif(num2 == num3):\n",
    "            soma = num1\n",
    "            \n",
    "        \n",
    "print(soma)"
   ]
  },
  {
   "cell_type": "code",
   "execution_count": null,
   "id": "d1219d4d",
   "metadata": {},
   "outputs": [],
   "source": []
  }
 ],
 "metadata": {
  "kernelspec": {
   "display_name": "Python 3.8.11 64-bit ('3.8.11': pyenv)",
   "language": "python",
   "name": "python3811jvsc74a57bd016c98fcc13804c079c0e605033a1ae10a459b3686638e04aa6e2e124f32781c0"
  },
  "language_info": {
   "codemirror_mode": {
    "name": "ipython",
    "version": 3
   },
   "file_extension": ".py",
   "mimetype": "text/x-python",
   "name": "python",
   "nbconvert_exporter": "python",
   "pygments_lexer": "ipython3",
   "version": "3.8.11"
  },
  "latex_envs": {
   "LaTeX_envs_menu_present": true,
   "autoclose": false,
   "autocomplete": true,
   "bibliofile": "biblio.bib",
   "cite_by": "apalike",
   "current_citInitial": 1,
   "eqLabelWithNumbers": true,
   "eqNumInitial": 1,
   "hotkeys": {
    "equation": "Ctrl-E",
    "itemize": "Ctrl-I"
   },
   "labels_anchors": false,
   "latex_user_defs": false,
   "report_style_numbering": false,
   "user_envs_cfg": false
  }
 },
 "nbformat": 4,
 "nbformat_minor": 5
}
