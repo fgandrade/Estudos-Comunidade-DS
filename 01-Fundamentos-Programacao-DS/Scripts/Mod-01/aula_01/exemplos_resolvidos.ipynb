{
 "cells": [
  {
   "cell_type": "markdown",
   "id": "356cb35d",
   "metadata": {
    "heading_collapsed": true
   },
   "source": [
    "# Exemplo - Raciocínio Lógico"
   ]
  },
  {
   "cell_type": "markdown",
   "id": "96a0f0d7",
   "metadata": {
    "heading_collapsed": true,
    "hidden": true
   },
   "source": [
    "## Problema"
   ]
  },
  {
   "cell_type": "markdown",
   "id": "e9e8107f",
   "metadata": {
    "ExecuteTime": {
     "end_time": "2021-09-23T01:15:31.266217Z",
     "start_time": "2021-09-23T01:15:31.260904Z"
    },
    "hidden": true
   },
   "source": [
    "Problema \n",
    "Em uma empresa trabalham 3 pessoas: Alice, Clara e Bianca. As três têm gostos de gênero distintos de filmes. Uma delas gosta de terror, outra gosta de ação e a outra gosta de romance. As três realizam trabalhos distintos. Uma delas Recupera os Dados, a outra faz EDA e a outra faz Monta Modelos de ML.\n",
    " \n",
    "A pessoa que gosta de filmes de terror disse: Não Monto Modelos de ML nem Recupero Dados\n",
    "A pessoa que gosta de filmes de ação disse: Meu nome não é Clara nem Bianca\n",
    "A pessoa que gosta de filmes de romance disse: Nem eu e nem Clara Montamos Modelos de ML.\n",
    " \n",
    "Qual o Nome e o Trabalho que cada pessoa realiza?"
   ]
  },
  {
   "cell_type": "markdown",
   "id": "111dc674",
   "metadata": {
    "ExecuteTime": {
     "end_time": "2021-09-23T01:18:10.271290Z",
     "start_time": "2021-09-23T01:18:10.267092Z"
    },
    "heading_collapsed": true,
    "hidden": true
   },
   "source": [
    "## Análise"
   ]
  },
  {
   "cell_type": "markdown",
   "id": "e21d12c5",
   "metadata": {
    "hidden": true
   },
   "source": [
    "Em uma empresa trabalham 3 pessoas: Alice, Clara e Bianca.  \n",
    "As três têm gostos de gênero distintos de filmes. Uma delas gosta de terror, outra gosta de ação e a outra gosta de romance.  \n",
    "As três realizam trabalhos distintos. Uma delas Recupera os Dados, a outra faz EDA e a outra faz Monta Modelos de ML.  \n",
    "A pessoa que gosta de filmes de terror disse: Não Monto Modelos de ML nem Recupero Dados  \n",
    "A pessoa que gosta de filmes de ação disse: Meu nome não é Clara nem Bianca  \n",
    "A pessoa que gosta de filmes de romance disse: Nem eu e nem Clara Montamos Modelos de ML.  \n",
    "Qual o nome e o trabalho que cada uma das pessoas realiza?   "
   ]
  },
  {
   "cell_type": "markdown",
   "id": "726b8569",
   "metadata": {
    "heading_collapsed": true,
    "hidden": true
   },
   "source": [
    "## Implicações / Proposições / Afirmações"
   ]
  },
  {
   "cell_type": "markdown",
   "id": "77884643",
   "metadata": {
    "hidden": true
   },
   "source": [
    "* Existem 3 Pessoas: Alice, Clara e Bianca \n",
    "* Existem 3 categorias de filmes: Terror, Ação e Romance. \n",
    "* Existem 3 trabalhos: Recuperação de Dados, EDA e Modelagem de ML\n",
    "* Cada uma das pessoas realiza um trabalho distinto. \n",
    "* Cada uma das pessoas gosta de um gênero de filme distinto. \n",
    "* Quem gosta de Filmes de Terror Não Monta Modelos de ML.\n",
    "* Quem gosta de Filmes de terror não Recupera dados\n",
    "* Quem gosta de Filmes de Ação não é a Clara\n",
    "* Quem gosta de Filmes de Ação não é a Bianca\n",
    "* Quem gosta de Filmes de Romance não Monta Modelos de ML.\n",
    "* Quem gosta de Filmes de Romance não é a Clara\n",
    "* Clara não Monta Modelos de ML"
   ]
  },
  {
   "cell_type": "markdown",
   "id": "719448b9",
   "metadata": {
    "heading_collapsed": true,
    "hidden": true
   },
   "source": [
    "## Resolução"
   ]
  },
  {
   "cell_type": "markdown",
   "id": "e6981313",
   "metadata": {
    "hidden": true
   },
   "source": [
    "| Filme x Trabalho | Recuperação de Dados | EDA | Modelagem de ML \n",
    "| :--------------: | :------------------: | :-: | :-------------: \n",
    "| Terror  | F | V | F \n",
    "| Ação    | F | F | V \n",
    "| Romance | V | F | F "
   ]
  },
  {
   "cell_type": "markdown",
   "id": "e7fb9a64",
   "metadata": {
    "hidden": true
   },
   "source": [
    "| Filme x Pessoa | Alice | Clara | Bianca |\n",
    "|:--------------:|:-----:|:-----:|:------:|\n",
    "| Terror  | F | V | F |\n",
    "| Ação    | V | F | F |\n",
    "| Romance | F | F | V |"
   ]
  },
  {
   "cell_type": "markdown",
   "id": "d272cafe",
   "metadata": {
    "hidden": true
   },
   "source": [
    "| Pessoa x Trabalho | Recuperação de Dados | EDA | Modelagem de ML |\n",
    "|:-----------------:|:--------------------:|:---:|:---------------:|\n",
    "| Alice  | F | F | V |\n",
    "| Clara  | F | V | F |\n",
    "| Bianca | V | F | F |"
   ]
  },
  {
   "cell_type": "markdown",
   "id": "ea950272",
   "metadata": {
    "heading_collapsed": true,
    "hidden": true
   },
   "source": [
    "## Resposta"
   ]
  },
  {
   "cell_type": "markdown",
   "id": "be26fa39",
   "metadata": {
    "hidden": true
   },
   "source": [
    "Alice gosta de filmes de Ação e Modelagem de ML.  \n",
    "Clara gosta de Filmes de Terror e faz EDA  \n",
    "Bianca gosta de filmes de Romance e faz Recuperação de Dados.  \n",
    "\n",
    "Portanto, Alice faz Modelagem de ML, Clara faz EDA e Bianca Recupera os Dados\n"
   ]
  },
  {
   "cell_type": "markdown",
   "id": "5fcbaa69",
   "metadata": {
    "heading_collapsed": true
   },
   "source": [
    "# Exemplo - Estrutura IF"
   ]
  },
  {
   "cell_type": "markdown",
   "id": "bab759fd",
   "metadata": {
    "heading_collapsed": true,
    "hidden": true
   },
   "source": [
    "## Problema"
   ]
  },
  {
   "cell_type": "markdown",
   "id": "8edcfa83",
   "metadata": {
    "ExecuteTime": {
     "end_time": "2021-09-25T18:59:10.528659Z",
     "start_time": "2021-09-25T18:59:10.519979Z"
    },
    "hidden": true
   },
   "source": [
    "Escreva uma aplicação que recebe três números e retorna a soma deles. Porém se houver números repetidos o valor dos números repetidos não é contabilizado. \n",
    "Por exemplo, na entrada (1,2,3) a resposta é 6, na entrada (3,2,3) a resposta é 2 e na entrada (3,3,3) a resposta é 0. "
   ]
  },
  {
   "cell_type": "markdown",
   "id": "c7e9200e",
   "metadata": {
    "heading_collapsed": true,
    "hidden": true
   },
   "source": [
    "## Resolução"
   ]
  },
  {
   "cell_type": "code",
   "execution_count": 3,
   "id": "24fbc1ea",
   "metadata": {
    "ExecuteTime": {
     "end_time": "2021-09-25T19:00:02.307391Z",
     "start_time": "2021-09-25T18:59:58.955395Z"
    },
    "hidden": true
   },
   "outputs": [
    {
     "name": "stdout",
     "output_type": "stream",
     "text": [
      "Digite primeiro número: 2\n",
      "Digite segundo número: 2\n",
      "Digite terceiro número: 3\n"
     ]
    }
   ],
   "source": [
    "num1 = int(input(\"Digite primeiro número: \"))\n",
    "num2 = int(input(\"Digite segundo número: \"))\n",
    "num3 = int(input(\"Digite terceiro número: \"))"
   ]
  },
  {
   "cell_type": "code",
   "execution_count": 6,
   "id": "1eecd9f8",
   "metadata": {
    "ExecuteTime": {
     "end_time": "2021-09-25T19:01:33.296566Z",
     "start_time": "2021-09-25T19:01:33.292827Z"
    },
    "hidden": true
   },
   "outputs": [
    {
     "name": "stdout",
     "output_type": "stream",
     "text": [
      "3\n"
     ]
    }
   ],
   "source": [
    "# Resolução aqui\n",
    "\n",
    "# Variável que guardará o Valor da Soma\n",
    "soma = 0\n",
    "\n",
    "if num1 != num2:\n",
    "    # se num1 diferente dos outros dois, entra na soma\n",
    "    if num1 != num3:\n",
    "        soma = soma + num1\n",
    "        \n",
    "        # se num2 que é diferente de num1 e também for de num3, entra o trio na soma\n",
    "        if num2 != num3:\n",
    "            soma = soma + num2 + num3\n",
    "   \n",
    "    # se num1 diferente de num2 mas igual a num3, apenas num2 entra na soma\n",
    "    else:\n",
    "        soma = soma + num2\n",
    "else:\n",
    "    # se num1 que é igual a num2 for diferente de num3, apenas num3 entra na soma\n",
    "    if num1 != num3:\n",
    "        soma = soma + num3\n",
    "\n",
    "print(soma)"
   ]
  }
 ],
 "metadata": {
  "kernelspec": {
   "display_name": "Python 3 (ipykernel)",
   "language": "python",
   "name": "python3"
  },
  "language_info": {
   "codemirror_mode": {
    "name": "ipython",
    "version": 3
   },
   "file_extension": ".py",
   "mimetype": "text/x-python",
   "name": "python",
   "nbconvert_exporter": "python",
   "pygments_lexer": "ipython3",
   "version": "3.9.7"
  },
  "latex_envs": {
   "LaTeX_envs_menu_present": true,
   "autoclose": false,
   "autocomplete": true,
   "bibliofile": "biblio.bib",
   "cite_by": "apalike",
   "current_citInitial": 1,
   "eqLabelWithNumbers": true,
   "eqNumInitial": 1,
   "hotkeys": {
    "equation": "Ctrl-E",
    "itemize": "Ctrl-I"
   },
   "labels_anchors": false,
   "latex_user_defs": false,
   "report_style_numbering": false,
   "user_envs_cfg": false
  }
 },
 "nbformat": 4,
 "nbformat_minor": 5
}
