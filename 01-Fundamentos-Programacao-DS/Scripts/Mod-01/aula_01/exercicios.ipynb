{
 "cells": [
  {
   "cell_type": "markdown",
   "id": "356cb35d",
   "metadata": {
    "heading_collapsed": true
   },
   "source": [
    "# Exercício 1.0 - Raciocínio Lógico"
   ]
  },
  {
   "cell_type": "markdown",
   "id": "96a0f0d7",
   "metadata": {
    "heading_collapsed": true,
    "hidden": true
   },
   "source": [
    "## Problema"
   ]
  },
  {
   "cell_type": "markdown",
   "id": "e9e8107f",
   "metadata": {
    "ExecuteTime": {
     "end_time": "2021-09-23T01:15:31.266217Z",
     "start_time": "2021-09-23T01:15:31.260904Z"
    },
    "hidden": true
   },
   "source": [
    "Em uma escola estudam quatro amigas: Raquel, Vivian, Bruna e Ana. Em um dia ensolarado, elas se reuniram para passear em um parque. Cada uma delas utilizou uma camiseta de cor diferente: Branco, Azul, Amarelo e Verde. Além disso, cada uma passou um protetor com fator de proteção (FPS) diferente. Cada uma delas tem um animal de estimação diferente e gosta de um suco diferente, além de possuírem idades diferentes.  \n",
    "Todas elas sentaram em um banco de 4 lugares, cada uma ocupando um lugar diferente.  \n",
    "Na terceira posição do banco está a garota que tem um Cachorro.  \n",
    "Quem tem um Peixe está em uma das pontas do banco.  \n",
    "A garota que tem um Gato está na primeira posição do banco.  \n",
    "Ana usou o protetor solar de FPS 50.  \n",
    "Na segunda posição está a garota que usou o protetor solar com FPS 55.  \n",
    "A garota mais nova está ao lado da que usa protetor solar de menor FPS.  \n",
    "Quem gosta de suco de Morango está na quarta posição do banco.  \n",
    "A garota que gosta de suco de Maracujá está ao lado da que tem Pássaros.  \n",
    "A garota que gosta de suco de Limão está ao lado da que gosta de suco de Maracujá.  \n",
    "Quem gosta de suco de Laranja está em uma das pontas.  \n",
    "A garota de camiseta Azul está em algum lugar à esquerda da garota de 9 anos.  \n",
    "A garota de 8 anos está na quarta posição.  \n",
    "A garota de 11 anos está em uma das pontas.  \n",
    "Vivian tem Pássaros.  \n",
    "Raquel está na primeira posição.  \n",
    "A garota de camiseta Verde está na quarta posição do banco.  \n",
    "A garota de camiseta Branca está em uma das pontas.  \n",
    "A garota de 10 anos está ao lado da garota de 11.  \n",
    "A garota que usou o protetor solar de FPS 40 gosta de suco de Maracujá.  \n",
    "A garota que usou o protetor solar de FPS 45 está em uma das pontas do banco.  \n",
    "Bruna tem Cachorros.  \n",
    "\n",
    "Qual a característica (cor da camiseta, animal de estimação, protetor solar que utilizou, suco que gosta, nome e idade) de cada uma das garotas?\n"
   ]
  },
  {
   "cell_type": "markdown",
   "id": "111dc674",
   "metadata": {
    "ExecuteTime": {
     "end_time": "2021-09-23T01:18:10.271290Z",
     "start_time": "2021-09-23T01:18:10.267092Z"
    },
    "heading_collapsed": true,
    "hidden": true
   },
   "source": [
    "## Análise"
   ]
  },
  {
   "cell_type": "markdown",
   "id": "e21d12c5",
   "metadata": {
    "hidden": true
   },
   "source": [
    "Em uma escola estudam quatro amigas: Raquel, Vivian, Bruna e Ana. <br>\n",
    "camiseta de cor diferente: Branco, Azul, Amarelo e Verde. <br>\n",
    "cada uma passou um protetor com fator de proteção (FPS) diferente. <br>\n",
    "Cada uma delas tem um animal de estimação diferente. <br>\n",
    "Cada uma delas gosta de um suco diferente. <br>\n",
    "Cada uma delas possui idade diferente. <br>\n",
    "Todas elas sentaram em um banco de 4 lugares, cada uma ocupando um lugar diferente. <br>\n",
    "Na terceira posição do banco está a garota que tem um Cachorro. <br>\n",
    "Quem tem um Peixe está em uma das pontas do banco(Primeira ou Quarta). <br>\n",
    "A garota que tem um Gato está na primeira posição do banco. <br>\n",
    "Ana usou o protetor solar de FPS 50. <br>\n",
    "Na segunda posição está a garota que usou o protetor solar com FPS 55. <br>\n",
    "A garota mais nova está ao lado da que usa protetor solar de menor FPS. <br>\n",
    "Quem gosta de suco de Morango está na quarta posição do banco. <br>\n",
    "A garota que gosta de suco de Maracujá está ao lado da que tem Pássaros. <br>\n",
    "A garota que gosta de suco de Limão está ao lado da que gosta de suco de Maracujá. <br>\n",
    "Quem gosta de suco de Laranja está em uma das pontas. <br>\n",
    "A garota de camiseta Azul está em algum lugar à esquerda da garota de 9 anos. <br>\n",
    "A garota de 8 anos está na quarta posição. <br>\n",
    "A garota de 11 anos está em uma das pontas. <br>\n",
    "Vivian tem Pássaros. <br>\n",
    "Raquel está na primeira posição. <br>\n",
    "A garota de camiseta Verde está na quarta posição do banco. <br>\n",
    "A garota de camiseta Branca está em uma das pontas. <br>\n",
    "A garota de 10 anos está ao lado da garota de 11. <br>\n",
    "A garota que usou o protetor solar de FPS 40 gosta de suco de Maracujá. <br>\n",
    "A garota que usou o protetor solar de FPS 45 está em uma das pontas do banco. <br>\n",
    "Bruna tem Cachorros. <br>\n",
    "\n",
    "Qual a característica (cor da camiseta, animal de estimação, protetor solar que utilizou, suco que gosta, nome e idade) de cada uma das garotas?"
   ]
  },
  {
   "cell_type": "markdown",
   "id": "726b8569",
   "metadata": {
    "heading_collapsed": true,
    "hidden": true
   },
   "source": [
    "## Implicações / Proposições / Afirmações"
   ]
  },
  {
   "cell_type": "markdown",
   "id": "77884643",
   "metadata": {
    "hidden": true
   },
   "source": [
    "* Existem 4 amigas: Raquel, Vivian, Bruna e Ana. <br>\n",
    "* Existem 4 camisetas: Branco, Azul, Amarelo e Verde. <br>\n",
    "* Exitem 4 protetores solares com fator de proteção diferentes: FPS 40, FPS 45, FPS 50 e FPS 55. <br>\n",
    "* Existem 4 animais de estimação diferente: Cachorro, Peixe, Gato e Pássaros.  <br>\n",
    "* Existem 4 sucos diferentes: Morango, Maracujá, Limão e Laranja. <br>\n",
    "* Cada uma tem idade diferente: 8 anos, 9 anos, 10 anos e 11 anos.  <br>\n",
    "* Existe um banco com 4 assentos, cada uma estando em um. <br>\n",
    "* Na terceira posição do banco está a garota que tem um Cachorro. <br>\n",
    "* Quem tem um Peixe está em uma das pontas do banco(pode ser na Primeira ou Quarta). <br>\n",
    "* A garota que tem um Gato está na primeira posição do banco. <br>\n",
    "* Ana usou o protetor solar de FPS 50. <br>\n",
    "* Na segunda posição está a garota que usou o protetor solar com FPS 55. <br>\n",
    "* A garota mais nova está ao lado da que usa protetor solar de menor FPS. <br>\n",
    "* Quem gosta de suco de Morango está na quarta posição do banco. <br>\n",
    "* A garota que gosta de suco de Maracujá está ao lado da que tem Pássaros. <br>\n",
    "* A garota que gosta de suco de Limão está ao lado da que gosta de suco de Maracujá. <br>\n",
    "* Quem gosta de suco de Laranja está em uma das pontas(pode ser na Primeira ou Quarta). <br>\n",
    "* A garota de camiseta Azul está em algum lugar à esquerda da garota de 9 anos. <br>\n",
    "* A garota de 8 anos está na quarta posição.A garota de 8 anos está na quarta posição. <br>\n",
    "* A garota de 11 anos está em uma das pontas(pode ser na Primeira ou Quarta). <br>\n",
    "* Vivian tem Pássaros. <br>\n",
    "* Raquel está na primeira posição. <br>\n",
    "* A garota de camiseta Verde está na quarta posição do banco. <br>\n",
    "* A garota de camiseta Branca está em uma das pontas. <br>\n",
    "* A garota de 10 anos está ao lado da garota de 11. <br>\n",
    "* A garota que usou o protetor solar de FPS 40 gosta de suco de Maracujá. <br>\n",
    "* A garota que usou o protetor solar de FPS 45 está em uma das pontas do banco. <br>\n",
    "* Bruna tem Cachorros."
   ]
  },
  {
   "cell_type": "markdown",
   "id": "719448b9",
   "metadata": {
    "heading_collapsed": true,
    "hidden": true
   },
   "source": [
    "## Resolução"
   ]
  },
  {
   "cell_type": "markdown",
   "id": "6e40eae1",
   "metadata": {},
   "source": [
    "1 RAQUEL<br>\n",
    "A garota que tem um Gato está na primeira posição do banco. <br>\n",
    "A garota de camiseta Branca está em uma das pontas pode ser na Primeira ou Quarta). <br>\n",
    "Raquel está na primeira posição. <br>\n",
    "Quem gosta de suco de Laranja está em uma das pontas(pode ser na Primeira ou Quarta). <br>\n",
    "A garota de 11 anos está em uma das pontas(pode ser na Primeira ou Quarta). <br>\n",
    "A garota que usou o protetor solar de FPS 45 está em uma das pontas do banco. <br>\n",
    "\n",
    "2 VIVIAN <br>\n",
    "Vivian tem Pássaros. <br>\n",
    "Na segunda posição está a garota que usou o protetor solar com FPS 55. <br>\n",
    "A garota que gosta de suco de Limão está ao lado da que gosta de suco de Maracujá. <br>\n",
    "A garota de 10 anos está ao lado da garota de 11. <br>\n",
    "A garota de camiseta Azul está em algum lugar à esquerda da garota de 9 anos. <br>\n",
    "\n",
    "3 BRUNA <br>\n",
    "Bruna tem Cachorros.<br>\n",
    "Na terceira posição do banco está a garota que tem um Cachorro. <br>\n",
    "A garota que gosta de suco de Maracujá está ao lado da que tem Pássaros. <br>\n",
    "A garota que usou o protetor solar de FPS 40 gosta de suco de Maracujá <br>\n",
    "Tem 9 anos. <br>\n",
    "\n",
    "4 ANA <br>\n",
    "Ana usou o protetor solar de FPS 50.<br>\n",
    "Quem tem um Peixe está em uma das pontas do banco(pode ser na Primeira ou Quarta).<br>\n",
    "A garota de camiseta Verde está na quarta posição do banco.<br>\n",
    "Quem gosta de suco de Morango está na quarta posição do banco.<br>\n",
    "A garota de 8 anos está na quarta posição<br>\n"
   ]
  },
  {
   "cell_type": "markdown",
   "id": "e6981313",
   "metadata": {
    "hidden": true
   },
   "source": [
    "Pessoa x Cor Camiseta\n",
    "\n",
    "| Pessoa x Cor Camiseta | Branco   | Azul     | Amarelo  | Verde    |\n",
    "| :-------------------: | :------: | :------: | :------: | :------: |\n",
    "| Raquel                | V        | F        | F        | F        |\n",
    "| Vivian                | F        | V        | F        | F        |\n",
    "| Bruna                 | F        | F        | V        | F        |\n",
    "| Ana                   | F        | F        | F        | V        |"
   ]
  },
  {
   "cell_type": "markdown",
   "id": "06736b37",
   "metadata": {
    "hidden": true
   },
   "source": [
    "Pessoa x Animal\n",
    "\n",
    "| Pessoa x Animal       | Cachorro | Peixe    | Gato     | Pássaro  |\n",
    "| :-------------------: | :------: | :------: | :------: | :------: |\n",
    "| Raquel                | F        | F        | V        | F        |\n",
    "| Vivian                | F        | F        | F        | V        |\n",
    "| Bruna                 | V        | F        | F        | F        |\n",
    "| Ana                   | F        | V        | F        | F        |"
   ]
  },
  {
   "cell_type": "markdown",
   "id": "38d516a8",
   "metadata": {
    "hidden": true
   },
   "source": [
    "Pessoa x Protetor Solar\n",
    "\n",
    "| Pessoa x Protetor Solar | FPS 40   | FPS 45   | FPS 50   | FPS 55   |\n",
    "| :---------------------: | :------: | :------: | :------: | :------: |\n",
    "| Raquel                  | F        | V        | F        | F        |\n",
    "| Vivian                  | F        | F        | F        | V        |\n",
    "| Bruna                   | V        | F        | F        | F        |\n",
    "| Ana                     | F        | F        | V        | F        |"
   ]
  },
  {
   "cell_type": "markdown",
   "id": "bc618f35",
   "metadata": {
    "hidden": true
   },
   "source": [
    "Pessoa x Suco\n",
    "\n",
    "| Pessoa x Suco           | Morango  | Maracujá | Limão    | Laranja  |\n",
    "| :---------------------: | :------: | :------: | :------: | :------: |\n",
    "| Raquel                  | F        | F        | F        | V        |\n",
    "| Vivian                  | F        | F        | V        | F        |\n",
    "| Bruna                   | F        | V        | F        | F        |\n",
    "| Ana                     | V        | F        | F        | F        |"
   ]
  },
  {
   "cell_type": "markdown",
   "id": "56cf0081",
   "metadata": {
    "hidden": true
   },
   "source": [
    "Pessoa x Idade\n",
    "\n",
    "| Pessoa x Idade          | 8 anos   | 9 anos   | 10 anos  | 11 anos  |\n",
    "| :---------------------: | :------: | :------: | :------: | :------: |\n",
    "| Raquel                  | F        | F        | F        | V        |\n",
    "| Vivian                  | F        | F        | V        | F        |\n",
    "| Bruna                   | F        | V        | F        | F        |\n",
    "| Ana                     | V        | F        | F        | F        |"
   ]
  },
  {
   "cell_type": "markdown",
   "id": "5a8bc0fd",
   "metadata": {
    "hidden": true
   },
   "source": [
    "Pessoa x Banco\n",
    "\n",
    "| Pessoa x Banco          | 1        | 2        | 3        | 4        |\n",
    "| :---------------------: | :------: | :------: | :------: | :------: |\n",
    "| Raquel                  | V        | F        | F        | F        |\n",
    "| Vivian                  | F        | V        | F        | F        |\n",
    "| Bruna                   | F        | F        | V        | F        |\n",
    "| Ana                     | F        | F        | F        | V        |"
   ]
  },
  {
   "cell_type": "markdown",
   "id": "e6039c9b",
   "metadata": {
    "heading_collapsed": true,
    "hidden": true
   },
   "source": [
    "## Resposta"
   ]
  },
  {
   "cell_type": "markdown",
   "id": "6777ad45",
   "metadata": {
    "hidden": true
   },
   "source": [
    "| Características x Banco | Posição 1 | Posição 2 | Posição 3 | Posição 4 | \n",
    "| :---------------: | :-: | :-: | :-: | :-: | \n",
    "| Nome     | Raquel  | Vivian  | Bruna    | Ana |\n",
    "| Animal   | Gato    | Pássaro | Cachorro | Peixe |\n",
    "| Idade    | 11      | 10      | 9        | 8 |\n",
    "| Suco     | Laranja | Limão   | Maracujá | Morango |\n",
    "| Camiseta | Branco  | Azul    | Amarelo  | Verde |\n",
    "| Protetor | 45      | 55      | 40       | 50 |"
   ]
  },
  {
   "cell_type": "markdown",
   "id": "96ad9c04",
   "metadata": {
    "heading_collapsed": true
   },
   "source": [
    "# Exercício 2.0 - Estrutura IF"
   ]
  },
  {
   "cell_type": "markdown",
   "id": "1e06d3df",
   "metadata": {
    "heading_collapsed": true,
    "hidden": true
   },
   "source": [
    "## Problema"
   ]
  },
  {
   "cell_type": "markdown",
   "id": "aad3c3fa",
   "metadata": {
    "ExecuteTime": {
     "end_time": "2021-09-25T18:59:10.528659Z",
     "start_time": "2021-09-25T18:59:10.519979Z"
    },
    "hidden": true
   },
   "source": [
    "Elimine os testes redundantes dos itens abaixo:"
   ]
  },
  {
   "cell_type": "markdown",
   "id": "b015d263",
   "metadata": {
    "heading_collapsed": true,
    "hidden": true
   },
   "source": [
    "### a) \n",
    "```python\n",
    "if (a > b):\n",
    "    print(f'Maior {a}')\n",
    "else:\n",
    "    if (b >= a):\n",
    "        print(f'Maior {b}')\n",
    "```"
   ]
  },
  {
   "cell_type": "markdown",
   "id": "5618cb1b",
   "metadata": {
    "heading_collapsed": true,
    "hidden": true
   },
   "source": [
    "#### Resposta"
   ]
  },
  {
   "cell_type": "code",
   "execution_count": 1,
   "id": "0671c10a",
   "metadata": {
    "ExecuteTime": {
     "end_time": "2021-09-25T19:31:46.232440Z",
     "start_time": "2021-09-25T19:31:46.229849Z"
    },
    "collapsed": true,
    "hidden": true
   },
   "outputs": [
    {
     "ename": "NameError",
     "evalue": "name 'b' is not defined",
     "output_type": "error",
     "traceback": [
      "\u001b[0;31m---------------------------------------------------------------------------\u001b[0m",
      "\u001b[0;31mNameError\u001b[0m                                 Traceback (most recent call last)",
      "\u001b[0;32m/tmp/ipykernel_5581/908300606.py\u001b[0m in \u001b[0;36m<module>\u001b[0;34m\u001b[0m\n\u001b[1;32m      1\u001b[0m \u001b[0;31m# Resolução aqui\u001b[0m\u001b[0;34m\u001b[0m\u001b[0;34m\u001b[0m\u001b[0m\n\u001b[0;32m----> 2\u001b[0;31m \u001b[0;32mif\u001b[0m \u001b[0;34m(\u001b[0m\u001b[0mb\u001b[0m \u001b[0;34m>=\u001b[0m \u001b[0ma\u001b[0m\u001b[0;34m)\u001b[0m\u001b[0;34m:\u001b[0m\u001b[0;34m\u001b[0m\u001b[0;34m\u001b[0m\u001b[0m\n\u001b[0m\u001b[1;32m      3\u001b[0m     \u001b[0mprint\u001b[0m\u001b[0;34m(\u001b[0m\u001b[0;34mf'Maior {b}'\u001b[0m\u001b[0;34m)\u001b[0m\u001b[0;34m\u001b[0m\u001b[0;34m\u001b[0m\u001b[0m\n\u001b[1;32m      4\u001b[0m \u001b[0;32melse\u001b[0m\u001b[0;34m:\u001b[0m\u001b[0;34m\u001b[0m\u001b[0;34m\u001b[0m\u001b[0m\n\u001b[1;32m      5\u001b[0m     \u001b[0mprint\u001b[0m\u001b[0;34m(\u001b[0m\u001b[0;34mf'Maior {a}'\u001b[0m\u001b[0;34m)\u001b[0m\u001b[0;34m\u001b[0m\u001b[0;34m\u001b[0m\u001b[0m\n",
      "\u001b[0;31mNameError\u001b[0m: name 'b' is not defined"
     ]
    }
   ],
   "source": [
    "# Resolução aqui\n",
    "if (b >= a):\n",
    "    print(f'Maior {b}')\n",
    "else:\n",
    "    print(f'Maior {a}')"
   ]
  },
  {
   "cell_type": "markdown",
   "id": "5d79510f",
   "metadata": {
    "heading_collapsed": true,
    "hidden": true
   },
   "source": [
    "### b)\n",
    "```python\n",
    "if (x > 10):\n",
    "    print(f'Valor maior que 10')\n",
    "else:\n",
    "    if (x <= 10 and x > 5):\n",
    "        print(f'Menor ou igual a 10 e maior que 5')\n",
    "    else:\n",
    "        if (x <= 5):\n",
    "            print(f'Menor ou igual a 5')\n",
    "```"
   ]
  },
  {
   "cell_type": "markdown",
   "id": "0111ae93",
   "metadata": {
    "hidden": true
   },
   "source": [
    "#### Reposta"
   ]
  },
  {
   "cell_type": "code",
   "execution_count": null,
   "id": "2edeaddf",
   "metadata": {
    "hidden": true
   },
   "outputs": [],
   "source": [
    "# Resolução aqui\n",
    "if (x <= 5):\n",
    "    print(f'Menor ou igual a 5')\n",
    "elif(x <= 10 and x > 5):\n",
    "    print(f'Menor ou igual a 10 e maior que 5')\n",
    "else:\n",
    "    print(f'Valor maior que 10')"
   ]
  }
 ],
 "metadata": {
  "kernelspec": {
   "display_name": "Python 3 (ipykernel)",
   "language": "python",
   "name": "python3"
  },
  "language_info": {
   "codemirror_mode": {
    "name": "ipython",
    "version": 3
   },
   "file_extension": ".py",
   "mimetype": "text/x-python",
   "name": "python",
   "nbconvert_exporter": "python",
   "pygments_lexer": "ipython3",
   "version": "3.9.7"
  },
  "latex_envs": {
   "LaTeX_envs_menu_present": true,
   "autoclose": false,
   "autocomplete": true,
   "bibliofile": "biblio.bib",
   "cite_by": "apalike",
   "current_citInitial": 1,
   "eqLabelWithNumbers": true,
   "eqNumInitial": 1,
   "hotkeys": {
    "equation": "Ctrl-E",
    "itemize": "Ctrl-I"
   },
   "labels_anchors": false,
   "latex_user_defs": false,
   "report_style_numbering": false,
   "user_envs_cfg": false
  }
 },
 "nbformat": 4,
 "nbformat_minor": 5
}
