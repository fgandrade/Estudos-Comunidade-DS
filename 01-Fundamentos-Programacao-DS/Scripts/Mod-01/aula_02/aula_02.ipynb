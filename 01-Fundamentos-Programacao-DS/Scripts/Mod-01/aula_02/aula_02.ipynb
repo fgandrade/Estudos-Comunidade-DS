{
 "cells": [
  {
   "cell_type": "markdown",
   "id": "f66f5ab2",
   "metadata": {
    "heading_collapsed": true
   },
   "source": [
    "# COMANDOS AUXILIARES"
   ]
  },
  {
   "cell_type": "markdown",
   "id": "dfc707ff",
   "metadata": {
    "heading_collapsed": true,
    "hidden": true
   },
   "source": [
    "## Declaração de Variáveis Auxiliares"
   ]
  },
  {
   "cell_type": "code",
   "execution_count": 2,
   "id": "5b9cc19e",
   "metadata": {
    "ExecuteTime": {
     "end_time": "2021-10-28T00:14:40.350972Z",
     "start_time": "2021-10-28T00:14:40.348965Z"
    },
    "hidden": true
   },
   "outputs": [],
   "source": [
    "soma = 0\n",
    "a = 1\n",
    "b = 1"
   ]
  },
  {
   "cell_type": "markdown",
   "id": "01f00a92",
   "metadata": {
    "heading_collapsed": true
   },
   "source": [
    "# FUNDAMENTOS BÁSICOS"
   ]
  },
  {
   "cell_type": "markdown",
   "id": "0d444a54",
   "metadata": {
    "heading_collapsed": true,
    "hidden": true
   },
   "source": [
    "## Comentários"
   ]
  },
  {
   "cell_type": "markdown",
   "id": "4fa83b0c",
   "metadata": {
    "hidden": true
   },
   "source": [
    "Basicamente existem duas maneiras de fazermos comentários no Python: Comentário de Linha e Comentário de Bloco.\n",
    "\n",
    "Comentários não são lidos/executados pelo interpretador\n",
    "\n",
    "Além disso, temos também comentários de documentação. Comentários de Documentação são utilizados para descrever o que uma função ou classe fará, e eles seguem a mesma idéia dos comentários, ou seja, temos comentários de documentação de bloco e de linha"
   ]
  },
  {
   "cell_type": "markdown",
   "id": "8b0a6823",
   "metadata": {
    "heading_collapsed": true,
    "hidden": true
   },
   "source": [
    "### Comentário de Linha"
   ]
  },
  {
   "cell_type": "markdown",
   "id": "fa22e3d3",
   "metadata": {
    "ExecuteTime": {
     "end_time": "2021-09-23T01:02:26.368581Z",
     "start_time": "2021-09-23T01:02:26.352930Z"
    },
    "hidden": true
   },
   "source": [
    "`soma = a + b  # Comentário de Linha`"
   ]
  },
  {
   "cell_type": "code",
   "execution_count": 3,
   "id": "0eb825cf",
   "metadata": {
    "ExecuteTime": {
     "end_time": "2021-09-26T16:05:54.657269Z",
     "start_time": "2021-09-26T16:05:54.650942Z"
    },
    "hidden": true
   },
   "outputs": [
    {
     "data": {
      "text/plain": [
       "2"
      ]
     },
     "execution_count": 3,
     "metadata": {},
     "output_type": "execute_result"
    }
   ],
   "source": [
    "soma = a + b # Comentarios de Linha\n",
    "soma"
   ]
  },
  {
   "cell_type": "markdown",
   "id": "ce7c1c96",
   "metadata": {
    "heading_collapsed": true,
    "hidden": true
   },
   "source": [
    "### Comentário de Bloco"
   ]
  },
  {
   "cell_type": "markdown",
   "id": "b37b230e",
   "metadata": {
    "ExecuteTime": {
     "end_time": "2021-09-23T01:02:27.297900Z",
     "start_time": "2021-09-23T01:02:27.265909Z"
    },
    "hidden": true
   },
   "source": [
    "`# Este é um exemplo de comentário de`  \n",
    "`# bloco. Cada linha contém um símbolo de`  \n",
    "`# \"jogo da velha\" separado por um espaço`  \n",
    "`# do conteúdo de desejamos escrever`  \n",
    "`soma = a + b`"
   ]
  },
  {
   "cell_type": "code",
   "execution_count": 4,
   "id": "afe61e33",
   "metadata": {
    "ExecuteTime": {
     "end_time": "2021-09-26T16:06:15.997967Z",
     "start_time": "2021-09-26T16:06:15.994796Z"
    },
    "hidden": true
   },
   "outputs": [
    {
     "data": {
      "text/plain": [
       "2"
      ]
     },
     "execution_count": 4,
     "metadata": {},
     "output_type": "execute_result"
    }
   ],
   "source": [
    "# Este é um exemplo de comentário de\n",
    "# bloco. Cada linha contém um símbolo de\n",
    "# \"jogo da velha\" separado por um espaço\n",
    "# do conteúdo de desejamos escrever\n",
    "soma = a + b\n",
    "soma"
   ]
  },
  {
   "cell_type": "markdown",
   "id": "56cceb0e",
   "metadata": {
    "heading_collapsed": true,
    "hidden": true
   },
   "source": [
    "### Documentação"
   ]
  },
  {
   "cell_type": "markdown",
   "id": "538a261d",
   "metadata": {
    "heading_collapsed": true,
    "hidden": true
   },
   "source": [
    "#### Documentação de Linha"
   ]
  },
  {
   "cell_type": "markdown",
   "id": "ea011eef",
   "metadata": {
    "hidden": true
   },
   "source": [
    "`def soma(a, b):`  \n",
    "&emsp;`\"\"\"Exemplo de Documentação de linha.\"\"\"`"
   ]
  },
  {
   "cell_type": "code",
   "execution_count": 5,
   "id": "91784dcf",
   "metadata": {
    "ExecuteTime": {
     "end_time": "2021-09-26T16:06:41.701137Z",
     "start_time": "2021-09-26T16:06:41.698632Z"
    },
    "hidden": true
   },
   "outputs": [],
   "source": [
    "def soma(a, b):\n",
    "    \"\"\"Exemplo de Documentação de linha.\"\"\"\n",
    "    return a + b"
   ]
  },
  {
   "cell_type": "markdown",
   "id": "206a2940",
   "metadata": {
    "heading_collapsed": true,
    "hidden": true
   },
   "source": [
    "#### Documentação de Bloco"
   ]
  },
  {
   "cell_type": "markdown",
   "id": "2f0624a2",
   "metadata": {
    "hidden": true
   },
   "source": [
    "`def soma(a, b):`  \n",
    "&emsp;`\"\"\"Exemplo de Documentação de Bloco`  \n",
    "&emsp;`No geral, a primeira linha da documentação`  \n",
    "&emsp;`é utilizada para definirmos o que será retornado`  \n",
    "&emsp;`na função. Fora isso, cada linha deve ficar sempre`  \n",
    "&emsp;`na mesa identação do inicío do bloco de documentação`  \n",
    "&emsp;`\"\"\"`  "
   ]
  },
  {
   "cell_type": "code",
   "execution_count": 6,
   "id": "4f4774e3",
   "metadata": {
    "ExecuteTime": {
     "end_time": "2021-09-26T16:08:39.249479Z",
     "start_time": "2021-09-26T16:08:39.247044Z"
    },
    "hidden": true
   },
   "outputs": [],
   "source": [
    "def soma(a, b):\n",
    "    \"\"\"Retorna a soma de a e b\n",
    "    \n",
    "    Argumentos:\n",
    "    a -- número real qualquer\n",
    "    b -- número real qualquer\n",
    "    \n",
    "    Retorno\n",
    "    soma dos argumentos\n",
    "    \n",
    "    Exemplo de Comentário de Documentação em Bloco\n",
    "    No geral, a primeira linha da documentação\n",
    "    é utilizada para definirmos o que será retornado\n",
    "    na função. Fora isso, cada linha deve ficar sempre\n",
    "    na mesa identação do inicío do bloco de documentação\n",
    "    \"\"\"\n",
    "    return a + b"
   ]
  },
  {
   "cell_type": "markdown",
   "id": "c84f11f3",
   "metadata": {
    "heading_collapsed": true,
    "hidden": true
   },
   "source": [
    "## Variáveis e Tipos Primitivos"
   ]
  },
  {
   "cell_type": "markdown",
   "id": "11cbd2d1",
   "metadata": {
    "hidden": true
   },
   "source": [
    "| Tipo de Dado | Tipo no Python| \n",
    "| :----------: | :-----------: |\n",
    "| Número Inteiro | int |\n",
    "| Número Fracional (Decimal) | float |\n",
    "| Texto (Cadeia de Caracteres) | String (str) |\n",
    "| Verdadeiro ou Falso | bool |"
   ]
  },
  {
   "cell_type": "code",
   "execution_count": 7,
   "id": "bc5ea930",
   "metadata": {
    "ExecuteTime": {
     "end_time": "2021-09-26T16:20:34.110044Z",
     "start_time": "2021-09-26T16:20:34.105315Z"
    },
    "hidden": true
   },
   "outputs": [
    {
     "data": {
      "text/plain": [
       "10"
      ]
     },
     "execution_count": 7,
     "metadata": {},
     "output_type": "execute_result"
    }
   ],
   "source": [
    "i = 10\n",
    "i"
   ]
  },
  {
   "cell_type": "code",
   "execution_count": 8,
   "id": "791e9f3c",
   "metadata": {
    "ExecuteTime": {
     "end_time": "2021-09-26T16:20:41.058955Z",
     "start_time": "2021-09-26T16:20:41.055003Z"
    },
    "hidden": true
   },
   "outputs": [
    {
     "data": {
      "text/plain": [
       "int"
      ]
     },
     "execution_count": 8,
     "metadata": {},
     "output_type": "execute_result"
    }
   ],
   "source": [
    "type(i)"
   ]
  },
  {
   "cell_type": "code",
   "execution_count": 9,
   "id": "fdfabb19",
   "metadata": {
    "ExecuteTime": {
     "end_time": "2021-09-26T16:20:49.252091Z",
     "start_time": "2021-09-26T16:20:49.249098Z"
    },
    "hidden": true
   },
   "outputs": [
    {
     "data": {
      "text/plain": [
       "1.1"
      ]
     },
     "execution_count": 9,
     "metadata": {},
     "output_type": "execute_result"
    }
   ],
   "source": [
    "i = 1.1\n",
    "i"
   ]
  },
  {
   "cell_type": "code",
   "execution_count": 10,
   "id": "18961509",
   "metadata": {
    "ExecuteTime": {
     "end_time": "2021-09-26T16:20:53.517160Z",
     "start_time": "2021-09-26T16:20:53.513603Z"
    },
    "hidden": true
   },
   "outputs": [
    {
     "data": {
      "text/plain": [
       "float"
      ]
     },
     "execution_count": 10,
     "metadata": {},
     "output_type": "execute_result"
    }
   ],
   "source": [
    "type(i)"
   ]
  },
  {
   "cell_type": "code",
   "execution_count": 11,
   "id": "a5d69368",
   "metadata": {
    "ExecuteTime": {
     "end_time": "2021-09-26T16:21:04.652406Z",
     "start_time": "2021-09-26T16:21:04.649188Z"
    },
    "hidden": true
   },
   "outputs": [
    {
     "data": {
      "text/plain": [
       "'Pedro'"
      ]
     },
     "execution_count": 11,
     "metadata": {},
     "output_type": "execute_result"
    }
   ],
   "source": [
    "i = 'Pedro'\n",
    "i"
   ]
  },
  {
   "cell_type": "code",
   "execution_count": 12,
   "id": "e26b10f0",
   "metadata": {
    "ExecuteTime": {
     "end_time": "2021-09-26T16:21:10.509440Z",
     "start_time": "2021-09-26T16:21:10.506785Z"
    },
    "hidden": true
   },
   "outputs": [
    {
     "data": {
      "text/plain": [
       "str"
      ]
     },
     "execution_count": 12,
     "metadata": {},
     "output_type": "execute_result"
    }
   ],
   "source": [
    "type(i)"
   ]
  },
  {
   "cell_type": "code",
   "execution_count": 6,
   "id": "965f7f7b",
   "metadata": {
    "ExecuteTime": {
     "end_time": "2021-10-28T00:23:19.185826Z",
     "start_time": "2021-10-28T00:23:19.182821Z"
    },
    "hidden": true
   },
   "outputs": [
    {
     "data": {
      "text/plain": [
       "True"
      ]
     },
     "execution_count": 6,
     "metadata": {},
     "output_type": "execute_result"
    }
   ],
   "source": [
    "i = True\n",
    "i"
   ]
  },
  {
   "cell_type": "code",
   "execution_count": 15,
   "id": "7bb76772",
   "metadata": {
    "ExecuteTime": {
     "end_time": "2021-09-26T16:21:27.381129Z",
     "start_time": "2021-09-26T16:21:27.378182Z"
    },
    "hidden": true
   },
   "outputs": [
    {
     "data": {
      "text/plain": [
       "bool"
      ]
     },
     "execution_count": 15,
     "metadata": {},
     "output_type": "execute_result"
    }
   ],
   "source": [
    "type(i)"
   ]
  },
  {
   "cell_type": "markdown",
   "id": "b2a6ea63",
   "metadata": {
    "hidden": true
   },
   "source": [
    "Como podemos observar, o objeto *i* recebeu todos os valores que desejamos inserir nele. Isso ocorre pois o objeto *i* é uma variável. Ou seja, o seu conteúdo pode variar de acordo com a necessidade do fluxo da aplicação, e quem define isso é, como esse conteúdo irá varia, é o desenvolvedor.\n",
    "\n",
    "Outro ponto importante do Python é que ele possuí inferencia de tipo. Ou seja, sempre que colocamos um tipo de dados dentro de uma variável, o Python irá inferir qual é o tipo daquele dado e irá configurar a variável para aquele tipo.\n",
    "\n",
    "O que nos impede de realizarmos operações em variáveis com tipos de dados diferentes. Podemos realizar operaões aritméticas somente em valores númericos (*int* e *float*). Caso tentemos realizar uma operação com dados de tipos diferentes, ocorrerá um erro de tipo:"
   ]
  },
  {
   "cell_type": "code",
   "execution_count": 3,
   "id": "65f88668",
   "metadata": {
    "ExecuteTime": {
     "end_time": "2021-10-28T00:22:10.526177Z",
     "start_time": "2021-10-28T00:22:10.517524Z"
    },
    "hidden": true
   },
   "outputs": [
    {
     "name": "stdout",
     "output_type": "stream",
     "text": [
      "<class 'str'>\n",
      "<class 'int'>\n",
      "<class 'int'>\n"
     ]
    },
    {
     "data": {
      "text/plain": [
       "64"
      ]
     },
     "execution_count": 3,
     "metadata": {},
     "output_type": "execute_result"
    }
   ],
   "source": [
    "nome = 'Pedro'\n",
    "print(type(nome))\n",
    "\n",
    "idade = 32\n",
    "print(type(idade))\n",
    "\n",
    "soma = nome + idade\n",
    "soma"
   ]
  },
  {
   "cell_type": "markdown",
   "id": "db0d518c",
   "metadata": {
    "heading_collapsed": true,
    "hidden": true
   },
   "source": [
    "## Conversão de Tipos Primitivos Básicos"
   ]
  },
  {
   "cell_type": "markdown",
   "id": "0f94a88f",
   "metadata": {
    "hidden": true
   },
   "source": [
    "Dessa forma, sempre que desejarmos realizar alguma operação com variáves com tipos de dados distintos, podemos realizar a conversão de tipo para realizarmos essa operação, desde que o conteúdo seja similar ao tipo de dados que desejamos.\n",
    "\n",
    "Ou seja, conseguimos realizar conversões de tipo desde que a varialvél em questão possua o conteúdo compatível como tipo final. Por exemplo, se tentarmos converter uma String qualquer em um número, teremos o seguinte erro:"
   ]
  },
  {
   "cell_type": "code",
   "execution_count": 19,
   "id": "765a5483",
   "metadata": {
    "ExecuteTime": {
     "end_time": "2021-09-26T16:48:52.098623Z",
     "start_time": "2021-09-26T16:48:52.087732Z"
    },
    "hidden": true
   },
   "outputs": [
    {
     "ename": "ValueError",
     "evalue": "invalid literal for int() with base 10: 'Pedro'",
     "output_type": "error",
     "traceback": [
      "\u001b[0;31m---------------------------------------------------------------------------\u001b[0m",
      "\u001b[0;31mValueError\u001b[0m                                Traceback (most recent call last)",
      "\u001b[0;32m/tmp/ipykernel_136198/4119452568.py\u001b[0m in \u001b[0;36m<module>\u001b[0;34m\u001b[0m\n\u001b[1;32m      1\u001b[0m \u001b[0mnome\u001b[0m \u001b[0;34m=\u001b[0m \u001b[0;34m'Pedro'\u001b[0m\u001b[0;34m\u001b[0m\u001b[0;34m\u001b[0m\u001b[0m\n\u001b[0;32m----> 2\u001b[0;31m \u001b[0mnome_convertido\u001b[0m \u001b[0;34m=\u001b[0m \u001b[0mint\u001b[0m\u001b[0;34m(\u001b[0m\u001b[0mnome\u001b[0m\u001b[0;34m)\u001b[0m\u001b[0;34m\u001b[0m\u001b[0;34m\u001b[0m\u001b[0m\n\u001b[0m\u001b[1;32m      3\u001b[0m \u001b[0mnome_convertido\u001b[0m\u001b[0;34m\u001b[0m\u001b[0;34m\u001b[0m\u001b[0m\n",
      "\u001b[0;31mValueError\u001b[0m: invalid literal for int() with base 10: 'Pedro'"
     ]
    }
   ],
   "source": [
    "nome = 'Pedro'\n",
    "nome_convertido = int(nome)\n",
    "nome_convertido"
   ]
  },
  {
   "cell_type": "markdown",
   "id": "81444c13",
   "metadata": {
    "hidden": true
   },
   "source": [
    "Porém, é possível realizar essa conversão se o conteúdo da String for um número ou um valor numérico:"
   ]
  },
  {
   "cell_type": "code",
   "execution_count": 20,
   "id": "65cf7a31",
   "metadata": {
    "ExecuteTime": {
     "end_time": "2021-09-26T16:49:07.672612Z",
     "start_time": "2021-09-26T16:49:07.667818Z"
    },
    "hidden": true
   },
   "outputs": [
    {
     "data": {
      "text/plain": [
       "32"
      ]
     },
     "execution_count": 20,
     "metadata": {},
     "output_type": "execute_result"
    }
   ],
   "source": [
    "idade = '32'\n",
    "idade_convertida = int(idade)\n",
    "idade_convertida"
   ]
  },
  {
   "cell_type": "code",
   "execution_count": 22,
   "id": "8fd63b2d",
   "metadata": {
    "ExecuteTime": {
     "end_time": "2021-09-26T16:49:23.509930Z",
     "start_time": "2021-09-26T16:49:23.500909Z"
    },
    "hidden": true
   },
   "outputs": [
    {
     "data": {
      "text/plain": [
       "int"
      ]
     },
     "execution_count": 22,
     "metadata": {},
     "output_type": "execute_result"
    }
   ],
   "source": [
    "type(idade_convertida)"
   ]
  },
  {
   "cell_type": "markdown",
   "id": "05400465",
   "metadata": {
    "hidden": true
   },
   "source": [
    "Podemos converter textos em tipos numéricos decimais (fração) também, basta utilizarmos a função `float()` no lugar da função `int()`:"
   ]
  },
  {
   "cell_type": "code",
   "execution_count": 26,
   "id": "24d0ac7d",
   "metadata": {
    "ExecuteTime": {
     "end_time": "2021-09-26T16:52:28.089085Z",
     "start_time": "2021-09-26T16:52:28.082420Z"
    },
    "hidden": true
   },
   "outputs": [
    {
     "data": {
      "text/plain": [
       "32.0"
      ]
     },
     "execution_count": 26,
     "metadata": {},
     "output_type": "execute_result"
    }
   ],
   "source": [
    "idade = '32'\n",
    "idade_convertida = float(idade)\n",
    "idade_convertida"
   ]
  },
  {
   "cell_type": "code",
   "execution_count": 27,
   "id": "767b378f",
   "metadata": {
    "ExecuteTime": {
     "end_time": "2021-09-26T16:52:34.018670Z",
     "start_time": "2021-09-26T16:52:34.011432Z"
    },
    "hidden": true
   },
   "outputs": [
    {
     "data": {
      "text/plain": [
       "float"
      ]
     },
     "execution_count": 27,
     "metadata": {},
     "output_type": "execute_result"
    }
   ],
   "source": [
    "type(idade_convertida)"
   ]
  },
  {
   "cell_type": "markdown",
   "id": "9fc398d9",
   "metadata": {
    "hidden": true
   },
   "source": [
    "O mesmo vale para valores númericos. Conseguimos converter qualquer valor numérico para texto:"
   ]
  },
  {
   "cell_type": "code",
   "execution_count": 23,
   "id": "1c2f7bbf",
   "metadata": {
    "ExecuteTime": {
     "end_time": "2021-09-26T16:50:36.750256Z",
     "start_time": "2021-09-26T16:50:36.741891Z"
    },
    "hidden": true
   },
   "outputs": [
    {
     "data": {
      "text/plain": [
       "'32'"
      ]
     },
     "execution_count": 23,
     "metadata": {},
     "output_type": "execute_result"
    }
   ],
   "source": [
    "idade = 32\n",
    "idade_convertida = str(idade)\n",
    "idade_convertida"
   ]
  },
  {
   "cell_type": "code",
   "execution_count": 25,
   "id": "f6f0ed15",
   "metadata": {
    "ExecuteTime": {
     "end_time": "2021-09-26T16:50:46.849134Z",
     "start_time": "2021-09-26T16:50:46.841330Z"
    },
    "hidden": true
   },
   "outputs": [
    {
     "data": {
      "text/plain": [
       "str"
      ]
     },
     "execution_count": 25,
     "metadata": {},
     "output_type": "execute_result"
    }
   ],
   "source": [
    "type(idade_convertida)"
   ]
  },
  {
   "cell_type": "markdown",
   "id": "4cf56cb8",
   "metadata": {
    "heading_collapsed": true,
    "hidden": true
   },
   "source": [
    "## Veracidade no Python"
   ]
  },
  {
   "cell_type": "markdown",
   "id": "82682f5b",
   "metadata": {
    "hidden": true
   },
   "source": [
    "Outro ponto importante dentro da linguagem são os conceitos de Verdadeiro ou falso.\n",
    "\n",
    "Como podemos observar, é necessário fazermos conversões quando desejamos somar númeroq que o Python entende como tipos *int* e *str*. Mas e quando desejamos converter um número ou texto em um tipo booleano. Como fazemos isso?\n",
    "\n",
    "É nesse ponto que devemos falar sobre Veracidade em Python. Ou o que o Python entende como Verdadeira (True) e Falso (False).\n",
    "\n",
    "Para convertermos qualquer conteúdo para booleano em Python, basta utilizarmos a função `bool()`:"
   ]
  },
  {
   "cell_type": "code",
   "execution_count": 32,
   "id": "2018aa31",
   "metadata": {
    "ExecuteTime": {
     "end_time": "2021-09-26T20:04:56.473023Z",
     "start_time": "2021-09-26T20:04:56.463770Z"
    },
    "hidden": true
   },
   "outputs": [
    {
     "data": {
      "text/plain": [
       "True"
      ]
     },
     "execution_count": 32,
     "metadata": {},
     "output_type": "execute_result"
    }
   ],
   "source": [
    "idade = 32\n",
    "idade_convertida = bool(idade)\n",
    "idade_convertida"
   ]
  },
  {
   "cell_type": "markdown",
   "id": "b05bf5e9",
   "metadata": {
    "hidden": true
   },
   "source": [
    "Observe que o valor `32` foi convertido para `True`. Isso ocorre por conta da função `bool()` converter qualquer variável ou tipo de dado que tenha \"conteúdo\" para `True`, e qualquer variável ou tipo que não tenha \"conteúdo\" para `False`. Por exemplo"
   ]
  },
  {
   "cell_type": "code",
   "execution_count": 40,
   "id": "00564110",
   "metadata": {
    "ExecuteTime": {
     "end_time": "2021-09-26T20:13:09.110320Z",
     "start_time": "2021-09-26T20:13:09.105501Z"
    },
    "hidden": true
   },
   "outputs": [
    {
     "name": "stdout",
     "output_type": "stream",
     "text": [
      "Utilizando a função sem Parâmetro algum. Retorno => False\n",
      "Utilizando a função e passando uma String Vazia como Parâmetro. Retorno => False\n",
      "Utilizando a função e passando o valor zero como Parâmetro. Retorno => False\n",
      "Utilizando a função e passando o valor zero como Parâmetro. Retorno => False\n",
      "Utilizando a função e passando uma lista vazia como Parâmetro. Retorno => False\n",
      "Utilizando a função e passando um dicionário vazio como Parâmetro. Retorno => False\n",
      "Utilizando a função e passando None como Parâmetro. Retorno => False\n"
     ]
    }
   ],
   "source": [
    "print(f'Utilizando a função sem Parâmetro algum. Retorno => {bool()}')\n",
    "print(f'Utilizando a função e passando uma String Vazia como Parâmetro. Retorno => {bool(\"\")}') \n",
    "print(f'Utilizando a função e passando o valor zero como Parâmetro. Retorno => {bool(0)}')\n",
    "print(f'Utilizando a função e passando o valor zero como Parâmetro. Retorno => {bool(0.0)}')\n",
    "print(f'Utilizando a função e passando uma lista vazia como Parâmetro. Retorno => {bool([])}') \n",
    "print(f'Utilizando a função e passando um dicionário vazio como Parâmetro. Retorno => {bool({})}')\n",
    "print(f'Utilizando a função e passando None como Parâmetro. Retorno => {bool(None)}')"
   ]
  },
  {
   "cell_type": "markdown",
   "id": "254f5942",
   "metadata": {
    "hidden": true
   },
   "source": [
    "Por outro lado, qualquer tipo de dado ou variável que tenha \"conteúdo\", será entendido como `True` pelo Python:"
   ]
  },
  {
   "cell_type": "code",
   "execution_count": 41,
   "id": "f49177e1",
   "metadata": {
    "ExecuteTime": {
     "end_time": "2021-09-26T20:14:42.827451Z",
     "start_time": "2021-09-26T20:14:42.821604Z"
    },
    "hidden": true
   },
   "outputs": [
    {
     "name": "stdout",
     "output_type": "stream",
     "text": [
      "Utilizando a função e passando uma String Vazia como Parâmetro. Retorno => True\n",
      "Utilizando a função e passando o valor zero como Parâmetro. Retorno => True\n",
      "Utilizando a função e passando o valor zero como Parâmetro. Retorno => True\n",
      "Utilizando a função e passando uma lista vazia como Parâmetro. Retorno => True\n",
      "Utilizando a função e passando um dicionário vazio como Parâmetro. Retorno => True\n"
     ]
    }
   ],
   "source": [
    "print(f'Utilizando a função e passando uma String Vazia como Parâmetro. Retorno => {bool(\"P\")}') \n",
    "print(f'Utilizando a função e passando o valor zero como Parâmetro. Retorno => {bool(1)}')\n",
    "print(f'Utilizando a função e passando o valor zero como Parâmetro. Retorno => {bool(0.000001)}')\n",
    "print(f'Utilizando a função e passando uma lista vazia como Parâmetro. Retorno => {bool([0])}') \n",
    "print(f'Utilizando a função e passando um dicionário vazio como Parâmetro. Retorno => {bool({\"id\": 0})}')"
   ]
  },
  {
   "cell_type": "code",
   "execution_count": 11,
   "id": "33c90db3",
   "metadata": {
    "ExecuteTime": {
     "end_time": "2021-10-28T00:33:19.989158Z",
     "start_time": "2021-10-28T00:33:19.985854Z"
    },
    "hidden": true
   },
   "outputs": [
    {
     "name": "stdout",
     "output_type": "stream",
     "text": [
      "0.0\n",
      "false\n"
     ]
    }
   ],
   "source": [
    "# Verifica se a variavel tem conteúdo\n",
    "\n",
    "altura = 0.0\n",
    "print(altura)\n",
    "\n",
    "if(altura): # if(bool(idade))\n",
    "    print(idade)\n",
    "else:\n",
    "    print('false')"
   ]
  },
  {
   "cell_type": "markdown",
   "id": "d7a95b10",
   "metadata": {
    "heading_collapsed": true,
    "hidden": true
   },
   "source": [
    "## I/O - Leitura e Escrita Básica"
   ]
  },
  {
   "cell_type": "markdown",
   "id": "6f6c1ce5",
   "metadata": {
    "hidden": true
   },
   "source": [
    "Como já vimos e utilizamos, tanto nessa aula quanto na aula passada, a maneira mais básica de lermos algo do usuário em Python é utilizando a função `input('Mensagem')`. Por exemplo:"
   ]
  },
  {
   "cell_type": "code",
   "execution_count": 12,
   "id": "9c292c97",
   "metadata": {
    "ExecuteTime": {
     "end_time": "2021-10-28T00:34:29.473407Z",
     "start_time": "2021-10-28T00:34:23.459508Z"
    },
    "hidden": true
   },
   "outputs": [
    {
     "name": "stdout",
     "output_type": "stream",
     "text": [
      "Digite a sua idade: 32\n"
     ]
    },
    {
     "data": {
      "text/plain": [
       "'32'"
      ]
     },
     "execution_count": 12,
     "metadata": {},
     "output_type": "execute_result"
    }
   ],
   "source": [
    "dado_inserido = input(\"Digite a sua idade: \")\n",
    "dado_inserido"
   ]
  },
  {
   "cell_type": "markdown",
   "id": "ee53c4f1",
   "metadata": {
    "hidden": true
   },
   "source": [
    "Outro ponto importante é que tudo que for lido pela função `input()` é lido como `str`. Para utilizarmos esse conteúdo digitado como número, devemos utilizar a conversão de tipo:"
   ]
  },
  {
   "cell_type": "code",
   "execution_count": 14,
   "id": "09437236",
   "metadata": {
    "ExecuteTime": {
     "end_time": "2021-10-28T00:36:21.384457Z",
     "start_time": "2021-10-28T00:36:18.744586Z"
    },
    "hidden": true
   },
   "outputs": [
    {
     "name": "stdout",
     "output_type": "stream",
     "text": [
      "Informe a sua Idade: 32\n"
     ]
    },
    {
     "data": {
      "text/plain": [
       "32"
      ]
     },
     "execution_count": 14,
     "metadata": {},
     "output_type": "execute_result"
    }
   ],
   "source": [
    "idade = int( input('Informe a sua Idade: ') )\n",
    "idade"
   ]
  },
  {
   "cell_type": "code",
   "execution_count": 15,
   "id": "14c8c062",
   "metadata": {
    "ExecuteTime": {
     "end_time": "2021-10-28T00:39:18.590955Z",
     "start_time": "2021-10-28T00:38:55.112749Z"
    },
    "hidden": true
   },
   "outputs": [
    {
     "name": "stdout",
     "output_type": "stream",
     "text": [
      "Informe a sua Altura: 1.80\n"
     ]
    },
    {
     "data": {
      "text/plain": [
       "1.8"
      ]
     },
     "execution_count": 15,
     "metadata": {},
     "output_type": "execute_result"
    }
   ],
   "source": [
    "altura = float( input('Informe a sua Altura: ') )\n",
    "altura"
   ]
  },
  {
   "cell_type": "markdown",
   "id": "893c3cc0",
   "metadata": {
    "hidden": true
   },
   "source": [
    "OBS.: Lembrando que para fazermos a conversão para tipo `float`, o caractere separador da unidade inteira da decimal **DEVE** ser o ponto (`.`) e não a vírgula (`,`)."
   ]
  },
  {
   "cell_type": "code",
   "execution_count": 50,
   "id": "7545ae21",
   "metadata": {
    "ExecuteTime": {
     "end_time": "2021-09-26T20:22:44.412870Z",
     "start_time": "2021-09-26T20:22:40.845122Z"
    },
    "hidden": true
   },
   "outputs": [
    {
     "name": "stdout",
     "output_type": "stream",
     "text": [
      "Informe a sua Altura: 1,82\n"
     ]
    },
    {
     "ename": "ValueError",
     "evalue": "could not convert string to float: '1,82'",
     "output_type": "error",
     "traceback": [
      "\u001b[0;31m---------------------------------------------------------------------------\u001b[0m",
      "\u001b[0;31mValueError\u001b[0m                                Traceback (most recent call last)",
      "\u001b[0;32m/tmp/ipykernel_136198/577339262.py\u001b[0m in \u001b[0;36m<module>\u001b[0;34m\u001b[0m\n\u001b[0;32m----> 1\u001b[0;31m \u001b[0maltura\u001b[0m \u001b[0;34m=\u001b[0m \u001b[0mfloat\u001b[0m\u001b[0;34m(\u001b[0m\u001b[0minput\u001b[0m\u001b[0;34m(\u001b[0m\u001b[0;34m'Informe a sua Altura: '\u001b[0m\u001b[0;34m)\u001b[0m\u001b[0;34m)\u001b[0m\u001b[0;34m\u001b[0m\u001b[0;34m\u001b[0m\u001b[0m\n\u001b[0m\u001b[1;32m      2\u001b[0m \u001b[0maltura\u001b[0m\u001b[0;34m\u001b[0m\u001b[0;34m\u001b[0m\u001b[0m\n",
      "\u001b[0;31mValueError\u001b[0m: could not convert string to float: '1,82'"
     ]
    }
   ],
   "source": [
    "altura = float(input('Informe a sua Altura: '))\n",
    "altura"
   ]
  },
  {
   "cell_type": "markdown",
   "id": "0581d5ec",
   "metadata": {
    "heading_collapsed": true
   },
   "source": [
    "# ERROS MAIS COMUNS"
   ]
  },
  {
   "cell_type": "markdown",
   "id": "d21145f7",
   "metadata": {
    "hidden": true
   },
   "source": [
    "Os erros mais comuns ao iniciarmos os estudos na linguagem Python são:\n",
    "* Erros de Indentação\n",
    "* Utilizar Palavras Reservadas para nomear variáveis, funções e classes\n",
    "* Erros de digitação\n",
    "    * Python é Case Sensitive\n",
    "    * Digitação"
   ]
  },
  {
   "cell_type": "markdown",
   "id": "9f2f6e91",
   "metadata": {
    "heading_collapsed": true,
    "hidden": true
   },
   "source": [
    "## Erros de Indentação"
   ]
  },
  {
   "cell_type": "markdown",
   "id": "8b5c08d6",
   "metadata": {
    "hidden": true
   },
   "source": [
    "Erros de indentação são bastante comuns dentro da linguagem Python. O Python utiliza espaços para designar o que nós chamamos de \"blocos\" de cósigo. Por exemplo, como vimos anteriormente, quando utilizamos a estrutura condicional `if()`, temos que inserir um \"bloco\" de código logo abaixo da declaração da estrutura condicional. E esse bloco será executado caso o teste feito no `if()` seja verdadeiro."
   ]
  },
  {
   "cell_type": "code",
   "execution_count": 51,
   "id": "f6e4ce73",
   "metadata": {
    "ExecuteTime": {
     "end_time": "2021-09-26T20:36:20.312411Z",
     "start_time": "2021-09-26T20:36:20.309127Z"
    },
    "hidden": true
   },
   "outputs": [
    {
     "name": "stdout",
     "output_type": "stream",
     "text": [
      "Passou no teste do if\n"
     ]
    }
   ],
   "source": [
    "teste = True\n",
    "\n",
    "if(teste):\n",
    "    # Bloco Entra aqui\n",
    "    print('Passou no teste do if')"
   ]
  },
  {
   "cell_type": "markdown",
   "id": "63adbba8",
   "metadata": {
    "hidden": true
   },
   "source": [
    "Se não utilizarmos a identação de forma correta, o Python não entenderá os blocos de forma correta, o que ocasionará comportamentos indesejados na nossa aplicação, os famosos **BUGS**, ou pior ainda, quebrar nossa aplicação."
   ]
  },
  {
   "cell_type": "code",
   "execution_count": 1,
   "id": "921d5d45",
   "metadata": {
    "ExecuteTime": {
     "end_time": "2021-10-28T14:35:27.847094Z",
     "start_time": "2021-10-28T14:35:27.843014Z"
    },
    "hidden": true
   },
   "outputs": [
    {
     "ename": "IndentationError",
     "evalue": "expected an indented block (1500782042.py, line 4)",
     "output_type": "error",
     "traceback": [
      "\u001b[0;36m  File \u001b[0;32m\"/tmp/ipykernel_7415/1500782042.py\"\u001b[0;36m, line \u001b[0;32m4\u001b[0m\n\u001b[0;31m    print('Passou no teste do if')\u001b[0m\n\u001b[0m    ^\u001b[0m\n\u001b[0;31mIndentationError\u001b[0m\u001b[0;31m:\u001b[0m expected an indented block\n"
     ]
    }
   ],
   "source": [
    "teste = True\n",
    "\n",
    "if(teste):\n",
    "print('Passou no teste do if')"
   ]
  },
  {
   "cell_type": "markdown",
   "id": "a88bd685",
   "metadata": {
    "hidden": true
   },
   "source": [
    "Se observarmos a descrição do erro, podemos notar que o interpretador do Python está nos dizendo que ele estava esperando um bloc de código logo abaixo `if()`.\n",
    "\n",
    "Dessa forma, temos sempre que prestar atenção nos blocos de código que criamos quando estamos programando."
   ]
  },
  {
   "cell_type": "markdown",
   "id": "ee1284e4",
   "metadata": {
    "heading_collapsed": true,
    "hidden": true
   },
   "source": [
    "## Palavras Reservadas"
   ]
  },
  {
   "cell_type": "markdown",
   "id": "2d56c78d",
   "metadata": {
    "ExecuteTime": {
     "end_time": "2021-09-23T01:02:30.516707Z",
     "start_time": "2021-09-23T01:02:30.506843Z"
    },
    "hidden": true
   },
   "source": [
    "Outro erro bastante comum mas não menos importante que o anterior é o uso de uma palavra reservada para nomear uma variável, função ou classe.\n",
    "\n",
    "As principais palavras reservadas que não devemos utilizar para nomear nossas variáveis, funções e classes são:"
   ]
  },
  {
   "cell_type": "markdown",
   "id": "8df2bb29",
   "metadata": {
    "cell_style": "split",
    "hidden": true
   },
   "source": [
    "* False\t\n",
    "* def\n",
    "* if\n",
    "* raise\n",
    "* None\n",
    "* del\n",
    "* import\n",
    "* return\n",
    "* True\n",
    "* elif\n",
    "* in\n",
    "* try\n",
    "* and\n",
    "* else\n",
    "* is\n",
    "* while\n",
    "* as"
   ]
  },
  {
   "cell_type": "markdown",
   "id": "5d20d170",
   "metadata": {
    "cell_style": "split",
    "hidden": true
   },
   "source": [
    "* except\n",
    "* lambda\n",
    "* with\n",
    "* assert\n",
    "* finally\n",
    "* nonlocal\n",
    "* yield\n",
    "* break\n",
    "* for\n",
    "* not\n",
    "* class\n",
    "* from\n",
    "* or\n",
    "* continue\n",
    "* global\n",
    "* pass"
   ]
  },
  {
   "cell_type": "markdown",
   "id": "36caaaf1",
   "metadata": {
    "ExecuteTime": {
     "end_time": "2021-09-26T20:43:03.064080Z",
     "start_time": "2021-09-26T20:43:03.054891Z"
    },
    "heading_collapsed": true,
    "hidden": true
   },
   "source": [
    "## Erros de Digitação"
   ]
  },
  {
   "cell_type": "markdown",
   "id": "cbb5ad18",
   "metadata": {
    "ExecuteTime": {
     "end_time": "2021-09-26T20:43:17.362771Z",
     "start_time": "2021-09-26T20:43:17.358325Z"
    },
    "heading_collapsed": true,
    "hidden": true
   },
   "source": [
    "### Case Sensitive"
   ]
  },
  {
   "cell_type": "markdown",
   "id": "5aea39a7",
   "metadata": {
    "hidden": true
   },
   "source": [
    "O Python é uma linguagem de programação *Case Sensitive*, ou seja, o tamanho das letras (Maíscula e Minúscula) diferem. Desse modo, se declararmos uma variável chamada `Nome` e depois tentarmos utilizá-la com a palavra `nome`, o Python não entenderá o que desejamos, pois `nome ≠ Nome`"
   ]
  },
  {
   "cell_type": "code",
   "execution_count": 57,
   "id": "6c04909e",
   "metadata": {
    "ExecuteTime": {
     "end_time": "2021-09-26T20:50:10.274664Z",
     "start_time": "2021-09-26T20:50:10.270382Z"
    },
    "hidden": true
   },
   "outputs": [
    {
     "ename": "NameError",
     "evalue": "name 'sobrenome' is not defined",
     "output_type": "error",
     "traceback": [
      "\u001b[0;31m---------------------------------------------------------------------------\u001b[0m",
      "\u001b[0;31mNameError\u001b[0m                                 Traceback (most recent call last)",
      "\u001b[0;32m/tmp/ipykernel_136198/1425288389.py\u001b[0m in \u001b[0;36m<module>\u001b[0;34m\u001b[0m\n\u001b[1;32m      1\u001b[0m \u001b[0mSobrenome\u001b[0m \u001b[0;34m=\u001b[0m \u001b[0;34m'Ferraresi'\u001b[0m\u001b[0;34m\u001b[0m\u001b[0;34m\u001b[0m\u001b[0m\n\u001b[0;32m----> 2\u001b[0;31m \u001b[0mprint\u001b[0m\u001b[0;34m(\u001b[0m\u001b[0msobrenome\u001b[0m\u001b[0;34m)\u001b[0m\u001b[0;34m\u001b[0m\u001b[0;34m\u001b[0m\u001b[0m\n\u001b[0m",
      "\u001b[0;31mNameError\u001b[0m: name 'sobrenome' is not defined"
     ]
    }
   ],
   "source": [
    "Sobrenome = 'Ferraresi'\n",
    "print(sobrenome)"
   ]
  },
  {
   "cell_type": "markdown",
   "id": "17f27ec6",
   "metadata": {
    "hidden": true
   },
   "source": [
    "Como podemos observar, a mensagem do erro nos informa que o \"nome\" *sobrenome* não está definidio. Isso quer dizer que a variável que tem o nome *sobrenome*, com todas as letras minúsculas, não está definida, ou seja, não foi declarada."
   ]
  },
  {
   "cell_type": "markdown",
   "id": "1ef7f430",
   "metadata": {
    "heading_collapsed": true,
    "hidden": true
   },
   "source": [
    "### Digitação"
   ]
  },
  {
   "cell_type": "markdown",
   "id": "ee235ce9",
   "metadata": {
    "hidden": true
   },
   "source": [
    "Outro ponto extremamente importante são os erros de digitação. Além do Python ser *Case Sensitive*, ele não conseguirá entender ou decifrar uma variável ou função que está escrita errada. Por exemplo"
   ]
  },
  {
   "cell_type": "code",
   "execution_count": 58,
   "id": "1191d346",
   "metadata": {
    "ExecuteTime": {
     "end_time": "2021-09-26T20:53:21.643512Z",
     "start_time": "2021-09-26T20:53:21.640772Z"
    },
    "hidden": true
   },
   "outputs": [
    {
     "data": {
      "text/plain": [
       "'Ufa'"
      ]
     },
     "execution_count": 58,
     "metadata": {},
     "output_type": "execute_result"
    }
   ],
   "source": [
    "variavelcomonomemuitograndeecomplexo = 'Ufa'\n",
    "variavelcomonomemuitograndeecomplexo"
   ]
  },
  {
   "cell_type": "code",
   "execution_count": 59,
   "id": "4b82f9de",
   "metadata": {
    "ExecuteTime": {
     "end_time": "2021-09-26T20:53:33.042051Z",
     "start_time": "2021-09-26T20:53:33.033721Z"
    },
    "hidden": true
   },
   "outputs": [
    {
     "ename": "NameError",
     "evalue": "name 'variavelcomonomemuitogradeecomplexo' is not defined",
     "output_type": "error",
     "traceback": [
      "\u001b[0;31m---------------------------------------------------------------------------\u001b[0m",
      "\u001b[0;31mNameError\u001b[0m                                 Traceback (most recent call last)",
      "\u001b[0;32m/tmp/ipykernel_136198/1809291776.py\u001b[0m in \u001b[0;36m<module>\u001b[0;34m\u001b[0m\n\u001b[0;32m----> 1\u001b[0;31m \u001b[0mvariavelcomonomemuitogradeecomplexo\u001b[0m\u001b[0;34m\u001b[0m\u001b[0;34m\u001b[0m\u001b[0m\n\u001b[0m",
      "\u001b[0;31mNameError\u001b[0m: name 'variavelcomonomemuitogradeecomplexo' is not defined"
     ]
    }
   ],
   "source": [
    "variavelcomonomemuitogradeecomplexo"
   ]
  },
  {
   "cell_type": "markdown",
   "id": "20739f79",
   "metadata": {
    "hidden": true
   },
   "source": [
    "Veja que por conta de uma letra que está faltando em nossa variável, o Python já não conseguiu entender o que desejamos e \"estourou\" um erro em nossa aplicação dizendo que o a nossa variável não foi definida, mesmo ela estando definida. O que ocorreu é que escrevemos o nome da nossa variável errado."
   ]
  }
 ],
 "metadata": {
  "kernelspec": {
   "display_name": "Python 3 (ipykernel)",
   "language": "python",
   "name": "python3"
  },
  "language_info": {
   "codemirror_mode": {
    "name": "ipython",
    "version": 3
   },
   "file_extension": ".py",
   "mimetype": "text/x-python",
   "name": "python",
   "nbconvert_exporter": "python",
   "pygments_lexer": "ipython3",
   "version": "3.9.7"
  },
  "latex_envs": {
   "LaTeX_envs_menu_present": true,
   "autoclose": false,
   "autocomplete": true,
   "bibliofile": "biblio.bib",
   "cite_by": "apalike",
   "current_citInitial": 1,
   "eqLabelWithNumbers": true,
   "eqNumInitial": 1,
   "hotkeys": {
    "equation": "Ctrl-E",
    "itemize": "Ctrl-I"
   },
   "labels_anchors": false,
   "latex_user_defs": false,
   "report_style_numbering": false,
   "user_envs_cfg": false
  }
 },
 "nbformat": 4,
 "nbformat_minor": 5
}
