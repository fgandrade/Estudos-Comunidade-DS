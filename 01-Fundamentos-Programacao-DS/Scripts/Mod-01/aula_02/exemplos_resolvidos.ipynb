{
 "cells": [
  {
   "cell_type": "markdown",
   "id": "356cb35d",
   "metadata": {},
   "source": [
    "# Exemplo 1"
   ]
  },
  {
   "cell_type": "markdown",
   "id": "96a0f0d7",
   "metadata": {},
   "source": [
    "## Problema"
   ]
  },
  {
   "cell_type": "markdown",
   "id": "e9e8107f",
   "metadata": {
    "ExecuteTime": {
     "end_time": "2021-09-23T01:15:31.266217Z",
     "start_time": "2021-09-23T01:15:31.260904Z"
    }
   },
   "source": [
    "Codifique uma aplicação que receba como entrada dois números reais. A aplicação deve receber também um terceiro caractere, que deve ser +, -, * ou /. \n",
    "Após receber os dois números e o caractere de operação, a aplicação deverá realizar a operação indicada pelo caractere sobre os valores lidos.\n",
    "\n",
    "A aplicação deve imprimir os valores e o resultado da operação realizada sobre eles, como mostra o exemplo a seguir (usando exatamente uma casa decimal):\n",
    "\n",
    "\n",
    "`Informe o primeiro valor real: 4.5`  \n",
    "`Informe o segundo valor real: 5`  \n",
    "`Informe a operação a ser realizada: +`  \n",
    "`4.5 + 5.0 = 9.5`  \n",
    "\n",
    "\n",
    "A aplicação deve ainda verificar se o segundo número for igual a zero e não realizar a operação divisão, exibindo na tela a seguinte mensagem de erro ao usuário: `\"Impossível fazer Divisão por zero\"`."
   ]
  },
  {
   "cell_type": "markdown",
   "id": "111dc674",
   "metadata": {
    "ExecuteTime": {
     "end_time": "2021-09-23T01:18:10.271290Z",
     "start_time": "2021-09-23T01:18:10.267092Z"
    },
    "heading_collapsed": true
   },
   "source": [
    "## Análise"
   ]
  },
  {
   "cell_type": "markdown",
   "id": "e21d12c5",
   "metadata": {
    "hidden": true
   },
   "source": [
    "Codifique uma aplicação que receba como entrada dois números reais. A aplicação deve receber também um terceiro caractere, que deve ser +, -, * ou /.\n",
    "\n",
    "Após receber os dois números e o caractere de operação, a aplicação deverá realizar a operação indicada pelo caractere sobre os valores lidos.\n",
    "\n",
    "A aplicação deve imprimir os valores e o resultado da operação realizada sobre eles.\n",
    "\n",
    "A aplicação deve ainda verificar se o segundo número for igual a zero e não realizar a operação divisão, exibindo na tela a seguinte mensagem de erro ao usuário: \"Impossível fazer Divisão por zero\""
   ]
  },
  {
   "cell_type": "markdown",
   "id": "726b8569",
   "metadata": {},
   "source": [
    "## Implicações / Proposições / Afirmações"
   ]
  },
  {
   "cell_type": "markdown",
   "id": "77884643",
   "metadata": {},
   "source": [
    "* A aplicação deve receber 3 informações: 2 números reais e um operador (`*` ou `/` ou `-` ou `+`)\n",
    "* A aplicação deve realizar a operação informada utilizando os dois números informados\n",
    "* A aplicação deve imprimir o resultado da operação\n",
    "* A aplicação deve verificar se o segundo valor é igual a zero.\n",
    "    * Se for igual a zero e a operação for divisão (`/`), a apliacação deve mostrar a seguinte mensagem ao usuário `\"Impossível fazer Divisão por zero\"`"
   ]
  },
  {
   "cell_type": "markdown",
   "id": "719448b9",
   "metadata": {},
   "source": [
    "## Resolução e Resposta"
   ]
  },
  {
   "cell_type": "code",
   "execution_count": 1,
   "id": "dd11f192",
   "metadata": {
    "ExecuteTime": {
     "end_time": "2021-09-26T21:18:22.508179Z",
     "start_time": "2021-09-26T21:18:15.040117Z"
    }
   },
   "outputs": [
    {
     "name": "stdout",
     "output_type": "stream",
     "text": [
      "Informe o primeiro valor real: 5\n",
      "Informe o segundo valor real: 0\n",
      "Informe a operação a ser realizada: /\n",
      "Impossível fazer Divisão por zero\n"
     ]
    }
   ],
   "source": [
    "# Resolução Aqui\n",
    "\n",
    "num1 = float(input('Informe o primeiro valor real: '))\n",
    "num2 = float(input('Informe o segundo valor real: '))\n",
    "op = str(input('Informe a operação a ser realizada: '))\n",
    "\n",
    "if num2 == 0 and op == '/':\n",
    "    print('Impossível fazer Divisão por zero')\n",
    "else:\n",
    "    if(op == '+'):\n",
    "        print(f'{num1} {op} {num2} = {num1 + num2}')\n",
    "    elif (op == '-'):\n",
    "        print(f'{num1} {op} {num2} = {num1 - num2}')\n",
    "    elif (op == '*'):\n",
    "        print(f'{num1} {op} {num2} = {num1 * num2}')\n",
    "    else:\n",
    "        print(f'{num1} {op} {num2} = {num1 / num2}')"
   ]
  },
  {
   "cell_type": "markdown",
   "id": "2adb82d9",
   "metadata": {},
   "source": [
    "# Exemplo 2"
   ]
  },
  {
   "cell_type": "markdown",
   "id": "a74d2f08",
   "metadata": {
    "heading_collapsed": true
   },
   "source": [
    "## Problema"
   ]
  },
  {
   "cell_type": "markdown",
   "id": "e3fee76a",
   "metadata": {
    "ExecuteTime": {
     "end_time": "2021-09-25T18:59:10.528659Z",
     "start_time": "2021-09-25T18:59:10.519979Z"
    },
    "hidden": true
   },
   "source": [
    "A prefeitura de Itapeva abriu uma linha de crédito para funcionários estatutários. O valor máximo da prestação não poderá ultrapassar 30% do salário bruto. \n",
    "\n",
    "Faça uma aplicação que permita entrar com o salário bruto, o valor do empréstimo e o número de parcelas. O programa deve informar o valor da parcela e se o empréstimo pode ou não ser concedido. \n",
    "\n",
    "Caso o empréstimo não possa ser concedido, informar o valor máximo do empréstimo."
   ]
  },
  {
   "cell_type": "markdown",
   "id": "0557a5e9",
   "metadata": {
    "ExecuteTime": {
     "end_time": "2021-09-23T01:18:10.271290Z",
     "start_time": "2021-09-23T01:18:10.267092Z"
    },
    "heading_collapsed": true
   },
   "source": [
    "## Análise"
   ]
  },
  {
   "cell_type": "markdown",
   "id": "3b26b3e0",
   "metadata": {
    "hidden": true
   },
   "source": [
    "A prefeitura de Itapeva abriu uma linha de crédito e o valor máximo da prestação não é de 30% do salário bruto.\n",
    "\n",
    "Faça uma aplicação que permita entrar com o salário bruto, o valor do empréstimo e o número de parcelas. \n",
    "\n",
    "O programa deve informar o valor da parcela e se o empréstimo pode ou não ser concedido.\n",
    "\n",
    "Caso o empréstimo não possa ser concedido, informar o valor máximo do empréstimo."
   ]
  },
  {
   "cell_type": "markdown",
   "id": "2b0bd09f",
   "metadata": {},
   "source": [
    "## Implicações / Proposições / Afirmações"
   ]
  },
  {
   "cell_type": "markdown",
   "id": "943ff507",
   "metadata": {},
   "source": [
    "* A aplicação deve receber 3 dados: O salário Bruto, o Valor total do Empréstimo e o Número de Parcelas\n",
    "* A aplicação deve informar o valor da parcela ao usuário\n",
    "* A aplicação deve informar se o empréstimo pode ou não ser concedido ao usuário\n",
    "    * Caso não possa ser concedido, a aplicação deve informar o valor máximo do empréstimo"
   ]
  },
  {
   "cell_type": "markdown",
   "id": "4f6c901b",
   "metadata": {},
   "source": [
    "## Resolução Resposta"
   ]
  },
  {
   "cell_type": "code",
   "execution_count": 2,
   "id": "2c28e3a7",
   "metadata": {
    "ExecuteTime": {
     "end_time": "2021-09-26T21:24:55.313177Z",
     "start_time": "2021-09-26T21:24:43.994874Z"
    }
   },
   "outputs": [
    {
     "name": "stdout",
     "output_type": "stream",
     "text": [
      "Informe o salário bruto: 1000\n",
      "Informe o valor pretendido: 200\n",
      "Informe a quantidade de parcelas: 5\n",
      "Valor liberado.\n",
      "O valor da parcela será de R$ 40.00 por 5 meses\n"
     ]
    }
   ],
   "source": [
    "# Resolução e Resposta Aqui\n",
    "\n",
    "salario = float(input('Informe o salário bruto: '))\n",
    "emprestimo = float(input('Informe o valor pretendido: '))\n",
    "parcelas = int(input('Informe a quantidade de parcelas: '))\n",
    "\n",
    "if(emprestimo > (salario*0.3)):\n",
    "    print(f'Valor não liberado.')\n",
    "    print(f'O valor máximo do empréstimo é de R$ {salario*0.3:.2f}')\n",
    "else:\n",
    "    print(f'Valor liberado.')\n",
    "    print(f'O valor da parcela será de R$ {(emprestimo / parcelas):.2f} por {parcelas} meses')"
   ]
  }
 ],
 "metadata": {
  "kernelspec": {
   "display_name": "Python 3 (ipykernel)",
   "language": "python",
   "name": "python3"
  },
  "language_info": {
   "codemirror_mode": {
    "name": "ipython",
    "version": 3
   },
   "file_extension": ".py",
   "mimetype": "text/x-python",
   "name": "python",
   "nbconvert_exporter": "python",
   "pygments_lexer": "ipython3",
   "version": "3.9.7"
  },
  "latex_envs": {
   "LaTeX_envs_menu_present": true,
   "autoclose": false,
   "autocomplete": true,
   "bibliofile": "biblio.bib",
   "cite_by": "apalike",
   "current_citInitial": 1,
   "eqLabelWithNumbers": true,
   "eqNumInitial": 1,
   "hotkeys": {
    "equation": "Ctrl-E",
    "itemize": "Ctrl-I"
   },
   "labels_anchors": false,
   "latex_user_defs": false,
   "report_style_numbering": false,
   "user_envs_cfg": false
  }
 },
 "nbformat": 4,
 "nbformat_minor": 5
}
