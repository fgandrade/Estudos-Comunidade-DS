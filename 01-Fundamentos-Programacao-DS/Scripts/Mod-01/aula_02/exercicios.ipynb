{
 "cells": [
  {
   "cell_type": "markdown",
   "id": "356cb35d",
   "metadata": {
    "heading_collapsed": true
   },
   "source": [
    "# Exercício 1.0"
   ]
  },
  {
   "cell_type": "markdown",
   "id": "96a0f0d7",
   "metadata": {
    "heading_collapsed": true,
    "hidden": true
   },
   "source": [
    "## Problema"
   ]
  },
  {
   "cell_type": "markdown",
   "id": "e9e8107f",
   "metadata": {
    "ExecuteTime": {
     "end_time": "2021-09-23T01:15:31.266217Z",
     "start_time": "2021-09-23T01:15:31.260904Z"
    },
    "hidden": true
   },
   "source": [
    "Em uma loja de CD´s existem apenas quatro tipos de preços que estão associados a cores. Assim os CD´s que ficam na loja não são marcados por preços e sim por cores. \n",
    "\n",
    "Desenvolva uma aplicação que receba como entrada a cor do CD e mostre o preço. A loja está atualmente com a seguinte tabela de preços.\n",
    "\n",
    "| Cor | Preço|\n",
    "| :-: | :--: |\n",
    "| Verde    | R\\$ 10,00 |\n",
    "| Azul     | R\\$ 20,00 |\n",
    "| Amarelo  | R\\$ 30,00 |\n",
    "| Vermelho | R\\$ 40,00 |"
   ]
  },
  {
   "cell_type": "markdown",
   "id": "111dc674",
   "metadata": {
    "ExecuteTime": {
     "end_time": "2021-09-23T01:18:10.271290Z",
     "start_time": "2021-09-23T01:18:10.267092Z"
    },
    "heading_collapsed": true,
    "hidden": true
   },
   "source": [
    "## Análise"
   ]
  },
  {
   "cell_type": "markdown",
   "id": "e21d12c5",
   "metadata": {
    "hidden": true
   },
   "source": [
    "Em uma loja de CD´s existem apenas quatro tipos de preços que estão associados a cores. <br>\n",
    "Assim os CD´s que ficam na loja não são marcados por preços e sim por cores. <br>\n",
    "Desenvolva uma aplicação que receba como entrada a cor do CD e mostre o preço. <br>\n",
    "A loja está atualmente com a seguinte tabela de preços. <br>"
   ]
  },
  {
   "cell_type": "markdown",
   "id": "726b8569",
   "metadata": {
    "heading_collapsed": true,
    "hidden": true
   },
   "source": [
    "## Implicações / Proposições / Afirmações"
   ]
  },
  {
   "cell_type": "markdown",
   "id": "77884643",
   "metadata": {
    "hidden": true
   },
   "source": [
    "* Na loja de CD's existem 4 preços. <br>\n",
    "* Existem 4 cores associadas a cada preço. <br>\n",
    "* Desenvolva uma aplicação que receba como entrada a cor do CD. <br>\n",
    "* mostre como saída o preço da cor recebida. <br>"
   ]
  },
  {
   "cell_type": "markdown",
   "id": "719448b9",
   "metadata": {
    "heading_collapsed": true,
    "hidden": true
   },
   "source": [
    "## Resolução e Resposta"
   ]
  },
  {
   "cell_type": "code",
   "execution_count": 15,
   "id": "13a59a4f",
   "metadata": {
    "ExecuteTime": {
     "end_time": "2021-09-26T21:33:34.808097Z",
     "start_time": "2021-09-26T21:33:34.805732Z"
    },
    "hidden": true
   },
   "outputs": [
    {
     "name": "stdout",
     "output_type": "stream",
     "text": [
      "Digite uma das seguintes cores (verde, azul, amarelo e vermelho): azul\n",
      "\n",
      "A cor escolhida foi azul e o seu valor R$20.0\n"
     ]
    }
   ],
   "source": [
    "# Resolução e Resposta Aqui\n",
    "cor_str = input('Digite uma das seguintes cores (verde, azul, amarelo e vermelho): ')\n",
    "cor = cor_str.lower()\n",
    "\n",
    "preco = 0\n",
    "\n",
    "print('')\n",
    "\n",
    "if (cor != 'verde' and cor != 'azul' and cor != 'amarelo' and cor != 'vermelho'):\n",
    "    print('Valor da cor não encontrado.')\n",
    "    \n",
    "else:\n",
    "    \n",
    "    if (cor == 'verde'):\n",
    "        preco = 10.00\n",
    "        \n",
    "    elif (cor == 'azul'):\n",
    "        preco = 20.00\n",
    "        \n",
    "    elif (cor == 'amarelo'):\n",
    "        preco = 30.00\n",
    "        \n",
    "    else:    \n",
    "        preco = 40.00\n",
    "\n",
    "            \n",
    "    print(f'A cor escolhida foi {cor} e o seu valor R${preco}')"
   ]
  },
  {
   "cell_type": "markdown",
   "id": "96ad9c04",
   "metadata": {
    "heading_collapsed": true
   },
   "source": [
    "# Exercício 2.0"
   ]
  },
  {
   "cell_type": "markdown",
   "id": "1e06d3df",
   "metadata": {
    "heading_collapsed": true,
    "hidden": true
   },
   "source": [
    "## Problema"
   ]
  },
  {
   "cell_type": "markdown",
   "id": "fc746ae5",
   "metadata": {
    "ExecuteTime": {
     "end_time": "2021-09-26T21:34:24.080327Z",
     "start_time": "2021-09-26T21:34:24.070512Z"
    },
    "hidden": true
   },
   "source": [
    "Uma empresa decidiu dar uma gratificação de Natal a seus funcionários, baseada no número de horas extras e no número de horas que o funcionário faltou ao trabalho. O valor do prêmio é obtido pela consulta na tabela a seguir, em que:"
   ]
  },
  {
   "cell_type": "markdown",
   "id": "4450eac5",
   "metadata": {
    "hidden": true
   },
   "source": [
    "\\begin{equation}\\label{eq:}\n",
    "H = (horas\\_extras) - 2/3 * (horas\\_falta)\n",
    "\\end{equation}"
   ]
  },
  {
   "cell_type": "markdown",
   "id": "2217fdc7",
   "metadata": {
    "hidden": true
   },
   "source": [
    "| H | Gratificação |\n",
    "| :-: | :--------: |\n",
    "| Maior que 2400 | R\\$ 500,00 |\n",
    "| 1801 até 2400  | R\\$ 400,00 |\n",
    "| 1201 até 1800  | R\\$ 300,00 | \n",
    "| 600 até 1200   | R\\$ 200,00 |\n",
    "| Menor que 600  | R\\$ 100,00 |"
   ]
  },
  {
   "cell_type": "markdown",
   "id": "aa919e41",
   "metadata": {
    "hidden": true
   },
   "source": [
    "Faça uma aplicação que receba o número de horas extras e o número de horas-falta de um funcionário e imprima o valor de sua gratificação."
   ]
  },
  {
   "cell_type": "markdown",
   "id": "ad401bca",
   "metadata": {
    "ExecuteTime": {
     "end_time": "2021-09-23T01:18:10.271290Z",
     "start_time": "2021-09-23T01:18:10.267092Z"
    },
    "heading_collapsed": true,
    "hidden": true
   },
   "source": [
    "## Análise"
   ]
  },
  {
   "cell_type": "markdown",
   "id": "83539f7e",
   "metadata": {
    "hidden": true
   },
   "source": [
    "Uma empresa decidiu dar uma gratificação de Natal a seus funcionários baseada no número de horas extras e no número de horas que o funcionário faltou ao trabalho. \n",
    "\n",
    "O valor do prêmio é obtido pela consulta na tabela a seguir, em que:\n",
    "\n",
    "H = (horas\\_extras) - 2/3 * (horas\\_falta)\n",
    "\n",
    "Faça uma aplicação que receba o número de horas extras e o número de horas-falta de um funcionário e imprima o valor de sua gratificação."
   ]
  },
  {
   "cell_type": "markdown",
   "id": "81a53233",
   "metadata": {
    "heading_collapsed": true,
    "hidden": true
   },
   "source": [
    "## Implicações / Proposições / Afirmações"
   ]
  },
  {
   "cell_type": "markdown",
   "id": "f52d843d",
   "metadata": {
    "hidden": true
   },
   "source": [
    "* Uma empresa decidiu dar uma gratificação de Natal a seus funcionários baseada no número de horas extras e no número de horas que o funcionário faltou ao trabalho. \n",
    "\n",
    "* O valor do prêmio é obtido pela consulta na tabela.\n",
    "\n",
    "* H = (horas_extras) - 2/3 * (horas_falta)\n",
    "\n",
    "* Faça uma aplicação que receba:\n",
    " - o número de horas extras,\n",
    " - o número de horas-falta de um funcionário\n",
    " \n",
    "* imprima o valor de sua gratificação de acordo com os valores da tabela."
   ]
  },
  {
   "cell_type": "markdown",
   "id": "1db898e9",
   "metadata": {
    "heading_collapsed": true,
    "hidden": true
   },
   "source": [
    "## Resolução e Resposta"
   ]
  },
  {
   "cell_type": "code",
   "execution_count": 29,
   "id": "2647d785",
   "metadata": {
    "ExecuteTime": {
     "end_time": "2021-09-26T21:33:34.808097Z",
     "start_time": "2021-09-26T21:33:34.805732Z"
    },
    "hidden": true
   },
   "outputs": [
    {
     "name": "stdout",
     "output_type": "stream",
     "text": [
      "Digite o número de horas extras realizadas de um funcionário: 4000\n",
      "Digite o número de horas-falta de um funcionário: 2\n",
      "\n",
      "O total de horas foi de 3998.6666666666665 e a gratificação R$500.0\n"
     ]
    }
   ],
   "source": [
    "# Resolução e Resposta Aqui\n",
    "\n",
    "horas_extras = float(input(\"Digite o número de horas extras realizadas de um funcionário: \"))\n",
    "horas_falta = float(input(\"Digite o número de horas-falta de um funcionário: \"))\n",
    "\n",
    "horas = (horas_extras) - 2 / 3 * (horas_falta)\n",
    "\n",
    "gratificacao = 0\n",
    "\n",
    "if (horas < 600.00):\n",
    "    gratificacao = 100.00\n",
    "\n",
    "elif (horas >= 600.00 and horas <= 1200.00):\n",
    "    gratificacao = 200.00\n",
    "\n",
    "elif (horas >= 1201.00 and horas <= 1800.00):\n",
    "    gratificacao = 300.00\n",
    "\n",
    "elif (horas >= 1801.00 and horas <= 2400.00):\n",
    "    gratificacao = 400.00\n",
    "\n",
    "else:\n",
    "    gratificacao = 500.00\n",
    "    \n",
    "\n",
    "print('')\n",
    "print(f'O total de horas foi de {horas} e a gratificação R${gratificacao}')"
   ]
  }
 ],
 "metadata": {
  "kernelspec": {
   "display_name": "Python 3 (ipykernel)",
   "language": "python",
   "name": "python3"
  },
  "language_info": {
   "codemirror_mode": {
    "name": "ipython",
    "version": 3
   },
   "file_extension": ".py",
   "mimetype": "text/x-python",
   "name": "python",
   "nbconvert_exporter": "python",
   "pygments_lexer": "ipython3",
   "version": "3.9.7"
  },
  "latex_envs": {
   "LaTeX_envs_menu_present": true,
   "autoclose": false,
   "autocomplete": true,
   "bibliofile": "biblio.bib",
   "cite_by": "apalike",
   "current_citInitial": 1,
   "eqLabelWithNumbers": true,
   "eqNumInitial": 1,
   "hotkeys": {
    "equation": "Ctrl-E",
    "itemize": "Ctrl-I"
   },
   "labels_anchors": false,
   "latex_user_defs": false,
   "report_style_numbering": false,
   "user_envs_cfg": false
  }
 },
 "nbformat": 4,
 "nbformat_minor": 5
}
