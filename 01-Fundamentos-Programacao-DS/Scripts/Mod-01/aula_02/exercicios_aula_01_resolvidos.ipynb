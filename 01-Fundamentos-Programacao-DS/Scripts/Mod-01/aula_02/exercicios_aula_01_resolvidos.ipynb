{
 "cells": [
  {
   "cell_type": "markdown",
   "id": "356cb35d",
   "metadata": {
    "heading_collapsed": true
   },
   "source": [
    "# Exercício 1.0 - Raciocínio Lógico"
   ]
  },
  {
   "cell_type": "markdown",
   "id": "96a0f0d7",
   "metadata": {
    "heading_collapsed": true,
    "hidden": true
   },
   "source": [
    "## Problema"
   ]
  },
  {
   "cell_type": "markdown",
   "id": "e9e8107f",
   "metadata": {
    "ExecuteTime": {
     "end_time": "2021-09-23T01:15:31.266217Z",
     "start_time": "2021-09-23T01:15:31.260904Z"
    },
    "hidden": true
   },
   "source": [
    "Em uma escola estudam quatro amigas: Raquel, Vivian, Bruna e Ana. Em um dia ensolarado, elas se reuniram para passear em um parque. Cada uma delas utilizou uma camiseta de cor diferente: Branco, Azul, Amarelo e Verde. Além disso, cada uma passou um protetor com fator de proteção (FPS) diferente. Cada uma delas tem um animal de estimação diferente e gosta de um suco diferente, além de possuírem idades diferentes.  \n",
    "Todas elas sentaram em um banco de 4 lugares, cada uma ocupando um lugar diferente.  \n",
    "Na terceira posição do banco está a garota que tem um Cachorro.  \n",
    "Quem tem um Peixe está em uma das pontas do banco.  \n",
    "A garota que tem um Gato está na primeira posição do banco.  \n",
    "Ana usou o protetor solar de FPS 50.  \n",
    "Na segunda posição está a garota que usou o protetor solar com FPS 55.  \n",
    "A garota mais nova está ao lado da que usa protetor solar de menor FPS.  \n",
    "Quem gosta de suco de Morango está na quarta posição do banco.  \n",
    "A garota que gosta de suco de Maracujá está ao lado da que tem Pássaros.  \n",
    "A garota que gosta de suco de Limão está ao lado da que gosta de suco de Maracujá.  \n",
    "Quem gosta de suco de Laranja está em uma das pontas.  \n",
    "A garota de camiseta Azul está em algum lugar à esquerda da garota de 9 anos.  \n",
    "A garota de 8 anos está na quarta posição.  \n",
    "A garota de 11 anos está em uma das pontas.  \n",
    "Vivian tem Pássaros.  \n",
    "Raquel está na primeira posição.  \n",
    "A garota de camiseta Verde está na quarta posição do banco.  \n",
    "A garota de camiseta Branca está em uma das pontas.  \n",
    "A garota de 10 anos está ao lado da garota de 11.  \n",
    "A garota que usou o protetor solar de FPS 40 gosta de suco de Maracujá.  \n",
    "A garota que usou o protetor solar de FPS 45 está em uma das pontas do banco.  \n",
    "Bruna tem Cachorros.  \n",
    "\n",
    "Qual a característica (cor da camiseta, animal de estimação, protetor solar que utilizou, suco que gosta, nome e idade) de cada uma das garotas?\n"
   ]
  },
  {
   "cell_type": "markdown",
   "id": "111dc674",
   "metadata": {
    "ExecuteTime": {
     "end_time": "2021-09-23T01:18:10.271290Z",
     "start_time": "2021-09-23T01:18:10.267092Z"
    },
    "heading_collapsed": true,
    "hidden": true
   },
   "source": [
    "## Análise"
   ]
  },
  {
   "cell_type": "markdown",
   "id": "e21d12c5",
   "metadata": {
    "hidden": true
   },
   "source": [
    "Em uma escola estudam quatro amigas: Raquel, Vivian, Bruna e Ana.  \n",
    "Em um dia ensolarado, elas se reuniram para passear em um parque.  \n",
    "Cada uma delas utilizou uma camiseta de cor diferente: Branco, Azul, Amarelo e Verde.  \n",
    "Além disso, cada uma passou um protetor com fator de proteção (FPS) diferente.  \n",
    "Cada uma delas tem um animal de estimação diferente.  \n",
    "Cada uma delas tomou um suco diferente na no parque.  \n",
    "Cada uma delas possui idades diferentes.  \n",
    "Todas elas sentaram em um banco de 4 lugares, cada uma ocupando um lugar diferente.  \n",
    "Na terceira posição do banco está a garota que tem um Cachorro.  \n",
    "Quem tem um Peixe está em uma das pontas do banco.  \n",
    "A garota que tem um Gato está na primeira posição do banco.  \n",
    "Ana usou o protetor solar de FPS 50.  \n",
    "Na segunda posição está a garota que usou o protetor solar com FPS 55. \n",
    "A garota mais nova está ao lado da que usa protetor solar de menor FPS.  \n",
    "Quem gosta de suco de Morango está na quarta posição do banco.  \n",
    "A garota que gosta de suco de Maracujá está ao lado da que tem Pássaros.  \n",
    "A garota que gosta de suco de Limão está ao lado da que gosta de suco de Maracujá.  \n",
    "Quem gosta de suco de Laranja está em uma das pontas.  \n",
    "A garota de camiseta Azul está em algum lugar à esquerda da garota de 9 anos.  \n",
    "A garota de 8 anos está na quarta posição.  \n",
    "A garota de 11 anos está em uma das pontas.  \n",
    "Vivian tem Pássaros.  \n",
    "Raquel está na primeira posição.  \n",
    "A garota de camiseta Verde está na quarta posição do banco.  \n",
    "A garota de camiseta Branca está em uma das pontas.  \n",
    "A garota de 10 anos está ao lado da garota de 11.  \n",
    "A garota que usou o protetor solar de FPS 40 gosta de suco de Maracujá.  \n",
    "A garota que usou o protetor solar de FPS 45 está em uma das pontas do banco.  \n",
    "Bruna tem Cachorros.  \n",
    "\n",
    "Qual a característica (cor da camiseta, animal de estimação, protetor solar que utilizou, suco que gosta, nome e idade) de cada uma das garotas?"
   ]
  },
  {
   "cell_type": "markdown",
   "id": "726b8569",
   "metadata": {
    "heading_collapsed": true,
    "hidden": true
   },
   "source": [
    "## Implicações / Proposições / Afirmações"
   ]
  },
  {
   "cell_type": "markdown",
   "id": "77884643",
   "metadata": {
    "hidden": true
   },
   "source": [
    "* Existem 4 amigas: Raquel, Vivian, Bruna e Ana;\n",
    "* Existem 4 Cores diferentes: Branco, Azul, Amarelo e Verde.\n",
    "* Existem 4 Protetores diferentes: FPS 40, 45, 50 e 55;\n",
    "* Existem 4 Pets diferentes: Cachorro, Pássaros, Peixe e Gato;\n",
    "* Existem 4 Idades diferentes: 8, 9, 10 e 11 anos;\n",
    "* Existem 4 Sucos diferentes: Morango, Limão, Maracujá e Laranja;\n",
    "* Cada uma das amigas sentou em um lugar diferente do banco;\n",
    "* Em uma das Pontas está quem está usando Branco\n",
    "* Em uma das Pontas está quem usou o Protetor FPS 45\n",
    "* Em uma das Pontas está quem gosta de suco de Laranja\n",
    "* Em uma das Pontas está quem tem Peixe\n",
    "* Em uma das Pontas está a garota de 11 anos\n",
    "* Na Primeira Posição está a Raquel\n",
    "* Na Primeira Posição está quem tem Gato\n",
    "* Na Segunda Posição está quem usou Protetor FPS 55\n",
    "* Na Terceira Posição está quem tem Cachorro\n",
    "* Na Quarta Posição está quem gosta de suco de Morango\n",
    "* Na Quarta Posição está a garota de 8 anos\n",
    "* Na Quarta Posição está a garota de Verde\n",
    "* Quem gosta de Suco de Maracujá está ao lado de quem tem Pássaros\n",
    "* Quem gosta de Suco de Maracujá usou o Protetor FPS 40\n",
    "* Quem gosta de Suco de Limão está ao lado de quem gosta de Suco de Maracujá.\n",
    "* Ana usou o protetor solar de FPS 50.\n",
    "* Bruna tem Cachorros.\n",
    "* Vivian tem Pássaros.\n",
    "* A garota mais nova está ao lado da que usou Protetor com o menor FPS.\n",
    "* A garota de 10 anos está ao lado da garota de 11.\n",
    "* A garota de camiseta Azul está em algum lugar à esquerda da garota de 9 anos."
   ]
  },
  {
   "cell_type": "markdown",
   "id": "719448b9",
   "metadata": {
    "heading_collapsed": true,
    "hidden": true
   },
   "source": [
    "## Resolução"
   ]
  },
  {
   "cell_type": "markdown",
   "id": "e6981313",
   "metadata": {
    "hidden": true
   },
   "source": [
    "| Animais x Banco  | Posição 1 | Posição 2 | Posição 3 | Posição 4| \n",
    "| :------------: | :------: | :------: | :------: | :------: | \n",
    "| Cachorro  | F | F | V | F |\n",
    "| Peixe     | F | F | F | V |\n",
    "| Passaro   | F | V | F | F |\n",
    "| Gato      | V | F | F | F |"
   ]
  },
  {
   "cell_type": "markdown",
   "id": "38c532aa",
   "metadata": {
    "hidden": true
   },
   "source": [
    "| Garota x Banco | Posição 1 | Posição 2 | Posição 3 | Posição 4| \n",
    "| :------------: | :------: | :------: | :------: | :------: | \n",
    "| Raquel | V | F | F | F |\n",
    "| Vivian | F | V | F | F |\n",
    "| Bruna  | F | F | V | F |\n",
    "| Ana    | F | F | F | V |"
   ]
  },
  {
   "cell_type": "markdown",
   "id": "4b77b934",
   "metadata": {
    "hidden": true
   },
   "source": [
    "| Protetor x Banco  | Posição 1 | Posição 2 | Posição 3 | Posição 4| \n",
    "| :---------------: | :-------: | :-------: | :-------: | :------: | \n",
    "| 40 | F | F | V | F |\n",
    "| 45 | V | F | F | F |\n",
    "| 50 | F | F | F | V |\n",
    "| 55 | F | V | F | F |"
   ]
  },
  {
   "cell_type": "markdown",
   "id": "70a3257e",
   "metadata": {
    "hidden": true
   },
   "source": [
    "| Sucos x Banco  | Posição 1 | Posição 2 | Posição 3 | Posição 4| \n",
    "| :--------------: | :-------: | :-------: | :-------: | :------: | \n",
    "| Morango  | F | F | F | V |\n",
    "| Limão    | F | V | F | F |\n",
    "| Maracujá | F | F | V | F |\n",
    "| Laranja  | V | F | F | F |"
   ]
  },
  {
   "cell_type": "markdown",
   "id": "61c15506",
   "metadata": {
    "hidden": true
   },
   "source": [
    "| Idade x Banco  | Posição 1 | Posição 2 | Posição 3 | Posição 4| \n",
    "| :------------: | :-------: | :-------: | :-------: | :------: | \n",
    "| 8  | F | F | F | V |\n",
    "| 9  | F | F | V | F |\n",
    "| 10 | F | V | F | F |\n",
    "| 11 | V | F | F | F |"
   ]
  },
  {
   "cell_type": "markdown",
   "id": "39beb928",
   "metadata": {
    "hidden": true
   },
   "source": [
    "| Camiseta x Banco  | Posição 1 | Posição 2 | Posição 3 | Posição 4| \n",
    "| :---------------: | :-------: | :-------: | :-------: | :------: | \n",
    "| Verde   | F | F | F | V |\n",
    "| Branco  | V | F | F | F |\n",
    "| Azul    | F | V | F | F |\n",
    "| Amarelo | F | F | V | F |"
   ]
  },
  {
   "cell_type": "markdown",
   "id": "ca52bffc",
   "metadata": {
    "hidden": true
   },
   "source": [
    "| Garota x Animal | Cachorro | Peixe | Pássaro | Gato | \n",
    "| :-------------: | :------: | :---: | :-----: | :--: | \n",
    "| Raquel | F | V | F | F |\n",
    "| Vivian | F | F | V | F |\n",
    "| Bruna  | V | F | F | F |\n",
    "| Ana    | F | F | F | V |"
   ]
  },
  {
   "cell_type": "markdown",
   "id": "6aa6c767",
   "metadata": {
    "hidden": true
   },
   "source": [
    "| Garota x Protetor | 40 | 45 | 50 | 55 | \n",
    "| :---------------: | :-: | :-: | :-: | :-: | \n",
    "| Raquel | F | V | F | F |\n",
    "| Vivian | F | F | F | V |\n",
    "| Bruna  | V | F | F | F |\n",
    "| Ana    | F | F | V | F |"
   ]
  },
  {
   "cell_type": "markdown",
   "id": "a2b14d97",
   "metadata": {
    "hidden": true
   },
   "source": [
    "A quantidade de tabelas para cada uma das reações cresce conforme a quantidade de variáveis e relações nas proposições do problema. Dessa forma, fica um pouco inviável relacionar dessa forma, criando uma tabela para cada relação.  \n",
    "Uma alternativa é criar uma tabela com a característica que mais possua informações e combinar com as outras, criando uma tabela onde as células conterão a resposta de cada característica."
   ]
  },
  {
   "cell_type": "markdown",
   "id": "95641b45",
   "metadata": {
    "hidden": true
   },
   "source": [
    "| Características x Banco | Posição 1 | Posição 2 | Posição 3 | Posição 4 | \n",
    "| :---------------: | :-: | :-: | :-: | :-: | \n",
    "| Nome     | Raquel  | Vivian  | Bruna    | Ana |\n",
    "| Animal   | Gato    | Pássaro | Cachorro | Peixe |\n",
    "| Idade    | 11      | 10      | 9        | 8 |\n",
    "| Suco     | Laranja | Limão   | Maracujá | Morango |\n",
    "| Camiseta | Branco  | Azul    | Amarelo  | Verde |\n",
    "| Protetor | 45      | 55      | 40       | 50 |"
   ]
  },
  {
   "cell_type": "markdown",
   "id": "e6039c9b",
   "metadata": {
    "heading_collapsed": true,
    "hidden": true
   },
   "source": [
    "## Resposta"
   ]
  },
  {
   "cell_type": "markdown",
   "id": "6777ad45",
   "metadata": {
    "hidden": true
   },
   "source": [
    "Raquel está vestindo uma camiseta Branca, passou Protetor de 45 FPS, tem 11 anos, tomou Suco de Laranja, está sentada na Primeira Posição do Banco e possui um Gato.\n",
    "\n",
    "Vivian está vestindo uma camiseta Azul, passou Protetor de 55 FPS, tem 10 anos, tomou Suco de Limão, está sentada na Segunda Posição do Banco e possui um Pássaro.\n",
    "\n",
    "Bruna está vestindo uma camiseta Amarela, passou Protetor de 40 FPS, tem 9 anos, tomou Suco de Maracujá, está sentada na Terceira Posição do Banco e possui um Cachorro.\n",
    "\n",
    "Ana está vestindo uma camiseta Verde, passou Protetor de 50 FPS, tem 8 anos, tomou Suco de Morango, está sentada na Quarta Posição do Banco e possui um Peixe."
   ]
  },
  {
   "cell_type": "markdown",
   "id": "96ad9c04",
   "metadata": {
    "heading_collapsed": true
   },
   "source": [
    "# Exercício 2.0 - Estrutura IF"
   ]
  },
  {
   "cell_type": "markdown",
   "id": "1e06d3df",
   "metadata": {
    "heading_collapsed": true,
    "hidden": true
   },
   "source": [
    "## Problema"
   ]
  },
  {
   "cell_type": "markdown",
   "id": "aad3c3fa",
   "metadata": {
    "ExecuteTime": {
     "end_time": "2021-09-25T18:59:10.528659Z",
     "start_time": "2021-09-25T18:59:10.519979Z"
    },
    "hidden": true
   },
   "source": [
    "Elimine os testes redundantes dos itens abaixo:"
   ]
  },
  {
   "cell_type": "markdown",
   "id": "b015d263",
   "metadata": {
    "heading_collapsed": true,
    "hidden": true
   },
   "source": [
    "### a)\n",
    "```python\n",
    "if (a > b):\n",
    "    print(f'Maior {a}')\n",
    "else:\n",
    "    if (b >= a):\n",
    "        print(f'Maior {b}')\n",
    "```"
   ]
  },
  {
   "cell_type": "markdown",
   "id": "945db4fd",
   "metadata": {
    "heading_collapsed": true,
    "hidden": true
   },
   "source": [
    "#### Resposta"
   ]
  },
  {
   "cell_type": "code",
   "execution_count": 1,
   "id": "0671c10a",
   "metadata": {
    "ExecuteTime": {
     "end_time": "2021-09-25T19:31:46.232440Z",
     "start_time": "2021-09-25T19:31:46.229849Z"
    },
    "hidden": true
   },
   "outputs": [],
   "source": [
    "# Resolução aqui\n",
    "if (a > b):\n",
    "    print(f'Maior {a}')\n",
    "else:\n",
    "    print(f'Maior {b}')"
   ]
  },
  {
   "cell_type": "markdown",
   "id": "676e3705",
   "metadata": {
    "heading_collapsed": true,
    "hidden": true
   },
   "source": [
    "### b)\n",
    "```python\n",
    "if (x > 10):\n",
    "    print(f'Valor maior que 10')\n",
    "else:\n",
    "    if (x <= 10 and x > 5):\n",
    "        print(f'Menor ou igual a 10 e maior que 5')\n",
    "    else:\n",
    "        if (x <= 5):\n",
    "            print(f'Menor ou igual a 5')\n",
    "```"
   ]
  },
  {
   "cell_type": "markdown",
   "id": "54fc2843",
   "metadata": {
    "ExecuteTime": {
     "end_time": "2021-09-25T19:35:24.059982Z",
     "start_time": "2021-09-25T19:35:24.057547Z"
    },
    "heading_collapsed": true,
    "hidden": true
   },
   "source": [
    "#### Resposta"
   ]
  },
  {
   "cell_type": "code",
   "execution_count": null,
   "id": "5cff430a",
   "metadata": {
    "hidden": true
   },
   "outputs": [],
   "source": [
    "# Resolução aqui\n",
    "if (x > 10):\n",
    "    print(f'Valor maior que 10')\n",
    "elif (x <= 10 and x > 5): # Ou somente elif (x > 5):\n",
    "    print(f'Menor ou igual a 10 e maior que 5')\n",
    "else:\n",
    "    print(f'Menor ou igual a 5')"
   ]
  }
 ],
 "metadata": {
  "kernelspec": {
   "display_name": "Python 3.8.11 64-bit ('3.8.11': pyenv)",
   "language": "python",
   "name": "python3811jvsc74a57bd016c98fcc13804c079c0e605033a1ae10a459b3686638e04aa6e2e124f32781c0"
  },
  "language_info": {
   "codemirror_mode": {
    "name": "ipython",
    "version": 3
   },
   "file_extension": ".py",
   "mimetype": "text/x-python",
   "name": "python",
   "nbconvert_exporter": "python",
   "pygments_lexer": "ipython3",
   "version": "3.8.11"
  },
  "latex_envs": {
   "LaTeX_envs_menu_present": true,
   "autoclose": false,
   "autocomplete": true,
   "bibliofile": "biblio.bib",
   "cite_by": "apalike",
   "current_citInitial": 1,
   "eqLabelWithNumbers": true,
   "eqNumInitial": 1,
   "hotkeys": {
    "equation": "Ctrl-E",
    "itemize": "Ctrl-I"
   },
   "labels_anchors": false,
   "latex_user_defs": false,
   "report_style_numbering": false,
   "user_envs_cfg": false
  }
 },
 "nbformat": 4,
 "nbformat_minor": 5
}
