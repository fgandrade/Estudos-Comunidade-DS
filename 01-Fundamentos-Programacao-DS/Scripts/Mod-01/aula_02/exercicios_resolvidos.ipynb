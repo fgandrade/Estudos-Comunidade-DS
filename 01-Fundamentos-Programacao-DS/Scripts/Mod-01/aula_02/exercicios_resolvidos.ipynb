{
 "cells": [
  {
   "cell_type": "markdown",
   "id": "356cb35d",
   "metadata": {
    "heading_collapsed": true
   },
   "source": [
    "# Exercício 1.0"
   ]
  },
  {
   "cell_type": "markdown",
   "id": "96a0f0d7",
   "metadata": {
    "heading_collapsed": true,
    "hidden": true
   },
   "source": [
    "## Problema"
   ]
  },
  {
   "cell_type": "markdown",
   "id": "e9e8107f",
   "metadata": {
    "ExecuteTime": {
     "end_time": "2021-09-23T01:15:31.266217Z",
     "start_time": "2021-09-23T01:15:31.260904Z"
    },
    "hidden": true
   },
   "source": [
    "Em uma loja e CD´s existem apenas quatro tipos de preços que estão associados a cores. Assim os CD´s que ficam na loja não são marcados por preços e sim por cores. \n",
    "\n",
    "Desenvolva uma aplicação que receba como entrada a cor do CD e mostre o preço. A loja está atualmente com a seguinte tabela de preços.\n",
    "\n",
    "| Cor | Preço|\n",
    "| :-: | :--: |\n",
    "| Verde    | R\\$ 10,00 |\n",
    "| Azul     | R\\$ 20,00 |\n",
    "| Amarelo  | R\\$ 30,00 |\n",
    "| Vermelho | R\\$ 40,00 |\n",
    "\n",
    "Caso o usuário digite uma cor não existente, a aplicação deve mostrar a mensagem `\"Cor Não Registrada\"`"
   ]
  },
  {
   "cell_type": "markdown",
   "id": "111dc674",
   "metadata": {
    "ExecuteTime": {
     "end_time": "2021-09-23T01:18:10.271290Z",
     "start_time": "2021-09-23T01:18:10.267092Z"
    },
    "heading_collapsed": true,
    "hidden": true
   },
   "source": [
    "## Análise"
   ]
  },
  {
   "cell_type": "markdown",
   "id": "e21d12c5",
   "metadata": {
    "hidden": true
   },
   "source": [
    "Em uma loja e CD´s existem apenas quatro tipos de preços que estão associados a cores.\n",
    "\n",
    "Desenvolva uma aplicação que receba como entrada a cor do CD e mostre o preço. \n",
    "\n",
    "| Cor | Preço|\n",
    "| :-: | :--: |\n",
    "| Verde    | R\\$ 10,00 |\n",
    "| Azul     | R\\$ 20,00 |\n",
    "| Amarelo  | R\\$ 30,00 |\n",
    "| Vermelho | R\\$ 40,00 |\n",
    "\n",
    "Caso o usuário digite uma cor não existente, a aplicação deve mostrar a mensagem `\"Cor Não Registrada\"`"
   ]
  },
  {
   "cell_type": "markdown",
   "id": "726b8569",
   "metadata": {
    "heading_collapsed": true,
    "hidden": true
   },
   "source": [
    "## Implicações / Proposições / Afirmações"
   ]
  },
  {
   "cell_type": "markdown",
   "id": "77884643",
   "metadata": {
    "hidden": true
   },
   "source": [
    "* A aplicação deve receber do usuário a cor digitada\n",
    "* A Aplicação deve mostrar o valor do CD com base na cor\n",
    "* As cores existente são: Verde, Azul, Amarelo e Vermelho.\n",
    "* Se o usuário digitar um cor inexistente, a aplicação deve mostrar a mensagem `\"Cor Não Registrada\"`\n",
    "* Os valores por cor são:\n",
    "    * Verde -> R\\$ 10,00\n",
    "    * Azul -> R\\$ 20,00\n",
    "    * Amarelo -> R\\$ 30,00\n",
    "    * Vermelho -> R\\$ 40,00"
   ]
  },
  {
   "cell_type": "markdown",
   "id": "719448b9",
   "metadata": {
    "heading_collapsed": true,
    "hidden": true
   },
   "source": [
    "## Resolução e Resposta"
   ]
  },
  {
   "cell_type": "code",
   "execution_count": 1,
   "id": "b9521954",
   "metadata": {
    "ExecuteTime": {
     "end_time": "2021-09-26T21:46:41.974850Z",
     "start_time": "2021-09-26T21:46:38.466722Z"
    },
    "hidden": true
   },
   "outputs": [
    {
     "name": "stdout",
     "output_type": "stream",
     "text": [
      "Digite a cor no CD: Preto\n",
      "Essa cor não está registrada\n"
     ]
    }
   ],
   "source": [
    "# Resolução e Resposta Aqui\n",
    "\n",
    "cor = input(\"Digite a cor no CD: \")\n",
    "\n",
    "if cor == \"Verde\" :\n",
    "    print('O CD custa R$ 10,00')\n",
    "elif cor == \"Azul\" :\n",
    "    print('O CD custa R$ 20,00')\n",
    "elif cor == \"Amarelo\" :\n",
    "    print('O CD custa R$ 30,00')\n",
    "elif cor == \"Vermelho\" :\n",
    "    print('O CD custa R$ 40,00')\n",
    "else :\n",
    "    print('Essa cor não está registrada')"
   ]
  },
  {
   "cell_type": "markdown",
   "id": "96ad9c04",
   "metadata": {
    "heading_collapsed": true
   },
   "source": [
    "# Exercício 2.0"
   ]
  },
  {
   "cell_type": "markdown",
   "id": "1e06d3df",
   "metadata": {
    "heading_collapsed": true,
    "hidden": true
   },
   "source": [
    "## Problema"
   ]
  },
  {
   "cell_type": "markdown",
   "id": "1383ad2e",
   "metadata": {
    "ExecuteTime": {
     "end_time": "2021-09-26T21:34:24.080327Z",
     "start_time": "2021-09-26T21:34:24.070512Z"
    },
    "hidden": true
   },
   "source": [
    "Uma empresa decidiu dar uma gratificação de Natal a seus funcionários, baseada no número de horas extras e no número de horas que o funcionário faltou ao trabalho. O valor do prêmio é obtido pela consulta na tabela a seguir, em que:"
   ]
  },
  {
   "cell_type": "markdown",
   "id": "bfe99bb2",
   "metadata": {
    "hidden": true
   },
   "source": [
    "\\begin{equation}\\label{eq:}\n",
    "H = (horas\\_extras) - 2/3 * (horas\\_falta)\n",
    "\\end{equation}"
   ]
  },
  {
   "cell_type": "markdown",
   "id": "dfb6c857",
   "metadata": {
    "hidden": true
   },
   "source": [
    "| H | Gratificação |\n",
    "| :-: | :--------: |\n",
    "| Maior que 2400 | R\\$ 500,00 |\n",
    "| 1801 até 2400  | R\\$ 400,00 |\n",
    "| 1201 até 1800  | R\\$ 300,00 | \n",
    "| 600 até 1200   | R\\$ 200,00 |\n",
    "| Menor que 600  | R\\$ 100,00 |"
   ]
  },
  {
   "cell_type": "markdown",
   "id": "4ec210ff",
   "metadata": {
    "hidden": true
   },
   "source": [
    "Faça uma aplicação que receba o número de horas extras e o número de horas-falta de um funcionário e imprima o valor de sua gratificação."
   ]
  },
  {
   "cell_type": "markdown",
   "id": "9f7ea996",
   "metadata": {
    "ExecuteTime": {
     "end_time": "2021-09-23T01:18:10.271290Z",
     "start_time": "2021-09-23T01:18:10.267092Z"
    },
    "heading_collapsed": true,
    "hidden": true
   },
   "source": [
    "## Análise"
   ]
  },
  {
   "cell_type": "markdown",
   "id": "07d22280",
   "metadata": {
    "hidden": true
   },
   "source": [
    "Uma empresa decidiu dar uma gratificação a seus funcionários, baseada no número de horas extras e no número de horas que o funcionário faltou ao trabalho.\n",
    "\n",
    "`𝐻 = (ℎ𝑜𝑟𝑎𝑠_𝑒𝑥𝑡𝑟𝑎𝑠) − 2/3 ∗ (ℎ𝑜𝑟𝑎𝑠_𝑓𝑎𝑙𝑡𝑎)`\n",
    "\n",
    "\n",
    "| H | Gratificação |\n",
    "| :-: | :--------: |\n",
    "| Maior que 2400 | R\\$ 500,00 |\n",
    "| 1801 até 2400  | R\\$ 400,00 |\n",
    "| 1201 até 1800  | R\\$ 300,00 | \n",
    "| 600 até 1200   | R\\$ 200,00 |\n",
    "| Menor que 600  | R\\$ 100,00 |\n",
    "\n",
    "Faça uma aplicação que receba o número de horas extras e o número de horas-falta de um funcionário e imprima o valor de sua gratificação."
   ]
  },
  {
   "cell_type": "markdown",
   "id": "97089cc0",
   "metadata": {
    "heading_collapsed": true,
    "hidden": true
   },
   "source": [
    "## Implicações / Proposições / Afirmações"
   ]
  },
  {
   "cell_type": "markdown",
   "id": "9847a7c9",
   "metadata": {
    "hidden": true
   },
   "source": [
    "* A aplicação deve receber 2 valores: Quantidade de Horas Extras e Quantidade de Horas Falta\n",
    "* A Aplicação deve utiizar a fórmula `𝐻 = (ℎ𝑜𝑟𝑎𝑠_𝑒𝑥𝑡𝑟𝑎𝑠) − 2/3 ∗ (ℎ𝑜𝑟𝑎𝑠_𝑓𝑎𝑙𝑡𝑎)` para calcular a gratificação\n",
    "* O Valor Obtido através da fórmula deve ser comparado com a seguinte tabela para verificarmos qual será o valor da gratificação:\n",
    "\n",
    "| H | Gratificação |\n",
    "| :-: | :--------: |\n",
    "| Maior que 2400 | R\\$ 500,00 |\n",
    "| 1801 até 2400  | R\\$ 400,00 |\n",
    "| 1201 até 1800  | R\\$ 300,00 | \n",
    "| 600 até 1200   | R\\$ 200,00 |\n",
    "| Menor que 600  | R\\$ 100,00 |"
   ]
  },
  {
   "cell_type": "markdown",
   "id": "9e5672ac",
   "metadata": {
    "heading_collapsed": true,
    "hidden": true
   },
   "source": [
    "## Resolução e Resposta"
   ]
  },
  {
   "cell_type": "code",
   "execution_count": 2,
   "id": "ea1c580d",
   "metadata": {
    "ExecuteTime": {
     "end_time": "2021-09-26T22:31:51.058661Z",
     "start_time": "2021-09-26T22:31:41.207094Z"
    },
    "hidden": true
   },
   "outputs": [
    {
     "name": "stdout",
     "output_type": "stream",
     "text": [
      "Inorme a quantidade de horas extras: 2400\n",
      "Inorme a quantidade de horas-falta: 0\n",
      "O Valor da gratificação é de R$ 400,00\n"
     ]
    }
   ],
   "source": [
    "# Resolução e Resposta Aqui\n",
    "\n",
    "h_extras = int(input('Inorme a quantidade de horas extras: '))\n",
    "h_faltas = int(input('Inorme a quantidade de horas-falta: '))\n",
    "\n",
    "h = h_extras - (2/3 * h_faltas)\n",
    "\n",
    "if(h > 2400):\n",
    "    print(f'O Valor da gratificação é de R$ 500,00')\n",
    "elif(h > 1800 and h <= 2400):\n",
    "    print(f'O Valor da gratificação é de R$ 400,00')\n",
    "elif(h > 1200 and h <= 1800):\n",
    "    print(f'O Valor da gratificação é de R$ 300,00')\n",
    "elif(h > 600 and h <= 1200):\n",
    "    print(f'O Valor da gratificação é de R$ 200,00')\n",
    "else:\n",
    "    print(f'O Valor da gratificação é de R$ 100,00')"
   ]
  }
 ],
 "metadata": {
  "kernelspec": {
   "display_name": "Python 3 (ipykernel)",
   "language": "python",
   "name": "python3"
  },
  "language_info": {
   "codemirror_mode": {
    "name": "ipython",
    "version": 3
   },
   "file_extension": ".py",
   "mimetype": "text/x-python",
   "name": "python",
   "nbconvert_exporter": "python",
   "pygments_lexer": "ipython3",
   "version": "3.9.7"
  },
  "latex_envs": {
   "LaTeX_envs_menu_present": true,
   "autoclose": false,
   "autocomplete": true,
   "bibliofile": "biblio.bib",
   "cite_by": "apalike",
   "current_citInitial": 1,
   "eqLabelWithNumbers": true,
   "eqNumInitial": 1,
   "hotkeys": {
    "equation": "Ctrl-E",
    "itemize": "Ctrl-I"
   },
   "labels_anchors": false,
   "latex_user_defs": false,
   "report_style_numbering": false,
   "user_envs_cfg": false
  }
 },
 "nbformat": 4,
 "nbformat_minor": 5
}
