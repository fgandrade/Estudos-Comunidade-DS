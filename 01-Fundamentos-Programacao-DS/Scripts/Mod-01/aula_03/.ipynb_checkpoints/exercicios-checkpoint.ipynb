{
 "cells": [
  {
   "cell_type": "markdown",
   "id": "356cb35d",
   "metadata": {},
   "source": [
    "# Exercício 1.0"
   ]
  },
  {
   "cell_type": "markdown",
   "id": "96a0f0d7",
   "metadata": {},
   "source": [
    "## Problema"
   ]
  },
  {
   "cell_type": "markdown",
   "id": "e9e8107f",
   "metadata": {
    "ExecuteTime": {
     "end_time": "2021-09-23T01:15:31.266217Z",
     "start_time": "2021-09-23T01:15:31.260904Z"
    }
   },
   "source": [
    "Considere um arquivo CSV com os seguintes dados de todas as copas do mundo até o ano de 2014. As informações do arquivo são:\n",
    "\n",
    "* Year - Ano da copa\n",
    "* Country - País sede\n",
    "* Winner - Campeão\n",
    "* Runners-Up - Vice-Campeão\n",
    "* Third - Terceiro lugar\n",
    "* Fourth - Quarto Lugar\n",
    "* GoalsScored - Total de Gols\n",
    "* QualifiedTeams - Quantidade de Times\n",
    "* MatchesPlayed - Quantidade de Jogos\n",
    "* Attendance - Público Total\n",
    "\n",
    "Efetue a leitura desse arquivo, sem a utilização de módulos externos (Pandas), e crie um arquivo de saída com as seguintes informações (uma informação por linha):\n",
    "\n",
    "* Soma de público das copas com anos final 0 (1930, 1950, etc)\n",
    "* Quantidade total de gols entre as copas de 1954 e 1990, inclusive\n",
    "* Média de público\n",
    "* Média de gols por partida\n",
    "* Quantidade de vezes em que o país sede foi campeão\n",
    "* Quantidade de vezes em que o time do Brasil ficou entre uma das 4 primeiras posições\n",
    "* Ano das edições em que o time da França finalizou em terceiro lugar\n",
    "* Quantidade de vitórias por país, ordenada de forma crescente por número de títulos"
   ]
  },
  {
   "cell_type": "markdown",
   "id": "111dc674",
   "metadata": {
    "ExecuteTime": {
     "end_time": "2021-09-23T01:18:10.271290Z",
     "start_time": "2021-09-23T01:18:10.267092Z"
    }
   },
   "source": [
    "## Análise"
   ]
  },
  {
   "cell_type": "markdown",
   "id": "e21d12c5",
   "metadata": {},
   "source": [
    "Receberemos dados de todas as copas do mundo até o ano de 2014.\n",
    "\n",
    "As informações do arquivo são:\n",
    "\n",
    "* Year - Ano da copa\n",
    "* Country - País sede\n",
    "* Winner - Campeão\n",
    "* Runners-Up - Vice-Campeão\n",
    "* Third - Terceiro lugar\n",
    "* Fourth - Quarto Lugar\n",
    "* GoalsScored - Total de Gols\n",
    "* QualifiedTeams - Quantidade de Times\n",
    "* MatchesPlayed - Quantidade de Jogos\n",
    "* Attendance - Público Total\n",
    "\n",
    "Sem utilização de módulos externos devemos criar um arquivo que faça essa leitura dessa base de dados.\n",
    "\n",
    "Com o arquivo lido, temos que processar as informações criar as seguintes saídas (uma informação por linha):\n",
    "\n",
    "* Soma de público das copas com anos final 0 (1930, 1950, etc)\n",
    "* Quantidade total de gols entre as copas de 1954 e 1990, inclusive\n",
    "* Média de público\n",
    "* Média de gols por partida\n",
    "* Quantidade de vezes em que o país sede foi campeão\n",
    "* Quantidade de vezes em que o time do Brasil ficou entre uma das 4 primeiras posições\n",
    "* Ano das edições em que o time da França finalizou em terceiro lugar\n",
    "* Quantidade de vitórias por país, ordenada de forma crescente por número de títulos"
   ]
  },
  {
   "cell_type": "markdown",
   "id": "726b8569",
   "metadata": {},
   "source": [
    "## Implicações / Proposições / Afirmações"
   ]
  },
  {
   "cell_type": "markdown",
   "id": "77884643",
   "metadata": {},
   "source": [
    "* A Aplicação deve receber um arquivo com dados de todas as copas do mundo até o ano de 2014.\n",
    "* A Aplicação deve ler, processar o arquivo e gerar as seguintes saídas (uma informação por linha):\n",
    "\n",
    "    * Um arquivo `.csv` com a soma de público das copas com anos final 0 (1930, 1950, etc)\n",
    "    * Um arquivo `.csv` com a quantidade total de gols entre as copas de 1954 e 1990, inclusive\n",
    "    * Um arquivo `.csv` com a média de público\n",
    "    * Um arquivo `.csv` com a média de gols por partida\n",
    "    * Um arquivo `.csv` com a quantidade de vezes em que o país sede foi campeão\n",
    "    * Um arquivo `.csv` com a quantidade de vezes em que o time do Brasil ficou entre uma das 4 primeiras posições\n",
    "    * Um arquivo `.csv` com o ano das edições em que o time da França finalizou em terceiro lugar\n",
    "    * Um arquivo `.csv` com a quantidade de vitórias por país, ordenada de forma crescente por número de títulos"
   ]
  },
  {
   "cell_type": "markdown",
   "id": "719448b9",
   "metadata": {},
   "source": [
    "## Resolução e Resposta"
   ]
  },
  {
   "cell_type": "code",
   "execution_count": 48,
   "id": "13a59a4f",
   "metadata": {
    "ExecuteTime": {
     "end_time": "2021-09-26T21:33:34.808097Z",
     "start_time": "2021-09-26T21:33:34.805732Z"
    }
   },
   "outputs": [
    {
     "name": "stdout",
     "output_type": "stream",
     "text": [
      "Soma de público das copas com final 0: 8934841\n",
      "Quantidade total de gols entre as copas de 1954 e 1990: 1131\n",
      "Média de público: 1872882.35\n",
      "Média de gols por partida: 2.8456937799043063\n",
      "Quantidade de vezes em que o país sede foi campeão: 5\n",
      "Quantidade de vezes em que o time do Brasil ficou entre uma das 4 primeiras posições: 11\n",
      "Ano das edições em que o time da França finalizou em terceiro lugar: [1958, 1986]\n",
      "Quantidade de vitórias por país, classificada em ordem crescente do número de títulos:\n",
      "Brazil 5\n",
      "Italy 4\n",
      "Germany FR 3\n",
      "Uruguay 2\n",
      "Argentina 2\n",
      "England 1\n",
      "France 1\n",
      "Spain 1\n",
      "Germany 1\n"
     ]
    }
   ],
   "source": [
    "# Resolução e Resposta Aqui\n",
    "# Carregamento da biblioteca csv para a leitura do arquivo\n",
    "import csv\n",
    "from collections import Counter\n",
    "\n",
    "# Definição no nome do arquivo\n",
    "filename = 'csv/world_cups.csv'\n",
    "\n",
    "# Variáveis auxiliares\n",
    "total_copas = 0\n",
    "total_partidas = 0\n",
    "total_gols = 0\n",
    "qtd_gols_1954_1990 = 0\n",
    "publico = 0\n",
    "publico_0 = 0\n",
    "pais_sede_campeao = 0\n",
    "brasil_quatro_pos = 0\n",
    "vencedores = []\n",
    "anos_franca_terceiro = []\n",
    "\n",
    "\n",
    "# Abertura do arquivo para leitura\n",
    "input_file = open(filename, 'r')\n",
    "\n",
    "# Leitura do arquivo \n",
    "reader = csv.reader(input_file)\n",
    "next(reader) # pula o cabeçalho\n",
    "\n",
    "# Itera as linhas do arquivo\n",
    "for copas in reader:\n",
    "    \n",
    "    # incrementando o total de copas\n",
    "    total_copas += 1\n",
    "    \n",
    "    # Incrementando o total de partidas\n",
    "    total_partidas += int(copas[8])\n",
    "    \n",
    "    # incrementando vencedores\n",
    "    vencedores.append(copas[2])\n",
    "    \n",
    "    # publico de todas edições\n",
    "    publico += int(copas[9].replace(\".\", \"\"))\n",
    "    \n",
    "    # total de gols de todas edições\n",
    "    total_gols += int(copas[6])\n",
    "    \n",
    "    # soma de público de copas com final 0\n",
    "    if(copas[0]=='1930' or copas[0]=='1950' or copas[0]=='1970' or copas[0]=='1990' or copas[0]=='2010'):\n",
    "        publico_0 += int(copas[9].replace(\".\", \"\"))\n",
    "        \n",
    "    # gols entre 1954 a 1990\n",
    "    year = int(copas[0])\n",
    "    if(year >= 1954 and year <= 1990):\n",
    "        qtd_gols_1954_1990 += int(copas[6])\n",
    "        \n",
    "    # Quantidade de vezes que o país sede foi campeão\n",
    "    if(copas[1] == copas[2]):\n",
    "        pais_sede_campeao += 1\n",
    "        \n",
    "    # Quantidade de vezes que o Brasil ficou de primeiro ao quarto lugar\n",
    "    if(copas[2] == 'Brazil' or copas[3] == 'Brazil' or copas[4] == 'Brazil' or copas[5] == 'Brazil'):\n",
    "        brasil_quatro_pos += 1\n",
    "        \n",
    "    # Anos que a França ficou em terceiro lugar\n",
    "    if(copas[4] == 'France'):\n",
    "        anos_franca_terceiro.append(year)\n",
    "        \n",
    "# média de público\n",
    "media_publico = publico / total_copas\n",
    "\n",
    "# média de gols por partida\n",
    "media_gols = total_gols / total_partidas \n",
    "    \n",
    "\n",
    "print(f'Soma de público das copas com final 0: {publico_0}')\n",
    "print(f'Quantidade total de gols entre as copas de 1954 e 1990: {qtd_gols_1954_1990}')\n",
    "print(f'Média de público: {media_publico}')\n",
    "print(f'Média de gols por partida: {media_gols}')\n",
    "print(f'Quantidade de vezes em que o país sede foi campeão: {pais_sede_campeao}')\n",
    "print(f'Quantidade de vezes em que o time do Brasil ficou entre uma das 4 primeiras posições: {brasil_quatro_pos}')\n",
    "print(f'Ano das edições em que o time da França finalizou em terceiro lugar: {anos_franca_terceiro}')\n",
    "print(f'Quantidade de vitórias por país, classificada em ordem crescente do número de títulos:')\n",
    "ranking_vencedores = dict(Counter(vencedores).items())\n",
    "sorted_vencedores = sorted(ranking_vencedores.items(), key=lambda x: x[1], reverse=True)\n",
    "for i in sorted_vencedores:\n",
    "    print(i[0], i[1])\n",
    "\n",
    "# Cria as Respostas Desejadas que serão escritas no arquivo\n",
    "with open('respostas_exercicio_output.txt', 'w') as output:\n",
    "    \n",
    "    output.write(f'Soma de público das copas com final 0: {publico_0}\\n')\n",
    "    output.write(f'Quantidade total de gols entre as copas de 1954 e 1990: {qtd_gols_1954_1990}\\n')\n",
    "    output.write(f'Média de público: {media_publico}\\n')\n",
    "    output.write(f'Média de gols por partida: {media_gols}\\n')\n",
    "    output.write(f'Quantidade de vezes em que o país sede foi campeão: {pais_sede_campeao}\\n')\n",
    "    output.write(f'Quantidade de vezes em que o time do Brasil ficou entre uma das 4 primeiras posições: {brasil_quatro_pos} \\n')\n",
    "    output.write(f'Ano das edições em que o time da França finalizou em terceiro lugar: {anos_franca_terceiro} \\n')\n",
    "    output.write(f'Quantidade de vitórias por país, classificada em ordem crescente do número de títulos: \\n')\n",
    "    for i in sorted_vencedores:\n",
    "        output.write('\\t' + '{0}:{1}'.format(i[0], i[1]) + '\\n' )"
   ]
  },
  {
   "cell_type": "markdown",
   "id": "f9edd842",
   "metadata": {},
   "source": [
    "# Resposta"
   ]
  },
  {
   "cell_type": "markdown",
   "id": "0a7cc1ee",
   "metadata": {},
   "source": [
    "Soma de público das copas com final 0: 8934841   \n",
    "Quantidade total de gols entre as copas de 1954 e 1990: 1131  \n",
    "Média de público: 1872882.35  \n",
    "Média de gols por partida: 2.85  \n",
    "Quantidade de vezes em que o país sede foi campeão: 5  \n",
    "Quantidade de vezes em que o time do Brasil ficou entre uma das 4 primeiras posições: 11  \n",
    "Ano das edições em que o time da França finalizou em terceiro lugar: 1958, 1986  \n",
    "Quantidade de vitórias por país, classificada em ordem crescente do número de títulos:  \n",
    "* England:1\n",
    "* France:1\n",
    "* Spain:1\n",
    "* Germany:1\n",
    "* Uruguay:2\n",
    "* Argentina:2\n",
    "* Germany FR:3\n",
    "* Italy:4\n",
    "* Brazil:5 "
   ]
  },
  {
   "cell_type": "code",
   "execution_count": null,
   "id": "87b96cf4",
   "metadata": {},
   "outputs": [],
   "source": []
  }
 ],
 "metadata": {
  "kernelspec": {
   "display_name": "Python 3 (ipykernel)",
   "language": "python",
   "name": "python3"
  },
  "language_info": {
   "codemirror_mode": {
    "name": "ipython",
    "version": 3
   },
   "file_extension": ".py",
   "mimetype": "text/x-python",
   "name": "python",
   "nbconvert_exporter": "python",
   "pygments_lexer": "ipython3",
   "version": "3.9.7"
  },
  "latex_envs": {
   "LaTeX_envs_menu_present": true,
   "autoclose": false,
   "autocomplete": true,
   "bibliofile": "biblio.bib",
   "cite_by": "apalike",
   "current_citInitial": 1,
   "eqLabelWithNumbers": true,
   "eqNumInitial": 1,
   "hotkeys": {
    "equation": "Ctrl-E",
    "itemize": "Ctrl-I"
   },
   "labels_anchors": false,
   "latex_user_defs": false,
   "report_style_numbering": false,
   "user_envs_cfg": false
  }
 },
 "nbformat": 4,
 "nbformat_minor": 5
}
