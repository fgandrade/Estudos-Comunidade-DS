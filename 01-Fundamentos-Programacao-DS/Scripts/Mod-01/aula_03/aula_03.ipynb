{
 "cells": [
  {
   "cell_type": "markdown",
   "id": "f66f5ab2",
   "metadata": {
    "heading_collapsed": true
   },
   "source": [
    "# COMANDOS AUXILIARES"
   ]
  },
  {
   "cell_type": "markdown",
   "id": "6a0edcdf",
   "metadata": {
    "heading_collapsed": true,
    "hidden": true
   },
   "source": [
    "## Inserção de imagens"
   ]
  },
  {
   "cell_type": "code",
   "execution_count": 1,
   "id": "fa4c2e60",
   "metadata": {
    "ExecuteTime": {
     "end_time": "2021-09-28T23:40:23.468100Z",
     "start_time": "2021-09-28T23:40:23.465694Z"
    },
    "hidden": true
   },
   "outputs": [],
   "source": [
    "from IPython.display import Image"
   ]
  },
  {
   "cell_type": "markdown",
   "id": "dfc707ff",
   "metadata": {
    "heading_collapsed": true,
    "hidden": true
   },
   "source": [
    "## Declaração de Variáveis Auxiliares"
   ]
  },
  {
   "cell_type": "code",
   "execution_count": 2,
   "id": "5b9cc19e",
   "metadata": {
    "ExecuteTime": {
     "end_time": "2021-09-26T16:05:23.022681Z",
     "start_time": "2021-09-26T16:05:23.020381Z"
    },
    "hidden": true
   },
   "outputs": [],
   "source": [
    "soma = 0\n",
    "a = 1\n",
    "b = 1"
   ]
  },
  {
   "cell_type": "markdown",
   "id": "01f00a92",
   "metadata": {},
   "source": [
    "# VARIÁVEIS \"COMPLEXAS\""
   ]
  },
  {
   "cell_type": "markdown",
   "id": "adca92f6",
   "metadata": {},
   "source": [
    "Embora o tópico tenha o nome de variável complexa, as aspas servem para demonstrar que elas não são tão complexas assim.\n",
    "\n",
    "Essas variáveis são conhecidas como variáveis de estrutura de dados, onde podemos guardar várias informações e outras variáveis dentro delas.\n",
    "\n",
    "Esse tópico tem como objetivo explicar como cada uma delas funciona e as suas diferenças."
   ]
  },
  {
   "cell_type": "markdown",
   "id": "0d444a54",
   "metadata": {},
   "source": [
    "## Listas"
   ]
  },
  {
   "cell_type": "markdown",
   "id": "4fa83b0c",
   "metadata": {},
   "source": [
    "Pense em uma Lista como uma estrutura encadeada, com um item após o outro, onde podemos adicionar vários itens de vários tipos diferentes.\n",
    "\n",
    "Podemos adicionar valores do tipo `int`, `float`, `str`, `bool`, outras listas e outras estruturas."
   ]
  },
  {
   "cell_type": "code",
   "execution_count": null,
   "id": "49f9acfc",
   "metadata": {
    "ExecuteTime": {
     "end_time": "2021-09-27T22:29:44.036653Z",
     "start_time": "2021-09-27T22:29:44.026600Z"
    },
    "hide_input": true
   },
   "outputs": [],
   "source": [
    "Image('img/lists.jpg')"
   ]
  },
  {
   "cell_type": "code",
   "execution_count": 3,
   "id": "f1634417",
   "metadata": {
    "ExecuteTime": {
     "end_time": "2021-11-04T00:02:27.187704Z",
     "start_time": "2021-11-04T00:02:27.184721Z"
    }
   },
   "outputs": [
    {
     "name": "stdout",
     "output_type": "stream",
     "text": [
      "[20, 30, 40, 50]\n",
      "[30, 40, 50, ['Pedro']]\n"
     ]
    }
   ],
   "source": [
    "lista = [20, 30,  40, 50]\n",
    "#         0   1   2    3\n",
    "#        -4  -3  -2   -1\n",
    "lista2 = list([30, 40, 50, ['Pedro']])\n",
    "\n",
    "print(lista)\n",
    "print(lista2)"
   ]
  },
  {
   "cell_type": "code",
   "execution_count": 4,
   "id": "688a562d",
   "metadata": {
    "ExecuteTime": {
     "end_time": "2021-11-04T00:02:27.706728Z",
     "start_time": "2021-11-04T00:02:27.703561Z"
    }
   },
   "outputs": [
    {
     "data": {
      "text/plain": [
       "50"
      ]
     },
     "execution_count": 4,
     "metadata": {},
     "output_type": "execute_result"
    }
   ],
   "source": [
    "lista[3]"
   ]
  },
  {
   "cell_type": "code",
   "execution_count": 5,
   "id": "6ecb8e87",
   "metadata": {
    "ExecuteTime": {
     "end_time": "2021-11-04T00:04:08.265407Z",
     "start_time": "2021-11-04T00:04:08.262988Z"
    }
   },
   "outputs": [
    {
     "data": {
      "text/plain": [
       "30"
      ]
     },
     "execution_count": 5,
     "metadata": {},
     "output_type": "execute_result"
    }
   ],
   "source": [
    "lista[-3]"
   ]
  },
  {
   "cell_type": "code",
   "execution_count": 6,
   "id": "d6136e1b",
   "metadata": {
    "ExecuteTime": {
     "end_time": "2021-11-03T23:57:44.072390Z",
     "start_time": "2021-11-03T23:57:44.069527Z"
    }
   },
   "outputs": [
    {
     "data": {
      "text/plain": [
       "[20, 30, 40, 50, 'Ferraresi']"
      ]
     },
     "execution_count": 6,
     "metadata": {},
     "output_type": "execute_result"
    }
   ],
   "source": [
    "# Inserindo elementos no final da lista\n",
    "lista.append('Ferraresi')\n",
    "lista"
   ]
  },
  {
   "cell_type": "code",
   "execution_count": 7,
   "id": "efe3e942",
   "metadata": {
    "ExecuteTime": {
     "end_time": "2021-11-03T23:58:16.687945Z",
     "start_time": "2021-11-03T23:58:16.684951Z"
    }
   },
   "outputs": [
    {
     "data": {
      "text/plain": [
       "[20, 30, 'Pedro', 40, 50, 'Ferraresi']"
      ]
     },
     "execution_count": 7,
     "metadata": {},
     "output_type": "execute_result"
    }
   ],
   "source": [
    "# Inserindo elementos numa posição desejada\n",
    "lista.insert(2, 'Pedro')\n",
    "lista"
   ]
  },
  {
   "cell_type": "code",
   "execution_count": 8,
   "id": "57eaa7a0",
   "metadata": {
    "ExecuteTime": {
     "end_time": "2021-11-03T23:59:14.381176Z",
     "start_time": "2021-11-03T23:59:14.378471Z"
    }
   },
   "outputs": [
    {
     "data": {
      "text/plain": [
       "'Ferraresi'"
      ]
     },
     "execution_count": 8,
     "metadata": {},
     "output_type": "execute_result"
    }
   ],
   "source": [
    "# remove o último elemento da lista\n",
    "ultimo = lista.pop()\n",
    "ultimo"
   ]
  },
  {
   "cell_type": "code",
   "execution_count": 9,
   "id": "65411b4f",
   "metadata": {
    "ExecuteTime": {
     "end_time": "2021-11-03T23:59:38.731424Z",
     "start_time": "2021-11-03T23:59:38.727416Z"
    }
   },
   "outputs": [
    {
     "data": {
      "text/plain": [
       "[20, 30, 'Pedro', 40, 50]"
      ]
     },
     "execution_count": 9,
     "metadata": {},
     "output_type": "execute_result"
    }
   ],
   "source": [
    "lista"
   ]
  },
  {
   "cell_type": "code",
   "execution_count": 10,
   "id": "2cbeeb57",
   "metadata": {
    "ExecuteTime": {
     "end_time": "2021-11-04T00:00:46.700457Z",
     "start_time": "2021-11-04T00:00:46.697963Z"
    }
   },
   "outputs": [],
   "source": [
    "# remove pelo valor do elemento\n",
    "lista.remove('Pedro')"
   ]
  },
  {
   "cell_type": "code",
   "execution_count": 11,
   "id": "d4bfdb16",
   "metadata": {
    "ExecuteTime": {
     "end_time": "2021-11-04T00:00:49.077906Z",
     "start_time": "2021-11-04T00:00:49.075122Z"
    }
   },
   "outputs": [
    {
     "data": {
      "text/plain": [
       "[20, 30, 40, 50]"
      ]
     },
     "execution_count": 11,
     "metadata": {},
     "output_type": "execute_result"
    }
   ],
   "source": [
    "lista"
   ]
  },
  {
   "cell_type": "code",
   "execution_count": 12,
   "id": "06ba25e9",
   "metadata": {
    "ExecuteTime": {
     "end_time": "2021-11-04T00:01:05.945227Z",
     "start_time": "2021-11-04T00:01:05.942518Z"
    }
   },
   "outputs": [
    {
     "data": {
      "text/plain": [
       "[20, 40, 50]"
      ]
     },
     "execution_count": 12,
     "metadata": {},
     "output_type": "execute_result"
    }
   ],
   "source": [
    "# removendo por posição do elemento\n",
    "lista.pop(1)\n",
    "lista"
   ]
  },
  {
   "cell_type": "code",
   "execution_count": 13,
   "id": "53d7ccb5",
   "metadata": {
    "ExecuteTime": {
     "end_time": "2021-11-04T00:04:39.968289Z",
     "start_time": "2021-11-04T00:04:39.965436Z"
    }
   },
   "outputs": [
    {
     "data": {
      "text/plain": [
       "[20, 40, 50]"
      ]
     },
     "execution_count": 13,
     "metadata": {},
     "output_type": "execute_result"
    }
   ],
   "source": [
    "lista"
   ]
  },
  {
   "cell_type": "code",
   "execution_count": 14,
   "id": "70618783",
   "metadata": {
    "ExecuteTime": {
     "end_time": "2021-11-04T00:05:01.238469Z",
     "start_time": "2021-11-04T00:05:01.235111Z"
    }
   },
   "outputs": [
    {
     "data": {
      "text/plain": [
       "[2, 40, 50]"
      ]
     },
     "execution_count": 14,
     "metadata": {},
     "output_type": "execute_result"
    }
   ],
   "source": [
    "# atualizando valor do elemento\n",
    "lista[0] = 2\n",
    "lista"
   ]
  },
  {
   "cell_type": "code",
   "execution_count": 15,
   "id": "1aeb3956",
   "metadata": {
    "ExecuteTime": {
     "end_time": "2021-11-04T00:06:43.278814Z",
     "start_time": "2021-11-04T00:06:43.276715Z"
    }
   },
   "outputs": [],
   "source": [
    "lista = [30, 20, 40, 20,20]"
   ]
  },
  {
   "cell_type": "code",
   "execution_count": 16,
   "id": "3815acc6",
   "metadata": {
    "ExecuteTime": {
     "end_time": "2021-11-04T00:06:43.615337Z",
     "start_time": "2021-11-04T00:06:43.611529Z"
    }
   },
   "outputs": [
    {
     "data": {
      "text/plain": [
       "[30, 40, 20, 20]"
      ]
     },
     "execution_count": 16,
     "metadata": {},
     "output_type": "execute_result"
    }
   ],
   "source": [
    "lista.remove(20) # remove apenas a primeira ocorrência\n",
    "lista"
   ]
  },
  {
   "cell_type": "markdown",
   "id": "fb31c6f8",
   "metadata": {},
   "source": [
    "tuplas"
   ]
  },
  {
   "cell_type": "code",
   "execution_count": 17,
   "id": "55911496",
   "metadata": {
    "ExecuteTime": {
     "end_time": "2021-11-04T00:10:11.333019Z",
     "start_time": "2021-11-04T00:10:11.330002Z"
    }
   },
   "outputs": [
    {
     "data": {
      "text/plain": [
       "(30, 20, 40, 20, 20)"
      ]
     },
     "execution_count": 17,
     "metadata": {},
     "output_type": "execute_result"
    }
   ],
   "source": [
    "tupla = (30, 20, 40, 20,20)\n",
    "tupla"
   ]
  },
  {
   "cell_type": "code",
   "execution_count": 18,
   "id": "e99c32c7",
   "metadata": {
    "ExecuteTime": {
     "end_time": "2021-11-04T00:10:27.765794Z",
     "start_time": "2021-11-04T00:10:27.763272Z"
    }
   },
   "outputs": [
    {
     "data": {
      "text/plain": [
       "40"
      ]
     },
     "execution_count": 18,
     "metadata": {},
     "output_type": "execute_result"
    }
   ],
   "source": [
    "tupla[2]"
   ]
  },
  {
   "cell_type": "code",
   "execution_count": 19,
   "id": "09cef996",
   "metadata": {
    "ExecuteTime": {
     "end_time": "2021-11-04T00:13:06.171546Z",
     "start_time": "2021-11-04T00:13:06.168770Z"
    }
   },
   "outputs": [
    {
     "data": {
      "text/plain": [
       "[30, 20, 40, 20, 20]"
      ]
     },
     "execution_count": 19,
     "metadata": {},
     "output_type": "execute_result"
    }
   ],
   "source": [
    "# transformando tupla para lista\n",
    "lista_t = list(tupla)\n",
    "lista_t"
   ]
  },
  {
   "cell_type": "code",
   "execution_count": 20,
   "id": "fa94e8ec",
   "metadata": {
    "ExecuteTime": {
     "end_time": "2021-11-04T00:13:24.390290Z",
     "start_time": "2021-11-04T00:13:24.387432Z"
    }
   },
   "outputs": [
    {
     "data": {
      "text/plain": [
       "[30, 20, 'Pedro', 20, 20]"
      ]
     },
     "execution_count": 20,
     "metadata": {},
     "output_type": "execute_result"
    }
   ],
   "source": [
    "lista_t[2] = 'Pedro'\n",
    "lista_t"
   ]
  },
  {
   "cell_type": "code",
   "execution_count": 21,
   "id": "96f37168",
   "metadata": {
    "ExecuteTime": {
     "end_time": "2021-11-04T00:14:49.602644Z",
     "start_time": "2021-11-04T00:14:49.600710Z"
    }
   },
   "outputs": [],
   "source": [
    "gps = (123123, 123123)"
   ]
  },
  {
   "cell_type": "code",
   "execution_count": 22,
   "id": "39d5e243",
   "metadata": {
    "ExecuteTime": {
     "end_time": "2021-11-04T00:14:52.735172Z",
     "start_time": "2021-11-04T00:14:52.731846Z"
    }
   },
   "outputs": [
    {
     "data": {
      "text/plain": [
       "(123123, 123123)"
      ]
     },
     "execution_count": 22,
     "metadata": {},
     "output_type": "execute_result"
    }
   ],
   "source": [
    "gps"
   ]
  },
  {
   "cell_type": "code",
   "execution_count": 23,
   "id": "2dc34799",
   "metadata": {
    "ExecuteTime": {
     "end_time": "2021-11-04T00:15:23.580265Z",
     "start_time": "2021-11-04T00:15:23.577947Z"
    }
   },
   "outputs": [],
   "source": [
    "bacon = ['Bacon Gostoso', 'Bacon Crocante']"
   ]
  },
  {
   "cell_type": "code",
   "execution_count": 24,
   "id": "bd9a7a91",
   "metadata": {
    "ExecuteTime": {
     "end_time": "2021-11-04T00:16:48.618671Z",
     "start_time": "2021-11-04T00:16:48.615528Z"
    }
   },
   "outputs": [
    {
     "data": {
      "text/plain": [
       "[30, 40, 20, 20]"
      ]
     },
     "execution_count": 24,
     "metadata": {},
     "output_type": "execute_result"
    }
   ],
   "source": [
    "lista"
   ]
  },
  {
   "cell_type": "code",
   "execution_count": 25,
   "id": "442e39e9",
   "metadata": {
    "ExecuteTime": {
     "end_time": "2021-11-04T00:16:59.602910Z",
     "start_time": "2021-11-04T00:16:59.599872Z"
    }
   },
   "outputs": [
    {
     "data": {
      "text/plain": [
       "20"
      ]
     },
     "execution_count": 25,
     "metadata": {},
     "output_type": "execute_result"
    }
   ],
   "source": [
    "lista[2]"
   ]
  },
  {
   "cell_type": "code",
   "execution_count": null,
   "id": "077aacde",
   "metadata": {},
   "outputs": [],
   "source": [
    "#  0   1   2   3\n",
    "# [30, 40, 20, 20]"
   ]
  },
  {
   "cell_type": "markdown",
   "id": "c6b5b08d",
   "metadata": {},
   "source": [
    "Dicionários"
   ]
  },
  {
   "cell_type": "code",
   "execution_count": 26,
   "id": "9b4891d6",
   "metadata": {
    "ExecuteTime": {
     "end_time": "2021-11-04T00:22:26.034914Z",
     "start_time": "2021-11-04T00:22:26.031489Z"
    }
   },
   "outputs": [
    {
     "data": {
      "text/plain": [
       "{0: 30, 1: 40, 2: 20, 3: 20}"
      ]
     },
     "execution_count": 26,
     "metadata": {},
     "output_type": "execute_result"
    }
   ],
   "source": [
    "dic = {\n",
    "    0: 30,\n",
    "    1: 40,\n",
    "    2: 20,\n",
    "    3: 20\n",
    "}\n",
    "\n",
    "dic"
   ]
  },
  {
   "cell_type": "code",
   "execution_count": 27,
   "id": "fa90a503",
   "metadata": {
    "ExecuteTime": {
     "end_time": "2021-11-04T00:23:32.821929Z",
     "start_time": "2021-11-04T00:23:32.818674Z"
    }
   },
   "outputs": [],
   "source": [
    "\n",
    "dic = {\n",
    "    0: 30,\n",
    "    1: 40,\n",
    "    2: 20,\n",
    "    3: 20,\n",
    "    0: 'Pedro' # irá substituir a chave '0' declarada acima\n",
    "}"
   ]
  },
  {
   "cell_type": "code",
   "execution_count": 28,
   "id": "45c1a644",
   "metadata": {
    "ExecuteTime": {
     "end_time": "2021-11-04T00:24:42.106360Z",
     "start_time": "2021-11-04T00:24:42.103650Z"
    }
   },
   "outputs": [
    {
     "data": {
      "text/plain": [
       "{0: 'Pedro', 1: 40, 2: 20, 3: 20, 4: 'Ferraresi'}"
      ]
     },
     "execution_count": 28,
     "metadata": {},
     "output_type": "execute_result"
    }
   ],
   "source": [
    "dic[4] = 'Ferraresi'\n",
    "dic"
   ]
  },
  {
   "cell_type": "code",
   "execution_count": 29,
   "id": "6cb0ee51",
   "metadata": {
    "ExecuteTime": {
     "end_time": "2021-11-04T00:26:09.717152Z",
     "start_time": "2021-11-04T00:26:09.713847Z"
    }
   },
   "outputs": [
    {
     "data": {
      "text/plain": [
       "{0: 'Pedro', 1: 40, 2: 20, 4: 'Ferraresi'}"
      ]
     },
     "execution_count": 29,
     "metadata": {},
     "output_type": "execute_result"
    }
   ],
   "source": [
    "# removendo pela chave\n",
    "dic.pop(3) \n",
    "dic"
   ]
  },
  {
   "cell_type": "code",
   "execution_count": 30,
   "id": "d93c6752",
   "metadata": {
    "ExecuteTime": {
     "end_time": "2021-11-04T00:26:26.901216Z",
     "start_time": "2021-11-04T00:26:26.897227Z"
    }
   },
   "outputs": [
    {
     "data": {
      "text/plain": [
       "{0: 'Pedro', 1: 40, 2: 20, 4: 'Ferraresi', 'nome': 'Ana'}"
      ]
     },
     "execution_count": 30,
     "metadata": {},
     "output_type": "execute_result"
    }
   ],
   "source": [
    "# Inserindo novo elemento no final\n",
    "dic['nome'] = 'Ana'\n",
    "dic"
   ]
  },
  {
   "cell_type": "code",
   "execution_count": 31,
   "id": "1f4b2755",
   "metadata": {
    "ExecuteTime": {
     "end_time": "2021-11-04T00:27:34.619322Z",
     "start_time": "2021-11-04T00:27:34.615828Z"
    }
   },
   "outputs": [
    {
     "data": {
      "text/plain": [
       "{0: 'Pedro',\n",
       " 1: 40,\n",
       " 2: 20,\n",
       " 4: 'Ferraresi',\n",
       " 'nome': 'Ana',\n",
       " 'lista': [30, 40, 20, 20]}"
      ]
     },
     "execution_count": 31,
     "metadata": {},
     "output_type": "execute_result"
    }
   ],
   "source": [
    "dic['lista'] = [30, 40, 20, 20]\n",
    "dic"
   ]
  },
  {
   "cell_type": "markdown",
   "id": "a7cf5be0",
   "metadata": {},
   "source": [
    "Fonte: https://pynative.com/wp-content/uploads/2021/03/python-list.jpg"
   ]
  },
  {
   "cell_type": "markdown",
   "id": "74b23298",
   "metadata": {},
   "source": [
    "Uma lista é uma estrutura que é **ordenada**, ou seja, cada item dentro dela, ou elemento, possuí um índice ou um valor que define em qual ordem, ou posição da lista esse item está. Esse valor que define a ordem sempre será numérico e crescente, e é o Python que controla essa sequencia para nós.\n",
    "\n",
    "Além disso, ela é uma estrutura mutável (não se preocupe, veremos o que é isso nas próximas aulas), o que nos permite mudar o seu conteúdo.\n",
    "\n",
    "Como dito anteriormente, uma lista pode conter vários tipos de dados como conteúdos,como valores do tipo `int`, `float`, `bool`, outras listas e assim sucessivamente."
   ]
  },
  {
   "cell_type": "markdown",
   "id": "5740450b",
   "metadata": {
    "heading_collapsed": true
   },
   "source": [
    "### Declaração"
   ]
  },
  {
   "cell_type": "markdown",
   "id": "afd4dca1",
   "metadata": {
    "hidden": true
   },
   "source": [
    "Uma lista é sempre criada utilizando os colchetes(`[` e `]`) e o seu conteúdo deve ficar dentro dos colchetes separados por vírgula. \n",
    "\n",
    "Além disso, podemos também declarar uma lista utilizando a função `list()`."
   ]
  },
  {
   "cell_type": "code",
   "execution_count": 32,
   "id": "fbf7e969",
   "metadata": {
    "ExecuteTime": {
     "end_time": "2021-11-03T22:33:28.992575Z",
     "start_time": "2021-11-03T22:33:28.989779Z"
    },
    "hidden": true
   },
   "outputs": [
    {
     "name": "stdout",
     "output_type": "stream",
     "text": [
      "['banana', 'abacaxi', 'morango']\n",
      "['Pedro', 'Guilherme']\n"
     ]
    }
   ],
   "source": [
    "# Declaração de listas com Conteúdo\n",
    "frutas = ['banana', 'abacaxi', 'morango'] # Maneira usual\n",
    "nomes = list(['Pedro', 'Guilherme'])\n",
    "\n",
    "\n",
    "print(frutas)\n",
    "print(nomes)"
   ]
  },
  {
   "cell_type": "code",
   "execution_count": 33,
   "id": "9e1d40f6",
   "metadata": {
    "ExecuteTime": {
     "end_time": "2021-09-27T22:54:14.374166Z",
     "start_time": "2021-09-27T22:54:14.368496Z"
    },
    "hidden": true
   },
   "outputs": [
    {
     "name": "stdout",
     "output_type": "stream",
     "text": [
      "[]\n",
      "[]\n"
     ]
    }
   ],
   "source": [
    "# Declaração de listas sem Conteúdo\n",
    "frutas = [] # Maneira Usual \n",
    "nomes = list()\n",
    "\n",
    "\n",
    "print(frutas)\n",
    "print(nomes)"
   ]
  },
  {
   "cell_type": "markdown",
   "id": "ecf1b77e",
   "metadata": {
    "heading_collapsed": true
   },
   "source": [
    "### Recuperação de um Elemento"
   ]
  },
  {
   "cell_type": "markdown",
   "id": "b1d1dfdd",
   "metadata": {
    "hidden": true
   },
   "source": [
    "Para recuperarmos ou selecionarmos elementos dentro de uma lista, basta selecionarmos o elemento pelo seu **ÍNDICE**:"
   ]
  },
  {
   "cell_type": "code",
   "execution_count": 34,
   "id": "e46b0861",
   "metadata": {
    "ExecuteTime": {
     "end_time": "2021-09-28T00:13:38.787300Z",
     "start_time": "2021-09-28T00:13:38.784545Z"
    },
    "hidden": true
   },
   "outputs": [
    {
     "data": {
      "text/plain": [
       "['banana', 'abacaxi', 'morango']"
      ]
     },
     "execution_count": 34,
     "metadata": {},
     "output_type": "execute_result"
    }
   ],
   "source": [
    "# Declaração de listas com Conteúdo\n",
    "frutas = ['banana', 'abacaxi', 'morango']\n",
    "frutas"
   ]
  },
  {
   "cell_type": "code",
   "execution_count": 35,
   "id": "b89e1d25",
   "metadata": {
    "ExecuteTime": {
     "end_time": "2021-09-28T00:13:53.804406Z",
     "start_time": "2021-09-28T00:13:53.801004Z"
    },
    "hidden": true
   },
   "outputs": [
    {
     "data": {
      "text/plain": [
       "'banana'"
      ]
     },
     "execution_count": 35,
     "metadata": {},
     "output_type": "execute_result"
    }
   ],
   "source": [
    "frutas[0] # Primeiro Elemento da Lista"
   ]
  },
  {
   "cell_type": "code",
   "execution_count": 36,
   "id": "a8ab836a",
   "metadata": {
    "ExecuteTime": {
     "end_time": "2021-09-28T00:14:09.770264Z",
     "start_time": "2021-09-28T00:14:09.767876Z"
    },
    "hidden": true
   },
   "outputs": [
    {
     "data": {
      "text/plain": [
       "'morango'"
      ]
     },
     "execution_count": 36,
     "metadata": {},
     "output_type": "execute_result"
    }
   ],
   "source": [
    "frutas[-1] # Último elemento da lista"
   ]
  },
  {
   "cell_type": "markdown",
   "id": "9f725556",
   "metadata": {
    "heading_collapsed": true
   },
   "source": [
    "### Atualização de um Elemento"
   ]
  },
  {
   "cell_type": "markdown",
   "id": "361b3274",
   "metadata": {
    "hidden": true
   },
   "source": [
    "Para atualizarmos um elemento dentro de uma lista, basta selecionarmos o elemento pelo seu **ÍNDICE** e atribuirmos o seu novo conteúdo:"
   ]
  },
  {
   "cell_type": "code",
   "execution_count": 37,
   "id": "1eb607f2",
   "metadata": {
    "ExecuteTime": {
     "end_time": "2021-09-28T00:29:53.138819Z",
     "start_time": "2021-09-28T00:29:53.132756Z"
    },
    "hidden": true
   },
   "outputs": [
    {
     "data": {
      "text/plain": [
       "['banana', 'abacaxi', 'morango']"
      ]
     },
     "execution_count": 37,
     "metadata": {},
     "output_type": "execute_result"
    }
   ],
   "source": [
    "# Declaração de listas com Conteúdo\n",
    "frutas = ['banana', 'abacaxi', 'morango']\n",
    "frutas"
   ]
  },
  {
   "cell_type": "code",
   "execution_count": 38,
   "id": "5446c568",
   "metadata": {
    "ExecuteTime": {
     "end_time": "2021-09-28T00:30:42.188346Z",
     "start_time": "2021-09-28T00:30:42.185095Z"
    },
    "hidden": true
   },
   "outputs": [
    {
     "data": {
      "text/plain": [
       "['Amora', 'abacaxi', 'morango']"
      ]
     },
     "execution_count": 38,
     "metadata": {},
     "output_type": "execute_result"
    }
   ],
   "source": [
    "# Atualizando o conteúdo do primeiro elemento da lista\n",
    "frutas[0] = 'Amora'\n",
    "frutas"
   ]
  },
  {
   "cell_type": "code",
   "execution_count": 39,
   "id": "1ce824a1",
   "metadata": {
    "ExecuteTime": {
     "end_time": "2021-09-28T00:31:14.215123Z",
     "start_time": "2021-09-28T00:31:14.208277Z"
    },
    "hidden": true
   },
   "outputs": [
    {
     "data": {
      "text/plain": [
       "['Amora', 'abacaxi', 'Mamão']"
      ]
     },
     "execution_count": 39,
     "metadata": {},
     "output_type": "execute_result"
    }
   ],
   "source": [
    "# Atualizando o último elemento da lista\n",
    "frutas[-1] = 'Mamão'\n",
    "frutas"
   ]
  },
  {
   "cell_type": "markdown",
   "id": "c76a3b64",
   "metadata": {
    "heading_collapsed": true
   },
   "source": [
    "### Inserção de Elementos"
   ]
  },
  {
   "cell_type": "markdown",
   "id": "370d8d00",
   "metadata": {
    "hidden": true
   },
   "source": [
    "Podemos também adicionar elementos da lista utulizando a função `append()` ou `insert()`.\n",
    "\n",
    "A função `append()` recebe o elemento que desejamos inserir. Ou seja, basta adicionarmos o que desejamos inserir na lista. Essa função sempre irá inserir um elemento no final da lista. Essa função ja foi utilizada no exercício da primeira aula."
   ]
  },
  {
   "cell_type": "code",
   "execution_count": 40,
   "id": "daa24084",
   "metadata": {
    "ExecuteTime": {
     "end_time": "2021-09-27T22:54:48.833281Z",
     "start_time": "2021-09-27T22:54:48.830480Z"
    },
    "hidden": true
   },
   "outputs": [
    {
     "data": {
      "text/plain": [
       "['banana', 'abacaxi', 'morango']"
      ]
     },
     "execution_count": 40,
     "metadata": {},
     "output_type": "execute_result"
    }
   ],
   "source": [
    "# Declaração da Lista\n",
    "frutas = ['banana', 'abacaxi', 'morango']\n",
    "frutas"
   ]
  },
  {
   "cell_type": "code",
   "execution_count": 41,
   "id": "182da7af",
   "metadata": {
    "ExecuteTime": {
     "end_time": "2021-09-27T22:54:49.364687Z",
     "start_time": "2021-09-27T22:54:49.361541Z"
    },
    "hidden": true
   },
   "outputs": [
    {
     "data": {
      "text/plain": [
       "['banana', 'abacaxi', 'morango', 'Uva']"
      ]
     },
     "execution_count": 41,
     "metadata": {},
     "output_type": "execute_result"
    }
   ],
   "source": [
    "# Adicionando um elemento do tipo str na lista\n",
    "frutas.append('Uva')\n",
    "frutas"
   ]
  },
  {
   "cell_type": "code",
   "execution_count": 42,
   "id": "c6214689",
   "metadata": {
    "ExecuteTime": {
     "end_time": "2021-09-27T22:54:49.683410Z",
     "start_time": "2021-09-27T22:54:49.677673Z"
    },
    "hidden": true
   },
   "outputs": [
    {
     "data": {
      "text/plain": [
       "['banana', 'abacaxi', 'morango', 'Uva', 3, 3.14]"
      ]
     },
     "execution_count": 42,
     "metadata": {},
     "output_type": "execute_result"
    }
   ],
   "source": [
    "# Adicionando um elemento do tipo numérico na lista\n",
    "frutas.append(3)\n",
    "frutas.append(3.14)\n",
    "frutas"
   ]
  },
  {
   "cell_type": "code",
   "execution_count": 43,
   "id": "0a357b78",
   "metadata": {
    "ExecuteTime": {
     "end_time": "2021-09-27T22:54:49.932017Z",
     "start_time": "2021-09-27T22:54:49.924047Z"
    },
    "hidden": true
   },
   "outputs": [
    {
     "data": {
      "text/plain": [
       "['banana', 'abacaxi', 'morango', 'Uva', 3, 3.14, True]"
      ]
     },
     "execution_count": 43,
     "metadata": {},
     "output_type": "execute_result"
    }
   ],
   "source": [
    "# Adicionando um elemento do tipo bool na lista\n",
    "frutas.append(True)\n",
    "frutas"
   ]
  },
  {
   "cell_type": "code",
   "execution_count": 44,
   "id": "ad3c6baa",
   "metadata": {
    "ExecuteTime": {
     "end_time": "2021-09-27T22:55:41.190850Z",
     "start_time": "2021-09-27T22:55:41.187733Z"
    },
    "hidden": true
   },
   "outputs": [
    {
     "data": {
      "text/plain": [
       "['banana',\n",
       " 'abacaxi',\n",
       " 'morango',\n",
       " 'Uva',\n",
       " 3,\n",
       " 3.14,\n",
       " True,\n",
       " ['Amora', 'Ameixa', 'Mamão']]"
      ]
     },
     "execution_count": 44,
     "metadata": {},
     "output_type": "execute_result"
    }
   ],
   "source": [
    "# Adicionando outra lista dentro da lista\n",
    "frutas.append(['Amora', 'Ameixa', 'Mamão'])\n",
    "frutas"
   ]
  },
  {
   "cell_type": "markdown",
   "id": "58a032e9",
   "metadata": {
    "hidden": true
   },
   "source": [
    "Já a função `insert()`, recebe dois argumentos: O primeiro é o **ÍNDICE** do novo elemento, ou seja, a posição do novo elemento; e o segundo parâmetro é o **CONTEÚDO** desse novo elemento.\n",
    "\n",
    "Assim como na função `append()`, podemos inserir qualquer tipo de valor na nossa lista.\n",
    "\n",
    "Diferente da função `append()`, com a função `insert()` conseguimos inserir novos elementos em **QUALQUER POSIÇÃO** da lista."
   ]
  },
  {
   "cell_type": "code",
   "execution_count": 45,
   "id": "06ddad90",
   "metadata": {
    "ExecuteTime": {
     "end_time": "2021-09-27T23:14:05.909286Z",
     "start_time": "2021-09-27T23:14:05.906149Z"
    },
    "hidden": true
   },
   "outputs": [
    {
     "data": {
      "text/plain": [
       "['banana', 'abacaxi', 'morango']"
      ]
     },
     "execution_count": 45,
     "metadata": {},
     "output_type": "execute_result"
    }
   ],
   "source": [
    "# Declaração da Lista\n",
    "frutas = ['banana', 'abacaxi', 'morango']\n",
    "frutas"
   ]
  },
  {
   "cell_type": "code",
   "execution_count": 46,
   "id": "63b1b22b",
   "metadata": {
    "ExecuteTime": {
     "end_time": "2021-09-27T23:14:06.144702Z",
     "start_time": "2021-09-27T23:14:06.139216Z"
    },
    "hidden": true
   },
   "outputs": [
    {
     "data": {
      "text/plain": [
       "[3, 'banana', 'abacaxi', 'morango']"
      ]
     },
     "execution_count": 46,
     "metadata": {},
     "output_type": "execute_result"
    }
   ],
   "source": [
    "# Inserindo um elemento do tipo int na primeira posição\n",
    "frutas.insert(0, 3)\n",
    "frutas"
   ]
  },
  {
   "cell_type": "code",
   "execution_count": 47,
   "id": "f8c132bd",
   "metadata": {
    "ExecuteTime": {
     "end_time": "2021-09-27T23:14:06.346313Z",
     "start_time": "2021-09-27T23:14:06.341904Z"
    },
    "hidden": true
   },
   "outputs": [
    {
     "data": {
      "text/plain": [
       "[3, 'banana', 'abacaxi', 'Pedro', 'morango']"
      ]
     },
     "execution_count": 47,
     "metadata": {},
     "output_type": "execute_result"
    }
   ],
   "source": [
    "# Inserindo um elemento do tipo str na penúltima posição\n",
    "frutas.insert(-1, 'Pedro')\n",
    "frutas"
   ]
  },
  {
   "cell_type": "code",
   "execution_count": 48,
   "id": "77d6e30a",
   "metadata": {
    "ExecuteTime": {
     "end_time": "2021-09-27T23:15:54.656099Z",
     "start_time": "2021-09-27T23:15:54.653202Z"
    },
    "hidden": true
   },
   "outputs": [
    {
     "data": {
      "text/plain": [
       "[3, 'banana', 'abacaxi', 'Pedro', ['Amora', 'Ameixa', 'Mamão'], 'morango']"
      ]
     },
     "execution_count": 48,
     "metadata": {},
     "output_type": "execute_result"
    }
   ],
   "source": [
    "# Inserindo uma lista dentro da nossa lista na penultima posição\n",
    "frutas.insert(-1, ['Amora', 'Ameixa', 'Mamão'])\n",
    "frutas"
   ]
  },
  {
   "cell_type": "markdown",
   "id": "700624b2",
   "metadata": {
    "heading_collapsed": true
   },
   "source": [
    "### Remoção de Elementos"
   ]
  },
  {
   "cell_type": "markdown",
   "id": "ddc5293d",
   "metadata": {
    "hidden": true
   },
   "source": [
    "Para remover um item da lista utilizando a função `pop()` ou `remove()`.\n",
    "\n",
    "A função `pop()` recebe como argumento o **ÍNDICE** do elemento que desejamos remover.\n",
    "\n",
    "A função `pop()` seria o inverso da função `insert()`. Como desejamos remover um elemento, passar somente o índice do elemento que desejamos remover é o suficiente."
   ]
  },
  {
   "cell_type": "code",
   "execution_count": 49,
   "id": "c55dc0fc",
   "metadata": {
    "ExecuteTime": {
     "end_time": "2021-09-27T23:23:57.744789Z",
     "start_time": "2021-09-27T23:23:57.742040Z"
    },
    "hidden": true
   },
   "outputs": [
    {
     "data": {
      "text/plain": [
       "['banana',\n",
       " 'abacaxi',\n",
       " 'morango',\n",
       " ['Pedro', 'Ferraresi'],\n",
       " 'Amora',\n",
       " 'Ameixa',\n",
       " 'Mamão']"
      ]
     },
     "execution_count": 49,
     "metadata": {},
     "output_type": "execute_result"
    }
   ],
   "source": [
    "# Declaração da Lista\n",
    "frutas = ['banana', 'abacaxi', 'morango', ['Pedro', 'Ferraresi'], 'Amora', 'Ameixa', 'Mamão']\n",
    "frutas"
   ]
  },
  {
   "cell_type": "code",
   "execution_count": 50,
   "id": "4dc85b8e",
   "metadata": {
    "ExecuteTime": {
     "end_time": "2021-09-27T23:23:58.839350Z",
     "start_time": "2021-09-27T23:23:58.836241Z"
    },
    "hidden": true
   },
   "outputs": [
    {
     "data": {
      "text/plain": [
       "['abacaxi', 'morango', ['Pedro', 'Ferraresi'], 'Amora', 'Ameixa', 'Mamão']"
      ]
     },
     "execution_count": 50,
     "metadata": {},
     "output_type": "execute_result"
    }
   ],
   "source": [
    "# Removendo o Primeiro elemento da Lista\n",
    "frutas.pop(0)\n",
    "frutas"
   ]
  },
  {
   "cell_type": "code",
   "execution_count": 51,
   "id": "3fdcc4b5",
   "metadata": {
    "ExecuteTime": {
     "end_time": "2021-09-27T23:24:00.850752Z",
     "start_time": "2021-09-27T23:24:00.847382Z"
    },
    "hidden": true
   },
   "outputs": [
    {
     "data": {
      "text/plain": [
       "['abacaxi', 'morango', ['Pedro', 'Ferraresi'], 'Amora', 'Ameixa']"
      ]
     },
     "execution_count": 51,
     "metadata": {},
     "output_type": "execute_result"
    }
   ],
   "source": [
    "# Removendo o Último elemento da Lista\n",
    "frutas.pop(-1)\n",
    "frutas"
   ]
  },
  {
   "cell_type": "code",
   "execution_count": 52,
   "id": "0fc2c0de",
   "metadata": {
    "ExecuteTime": {
     "end_time": "2021-09-27T23:24:43.021848Z",
     "start_time": "2021-09-27T23:24:43.014655Z"
    },
    "hidden": true
   },
   "outputs": [
    {
     "data": {
      "text/plain": [
       "['abacaxi', 'morango', 'Amora', 'Ameixa']"
      ]
     },
     "execution_count": 52,
     "metadata": {},
     "output_type": "execute_result"
    }
   ],
   "source": [
    "# Removendo a Lista de dentro da lista\n",
    "# A lista está na posição 2 dentro da nossa lista\n",
    "frutas.pop(2)\n",
    "frutas"
   ]
  },
  {
   "cell_type": "markdown",
   "id": "40e871a7",
   "metadata": {
    "hidden": true
   },
   "source": [
    "Para removermos um elemento utilizando a função `remove()`, temos que passar o **VALOR** do elemento que desejamos remover. Ela seria o inverso da função `append()`."
   ]
  },
  {
   "cell_type": "code",
   "execution_count": 53,
   "id": "4f9e3d94",
   "metadata": {
    "ExecuteTime": {
     "end_time": "2021-09-27T23:25:32.638233Z",
     "start_time": "2021-09-27T23:25:32.631693Z"
    },
    "hidden": true
   },
   "outputs": [
    {
     "data": {
      "text/plain": [
       "['banana',\n",
       " 'abacaxi',\n",
       " 'morango',\n",
       " ['Pedro', 'Ferraresi'],\n",
       " 'Amora',\n",
       " 'Ameixa',\n",
       " 'Mamão']"
      ]
     },
     "execution_count": 53,
     "metadata": {},
     "output_type": "execute_result"
    }
   ],
   "source": [
    "# Declaração da Lista\n",
    "frutas = ['banana', 'abacaxi', 'morango', ['Pedro', 'Ferraresi'], 'Amora', 'Ameixa', 'Mamão']\n",
    "frutas"
   ]
  },
  {
   "cell_type": "code",
   "execution_count": 54,
   "id": "950644c7",
   "metadata": {
    "ExecuteTime": {
     "end_time": "2021-09-27T23:25:33.690606Z",
     "start_time": "2021-09-27T23:25:33.687777Z"
    },
    "hidden": true
   },
   "outputs": [
    {
     "data": {
      "text/plain": [
       "['abacaxi', 'morango', ['Pedro', 'Ferraresi'], 'Amora', 'Ameixa', 'Mamão']"
      ]
     },
     "execution_count": 54,
     "metadata": {},
     "output_type": "execute_result"
    }
   ],
   "source": [
    "# Removendo o elemento Banana da Lista\n",
    "frutas.remove('banana')\n",
    "frutas"
   ]
  },
  {
   "cell_type": "code",
   "execution_count": 55,
   "id": "1a775782",
   "metadata": {
    "ExecuteTime": {
     "end_time": "2021-09-27T23:25:34.021776Z",
     "start_time": "2021-09-27T23:25:34.015427Z"
    },
    "hidden": true
   },
   "outputs": [
    {
     "data": {
      "text/plain": [
       "['abacaxi', 'morango', ['Pedro', 'Ferraresi'], 'Amora', 'Mamão']"
      ]
     },
     "execution_count": 55,
     "metadata": {},
     "output_type": "execute_result"
    }
   ],
   "source": [
    "# Removendo o Último elemento da Lista\n",
    "frutas.remove('Ameixa')\n",
    "frutas"
   ]
  },
  {
   "cell_type": "code",
   "execution_count": 56,
   "id": "bd99b973",
   "metadata": {
    "ExecuteTime": {
     "end_time": "2021-09-27T23:26:01.157819Z",
     "start_time": "2021-09-27T23:26:01.155111Z"
    },
    "hidden": true
   },
   "outputs": [
    {
     "data": {
      "text/plain": [
       "['abacaxi', 'morango', 'Amora', 'Mamão']"
      ]
     },
     "execution_count": 56,
     "metadata": {},
     "output_type": "execute_result"
    }
   ],
   "source": [
    "# Removendo a lista de dentro da lista\n",
    "frutas.remove(['Pedro', 'Ferraresi'])\n",
    "frutas"
   ]
  },
  {
   "cell_type": "markdown",
   "id": "250609e9",
   "metadata": {
    "hidden": true
   },
   "source": [
    "A principal diferença entre as funções `remove()` e `pop()` é que enquanto a função `remove()` remove o elemento com base no seu conteúdo e a função `pop()` remove o elemento com base no seu índice.\n",
    "\n",
    "Além disso, outra diferença é que a função `pop()` remove **QUALQUER** elemento da lista, desde que nós saibamos qual é o seu **ÍNDICE**. Já a função `remove()` remove elementos **ESPECÍFICOS** da lista, desde que saibamos o seu **CONTEÚDO**.\n",
    "\n",
    "Perceba que se tentarmos remover uma lista dentro de outra lista, sem sabermos **TODOS** os elementos que estão dentro dessa lista, haverá um erro:"
   ]
  },
  {
   "cell_type": "code",
   "execution_count": 57,
   "id": "aba1fe78",
   "metadata": {
    "ExecuteTime": {
     "end_time": "2021-09-27T23:34:54.697533Z",
     "start_time": "2021-09-27T23:34:54.694250Z"
    },
    "hidden": true
   },
   "outputs": [
    {
     "data": {
      "text/plain": [
       "['Morango', ['Pedro', 'Ferraresi'], 'Amora']"
      ]
     },
     "execution_count": 57,
     "metadata": {},
     "output_type": "execute_result"
    }
   ],
   "source": [
    "# Declaração da Lista\n",
    "frutas = ['Morango', ['Pedro', 'Ferraresi'], 'Amora']\n",
    "frutas"
   ]
  },
  {
   "cell_type": "markdown",
   "id": "8b0a6823",
   "metadata": {
    "heading_collapsed": true
   },
   "source": [
    "## Dicionários"
   ]
  },
  {
   "cell_type": "markdown",
   "id": "fa22e3d3",
   "metadata": {
    "ExecuteTime": {
     "end_time": "2021-09-23T01:02:26.368581Z",
     "start_time": "2021-09-23T01:02:26.352930Z"
    },
    "hidden": true
   },
   "source": [
    "Um Dicionário, assim como uma Lista, é uma estrutura que utilizamos para guardar valores. A principal diferença entre uma lista e um dicionário, é que no dicionário nós conseguimos \"mudar\" o **ÍNDICE** do elementos, ou seja, o **ÍNDICE** deixará de ser somente numérico e controloado pelo Python; Agora nós podemos ajustar qual o valor do **ÍNDICE**\n",
    "\n",
    "Dicionários são, assim como as listas, são estruturas que utilizamos para armazenar elementos, sejam eles do tipo `int`, `str`, `lists` e outros dicionários.\n",
    "\n",
    "A principal diferença entre as listas e os dicionários, é que em uma lista, os **ÍNDICES** são sempre numéricos, sequenciais e não podem ser alterados. Já um dicionário, ele é composto pelo conjunto **ÍNDICE** E **VALOR** não ordenados. O **ÍNDICE** dos elementos pode ser um identificador do tipo numérico ou texto (geralmente é texto). Porém, só pode haver um **ÍNDICE** dentro do dicionário, não conseguimos ter dentro do dicionário dois **ÍNDICES** iguais. Já o **VALOR** pode ser qualquer tipo de dado, assim como a lista."
   ]
  },
  {
   "cell_type": "code",
   "execution_count": null,
   "id": "0eb825cf",
   "metadata": {
    "ExecuteTime": {
     "end_time": "2021-09-27T23:54:23.861476Z",
     "start_time": "2021-09-27T23:54:23.858263Z"
    },
    "hidden": true,
    "hide_input": true
   },
   "outputs": [],
   "source": [
    "Image('img/dict.jpg')"
   ]
  },
  {
   "cell_type": "markdown",
   "id": "92a52b1d",
   "metadata": {
    "hidden": true
   },
   "source": [
    "Fonte: https://pynative.com/wp-content/uploads/2021/02/dictionaries-in-python.jpg"
   ]
  },
  {
   "cell_type": "markdown",
   "id": "9f8cedbd",
   "metadata": {
    "hidden": true
   },
   "source": [
    "Dessa forma, um dicionário é uma estrutura não ordenada, composta pelo conjunto **CHAVE** e **VALOR** que utilizamos para guardar elementos (dados), onde as **CHAVES** também são conhecidas como **ÍNDICE**, tem de ser únicas dentro do dicionário, e elas podem ter qualquer valor númerico ou texto, sendo que usualmente utilizamos textos como **ÍNDICES**.\n",
    "\n",
    "Além disso, um dicionário é uma estrutura mutável, e isso nos permite inserir e remover elementos do dicionário.\n",
    "\n",
    "Outro ponto muito importante é que o Dicionário seria a estrutura de dados do Python que é a contra-parte do JSON! Ou seja, se observarmos uma estrutura JSON, vemos que ela é muito parecida, se não for igual, a um dicionário."
   ]
  },
  {
   "cell_type": "markdown",
   "id": "c6ed9652",
   "metadata": {
    "heading_collapsed": true,
    "hidden": true
   },
   "source": [
    "### Declaração"
   ]
  },
  {
   "cell_type": "markdown",
   "id": "970aa62d",
   "metadata": {
    "hidden": true
   },
   "source": [
    "Um dicionário é sempre criada utilizando as chaves (`{` e `}`). O elemento, por se um conjunto de **CHAVE** e **VALOR**, deve ser daclaro da utilizando o valor da **CHAVE** primeiro, seguido de dois pontos (`:`) e do **VALOR** que desejamos que a chave represente.\n",
    "\n",
    "Além disso, podemos também declarar uma lista utilizando a função `dict()`."
   ]
  },
  {
   "cell_type": "code",
   "execution_count": 63,
   "id": "71fab9b7",
   "metadata": {
    "ExecuteTime": {
     "end_time": "2021-09-28T00:05:32.799154Z",
     "start_time": "2021-09-28T00:05:32.796113Z"
    },
    "hidden": true
   },
   "outputs": [
    {
     "name": "stdout",
     "output_type": "stream",
     "text": [
      "{1: 'banana', 2: 'abacaxi', 3: 'morango'}\n",
      "{1: 'Pedro', 2: 'Guilherme'}\n"
     ]
    }
   ],
   "source": [
    "# Declaração de Dicionários com Conteúdo\n",
    "frutas = { 1: 'banana', 2: 'abacaxi', 3: 'morango' } # Maneira habitual\n",
    "nomes = dict({ 1: 'Pedro', 2: 'Guilherme' })\n",
    "\n",
    "print(frutas)\n",
    "print(nomes)"
   ]
  },
  {
   "cell_type": "code",
   "execution_count": 64,
   "id": "56ef3311",
   "metadata": {
    "ExecuteTime": {
     "end_time": "2021-09-28T00:06:00.857300Z",
     "start_time": "2021-09-28T00:06:00.854527Z"
    },
    "hidden": true
   },
   "outputs": [
    {
     "name": "stdout",
     "output_type": "stream",
     "text": [
      "{}\n",
      "{}\n"
     ]
    }
   ],
   "source": [
    "# Declaração de Dicionários sem Conteúdo\n",
    "frutas = {} # Maneira habitual\n",
    "nomes = dict()\n",
    "\n",
    "print(frutas)\n",
    "print(nomes)"
   ]
  },
  {
   "cell_type": "markdown",
   "id": "6c9e857c",
   "metadata": {
    "heading_collapsed": true,
    "hidden": true
   },
   "source": [
    "### Recuperação de um Elemento"
   ]
  },
  {
   "cell_type": "markdown",
   "id": "b9bedf6a",
   "metadata": {
    "hidden": true
   },
   "source": [
    "Para selecionarmos um elemento de um dicionário, temos que saber que é a **CHAVE** do valor que desejamos. A vantagem em comparação com a Lista, é que agora nossos **ÍNDICES** podemo ser textos, que representem o conteúdo que desejamos:"
   ]
  },
  {
   "cell_type": "code",
   "execution_count": 65,
   "id": "b45f3dc1",
   "metadata": {
    "ExecuteTime": {
     "end_time": "2021-09-28T00:19:03.203585Z",
     "start_time": "2021-09-28T00:19:03.193207Z"
    },
    "hidden": true
   },
   "outputs": [
    {
     "data": {
      "text/plain": [
       "{'id': 1, 'nome': 'Pedro', 'idade': 32, 'altura': 1.82, 'casado': True}"
      ]
     },
     "execution_count": 65,
     "metadata": {},
     "output_type": "execute_result"
    }
   ],
   "source": [
    "# Declaração de um dicionário\n",
    "cliente = {\n",
    "    'id': 1,\n",
    "    'nome': 'Pedro',\n",
    "    'idade': 32,\n",
    "    'altura': 1.82,\n",
    "    'casado': True\n",
    "}\n",
    "\n",
    "cliente"
   ]
  },
  {
   "cell_type": "code",
   "execution_count": 66,
   "id": "a4a73171",
   "metadata": {
    "ExecuteTime": {
     "end_time": "2021-09-28T00:19:28.952256Z",
     "start_time": "2021-09-28T00:19:28.949309Z"
    },
    "hidden": true
   },
   "outputs": [
    {
     "data": {
      "text/plain": [
       "1"
      ]
     },
     "execution_count": 66,
     "metadata": {},
     "output_type": "execute_result"
    }
   ],
   "source": [
    "# Selecção do elemento com o índice id\n",
    "cliente['id']"
   ]
  },
  {
   "cell_type": "code",
   "execution_count": 67,
   "id": "a2521c51",
   "metadata": {
    "ExecuteTime": {
     "end_time": "2021-09-28T00:19:52.714665Z",
     "start_time": "2021-09-28T00:19:52.712024Z"
    },
    "hidden": true
   },
   "outputs": [
    {
     "data": {
      "text/plain": [
       "'Pedro'"
      ]
     },
     "execution_count": 67,
     "metadata": {},
     "output_type": "execute_result"
    }
   ],
   "source": [
    "# Seleção do elemento com o índice nome\n",
    "cliente['nome']"
   ]
  },
  {
   "cell_type": "markdown",
   "id": "cb6115b7",
   "metadata": {
    "heading_collapsed": true,
    "hidden": true
   },
   "source": [
    "### Inserção e Atualização de um Elemento"
   ]
  },
  {
   "cell_type": "markdown",
   "id": "c9d793e9",
   "metadata": {
    "hidden": true
   },
   "source": [
    "Como vimos anteriormente, podemos inserir e remover elementos de um dicionário. Para inserirmos, basta utilizar a chave que desejamos inserir e atribuirum valor a ela:"
   ]
  },
  {
   "cell_type": "code",
   "execution_count": 68,
   "id": "fe4b1b30",
   "metadata": {
    "ExecuteTime": {
     "end_time": "2021-09-28T00:24:31.856048Z",
     "start_time": "2021-09-28T00:24:31.849453Z"
    },
    "hidden": true
   },
   "outputs": [
    {
     "data": {
      "text/plain": [
       "{1: 'banana', 2: 'abacaxi', 3: 'morango'}"
      ]
     },
     "execution_count": 68,
     "metadata": {},
     "output_type": "execute_result"
    }
   ],
   "source": [
    "# Declaração da Lista\n",
    "frutas = { 1: 'banana', 2: 'abacaxi', 3: 'morango'}\n",
    "frutas"
   ]
  },
  {
   "cell_type": "code",
   "execution_count": 69,
   "id": "4d00d64b",
   "metadata": {
    "ExecuteTime": {
     "end_time": "2021-09-28T00:24:52.871977Z",
     "start_time": "2021-09-28T00:24:52.865806Z"
    },
    "hidden": true
   },
   "outputs": [
    {
     "data": {
      "text/plain": [
       "{1: 'banana', 2: 'abacaxi', 3: 'morango', 4: 'mamão'}"
      ]
     },
     "execution_count": 69,
     "metadata": {},
     "output_type": "execute_result"
    }
   ],
   "source": [
    "frutas[4] = 'mamão'\n",
    "frutas"
   ]
  },
  {
   "cell_type": "markdown",
   "id": "5de483b3",
   "metadata": {
    "hidden": true
   },
   "source": [
    "Porém, como dito anteriormente, temos que tomar cuidado pois em um dicionário os índices são únicos, e se tentarmos inserir um novo elemento utilizando um índice já existente, o que nós estaremos fazendo é atualizar o valor do índice existente e não inserir um novo elemento:"
   ]
  },
  {
   "cell_type": "code",
   "execution_count": 70,
   "id": "79711b79",
   "metadata": {
    "ExecuteTime": {
     "end_time": "2021-09-28T00:27:00.711911Z",
     "start_time": "2021-09-28T00:27:00.706072Z"
    },
    "hidden": true
   },
   "outputs": [
    {
     "data": {
      "text/plain": [
       "{1: 'banana', 2: 'abacaxi', 3: 'morango', 4: 'amora'}"
      ]
     },
     "execution_count": 70,
     "metadata": {},
     "output_type": "execute_result"
    }
   ],
   "source": [
    "frutas[4] = 'amora'\n",
    "frutas"
   ]
  },
  {
   "cell_type": "markdown",
   "id": "a63c1124",
   "metadata": {
    "hidden": true
   },
   "source": [
    "### Remoção de Elementos"
   ]
  },
  {
   "cell_type": "markdown",
   "id": "b39fa527",
   "metadata": {
    "hidden": true
   },
   "source": [
    "A remoção de um elemento de um dicionário é feito através da função `pop()`. Embora esssa função tenha um nome igual com a função `pop()` da lista, o comportamento no dicionário é diferente.\n",
    "\n",
    "No dicionário, quando utilizamos a função `pop()`, além de remover o elemento que desejamos, nós recebemos como retorno da chamada da função, o valor do elemento:"
   ]
  },
  {
   "cell_type": "code",
   "execution_count": 71,
   "id": "7f855bec",
   "metadata": {
    "ExecuteTime": {
     "end_time": "2021-09-28T00:44:14.656039Z",
     "start_time": "2021-09-28T00:44:14.650842Z"
    },
    "hidden": true
   },
   "outputs": [
    {
     "data": {
      "text/plain": [
       "{1: 'banana', 2: 'abacaxi', 3: 'morango'}"
      ]
     },
     "execution_count": 71,
     "metadata": {},
     "output_type": "execute_result"
    }
   ],
   "source": [
    "# Declaração da Lista\n",
    "frutas = { 1: 'banana', 2: 'abacaxi', 3: 'morango'}\n",
    "frutas"
   ]
  },
  {
   "cell_type": "code",
   "execution_count": 72,
   "id": "ec76d0ec",
   "metadata": {
    "ExecuteTime": {
     "end_time": "2021-09-28T00:44:14.819176Z",
     "start_time": "2021-09-28T00:44:14.815789Z"
    },
    "hidden": true
   },
   "outputs": [
    {
     "name": "stdout",
     "output_type": "stream",
     "text": [
      "O Conteúdo removido do elemento com chave igual a 1 é banana\n",
      "O dicionário com o elemento de chave 1 removido = {2: 'abacaxi', 3: 'morango'}\n"
     ]
    }
   ],
   "source": [
    "fruta = frutas.pop(1)\n",
    "print(f'O Conteúdo removido do elemento com chave igual a 1 é {fruta}')\n",
    "print(f'O dicionário com o elemento de chave 1 removido = {frutas}')"
   ]
  },
  {
   "cell_type": "markdown",
   "id": "0d5b3d5d",
   "metadata": {
    "hidden": true
   },
   "source": [
    "Outro ponto importante a respeito da remoção de elemento utiizando a função `pop()` é que caso a chave passada como parâmetro não exista ou ja tenha sido removida, o Python reportará um erro:"
   ]
  },
  {
   "cell_type": "code",
   "execution_count": 73,
   "id": "8a32838a",
   "metadata": {
    "ExecuteTime": {
     "end_time": "2021-09-28T00:45:41.756582Z",
     "start_time": "2021-09-28T00:45:41.753712Z"
    },
    "hidden": true
   },
   "outputs": [
    {
     "data": {
      "text/plain": [
       "{1: 'banana', 2: 'abacaxi', 3: 'morango'}"
      ]
     },
     "execution_count": 73,
     "metadata": {},
     "output_type": "execute_result"
    }
   ],
   "source": [
    "# Declaração da Lista\n",
    "frutas = { 1: 'banana', 2: 'abacaxi', 3: 'morango'}\n",
    "frutas"
   ]
  },
  {
   "cell_type": "code",
   "execution_count": 74,
   "id": "e721d6cd",
   "metadata": {
    "ExecuteTime": {
     "end_time": "2021-09-28T00:45:58.378183Z",
     "start_time": "2021-09-28T00:45:58.369790Z"
    },
    "hidden": true
   },
   "outputs": [
    {
     "ename": "KeyError",
     "evalue": "5",
     "output_type": "error",
     "traceback": [
      "\u001b[0;31m---------------------------------------------------------------------------\u001b[0m",
      "\u001b[0;31mKeyError\u001b[0m                                  Traceback (most recent call last)",
      "\u001b[0;32m/tmp/ipykernel_7355/1904463066.py\u001b[0m in \u001b[0;36m<module>\u001b[0;34m\u001b[0m\n\u001b[0;32m----> 1\u001b[0;31m \u001b[0mfrutas\u001b[0m\u001b[0;34m.\u001b[0m\u001b[0mpop\u001b[0m\u001b[0;34m(\u001b[0m\u001b[0;36m5\u001b[0m\u001b[0;34m)\u001b[0m\u001b[0;34m\u001b[0m\u001b[0;34m\u001b[0m\u001b[0m\n\u001b[0m",
      "\u001b[0;31mKeyError\u001b[0m: 5"
     ]
    }
   ],
   "source": [
    "frutas.pop(5)"
   ]
  },
  {
   "cell_type": "markdown",
   "id": "ce7c1c96",
   "metadata": {
    "heading_collapsed": true,
    "hide_input": true
   },
   "source": [
    "## Tuplas"
   ]
  },
  {
   "cell_type": "markdown",
   "id": "b37b230e",
   "metadata": {
    "ExecuteTime": {
     "end_time": "2021-09-23T01:02:27.297900Z",
     "start_time": "2021-09-23T01:02:27.265909Z"
    },
    "hidden": true
   },
   "source": [
    "Tuplas são muito parecidas com as a listas tanto na declaração quanto no uso geral. Porém a grande diferença é que as tuplas são estruturas **IMUTÁVEIS**, ou seja, elas não aceitam alteração uma vez que elas são criadas/declaradas.\n",
    "\n",
    "Dessa forma, só conseguimos inserir elementos em uma Tupla no momento da sua criação. Não conseguimos nem atualizar, nem remover e nem inserir novos elementos em Tuplas, uma vez que elas ja tenham sido criadas. Nós só conseguimos recuperar os valores os valores de uma Tupla."
   ]
  },
  {
   "cell_type": "code",
   "execution_count": null,
   "id": "01b44e47",
   "metadata": {
    "ExecuteTime": {
     "end_time": "2021-09-28T00:54:11.595173Z",
     "start_time": "2021-09-28T00:54:11.592294Z"
    },
    "hidden": true,
    "hide_input": true
   },
   "outputs": [],
   "source": [
    "Image('img/tuple.jpg')"
   ]
  },
  {
   "cell_type": "markdown",
   "id": "ea5653a9",
   "metadata": {
    "hidden": true
   },
   "source": [
    "Fonte: https://pynative.com/wp-content/uploads/2021/02/python-tuple.jpg"
   ]
  },
  {
   "cell_type": "markdown",
   "id": "c28c0a86",
   "metadata": {
    "hidden": true
   },
   "source": [
    "Portanto, Tuplas, assim como listas, possuem índices sequencias númericos, que representam os índices dos valores de uma Tupla.\n",
    "\n",
    "Por se **IMUTÁVEL**, não conseguimos fazer alterações em sua estrutura uma vez que a Tupla ja tenha sido declarada.\n",
    "\n",
    "Tuplas, assim como listas e dicionários, podem receber virtualmente qualquer tipo de dado em seu conteúdo.\n",
    "\n",
    "Tuplas, assim como as listas, permitem dados duplicados em sua estrutura."
   ]
  },
  {
   "cell_type": "markdown",
   "id": "6d7d555b",
   "metadata": {
    "heading_collapsed": true,
    "hidden": true
   },
   "source": [
    "### Declaração"
   ]
  },
  {
   "cell_type": "markdown",
   "id": "62483b75",
   "metadata": {
    "hidden": true
   },
   "source": [
    "Uma lista é sempre criada utilizando os parenteses (`(` e `)`) e o seu conteúdo deve ficar dentro dos parenteses separados por vírgula. \n",
    "\n",
    "Além disso, podemos também declarar uma tupla colocando vários valores separados por vírgula na atribuição de uma variável."
   ]
  },
  {
   "cell_type": "code",
   "execution_count": 75,
   "id": "d4562e29",
   "metadata": {
    "ExecuteTime": {
     "end_time": "2021-09-28T01:02:01.442133Z",
     "start_time": "2021-09-28T01:02:01.435815Z"
    },
    "hidden": true
   },
   "outputs": [
    {
     "name": "stdout",
     "output_type": "stream",
     "text": [
      "('banana', 'abacaxi', 'morango')\n",
      "('Pedro', 'Guilherme')\n"
     ]
    }
   ],
   "source": [
    "# Declaração de tuplas com Conteúdo\n",
    "frutas = ( 'banana', 'abacaxi', 'morango' ) # Maneira usual\n",
    "nomes = 'Pedro', 'Guilherme'\n",
    "\n",
    "\n",
    "print(frutas)\n",
    "print(nomes)"
   ]
  },
  {
   "cell_type": "code",
   "execution_count": 76,
   "id": "19a751d4",
   "metadata": {
    "ExecuteTime": {
     "end_time": "2021-09-28T01:02:44.860219Z",
     "start_time": "2021-09-28T01:02:44.857489Z"
    },
    "hidden": true
   },
   "outputs": [
    {
     "name": "stdout",
     "output_type": "stream",
     "text": [
      "()\n",
      "<class 'tuple'>\n"
     ]
    }
   ],
   "source": [
    "# Declaração de tuplas sem\n",
    "frutas = () # Maneira usual\n",
    "\n",
    "print(frutas)\n",
    "print(type(frutas))"
   ]
  },
  {
   "cell_type": "markdown",
   "id": "8e477a7e",
   "metadata": {
    "heading_collapsed": true,
    "hidden": true
   },
   "source": [
    "### Recuperação de um Elemento"
   ]
  },
  {
   "cell_type": "markdown",
   "id": "e4a216ea",
   "metadata": {
    "hidden": true
   },
   "source": [
    "Para recuperarmos um determinado elemento de uma tupla, basta utilizarmos o índice do elemento que desejamos acessar:"
   ]
  },
  {
   "cell_type": "code",
   "execution_count": 77,
   "id": "d8662836",
   "metadata": {
    "ExecuteTime": {
     "end_time": "2021-09-28T01:06:06.670065Z",
     "start_time": "2021-09-28T01:06:06.667110Z"
    },
    "hidden": true
   },
   "outputs": [
    {
     "data": {
      "text/plain": [
       "('banana', 'abacaxi', 'morango')"
      ]
     },
     "execution_count": 77,
     "metadata": {},
     "output_type": "execute_result"
    }
   ],
   "source": [
    "# Declaração de listas com Conteúdo\n",
    "frutas = ('banana', 'abacaxi', 'morango')\n",
    "frutas"
   ]
  },
  {
   "cell_type": "code",
   "execution_count": 78,
   "id": "b3a8b4bc",
   "metadata": {
    "ExecuteTime": {
     "end_time": "2021-09-28T01:06:18.716163Z",
     "start_time": "2021-09-28T01:06:18.712457Z"
    },
    "hidden": true
   },
   "outputs": [
    {
     "data": {
      "text/plain": [
       "'abacaxi'"
      ]
     },
     "execution_count": 78,
     "metadata": {},
     "output_type": "execute_result"
    }
   ],
   "source": [
    "frutas[1]"
   ]
  },
  {
   "cell_type": "markdown",
   "id": "56cceb0e",
   "metadata": {},
   "source": [
    "# I/O - INPUT / OUTPUT"
   ]
  },
  {
   "cell_type": "markdown",
   "id": "3dba2457",
   "metadata": {},
   "source": [
    "Embora tenhamos visto na aula anterior como receber dados do usuário, utilizando a função `input()`, e como mostrar dados ao usuário, utilizando a função `print()`, essas duas formas não são únicas maneiras de interargirmos os usuários.\n",
    "\n",
    "Podemos receber dados do usuário através de documentos, sejam documentos de texto (`.txt`) como arquivos mais estruturados como arquivos `.csv` ou até mesmo planilhas eletrônicas como as do Excel.\n",
    "\n",
    "O recebimento de arquivos externos é um dos pontos mais importantes de *input* de uma aplicação, pois permite interações e inserções em massa de dados.\n",
    "\n",
    "Embora muitos de vocês conheçam a biblioteca *Pandas*, que nós utilizamos para fazer análise de dados, hoje iremos verificar como fazer a leitura de um arquivo `.csv` sem o uso de uma biblioteca externa. O Python possuí uma biblioteca *built-in* para leitura de arquivos, a `csv`."
   ]
  },
  {
   "cell_type": "code",
   "execution_count": 79,
   "id": "a82a887f",
   "metadata": {
    "ExecuteTime": {
     "end_time": "2021-09-28T01:19:20.813390Z",
     "start_time": "2021-09-28T01:19:20.810026Z"
    }
   },
   "outputs": [],
   "source": [
    "import csv"
   ]
  },
  {
   "cell_type": "markdown",
   "id": "7d0dbea3",
   "metadata": {},
   "source": [
    "Agora que temos a biblioteca `csv` pronta para uso, iremos utilizar a função `open()` do Python. Essa função irá criar um ojeto do tipo `file` para que possamos utilizar a função `reader()` biblioteca `csv` que acabamos de importar.\n",
    "\n",
    "A função `reader()` possuí vários parâmetros de entrada, porém os dois principais são primeiro parâmetro que é referente ao objeto do arquivo que foi aberto com a função `open()`; e o segundo parametro mais importante é o `delimiter`, que faz referencia ao caractere delimitador do arquivo `csv`.\n",
    "\n",
    "Além disso, sempre que abrimos um arquivo com a função `open()`, devemos **SEMPRE** fechar essa leitura com o método `close()` em nosso objeto."
   ]
  },
  {
   "cell_type": "code",
   "execution_count": 80,
   "id": "157de6ab",
   "metadata": {
    "ExecuteTime": {
     "end_time": "2021-09-28T23:15:16.086900Z",
     "start_time": "2021-09-28T23:15:16.084035Z"
    }
   },
   "outputs": [
    {
     "name": "stdout",
     "output_type": "stream",
     "text": [
      "<_csv.reader object at 0x7f7176fcdc80>\n"
     ]
    }
   ],
   "source": [
    "# Abertura do arquivo aula_03.csv e criação do objeto csv_file\n",
    "with open('csv/aula_03.csv') as csv_file:\n",
    "    \n",
    "    # Criação do objeto reader, que é responsável por ler as\n",
    "    # linhas do nosso arquivo csv\n",
    "    reader = csv.reader(csv_file, delimiter=',')\n",
    "    \n",
    "    # Printando o Objeto Reader\n",
    "    print(reader)\n",
    "\n",
    "    \n",
    "# Fechamento do objeto csv_file \n",
    "csv_file.close()"
   ]
  },
  {
   "cell_type": "markdown",
   "id": "9b3133e9",
   "metadata": {
    "heading_collapsed": true
   },
   "source": [
    "## Erros Comuns"
   ]
  },
  {
   "cell_type": "markdown",
   "id": "20ecaca4",
   "metadata": {
    "hidden": true
   },
   "source": [
    "E é aqui que começam outros erros comuns ao iniciarmos nossos estudos com linguagens de programação: Erros de caminhos.\n",
    "\n",
    "E quando eu me refiro a caminha, eu me refiro aos diretórios e como cada Sistema Operacional trata esses caminhos.\n",
    "\n",
    "O exemplo mais clássico são as principais diferenças entre as estruturas de diretórios do Sistema Operacional Windows e o GNU/Linux."
   ]
  },
  {
   "cell_type": "markdown",
   "id": "efdee24a",
   "metadata": {
    "heading_collapsed": true,
    "hidden": true
   },
   "source": [
    "### Estrutura de Diretórios"
   ]
  },
  {
   "cell_type": "markdown",
   "id": "6a58341a",
   "metadata": {
    "hidden": true
   },
   "source": [
    "No Windows utilizamos a \"barra ao contrário\" ( `\\` ) para definir o caminho de um determinado diretório ou arquivo. Por exemplo: `C:\\Program Files\\Python\\python.exe`. Enquanto que no GNU/Linux, utilizamos a \"barra comum\" para definir um caminho. Por exemplo: `/home/pedro/.pyenv/shims/python`.\n",
    "\n",
    "Dessa forma, sempre que formos abrir ou carregar um arquivo em nosso programa, temos que sempre ter certeza do caminho em que esse arquivo está, utilizando o caminho e a estrutura de diretórios correta para cada SO (Sistema Operacional)."
   ]
  },
  {
   "cell_type": "markdown",
   "id": "db61a401",
   "metadata": {
    "hidden": true
   },
   "source": [
    "Outro ponto importante é: Se você for iniciante e ainda não souber o que é um caminho relativo, dê preferencia ao utilizar sempre o caminho completo do arquivo. Por exemplo:\n",
    "* Windows - `C:\\Users\\Pedro\\Documents\\Development\\Fundamentos\\aula_3\\aula_3.csv`\n",
    "* Linux - `/home/pedro/development/fundamentos/aula_3/aula_3.csv`"
   ]
  },
  {
   "cell_type": "markdown",
   "id": "40ea49cc",
   "metadata": {
    "hidden": true
   },
   "source": [
    "Outro ponto importante a respeito da estrutura de diretórios em Windows, é que sempre que vamos descrever o caminho completo do nosso arquivo, temos que verificar se temos que \"escapar\" a barra. \n",
    "\n",
    "Acontece que a \"barra ao contrário\" ( `\\` ) em muitas linguagens de programação e interpretadores de texto e/ou IDEs são utilizadas como comandos. Por exemplo: o comando `\\q` significa sair em alguns editores de texto.\n",
    "\n",
    "Para resolvermos essa questão, basta \"escaparmos\" a barra, colocando duas barras juntas: `\\\\`. Dessa forma, ficaria da seguinte maneira: `C:\\\\Users\\\\Pedro\\\\Documents\\\\Development\\\\Fundamentos\\\\aula_3\\\\aula_3.csv`."
   ]
  },
  {
   "cell_type": "markdown",
   "id": "e76ddac4",
   "metadata": {
    "heading_collapsed": true,
    "hidden": true
   },
   "source": [
    "### Case Sensitive"
   ]
  },
  {
   "cell_type": "markdown",
   "id": "faabc1e7",
   "metadata": {
    "hidden": true
   },
   "source": [
    "Outro erro muito comum ao mexermos com caminhos é que o Windows **NÃO É** *case sesitive*, ou seja, tanto faz utilizarmos letras maiúsculas quanto minúsculas. Já o GNU/Linux **É** *case sensitive*, o que faz com que **HAJA** diferença entre um caminho ou nome de arquivos com letras maiúculas ou minúsculas."
   ]
  },
  {
   "cell_type": "markdown",
   "id": "418cd149",
   "metadata": {
    "hidden": true
   },
   "source": [
    "Windows - `C:\\Users\\Pedro\\Documents\\Development\\Fundamentos\\aula_3\\aula_3.csv` = `C:\\UsErS\\PeDrO\\DoCuMeNtS\\DeVeLoPmEnT\\FuNdAmEnToS\\AuLa_3\\AuLa_3.csv`"
   ]
  },
  {
   "cell_type": "markdown",
   "id": "87a2e632",
   "metadata": {
    "hidden": true
   },
   "source": [
    "Linux - `/home/pedro/development/fundamentos/aula_3/aula_3.csv` ≠ `/home/pedro/development/fundamentos/aula_3/Aula_3.csv`"
   ]
  },
  {
   "cell_type": "markdown",
   "id": "2e5b1dd0",
   "metadata": {},
   "source": [
    "## Leitura de Arquivo"
   ]
  },
  {
   "cell_type": "markdown",
   "id": "2319d1fe",
   "metadata": {},
   "source": [
    "Agora que já vimos como iniciar a leitura de um arquivo, vamos dar continuidade nesse tópico e ler as linhas do arquivo:"
   ]
  },
  {
   "cell_type": "code",
   "execution_count": 81,
   "id": "8ae26dcd",
   "metadata": {
    "ExecuteTime": {
     "end_time": "2021-09-28T23:17:05.493349Z",
     "start_time": "2021-09-28T23:17:05.488155Z"
    }
   },
   "outputs": [
    {
     "name": "stdout",
     "output_type": "stream",
     "text": [
      "['id', 'nome', 'idade', 'altura', 'casado']\n",
      "['0', 'Pedro', '32', '1.82', 'True']\n",
      "['1', 'Guilherme', '23', '1.82', 'False']\n",
      "['2', 'Ana', '29', '1.79', 'True']\n",
      "['3', 'Carolina', '13', '1.60', 'False']\n"
     ]
    }
   ],
   "source": [
    "# Importar a biblioteca csv do Python\n",
    "import csv\n",
    "\n",
    "# Abertura do arquivo aula_03.csv e criação do objeto csv_file\n",
    "with open('csv/aula_03.csv') as csv_file:\n",
    "    \n",
    "    # Criação do objeto reader, que é responsável por ler as\n",
    "    # linhas do nosso arquivo csv\n",
    "    reader = csv.reader(csv_file, delimiter=',')\n",
    "    \n",
    "    # Leitura da primeira Linha\n",
    "    linha_1 = next(reader, -1)\n",
    "    if(linha_1 != -1): # Verifica se a linha possuí conteúdo\n",
    "        print(linha_1) # Se possuir, \n",
    "    \n",
    "    # Leitura da segunda Linha\n",
    "    linha_1 = next(reader, -1)\n",
    "    if(linha_1 != -1):\n",
    "        print(linha_1)\n",
    "    \n",
    "    # Leitura da terceira Linha\n",
    "    linha_1 = next(reader, -1)\n",
    "    if(linha_1 != -1):\n",
    "        print(linha_1)\n",
    "    \n",
    "    # Leitura da quarta Linha\n",
    "    linha_1 = next(reader, -1)\n",
    "    if(linha_1 != -1):\n",
    "        print(linha_1)\n",
    "    \n",
    "    # Leitura da quinta Linha\n",
    "    linha_1 = next(reader, -1)\n",
    "    if(linha_1 != -1):\n",
    "        print(linha_1)\n",
    "    \n",
    "    # Leitura da sexta Linha\n",
    "    linha_1 = next(reader, -1)\n",
    "    if(linha_1 != -1):\n",
    "        print(linha_1)\n",
    "\n",
    "    \n",
    "# Fechamento do objeto csv_file \n",
    "csv_file.close()"
   ]
  },
  {
   "cell_type": "code",
   "execution_count": 82,
   "id": "92af9539",
   "metadata": {
    "ExecuteTime": {
     "end_time": "2021-11-04T01:00:46.497330Z",
     "start_time": "2021-11-04T01:00:46.493357Z"
    }
   },
   "outputs": [
    {
     "name": "stdout",
     "output_type": "stream",
     "text": [
      "['id', 'nome', 'idade', 'altura', 'casado']\n",
      "['0', 'Pedro', '32', '1.82', 'True']\n",
      "['1', 'Guilherme', '23', '1.82', 'False']\n",
      "['2', 'Ana', '29', '1.79', 'True']\n",
      "['3', 'Carolina', '13', '1.60', 'False']\n"
     ]
    }
   ],
   "source": [
    "# Importar a biblioteca csv do Python\n",
    "import csv\n",
    "\n",
    "# Abertura do arquivo aula_03.csv e criação do objeto csv_file\n",
    "with open('csv/aula_03.csv') as csv_file:\n",
    "    \n",
    "    # Criação do objeto reader, que é responsável por ler as\n",
    "    # linhas do nosso arquivo csv\n",
    "    reader = csv.reader(csv_file, delimiter=',')\n",
    "    \n",
    "    for linha in reader:\n",
    "        print(linha)\n",
    "\n",
    "    \n",
    "# Fechamento do objeto csv_file \n",
    "csv_file.close()"
   ]
  },
  {
   "cell_type": "markdown",
   "id": "821bdf7d",
   "metadata": {},
   "source": [
    "Notem que para cada linha que estamos lendo. temos que repetir o mesmo comando várias vezes para que possamos ler todas as linhas do arquivo:\n",
    "\n",
    "`# Leitura da quinta Linha`  \n",
    "`linha_1 = next(reader, -1)`  \n",
    "`if(linha_1 != -1):`  \n",
    "&emsp;&emsp;`print(linha_1)`"
   ]
  },
  {
   "cell_type": "markdown",
   "id": "1def94dc",
   "metadata": {},
   "source": [
    "Com 6 linhas, esse trabalho é tranquilo. Agora imagine que existam milhares, ou dezenas de milhares de linhas em um arquivo, ter que repetir essa quantidade de vezes é não só uma perca de tempo como um trabalho demorado demais. Fora que as vezes não temos que saber de antemão quantas linhas o arquivo terá.\n",
    "\n",
    "E é aqui que encontramos as **ESTRUTURAS DE REPETIÇÃO** para resolver o nosso problema!"
   ]
  },
  {
   "cell_type": "markdown",
   "id": "0581d5ec",
   "metadata": {},
   "source": [
    "# ESTRUTURAS DE REPETIÇÃO"
   ]
  },
  {
   "cell_type": "markdown",
   "id": "bbd7e0b2",
   "metadata": {},
   "source": [
    "**ESTRUTURAS DE REPETIÇÃO** são estruturas que utilizamos em linguagens de programação para **REPETIR** blocos de códigos por um número determindo, (ou não) de vezes.\n",
    "\n",
    "Existem duas grandes estruturas de repetição em Python: **for** e **while**."
   ]
  },
  {
   "cell_type": "markdown",
   "id": "13eca8b0",
   "metadata": {},
   "source": [
    "## Estrutura *for*"
   ]
  },
  {
   "cell_type": "code",
   "execution_count": 83,
   "id": "5795bc62",
   "metadata": {
    "ExecuteTime": {
     "end_time": "2021-09-28T23:44:54.923824Z",
     "start_time": "2021-09-28T23:44:54.920790Z"
    }
   },
   "outputs": [
    {
     "name": "stdout",
     "output_type": "stream",
     "text": [
      "A variável i está com o valor 0\n",
      "A variável i está com o valor 1\n",
      "A variável i está com o valor 2\n",
      "A variável i está com o valor 3\n",
      "A variável i está com o valor 4\n",
      "acabou a iteração\n"
     ]
    }
   ],
   "source": [
    "# Exemplo de Declaração de um for\n",
    "for i in range(5):\n",
    "    print(f'A variável i está com o valor {i}')\n",
    "else:\n",
    "    print('acabou a iteração')"
   ]
  },
  {
   "cell_type": "markdown",
   "id": "8ee2a63f",
   "metadata": {},
   "source": [
    "A estrutura de repetição *for* é uma estrutura de repetição **finita**. Ou seja, assim que definirmos ela, ela irá iterar, percorrer o que chamamos de **iterador** (não se preocupem, veremos mais sobre iteradores no \n",
    "próximo ciclo) e, assim que o último elemento do **iterador** é utilizado, o *for* para a iteração.\n",
    "\n",
    "Pense no *for* como estrutura que definimos que desejamos percorrer todos os itens de um determinado conjunto de dados. E esse conjunto de dados precisa ser uma estrutura **iterável** como listas, dicionários ou a função `range()` que utilizamos no exemplo acima.\n",
    "\n",
    "Além disso, o `else` que está no final do *for* será executado sempre que a **iteração** terminar, ou seja, quando o *for* terminar, todo o bloco que estiver na cláusula `else`, será executado, e essa cláusula é opcional, ou seja, pode ou não ser executada."
   ]
  },
  {
   "cell_type": "code",
   "execution_count": 84,
   "id": "f9f9622b",
   "metadata": {
    "ExecuteTime": {
     "end_time": "2021-09-28T23:53:48.000674Z",
     "start_time": "2021-09-28T23:53:47.997935Z"
    }
   },
   "outputs": [
    {
     "name": "stdout",
     "output_type": "stream",
     "text": [
      "A variável i está com o valor 0\n",
      "A variável i está com o valor 1\n",
      "A variável i está com o valor 2\n",
      "A variável i está com o valor 3\n",
      "A variável i está com o valor 4\n",
      "acabou a iteração\n"
     ]
    }
   ],
   "source": [
    " # Exemplo de Declaração de um for\n",
    "for i in range(5):\n",
    "    print(f'A variável i está com o valor {i}')\n",
    "    \n",
    "print('acabou a iteração')"
   ]
  },
  {
   "cell_type": "code",
   "execution_count": 85,
   "id": "b079e126",
   "metadata": {
    "ExecuteTime": {
     "end_time": "2021-11-04T00:42:13.608185Z",
     "start_time": "2021-11-04T00:42:13.604932Z"
    }
   },
   "outputs": [
    {
     "data": {
      "text/plain": [
       "[30, 40, 20, 20]"
      ]
     },
     "execution_count": 85,
     "metadata": {},
     "output_type": "execute_result"
    }
   ],
   "source": [
    "lista"
   ]
  },
  {
   "cell_type": "code",
   "execution_count": 88,
   "id": "a5e2c349",
   "metadata": {
    "ExecuteTime": {
     "end_time": "2021-11-04T00:44:05.821897Z",
     "start_time": "2021-11-04T00:44:05.818314Z"
    }
   },
   "outputs": [
    {
     "name": "stdout",
     "output_type": "stream",
     "text": [
      "O indice da lista e = 0\n",
      "O indice da elemento e = 30\n",
      "===================\n",
      "O indice da lista e = 1\n",
      "O indice da elemento e = 40\n",
      "===================\n",
      "O indice da lista e = 2\n",
      "O indice da elemento e = 20\n",
      "===================\n",
      "O indice da lista e = 3\n",
      "O indice da elemento e = 20\n",
      "===================\n"
     ]
    }
   ],
   "source": [
    "for indice, elemento in enumerate(lista): # lista[indice]\n",
    "    print(f'O indice da lista e = {indice}')\n",
    "    print(f'O indice da elemento e = {elemento}')\n",
    "    print('===================')"
   ]
  },
  {
   "cell_type": "markdown",
   "id": "fce02478",
   "metadata": {},
   "source": [
    "Veja que atingimos o mesmo resultado que o exemplo anterior."
   ]
  },
  {
   "cell_type": "code",
   "execution_count": null,
   "id": "3e56e22d",
   "metadata": {
    "ExecuteTime": {
     "end_time": "2021-09-28T23:59:21.087428Z",
     "start_time": "2021-09-28T23:59:21.083932Z"
    },
    "hide_input": true
   },
   "outputs": [],
   "source": [
    "Image('img/for_loop.png')"
   ]
  },
  {
   "cell_type": "markdown",
   "id": "45d8d316",
   "metadata": {},
   "source": [
    "Fonte: https://www.learnbyexample.org/wp-content/uploads/python/Python-for-Loop-Syntax.png"
   ]
  },
  {
   "cell_type": "markdown",
   "id": "86a032a0",
   "metadata": {},
   "source": [
    "### Exemplo de como Percorrer uma lista"
   ]
  },
  {
   "cell_type": "code",
   "execution_count": 90,
   "id": "1257e868",
   "metadata": {
    "ExecuteTime": {
     "end_time": "2021-09-29T00:01:30.354265Z",
     "start_time": "2021-09-29T00:01:30.350945Z"
    }
   },
   "outputs": [
    {
     "name": "stdout",
     "output_type": "stream",
     "text": [
      "O iterador está na fruta Morango\n",
      "O iterador está na fruta Mamão\n",
      "O iterador está na fruta Amora\n",
      "O iterador está na fruta Banana\n",
      "O iterador está na fruta Uva\n"
     ]
    }
   ],
   "source": [
    "# Declaração de uma Lista com conteúdo\n",
    "frutas = ['Morango', 'Mamão', 'Amora', 'Banana', 'Uva']\n",
    "\n",
    "# Declaração da estrutura for\n",
    "for fruta in frutas:\n",
    "    print(f'O iterador está na fruta {fruta}')"
   ]
  },
  {
   "cell_type": "markdown",
   "id": "b465f77e",
   "metadata": {
    "heading_collapsed": true
   },
   "source": [
    "### Exemplo de como Percorrer um Dicionário"
   ]
  },
  {
   "cell_type": "code",
   "execution_count": 91,
   "id": "833c1771",
   "metadata": {
    "ExecuteTime": {
     "end_time": "2021-09-29T00:04:04.532609Z",
     "start_time": "2021-09-29T00:04:04.528829Z"
    },
    "hidden": true
   },
   "outputs": [
    {
     "name": "stdout",
     "output_type": "stream",
     "text": [
      "O iterador está na chave 1 que possuí o valor Morango\n",
      "O iterador está na chave 2 que possuí o valor Mamão\n",
      "O iterador está na chave 3 que possuí o valor Amora\n",
      "O iterador está na chave 4 que possuí o valor Banana\n",
      "O iterador está na chave 5 que possuí o valor Uva\n"
     ]
    }
   ],
   "source": [
    "# Declaração de uma Lista com conteúdo\n",
    "frutas = {1: 'Morango', 2: 'Mamão', 3: 'Amora', 4: 'Banana', 5: 'Uva'}\n",
    "\n",
    "# Declaração da estrutura for\n",
    "for chave, valor in frutas.items():\n",
    "    print(f'O iterador está na chave {chave} que possuí o valor {valor}')"
   ]
  },
  {
   "cell_type": "markdown",
   "id": "85ff3815",
   "metadata": {},
   "source": [
    "### Exemplo de como Percorrer um Range"
   ]
  },
  {
   "cell_type": "code",
   "execution_count": 92,
   "id": "e9553b68",
   "metadata": {
    "ExecuteTime": {
     "end_time": "2021-09-29T00:59:53.199651Z",
     "start_time": "2021-09-29T00:59:53.193160Z"
    }
   },
   "outputs": [
    {
     "name": "stdout",
     "output_type": "stream",
     "text": [
      "O iterador está no valor 0 do range\n",
      "O iterador está no valor 1 do range\n",
      "O iterador está no valor 2 do range\n",
      "O iterador está no valor 3 do range\n",
      "O iterador está no valor 4 do range\n"
     ]
    }
   ],
   "source": [
    "# Declaração da Estrutura for utilizando a função range()\n",
    "for i in range(0, 5):\n",
    "    print(f'O iterador está no valor {i} do range')"
   ]
  },
  {
   "cell_type": "markdown",
   "id": "e96e6e9b",
   "metadata": {
    "heading_collapsed": true
   },
   "source": [
    "### Resolvendo o Problema de Leitura de Arquivo Utilizando o *for*"
   ]
  },
  {
   "cell_type": "code",
   "execution_count": 93,
   "id": "222dce6e",
   "metadata": {
    "ExecuteTime": {
     "end_time": "2021-09-29T00:08:15.802282Z",
     "start_time": "2021-09-29T00:08:15.798855Z"
    },
    "hidden": true
   },
   "outputs": [
    {
     "name": "stdout",
     "output_type": "stream",
     "text": [
      "O Conteúdo da linha é: ['id', 'nome', 'idade', 'altura', 'casado']\n",
      "O Conteúdo da linha é: ['0', 'Pedro', '32', '1.82', 'True']\n",
      "O Conteúdo da linha é: ['1', 'Guilherme', '23', '1.82', 'False']\n",
      "O Conteúdo da linha é: ['2', 'Ana', '29', '1.79', 'True']\n",
      "O Conteúdo da linha é: ['3', 'Carolina', '13', '1.60', 'False']\n"
     ]
    }
   ],
   "source": [
    "# Abertura do arquivo aula_03.csv e criação do objeto csv_file\n",
    "with open('csv/aula_03.csv') as csv_file:\n",
    "    \n",
    "    # Criação do objeto reader, que é responsável por ler as\n",
    "    # linhas do nosso arquivo csv\n",
    "    reader = csv.reader(csv_file, delimiter=',')\n",
    "    \n",
    "    # Utilizando o for para repetir os arquivos\n",
    "    for linha in reader:\n",
    "        print(f'O Conteúdo da linha é: {linha}')\n",
    "\n",
    "    \n",
    "# Fechamento do objeto csv_file \n",
    "csv_file.close()"
   ]
  },
  {
   "cell_type": "markdown",
   "id": "4dc03b15",
   "metadata": {
    "hidden": true
   },
   "source": [
    "Notem que não precisamos testar quando o **iterador**, no caso o objeto `reader`, termina. O *for* faz isso sozinho para nós!"
   ]
  },
  {
   "cell_type": "markdown",
   "id": "f6e4bd63",
   "metadata": {},
   "source": [
    "## Estrutura *while*"
   ]
  },
  {
   "cell_type": "code",
   "execution_count": 94,
   "id": "de91a501",
   "metadata": {
    "ExecuteTime": {
     "end_time": "2021-09-29T00:47:56.210072Z",
     "start_time": "2021-09-29T00:47:56.202608Z"
    }
   },
   "outputs": [
    {
     "name": "stdout",
     "output_type": "stream",
     "text": [
      "O Valor do iterador é igual a 0\n",
      "O Valor do iterador é igual a 1\n",
      "O Valor do iterador é igual a 2\n",
      "O Valor do iterador é igual a 3\n",
      "O Valor do iterador é igual a 4\n",
      "O While terminou!\n"
     ]
    }
   ],
   "source": [
    "# Declaração do Iterador\n",
    "iterador = 0\n",
    "\n",
    "# Exemplo de Declaração da Estrutura While\n",
    "while(iterador < 5):\n",
    "    print(f'O Valor do iterador é igual a {iterador}')\n",
    "    iterador += 1;\n",
    "else:\n",
    "    print(f'O While terminou!')"
   ]
  },
  {
   "cell_type": "markdown",
   "id": "b3c3e032",
   "metadata": {},
   "source": [
    "Diferente do *for*, o *while* é uma estrutura de repetição **INFINITA**. Ou seja, ela irá executar sempre até que uma determinada condição, que definimos quando declaramos o *while* é feita.\n",
    "\n",
    "Dessa forma, se errarmos ao declarar essa condição de parada, o while ficará executando infinatemente, entrando no que chamamos de ***loop* infinito**.\n",
    "\n",
    "Além disso, temos que declarar e atualizar **MANUALMENTE** o **ITERADOR** que iremos utilizar. No exemplo acima, o nosso **ITERADOR** é uma simples variável.\n",
    "\n",
    "Assim como o *for*, a declaração e utilização do `else` ao final do `while` é **OPCIONAL**."
   ]
  },
  {
   "cell_type": "code",
   "execution_count": 95,
   "id": "ce9ace6f",
   "metadata": {
    "ExecuteTime": {
     "end_time": "2021-09-29T00:47:57.032765Z",
     "start_time": "2021-09-29T00:47:57.028893Z"
    }
   },
   "outputs": [
    {
     "name": "stdout",
     "output_type": "stream",
     "text": [
      "O Valor do iterador é igual a 0\n",
      "O Valor do iterador é igual a 1\n",
      "O Valor do iterador é igual a 2\n",
      "O Valor do iterador é igual a 3\n",
      "O Valor do iterador é igual a 4\n",
      "O While terminou!\n"
     ]
    }
   ],
   "source": [
    "# Declaração do Iterador\n",
    "iterador = 0\n",
    "\n",
    "# Exemplo de Declaração da Estrutura While\n",
    "while(iterador < 5):\n",
    "    print(f'O Valor do iterador é igual a {iterador}')\n",
    "    iterador += 1;\n",
    "\n",
    "    \n",
    "print(f'O While terminou!')"
   ]
  },
  {
   "cell_type": "code",
   "execution_count": null,
   "id": "11340efb",
   "metadata": {
    "ExecuteTime": {
     "end_time": "2021-09-29T00:47:57.676616Z",
     "start_time": "2021-09-29T00:47:57.670697Z"
    },
    "hide_input": true
   },
   "outputs": [],
   "source": [
    "Image('img/while_loop.png')"
   ]
  },
  {
   "cell_type": "markdown",
   "id": "595a9d8b",
   "metadata": {},
   "source": [
    "Fonte: https://www.learnbyexample.org/wp-content/uploads/python/Python-while-Loop-Syntax.png"
   ]
  },
  {
   "cell_type": "markdown",
   "id": "fbd640ea",
   "metadata": {},
   "source": [
    "### Exemplo de como Percorrer uma lista"
   ]
  },
  {
   "cell_type": "code",
   "execution_count": 96,
   "id": "12f43b95",
   "metadata": {
    "ExecuteTime": {
     "end_time": "2021-11-04T00:55:28.939775Z",
     "start_time": "2021-11-04T00:55:28.937059Z"
    }
   },
   "outputs": [
    {
     "name": "stdout",
     "output_type": "stream",
     "text": [
      "Morango\n",
      "Mamão\n",
      "Amora\n",
      "Banana\n",
      "Uva\n"
     ]
    }
   ],
   "source": [
    "frutas = ['Morango', 'Mamão', 'Amora', 'Banana', 'Uva']\n",
    "\n",
    "for fruta in frutas:\n",
    "    print(fruta)"
   ]
  },
  {
   "cell_type": "code",
   "execution_count": 97,
   "id": "2438a9d9",
   "metadata": {
    "ExecuteTime": {
     "end_time": "2021-09-29T00:48:00.306786Z",
     "start_time": "2021-09-29T00:48:00.299921Z"
    }
   },
   "outputs": [
    {
     "name": "stdout",
     "output_type": "stream",
     "text": [
      "O iterador está com o valor de 0. Esse índice na lista é o elemento Morango\n",
      "O iterador está com o valor de 1. Esse índice na lista é o elemento Mamão\n",
      "O iterador está com o valor de 2. Esse índice na lista é o elemento Amora\n",
      "O iterador está com o valor de 3. Esse índice na lista é o elemento Banana\n",
      "O iterador está com o valor de 4. Esse índice na lista é o elemento Uva\n"
     ]
    }
   ],
   "source": [
    "# Declaração de uma Lista com conteúdo\n",
    "frutas = ['Morango', 'Mamão', 'Amora', 'Banana', 'Uva']\n",
    "\n",
    "# Declaração do Índice ou Contador\n",
    "index = 0\n",
    "\n",
    "# Declaração da estrutura while\n",
    "while index < len(frutas):\n",
    "    print(f'O iterador está com o valor de {index}. Esse índice na lista é o elemento {frutas[index]}')\n",
    "    index += 1 # Incremento do Índice"
   ]
  },
  {
   "cell_type": "markdown",
   "id": "81f66dd0",
   "metadata": {
    "heading_collapsed": true
   },
   "source": [
    "### Exemplo de como Percorrer um Dicionário"
   ]
  },
  {
   "cell_type": "markdown",
   "id": "429df3b9",
   "metadata": {
    "hidden": true
   },
   "source": [
    "Embora o dicionário seja uma estrutura **ITERÁVEL**, por termos que que controloar **MANUALMENTE** a iterção utilizando a estrutura `while` com uma condição de parada, para percorremos um dicionário teríamos que \"desempacotar\" a estrutura do dicionário em uma lista, que possuí índices numéricos, para então conseguirmos percorrer esses elementos utilizando o `while`."
   ]
  },
  {
   "cell_type": "code",
   "execution_count": 98,
   "id": "16c4c89d",
   "metadata": {
    "ExecuteTime": {
     "end_time": "2021-09-29T01:03:43.124685Z",
     "start_time": "2021-09-29T01:03:43.121040Z"
    },
    "hidden": true
   },
   "outputs": [
    {
     "name": "stdout",
     "output_type": "stream",
     "text": [
      "Estrutura dos valores do dicionário: ['Morango', 'Mamão', 'Amora', 'Banana', 'Uva']\n",
      "O iterador está com o valor de 0. Esse índice na lista é o elemento Morango\n",
      "O iterador está com o valor de 1. Esse índice na lista é o elemento Mamão\n",
      "O iterador está com o valor de 2. Esse índice na lista é o elemento Amora\n",
      "O iterador está com o valor de 3. Esse índice na lista é o elemento Banana\n",
      "O iterador está com o valor de 4. Esse índice na lista é o elemento Uva\n"
     ]
    }
   ],
   "source": [
    "# Declaração de um Dicionário com conteúdo\n",
    "frutas = {1: 'Morango', 2: 'Mamão', 3: 'Amora', 4: 'Banana', 5: 'Uva'}\n",
    "\n",
    "# Declaração do Índice ou Contador\n",
    "index = 0\n",
    "\n",
    "# Desempacotamento do dicionário em uma lista\n",
    "frutas_l = list(frutas.values())\n",
    "print(f'Estrutura dos valores do dicionário: {frutas_l}')\n",
    "\n",
    "# Declaração da estrutura while\n",
    "while index < len(frutas):\n",
    "    print(f'O iterador está com o valor de {index}. Esse índice na lista é o elemento {frutas_l[index]}')\n",
    "    index += 1 # Incremento do Índice"
   ]
  },
  {
   "cell_type": "markdown",
   "id": "96757faf",
   "metadata": {
    "heading_collapsed": true
   },
   "source": [
    "### Exemplo de como Percorrer um Range"
   ]
  },
  {
   "cell_type": "markdown",
   "id": "1b805f2b",
   "metadata": {
    "hidden": true
   },
   "source": [
    "A mesma questão acima é válida para a função `range()`. Ela nos gera um **ITERADOR** e como temos que controlar esse iterador de forma manual, temos que desempacotá-lo para trabalharmos com ele utilizando o `while`"
   ]
  },
  {
   "cell_type": "code",
   "execution_count": 99,
   "id": "5415e1b6",
   "metadata": {
    "ExecuteTime": {
     "end_time": "2021-09-29T01:05:35.019455Z",
     "start_time": "2021-09-29T01:05:35.012635Z"
    },
    "hidden": true
   },
   "outputs": [
    {
     "name": "stdout",
     "output_type": "stream",
     "text": [
      "Estrutura dos valores do range: [1, 2, 3, 4, 5]\n",
      "O iterador está com o valor de 0. Esse índice na lista é o elemento 1\n",
      "O iterador está com o valor de 1. Esse índice na lista é o elemento 2\n",
      "O iterador está com o valor de 2. Esse índice na lista é o elemento 3\n",
      "O iterador está com o valor de 3. Esse índice na lista é o elemento 4\n",
      "O iterador está com o valor de 4. Esse índice na lista é o elemento 5\n"
     ]
    }
   ],
   "source": [
    "# Desempacotando a estrutura range() em uma lista\n",
    "range_ = list(range(1, 6))\n",
    "print(f'Estrutura dos valores do range: {range_}')\n",
    "\n",
    "# Declarando o Index\n",
    "index = 0\n",
    "\n",
    "# Declaração da estrutura while\n",
    "while index < len(range_):\n",
    "    print(f'O iterador está com o valor de {index}. Esse índice na lista é o elemento {range_[index]}')\n",
    "    index += 1 # Incremento do Índice"
   ]
  },
  {
   "cell_type": "markdown",
   "id": "9cf74957",
   "metadata": {
    "hidden": true
   },
   "source": [
    "Uma outra abordagem com a limitação de não conseguirmos acessar o \"valor\" do `range` em si seria:"
   ]
  },
  {
   "cell_type": "code",
   "execution_count": 100,
   "id": "e9c53829",
   "metadata": {
    "ExecuteTime": {
     "end_time": "2021-09-29T01:10:47.223754Z",
     "start_time": "2021-09-29T01:10:47.220842Z"
    },
    "hidden": true
   },
   "outputs": [
    {
     "name": "stdout",
     "output_type": "stream",
     "text": [
      "O iterador está com o valor de 1. Nessa abordagem NÃO temos como recuperar o valor do range()\n",
      "O iterador está com o valor de 2. Nessa abordagem NÃO temos como recuperar o valor do range()\n",
      "O iterador está com o valor de 3. Nessa abordagem NÃO temos como recuperar o valor do range()\n",
      "O iterador está com o valor de 4. Nessa abordagem NÃO temos como recuperar o valor do range()\n",
      "O iterador está com o valor de 5. Nessa abordagem NÃO temos como recuperar o valor do range()\n"
     ]
    }
   ],
   "source": [
    "# Declarando o Index\n",
    "index = 1\n",
    "\n",
    "# Declaração da Estrutura while\n",
    "while index in range(1, 6):\n",
    "    print(f'O iterador está com o valor de {index}. Nessa abordagem NÃO temos como recuperar o valor do range()')\n",
    "    index += 1 # Incremento do Índice"
   ]
  },
  {
   "cell_type": "markdown",
   "id": "94138f97",
   "metadata": {
    "hidden": true
   },
   "source": [
    "Aqui o valor da variável `index` é sempre um valor que está dentro da estrutura `range()`. Ou seja, essa abordagem pode ser um problema caso nosso **ITERADOR** não siga a mesma proporção de incremento que o nosso `range()`:"
   ]
  },
  {
   "cell_type": "code",
   "execution_count": 101,
   "id": "d208dd02",
   "metadata": {
    "ExecuteTime": {
     "end_time": "2021-09-29T01:11:34.182375Z",
     "start_time": "2021-09-29T01:11:34.174813Z"
    },
    "hidden": true
   },
   "outputs": [
    {
     "name": "stdout",
     "output_type": "stream",
     "text": [
      "O iterador está com o valor de 1.\n",
      "Já saimos da Estrutura While!!\n"
     ]
    }
   ],
   "source": [
    "# Declarando o Index\n",
    "index = 1\n",
    "\n",
    "# Declaração da Estrutura while\n",
    "while index in range(1, 6, 3):\n",
    "    print(f'O iterador está com o valor de {index}.')\n",
    "    index += 1 # Incremento do Índice\n",
    "    \n",
    "print(f'Já saimos da Estrutura While!!')"
   ]
  },
  {
   "cell_type": "markdown",
   "id": "f60628b2",
   "metadata": {
    "heading_collapsed": true
   },
   "source": [
    "### Resolvendo o Problema de Leitura de Arquivo Utilizando o *for*"
   ]
  },
  {
   "cell_type": "markdown",
   "id": "f89c7db8",
   "metadata": {
    "hidden": true
   },
   "source": [
    "Assim como nos exemplos anteriores, teremos que desempacotar nosso objeto `reader` em uma lista para conseguirmos percorrer e iterar sobre a nossa lista manualmente."
   ]
  },
  {
   "cell_type": "code",
   "execution_count": 102,
   "id": "b8bfaaaf",
   "metadata": {
    "ExecuteTime": {
     "end_time": "2021-09-29T01:24:50.453062Z",
     "start_time": "2021-09-29T01:24:50.448183Z"
    },
    "hidden": true
   },
   "outputs": [
    {
     "name": "stdout",
     "output_type": "stream",
     "text": [
      "Estrutura da lista gerada atrvés do objeto reader:\n",
      "[['id', 'nome', 'idade', 'altura', 'casado'], ['0', 'Pedro', '32', '1.82', 'True'], ['1', 'Guilherme', '23', '1.82', 'False'], ['2', 'Ana', '29', '1.79', 'True'], ['3', 'Carolina', '13', '1.60', 'False']]\n",
      "O Conteúdo da linha é: ['id', 'nome', 'idade', 'altura', 'casado']\n",
      "O Conteúdo da linha é: ['0', 'Pedro', '32', '1.82', 'True']\n",
      "O Conteúdo da linha é: ['1', 'Guilherme', '23', '1.82', 'False']\n",
      "O Conteúdo da linha é: ['2', 'Ana', '29', '1.79', 'True']\n",
      "O Conteúdo da linha é: ['3', 'Carolina', '13', '1.60', 'False']\n"
     ]
    }
   ],
   "source": [
    "# Abertura do arquivo aula_03.csv e criação do objeto csv_file\n",
    "with open('csv/aula_03.csv') as csv_file:\n",
    "    \n",
    "    # Criação do objeto reader, que é responsável por ler as\n",
    "    # linhas do nosso arquivo csv\n",
    "    reader = csv.reader(csv_file, delimiter=',')\n",
    "    \n",
    "    # Desempacotamento do objeto reader\n",
    "    reader_l = list(reader)\n",
    "    print(f'Estrutura da lista gerada atrvés do objeto reader:')\n",
    "    print(reader_l)\n",
    "    \n",
    "    # Declaração do Indice\n",
    "    index = 0\n",
    "    \n",
    "    # Utilizando o for para repetir os arquivos\n",
    "    while index < len(reader_l):\n",
    "        print(f'O Conteúdo da linha é: {reader_l[index]}')\n",
    "        index += 1\n",
    "\n",
    "    \n",
    "# Fechamento do objeto csv_file \n",
    "csv_file.close()"
   ]
  },
  {
   "cell_type": "markdown",
   "id": "e7d87804",
   "metadata": {
    "heading_collapsed": true
   },
   "source": [
    "## Quando usar *while* e quando usar o *for*"
   ]
  },
  {
   "cell_type": "markdown",
   "id": "af84f918",
   "metadata": {
    "hidden": true
   },
   "source": [
    "A resposta simples e direta para essa pergunta é: **DEPENDE**.\n",
    "\n",
    "Embora pareça uma resposta evasiva, a utilização de uma estrutura ao invés da outra realmente depende do que você deseja realizar. No geral, a estrutura *for* é a mais usual por ser mais simples não só de usar, mas também de entender. No geral, tudo que possuí uma quantidade **FINITA** de dados, elementos ou informações, é preferível que utilizemos a estrutura *for*.\n",
    "\n",
    "Agora, quando desejamos repetir indefinidamente um certo bloco de código, ou seja, essa repetição possuí uma quantidade **INDEFINIDA** de repetições, e que essas repetições parem somente quando uma determinada condição seja atendida, a estrutura *while* é mais recomendada."
   ]
  },
  {
   "cell_type": "markdown",
   "id": "25730418",
   "metadata": {},
   "source": [
    "# ERROS COMUNS"
   ]
  },
  {
   "cell_type": "markdown",
   "id": "a90c566d",
   "metadata": {},
   "source": [
    "## Loops utilizando a função *range()*"
   ]
  },
  {
   "cell_type": "markdown",
   "id": "514dd27d",
   "metadata": {},
   "source": [
    "Como vimos anteriormente, a função `range()` nos permite criar um **ITERÁVEL**, que podemos utilizar em estruturas de repetição como o `for`.\n",
    "\n",
    "Porém os dois erros mais comuns ao utilizarmos a função `range()` são:\n",
    "* Condição de parada exclusiva\n",
    "* Condição de passos\n",
    "\n",
    "Quando fazemos a seguinte declaração: `range(0, 5)`, o que estamos fazendo é criar um objeto **ITERÁVEL** que possuí os elementos `[0, 1, 2, 3, 4]`. O elmento `5`, que é a nossa condição de parada não entra em nossos elementos pois a condição de parada é **EXCLUSIVA**. Para exemplificar, vamos criar a estrutra do `range` na \"unha\"."
   ]
  },
  {
   "cell_type": "code",
   "execution_count": 103,
   "id": "20499789",
   "metadata": {
    "ExecuteTime": {
     "end_time": "2021-09-29T01:39:59.290216Z",
     "start_time": "2021-09-29T01:39:59.287527Z"
    }
   },
   "outputs": [
    {
     "name": "stdout",
     "output_type": "stream",
     "text": [
      "[0, 1, 2, 3, 4]\n"
     ]
    }
   ],
   "source": [
    "# Lista que conterá nossos elementos\n",
    "range_l = []\n",
    "\n",
    "# Condição inicial\n",
    "inicio = 0\n",
    "\n",
    "# Condição de parada\n",
    "parada = 5\n",
    "\n",
    "# Declaração do while para executarmos nosso bloco\n",
    "# Que irá inserir nosso valor na lista e irá parar\n",
    "# assi que esse valor for maior que a parada\n",
    "while inicio < parada:\n",
    "    range_l.append(inicio) # inserindo o valor na lista\n",
    "    inicio += 1 # incrementando a condição inicial\n",
    "    \n",
    "print(range_l)"
   ]
  },
  {
   "cell_type": "markdown",
   "id": "af7f3a99",
   "metadata": {},
   "source": [
    "Outro erro comum é na utilização dos passos. A função `range()` pode receber até 3 argumentos:\n",
    "* Valor Inicial\n",
    "* Valor de Parada\n",
    "* Quantidade a ser incrementada (passos)\n",
    "\n",
    "Esse passos são a quantidade que incrementamos a cada iteração da função `range()`. Por exemplo:"
   ]
  },
  {
   "cell_type": "code",
   "execution_count": 104,
   "id": "9ae5810a",
   "metadata": {
    "ExecuteTime": {
     "end_time": "2021-09-29T01:43:37.733354Z",
     "start_time": "2021-09-29T01:43:37.727156Z"
    }
   },
   "outputs": [
    {
     "name": "stdout",
     "output_type": "stream",
     "text": [
      "[0, 2, 4, 6, 8]\n",
      "[1, 3, 5, 7, 9]\n"
     ]
    }
   ],
   "source": [
    "# Gerando um range que vai de 0 a 9, e \n",
    "# é acrescido de duas em duas unidades\n",
    "valores_pares = range(0, 10, 2)\n",
    "print(list(valores_pares))\n",
    "\n",
    "valores_impares = range(1, 10, 2)\n",
    "print(list(valores_impares))"
   ]
  },
  {
   "cell_type": "code",
   "execution_count": 105,
   "id": "16f89576",
   "metadata": {
    "ExecuteTime": {
     "end_time": "2021-09-29T01:44:21.312734Z",
     "start_time": "2021-09-29T01:44:21.310105Z"
    }
   },
   "outputs": [
    {
     "name": "stdout",
     "output_type": "stream",
     "text": [
      "[0, 3, 6, 9]\n"
     ]
    }
   ],
   "source": [
    "# Gerando um range que vai de 0 a 9, e \n",
    "# é acrescido de três em três unidades\n",
    "valores = range(0, 10, 3)\n",
    "print(list(valores))"
   ]
  }
 ],
 "metadata": {
  "kernelspec": {
   "display_name": "Python 3 (ipykernel)",
   "language": "python",
   "name": "python3"
  },
  "language_info": {
   "codemirror_mode": {
    "name": "ipython",
    "version": 3
   },
   "file_extension": ".py",
   "mimetype": "text/x-python",
   "name": "python",
   "nbconvert_exporter": "python",
   "pygments_lexer": "ipython3",
   "version": "3.9.7"
  },
  "latex_envs": {
   "LaTeX_envs_menu_present": true,
   "autoclose": false,
   "autocomplete": true,
   "bibliofile": "biblio.bib",
   "cite_by": "apalike",
   "current_citInitial": 1,
   "eqLabelWithNumbers": true,
   "eqNumInitial": 1,
   "hotkeys": {
    "equation": "Ctrl-E",
    "itemize": "Ctrl-I"
   },
   "labels_anchors": false,
   "latex_user_defs": false,
   "report_style_numbering": false,
   "user_envs_cfg": false
  }
 },
 "nbformat": 4,
 "nbformat_minor": 5
}
