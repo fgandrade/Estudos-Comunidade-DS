{
 "cells": [
  {
   "cell_type": "markdown",
   "id": "356cb35d",
   "metadata": {},
   "source": [
    "# Exemplo 1"
   ]
  },
  {
   "cell_type": "markdown",
   "id": "96a0f0d7",
   "metadata": {},
   "source": [
    "## Problema"
   ]
  },
  {
   "cell_type": "markdown",
   "id": "e9e8107f",
   "metadata": {
    "ExecuteTime": {
     "end_time": "2021-09-23T01:15:31.266217Z",
     "start_time": "2021-09-23T01:15:31.260904Z"
    }
   },
   "source": [
    "Considere um arquivo CSV (comma separated values) informações demográficas sobre super heróis. As informações do arquivo são:\n",
    "\n",
    "* id - Número da linha\n",
    "* name - Nome\n",
    "* Gender - Gênero\n",
    "* Eye color - Cor dos olhos\n",
    "* Race - Raça\n",
    "* Hair color - Cor do cabelo\n",
    "* Height - Altura em centímetros\n",
    "* Publisher - Estúdio\n",
    "* Skin color - Cor da pele\n",
    "* Alignment - Vilão ou herói\n",
    "* Weight - Peso em libras\n",
    "\n",
    "Efetue a leitura desse arquivo, sem a utilização de módulos externos (Pandas), e crie:\n",
    "\n",
    "* Um arquivo de saída (.csv) com todos os heróis do gênero masculino (id, name)\n",
    "* Um arquivo de saída (.csv) com todos os heróis do gênero feminino (id, name)\n",
    "* Um arquivo de saída (.csv) com todos os heróis sem gênero definido (id, name)\n",
    "* Um arquivo de saida (.txt) com o nome de todos os heróis dos estúdios Marvel Comics e DC Comics (um nome por linha)\n",
    "* Um arquivo de saída (.txt) com o nome de todos os heróis que tenham cor de pele azul e que sejam vilões (um nome por linha)"
   ]
  },
  {
   "cell_type": "markdown",
   "id": "111dc674",
   "metadata": {
    "ExecuteTime": {
     "end_time": "2021-09-23T01:18:10.271290Z",
     "start_time": "2021-09-23T01:18:10.267092Z"
    },
    "heading_collapsed": true
   },
   "source": [
    "## Análise"
   ]
  },
  {
   "cell_type": "markdown",
   "id": "e21d12c5",
   "metadata": {
    "hidden": true
   },
   "source": [
    "Análise Aqui"
   ]
  },
  {
   "cell_type": "markdown",
   "id": "726b8569",
   "metadata": {
    "heading_collapsed": true
   },
   "source": [
    "## Implicações / Proposições / Afirmações"
   ]
  },
  {
   "cell_type": "markdown",
   "id": "77884643",
   "metadata": {
    "hidden": true
   },
   "source": [
    "Implicações aqui"
   ]
  },
  {
   "cell_type": "markdown",
   "id": "719448b9",
   "metadata": {},
   "source": [
    "## Resolução e Resposta"
   ]
  },
  {
   "cell_type": "code",
   "execution_count": 1,
   "id": "b7f9872c",
   "metadata": {
    "ExecuteTime": {
     "end_time": "2021-11-04T01:06:00.684661Z",
     "start_time": "2021-11-04T01:06:00.575944Z"
    }
   },
   "outputs": [
    {
     "name": "stdout",
     "output_type": "stream",
     "text": [
      "/home/pedro/Development/data_science/fundamentos_programacao/aula_03\r\n"
     ]
    }
   ],
   "source": [
    "!pwd"
   ]
  },
  {
   "cell_type": "code",
   "execution_count": 24,
   "id": "9dfcfbfc",
   "metadata": {
    "ExecuteTime": {
     "end_time": "2021-11-04T01:21:56.418372Z",
     "start_time": "2021-11-04T01:21:56.410631Z"
    }
   },
   "outputs": [],
   "source": [
    "# Resolução Aqui\n",
    "import csv\n",
    "\n",
    "filename = 'csv/heroes.csv'\n",
    "\n",
    "masculino = []\n",
    "feminino = []\n",
    "indefinido = []\n",
    "herois_md = []\n",
    "viloes = []\n",
    "header = ['id', 'name']\n",
    "\n",
    "with open(filename) as csv_file:\n",
    "    \n",
    "    reader = csv.reader(csv_file)\n",
    "    \n",
    "    next(reader)\n",
    "    \n",
    "    for linha in reader:\n",
    "#         print(linha)\n",
    "        if(linha[2] == 'Male' and linha[-2] == 'good'):\n",
    "            masculino.append([linha[0], linha[1]])\n",
    "            \n",
    "        if(linha[2] == 'Female' and linha[-2] == 'good'):\n",
    "            feminino.append([linha[0], linha[1]])\n",
    "            \n",
    "        if(linha[2] == '-' and linha[-2] == 'good'):\n",
    "            indefinido.append([linha[0], linha[1]])\n",
    "            \n",
    "        if(linha[-4] == 'DC Comics' or linha[-4] == 'Marvel Comics'):\n",
    "            herois_md.append(linha[1])\n",
    "            \n",
    "        if(linha[-3] == 'blue' and linha[-2] == 'bad'):\n",
    "            viloes.append(linha[1])\n",
    "        \n",
    "    \n",
    "# Fechamento do objeto csv_file \n",
    "csv_file.close()\n",
    "\n",
    "# Cria o arquivo heroes_males.csv\n",
    "bacon = open('aula_masculino.csv', 'w', newline='')\n",
    "batata = csv.writer(bacon, delimiter=',', quotechar='|', quoting=csv.QUOTE_MINIMAL)\n",
    "batata.writerow(header)\n",
    "batata.writerows(masculino)\n",
    "bacon.close()\n",
    "\n",
    "\n",
    "# Cria o arquivo heroes_bad.txt\n",
    "# f = open('heroes_bad.txt', 'w')\n",
    "# for line in viloes:\n",
    "#     f.write(line + '\\n')\n",
    "# f.close()"
   ]
  },
  {
   "cell_type": "code",
   "execution_count": null,
   "id": "45b139eb",
   "metadata": {},
   "outputs": [],
   "source": []
  }
 ],
 "metadata": {
  "kernelspec": {
   "display_name": "Python 3.8.12 64-bit ('pa005-3.8.12': pyenv)",
   "language": "python",
   "name": "python3812jvsc74a57bd0d1aaed0d54c5633c6e9d372bf4c47f0b42d9789d909d3d6d555bb4fdc739c330"
  },
  "language_info": {
   "codemirror_mode": {
    "name": "ipython",
    "version": 3
   },
   "file_extension": ".py",
   "mimetype": "text/x-python",
   "name": "python",
   "nbconvert_exporter": "python",
   "pygments_lexer": "ipython3",
   "version": "3.8.12"
  },
  "latex_envs": {
   "LaTeX_envs_menu_present": true,
   "autoclose": false,
   "autocomplete": true,
   "bibliofile": "biblio.bib",
   "cite_by": "apalike",
   "current_citInitial": 1,
   "eqLabelWithNumbers": true,
   "eqNumInitial": 1,
   "hotkeys": {
    "equation": "Ctrl-E",
    "itemize": "Ctrl-I"
   },
   "labels_anchors": false,
   "latex_user_defs": false,
   "report_style_numbering": false,
   "user_envs_cfg": false
  }
 },
 "nbformat": 4,
 "nbformat_minor": 5
}
