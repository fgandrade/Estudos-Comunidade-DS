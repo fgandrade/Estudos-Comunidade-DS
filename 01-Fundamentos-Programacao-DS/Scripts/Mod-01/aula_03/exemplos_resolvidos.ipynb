{
 "cells": [
  {
   "cell_type": "markdown",
   "id": "356cb35d",
   "metadata": {},
   "source": [
    "# Exemplo 1"
   ]
  },
  {
   "cell_type": "markdown",
   "id": "96a0f0d7",
   "metadata": {},
   "source": [
    "## Problema"
   ]
  },
  {
   "cell_type": "markdown",
   "id": "e9e8107f",
   "metadata": {
    "ExecuteTime": {
     "end_time": "2021-09-23T01:15:31.266217Z",
     "start_time": "2021-09-23T01:15:31.260904Z"
    }
   },
   "source": [
    "Considere um arquivo CSV (comma separated values) informações demográficas sobre super heróis. As informações do arquivo são:\n",
    "\n",
    "* id - Número da linha\n",
    "* name - Nome\n",
    "* gender - Gênero\n",
    "* rye color - Cor dos olhos\n",
    "* race - Raça\n",
    "* hair color - Cor do cabelo\n",
    "* height - Altura em centímetros\n",
    "* publisher - Estúdio\n",
    "* skin color - Cor da pele\n",
    "* alignment - Vilão ou herói\n",
    "* weight - Peso em libras\n",
    "\n",
    "Efetue a leitura desse arquivo, sem a utilização de módulos externos (Pandas), e crie:\n",
    "\n",
    "* Um arquivo de saída (.csv) com todos os heróis do gênero masculino (id, name)\n",
    "* Um arquivo de saída (.csv) com todos os heróis do gênero feminino (id, name)\n",
    "* Um arquivo de saída (.csv) com todos os heróis sem gênero definido (id, name)\n",
    "* Um arquivo de saida (.txt) com o nome de todos os heróis dos estúdios Marvel Comics e DC Comics (um nome por linha)\n",
    "* Um arquivo de saída (.txt) com o nome de todos os heróis que tenham cor de pele azul e que sejam vilões (um nome por linha)"
   ]
  },
  {
   "cell_type": "markdown",
   "id": "111dc674",
   "metadata": {
    "ExecuteTime": {
     "end_time": "2021-09-23T01:18:10.271290Z",
     "start_time": "2021-09-23T01:18:10.267092Z"
    }
   },
   "source": [
    "## Análise"
   ]
  },
  {
   "cell_type": "markdown",
   "id": "e21d12c5",
   "metadata": {},
   "source": [
    "Receberemos um arquivo com dados de super heróis com as seguintes informações:\n",
    "* id         - Número da linha\n",
    "* name       - Nome\n",
    "* Gender     - Gênero\n",
    "* Eye color  - Cor dos olhos\n",
    "* Race       - Raça\n",
    "* Hair color - Cor do cabelo\n",
    "* Height     - Altura em centímetros\n",
    "* Publisher  - Estúdio\n",
    "* Skin color - Cor da pele\n",
    "* Alignment  - Vilão ou herói\n",
    "* Weight     - Peso em libras\n",
    "\n",
    "Temos que realizar a leitura do arquivo sem módulos externos\n",
    "\n",
    "Com o arquivo lido, temos que processar as informações criar as seguintes saídas:\n",
    "* Um arquivo de saída (.csv) com todos os heróis do gênero masculino (id, name)\n",
    "* Um arquivo de saída (.csv) com todos os heróis do gênero feminino (id, name)\n",
    "* Um arquivo de saída (.csv) com todos os heróis sem gênero definido (id, name)\n",
    "* Um arquivo de saida (.txt) com o nome de todos os heróis dos estúdios Marvel Comics e DC Comics (um nome por linha)\n",
    "* Um arquivo de saída (.txt) com o nome de todos os heróis que tenham cor de pele azul e que sejam vilões (um nome por linha)"
   ]
  },
  {
   "cell_type": "markdown",
   "id": "726b8569",
   "metadata": {},
   "source": [
    "## Implicações / Proposições / Afirmações"
   ]
  },
  {
   "cell_type": "markdown",
   "id": "77884643",
   "metadata": {},
   "source": [
    "* A Aplicação deve receber um arquivo com dados de super heróis\n",
    "* A Aplicação deve ler, processar o arquivo e gerar as seguintes saídas:\n",
    "    * Um arquivo `.csv` com todos os hérois masculinos (id e nome)\n",
    "    * Um arquivo `.csv` com todos os heróis femininos (id e nome)\n",
    "    * Um arquivo `.csv` com todos os heróis com genêro indefinido (id e nome)\n",
    "    * Um arquivo `.txt` com todos os heróis da Marvel e DC, sendo um herói por linha (id e nome)\n",
    "    * Um arquivo `.txt` com todos os heróis que tenham a pela azul e sejam vilões, sendo um herói por linha (id e nome)"
   ]
  },
  {
   "cell_type": "markdown",
   "id": "719448b9",
   "metadata": {},
   "source": [
    "## Resolução e Resposta"
   ]
  },
  {
   "cell_type": "code",
   "execution_count": 3,
   "id": "9dfcfbfc",
   "metadata": {
    "ExecuteTime": {
     "end_time": "2021-09-29T23:17:03.800242Z",
     "start_time": "2021-09-29T23:17:03.785983Z"
    }
   },
   "outputs": [],
   "source": [
    "# Resolução Aqui\n",
    "# ==============\n",
    "# Carregamento da biblioteca csv para a leitura do arquivo\n",
    "import csv\n",
    "\n",
    "# Definição no nome do arquivo\n",
    "filename = 'csv/heroes.csv'\n",
    "\n",
    "# Abertura do arquivo para leitura\n",
    "input_file = open(filename, 'r')\n",
    "\n",
    "# Criação das listas que armazenarão as respostas\n",
    "males = []\n",
    "females = []\n",
    "without_gender = []\n",
    "heroes_studios = []\n",
    "heroes_bad = []\n",
    "\n",
    "# Leitura do arquivo \n",
    "reader = csv.reader(input_file)\n",
    "next(reader) # Pula o cabeçalho\n",
    "\n",
    "\n",
    "# Itera sobre as linhas do arquivo para filtramos as informações\n",
    "for hero in reader:\n",
    "    # Cria uma lista com o id e o nome do herói da linha atual\n",
    "    csv_content = [hero[0].strip(), hero[1].strip()] # A função strip remove os espaços do nome e do id\n",
    "\n",
    "    # Verifica se o heróia da linha atual é homem\n",
    "    if hero[2].strip().lower() == 'male':\n",
    "        males.append(csv_content) # Adiciona na lista de resposta\n",
    "    elif hero[2].strip().lower() == 'female': #  Verifica se o heróia da linha atual é mulher\n",
    "        females.append(csv_content)\n",
    "    else: # Se não homem nem mulher, o herói não tem gênero\n",
    "        without_gender.append(csv_content)\n",
    "\n",
    "    # Verifica se o herói  é da Marvel ou da DC\n",
    "    if(hero[7].strip().lower() == 'dc comics' or hero[7].strip().lower() == 'marvel comics'):\n",
    "        heroes_studios.append(hero[1])\n",
    "\n",
    "    # Veriica se o heróio é vilão e tem a pele azul\n",
    "    if(hero[8].strip().lower() == 'blue' and hero[9].strip().lower() == 'bad'):\n",
    "        heroes_bad.append(hero[1])\n",
    "\n",
    "\n",
    "# Cabeçalho dos arquivos de resposta\n",
    "header = ['id', 'name']\n",
    "\n",
    "# Cria o arquivo heroes_males.csv\n",
    "f = open('heroes_male.csv', 'w', newline='')\n",
    "writer = csv.writer(f, delimiter=',', quotechar='|', quoting=csv.QUOTE_MINIMAL)\n",
    "writer.writerow(header)\n",
    "writer.writerows(males)\n",
    "f.close()\n",
    "\n",
    "# Cria o arquivo heroes_female.csv\n",
    "f = open('heroes_female.csv', 'w', newline='')\n",
    "writer = csv.writer(f, delimiter=',', quotechar='|', quoting=csv.QUOTE_MINIMAL)\n",
    "writer.writerow(header)\n",
    "writer.writerows(males)\n",
    "f.close()\n",
    "\n",
    "# Cria o arquivo heroes_without_gender.csv\n",
    "f = open('heroes_without_gender.csv', 'w', newline='')\n",
    "writer = csv.writer(f, delimiter=',', quotechar='|', quoting=csv.QUOTE_MINIMAL)\n",
    "writer.writerow(header)\n",
    "writer.writerows(males)\n",
    "f.close()\n",
    "\n",
    "# Cria o arquivo heroes_studio.txt\n",
    "f = open('heroes_studio.txt', 'w')\n",
    "for line in heroes_studios:\n",
    "    f.write(line + '\\n')\n",
    "f.close()\n",
    "\n",
    "# Cria o arquivo heroes_bad.txt\n",
    "f = open('heroes_bad.txt', 'w')\n",
    "for line in heroes_bad:\n",
    "    f.write(line + '\\n')\n",
    "f.close()\n",
    "\n",
    "# Fecha o objeto input_file\n",
    "input_file.close()"
   ]
  },
  {
   "cell_type": "code",
   "execution_count": null,
   "id": "6d032def",
   "metadata": {},
   "outputs": [],
   "source": []
  }
 ],
 "metadata": {
  "kernelspec": {
   "display_name": "Python 3 (ipykernel)",
   "language": "python",
   "name": "python3"
  },
  "language_info": {
   "codemirror_mode": {
    "name": "ipython",
    "version": 3
   },
   "file_extension": ".py",
   "mimetype": "text/x-python",
   "name": "python",
   "nbconvert_exporter": "python",
   "pygments_lexer": "ipython3",
   "version": "3.9.7"
  },
  "latex_envs": {
   "LaTeX_envs_menu_present": true,
   "autoclose": false,
   "autocomplete": true,
   "bibliofile": "biblio.bib",
   "cite_by": "apalike",
   "current_citInitial": 1,
   "eqLabelWithNumbers": true,
   "eqNumInitial": 1,
   "hotkeys": {
    "equation": "Ctrl-E",
    "itemize": "Ctrl-I"
   },
   "labels_anchors": false,
   "latex_user_defs": false,
   "report_style_numbering": false,
   "user_envs_cfg": false
  }
 },
 "nbformat": 4,
 "nbformat_minor": 5
}
