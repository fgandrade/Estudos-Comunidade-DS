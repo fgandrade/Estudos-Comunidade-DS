{
 "cells": [
  {
   "cell_type": "markdown",
   "id": "356cb35d",
   "metadata": {},
   "source": [
    "# Exercício 1.0"
   ]
  },
  {
   "cell_type": "markdown",
   "id": "96a0f0d7",
   "metadata": {},
   "source": [
    "## Problema"
   ]
  },
  {
   "cell_type": "markdown",
   "id": "e9e8107f",
   "metadata": {
    "ExecuteTime": {
     "end_time": "2021-09-23T01:15:31.266217Z",
     "start_time": "2021-09-23T01:15:31.260904Z"
    }
   },
   "source": [
    "Considere um arquivo CSV com os seguintes dados de todas as copas do mundo até o ano de 2014. As informações do arquivo são:\n",
    "\n",
    "* Year - Ano da copa\n",
    "* Country - País sede\n",
    "* Winner - Campeão\n",
    "* Runners-Up - Vice-Campeão\n",
    "* Third - Terceiro lugar\n",
    "* Fourth - Quarto Lugar\n",
    "* GoalsScored - Total de Gols\n",
    "* QualifiedTeams - Quantidade de Times\n",
    "* MatchesPlayed - Quantidade de Jogos\n",
    "* Attendance - Público Total\n",
    "\n",
    "Efetue a leitura desse arquivo, sem a utilização de módulos externos (Pandas), e crie um arquivo `.txt` de saída com as seguintes informações (uma informação por linha):\n",
    "\n",
    "* Soma de público das copas com anos final 0 (1930, 1950, etc)\n",
    "* Quantidade total de gols entre as copas de 1954 e 1990, inclusive\n",
    "* Média de público\n",
    "* Média de gols por partida\n",
    "* Quantidade de vezes em que o país sede foi campeão\n",
    "* Quantidade de vezes em que o time do Brasil ficou entre uma das 4 primeiras posições\n",
    "* Ano das edições em que o time da França finalizou em terceiro lugar\n",
    "* Quantidade de vitórias por país, ordenada de forma crescente por número de títulos"
   ]
  },
  {
   "cell_type": "markdown",
   "id": "111dc674",
   "metadata": {
    "ExecuteTime": {
     "end_time": "2021-09-23T01:18:10.271290Z",
     "start_time": "2021-09-23T01:18:10.267092Z"
    }
   },
   "source": [
    "## Análise"
   ]
  },
  {
   "cell_type": "markdown",
   "id": "e21d12c5",
   "metadata": {},
   "source": [
    "Iremos receber um arquivo com informações de todas as Copas do Mundo até 2014, com as seguintes informações:\n",
    "* Year - Ano da copa\n",
    "* Country - País sede\n",
    "* Winner - Campeão\n",
    "* Runners-Up - Vice-Campeão\n",
    "* Third - Terceiro lugar\n",
    "* Fourth - Quarto Lugar\n",
    "* GoalsScored - Total de Gols\n",
    "* QualifiedTeams - Quantidade de Times\n",
    "* MatchesPlayed - Quantidade de Jogos\n",
    "* Attendance - Público Total\n",
    "\n",
    "Devemos ler o arquivo e processá-lo para responder as seguintes perguntas:\n",
    "* Soma de público das copas com anos final 0 (1930, 1950, etc)\n",
    "* Quantidade total de gols entre as copas de 1954 e 1990, inclusive\n",
    "* Média de público\n",
    "* Média de gols por partida\n",
    "* Quantidade de vezes em que o país sede foi campeão\n",
    "* Quantidade de vezes em que o time do Brasil ficou entre uma das 4 primeiras posições\n",
    "* Ano das edições em que o time da França finalizou em terceiro lugar\n",
    "* Quantidade de vitórias por país, ordenada de forma crescente por número de títulos\n",
    "\n",
    "Com as respostas prontas, devemos criar um arquivo `.txt` com as respostas."
   ]
  },
  {
   "cell_type": "markdown",
   "id": "726b8569",
   "metadata": {},
   "source": [
    "## Implicações / Proposições / Afirmações"
   ]
  },
  {
   "cell_type": "markdown",
   "id": "77884643",
   "metadata": {},
   "source": [
    "Coloque as implicações / Proposições / Afirmações aqui"
   ]
  },
  {
   "cell_type": "markdown",
   "id": "719448b9",
   "metadata": {},
   "source": [
    "## Resolução e Resposta"
   ]
  },
  {
   "cell_type": "code",
   "execution_count": 2,
   "id": "13a59a4f",
   "metadata": {
    "ExecuteTime": {
     "end_time": "2021-09-29T23:13:02.390949Z",
     "start_time": "2021-09-29T23:13:02.380949Z"
    }
   },
   "outputs": [],
   "source": [
    "# Resolução e Resposta Aqui\n",
    "# =========================\n",
    "# Carregamento da biblioteca csv do \n",
    "import csv\n",
    "\n",
    "# Listas com as Respostas\n",
    "total_tournament = 0 # Total de Torneios\n",
    "total_attendance = 0 # Total de Público\n",
    "total_matches_played = 0 # Total de Partidas Jogadas\n",
    "total_goals_scored = 0 # Total de Gols Marcados\n",
    "country_winner = 0 # Total de vezes que o país sede foi campeão\n",
    "brazil_between_winners = 0 # Total de vezes em que o Brasil ficou entre os 4 primeiros\n",
    "france_in_third = [] # Anos em que a frança ficou em terceiro\n",
    "attendance_final_0 = 0 # Total de Público em anos com o final 0\n",
    "total_goals_54_90 = 0 # Total de Gols entre as Copas de 54 e 90\n",
    "winners = {} # Equipes Campeãs\n",
    "\n",
    "# Nome do Arquivo\n",
    "input_file = 'csv/world_cups.csv'\n",
    "\n",
    "# Leitura do Arquivo\n",
    "with open(input_file, 'r',) as f:\n",
    "    reader = csv.reader(f)\n",
    " \n",
    "    # Pula o cabeçalho\n",
    "    next(reader)\n",
    "\n",
    "    # Itera as linhas do arquivo\n",
    "    for line in reader:\n",
    " \n",
    "        # Incrementa o Total de Copas\n",
    "        total_tournament += 1\n",
    " \n",
    "        # Incrementa o Total de Partidas Jogadas\n",
    "        total_matches_played += int(line[8])\n",
    " \n",
    "        # Incrementa o Total de gols marcados\n",
    "        total_goals_scored += int(line[6])\n",
    " \n",
    "        # Incrementando o Total de Público\n",
    "        attendance = int(line[9].replace('.', ''))\n",
    "        total_attendance += attendance\n",
    " \n",
    "        # Verifica quando um país sede foi ou campeão\n",
    "        if line[1] == line[2]:\n",
    "            country_winner += 1 # Incrementa o Total de Paises Sede Campeões\n",
    " \n",
    "        # Verifica se o ano tem final zero\n",
    "        if line[0].endswith('0'):\n",
    "            attendance_final_0 += attendance # Incrementa o Total de Público com anos de final 0\n",
    " \n",
    "        # Recupera o Ano e o transforma em um dado do tipo Inteiro\n",
    "        year = int(line[0])\n",
    "        if 1954 <= year <= 1990: # Verifica se o Ano está entre 54 e 90\n",
    "            total_goals_54_90 += int(line[6]) # Incrementa Incrementa o Total de Gols das Copas entre 54 e 90\n",
    " \n",
    "        # Verifica se o Brasil terminou entre os 4 primeiros\n",
    "        if(line[2] == 'Brazil' or line[3] == 'Brazil' or\n",
    "           line[4] == 'Brazil' or line[5] == 'Brazil'):\n",
    "            brazil_between_winners += 1 # Incrementa o Total de vezes em que o Brasil terminou entre os 4 primeiros\n",
    " \n",
    "        # Verifica se a França terminou em terceiro\n",
    "        if line[4] == 'France':\n",
    "            france_in_third.append(line[0]) # Incrementa o Total de vezes em que a França terminou em terceiro\n",
    " \n",
    "        # Verifica se o vencedor Já existe dentro do Dicionário\n",
    "        if winners.get(line[2]) is None:\n",
    "            winners[line[2]] = 1 # Adiciona o Time no Dicionário de Times vitoriosos\n",
    "        else:\n",
    "            winners[line[2]] += 1 # Adiciona o ano ao time vitorioso\n",
    "\n",
    "# Cria as Respostas Desejadas que serão escritas no arquivo\n",
    "with open('world_cups_output.txt', 'w') as output:\n",
    "    output.write(f'Soma de público das copas com final 0: {attendance_final_0} \\n')\n",
    "    output.write(f'Quantidade total de gols entre as copas de 1954 e 1990: {total_goals_54_90}\\n')\n",
    "    output.write(f'Média de público: {(total_attendance / total_tournament)}\\n')\n",
    "    output.write(f'Média de gols por partida: {(total_goals_scored / total_matches_played):.2f}\\n')\n",
    "    output.write(f'Quantidade de vezes em que o país sede foi campeão: {country_winner}\\n')\n",
    "    output.write(f'Quantidade de vezes em que o time do Brasil ficou entre uma das 4 primeiras posições: {brazil_between_winners}\\n')\n",
    "    output.write(f'Ano das edições em que o time da França finalizou em terceiro lugar: {\", \".join(map(str, france_in_third))}\\n')\n",
    "    output.write(f'Quantidade de vitórias por país, classificada em ordem crescente do número de títulos:\\n')\n",
    "    for win in sorted(winners.items(), key=lambda kv: kv[1]):\n",
    "        output.write('\\t' + '{0}:{1}'.format(win[0], win[1]) + '\\n')"
   ]
  },
  {
   "cell_type": "code",
   "execution_count": null,
   "id": "a5390516",
   "metadata": {},
   "outputs": [],
   "source": []
  }
 ],
 "metadata": {
  "kernelspec": {
   "display_name": "Python 3.8.12 64-bit ('pa005-3.8.12': pyenv)",
   "language": "python",
   "name": "python3812jvsc74a57bd0d1aaed0d54c5633c6e9d372bf4c47f0b42d9789d909d3d6d555bb4fdc739c330"
  },
  "language_info": {
   "codemirror_mode": {
    "name": "ipython",
    "version": 3
   },
   "file_extension": ".py",
   "mimetype": "text/x-python",
   "name": "python",
   "nbconvert_exporter": "python",
   "pygments_lexer": "ipython3",
   "version": "3.8.12"
  },
  "latex_envs": {
   "LaTeX_envs_menu_present": true,
   "autoclose": false,
   "autocomplete": true,
   "bibliofile": "biblio.bib",
   "cite_by": "apalike",
   "current_citInitial": 1,
   "eqLabelWithNumbers": true,
   "eqNumInitial": 1,
   "hotkeys": {
    "equation": "Ctrl-E",
    "itemize": "Ctrl-I"
   },
   "labels_anchors": false,
   "latex_user_defs": false,
   "report_style_numbering": false,
   "user_envs_cfg": false
  }
 },
 "nbformat": 4,
 "nbformat_minor": 5
}
