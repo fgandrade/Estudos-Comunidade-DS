{
 "cells": [
  {
   "cell_type": "markdown",
   "id": "356cb35d",
   "metadata": {},
   "source": [
    "# Exercício 1.0"
   ]
  },
  {
   "cell_type": "markdown",
   "id": "96a0f0d7",
   "metadata": {},
   "source": [
    "## Problema"
   ]
  },
  {
   "cell_type": "markdown",
   "id": "e9e8107f",
   "metadata": {
    "ExecuteTime": {
     "end_time": "2021-09-23T01:15:31.266217Z",
     "start_time": "2021-09-23T01:15:31.260904Z"
    }
   },
   "source": [
    "Considere um arquivo CSV com os seguintes dados de todas as copas do mundo até o ano de 2014. As informações do arquivo são:\n",
    "\n",
    "* Year - Ano da copa\n",
    "* Country - País sede\n",
    "* Winner - Campeão\n",
    "* Runners-Up - Vice-Campeão\n",
    "* Third - Terceiro lugar\n",
    "* Fourth - Quarto Lugar\n",
    "* GoalsScored - Total de Gols\n",
    "* QualifiedTeams - Quantidade de Times\n",
    "* MatchesPlayed - Quantidade de Jogos\n",
    "* Attendance - Público Total\n",
    "\n",
    "Efetue a leitura desse arquivo, sem a utilização de módulos externos (Pandas), e crie um arquivo de saída com as seguintes informações (uma informação por linha):\n",
    "\n",
    "* Soma de público das copas com anos final 0 (1930, 1950, etc)\n",
    "* Quantidade total de gols entre as copas de 1954 e 1990, inclusive\n",
    "* Média de público\n",
    "* Média de gols por partida\n",
    "* Quantidade de vezes em que o país sede foi campeão\n",
    "* Quantidade de vezes em que o time do Brasil ficou entre uma das 4 primeiras posições\n",
    "* Ano das edições em que o time da França finalizou em terceiro lugar\n",
    "* Quantidade de vitórias por país, ordenada de forma crescente por número de títulos"
   ]
  },
  {
   "cell_type": "markdown",
   "id": "111dc674",
   "metadata": {
    "ExecuteTime": {
     "end_time": "2021-09-23T01:18:10.271290Z",
     "start_time": "2021-09-23T01:18:10.267092Z"
    },
    "heading_collapsed": true
   },
   "source": [
    "## Análise"
   ]
  },
  {
   "cell_type": "markdown",
   "id": "e21d12c5",
   "metadata": {
    "hidden": true
   },
   "source": [
    "   Coloque a sua análise aqui"
   ]
  },
  {
   "cell_type": "markdown",
   "id": "726b8569",
   "metadata": {},
   "source": [
    "## Implicações / Proposições / Afirmações"
   ]
  },
  {
   "cell_type": "markdown",
   "id": "77884643",
   "metadata": {},
   "source": [
    "* Soma de público das copas com anos final 0 (1930, 1950, etc)\n",
    "* Quantidade total de gols entre as copas de 1954 e 1990, inclusive\n",
    "* Média de público\n",
    "    - Média de todas as copas\n",
    "* Média de gols por partida\n",
    "    - Quantos jogos houveram; Quanto gols houveram\n",
    "* Quantidade de vezes em que o país sede foi campeão\n",
    "* Quantidade de vezes em que o time do Brasil ficou entre uma das 4 primeiras posições\n",
    "* Ano das edições em que o time da França finalizou em terceiro lugar\n",
    "* Quantidade de vitórias por país, ordenada de forma crescente por número de títulos\n",
    "    - Inglaterra - 1\n",
    "    - Uruguai: 1"
   ]
  },
  {
   "cell_type": "markdown",
   "id": "719448b9",
   "metadata": {},
   "source": [
    "## Resolução e Resposta"
   ]
  },
  {
   "cell_type": "code",
   "execution_count": 56,
   "id": "13a59a4f",
   "metadata": {
    "ExecuteTime": {
     "end_time": "2021-11-11T00:20:09.825680Z",
     "start_time": "2021-11-11T00:20:09.814028Z"
    },
    "code_folding": [
     16
    ]
   },
   "outputs": [],
   "source": [
    "# Resolução e Resposta Aqui\n",
    "import csv\n",
    "\n",
    "file_path = 'csv/world_cups.csv'\n",
    "\n",
    "publico_final_0 = 0\n",
    "gols_total_54_90 = 0\n",
    "total_gols = 0\n",
    "total_partidas = 0\n",
    "publico_total = 0\n",
    "quantidade_copas = 0\n",
    "sede_campeao = 0\n",
    "brasil_4 = 0\n",
    "franca_3 = []\n",
    "campeoes = {}\n",
    "\n",
    "with open(file_path, 'r') as file:\n",
    "    reader = csv.reader(file)\n",
    "    \n",
    "    next(reader)\n",
    "    \n",
    "    for linha in reader:\n",
    "        \n",
    "        quantidade_copas += 1\n",
    "        \n",
    "        publico_total += int(linha[-1].replace('.', ''))\n",
    "        \n",
    "        total_gols = total_gols + int(linha[6]) # Incrementa a quantidade de gols\n",
    "        \n",
    "        total_partidas = total_partidas + int(linha[-2]) # Incrementa a quantidade de partidas\n",
    "        \n",
    "        if(linha[0].endswith('0')):\n",
    "            publico_final_0 = publico_final_0 + int(linha[6])\n",
    "            \n",
    "        if( 1954 <= int(linha[0]) <= 1990 ):\n",
    "            gols_total_54_90 = gols_total_54_90  + int(linha[6])\n",
    "            \n",
    "        if(linha[1] == linha[2]):\n",
    "            sede_campeao += 1\n",
    "            \n",
    "        if(linha[2] == 'Brazil' or linha[3] == 'Brazil' or linha[4] == 'Brazil' or linha[5] == 'Brazil'):\n",
    "            brasil_4 += 1\n",
    "            \n",
    "        if(linha[4] == 'France'):\n",
    "            franca_3.append(linha[0])\n",
    "        \n",
    "        if(linha[2] in campeoes.keys()):\n",
    "            campeoes[linha[2]] += 1\n",
    "        else:\n",
    "            campeoes[linha[2]] = 1\n",
    "        \n",
    "\n",
    "\n",
    "with open('csv/respostas/exercicio_aula_03.txt', 'w') as file:\n",
    "    file.write(f'Total de gols = {total_gols}\\n')\n",
    "    file.write(f'Total de partidas = {total_partidas}\\n')\n",
    "    file.write(f'Media de gols por partida = {round(total_gols/total_partidas, 2)}\\n')\n",
    "    file.write(f'Total publico ano 0 = {publico_final_0}\\n')\n",
    "    file.write(f'Total gols entgr 54 e 90 = {gols_total_54_90}\\n')\n",
    "    file.write(f'Media de publico de todas as copas = {round(publico_total/quantidade_copas, 2)}\\n')\n",
    "    file.write(f'Total de vezes em que o pais sede foi campeao = {sede_campeao}\\n')\n",
    "    file.write(f'Total de vezes em que Brasil ficou entre os 4 primeiros = {brasil_4}\\n')\n",
    "    file.write(f'Total de vezes em que a Franca ficou em terceiro = {\", (bacon) \".join(map(str, franca_3))}')\n",
    "    file.write(f'Campeoes: \\n')\n",
    "    for campeao in sorted(campeoes.items(), key = lambda c: c[1]):\n",
    "        file.write(f'\\t{campeao[0]} = {campeao[1]}\\n')"
   ]
  },
  {
   "cell_type": "code",
   "execution_count": 71,
   "id": "1c28fe2e",
   "metadata": {
    "ExecuteTime": {
     "end_time": "2021-11-11T00:41:23.404196Z",
     "start_time": "2021-11-11T00:41:23.401672Z"
    }
   },
   "outputs": [
    {
     "name": "stdout",
     "output_type": "stream",
     "text": [
      "Conteudo da variavel nome = 1; ID da variavel = 94538975446784; tipo da variavel = <class 'int'>\n"
     ]
    }
   ],
   "source": [
    "bacon = 'pedro'\n",
    "print(f'Conteudo da variavel nome = {nome}; ID da variavel = {id(nome)}; tipo da variavel = {type(nome)}')"
   ]
  },
  {
   "cell_type": "code",
   "execution_count": 72,
   "id": "6d2e0415",
   "metadata": {
    "ExecuteTime": {
     "end_time": "2021-11-11T00:41:23.650336Z",
     "start_time": "2021-11-11T00:41:23.645947Z"
    }
   },
   "outputs": [
    {
     "name": "stdout",
     "output_type": "stream",
     "text": [
      "Conteudo da variavel nome = pedro guilherme; ID da variavel = 139670563868784; tipo da variavel = <class 'str'>\n"
     ]
    }
   ],
   "source": [
    "nome = 'pedro guilherme'\n",
    "print(f'Conteudo da variavel nome = {nome}; ID da variavel = {id(nome)}; tipo da variavel = {type(nome)}')"
   ]
  },
  {
   "cell_type": "code",
   "execution_count": 70,
   "id": "6f3131a3",
   "metadata": {
    "ExecuteTime": {
     "end_time": "2021-11-11T00:40:10.435264Z",
     "start_time": "2021-11-11T00:40:10.432682Z"
    }
   },
   "outputs": [
    {
     "name": "stdout",
     "output_type": "stream",
     "text": [
      "Conteudo da variavel nome = 1; ID da variavel = 94538975446784; tipo da variavel = <class 'int'>\n"
     ]
    }
   ],
   "source": [
    "nome = 1\n",
    "print(f'Conteudo da variavel nome = {nome}; ID da variavel = {id(nome)}; tipo da variavel = {type(nome)}')"
   ]
  },
  {
   "cell_type": "code",
   "execution_count": 58,
   "id": "46bbb0be",
   "metadata": {
    "ExecuteTime": {
     "end_time": "2021-11-11T00:35:13.264465Z",
     "start_time": "2021-11-11T00:35:13.261774Z"
    }
   },
   "outputs": [
    {
     "data": {
      "text/plain": [
       "'pedro'"
      ]
     },
     "execution_count": 58,
     "metadata": {},
     "output_type": "execute_result"
    }
   ],
   "source": [
    "nome"
   ]
  },
  {
   "cell_type": "code",
   "execution_count": 60,
   "id": "8b728a76",
   "metadata": {
    "ExecuteTime": {
     "end_time": "2021-11-11T00:35:40.987696Z",
     "start_time": "2021-11-11T00:35:40.984763Z"
    }
   },
   "outputs": [
    {
     "data": {
      "text/plain": [
       "<_io.TextIOWrapper name='csv/respostas/exercicio_aula_03.txt' mode='w' encoding='UTF-8'>"
      ]
     },
     "execution_count": 60,
     "metadata": {},
     "output_type": "execute_result"
    }
   ],
   "source": [
    "file"
   ]
  },
  {
   "cell_type": "code",
   "execution_count": null,
   "id": "c346dc7e",
   "metadata": {},
   "outputs": [],
   "source": []
  },
  {
   "cell_type": "code",
   "execution_count": 61,
   "id": "3f035284",
   "metadata": {
    "ExecuteTime": {
     "end_time": "2021-11-11T00:36:00.356929Z",
     "start_time": "2021-11-11T00:36:00.354415Z"
    }
   },
   "outputs": [],
   "source": [
    "def func():\n",
    "    ver_local = ''\n",
    "    return None"
   ]
  },
  {
   "cell_type": "code",
   "execution_count": null,
   "id": "1cfcb107",
   "metadata": {},
   "outputs": [],
   "source": []
  },
  {
   "cell_type": "code",
   "execution_count": null,
   "id": "48ff9964",
   "metadata": {},
   "outputs": [],
   "source": []
  },
  {
   "cell_type": "code",
   "execution_count": 63,
   "id": "4c45038c",
   "metadata": {
    "ExecuteTime": {
     "end_time": "2021-11-11T00:36:32.829650Z",
     "start_time": "2021-11-11T00:36:32.825557Z"
    }
   },
   "outputs": [
    {
     "ename": "NameError",
     "evalue": "name 'ver_local' is not defined",
     "output_type": "error",
     "traceback": [
      "\u001b[0;31m---------------------------------------------------------------------------\u001b[0m",
      "\u001b[0;31mNameError\u001b[0m                                 Traceback (most recent call last)",
      "\u001b[0;32m/tmp/ipykernel_15389/1595788338.py\u001b[0m in \u001b[0;36m<module>\u001b[0;34m\u001b[0m\n\u001b[0;32m----> 1\u001b[0;31m \u001b[0mver_local\u001b[0m\u001b[0;34m\u001b[0m\u001b[0;34m\u001b[0m\u001b[0m\n\u001b[0m",
      "\u001b[0;31mNameError\u001b[0m: name 'ver_local' is not defined"
     ]
    }
   ],
   "source": [
    "ver_local"
   ]
  },
  {
   "cell_type": "code",
   "execution_count": 59,
   "id": "4cdbf877",
   "metadata": {
    "ExecuteTime": {
     "end_time": "2021-11-11T00:35:18.070619Z",
     "start_time": "2021-11-11T00:35:18.068002Z"
    }
   },
   "outputs": [
    {
     "data": {
      "text/plain": [
       "'pedro'"
      ]
     },
     "execution_count": 59,
     "metadata": {},
     "output_type": "execute_result"
    }
   ],
   "source": [
    "nome"
   ]
  },
  {
   "cell_type": "code",
   "execution_count": null,
   "id": "90b85ff5",
   "metadata": {},
   "outputs": [],
   "source": []
  },
  {
   "cell_type": "code",
   "execution_count": null,
   "id": "0b9cd042",
   "metadata": {},
   "outputs": [],
   "source": []
  }
 ],
 "metadata": {
  "kernelspec": {
   "display_name": "Python 3.8.11 64-bit ('3.8.11': pyenv)",
   "language": "python",
   "name": "python3811jvsc74a57bd016c98fcc13804c079c0e605033a1ae10a459b3686638e04aa6e2e124f32781c0"
  },
  "language_info": {
   "codemirror_mode": {
    "name": "ipython",
    "version": 3
   },
   "file_extension": ".py",
   "mimetype": "text/x-python",
   "name": "python",
   "nbconvert_exporter": "python",
   "pygments_lexer": "ipython3",
   "version": "3.8.11"
  },
  "latex_envs": {
   "LaTeX_envs_menu_present": true,
   "autoclose": false,
   "autocomplete": true,
   "bibliofile": "biblio.bib",
   "cite_by": "apalike",
   "current_citInitial": 1,
   "eqLabelWithNumbers": true,
   "eqNumInitial": 1,
   "hotkeys": {
    "equation": "Ctrl-E",
    "itemize": "Ctrl-I"
   },
   "labels_anchors": false,
   "latex_user_defs": false,
   "report_style_numbering": false,
   "user_envs_cfg": false
  }
 },
 "nbformat": 4,
 "nbformat_minor": 5
}
