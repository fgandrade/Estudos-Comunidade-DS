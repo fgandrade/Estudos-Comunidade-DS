{
 "cells": [
  {
   "cell_type": "markdown",
   "id": "356cb35d",
   "metadata": {},
   "source": [
    "# Exemplo 1"
   ]
  },
  {
   "cell_type": "markdown",
   "id": "96a0f0d7",
   "metadata": {},
   "source": [
    "## Problema"
   ]
  },
  {
   "cell_type": "markdown",
   "id": "e9e8107f",
   "metadata": {
    "ExecuteTime": {
     "end_time": "2021-09-23T01:15:31.266217Z",
     "start_time": "2021-09-23T01:15:31.260904Z"
    }
   },
   "source": [
    "Considere um arquivo de entrada no formato CSV (comma separated values) com informações relativas a acidentes na aviação civil brasileira nos últimos 10 anos (arquivo anv.csv)\n",
    "\n",
    "As informações estão separadas pelo caracter separador ~ e entre “” (aspas) conforme o exemplo abaixo:\n",
    "\n",
    "```javascript\n",
    "\"201106142171203\"~\"PPGXE\"~\"AEROCLUBE\"~\"AVIÃO\"~\"NEIVA INDUSTRIA AERONAUTICA\"~\"56- C\"~\"PAUL\"~\"PISTÃO\"~\"MONOMOTOR\"~\"660\"~\"LEVE\"~\"2\"~\"1962\"~\"BRASIL\"~\"BRASIL\"~\"PRI\"~\" INSTRUÇÃO\"~\"SDPW\"~\"SDPW\"~\"INDETERMINADA\"~\"UNKNOWN\"~\"VOO DE INSTRUÇÃO\"~\"SUBSTANCIAL\"~\"0\"~\"2018-07-09“\n",
    "\n",
    "\"201707111402595\"~\"PPNCG\"~\"OPERADOR PARTICULAR\"~\"AVIÃO\"~\"PIPER AIRCRAFT\"~\"PA-46- 350P\"~\"PA46\"~\"TURBOÉLICE\"~\"MONOMOTOR\"~\"1950\"~\"LEVE\"~\"6\"~\"1990\"~\"NULL\"~\"BRASIL\"~\" TPP\"~\"PARTICULAR\"~\"SBBR\"~\"SBGR\"~\"POUSO\"~\"LANDING\"~\"VOO PRIVADO\"~\"NENHUM\"~\"0\"~\"2018-07-09\"'''\n",
    "```\n",
    "\n",
    "O arquivo é composto das seguintes colunas:\n",
    "1. codigo_ocorrencia\n",
    "2. aeronave_matricula\n",
    "3. aeronave_operador_categoria \n",
    "4. aeronave_tipo_veiculo\n",
    "5. aeronave_fabricante\n",
    "6. aeronave_modelo\n",
    "7. aeronave_tipo_icao\n",
    "8. aeronave_motor_tipo\n",
    "9. aeronave_motor_quantidade \n",
    "10. aeronave_pmd \n",
    "11. aeronave_pmd_categoria \n",
    "12. aeronave_assentos \n",
    "13. aeronave_ano_fabricacao\n",
    "14. aeronave_pais_fabricante \n",
    "15. aeronave_pais_registro \n",
    "16. aeronave_registro_categoria \n",
    "17. aeronave_registro_segmento \n",
    "18. aeronave_voo_origem \n",
    "19. aeronave_voo_destino \n",
    "20. aeronave_fase_operacao \n",
    "21. aeronave_fase_operacao_icao \n",
    "22. aeronave_tipo_operacao \n",
    "23. aeronave_nivel_dano \n",
    "24. total_fatalidades\n",
    "25. aeronave_dia_extracao\n",
    "\n",
    "Crie uma função que efetue a leitura do arquivo, sem a utilização de bibliotecas externas, e processe o arquivo produzindo dois novos arquivos.\n",
    "\n",
    "**OBS:** Efetuar apenas uma leitura do arquivo de entrada"
   ]
  },
  {
   "cell_type": "markdown",
   "id": "4c112727",
   "metadata": {},
   "source": [
    "### Arquivo 1"
   ]
  },
  {
   "cell_type": "markdown",
   "id": "620c1eb5",
   "metadata": {},
   "source": [
    "O primeiro arquivo deve ter seu conteúdo em formato JSON, com o nome statistics.json, e deve possuir as as estatísticas: \n",
    "* fase de operação\n",
    "* número de total de ocorrências\n",
    "* percentual de quanto essa fase representa dentro de todos os dados\n",
    "\n",
    "\n",
    "Exemplo de como deve estar o arquivo:\n",
    "```json\n",
    "[\n",
    "  {\n",
    "    \"fase_operacao\": \"APROXIMAÇÃO FINAL\", \n",
    "    \"ocorrencias\": 234,\n",
    "    \"percentual\": \"4,51%\"\n",
    "  },\n",
    "  {\n",
    "    \"fase_operacao\": \"INDETERMINADA\", \n",
    "    \"ocorrencias\": 180,\n",
    "    \"percentual\": \"2,43%\"\n",
    "  },\n",
    "  {\n",
    "    \"fase_operacao\": \"MANOBRA\", \n",
    "    \"ocorrencias\": 80,\n",
    "    \"percentual\": \"0,95%\"\n",
    "  }\n",
    "]\n",
    "```"
   ]
  },
  {
   "cell_type": "markdown",
   "id": "11cacb5d",
   "metadata": {},
   "source": [
    "### Arquivo 2"
   ]
  },
  {
   "cell_type": "markdown",
   "id": "f372f57c",
   "metadata": {},
   "source": [
    "Crie um arquivo de saida (formato CSV) com nome ***levels.csv*** contendo as seguintes informações:\n",
    "* operation -> aeronave_operador_categoria\n",
    "* type -> aeronave_tipo_veiculo\n",
    "* manufacturer -> aeronave_fabricante\n",
    "* engine_type aeronave_motor_tipo\n",
    "* engines -> aeronave_motor_quantidade\n",
    "* year_manufacturing -> aeronave_ano_fabricacao\n",
    "* seating -> aeronave_assentos\n",
    "* fatalities -> total_fatalidades\n",
    "\n",
    "Considerando apenas acidentes cujo nível de dano da aeronave tenha sido LEVE ou NENHUM (coluna aeronave_nivel_dano) e que o número de fatalidades (total_fatalidades) tenha sido superior à 0 (zero)"
   ]
  },
  {
   "cell_type": "markdown",
   "id": "111dc674",
   "metadata": {
    "ExecuteTime": {
     "end_time": "2021-09-23T01:18:10.271290Z",
     "start_time": "2021-09-23T01:18:10.267092Z"
    }
   },
   "source": [
    "## Análise"
   ]
  },
  {
   "cell_type": "markdown",
   "id": "e21d12c5",
   "metadata": {},
   "source": [
    "Vamos receber um arquivo de entrada (.csv), nesse arquivo os dados estão separados por ~ e o conteúdo está entre aspas\n",
    "\n",
    "O arquivo possuí 25 colunas\n",
    "\n",
    "Executar somente uma leitura do arquivo\n",
    "\n",
    "Criar dois relatórios de saída:\n",
    "1. Um arquivo .json, que conterá fase de operação, número de total de ocorrências dessa fase de operação e percentual de quanto essa fase representa dentro do conjunto de dados\n",
    "2. Um arquivo .csv que deve conter as seguintes informações, para acidentes com fatalidades e com nenhum dano ou dano leve:\n",
    "    * operation -> aeronave_operador_categoria\n",
    "    * type -> aeronave_tipo_veiculo\n",
    "    * manufacturer -> aeronave_fabricante\n",
    "    * engine_type aeronave_motor_tipo\n",
    "    * engines -> aeronave_motor_quantidade\n",
    "    * year_manufacturing -> aeronave_ano_fabricacao\n",
    "    * seating -> aeronave_assentos\n",
    "    * fatalities -> total_fatalidades"
   ]
  },
  {
   "cell_type": "markdown",
   "id": "726b8569",
   "metadata": {},
   "source": [
    "## Implicações / Proposições / Afirmações"
   ]
  },
  {
   "cell_type": "markdown",
   "id": "77884643",
   "metadata": {},
   "source": [
    "* Receberemos um arquivo csv, que o delimitador está com o símbolo de til ~, e está entre aspas\n",
    "* O arquivo possuí 10 anos de informações a respeito dos acidentes de aereo no Brasil\n",
    "* O arquivo tem 25 colunas\n",
    "* Devemos criar uma função para a leitura do arquivo\n",
    "* Devemos ler o arquivo uma única vez\n",
    "* Devemos criar dois arquivos de relatório:\n",
    "    - 1 arquivo .json, com o nome de statistics.json\n",
    "    - 1 arquivo .csv, com o nome levels.csv\n",
    "* O arquivo statistics.json deve conter as estatísticas das fases de operação, a contagem da fase de operação e o quanto essa fase representa no conjunto de dados\n",
    "* O arquivo level.csv deve conter as seguintes informações:\n",
    "    - operation -> aeronave_operador_categoria\n",
    "    - type -> aeronave_tipo_veiculo\n",
    "    - manufacturer -> aeronave_fabricante\n",
    "    - engine_type aeronave_motor_tipo\n",
    "    - engines -> aeronave_motor_quantidade\n",
    "    - year_manufacturing -> aeronave_ano_fabricacao\n",
    "    - seating -> aeronave_assentos\n",
    "    - fatalities -> total_fatalidades\n",
    "* O arquivo levels.csv deve ser preenchido somente com os dados dos acidentes onde o dano tenha sido leve ou nenhum e que tenha fatalidades"
   ]
  },
  {
   "cell_type": "markdown",
   "id": "719448b9",
   "metadata": {},
   "source": [
    "## Resolução e Resposta"
   ]
  },
  {
   "cell_type": "code",
   "execution_count": 16,
   "id": "9dfcfbfc",
   "metadata": {
    "ExecuteTime": {
     "end_time": "2021-11-18T01:24:55.160469Z",
     "start_time": "2021-11-18T01:24:55.135895Z"
    }
   },
   "outputs": [
    {
     "name": "stdout",
     "output_type": "stream",
     "text": [
      "{'INDETERMINADA': 71, 'MANOBRA': 161, 'APROXIMAÇÃO FINAL': 234, 'CORRIDA APÓS POUSO': 602, 'CRUZEIRO': 660, 'DECOLAGEM': 795, 'ARREMETIDA NO SOLO': 42, 'TÁXI': 439, 'DESCIDA': 192, 'OUTRA FASE': 101, 'SUBIDA': 359, 'POUSO': 914, 'CIRCUITO DE TRÁFEGO': 125, 'PAIRADO': 20, 'ESPECIALIZADA': 173, 'PARTIDA DO MOTOR': 30, 'RETA FINAL': 16, 'ARREMETIDA NO AR': 25, 'OPERAÇÃO DE SOLO': 46, 'ESTACIONAMENTO': 72, 'NAVEGAÇÃO A BAIXA ALTURA': 60, 'CHEQUE DE MOTOR OU ROTOR': 13, 'SAÍDA IFR': 7, 'DECOLAGEM VERTICAL': 8, 'PUSHBACK': 6, 'ESPERA': 4, 'PROCEDIMENTO DE APROXIMAÇÃO IFR': 7, 'DESCIDA DESCONTROLADA': 2, 'EMPREGO MILITAR': 1, 'DESCIDA DE EMERGÊNCIA': 2, '***': 1}\n"
     ]
    }
   ],
   "source": [
    "# Resolução aqui\n",
    "import csv\n",
    "\n",
    "\n",
    "def read_file(filepath):\n",
    "    \n",
    "    json_file = {}\n",
    "    \n",
    "    contador = 0\n",
    "    \n",
    "    \n",
    "    with open(filepath, 'r', encoding='UTF-8') as file:\n",
    "        reader = csv.reader(file, delimiter='~')\n",
    "\n",
    "        next(reader)\n",
    "\n",
    "        for line in reader:\n",
    "\n",
    "            value = line[19]\n",
    "\n",
    "            contador += 1\n",
    "\n",
    "            if value in json_file:\n",
    "                json_file[value] += 1\n",
    "            else:\n",
    "                json_file[value] = 1\n",
    "                \n",
    "    \n",
    "\n",
    "    print(json_file)"
   ]
  },
  {
   "cell_type": "code",
   "execution_count": null,
   "id": "caa59782",
   "metadata": {},
   "outputs": [],
   "source": []
  }
 ],
 "metadata": {
  "kernelspec": {
   "display_name": "Python 3 (ipykernel)",
   "language": "python",
   "name": "python3"
  },
  "language_info": {
   "codemirror_mode": {
    "name": "ipython",
    "version": 3
   },
   "file_extension": ".py",
   "mimetype": "text/x-python",
   "name": "python",
   "nbconvert_exporter": "python",
   "pygments_lexer": "ipython3",
   "version": "3.8.11"
  },
  "latex_envs": {
   "LaTeX_envs_menu_present": true,
   "autoclose": false,
   "autocomplete": true,
   "bibliofile": "biblio.bib",
   "cite_by": "apalike",
   "current_citInitial": 1,
   "eqLabelWithNumbers": true,
   "eqNumInitial": 1,
   "hotkeys": {
    "equation": "Ctrl-E",
    "itemize": "Ctrl-I"
   },
   "labels_anchors": false,
   "latex_user_defs": false,
   "report_style_numbering": false,
   "user_envs_cfg": false
  }
 },
 "nbformat": 4,
 "nbformat_minor": 5
}
