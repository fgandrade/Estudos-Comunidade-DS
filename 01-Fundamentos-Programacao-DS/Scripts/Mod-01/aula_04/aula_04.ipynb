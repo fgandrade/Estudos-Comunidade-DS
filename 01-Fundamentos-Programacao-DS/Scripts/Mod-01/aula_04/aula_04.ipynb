{
 "cells": [
  {
   "cell_type": "markdown",
   "id": "f66f5ab2",
   "metadata": {
    "heading_collapsed": true
   },
   "source": [
    "# COMANDOS AUXILIARES"
   ]
  },
  {
   "cell_type": "markdown",
   "id": "6a0edcdf",
   "metadata": {
    "heading_collapsed": true,
    "hidden": true
   },
   "source": [
    "## Inserção de imagens"
   ]
  },
  {
   "cell_type": "code",
   "execution_count": 2,
   "id": "fa4c2e60",
   "metadata": {
    "ExecuteTime": {
     "end_time": "2021-09-29T23:54:43.337209Z",
     "start_time": "2021-09-29T23:54:43.334790Z"
    },
    "hidden": true
   },
   "outputs": [],
   "source": [
    "from IPython.display import Image"
   ]
  },
  {
   "cell_type": "markdown",
   "id": "01f00a92",
   "metadata": {
    "heading_collapsed": true
   },
   "source": [
    "# FUNÇÕES"
   ]
  },
  {
   "cell_type": "markdown",
   "id": "adca92f6",
   "metadata": {
    "hidden": true
   },
   "source": [
    "Uma função é um bloco de código que possuí um nome e uma \"responsabilidade\" ou \"função\" dentro de um aplicativo.\n",
    "\n",
    "Uma função pode ser entendidada como um bloco que realiza uma determinada tarefa dentro da aplicação, como por exemplo, leitura de arquivos, escrita de arquivos, cálculos de tendências centrais (média, mediana), realizar cálculos e criação de estruturas, etc.\n",
    "\n",
    "Além de mantermos o código organizado, quando utilizamos funções, evitamos algumas repetições de código e/ou estruturas."
   ]
  },
  {
   "cell_type": "markdown",
   "id": "0d444a54",
   "metadata": {
    "hidden": true
   },
   "source": [
    "## Declaração"
   ]
  },
  {
   "cell_type": "markdown",
   "id": "4fa83b0c",
   "metadata": {
    "hidden": true
   },
   "source": [
    "Uma função é declarada com a palavra reservada `def`, seguida pelo nome da função, com os parametros que essa função irá receber entre os parenteses:"
   ]
  },
  {
   "cell_type": "code",
   "execution_count": 50,
   "id": "a608b24c",
   "metadata": {
    "ExecuteTime": {
     "end_time": "2021-11-11T01:06:10.910877Z",
     "start_time": "2021-11-11T01:06:10.907727Z"
    },
    "hidden": true
   },
   "outputs": [],
   "source": [
    "def ao_quadro(num, exp, *args, **kwargs):\n",
    "    resultad = num ** exp\n",
    "    print(f'valor da variavel exp = {exp}')\n",
    "    print(f'valor da variavel num = {num}')\n",
    "    print(f'Valor do *args = {args}')\n",
    "    print(f'Valor do *args = {kwargs}')\n",
    "    print(f'Resultado dentro da funcao = {resultad}')\n",
    "    \n",
    "    return resultad"
   ]
  },
  {
   "cell_type": "code",
   "execution_count": 53,
   "id": "fd4368a5",
   "metadata": {
    "ExecuteTime": {
     "end_time": "2021-11-11T01:07:02.804962Z",
     "start_time": "2021-11-11T01:07:02.802087Z"
    },
    "hidden": true
   },
   "outputs": [
    {
     "name": "stdout",
     "output_type": "stream",
     "text": [
      "valor da variavel exp = 2\n",
      "valor da variavel num = 5\n",
      "Valor do *args = ('Guilherme', 'Pedro', 'Ferraresi')\n",
      "Valor do *args = {'bacon': 'Volpato', 'idade': 32, 'altura': 1.83, 'casado': True}\n",
      "Resultado dentro da funcao = 25\n",
      "O valor calcula é = 25\n"
     ]
    }
   ],
   "source": [
    "quadrado = ao_quadro(5, 2, 'Guilherme', 'Pedro', 'Ferraresi', bacon = 'Volpato', idade = 32, altura = 1.83, casado = True)\n",
    "print(f'O valor calcula é = {quadrado}')"
   ]
  },
  {
   "cell_type": "code",
   "execution_count": 23,
   "id": "09514ae5",
   "metadata": {
    "ExecuteTime": {
     "end_time": "2021-11-11T00:52:50.506240Z",
     "start_time": "2021-11-11T00:52:50.503930Z"
    },
    "hidden": true
   },
   "outputs": [],
   "source": [
    "def print_pedro():\n",
    "    print('Pedro')\n",
    "    \n",
    "    return None"
   ]
  },
  {
   "cell_type": "code",
   "execution_count": 24,
   "id": "7c550cf3",
   "metadata": {
    "ExecuteTime": {
     "end_time": "2021-11-11T00:52:50.867423Z",
     "start_time": "2021-11-11T00:52:50.865200Z"
    },
    "hidden": true
   },
   "outputs": [
    {
     "name": "stdout",
     "output_type": "stream",
     "text": [
      "Pedro\n"
     ]
    }
   ],
   "source": [
    "print_pedro()"
   ]
  },
  {
   "cell_type": "code",
   "execution_count": null,
   "id": "7d7ed8bd",
   "metadata": {
    "hidden": true
   },
   "outputs": [],
   "source": []
  },
  {
   "cell_type": "code",
   "execution_count": 6,
   "id": "5feb4e8d",
   "metadata": {
    "ExecuteTime": {
     "end_time": "2021-11-11T00:47:48.396056Z",
     "start_time": "2021-11-11T00:47:48.393531Z"
    },
    "hidden": true
   },
   "outputs": [],
   "source": [
    "def bacon(nome):\n",
    "    print(f'{nome} gosta muito de bacon')"
   ]
  },
  {
   "cell_type": "code",
   "execution_count": 7,
   "id": "e54eb9b2",
   "metadata": {
    "ExecuteTime": {
     "end_time": "2021-11-11T00:47:53.986774Z",
     "start_time": "2021-11-11T00:47:53.984562Z"
    },
    "hidden": true
   },
   "outputs": [
    {
     "name": "stdout",
     "output_type": "stream",
     "text": [
      "Pedro gosta muito de bacon\n"
     ]
    }
   ],
   "source": [
    "bacon('Pedro')"
   ]
  },
  {
   "cell_type": "code",
   "execution_count": 3,
   "id": "49f9acfc",
   "metadata": {
    "ExecuteTime": {
     "end_time": "2021-09-29T23:54:46.887994Z",
     "start_time": "2021-09-29T23:54:46.880624Z"
    },
    "hidden": true,
    "hide_input": true
   },
   "outputs": [
    {
     "data": {
      "image/png": "[encoded data removed]",
      "text/plain": [
       "<IPython.core.display.Image object>"
      ]
     },
     "execution_count": 3,
     "metadata": {},
     "output_type": "execute_result"
    }
   ],
   "source": [
    "Image('img/function.png')"
   ]
  },
  {
   "cell_type": "markdown",
   "id": "a7cf5be0",
   "metadata": {
    "hidden": true
   },
   "source": [
    "Fonte: https://www.learnbyexample.org/wp-content/uploads/python/Python-Function-Syntax.png"
   ]
  },
  {
   "cell_type": "markdown",
   "id": "74b23298",
   "metadata": {
    "hidden": true
   },
   "source": [
    "Pontos importantes a respeito de declaração de funções:\n",
    "* Os argumentos não são obrigatórios: Podemos criar uma função que não receba nenhum parâmetro\n",
    "* cláusula return = Boa prática: Retornarmos algo em uma função também é opcional, porém é uma boa prática retornarmos `None` caso nossa função não tenha retorno."
   ]
  },
  {
   "cell_type": "code",
   "execution_count": 4,
   "id": "5f144eb5",
   "metadata": {
    "ExecuteTime": {
     "end_time": "2021-09-30T00:15:16.685677Z",
     "start_time": "2021-09-30T00:15:16.683317Z"
    },
    "hidden": true
   },
   "outputs": [],
   "source": [
    "# Exemplo de Declaração de Função com retorno\n",
    "def soma_valores(a, b):\n",
    "    \"\"\"Retorna a soma de dois valores\n",
    "\n",
    "    Argumentos:\n",
    "    a -- número real qualquer\n",
    "    b -- número real qualquer\n",
    "    \"\"\"\n",
    "    \n",
    "    return a + b"
   ]
  },
  {
   "cell_type": "code",
   "execution_count": 5,
   "id": "c973e785",
   "metadata": {
    "ExecuteTime": {
     "end_time": "2021-09-30T00:16:12.415662Z",
     "start_time": "2021-09-30T00:16:12.413361Z"
    },
    "hidden": true
   },
   "outputs": [],
   "source": [
    "# Exemplo de Declaração de Função com retorno nulo (Sem retorno)\n",
    "def show_name():\n",
    "    \"\"\"Retorna a soma de dois valores\"\"\"\n",
    "    \n",
    "    print(f'Meu nome é Pedro')\n",
    "    \n",
    "    return None"
   ]
  },
  {
   "cell_type": "code",
   "execution_count": 7,
   "id": "dc4d179f",
   "metadata": {
    "ExecuteTime": {
     "end_time": "2021-09-30T00:25:53.445327Z",
     "start_time": "2021-09-30T00:25:53.442525Z"
    },
    "hidden": true
   },
   "outputs": [
    {
     "name": "stdout",
     "output_type": "stream",
     "text": [
      "O Valor da soma de 2 com 3 é 5\n",
      "\n",
      "Meu nome é Pedro\n"
     ]
    }
   ],
   "source": [
    "# Exemplo de utilização de função\n",
    "# Função soma\n",
    "soma = soma_valores(2, 3)\n",
    "print(f'O Valor da soma de 2 com 3 é {soma}\\n')\n",
    "\n",
    "# Função show_name\n",
    "show_name()"
   ]
  },
  {
   "cell_type": "markdown",
   "id": "5740450b",
   "metadata": {
    "heading_collapsed": true,
    "hidden": true
   },
   "source": [
    "## Argumentos Obrigatórios vs Opcionais"
   ]
  },
  {
   "cell_type": "markdown",
   "id": "afd4dca1",
   "metadata": {
    "hidden": true
   },
   "source": [
    "Como vimos, declarar uma função com argumentos é algo opcional. Porém, quando desejamos criar uma função com argumentos, temos a opção de fazer com que os argumentos sejam **obrigatórios**, ou seja, para utilizarmos essa função, \"passarmos\" esse argumento, do contrário, a função não será executada; já argumentos **opcionais** são o contrário, podemos ou não \"passar\" esse argumento para utilizarmos essa função."
   ]
  },
  {
   "cell_type": "markdown",
   "id": "637db8f2",
   "metadata": {
    "heading_collapsed": true,
    "hidden": true
   },
   "source": [
    "### Argumentos Obrigatórios"
   ]
  },
  {
   "cell_type": "code",
   "execution_count": 9,
   "id": "3d5ceddf",
   "metadata": {
    "ExecuteTime": {
     "end_time": "2021-09-30T00:26:21.126480Z",
     "start_time": "2021-09-30T00:26:21.124077Z"
    },
    "hidden": true
   },
   "outputs": [],
   "source": [
    "# Exemplo de declaração de função \n",
    "def obrigatorios(nome):\n",
    "    print(f'O meu nome é {nome}')"
   ]
  },
  {
   "cell_type": "code",
   "execution_count": 11,
   "id": "1c4cc3cf",
   "metadata": {
    "ExecuteTime": {
     "end_time": "2021-09-30T00:26:55.974078Z",
     "start_time": "2021-09-30T00:26:55.966448Z"
    },
    "hidden": true
   },
   "outputs": [
    {
     "name": "stdout",
     "output_type": "stream",
     "text": [
      "O meu nome é Pedro\n"
     ]
    },
    {
     "ename": "TypeError",
     "evalue": "obrigatorios() missing 1 required positional argument: 'nome'",
     "output_type": "error",
     "traceback": [
      "\u001b[0;31m---------------------------------------------------------------------------\u001b[0m",
      "\u001b[0;31mTypeError\u001b[0m                                 Traceback (most recent call last)",
      "\u001b[0;32m/tmp/ipykernel_30584/502226208.py\u001b[0m in \u001b[0;36m<module>\u001b[0;34m\u001b[0m\n\u001b[1;32m      3\u001b[0m \u001b[0;34m\u001b[0m\u001b[0m\n\u001b[1;32m      4\u001b[0m \u001b[0;31m# Erro quando não passamos um parâmetro que é obrigatório\u001b[0m\u001b[0;34m\u001b[0m\u001b[0;34m\u001b[0m\u001b[0;34m\u001b[0m\u001b[0m\n\u001b[0;32m----> 5\u001b[0;31m \u001b[0mobrigatorios\u001b[0m\u001b[0;34m(\u001b[0m\u001b[0;34m)\u001b[0m\u001b[0;34m\u001b[0m\u001b[0;34m\u001b[0m\u001b[0m\n\u001b[0m",
      "\u001b[0;31mTypeError\u001b[0m: obrigatorios() missing 1 required positional argument: 'nome'"
     ]
    }
   ],
   "source": [
    "# Utilização de função obrigatoria\n",
    "obrigatorios('Pedro')\n",
    "\n",
    "# Erro quando não passamos um parâmetro que é obrigatório\n",
    "obrigatorios()"
   ]
  },
  {
   "cell_type": "markdown",
   "id": "25d6c74b",
   "metadata": {
    "heading_collapsed": true,
    "hidden": true
   },
   "source": [
    "### Argumentos Opcionais"
   ]
  },
  {
   "cell_type": "markdown",
   "id": "f50b82ff",
   "metadata": {
    "hidden": true
   },
   "source": [
    "A principal diferença entre um parâmetro opcional e um parametro obrigatório, além do que ja discutimos anteriormente, é que na declaração do parametro, colocamos um valor padrão (*default*) para esse parâmetro, fazendo com que, caso não passemos nenhum valor para ele, ele assuma esse valor padrão.\n",
    "\n",
    "Fazemos isso simplismente atribuindo o valor que desejamos com o símbolo de igual (`=`)."
   ]
  },
  {
   "cell_type": "code",
   "execution_count": 12,
   "id": "72d595ea",
   "metadata": {
    "ExecuteTime": {
     "end_time": "2021-09-30T00:33:47.623171Z",
     "start_time": "2021-09-30T00:33:47.621091Z"
    },
    "hidden": true
   },
   "outputs": [],
   "source": [
    "# Exemplo de declaração de parâmetro opcional\n",
    "def show_name(nome = 'Pedro'):\n",
    "    print(f'O nome é {nome}')"
   ]
  },
  {
   "cell_type": "code",
   "execution_count": 13,
   "id": "d39166f2",
   "metadata": {
    "ExecuteTime": {
     "end_time": "2021-09-30T00:34:34.238148Z",
     "start_time": "2021-09-30T00:34:34.234465Z"
    },
    "hidden": true
   },
   "outputs": [
    {
     "name": "stdout",
     "output_type": "stream",
     "text": [
      "O nome é Ferraresi\n",
      "\n",
      "O nome é Pedro\n"
     ]
    }
   ],
   "source": [
    "# Utilização da função com passagem de Parametro\n",
    "show_name('Ferraresi')\n",
    "\n",
    "print() # Só para pular uma linha\n",
    "\n",
    "# Utilização da função SEM passagem do Parametro\n",
    "show_name()"
   ]
  },
  {
   "cell_type": "markdown",
   "id": "7256a474",
   "metadata": {
    "heading_collapsed": true,
    "hidden": true
   },
   "source": [
    "## Docstrings"
   ]
  },
  {
   "cell_type": "markdown",
   "id": "3a113297",
   "metadata": {
    "hidden": true
   },
   "source": [
    "Como vimos na segunda aula, no seção de comentários do tópico de Fundamentos do Python, a documentação de uma função é feita logo abaixo da linha de decaração de função. E esse comentário de documentação tem o nome de *docstrings*. Embora *docstrings* não sejam obrigatórias, são uma boa prática."
   ]
  },
  {
   "cell_type": "code",
   "execution_count": 17,
   "id": "12f45608",
   "metadata": {
    "ExecuteTime": {
     "end_time": "2021-09-30T00:49:08.515250Z",
     "start_time": "2021-09-30T00:49:08.512898Z"
    },
    "hidden": true
   },
   "outputs": [],
   "source": [
    "# Exemplo de Docstring de uma linha (single line)\n",
    "def soma_valores(a, b):\n",
    "    \"\"\"Função que retorna a soma dos paramentros a e b\"\"\"\n",
    "    return a + b"
   ]
  },
  {
   "cell_type": "code",
   "execution_count": 18,
   "id": "36bc0037",
   "metadata": {
    "ExecuteTime": {
     "end_time": "2021-09-30T00:49:08.660198Z",
     "start_time": "2021-09-30T00:49:08.657428Z"
    },
    "hidden": true
   },
   "outputs": [],
   "source": [
    "# Exemplo de Docstring de bloco (multi line)\n",
    "def soma_valores(a, b):\n",
    "    \"\"\"Função que retorna a soma dos paramentros a e b\n",
    "\n",
    "    Argumentos:\n",
    "    a (number) -- número real qualquer\n",
    "    b (number) -- número real qualquer\n",
    "    \n",
    "    Retorno:\n",
    "    int -- Soma dos valores a e b\n",
    "    \"\"\"\n",
    "    \n",
    "    return a + b"
   ]
  },
  {
   "cell_type": "markdown",
   "id": "61ace5a3",
   "metadata": {
    "heading_collapsed": true,
    "hidden": true
   },
   "source": [
    "## Parâmetros Especiais: \\*args e \\*\\*kwargs"
   ]
  },
  {
   "cell_type": "markdown",
   "id": "0e78fad2",
   "metadata": {
    "hidden": true
   },
   "source": [
    "Imagine que você deseja criar uma função e que não tenha certeza exata de quantos argumentos essa função poderá ter. Isso por si só seria um empedimento para criar essa função em algumas linguagens, mas não e Python! Em Python nós conseguimos criar funções que possuam parâmetros \"infinitos\".\n",
    "\n",
    "Basicamente isso quer dizer que conseguimos fazer com que o usuário das nossas funções as utilize e consiga passar quantos parâmetros a mais ele desejar! O único porém dessa abordagem é que temos que saber o que fazer o como tratar esse \"parâmetros infinitos\".\n",
    "\n",
    "E para fazemos isso, utilizamos o **\\*args** e **\\*\\*kwargs**."
   ]
  },
  {
   "cell_type": "markdown",
   "id": "45196f12",
   "metadata": {
    "heading_collapsed": true,
    "hidden": true
   },
   "source": [
    "### \\*args"
   ]
  },
  {
   "cell_type": "markdown",
   "id": "0ed3f538",
   "metadata": {
    "hidden": true
   },
   "source": [
    "O Parametro \\*args é utilizando quando desejamos receber os elementos de forma \"infinita\" ou indefinida e não nos preocupamos com o seu identificador. Pense que o parametro \\*args cria uma lista com todos os parametros que iremos receber:"
   ]
  },
  {
   "cell_type": "code",
   "execution_count": 37,
   "id": "311d4fb8",
   "metadata": {
    "ExecuteTime": {
     "end_time": "2021-09-30T01:20:27.670307Z",
     "start_time": "2021-09-30T01:20:27.667565Z"
    },
    "hidden": true
   },
   "outputs": [],
   "source": [
    "# Exemplo classico do *args\n",
    "# Função que soma valores inteiros\n",
    "def soma_valores_infinitos(*args):\n",
    "    resultado = 0\n",
    "    \n",
    "    # Exibe o conteúdo do parâmetro *args\n",
    "    print(args)\n",
    "    \n",
    "    # Exibe o tipo do Parametro *args\n",
    "    print(type(args))\n",
    "    \n",
    "    # Itera sobre a Tupla *args\n",
    "    for valores in args:\n",
    "        resultado += valores\n",
    "    return resultado"
   ]
  },
  {
   "cell_type": "code",
   "execution_count": 38,
   "id": "24d38a2e",
   "metadata": {
    "ExecuteTime": {
     "end_time": "2021-09-30T01:20:28.098524Z",
     "start_time": "2021-09-30T01:20:28.095128Z"
    },
    "hidden": true
   },
   "outputs": [
    {
     "name": "stdout",
     "output_type": "stream",
     "text": [
      "(1, 2)\n",
      "<class 'tuple'>\n"
     ]
    },
    {
     "data": {
      "text/plain": [
       "3"
      ]
     },
     "execution_count": 38,
     "metadata": {},
     "output_type": "execute_result"
    }
   ],
   "source": [
    "# Passando dois parâmetros\n",
    "soma_valores_infinitos(1, 2)"
   ]
  },
  {
   "cell_type": "code",
   "execution_count": 39,
   "id": "253f788a",
   "metadata": {
    "ExecuteTime": {
     "end_time": "2021-09-30T01:20:28.473954Z",
     "start_time": "2021-09-30T01:20:28.470460Z"
    },
    "hidden": true
   },
   "outputs": [
    {
     "name": "stdout",
     "output_type": "stream",
     "text": [
      "(1, 2, 3)\n",
      "<class 'tuple'>\n"
     ]
    },
    {
     "data": {
      "text/plain": [
       "6"
      ]
     },
     "execution_count": 39,
     "metadata": {},
     "output_type": "execute_result"
    }
   ],
   "source": [
    "# Passando 3 parametros\n",
    "soma_valores_infinitos(1, 2, 3)"
   ]
  },
  {
   "cell_type": "code",
   "execution_count": 40,
   "id": "cd7dd31c",
   "metadata": {
    "ExecuteTime": {
     "end_time": "2021-09-30T01:20:28.748319Z",
     "start_time": "2021-09-30T01:20:28.744135Z"
    },
    "hidden": true
   },
   "outputs": [
    {
     "name": "stdout",
     "output_type": "stream",
     "text": [
      "(1, 2, 3, 4)\n",
      "<class 'tuple'>\n"
     ]
    },
    {
     "data": {
      "text/plain": [
       "10"
      ]
     },
     "execution_count": 40,
     "metadata": {},
     "output_type": "execute_result"
    }
   ],
   "source": [
    "# Passando 4 parametros\n",
    "soma_valores_infinitos(1, 2, 3, 4)"
   ]
  },
  {
   "cell_type": "markdown",
   "id": "e27d3c90",
   "metadata": {
    "ExecuteTime": {
     "end_time": "2021-09-30T01:16:57.018557Z",
     "start_time": "2021-09-30T01:16:57.012185Z"
    },
    "hidden": true
   },
   "source": [
    "Note que o argumento \\*args é um **TUPLA**, o que faz com que todas as funções que conseguimos executar em tuplas podem ser executadas nesse parâmetro.\n",
    "\n",
    "Outro ponto importante é que na utilização desse parâmetro não utilizamos o caractere de asterico (`*`) para fazermos referencia ao parâmetro \\*args."
   ]
  },
  {
   "cell_type": "markdown",
   "id": "e9a0a6eb",
   "metadata": {
    "heading_collapsed": true,
    "hidden": true
   },
   "source": [
    "### \\*\\*kwargs"
   ]
  },
  {
   "cell_type": "markdown",
   "id": "ebfc83b8",
   "metadata": {
    "hidden": true
   },
   "source": [
    "O parâmetro \\*\\*kwargs tem a mesma idéia do parâmetro \\*args, com a diferença que aqui nos \"identificamos\" os parâmetros \"infinitos\" nós temos."
   ]
  },
  {
   "cell_type": "code",
   "execution_count": 45,
   "id": "edb478fb",
   "metadata": {
    "ExecuteTime": {
     "end_time": "2021-09-30T01:27:57.406772Z",
     "start_time": "2021-09-30T01:27:57.402101Z"
    },
    "hidden": true
   },
   "outputs": [],
   "source": [
    "# Exemplo classico do *kwargs\n",
    "# Função que soma valores inteiros\n",
    "def soma_valores_infinitos(**kwargs):\n",
    "    resultado = 0\n",
    "    \n",
    "    # Exibe o conteúdo do parâmetro *args\n",
    "    print(kwargs)\n",
    "    \n",
    "    # Exibe o tipo do Parametro *args\n",
    "    print(type(kwargs))\n",
    "    \n",
    "    # Itera sobre a Tupla *args\n",
    "    for _, valor in kwargs.items():\n",
    "        resultado += valor\n",
    "    return resultado"
   ]
  },
  {
   "cell_type": "code",
   "execution_count": 46,
   "id": "6d7b8adb",
   "metadata": {
    "ExecuteTime": {
     "end_time": "2021-09-30T01:27:58.363383Z",
     "start_time": "2021-09-30T01:27:58.359817Z"
    },
    "hidden": true
   },
   "outputs": [
    {
     "name": "stdout",
     "output_type": "stream",
     "text": [
      "{'primeiro': 1, 'segundo': 2}\n",
      "<class 'dict'>\n"
     ]
    },
    {
     "data": {
      "text/plain": [
       "3"
      ]
     },
     "execution_count": 46,
     "metadata": {},
     "output_type": "execute_result"
    }
   ],
   "source": [
    "# Passando dois parâmetros\n",
    "soma_valores_infinitos(primeiro = 1, segundo = 2)"
   ]
  },
  {
   "cell_type": "code",
   "execution_count": 48,
   "id": "c8028157",
   "metadata": {
    "ExecuteTime": {
     "end_time": "2021-09-30T01:28:57.025809Z",
     "start_time": "2021-09-30T01:28:57.019953Z"
    },
    "hidden": true
   },
   "outputs": [
    {
     "name": "stdout",
     "output_type": "stream",
     "text": [
      "{'primeiro': 1, 'segundo': 2, 'terceiro': 3}\n",
      "<class 'dict'>\n"
     ]
    },
    {
     "data": {
      "text/plain": [
       "6"
      ]
     },
     "execution_count": 48,
     "metadata": {},
     "output_type": "execute_result"
    }
   ],
   "source": [
    "# Passando três parâmetros\n",
    "soma_valores_infinitos(primeiro = 1, segundo = 2, terceiro = 3)"
   ]
  },
  {
   "cell_type": "markdown",
   "id": "9b15d483",
   "metadata": {
    "hidden": true
   },
   "source": [
    "Como podemos notar, enquanto o parâmetro \\*args nos gera uma **TUPLA** com os valores que forem passados, o parâmetro \\*\\*kwargs nos gera um **DICIONÁRIO** com os valores!"
   ]
  },
  {
   "cell_type": "markdown",
   "id": "34e76a91",
   "metadata": {
    "heading_collapsed": true,
    "hidden": true
   },
   "source": [
    "### Exemplos mais \"Reais\""
   ]
  },
  {
   "cell_type": "code",
   "execution_count": 50,
   "id": "7314243a",
   "metadata": {
    "ExecuteTime": {
     "end_time": "2021-09-30T01:36:48.108828Z",
     "start_time": "2021-09-30T01:36:48.104762Z"
    },
    "hidden": true
   },
   "outputs": [],
   "source": [
    "# Declaração de uma função de exemplo para uso do *args\n",
    "def world_cup_titles(country, *args):\n",
    "    \"\"\" Imprime o País e a quantidade de títulos de copa do mundo desse país\n",
    "    \n",
    "    Argumentos:\n",
    "    country -- Nome do país\n",
    "    *args -- Títulos desse país\n",
    "    \n",
    "    Retorno:\n",
    "    None -- imprime o País com os anos dos seus títulos de copa do Mundo\n",
    "    \"\"\"\n",
    "    print('Country: ', country)\n",
    "    \n",
    "    for title in args:\n",
    "        print('year: ', title)"
   ]
  },
  {
   "cell_type": "code",
   "execution_count": 53,
   "id": "e2e0902a",
   "metadata": {
    "ExecuteTime": {
     "end_time": "2021-09-30T01:38:09.307510Z",
     "start_time": "2021-09-30T01:38:09.301618Z"
    },
    "hidden": true
   },
   "outputs": [
    {
     "name": "stdout",
     "output_type": "stream",
     "text": [
      "Country:  Brasil\n",
      "year:  1958\n",
      "year:  1962\n",
      "year:  1970\n",
      "year:  1994\n",
      "year:  2002\n",
      "\n",
      "\n",
      "\n",
      "Country:  Espanha\n",
      "year:  2010\n"
     ]
    }
   ],
   "source": [
    "# Exemplos de utilização do *args\n",
    "world_cup_titles('Brasil', '1958', '1962', '1970', '1994', '2002')\n",
    "\n",
    "# Pular linhas\n",
    "print('\\n\\n')\n",
    "\n",
    "# Outro exemplo da utilização do *args\n",
    "world_cup_titles('Espanha', '2010')"
   ]
  },
  {
   "cell_type": "code",
   "execution_count": 54,
   "id": "1979ce79",
   "metadata": {
    "ExecuteTime": {
     "end_time": "2021-09-30T01:44:49.899799Z",
     "start_time": "2021-09-30T01:44:49.893164Z"
    },
    "hidden": true
   },
   "outputs": [],
   "source": [
    "# Declaração de uma função de exemplo para uso do **kwargs\n",
    "def calculate_price(value, **kwargs):\n",
    "    \"\"\"Função que calcula o preço de um determinado item, somando\n",
    "    uma taxa (porcentagem), caso ela exista; e subtraindo um desconto, caso\n",
    "    ele exista.\n",
    "    \n",
    "    Argumentos:\n",
    "    value -- Valor do item\n",
    "    **kwargs -- Contém os valores da porcentagem da taxa e o desconto\n",
    "    \n",
    "    Retorno:\n",
    "    value -- O valor do item, somando a taxa e subtraindo o desconto \n",
    "    \"\"\"\n",
    "    \n",
    "    # Recuera o valor do elemento chamado porcentagem_taxa\n",
    "    porcentagem_taxa = kwargs.get('porcentagem_taxa')\n",
    "    \n",
    "    # Recuera o valor do elemento chamado desconto\n",
    "    desconto = kwargs.get('desconto')\n",
    "    \n",
    "    # Verifca se o valor porcentagem_taxa é verdadeiro\n",
    "    if porcentagem_taxa:\n",
    "        value += value * (porcentagem_taxa / 100) # Soma o valor da taxa\n",
    "    \n",
    "    # Verifca se o valor desconto é verdadeiro\n",
    "    if desconto:\n",
    "        value -= desconto # Subtrai o valor do desconto\n",
    "    \n",
    "    return value"
   ]
  },
  {
   "cell_type": "code",
   "execution_count": 56,
   "id": "f2cf244b",
   "metadata": {
    "ExecuteTime": {
     "end_time": "2021-09-30T01:45:55.371953Z",
     "start_time": "2021-09-30T01:45:55.367853Z"
    },
    "hidden": true
   },
   "outputs": [
    {
     "name": "stdout",
     "output_type": "stream",
     "text": [
      "O Valor final ficou em R$ 100.00\n"
     ]
    }
   ],
   "source": [
    "# Exemplo do uso da função somente com o valor do produto\n",
    "final_price = calculate_price(100.0)\n",
    "print(f'O Valor final ficou em R$ {final_price:.2f}')"
   ]
  },
  {
   "cell_type": "code",
   "execution_count": 58,
   "id": "63206508",
   "metadata": {
    "ExecuteTime": {
     "end_time": "2021-09-30T01:47:01.723161Z",
     "start_time": "2021-09-30T01:47:01.719147Z"
    },
    "hidden": true
   },
   "outputs": [
    {
     "name": "stdout",
     "output_type": "stream",
     "text": [
      "O Valor final ficou em R$ 90.00\n"
     ]
    }
   ],
   "source": [
    "# Exemplo do uso da função com os valores do produto e do desconto\n",
    "final_price = calculate_price(100.0, desconto = 10)\n",
    "print(f'O Valor final ficou em R$ {final_price:.2f}')"
   ]
  },
  {
   "cell_type": "code",
   "execution_count": 59,
   "id": "23c5beb7",
   "metadata": {
    "ExecuteTime": {
     "end_time": "2021-09-30T01:47:34.830197Z",
     "start_time": "2021-09-30T01:47:34.826636Z"
    },
    "hidden": true
   },
   "outputs": [
    {
     "name": "stdout",
     "output_type": "stream",
     "text": [
      "O Valor final ficou em R$ 110.00\n"
     ]
    }
   ],
   "source": [
    "# Exemplo do uso da função com os valores do produto e da taxa\n",
    "final_price = calculate_price(100.0, porcentagem_taxa = 10)\n",
    "print(f'O Valor final ficou em R$ {final_price:.2f}')"
   ]
  },
  {
   "cell_type": "code",
   "execution_count": 60,
   "id": "89c00be3",
   "metadata": {
    "ExecuteTime": {
     "end_time": "2021-09-30T01:47:55.921950Z",
     "start_time": "2021-09-30T01:47:55.916917Z"
    },
    "hidden": true
   },
   "outputs": [
    {
     "name": "stdout",
     "output_type": "stream",
     "text": [
      "O Valor final ficou em R$ 105.00\n"
     ]
    }
   ],
   "source": [
    "# Exemplo do uso da função com os todos os valores\n",
    "final_price = calculate_price(100.0, porcentagem_taxa = 10, desconto = 5)\n",
    "print(f'O Valor final ficou em R$ {final_price:.2f}')"
   ]
  },
  {
   "cell_type": "markdown",
   "id": "7dcb88e1",
   "metadata": {
    "hidden": true
   },
   "source": [
    "Fonte do Exemplos: [Python: entendendo o uso de \\*args e \\*\\*kwargs em funções e métodos](https://medium.com/rafaeltardivo/python-entendendo-o-uso-de-args-e-kwargs-em-fun%C3%A7%C3%B5es-e-m%C3%A9todos-c8c2810e9dc8)"
   ]
  },
  {
   "cell_type": "markdown",
   "id": "3fea1295",
   "metadata": {
    "hidden": true
   },
   "source": [
    "## Refatoração: Transformando Blocos Repetidos em Funções"
   ]
  },
  {
   "cell_type": "markdown",
   "id": "b44bc197",
   "metadata": {
    "hidden": true
   },
   "source": [
    "Vamos pegar a aplicação criada como exemplo na aula passada para exemplificar como diminuir o código e transformar blocos em funções"
   ]
  },
  {
   "cell_type": "markdown",
   "id": "af077e47",
   "metadata": {
    "heading_collapsed": true,
    "hidden": true
   },
   "source": [
    "### Código Original"
   ]
  },
  {
   "cell_type": "code",
   "execution_count": null,
   "id": "5a5563f9",
   "metadata": {
    "hidden": true
   },
   "outputs": [],
   "source": [
    "# Resolução Aqui\n",
    "# ==============\n",
    "# Carregamento da biblioteca csv para a leitura do arquivo\n",
    "import csv\n",
    "\n",
    "# Definição no nome do arquivo\n",
    "filename = 'csv/heroes.csv'\n",
    "\n",
    "# Abertura do arquivo para leitura\n",
    "input_file = open(filename, 'r')\n",
    "\n",
    "# Criação das listas que armazenarão as respostas\n",
    "males = []\n",
    "females = []\n",
    "without_gender = []\n",
    "heroes_studios = []\n",
    "heroes_bad = []\n",
    "\n",
    "# Leitura do arquivo \n",
    "reader = csv.reader(input_file)\n",
    "next(reader) # Pula o cabeçalho\n",
    "\n",
    "\n",
    "# Itera sobre as linhas do arquivo para filtramos as informações\n",
    "for hero in reader:\n",
    "    # Cria uma lista com o id e o nome do herói da linha atual\n",
    "    csv_content = [hero[0].strip(), hero[1].strip()] # A função strip remove os espaços do nome e do id\n",
    "\n",
    "    # Verifica se o heróia da linha atual é homem\n",
    "    if hero[2].strip().lower() == 'male':\n",
    "        males.append(csv_content) # Adiciona na lista de resposta\n",
    "    elif hero[2].strip().lower() == 'female': #  Verifica se o heróia da linha atual é mulher\n",
    "        females.append(csv_content)\n",
    "    else: # Se não homem nem mulher, o herói não tem gênero\n",
    "        without_gender.append(csv_content)\n",
    "\n",
    "    # Verifica se o herói  é da Marvel ou da DC\n",
    "    if(hero[7].strip().lower() == 'dc comics' or hero[7].strip().lower() == 'marvel comics'):\n",
    "        heroes_studios.append(hero[1])\n",
    "\n",
    "    # Veriica se o heróio é vilão e tem a pele azul\n",
    "    if(hero[8].strip().lower() == 'blue' and hero[9].strip().lower() == 'bad'):\n",
    "        heroes_bad.append(hero[1])\n",
    "\n",
    "\n",
    "# Cabeçalho dos arquivos de resposta\n",
    "header = ['id', 'name']\n",
    "\n",
    "# Cria o arquivo heroes_males.csv\n",
    "f = open('heroes_male.csv', 'w', newline='')\n",
    "writer = csv.writer(f, delimiter=',', quotechar='|', quoting=csv.QUOTE_MINIMAL)\n",
    "writer.writerow(header)\n",
    "writer.writerows(males)\n",
    "f.close()\n",
    "\n",
    "# Cria o arquivo heroes_female.csv\n",
    "f = open('heroes_female.csv', 'w', newline='')\n",
    "writer = csv.writer(f, delimiter=',', quotechar='|', quoting=csv.QUOTE_MINIMAL)\n",
    "writer.writerow(header)\n",
    "writer.writerows(females)\n",
    "f.close()\n",
    "\n",
    "# Cria o arquivo heroes_without_gender.csv\n",
    "f = open('heroes_without_gender.csv', 'w', newline='')\n",
    "writer = csv.writer(f, delimiter=',', quotechar='|', quoting=csv.QUOTE_MINIMAL)\n",
    "writer.writerow(header)\n",
    "writer.writerows(without_gender)\n",
    "f.close()\n",
    "\n",
    "# Cria o arquivo heroes_studio.txt\n",
    "f = open('heroes_studio.txt', 'w')\n",
    "for line in heroes_studios:\n",
    "    f.write(line + '\\n')\n",
    "f.close()\n",
    "\n",
    "# Cria o arquivo heroes_bad.txt\n",
    "f = open('heroes_bad.txt', 'w')\n",
    "for line in heroes_bad:\n",
    "    f.write(line + '\\n')\n",
    "f.close()\n",
    "\n",
    "# Fecha o objeto input_file\n",
    "input_file.close()"
   ]
  },
  {
   "cell_type": "markdown",
   "id": "e0c88b3b",
   "metadata": {
    "heading_collapsed": true,
    "hidden": true
   },
   "source": [
    "### Código Modificado"
   ]
  },
  {
   "cell_type": "code",
   "execution_count": 3,
   "id": "a46d6a93",
   "metadata": {
    "ExecuteTime": {
     "end_time": "2021-10-01T15:25:18.304599Z",
     "start_time": "2021-10-01T15:25:18.294274Z"
    },
    "hidden": true
   },
   "outputs": [],
   "source": [
    "# Resolução Aqui\n",
    "# ==============\n",
    "# Carregamento da biblioteca csv para a leitura do arquivo\n",
    "import csv\n",
    "\n",
    "\n",
    "# CRIAÇÃO DAS FUNÇÕES\n",
    "# ===================\n",
    "# Função de Escrita de Arquivo\n",
    "def write_file(extension, name, content):\n",
    "    \"\"\"Função responsável por definir o tipo arquivo que será gerado\n",
    "    \n",
    "    Argumentos:\n",
    "    extension -- Tipo de extensão do arquivo\n",
    "    name -- Nome do arquivo a ser escrito\n",
    "    content -- Conteúdo do arquivo\n",
    "    \"\"\"\n",
    "    \n",
    "    if extension == 'txt':\n",
    "        write_txt(name, content)\n",
    "    else:\n",
    "        write_csv(name, content)\n",
    "        \n",
    "    return None\n",
    "\n",
    "\n",
    "# Função que escreverá os arquivos .csv\n",
    "def write_csv(name, content):\n",
    "    \"\"\"Função responsável por criar os arquios .csv\n",
    "    \n",
    "    Argumentos:\n",
    "    name -- Nome do arquivo criado\n",
    "    content -- conteúdo do arquivo\n",
    "    \"\"\"\n",
    "    \n",
    "    # Cabeçalho dos arquivos de resposta\n",
    "    header = ['id', 'name']\n",
    "\n",
    "    f = open(name + '.csv', 'w', newline='')\n",
    "    \n",
    "    writer = csv.writer(f, delimiter=',', quotechar='|', quoting=csv.QUOTE_MINIMAL)\n",
    "    writer.writerow(header)\n",
    "    writer.writerows(content)\n",
    "    \n",
    "    f.close()\n",
    "    \n",
    "    return None\n",
    "\n",
    "    \n",
    "# Função que escreverá os arquivos .txt\n",
    "def write_txt(name, content):\n",
    "    \"\"\"Função responsável por criar os arquios .csv\n",
    "    \n",
    "    Argumentos:\n",
    "    name -- Nome do arquivo criado\n",
    "    content -- conteúdo do arquivo\n",
    "    \"\"\"\n",
    "    \n",
    "    f = open(name + '.txt', 'w')\n",
    "    \n",
    "    for line in heroes_bad:\n",
    "        f.write(line + '\\n')\n",
    "    f.close()\n",
    "    \n",
    "    return None\n",
    "\n",
    "\n",
    "    \n",
    "\n",
    "# PREPARAÇÃO INICIAL\n",
    "# ==================\n",
    "# Definição no nome do arquivo\n",
    "filename = 'csv/heroes.csv'\n",
    "\n",
    "\n",
    "# Abertura do arquivo para leitura\n",
    "input_file = open(filename, 'r')\n",
    "\n",
    "\n",
    "# Criação das listas que armazenarão as respostas\n",
    "males = []\n",
    "females = []\n",
    "without_gender = []\n",
    "heroes_studios = []\n",
    "heroes_bad = []\n",
    "\n",
    "\n",
    "# Leitura do arquivo \n",
    "reader = csv.reader(input_file)\n",
    "next(reader) # Pula o cabeçalho\n",
    "\n",
    "\n",
    "# PROCESSAMENTO DO ARQUIVO\n",
    "# ========================\n",
    "# Itera sobre as linhas do arquivo para filtramos as informações\n",
    "for hero in reader:\n",
    "    # Cria uma lista com o id e o nome do herói da linha atual\n",
    "    csv_content = [hero[0].strip(), hero[1].strip()] # A função strip remove os espaços do nome e do id\n",
    "\n",
    "    # Verifica se o heróia da linha atual é homem\n",
    "    if hero[2].strip().lower() == 'male':\n",
    "        males.append(csv_content) # Adiciona na lista de resposta\n",
    "    elif hero[2].strip().lower() == 'female': #  Verifica se o heróia da linha atual é mulher\n",
    "        females.append(csv_content)\n",
    "    else: # Se não homem nem mulher, o herói não tem gênero\n",
    "        without_gender.append(csv_content)\n",
    "\n",
    "    # Verifica se o herói  é da Marvel ou da DC\n",
    "    if(hero[7].strip().lower() == 'dc comics' or hero[7].strip().lower() == 'marvel comics'):\n",
    "        heroes_studios.append(hero[1])\n",
    "\n",
    "    # Veriica se o heróio é vilão e tem a pele azul\n",
    "    if(hero[8].strip().lower() == 'blue' and hero[9].strip().lower() == 'bad'):\n",
    "        heroes_bad.append(hero[1])\n",
    "\n",
    "\n",
    "        \n",
    "# UTILIZAÇÃO DAS FUNÇÕES\n",
    "# ======================\n",
    "# Cria o arquivo heroes_males.csv\n",
    "write_csv('heroes_male', males)\n",
    "\n",
    "\n",
    "# Cria o arquivo heroes_female.csv\n",
    "write_csv('heroes_female', females)\n",
    "\n",
    "\n",
    "# Cria o arquivo heroes_males.csv\n",
    "write_csv('heroes_without_gender', without_gender)\n",
    "\n",
    "\n",
    "# Cria o arquivo heroes_studio.txt\n",
    "write_txt('heroes_studio', heroes_studios)\n",
    "\n",
    "\n",
    "# Cria o arquivo heroes_bad.txt\n",
    "write_txt('heroes_bad', heroes_bad)\n",
    "\n",
    "\n",
    "# Fecha o objeto input_file\n",
    "input_file.close()"
   ]
  },
  {
   "cell_type": "markdown",
   "id": "56cceb0e",
   "metadata": {},
   "source": [
    "# POO - PROGRAMAÇÃO ORIENTADA À OBJETOS"
   ]
  },
  {
   "cell_type": "markdown",
   "id": "8a88b6c8",
   "metadata": {},
   "source": [
    "A POO é um paradigma de desenvolvimento de software que veio para substituir ou melhorar o paradigma Imperativo.\n",
    "\n",
    "A principal função da POO é fazer com que o desenvolvedor evite repetições de código desnecessárias e que o sistema tenha entidades mais próximas do mundo real\n",
    "\n",
    "Além disso, um sistema arquitetado com o POO se torna escalável e mais simples e rápido de realizar manutenções.\n",
    "\n",
    "A POO é baseada em alguns fundamentos:\n",
    "* Classes.\n",
    "* Objetos.\n",
    "* Atributos.\n",
    "* Métodos \n",
    "\n",
    "**Classes** são as representações das entidade do mundo real. Ou seja, se desejamos descrever um carro ou uma pessoa, iremos criar uma classe para essa entidade. Classes são os moldes que utilizamos para criar nossos objetos.\n",
    "\n",
    "**Objetos** são as classes carregadas com informações. Chamamos esse processo de gerar um Objeto utilizando uma Classe como molde de Instânciar.\n",
    "\n",
    "**Atributos** são como “variáveis” dos Objetos. Atributos são utilizados quando desejamos inserir informações para as nossas classes.\n",
    "\n",
    "**Métodos** também são conhecidos como Comportamentos, os métodos podem ser entendidos como as “funções” do nosso objeto, ou o que conseguimos realizar com ele. "
   ]
  },
  {
   "cell_type": "code",
   "execution_count": 13,
   "id": "cbc387ef",
   "metadata": {
    "ExecuteTime": {
     "end_time": "2021-11-17T23:34:46.921240Z",
     "start_time": "2021-11-17T23:34:46.918560Z"
    }
   },
   "outputs": [],
   "source": [
    "class Usuario:\n",
    "    def __init__(self, nome_param, idade_param, documento_param = 0):\n",
    "        self.nome = nome_param\n",
    "        self.idade = idade_param\n",
    "        self.documento = documento_param\n",
    "        \n",
    "    def logar_no_sistema(self):\n",
    "        # ações de login\n",
    "        print(f'O usuario {self.nome} foi logado')"
   ]
  },
  {
   "cell_type": "code",
   "execution_count": 14,
   "id": "eca25efa",
   "metadata": {
    "ExecuteTime": {
     "end_time": "2021-11-17T23:34:51.092279Z",
     "start_time": "2021-11-17T23:34:51.089085Z"
    }
   },
   "outputs": [
    {
     "data": {
      "text/plain": [
       "__main__.Usuario"
      ]
     },
     "execution_count": 14,
     "metadata": {},
     "output_type": "execute_result"
    }
   ],
   "source": [
    "pedro = Usuario('Pedro', 32, 123456)\n",
    "type(pedro)"
   ]
  },
  {
   "cell_type": "code",
   "execution_count": 15,
   "id": "6733e584",
   "metadata": {
    "ExecuteTime": {
     "end_time": "2021-11-17T23:34:52.305411Z",
     "start_time": "2021-11-17T23:34:52.302250Z"
    }
   },
   "outputs": [
    {
     "data": {
      "text/plain": [
       "'Pedro'"
      ]
     },
     "execution_count": 15,
     "metadata": {},
     "output_type": "execute_result"
    }
   ],
   "source": [
    "pedro.nome"
   ]
  },
  {
   "cell_type": "code",
   "execution_count": 16,
   "id": "91c7bd5b",
   "metadata": {
    "ExecuteTime": {
     "end_time": "2021-11-17T23:34:53.030644Z",
     "start_time": "2021-11-17T23:34:53.028157Z"
    }
   },
   "outputs": [
    {
     "data": {
      "text/plain": [
       "32"
      ]
     },
     "execution_count": 16,
     "metadata": {},
     "output_type": "execute_result"
    }
   ],
   "source": [
    "pedro.idade"
   ]
  },
  {
   "cell_type": "code",
   "execution_count": 17,
   "id": "fc8dd1d8",
   "metadata": {
    "ExecuteTime": {
     "end_time": "2021-11-17T23:34:53.595772Z",
     "start_time": "2021-11-17T23:34:53.592304Z"
    }
   },
   "outputs": [
    {
     "data": {
      "text/plain": [
       "123456"
      ]
     },
     "execution_count": 17,
     "metadata": {},
     "output_type": "execute_result"
    }
   ],
   "source": [
    "pedro.documento"
   ]
  },
  {
   "cell_type": "code",
   "execution_count": 18,
   "id": "a935cf90",
   "metadata": {
    "ExecuteTime": {
     "end_time": "2021-11-17T23:35:06.369475Z",
     "start_time": "2021-11-17T23:35:06.367319Z"
    }
   },
   "outputs": [
    {
     "name": "stdout",
     "output_type": "stream",
     "text": [
      "O usuario Pedro foi logado\n"
     ]
    }
   ],
   "source": [
    "pedro.logar_no_sistema()"
   ]
  },
  {
   "cell_type": "markdown",
   "id": "ec665521",
   "metadata": {},
   "source": [
    "Fazer a contagem de um em um ou de vários em vários\n",
    "\n",
    "Apresentar o valor da contagem\n",
    "\n",
    "Fazer o reset\n",
    "\n",
    "Atributo que recebe/armazena a contagem"
   ]
  },
  {
   "cell_type": "code",
   "execution_count": 83,
   "id": "2d5b041a",
   "metadata": {
    "ExecuteTime": {
     "end_time": "2021-11-18T00:08:37.373922Z",
     "start_time": "2021-11-18T00:08:37.370052Z"
    }
   },
   "outputs": [],
   "source": [
    "class ClickCounter:\n",
    "    def __init__(self, count_param = 0, teste = 42):\n",
    "        self.count = count_param\n",
    "        self.teste = teste\n",
    "        \n",
    "    \n",
    "    def reset(self):\n",
    "        self.count = 0\n",
    "    \n",
    "    \n",
    "    def click(self, count_param = 1):\n",
    "        if self.count >= 10:\n",
    "            return f'maximum.amaunt {self.count}'\n",
    "        else:\n",
    "            self.imprimi_teste()\n",
    "            self.count += count_param\n",
    "    \n",
    "    \n",
    "    def leitura(self):\n",
    "        return self.count\n",
    "    \n",
    "    \n",
    "    def imprimi_teste(self):\n",
    "        print(f'O valor do teste = {self.teste}')"
   ]
  },
  {
   "cell_type": "code",
   "execution_count": null,
   "id": "9191e7d9",
   "metadata": {},
   "outputs": [],
   "source": []
  },
  {
   "cell_type": "code",
   "execution_count": 56,
   "id": "6c9bf06e",
   "metadata": {
    "ExecuteTime": {
     "end_time": "2021-11-17T23:58:24.989323Z",
     "start_time": "2021-11-17T23:58:24.986078Z"
    }
   },
   "outputs": [
    {
     "data": {
      "text/plain": [
       "5"
      ]
     },
     "execution_count": 56,
     "metadata": {},
     "output_type": "execute_result"
    }
   ],
   "source": [
    "contador = ClickCounter(5)\n",
    "contador.count"
   ]
  },
  {
   "cell_type": "code",
   "execution_count": 50,
   "id": "68ae04c0",
   "metadata": {
    "ExecuteTime": {
     "end_time": "2021-11-17T23:57:40.371113Z",
     "start_time": "2021-11-17T23:57:40.368529Z"
    }
   },
   "outputs": [
    {
     "name": "stdout",
     "output_type": "stream",
     "text": [
      "O Valor do contador é 0\n"
     ]
    }
   ],
   "source": [
    "contador.reset()\n",
    "print(f'O Valor do contador é {contador.leitura()}')"
   ]
  },
  {
   "cell_type": "code",
   "execution_count": 57,
   "id": "9f63f171",
   "metadata": {
    "ExecuteTime": {
     "end_time": "2021-11-17T23:58:31.133051Z",
     "start_time": "2021-11-17T23:58:31.130152Z"
    }
   },
   "outputs": [
    {
     "name": "stdout",
     "output_type": "stream",
     "text": [
      "A contagem nesse momento está em 6\n"
     ]
    }
   ],
   "source": [
    "contador.click()\n",
    "print(f'A contagem nesse momento está em {contador.leitura()}')"
   ]
  },
  {
   "cell_type": "code",
   "execution_count": 58,
   "id": "2bae751c",
   "metadata": {
    "ExecuteTime": {
     "end_time": "2021-11-17T23:59:11.520656Z",
     "start_time": "2021-11-17T23:59:11.518076Z"
    }
   },
   "outputs": [
    {
     "name": "stdout",
     "output_type": "stream",
     "text": [
      "A contagem nesse momento está em 10\n"
     ]
    }
   ],
   "source": [
    "contador.click(4)\n",
    "print(f'A contagem nesse momento está em {contador.leitura()}')"
   ]
  },
  {
   "cell_type": "code",
   "execution_count": 60,
   "id": "fbc4e656",
   "metadata": {
    "ExecuteTime": {
     "end_time": "2021-11-17T23:59:33.733819Z",
     "start_time": "2021-11-17T23:59:33.731161Z"
    }
   },
   "outputs": [
    {
     "name": "stdout",
     "output_type": "stream",
     "text": [
      "Quantidade máxima atingida\n",
      "A contagem nesse momento está em 10\n"
     ]
    }
   ],
   "source": [
    "print(contador.click(1))\n",
    "print(f'A contagem nesse momento está em {contador.leitura()}')"
   ]
  },
  {
   "cell_type": "code",
   "execution_count": 78,
   "id": "9e9c7cd7",
   "metadata": {
    "ExecuteTime": {
     "end_time": "2021-11-18T00:07:27.920764Z",
     "start_time": "2021-11-18T00:07:27.918763Z"
    }
   },
   "outputs": [],
   "source": [
    "contador_1 = ClickCounter()\n",
    "contador_2 = ClickCounter()\n",
    "contador_3 = ClickCounter()"
   ]
  },
  {
   "cell_type": "code",
   "execution_count": 79,
   "id": "79720f57",
   "metadata": {
    "ExecuteTime": {
     "end_time": "2021-11-18T00:07:28.220111Z",
     "start_time": "2021-11-18T00:07:28.216680Z"
    }
   },
   "outputs": [
    {
     "data": {
      "text/plain": [
       "140141616876704"
      ]
     },
     "execution_count": 79,
     "metadata": {},
     "output_type": "execute_result"
    }
   ],
   "source": [
    "id(contador_1)"
   ]
  },
  {
   "cell_type": "code",
   "execution_count": 80,
   "id": "e150160c",
   "metadata": {
    "ExecuteTime": {
     "end_time": "2021-11-18T00:07:28.789873Z",
     "start_time": "2021-11-18T00:07:28.787171Z"
    }
   },
   "outputs": [
    {
     "data": {
      "text/plain": [
       "140141616876176"
      ]
     },
     "execution_count": 80,
     "metadata": {},
     "output_type": "execute_result"
    }
   ],
   "source": [
    "id(contador_2)"
   ]
  },
  {
   "cell_type": "code",
   "execution_count": 81,
   "id": "70c46442",
   "metadata": {
    "ExecuteTime": {
     "end_time": "2021-11-18T00:07:28.789873Z",
     "start_time": "2021-11-18T00:07:28.787171Z"
    }
   },
   "outputs": [
    {
     "data": {
      "text/plain": [
       "140141616442384"
      ]
     },
     "execution_count": 81,
     "metadata": {},
     "output_type": "execute_result"
    }
   ],
   "source": [
    "id(contador_3)"
   ]
  },
  {
   "cell_type": "code",
   "execution_count": 82,
   "id": "32a5f007",
   "metadata": {
    "ExecuteTime": {
     "end_time": "2021-11-18T00:07:29.626557Z",
     "start_time": "2021-11-18T00:07:29.624482Z"
    }
   },
   "outputs": [
    {
     "name": "stdout",
     "output_type": "stream",
     "text": [
      "O valor do teste = 42\n"
     ]
    }
   ],
   "source": [
    "contador_1.click()"
   ]
  },
  {
   "cell_type": "code",
   "execution_count": 89,
   "id": "a420a85c",
   "metadata": {
    "ExecuteTime": {
     "end_time": "2021-11-18T00:11:20.950750Z",
     "start_time": "2021-11-18T00:11:20.948877Z"
    }
   },
   "outputs": [],
   "source": [
    "nomes = ['Pedro', 'Guilherme']"
   ]
  },
  {
   "cell_type": "code",
   "execution_count": 90,
   "id": "8bad2dd1",
   "metadata": {
    "ExecuteTime": {
     "end_time": "2021-11-18T00:11:28.398281Z",
     "start_time": "2021-11-18T00:11:28.395589Z"
    }
   },
   "outputs": [
    {
     "data": {
      "text/plain": [
       "list"
      ]
     },
     "execution_count": 90,
     "metadata": {},
     "output_type": "execute_result"
    }
   ],
   "source": [
    "type(nomes)"
   ]
  },
  {
   "cell_type": "code",
   "execution_count": 91,
   "id": "e8d586b2",
   "metadata": {
    "ExecuteTime": {
     "end_time": "2021-11-18T00:11:52.144624Z",
     "start_time": "2021-11-18T00:11:52.141607Z"
    }
   },
   "outputs": [
    {
     "data": {
      "text/plain": [
       "['Pedro', 'Guilherme', 'Ferraresi']"
      ]
     },
     "execution_count": 91,
     "metadata": {},
     "output_type": "execute_result"
    }
   ],
   "source": [
    "nomes.append('Ferraresi')\n",
    "nomes"
   ]
  },
  {
   "cell_type": "code",
   "execution_count": 92,
   "id": "07eb94e2",
   "metadata": {
    "ExecuteTime": {
     "end_time": "2021-11-18T00:26:44.562098Z",
     "start_time": "2021-11-18T00:26:44.556208Z"
    }
   },
   "outputs": [
    {
     "ename": "TypeError",
     "evalue": "float() argument must be a string or a number, not 'ClickCounter'",
     "output_type": "error",
     "traceback": [
      "\u001b[0;31m---------------------------------------------------------------------------\u001b[0m",
      "\u001b[0;31mTypeError\u001b[0m                                 Traceback (most recent call last)",
      "\u001b[0;32m/tmp/ipykernel_57413/3569465394.py\u001b[0m in \u001b[0;36m<module>\u001b[0;34m\u001b[0m\n\u001b[0;32m----> 1\u001b[0;31m \u001b[0mconv\u001b[0m \u001b[0;34m=\u001b[0m \u001b[0mfloat\u001b[0m\u001b[0;34m(\u001b[0m\u001b[0mcontador_1\u001b[0m\u001b[0;34m)\u001b[0m\u001b[0;34m\u001b[0m\u001b[0;34m\u001b[0m\u001b[0m\n\u001b[0m",
      "\u001b[0;31mTypeError\u001b[0m: float() argument must be a string or a number, not 'ClickCounter'"
     ]
    }
   ],
   "source": [
    "conv = float(contador_1)"
   ]
  },
  {
   "cell_type": "code",
   "execution_count": 95,
   "id": "d391b0dd",
   "metadata": {
    "ExecuteTime": {
     "end_time": "2021-11-18T00:35:34.298420Z",
     "start_time": "2021-11-18T00:35:34.295745Z"
    }
   },
   "outputs": [
    {
     "data": {
      "text/plain": [
       "int"
      ]
     },
     "execution_count": 95,
     "metadata": {},
     "output_type": "execute_result"
    }
   ],
   "source": [
    "idade = int(32)\n",
    "type(idade)"
   ]
  },
  {
   "cell_type": "code",
   "execution_count": 87,
   "id": "a4f96167",
   "metadata": {
    "ExecuteTime": {
     "end_time": "2021-11-18T00:10:49.524070Z",
     "start_time": "2021-11-18T00:10:49.521328Z"
    }
   },
   "outputs": [],
   "source": [
    "idade = '32'"
   ]
  },
  {
   "cell_type": "code",
   "execution_count": 88,
   "id": "7a854b58",
   "metadata": {
    "ExecuteTime": {
     "end_time": "2021-11-18T00:10:50.588827Z",
     "start_time": "2021-11-18T00:10:50.586264Z"
    }
   },
   "outputs": [
    {
     "name": "stdout",
     "output_type": "stream",
     "text": [
      "<class 'str'>\n"
     ]
    }
   ],
   "source": [
    "print(type(idade))"
   ]
  },
  {
   "cell_type": "markdown",
   "id": "19e050a1",
   "metadata": {
    "heading_collapsed": true
   },
   "source": [
    "## Exemplo de Declaração de uma Classe em Python"
   ]
  },
  {
   "cell_type": "markdown",
   "id": "e904142a",
   "metadata": {
    "heading_collapsed": true,
    "hidden": true
   },
   "source": [
    "### Exemplo - Classe Usuário"
   ]
  },
  {
   "cell_type": "code",
   "execution_count": 12,
   "id": "d255ffd9",
   "metadata": {
    "ExecuteTime": {
     "end_time": "2021-10-01T16:04:10.353611Z",
     "start_time": "2021-10-01T16:04:10.350519Z"
    },
    "hidden": true
   },
   "outputs": [],
   "source": [
    "# Definição da Classe de Usuario\n",
    "class Usuario:\n",
    "    # Definição dos Atributos da Classe Usuario\n",
    "    def __init__(self, nome, idade, altura, casada):\n",
    "        self.nome = nome\n",
    "        self.idade = idade\n",
    "        self.altura = altura\n",
    "        self.casada = casada\n",
    "        \n",
    "        \n",
    "    # Definição de um método do Usuário\n",
    "    def cadastrar(self):\n",
    "        # Codigo para cadastrar um Usuario no Banco de Dados\n",
    "        print('Aqui adicionaríamos alguma informação do Usuário no Banco de Dados')\n",
    "\n",
    "    def excluir(self):\n",
    "        # Codigo para excluir um Usuario no Banco de Dados\n",
    "        print('Aqui excluiríamos alguma informação do Usuário no Banco de Dados')\n",
    "\n",
    "    def selecionar(self):\n",
    "        # Codigo para selecionar um Usuario no Banco de Dados\n",
    "        print('Aqui selecionaríamos alguma informação do Usuário no Banco de Dados')"
   ]
  },
  {
   "cell_type": "code",
   "execution_count": 14,
   "id": "162c0e9d",
   "metadata": {
    "ExecuteTime": {
     "end_time": "2021-10-01T16:04:52.040493Z",
     "start_time": "2021-10-01T16:04:52.037612Z"
    },
    "hidden": true
   },
   "outputs": [
    {
     "name": "stdout",
     "output_type": "stream",
     "text": [
      "O nome do usuário é Pedro\n",
      "A idade do usuário é 32\n",
      "Aqui adicionaríamos alguma informação do Usuário no Banco de Dados\n"
     ]
    }
   ],
   "source": [
    "# Utilização da Classe Usuário\n",
    "\n",
    "user_pedro = Usuario('Pedro', 32, 1.82, True) # Criação do Objeto Usuário\n",
    "print(f'O nome do usuário é {user_pedro.nome}') # Recuperação de um atributo do Objeto\n",
    "print(f'A idade do usuário é {user_pedro.idade}') # Recuperação de um atributo da Objeto\n",
    "user_pedro.cadastrar() # Utilização de um Método da Objeto"
   ]
  },
  {
   "cell_type": "markdown",
   "id": "5fb59d1a",
   "metadata": {
    "heading_collapsed": true,
    "hidden": true
   },
   "source": [
    "### Exempo - Classe Contadora"
   ]
  },
  {
   "cell_type": "markdown",
   "id": "023f8fcd",
   "metadata": {
    "hidden": true
   },
   "source": [
    "Para melhorar nosso exemplo de classes, vamos utilizar o exemplo que o Joel Grus utilizou em seu livro *Data Science From Scratch* para classes.\n",
    "\n",
    "A ideia é construir um *counting clicker*, que são os contadores que utilizamos em portas de entradas de academias e outros estabelecimentos para medir quantas pessoas adentraram na academia diariamente.\n",
    "\n",
    "Essa classe é uma parte de um sistema maior que é utilizado para contar quantas pessoas compareceram ao *meetup* de tópicos avançadaos de *Data Science*.\n",
    "\n",
    "Esse contador deve manter a contagem, pode ser \"clicado\" para aumentar a contagem, nos possibilita ler/recuperar a contagem e pode resetar a contagem para zero."
   ]
  },
  {
   "cell_type": "code",
   "execution_count": 15,
   "id": "ee66813d",
   "metadata": {
    "ExecuteTime": {
     "end_time": "2021-10-01T17:04:56.527774Z",
     "start_time": "2021-10-01T17:04:56.525832Z"
    },
    "hidden": true
   },
   "outputs": [],
   "source": [
    "# Definição da classe CountingClicker\n",
    "class CountingClicker:\n",
    "    \"\"\"Uma classe pode e deve ter uma Docstring\n",
    "    assim como uma função.\n",
    "    \n",
    "    A classe CountingClicker tem a função de manipular um contador\n",
    "    \"\"\""
   ]
  },
  {
   "cell_type": "markdown",
   "id": "26311e3a",
   "metadata": {
    "hidden": true
   },
   "source": [
    "Como vimos anteriormente, os métodos da classe são responsáveis por definir quais os tipos de comportamentos ou ações aquela classe terá.\n",
    "\n",
    "No caso deste exemplo, temos as seguinte ações:\n",
    "* aumentar a contagem\n",
    "* ler/recuperar a contagem\n",
    "* resetar a contagem para zero.\n",
    "\n",
    "Dessa forma, vmaos implementar nossos métodos:"
   ]
  },
  {
   "cell_type": "code",
   "execution_count": 16,
   "id": "b468e109",
   "metadata": {
    "ExecuteTime": {
     "end_time": "2021-10-01T17:13:15.481306Z",
     "start_time": "2021-10-01T17:13:15.477940Z"
    },
    "hidden": true
   },
   "outputs": [],
   "source": [
    "# Definição da classe CountingClicker\n",
    "class CountingClicker:\n",
    "    \"\"\"Uma classe pode e deve ter uma Docstring\n",
    "    assim como uma função.\n",
    "    \n",
    "    A classe CountingClicker tem a função de manipular um contador\n",
    "    \"\"\"\n",
    "    \n",
    "    def click(self, num_times = 1):\n",
    "        \"\"\"Méodo responsavel por incrementar o contador em n vezes(cliques)\"\"\"\n",
    "        self.count += num_times\n",
    "    \n",
    "    def read(self):\n",
    "        \"\"\"Método responsável por ler/recuperar o contador\"\"\"\n",
    "        return self.count\n",
    "    \n",
    "    def reset(self):\n",
    "        \"\"\"Método responsável por resetar o contador para zero\"\"\"\n",
    "        self.count = 0"
   ]
  },
  {
   "cell_type": "markdown",
   "id": "ea196e8e",
   "metadata": {
    "hidden": true
   },
   "source": [
    "Antes de utilizarmos a classe que acabamos de criar, vamos falar sobre outros métodos especiais: OS *dunder methods*."
   ]
  },
  {
   "cell_type": "markdown",
   "id": "663da7c9",
   "metadata": {
    "heading_collapsed": true,
    "hidden": true
   },
   "source": [
    "#### Dunder Methods - Magic Methods"
   ]
  },
  {
   "cell_type": "markdown",
   "id": "9c7f65a6",
   "metadata": {
    "hidden": true
   },
   "source": [
    "Dunder Methods são métodos especiais que possuem os caracteres de underscore (`_`) duplo tanto antes quanto depois do nome, como fizemos anteriormente quando declaramos o método `__init__`.\n",
    "\n",
    "Esses métodos adicionais muitas funcionalidades as nossas classes como por exemplo, o método Contrutor, que é o método responsável por criar o nosso objeto, ou instanciar o nosso objeto. Esse método contrutor é o `__init__` que vimos anteriormente."
   ]
  },
  {
   "cell_type": "code",
   "execution_count": 34,
   "id": "1cf24de8",
   "metadata": {
    "ExecuteTime": {
     "end_time": "2021-10-01T17:58:01.753261Z",
     "start_time": "2021-10-01T17:58:01.747601Z"
    },
    "hidden": true
   },
   "outputs": [],
   "source": [
    "# Definição da classe CountingClicker\n",
    "class CountingClicker:\n",
    "    \"\"\"Uma classe pode e deve ter uma Docstring\n",
    "    assim como uma função.\n",
    "    \n",
    "    A classe CountingClicker tem a função de manipular um contador\n",
    "    \"\"\"\n",
    "    \n",
    "    def __init__(self, count = 0):\n",
    "        \"\"\"Construtor da classe CountingClicker.\n",
    "        Criará o objeto com o valor inicial informado\n",
    "        \"\"\"\n",
    "        self.count = count\n",
    "    \n",
    "    def click(self, num_times = 1):\n",
    "        \"\"\"Méodo responsavel por incrementar o contador em n vezes(cliques)\"\"\"\n",
    "        self.count += num_times\n",
    "    \n",
    "    def read(self):\n",
    "        \"\"\"Método responsável por ler/recuperar o contador\"\"\"\n",
    "        return self.count\n",
    "    \n",
    "    def reset(self):\n",
    "        \"\"\"Método responsável por resetar o contador para zero\"\"\"\n",
    "        self.count = 0"
   ]
  },
  {
   "cell_type": "markdown",
   "id": "27f485de",
   "metadata": {
    "hidden": true
   },
   "source": [
    "Agora que vimos o nosos primeiro *dunder method*, vamos verificar como está funcionando a nossa classe:"
   ]
  },
  {
   "cell_type": "code",
   "execution_count": 28,
   "id": "c8c43552",
   "metadata": {
    "ExecuteTime": {
     "end_time": "2021-10-01T17:55:27.242552Z",
     "start_time": "2021-10-01T17:55:27.239252Z"
    },
    "hidden": true
   },
   "outputs": [
    {
     "name": "stdout",
     "output_type": "stream",
     "text": [
      "A quantidade do contador é igual a 0\n",
      "A quantidade do contador é igual a 3\n",
      "A quantidade do contador é igual a 0\n"
     ]
    }
   ],
   "source": [
    "# Criação do nosso Objeto sem passaro valor do contador\n",
    "counter_1 = CountingClicker()\n",
    "\n",
    "# Verifica a contagem do contador\n",
    "print(f'A quantidade do contador é igual a {counter_1.read()}')\n",
    "\n",
    "# Aumanta uma 3 cliques no nosso contador\n",
    "counter_1.click()\n",
    "counter_1.click()\n",
    "counter_1.click()\n",
    "\n",
    "# Verifica a contagem do contador\n",
    "print(f'A quantidade do contador é igual a {counter_1.read()}')\n",
    "\n",
    "# Reseta o contador\n",
    "counter_1.reset()\n",
    "\n",
    "# Verifica a contagem do contador\n",
    "print(f'A quantidade do contador é igual a {counter_1.read()}')"
   ]
  },
  {
   "cell_type": "code",
   "execution_count": 29,
   "id": "bad78a50",
   "metadata": {
    "ExecuteTime": {
     "end_time": "2021-10-01T17:55:27.540031Z",
     "start_time": "2021-10-01T17:55:27.535120Z"
    },
    "hidden": true
   },
   "outputs": [
    {
     "name": "stdout",
     "output_type": "stream",
     "text": [
      "A quantidade do contador é igual a 10\n",
      "A quantidade do contador é igual a 13\n",
      "A quantidade do contador é igual a 0\n"
     ]
    }
   ],
   "source": [
    "# Criação do nosso Objeto passando um valor inicial ao nosso contador\n",
    "counter_2 = CountingClicker(10)\n",
    "\n",
    "# Verifica a contagem do contador\n",
    "print(f'A quantidade do contador é igual a {counter_2.read()}')\n",
    "\n",
    "# Aumanta uma 3 cliques no nosso contador\n",
    "counter_2.click()\n",
    "counter_2.click()\n",
    "counter_2.click()\n",
    "\n",
    "# Verifica a contagem do contador\n",
    "print(f'A quantidade do contador é igual a {counter_2.read()}')\n",
    "\n",
    "# Reseta o contador\n",
    "counter_2.reset()\n",
    "\n",
    "# Verifica a contagem do contador\n",
    "print(f'A quantidade do contador é igual a {counter_2.read()}')"
   ]
  },
  {
   "cell_type": "markdown",
   "id": "d6c589a6",
   "metadata": {
    "hidden": true
   },
   "source": [
    "Outro dunder method comumente utilizado é o `__repr__`, que é responsável por criar uma representação de texto do nosso objeto e é utilizada quando utilizamos a função `repr()`:"
   ]
  },
  {
   "cell_type": "code",
   "execution_count": 45,
   "id": "5774fa85",
   "metadata": {
    "ExecuteTime": {
     "end_time": "2021-10-01T18:01:17.847046Z",
     "start_time": "2021-10-01T18:01:17.839258Z"
    },
    "hidden": true
   },
   "outputs": [],
   "source": [
    "# Definição da classe CountingClicker\n",
    "class CountingClicker:\n",
    "    \"\"\"Uma classe pode e deve ter uma Docstring\n",
    "    assim como uma função.\n",
    "    \n",
    "    A classe CountingClicker tem a função de manipular um contador\n",
    "    \"\"\"\n",
    "    \n",
    "    def __init__(self, count = 0):\n",
    "        \"\"\"Construtor da classe CountingClicker.\n",
    "        Criará o objeto com o valor inicial informado\n",
    "        \"\"\"\n",
    "        self.count = count\n",
    "        \n",
    "    def __repr__(self):\n",
    "        \"\"\"Representação do Objeto em um texto\"\"\"\n",
    "        return f'Objeto está com o contador com {self.count} cliques'\n",
    "    \n",
    "    def click(self, num_times = 1):\n",
    "        \"\"\"Méodo responsavel por incrementar o contador em n vezes(cliques)\"\"\"\n",
    "        self.count += num_times\n",
    "    \n",
    "    def read(self):\n",
    "        \"\"\"Método responsável por ler/recuperar o contador\"\"\"\n",
    "        return self.count\n",
    "    \n",
    "    def reset(self):\n",
    "        \"\"\"Método responsável por resetar o contador para zero\"\"\"\n",
    "        self.count = 0"
   ]
  },
  {
   "cell_type": "code",
   "execution_count": 46,
   "id": "d0b3228c",
   "metadata": {
    "ExecuteTime": {
     "end_time": "2021-10-01T18:01:21.420103Z",
     "start_time": "2021-10-01T18:01:21.415446Z"
    },
    "hidden": true
   },
   "outputs": [],
   "source": [
    "counter_3 = CountingClicker(2) # Definição de um novo Objeto CounterClicker"
   ]
  },
  {
   "cell_type": "code",
   "execution_count": 47,
   "id": "b37fbe34",
   "metadata": {
    "ExecuteTime": {
     "end_time": "2021-10-01T18:01:41.215426Z",
     "start_time": "2021-10-01T18:01:41.212808Z"
    },
    "hidden": true
   },
   "outputs": [
    {
     "name": "stdout",
     "output_type": "stream",
     "text": [
      "Objeto está com o contador com 2 cliques\n"
     ]
    }
   ],
   "source": [
    "print(repr(counter_3)) # Utilização do Dunder Method __repr__"
   ]
  },
  {
   "cell_type": "markdown",
   "id": "a68a7d6b",
   "metadata": {
    "hidden": true
   },
   "source": [
    "Fora o `__init__`, que é contrutor, temos vários outros dunder methods, como por exemplo: \n",
    "* str\n",
    "* setitem\n",
    "* getitem\n",
    "* delitem\n",
    "* len\n",
    "* contains"
   ]
  },
  {
   "cell_type": "markdown",
   "id": "0581d5ec",
   "metadata": {
    "heading_collapsed": true
   },
   "source": [
    "# OPERAÇÕES EM OBJETOS E BUILT-IN FUNCTIONS"
   ]
  },
  {
   "cell_type": "markdown",
   "id": "5b180588",
   "metadata": {
    "hidden": true
   },
   "source": [
    "Tudo dentro da linguagem do Python, depois de declarado, ou criado, acaba se tornando um objeto! E sempre que criamos um variável, mesmo que sem utilizar a classe de forma explícita, acabamos criando um novo objeto daquele tipo criado!"
   ]
  },
  {
   "cell_type": "code",
   "execution_count": 53,
   "id": "3a8796a7",
   "metadata": {
    "ExecuteTime": {
     "end_time": "2021-10-01T18:29:42.057347Z",
     "start_time": "2021-10-01T18:29:42.054363Z"
    },
    "hidden": true
   },
   "outputs": [
    {
     "name": "stdout",
     "output_type": "stream",
     "text": [
      "<class 'str'>\n"
     ]
    }
   ],
   "source": [
    "nome = 'Pedro'\n",
    "print(type(nome))"
   ]
  },
  {
   "cell_type": "markdown",
   "id": "37ed5dbc",
   "metadata": {
    "hidden": true
   },
   "source": [
    "Além disso, sempre que fazemos uma conversão, utilizando as funções `int()`, `str()`, `float()`, `list()`, etc, estamos evocando a classe `int` e criando um objeto através dessa classe, passando um valor inicial! "
   ]
  },
  {
   "cell_type": "code",
   "execution_count": 54,
   "id": "a6c328af",
   "metadata": {
    "ExecuteTime": {
     "end_time": "2021-10-01T18:31:21.621772Z",
     "start_time": "2021-10-01T18:31:21.617845Z"
    },
    "hidden": true
   },
   "outputs": [
    {
     "name": "stdout",
     "output_type": "stream",
     "text": [
      "20\n",
      "<class 'str'>\n",
      "\n",
      "20\n",
      "<class 'int'>\n"
     ]
    }
   ],
   "source": [
    "# Criando uma variável com o valor 20\n",
    "numero = '20'\n",
    "print(numero)\n",
    "print(type(numero))\n",
    "\n",
    "# Pula Linha\n",
    "print()\n",
    "\n",
    "# Utilizando a conversao para transformar o dados em inteiro\n",
    "num_convertido = int(numero)\n",
    "print(num_convertido)\n",
    "print(type(num_convertido))"
   ]
  },
  {
   "cell_type": "markdown",
   "id": "a5256de4",
   "metadata": {
    "hidden": true
   },
   "source": [
    "Além disso, quando criamos um objetos de tipos primitivos, podemos utilizar funções desses objetos, que são nada mais nada menos que os métodos deles!\n",
    "\n",
    "Como por exemplo, vamos criar uma String e utilizar alguns de seus métodos:"
   ]
  },
  {
   "cell_type": "code",
   "execution_count": 58,
   "id": "ce875be8",
   "metadata": {
    "ExecuteTime": {
     "end_time": "2021-10-01T18:39:20.521906Z",
     "start_time": "2021-10-01T18:39:20.514736Z"
    },
    "hidden": true
   },
   "outputs": [
    {
     "name": "stdout",
     "output_type": "stream",
     "text": [
      "Pedro\n",
      "<class 'str'>\n"
     ]
    }
   ],
   "source": [
    "nome = 'Pedro'\n",
    "print(nome)\n",
    "print(type(nome))"
   ]
  },
  {
   "cell_type": "markdown",
   "id": "ba13170b",
   "metadata": {
    "heading_collapsed": true,
    "hidden": true
   },
   "source": [
    "## Função endswith()"
   ]
  },
  {
   "cell_type": "markdown",
   "id": "00729726",
   "metadata": {
    "hidden": true
   },
   "source": [
    "Retorna `True` se a string termina com o textos especificado, do contrário retorna `False`. Podemos utilizar uma Tupla para passar mais de uma opção de busca"
   ]
  },
  {
   "cell_type": "code",
   "execution_count": 67,
   "id": "98cd1c30",
   "metadata": {
    "ExecuteTime": {
     "end_time": "2021-10-01T18:53:46.954655Z",
     "start_time": "2021-10-01T18:53:46.950691Z"
    },
    "hidden": true
   },
   "outputs": [
    {
     "name": "stdout",
     "output_type": "stream",
     "text": [
      "Retorno do teste 1: True\n",
      "Retorno do teste 2: False\n",
      "Retorno do teste 3: True\n",
      "Retorno do teste 4: True\n",
      "Retorno do teste 5: False\n"
     ]
    }
   ],
   "source": [
    "# Teste 1\n",
    "retorno = nome.endswith('ro')\n",
    "print(f'Retorno do teste 1: {retorno}')\n",
    "\n",
    "# Teste 2\n",
    "retorno = nome.endswith('roo')\n",
    "print(f'Retorno do teste 2: {retorno}')\n",
    "\n",
    "# Teste 3\n",
    "retorno = nome.endswith(('o', 'ro'))\n",
    "print(f'Retorno do teste 3: {retorno}')\n",
    "\n",
    "# Teste 5\n",
    "retorno = nome.endswith(('o', 'roo'))\n",
    "print(f'Retorno do teste 4: {retorno}')\n",
    "\n",
    "# Teste 5\n",
    "retorno = nome.endswith(('y', 'roo'))\n",
    "print(f'Retorno do teste 5: {retorno}')"
   ]
  },
  {
   "cell_type": "markdown",
   "id": "9c2caeda",
   "metadata": {
    "heading_collapsed": true,
    "hidden": true
   },
   "source": [
    "## Função find()"
   ]
  },
  {
   "cell_type": "markdown",
   "id": "f2be3c98",
   "metadata": {
    "hidden": true
   },
   "source": [
    "Retorna o menor índice na string onde a palavra procurada for encontrada. Retona `-1` se não for encontrado"
   ]
  },
  {
   "cell_type": "code",
   "execution_count": 68,
   "id": "11b0d993",
   "metadata": {
    "ExecuteTime": {
     "end_time": "2021-10-01T18:54:54.736627Z",
     "start_time": "2021-10-01T18:54:54.733145Z"
    },
    "hidden": true
   },
   "outputs": [
    {
     "name": "stdout",
     "output_type": "stream",
     "text": [
      "Retorno do teste 1: 3\n",
      "Retorno do teste 2: -1\n",
      "Retorno do teste 3: 1\n",
      "Retorno do teste 4: 0\n",
      "Retorno do teste 5: -1\n"
     ]
    }
   ],
   "source": [
    "# Teste 1\n",
    "retorno = nome.find('ro')\n",
    "print(f'Retorno do teste 1: {retorno}')\n",
    "\n",
    "# Teste 2\n",
    "retorno = nome.find('roo')\n",
    "print(f'Retorno do teste 2: {retorno}')\n",
    "\n",
    "# Teste 3\n",
    "retorno = nome.find('ed')\n",
    "print(f'Retorno do teste 3: {retorno}')\n",
    "\n",
    "# Teste 5\n",
    "retorno = nome.find('P')\n",
    "print(f'Retorno do teste 4: {retorno}')\n",
    "\n",
    "# Teste 5\n",
    "retorno = nome.find('G')\n",
    "print(f'Retorno do teste 5: {retorno}')"
   ]
  },
  {
   "cell_type": "markdown",
   "id": "b0043ffc",
   "metadata": {
    "heading_collapsed": true,
    "hidden": true
   },
   "source": [
    "## Função islower()"
   ]
  },
  {
   "cell_type": "markdown",
   "id": "5374369c",
   "metadata": {
    "hidden": true
   },
   "source": [
    "Retorna `True` se todas os caracteres da string estiverem com o formato minúsculo, retorna `False` do contrário."
   ]
  },
  {
   "cell_type": "code",
   "execution_count": 75,
   "id": "6c94c234",
   "metadata": {
    "ExecuteTime": {
     "end_time": "2021-10-01T19:02:47.059416Z",
     "start_time": "2021-10-01T19:02:47.053410Z"
    },
    "hidden": true
   },
   "outputs": [
    {
     "name": "stdout",
     "output_type": "stream",
     "text": [
      "Retorno do teste 1: False\n",
      "Retorno do teste 2: False\n",
      "Retorno do teste 3: True\n"
     ]
    }
   ],
   "source": [
    "# Teste 1\n",
    "retorno = ''.islower()\n",
    "print(f'Retorno do teste 1: {retorno}')\n",
    "\n",
    "# Teste 2\n",
    "retorno = nome.islower()\n",
    "print(f'Retorno do teste 2: {retorno}')\n",
    "\n",
    "# Teste 3\n",
    "retorno = 'pedro'.islower()\n",
    "print(f'Retorno do teste 3: {retorno}')"
   ]
  },
  {
   "cell_type": "markdown",
   "id": "b7c827dd",
   "metadata": {
    "heading_collapsed": true,
    "hidden": true
   },
   "source": [
    "## Função join(iterável)"
   ]
  },
  {
   "cell_type": "markdown",
   "id": "6eaf5c9f",
   "metadata": {
    "hidden": true
   },
   "source": [
    "Retorna uma string que será a junção de todas as strings dentro do iterável com o separador. Um erro do tipo `TypeError` será levantado se houverem valores que não forem do tipo string dentro do iterável. "
   ]
  },
  {
   "cell_type": "code",
   "execution_count": 79,
   "id": "012837f8",
   "metadata": {
    "ExecuteTime": {
     "end_time": "2021-10-01T19:12:28.932283Z",
     "start_time": "2021-10-01T19:12:28.925865Z"
    },
    "hidden": true
   },
   "outputs": [
    {
     "name": "stdout",
     "output_type": "stream",
     "text": [
      "Retorno do teste 1: G-u-i-l-h-e-r-m-e\n",
      "Retorno do teste 2: Guilherme#Volpato\n"
     ]
    },
    {
     "ename": "TypeError",
     "evalue": "sequence item 1: expected str instance, bool found",
     "output_type": "error",
     "traceback": [
      "\u001b[0;31m---------------------------------------------------------------------------\u001b[0m",
      "\u001b[0;31mTypeError\u001b[0m                                 Traceback (most recent call last)",
      "\u001b[0;32m/tmp/ipykernel_12746/4182359293.py\u001b[0m in \u001b[0;36m<module>\u001b[0;34m\u001b[0m\n\u001b[1;32m      8\u001b[0m \u001b[0;34m\u001b[0m\u001b[0m\n\u001b[1;32m      9\u001b[0m \u001b[0;31m# Teste 3\u001b[0m\u001b[0;34m\u001b[0m\u001b[0;34m\u001b[0m\u001b[0;34m\u001b[0m\u001b[0m\n\u001b[0;32m---> 10\u001b[0;31m \u001b[0mretorno\u001b[0m \u001b[0;34m=\u001b[0m \u001b[0;34m'#'\u001b[0m\u001b[0;34m.\u001b[0m\u001b[0mjoin\u001b[0m\u001b[0;34m(\u001b[0m\u001b[0;34m[\u001b[0m\u001b[0;34m'Guilherme'\u001b[0m\u001b[0;34m,\u001b[0m \u001b[0;32mTrue\u001b[0m\u001b[0;34m]\u001b[0m\u001b[0;34m)\u001b[0m\u001b[0;34m\u001b[0m\u001b[0;34m\u001b[0m\u001b[0m\n\u001b[0m\u001b[1;32m     11\u001b[0m \u001b[0mprint\u001b[0m\u001b[0;34m(\u001b[0m\u001b[0;34mf'Retorno do teste 3: {retorno}'\u001b[0m\u001b[0;34m)\u001b[0m\u001b[0;34m\u001b[0m\u001b[0;34m\u001b[0m\u001b[0m\n",
      "\u001b[0;31mTypeError\u001b[0m: sequence item 1: expected str instance, bool found"
     ]
    }
   ],
   "source": [
    "# Teste 1\n",
    "retorno = '-'.join('Guilherme')\n",
    "print(f'Retorno do teste 1: {retorno}')\n",
    "\n",
    "# Teste 2\n",
    "retorno = '#'.join(['Guilherme', 'Volpato'])\n",
    "print(f'Retorno do teste 2: {retorno}')\n",
    "\n",
    "# Teste 3\n",
    "retorno = '#'.join(['Guilherme', True])\n",
    "print(f'Retorno do teste 3: {retorno}')"
   ]
  },
  {
   "cell_type": "markdown",
   "id": "911a695a",
   "metadata": {
    "hidden": true
   },
   "source": [
    "## Função lower()"
   ]
  },
  {
   "cell_type": "markdown",
   "id": "c2e53d9f",
   "metadata": {
    "hidden": true
   },
   "source": [
    "Retorna uma cópia da tring com todos os caracteres convertidos para minúsculas"
   ]
  },
  {
   "cell_type": "code",
   "execution_count": 81,
   "id": "36848d8b",
   "metadata": {
    "ExecuteTime": {
     "end_time": "2021-10-01T19:13:46.599884Z",
     "start_time": "2021-10-01T19:13:46.596941Z"
    },
    "hidden": true
   },
   "outputs": [
    {
     "name": "stdout",
     "output_type": "stream",
     "text": [
      "Retorno do teste 1: pedro\n",
      "Retorno do teste 2: pedro\n",
      "Retorno do teste 3: pedro\n"
     ]
    }
   ],
   "source": [
    "# Teste 1\n",
    "retorno = 'PEDRO'.lower()\n",
    "print(f'Retorno do teste 1: {retorno}')\n",
    "\n",
    "# Teste 2\n",
    "retorno = nome.lower()\n",
    "print(f'Retorno do teste 2: {retorno}')\n",
    "\n",
    "# Teste 3\n",
    "retorno = 'PeDrO'.lower()\n",
    "print(f'Retorno do teste 3: {retorno}')"
   ]
  },
  {
   "cell_type": "markdown",
   "id": "7d60403c",
   "metadata": {
    "heading_collapsed": true,
    "hidden": true
   },
   "source": [
    "## Função replace(old, new[ , count])"
   ]
  },
  {
   "cell_type": "markdown",
   "id": "cdb004c8",
   "metadata": {
    "hidden": true
   },
   "source": [
    "Retorna uma cópia da string com todas as ocorrencias da string `old` encontradas e substituidas pela string `new`. Se o parâmetro opcional `count` for passado, somente a quantidade `count` de ocorrencias encontradas será substituidas."
   ]
  },
  {
   "cell_type": "code",
   "execution_count": 82,
   "id": "35034e98",
   "metadata": {
    "ExecuteTime": {
     "end_time": "2021-10-01T19:18:13.081341Z",
     "start_time": "2021-10-01T19:18:13.077930Z"
    },
    "hidden": true
   },
   "outputs": [
    {
     "name": "stdout",
     "output_type": "stream",
     "text": [
      "Retorno do teste 1: P#E#droGuilh#E#rm#E#VolpatoF#E#rrar#E#si\n",
      "Retorno do teste 2: Pe ro\n",
      "Retorno do teste 3: P#E#droGuilh#E#rm#E#VolpatoFerraresi\n"
     ]
    }
   ],
   "source": [
    "# Teste 1\n",
    "retorno = 'PedroGuilhermeVolpatoFerraresi'.replace('e', '#E#')\n",
    "print(f'Retorno do teste 1: {retorno}')\n",
    "\n",
    "# Teste 2\n",
    "retorno = nome.replace('d', ' ')\n",
    "print(f'Retorno do teste 2: {retorno}')\n",
    "\n",
    "# Teste 3\n",
    "retorno = 'PedroGuilhermeVolpatoFerraresi'.replace('e', '#E#', 3)\n",
    "print(f'Retorno do teste 3: {retorno}')"
   ]
  },
  {
   "cell_type": "markdown",
   "id": "ff1bee9c",
   "metadata": {
    "heading_collapsed": true,
    "hidden": true
   },
   "source": [
    "## Função startswith(prefix[, start[, end]])"
   ]
  },
  {
   "cell_type": "markdown",
   "id": "06b6838e",
   "metadata": {
    "hidden": true
   },
   "source": [
    "Retorna `True` se a string inicia com o `prefix` passado, do contrário retorna `False`. O parâmetro `prefix` pode ser uma tupla de valores a serem verificados. Caso o parâmetro opcional `start` for passado, será buscado a partir desse valor/posição. Caso o parâmetro opcional `end` for passado, a busca será terminada nessa posição."
   ]
  },
  {
   "cell_type": "code",
   "execution_count": 84,
   "id": "e469d4f0",
   "metadata": {
    "ExecuteTime": {
     "end_time": "2021-10-01T19:25:55.619318Z",
     "start_time": "2021-10-01T19:25:55.611680Z"
    },
    "hidden": true
   },
   "outputs": [
    {
     "name": "stdout",
     "output_type": "stream",
     "text": [
      "Retorno do teste 1: True\n",
      "Retorno do teste 2: False\n",
      "Retorno do teste 3: True\n",
      "Retorno do teste 4: False\n",
      "Retorno do teste 5: True\n"
     ]
    }
   ],
   "source": [
    "# Teste 1\n",
    "retorno = 'PedroGuilhermeVolpatoFerraresi'.startswith('Pedro')\n",
    "print(f'Retorno do teste 1: {retorno}')\n",
    "\n",
    "# Teste 2\n",
    "retorno = nome.startswith('G')\n",
    "print(f'Retorno do teste 2: {retorno}')\n",
    "\n",
    "# Teste 3\n",
    "retorno = 'PedroGuilhermeVolpatoFerraresi'.startswith('e', 1)\n",
    "print(f'Retorno do teste 3: {retorno}')\n",
    "\n",
    "# Teste 4\n",
    "retorno = 'PedroGuilhermeVolpatoFerraresi'.startswith('Gui', 5, 6)\n",
    "print(f'Retorno do teste 4: {retorno}')\n",
    "\n",
    "# Teste 5\n",
    "retorno = 'PedroGuilhermeVolpatoFerraresi'.startswith('Gui', 5, 8)\n",
    "print(f'Retorno do teste 5: {retorno}')"
   ]
  },
  {
   "cell_type": "markdown",
   "id": "60d72f0b",
   "metadata": {
    "heading_collapsed": true,
    "hidden": true
   },
   "source": [
    "## Função strip([chars\\])"
   ]
  },
  {
   "cell_type": "markdown",
   "id": "004de5d7",
   "metadata": {
    "hidden": true
   },
   "source": [
    "Retorna uma cópia da string com os caracteres iniciais e finais removidos. O parâmetro `chars` é deve ser uma string especificando o conjunto de caracteres a serem removidos. Se o parâmetro `chars` for omitido ou for passado `None`, os caracteres removidos serão os espaços em branco"
   ]
  },
  {
   "cell_type": "code",
   "execution_count": 86,
   "id": "25604247",
   "metadata": {
    "ExecuteTime": {
     "end_time": "2021-10-01T19:36:30.315716Z",
     "start_time": "2021-10-01T19:36:30.311960Z"
    },
    "hidden": true
   },
   "outputs": [
    {
     "name": "stdout",
     "output_type": "stream",
     "text": [
      "Retorno do teste 1: PedroGuilhermeVolpatoFerraresi\n",
      "Retorno do teste 2: edro\n",
      "Retorno do teste 3: PedroGuilhermeVolpatoFerrar\n",
      "Retorno do teste 4: Pedro Guilherme Volpato  Ferraresi\n"
     ]
    }
   ],
   "source": [
    "# Teste 1\n",
    "retorno = '##PedroGuilhermeVolpatoFerraresi##'.strip('#')\n",
    "print(f'Retorno do teste 1: {retorno}')\n",
    "\n",
    "# Teste 2\n",
    "retorno = nome.strip('P')\n",
    "print(f'Retorno do teste 2: {retorno}')\n",
    "\n",
    "# Teste 3\n",
    "retorno = 'PedroGuilhermeVolpatoFerraresi'.strip('ise')\n",
    "print(f'Retorno do teste 3: {retorno}')\n",
    "\n",
    "# Teste 4\n",
    "retorno = '    Pedro Guilherme Volpato  Ferraresi    '.strip()\n",
    "print(f'Retorno do teste 4: {retorno}')"
   ]
  },
  {
   "cell_type": "markdown",
   "id": "671ffc39",
   "metadata": {
    "heading_collapsed": true,
    "hidden": true
   },
   "source": [
    "## Função upper()"
   ]
  },
  {
   "cell_type": "markdown",
   "id": "6984d0e0",
   "metadata": {
    "hidden": true
   },
   "source": [
    "Retorna uma cópia da string com todas as letras ajustadas para Maiúsculas"
   ]
  },
  {
   "cell_type": "code",
   "execution_count": 88,
   "id": "fa983d9e",
   "metadata": {
    "ExecuteTime": {
     "end_time": "2021-10-01T19:40:10.672746Z",
     "start_time": "2021-10-01T19:40:10.669455Z"
    },
    "hidden": true
   },
   "outputs": [
    {
     "name": "stdout",
     "output_type": "stream",
     "text": [
      "Retorno do teste 1: PEDROGUILHERME\n",
      "Retorno do teste 2: PEDRO\n",
      "Retorno do teste 3: PEDRO GUILHERME VOLPATO FERRARESI\n"
     ]
    }
   ],
   "source": [
    "# Teste 1\n",
    "retorno = 'pedroguilherme'.upper()\n",
    "print(f'Retorno do teste 1: {retorno}')\n",
    "\n",
    "# Teste 2\n",
    "retorno = nome.upper()\n",
    "print(f'Retorno do teste 2: {retorno}')\n",
    "\n",
    "# Teste 3\n",
    "retorno = 'Pedro Guilherme Volpato Ferraresi'.upper()\n",
    "print(f'Retorno do teste 3: {retorno}')"
   ]
  },
  {
   "cell_type": "markdown",
   "id": "5d13e525",
   "metadata": {
    "heading_collapsed": true,
    "hidden": true
   },
   "source": [
    "## Função format(\\*args, \\*\\*kwargs)"
   ]
  },
  {
   "cell_type": "markdown",
   "id": "47bce08f",
   "metadata": {
    "hidden": true
   },
   "source": [
    "Realiza a formatação de uma string. A string na qual será executada esse método pode conter texto literal ou campos delimitados pelos caracteres de chave (`{` e `}`). Cada campo a ser substituido deve conter ou um índice numérico que representa a posição de um parâmetro, ou o nome do argumento a ser substituído. \n",
    "\n",
    "Retorna uma cópia da string com os campos substituídos."
   ]
  },
  {
   "cell_type": "code",
   "execution_count": 94,
   "id": "4b8b161d",
   "metadata": {
    "ExecuteTime": {
     "end_time": "2021-10-01T19:48:21.930208Z",
     "start_time": "2021-10-01T19:48:21.926519Z"
    },
    "hidden": true
   },
   "outputs": [
    {
     "name": "stdout",
     "output_type": "stream",
     "text": [
      "Retorno do teste 1: A soma de 1 + 2 é 3\n",
      "Retorno do teste 2: A soma do valores 1 e 2 é 3\n",
      "Retorno do teste 3: O nome do aluno é Pedro\n",
      "Retorno do teste 4: O nome do aluno é Pedro Ferraresi\n"
     ]
    }
   ],
   "source": [
    "# Teste 1\n",
    "retorno = 'A soma de 1 + 2 é {0}'.format(1 + 2)\n",
    "print(f'Retorno do teste 1: {retorno}')\n",
    "\n",
    "# Teste 2\n",
    "retorno = 'A soma do valores {0} e {1} é {2}'.format(1, 2, 1 + 2)\n",
    "print(f'Retorno do teste 2: {retorno}')\n",
    "\n",
    "# Teste 3\n",
    "retorno = 'O nome do aluno é {nome}'.format(nome = 'Pedro')\n",
    "print(f'Retorno do teste 3: {retorno}')\n",
    "\n",
    "# Teste 4\n",
    "retorno = 'O nome do aluno é {nome} {sobrenome}'.format(nome = 'Pedro', sobrenome = 'Ferraresi')\n",
    "print(f'Retorno do teste 4: {retorno}')"
   ]
  },
  {
   "cell_type": "markdown",
   "id": "a7d7a2ee",
   "metadata": {
    "hidden": true
   },
   "source": [
    "Além dessa funções, existem muitas outras funções que podemos utilizar em dados do tipo `str`. Para mais informações, basta acessa a [documentação](https://docs.python.org/3/library/stdtypes.html#str) da classe `str` para verificar os métodos disponíveis!\n",
    "\n",
    "Além disso, existem outros métodos que chamamos de *built-in* no Python e que nos ajudam muito para criarmos nossas applicações. Alguns que já vimos e trabalhamos são: `len()`, `next()`, `open()`, `type()` e `repr()`. Para mais informações sobre esses e outros métodos *built-in* disponíveis, basta acessar a [documentação](https://docs.python.org/3/library/functions.html)."
   ]
  }
 ],
 "metadata": {
  "kernelspec": {
   "display_name": "Python 3 (ipykernel)",
   "language": "python",
   "name": "python3"
  },
  "language_info": {
   "codemirror_mode": {
    "name": "ipython",
    "version": 3
   },
   "file_extension": ".py",
   "mimetype": "text/x-python",
   "name": "python",
   "nbconvert_exporter": "python",
   "pygments_lexer": "ipython3",
   "version": "3.9.9"
  },
  "latex_envs": {
   "LaTeX_envs_menu_present": true,
   "autoclose": false,
   "autocomplete": true,
   "bibliofile": "biblio.bib",
   "cite_by": "apalike",
   "current_citInitial": 1,
   "eqLabelWithNumbers": true,
   "eqNumInitial": 1,
   "hotkeys": {
    "equation": "Ctrl-E",
    "itemize": "Ctrl-I"
   },
   "labels_anchors": false,
   "latex_user_defs": false,
   "report_style_numbering": false,
   "user_envs_cfg": false
  }
 },
 "nbformat": 4,
 "nbformat_minor": 5
}
