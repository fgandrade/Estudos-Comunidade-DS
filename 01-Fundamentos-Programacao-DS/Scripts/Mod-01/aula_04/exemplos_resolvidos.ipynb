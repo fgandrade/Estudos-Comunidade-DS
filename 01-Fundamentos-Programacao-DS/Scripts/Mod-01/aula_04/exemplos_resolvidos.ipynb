{
 "cells": [
  {
   "cell_type": "markdown",
   "id": "356cb35d",
   "metadata": {},
   "source": [
    "# Exemplo 1"
   ]
  },
  {
   "cell_type": "markdown",
   "id": "96a0f0d7",
   "metadata": {},
   "source": [
    "## Problema"
   ]
  },
  {
   "cell_type": "markdown",
   "id": "e9e8107f",
   "metadata": {
    "ExecuteTime": {
     "end_time": "2021-09-23T01:15:31.266217Z",
     "start_time": "2021-09-23T01:15:31.260904Z"
    }
   },
   "source": [
    "Considere um arquivo de entrada no formato CSV (comma separated values) com informações relativas a acidentes na aviação civil brasileira nos últimos 10 anos (arquivo anv.csv)\n",
    "\n",
    "As informações estão separadas pelo caracter separador ~ e entre “” (aspas) conforme o exemplo abaixo:\n",
    "\n",
    "```javascript\n",
    "\"201106142171203\"~\"PPGXE\"~\"AEROCLUBE\"~\"AVIÃO\"~\"NEIVA INDUSTRIA AERONAUTICA\"~\"56- C\"~\"PAUL\"~\"PISTÃO\"~\"MONOMOTOR\"~\"660\"~\"LEVE\"~\"2\"~\"1962\"~\"BRASIL\"~\"BRASIL\"~\"PRI\"~\" INSTRUÇÃO\"~\"SDPW\"~\"SDPW\"~\"INDETERMINADA\"~\"UNKNOWN\"~\"VOO DE INSTRUÇÃO\"~\"SUBSTANCIAL\"~\"0\"~\"2018-07-09“\n",
    "\n",
    "\"201707111402595\"~\"PPNCG\"~\"OPERADOR PARTICULAR\"~\"AVIÃO\"~\"PIPER AIRCRAFT\"~\"PA-46- 350P\"~\"PA46\"~\"TURBOÉLICE\"~\"MONOMOTOR\"~\"1950\"~\"LEVE\"~\"6\"~\"1990\"~\"NULL\"~\"BRASIL\"~\" TPP\"~\"PARTICULAR\"~\"SBBR\"~\"SBGR\"~\"POUSO\"~\"LANDING\"~\"VOO PRIVADO\"~\"NENHUM\"~\"0\"~\"2018-07-09\"'''\n",
    "```\n",
    "\n",
    "O arquivo é composto das seguintes colunas:\n",
    "1. codigo_ocorrencia\n",
    "2. aeronave_matricula\n",
    "3. aeronave_operador_categoria \n",
    "4. aeronave_tipo_veiculo\n",
    "5. aeronave_fabricante\n",
    "6. aeronave_modelo\n",
    "7. aeronave_tipo_icao\n",
    "8. aeronave_motor_tipo\n",
    "9. aeronave_motor_quantidade \n",
    "10. aeronave_pmd \n",
    "11. aeronave_pmd_categoria \n",
    "12. aeronave_assentos \n",
    "13. aeronave_ano_fabricacao\n",
    "14. aeronave_pais_fabricante \n",
    "15. aeronave_pais_registro \n",
    "16. aeronave_registro_categoria \n",
    "17. aeronave_registro_segmento \n",
    "18. aeronave_voo_origem \n",
    "19. aeronave_voo_destino \n",
    "20. aeronave_fase_operacao \n",
    "21. aeronave_fase_operacao_icao \n",
    "22. aeronave_tipo_operacao \n",
    "23. aeronave_nivel_dano \n",
    "24. total_fatalidades\n",
    "25. aeronave_dia_extracao\n",
    "\n",
    "Crie uma função que efetue a leitura do arquivo, sem a utilização de bibliotecas externas, e processe o arquivo produzindo dois novos arquivos.\n",
    "\n",
    "OBS: Efetuar apenas uma leitura do arquivo de entrada"
   ]
  },
  {
   "cell_type": "markdown",
   "id": "9faf2666",
   "metadata": {},
   "source": [
    "### Arquivo 1"
   ]
  },
  {
   "cell_type": "markdown",
   "id": "8dc0ccbe",
   "metadata": {},
   "source": [
    "O primeiro arquivo deve ter seu conteúdo em formato JSON, com o nome statistics.json, e deve possuir as as estatísticas: \n",
    "* fase de operação\n",
    "* número de total de ocorrências\n",
    "* percentual de quanto essa fase representa dentro de todos os dados\n",
    "\n",
    "\n",
    "Exemplo de como deve estar o arquivo:\n",
    "```json\n",
    "[\n",
    "  {\n",
    "    \"fase_operacao\": \"APROXIMAÇÃO FINAL\", \n",
    "    \"ocorrencias\": 234,\n",
    "    \"percentual\": \"4,51%\"\n",
    "  },\n",
    "  {\n",
    "    \"fase_operacao\": \"INDETERMINADA\", \n",
    "    \"ocorrencias\": 180,\n",
    "    \"percentual\": \"2,43%\"\n",
    "  },\n",
    "  {\n",
    "    \"fase_operacao\": \"MANOBRA\", \n",
    "    \"ocorrencias\": 80,\n",
    "    \"percentual\": \"0,95%\"\n",
    "  }\n",
    "]\n",
    "```"
   ]
  },
  {
   "cell_type": "markdown",
   "id": "91ef4f6a",
   "metadata": {},
   "source": [
    "### Arquivo 2"
   ]
  },
  {
   "cell_type": "markdown",
   "id": "8d54a202",
   "metadata": {},
   "source": [
    "Crie um arquivo de saida (formato CSV) com nome levels.csv contendo as seguintes informações:\n",
    "* operation -> aeronave_operador_categoria\n",
    "* type -> aeronave_tipo_veiculo\n",
    "* manufacturer -> aeronave_fabricante\n",
    "* engine_type aeronave_motor_tipo\n",
    "* engines -> aeronave_motor_quantidade\n",
    "* year_manufacturing -> aeronave_ano_fabricacao\n",
    "* seating -> aeronave_assentos\n",
    "* fatalities -> total_fatalidades\n",
    "\n",
    "Considerando apenas acidentes cujo nível de dano da aeronave tenha sido LEVE ou NENHUM (coluna aeronave_nivel_dano) e que o número de fatalidades (total_fatalidades) tenha sido superior à 0 (zero)"
   ]
  },
  {
   "cell_type": "markdown",
   "id": "111dc674",
   "metadata": {
    "ExecuteTime": {
     "end_time": "2021-09-23T01:18:10.271290Z",
     "start_time": "2021-09-23T01:18:10.267092Z"
    }
   },
   "source": [
    "## Análise"
   ]
  },
  {
   "cell_type": "markdown",
   "id": "e21d12c5",
   "metadata": {},
   "source": [
    "Receberemos um arquio de entrada no formato CSV, com o caractere separador ~ e entre “”.\n",
    "\n",
    "O arquivo possuí 25 colunas\n",
    "\n",
    "Devemos criar uma função que lê e processa o arquivo, sem a utilizaão de bibliotecas, e cria outros dois arquivos de saída.\n",
    "\n",
    "Temos que efetuar a leitura do arquivo uma única vez."
   ]
  },
  {
   "cell_type": "markdown",
   "id": "726b8569",
   "metadata": {},
   "source": [
    "## Implicações / Proposições / Afirmações"
   ]
  },
  {
   "cell_type": "markdown",
   "id": "77884643",
   "metadata": {},
   "source": [
    "* Receberemos um arquivo de entrada\n",
    "* O arquivo contém 10 anos de dados de acidentes de avição\n",
    "* O arquivo contém 25 colunas\n",
    "* O caractere separado do arquivo é `~` e `\"\"`\n",
    "* Devemos criar uma função que irá ler e precessar o arquivo de entrada\n",
    "* Devemos criar dois arquivo de saída: um `.json`, com o nome `statistics.json`; e outro arquivo `.csv` com o nome `levels.csv`\n",
    "* O arquivo `.json` deve ter um formato específico\n",
    "* O arquivo `.json` deve conter as seguintes informações:\n",
    "    * fase de operação\n",
    "    * número de total de ocorrências\n",
    "    * percentual de quanto essa fase representa dentro de todos os dados\n"
   ]
  },
  {
   "cell_type": "markdown",
   "id": "719448b9",
   "metadata": {},
   "source": [
    "## Resolução e Resposta"
   ]
  },
  {
   "cell_type": "code",
   "execution_count": 2,
   "id": "9dfcfbfc",
   "metadata": {
    "ExecuteTime": {
     "end_time": "2021-10-01T20:48:09.426087Z",
     "start_time": "2021-10-01T20:48:09.423319Z"
    }
   },
   "outputs": [],
   "source": [
    "# import das bibliotecas\n",
    "import csv\n",
    "import json"
   ]
  },
  {
   "cell_type": "code",
   "execution_count": 16,
   "id": "cdb7a2d1",
   "metadata": {
    "ExecuteTime": {
     "end_time": "2021-10-01T20:58:34.827932Z",
     "start_time": "2021-10-01T20:58:34.821205Z"
    }
   },
   "outputs": [],
   "source": [
    "# Função que irá processar o Arquivo\n",
    "def read_file(file_path):\n",
    "    \"\"\"Função que irá processar o arquivo de entrada para ajustar\n",
    "    as informações requisitadas de saída.\n",
    "    \n",
    "    Argumentos:\n",
    "    file_path -- Caminho do arquivo de entrada\n",
    "    \"\"\"\n",
    "    \n",
    "    # Estruturas que serão utilizadas para produzir as respostas\n",
    "    map_of_incidents = {} # Arquivo que produzirá a saída JSON\n",
    "    list_of_incidents = [] # Arquivo que produzirá a saída CSV\n",
    "    count = 0 # Variável utilizada para contarmos a quantidade de elementos\n",
    "    \n",
    "    # Abre e processa o arquivo\n",
    "    with open(file_path, 'r', encoding='utf-8') as f:\n",
    "        reader = csv.DictReader(f, delimiter='~', quotechar='\"')\n",
    "        \n",
    "        # Itera pelas linhas do arquivo para \n",
    "        for row in reader:\n",
    "            count += 1 \n",
    "            key = row['aeronave_fase_operacao']\n",
    "            \n",
    "            # Verifica se a chave ja existe no dicionário que será\n",
    "            # utilizado para escrever o arquivo JSON\n",
    "            \n",
    "            if key in map_of_incidents:\n",
    "                map_of_incidents[key] += 1 # Se existir, incrementa mais mais um acidente\n",
    "            else:\n",
    "                map_of_incidents[key] = 1 # Se não existir, cria a chave e adiciona um acidente\n",
    "                \n",
    "            # Verifica se o dano na aeronave foi leve ou nenhum E se as\n",
    "            # fatalidades foram maiores que zero\n",
    "            if ( \n",
    "                (row['aeronave_nivel_dano'] == 'LEVE' or row['aeronave_nivel_dano'] == 'NENHUM' ) and\n",
    "                (int(row['total_fatalidades']) > 0) \n",
    "            ):\n",
    "                # Se sim, adiciona as informações pertinentes na lista que \n",
    "                # será utilizada para escrever o arquivo CSV\n",
    "                list_of_incidents.append([row['aeronave_operador_categoria'],\n",
    "                                          row['aeronave_tipo_veiculo'],\n",
    "                                          row['aeronave_fabricante'],\n",
    "                                          row['aeronave_motor_tipo'],\n",
    "                                          row['aeronave_motor_quantidade'],\n",
    "                                          row['aeronave_ano_fabricacao'],\n",
    "                                          row['aeronave_assentos'],\n",
    "                                          row['total_fatalidades']])\n",
    "                \n",
    "    # Assim que juntarmos todas as informações, vamos criar os\n",
    "    # arquivos necessários\n",
    "    save_json(map_of_incidents, count)\n",
    "    save_csv(list_of_incidents)"
   ]
  },
  {
   "cell_type": "code",
   "execution_count": 17,
   "id": "054d1127",
   "metadata": {
    "ExecuteTime": {
     "end_time": "2021-10-01T21:00:59.103537Z",
     "start_time": "2021-10-01T21:00:59.099947Z"
    }
   },
   "outputs": [],
   "source": [
    "# Função que irá criar o arquivo JSON\n",
    "def save_json(data, count):\n",
    "    \"\"\"Função resposável por criar o arquivo JSON\n",
    "    \n",
    "    Argumentos:\n",
    "    data -- Dados que será escritos no arquivo\n",
    "    count -- Quantidade de acidentes registrados no arquivo de entrada\n",
    "    \"\"\"\n",
    "    \n",
    "    # Lista que será escrita dentro do arquivo JSON\n",
    "    array_of_incidents = []\n",
    "    \n",
    "    # Itera sobre o dicionário com os dados\n",
    "    for key, value in data.items():\n",
    "        array_of_incidents.append(\n",
    "            {\n",
    "                \"fase_operacao\": key,\n",
    "                \"ocorrencias\": value,\n",
    "                \"percentual\":  '{:.3%}'.format(value / count)\n",
    "            }\n",
    "        )\n",
    "    \n",
    "    # Cria o arquivo com os dados ajustados\n",
    "    with open('statistics.json', 'w', encoding='utf8') as outfile:\n",
    "        json.dump(array_of_incidents, outfile, ensure_ascii=False, indent=4) "
   ]
  },
  {
   "cell_type": "code",
   "execution_count": 18,
   "id": "bbb10e1d",
   "metadata": {
    "ExecuteTime": {
     "end_time": "2021-10-01T21:02:32.664238Z",
     "start_time": "2021-10-01T21:02:32.653378Z"
    }
   },
   "outputs": [],
   "source": [
    "# Função que irá criar o arquivo CSV\n",
    "def save_csv(data):\n",
    "    \"\"\"Função responsável por criar o arquivo .csv\n",
    "    \n",
    "    Argumentos\n",
    "    data -- dados que serão escritos no arquivo\n",
    "    \"\"\"\n",
    "    \n",
    "    # Cabeçalho do arquivo .csv\n",
    "    header = [\n",
    "        'operation',\n",
    "        'type',\n",
    "        'manufacturer',\n",
    "        'engine_type',\n",
    "        'engines',\n",
    "        'year_manufacturing',\n",
    "        'seating',\n",
    "        'fatalities'\n",
    "    ]\n",
    "    \n",
    "    # Cria o arquivo com os dados ajustados\n",
    "    with open('levels.csv', 'w', encoding='utf8', newline='') as outfile:\n",
    "        w = csv.writer(outfile)\n",
    "        w.writerow(header)\n",
    "        w.writerows(data)"
   ]
  },
  {
   "cell_type": "code",
   "execution_count": 19,
   "id": "83bcfd39",
   "metadata": {
    "ExecuteTime": {
     "end_time": "2021-10-01T21:02:34.115134Z",
     "start_time": "2021-10-01T21:02:34.081854Z"
    }
   },
   "outputs": [],
   "source": [
    "# Execução da Aplicação\n",
    "read_file('csv/anv.csv')"
   ]
  }
 ],
 "metadata": {
  "kernelspec": {
   "display_name": "Python 3 (ipykernel)",
   "language": "python",
   "name": "python3"
  },
  "language_info": {
   "codemirror_mode": {
    "name": "ipython",
    "version": 3
   },
   "file_extension": ".py",
   "mimetype": "text/x-python",
   "name": "python",
   "nbconvert_exporter": "python",
   "pygments_lexer": "ipython3",
   "version": "3.9.7"
  },
  "latex_envs": {
   "LaTeX_envs_menu_present": true,
   "autoclose": false,
   "autocomplete": true,
   "bibliofile": "biblio.bib",
   "cite_by": "apalike",
   "current_citInitial": 1,
   "eqLabelWithNumbers": true,
   "eqNumInitial": 1,
   "hotkeys": {
    "equation": "Ctrl-E",
    "itemize": "Ctrl-I"
   },
   "labels_anchors": false,
   "latex_user_defs": false,
   "report_style_numbering": false,
   "user_envs_cfg": false
  }
 },
 "nbformat": 4,
 "nbformat_minor": 5
}
