{
 "cells": [
  {
   "cell_type": "markdown",
   "id": "356cb35d",
   "metadata": {},
   "source": [
    "# Exercício 1.0"
   ]
  },
  {
   "cell_type": "markdown",
   "id": "96a0f0d7",
   "metadata": {},
   "source": [
    "## Problema"
   ]
  },
  {
   "cell_type": "markdown",
   "id": "e9e8107f",
   "metadata": {
    "ExecuteTime": {
     "end_time": "2021-09-23T01:15:31.266217Z",
     "start_time": "2021-09-23T01:15:31.260904Z"
    }
   },
   "source": [
    "Crie uma função que efetue a leitura do arquivo produzido no exemplo 1 (levels.csv) e mostre na tela as seguintes informações estatísticas:\n",
    "\n",
    "* Quantidade total de acidentes\n",
    "* Quantidade total de acidentes agrupados por tipo de aeronave (type)\n",
    "* Ano e fabricante da aeronave mais antiga (year_manufacturing, manufacturer)\n",
    "* Quantidade de assentos e tipo de motor da aeronave mais nova (seating, engine_type)\n",
    "* A quantidade de acidentes que ocorreram com aeronaves do tipo (type) HELICÓPTERO, cuja fabricação se deu após o ano 1997\n",
    "* A quantidade de acidentes que ocorreram com aeronaves do tipo (type) AVIÃO fabricadas (manufacturer) pela CESSNA AIRCRAFT"
   ]
  },
  {
   "cell_type": "markdown",
   "id": "111dc674",
   "metadata": {
    "ExecuteTime": {
     "end_time": "2021-09-23T01:18:10.271290Z",
     "start_time": "2021-09-23T01:18:10.267092Z"
    }
   },
   "source": [
    "## Análise"
   ]
  },
  {
   "cell_type": "markdown",
   "id": "e21d12c5",
   "metadata": {},
   "source": [
    "Receberemos um arquivo `.csv`, que devemos processar para mostrar as seguintes informações:\n",
    "\n",
    "* Quantidade total de acidentes\n",
    "* Quantidade total de acidentes agrupados por tipo de aeronave (type)\n",
    "* Ano e fabricante da aeronave mais antiga (year_manufacturing, manufacturer)\n",
    "* Quantidade de assentos e tipo de motor da aeronave mais nova (seating, engine_type)\n",
    "* A quantidade de acidentes que ocorreram com aeronaves do tipo (type) HELICÓPTERO, cuja fabricação se deu após o ano 1997\n",
    "* A quantidade de acidentes que ocorreram com aeronaves do tipo (type) AVIÃO fabricadas (manufacturer) pela CESSNA AIRCRAFT"
   ]
  },
  {
   "cell_type": "markdown",
   "id": "726b8569",
   "metadata": {},
   "source": [
    "## Implicações / Proposições / Afirmações"
   ]
  },
  {
   "cell_type": "markdown",
   "id": "77884643",
   "metadata": {},
   "source": [
    "* A aplicação deve receber um arquivo `.csv`\n",
    "* A aplicação deve ler e processar o arquivo\n",
    "* A aplicação deve responder as seguintes questões com a análise:\n",
    "    * Quantidade total de acidentes\n",
    "    * Quantidade total de acidentes agrupados por tipo de aeronave (type)\n",
    "    * Ano e fabricante da aeronave mais antiga (year_manufacturing, manufacturer)\n",
    "    * Quantidade de assentos e tipo de motor da aeronave mais nova (seating, engine_type)\n",
    "    * A quantidade de acidentes que ocorreram com aeronaves do tipo (type) HELICÓPTERO, cuja fabricação se deu após o ano 1997\n",
    "    * A quantidade de acidentes que ocorreram com aeronaves do tipo (type) AVIÃO fabricadas (manufacturer) pela CESSNA AIRCRAFT\n",
    "* A aplicação deve exibir essas informações em tela."
   ]
  },
  {
   "cell_type": "markdown",
   "id": "719448b9",
   "metadata": {},
   "source": [
    "## Resolução e Resposta"
   ]
  },
  {
   "cell_type": "code",
   "execution_count": 2,
   "id": "13a59a4f",
   "metadata": {
    "ExecuteTime": {
     "end_time": "2021-10-02T14:20:21.512110Z",
     "start_time": "2021-10-02T14:20:21.504848Z"
    }
   },
   "outputs": [],
   "source": [
    "# Resolução e Resposta Aqui\n",
    "\n",
    "# Import da Biblioteca\n",
    "import csv\n",
    "\n",
    "\n",
    "# Função que irá processar o arquivo\n",
    "def process_file(file_path):\n",
    "    \"\"\"Função que processará o arquivo e ajustará as informações\n",
    "    estatísticas requeridas\n",
    "    \n",
    "    Argumentos:\n",
    "    file_path -- Caminho do arquivo de entrada\n",
    "    \"\"\"\n",
    "    \n",
    "    # Variáveis resposta\n",
    "    count = 0\n",
    "    map_of_incidents = {}\n",
    "    count_heli_after_1997 = 0\n",
    "    count_aviao_cessna_aircraft = 0\n",
    "    \n",
    "    # Abertura do arquivo\n",
    "    with open(file_path, newline='', encoding='utf8') as csvfile:\n",
    "        reader = csv.DictReader(csvfile, delimiter=',')\n",
    "        \n",
    "        # Iteração nas linhas do arquivo\n",
    "        for row in reader:\n",
    "            \n",
    "            # Verifica se a variável contadora é zero.\n",
    "            # Se for, preencherá todas as variáveis de \n",
    "            # resposta com valores iniciais para comparação\n",
    "            # posterior\n",
    "            if count == 0:\n",
    "                oldest_year = int(row['year_manufacturing'])\n",
    "                oldest_manufacturer = row['manufacturer']\n",
    "                newest_year = int(row['year_manufacturing'])\n",
    "                newest_seating = row['seating']\n",
    "                newest_engine_type = row['engine_type']\n",
    "            \n",
    "            # Verifica se o ano de fabricação é menor que o ano registrado\n",
    "            # na variável resposta da aviação mais antiga\n",
    "            if int(row['year_manufacturing']) < oldest_year:\n",
    "                oldest_year = int(row['year_manufacturing'])\n",
    "                oldest_manufacturer = row['manufacturer']\n",
    "\n",
    "            # Verifica se o ano de fabricação é maior que o ano registrado\n",
    "            # na variável resposta da aviação mais nova\n",
    "            if int(row['year_manufacturing']) > newest_year:\n",
    "                newest_seating = row['seating']\n",
    "                newest_engine_type = row['engine_type']\n",
    "\n",
    "            # Verifica se a aeronave é um helicoptero e se o ano de fabricação\n",
    "            # é maior que 1997\n",
    "            if row['type'] == 'HELICÓPTERO' and int(row['year_manufacturing']) > 1997:\n",
    "                count_heli_after_1997 += 1\n",
    "\n",
    "            # Verifica se a aeronave é um avião e se o fabricante é a empresa\n",
    "            # CESSNA AIRCRAFT\n",
    "            if row['type'] == 'AVIÃO' and row['manufacturer'] == 'CESSNA AIRCRAFT':\n",
    "                count_aviao_cessna_aircraft += 1\n",
    "\n",
    "            # Incrementa a variável auxiliar contadora\n",
    "            count += 1\n",
    "            \n",
    "            # Incrementa mais um acidente para o tipo de aeronave caso ela ja\n",
    "            # exista. Caso ainda não existe, é adicionado esse tipo de aeronave\n",
    "            # na variável resposta\n",
    "            key = row['type']\n",
    "            if key in map_of_incidents:\n",
    "                map_of_incidents[key] += 1\n",
    "            else:\n",
    "                map_of_incidents[key] = 1\n",
    "\n",
    "        print(f'Quantidade total de acidentes: {count}')\n",
    "        print(f'Quantidade de acidentes por tipo: {map_of_incidents}')\n",
    "        print(f'Ano e fabricante da aeronave mais antiga: {oldest_year} {oldest_manufacturer}')\n",
    "        print(f'Quantidade de assentos e tipo de motor da aeronave mais nova: {newest_seating} assentos; {newest_engine_type}')\n",
    "        print(f'A quantidade de acidentes que ocorreram com aeronaves do tipo (type)HELICÓPTERO, cuja fabricação se deu após o ano 1997: {count_heli_after_1997}')\n",
    "        print(f'A quantidade de acidentes que ocorreram com aeronaves do tipo (type) AVIÃOfabricadas (manufacturer) pela CESSNA AIRCRAFT: {count_aviao_cessna_aircraft}')"
   ]
  },
  {
   "cell_type": "code",
   "execution_count": 3,
   "id": "7d7f9732",
   "metadata": {
    "ExecuteTime": {
     "end_time": "2021-10-02T14:20:22.197037Z",
     "start_time": "2021-10-02T14:20:22.185542Z"
    }
   },
   "outputs": [
    {
     "name": "stdout",
     "output_type": "stream",
     "text": [
      "Quantidade total de acidentes: 13\n",
      "Quantidade de acidentes por tipo: {'AVIÃO': 6, 'HELICÓPTERO': 5, 'ULTRALEVE': 2}\n",
      "Ano e fabricante da aeronave mais antiga: 1946 CESSNA AIRCRAFT\n",
      "Quantidade de assentos e tipo de motor da aeronave mais nova: 2 assentos; PISTÃO\n",
      "A quantidade de acidentes que ocorreram com aeronaves do tipo (type)HELICÓPTERO, cuja fabricação se deu após o ano 1997: 2\n",
      "A quantidade de acidentes que ocorreram com aeronaves do tipo (type) AVIÃOfabricadas (manufacturer) pela CESSNA AIRCRAFT: 2\n"
     ]
    }
   ],
   "source": [
    "process_file('csv/levels.csv')"
   ]
  }
 ],
 "metadata": {
  "kernelspec": {
   "display_name": "Python 3 (ipykernel)",
   "language": "python",
   "name": "python3"
  },
  "language_info": {
   "codemirror_mode": {
    "name": "ipython",
    "version": 3
   },
   "file_extension": ".py",
   "mimetype": "text/x-python",
   "name": "python",
   "nbconvert_exporter": "python",
   "pygments_lexer": "ipython3",
   "version": "3.9.9"
  },
  "latex_envs": {
   "LaTeX_envs_menu_present": true,
   "autoclose": false,
   "autocomplete": true,
   "bibliofile": "biblio.bib",
   "cite_by": "apalike",
   "current_citInitial": 1,
   "eqLabelWithNumbers": true,
   "eqNumInitial": 1,
   "hotkeys": {
    "equation": "Ctrl-E",
    "itemize": "Ctrl-I"
   },
   "labels_anchors": false,
   "latex_user_defs": false,
   "report_style_numbering": false,
   "user_envs_cfg": false
  }
 },
 "nbformat": 4,
 "nbformat_minor": 5
}
