{
 "cells": [
  {
   "cell_type": "markdown",
   "id": "f66f5ab2",
   "metadata": {
    "heading_collapsed": true
   },
   "source": [
    "# COMANDOS AUXILIARES"
   ]
  },
  {
   "cell_type": "markdown",
   "id": "6a0edcdf",
   "metadata": {
    "heading_collapsed": true,
    "hidden": true
   },
   "source": [
    "## Inserção de imagens"
   ]
  },
  {
   "cell_type": "code",
   "execution_count": 3,
   "id": "fa4c2e60",
   "metadata": {
    "ExecuteTime": {
     "end_time": "2021-12-15T14:32:29.290258Z",
     "start_time": "2021-12-15T14:32:29.287642Z"
    },
    "hidden": true
   },
   "outputs": [],
   "source": [
    "from IPython.display import Image"
   ]
  },
  {
   "cell_type": "markdown",
   "id": "01f00a92",
   "metadata": {},
   "source": [
    "# FUNÇÃO *ASSERT*"
   ]
  },
  {
   "cell_type": "markdown",
   "id": "adca92f6",
   "metadata": {},
   "source": [
    "A função *assert* é utilizada como mecânismo de teste unitário. Testes uniários são testes que realizamos em uma única parte do nosso código, como por exemplo uma função, métodos de uma classe, e assim por diante. \n",
    "\n",
    "Além disso, a função *assert* pode ser utilizada também para testar os parâmetros que recebemos em nossas funções, garantindo assim que eles são válidos e não farão com que nossas funções tenham comportamentos indesejados (*bugs*).\n",
    "\n",
    "Em sua utilização básica, testamos uma condição e, se essa condição for verdadeira, a aplicação continuará sua execução; caso a condição seja falsa, a função *assert* gerará um erro do tipo `AssertionError`."
   ]
  },
  {
   "cell_type": "markdown",
   "id": "25b1dd6c",
   "metadata": {},
   "source": [
    "## Declaração"
   ]
  },
  {
   "cell_type": "markdown",
   "id": "ca2664d8",
   "metadata": {},
   "source": [
    "Basicamente podemos utilizar a função *assert* de duas maneiras:\n",
    "* Declarando somente a função -- `assert <condição>`\n",
    "* Declarando a função e a mensagem de erro -- `assert <condição>[, <mensagem>]`"
   ]
  },
  {
   "cell_type": "code",
   "execution_count": 3,
   "id": "261c01cb",
   "metadata": {
    "ExecuteTime": {
     "end_time": "2021-12-01T23:26:24.483223Z",
     "start_time": "2021-12-01T23:26:24.478687Z"
    }
   },
   "outputs": [
    {
     "ename": "AssertionError",
     "evalue": "",
     "output_type": "error",
     "traceback": [
      "\u001b[0;31m---------------------------------------------------------------------------\u001b[0m",
      "\u001b[0;31mAssertionError\u001b[0m                            Traceback (most recent call last)",
      "\u001b[0;32m/tmp/ipykernel_13886/1662866028.py\u001b[0m in \u001b[0;36m<module>\u001b[0;34m\u001b[0m\n\u001b[1;32m      1\u001b[0m \u001b[0mx\u001b[0m \u001b[0;34m=\u001b[0m \u001b[0;36m10\u001b[0m\u001b[0;34m\u001b[0m\u001b[0;34m\u001b[0m\u001b[0m\n\u001b[0;32m----> 2\u001b[0;31m \u001b[0;32massert\u001b[0m \u001b[0mx\u001b[0m \u001b[0;34m<\u001b[0m \u001b[0;36m10\u001b[0m\u001b[0;34m\u001b[0m\u001b[0;34m\u001b[0m\u001b[0m\n\u001b[0m",
      "\u001b[0;31mAssertionError\u001b[0m: "
     ]
    }
   ],
   "source": [
    "x = 10\n",
    "assert x < 10"
   ]
  },
  {
   "cell_type": "code",
   "execution_count": 4,
   "id": "87db3143",
   "metadata": {
    "ExecuteTime": {
     "end_time": "2021-12-01T23:26:52.971415Z",
     "start_time": "2021-12-01T23:26:52.966530Z"
    }
   },
   "outputs": [
    {
     "ename": "AssertionError",
     "evalue": "a variável x só pode ser menor do que 10",
     "output_type": "error",
     "traceback": [
      "\u001b[0;31m---------------------------------------------------------------------------\u001b[0m",
      "\u001b[0;31mAssertionError\u001b[0m                            Traceback (most recent call last)",
      "\u001b[0;32m/tmp/ipykernel_13886/950204181.py\u001b[0m in \u001b[0;36m<module>\u001b[0;34m\u001b[0m\n\u001b[0;32m----> 1\u001b[0;31m \u001b[0;32massert\u001b[0m \u001b[0mx\u001b[0m \u001b[0;34m<\u001b[0m \u001b[0;36m10\u001b[0m\u001b[0;34m,\u001b[0m \u001b[0;34m'a variável x só pode ser menor do que 10'\u001b[0m\u001b[0;34m\u001b[0m\u001b[0;34m\u001b[0m\u001b[0m\n\u001b[0m",
      "\u001b[0;31mAssertionError\u001b[0m: a variável x só pode ser menor do que 10"
     ]
    }
   ],
   "source": [
    "assert x < 10, 'a variável x só pode ser menor do que 10'"
   ]
  },
  {
   "cell_type": "markdown",
   "id": "930c6f1d",
   "metadata": {},
   "source": [
    "## Exemplos de Testes Unitários"
   ]
  },
  {
   "cell_type": "markdown",
   "id": "1f8a604c",
   "metadata": {
    "ExecuteTime": {
     "end_time": "2021-10-02T18:55:55.279387Z",
     "start_time": "2021-10-02T18:55:55.276084Z"
    }
   },
   "source": [
    "Para exemplificar testes unitário, vamos rever o que seriam testes unitário. Testes unitários são testes realizado em unidades da nossa aplicação, ou partes unitárias, como funções ou classes. A principal função do teste unitário é garantir que essa unidade pequena da aplicação funciona corretamente.\n",
    "\n",
    "Dessa forma, vamos verificar a classe que criamos na aula anterior e realizar testes unitários nela utilizando a função `assert`:"
   ]
  },
  {
   "cell_type": "code",
   "execution_count": 4,
   "id": "b9045142",
   "metadata": {
    "ExecuteTime": {
     "end_time": "2021-12-15T14:32:34.874518Z",
     "start_time": "2021-12-15T14:32:34.868759Z"
    },
    "code_folding": []
   },
   "outputs": [],
   "source": [
    "# Definição da classe CountingClicker\n",
    "class CountingClicker:\n",
    "    \"\"\"Uma classe pode e deve ter uma Docstring\n",
    "    assim como uma função.\n",
    "    \n",
    "    A classe CountingClicker tem a função de manipular um contador\n",
    "    \"\"\"\n",
    "    \n",
    "    def __init__(self, count = 0):\n",
    "        \"\"\"Construtor da classe CountingClicker.\n",
    "        Criará o objeto com o valor inicial informado\n",
    "        \"\"\"\n",
    "        self.count = count\n",
    "        \n",
    "    def __repr__(self):\n",
    "        \"\"\"Representação do Objeto em um texto\"\"\"\n",
    "        return f'Objeto está com o contador com {self.count} cliques'\n",
    "    \n",
    "    def click(self, num_times = 1):\n",
    "        \"\"\"Méodo responsavel por incrementar o contador em n vezes(cliques)\"\"\"\n",
    "        self.count += num_times\n",
    "    \n",
    "    def read(self):\n",
    "        \"\"\"Método responsável por ler/recuperar o contador\"\"\"\n",
    "        return self.count\n",
    "    \n",
    "    def reset(self):\n",
    "        \"\"\"Método responsável por resetar o contador para zero\"\"\"\n",
    "        self.count = 0"
   ]
  },
  {
   "cell_type": "code",
   "execution_count": 5,
   "id": "1fe6b5f1",
   "metadata": {
    "ExecuteTime": {
     "end_time": "2021-12-15T14:32:36.387212Z",
     "start_time": "2021-12-15T14:32:36.378023Z"
    }
   },
   "outputs": [
    {
     "data": {
      "text/plain": [
       "Objeto está com o contador com 0 cliques"
      ]
     },
     "execution_count": 5,
     "metadata": {},
     "output_type": "execute_result"
    }
   ],
   "source": [
    "contador = CountingClicker()\n",
    "contador"
   ]
  },
  {
   "cell_type": "code",
   "execution_count": 8,
   "id": "252182db",
   "metadata": {
    "ExecuteTime": {
     "end_time": "2021-12-15T14:32:41.152693Z",
     "start_time": "2021-12-15T14:32:41.149122Z"
    }
   },
   "outputs": [
    {
     "data": {
      "text/plain": [
       "__main__.CountingClicker"
      ]
     },
     "execution_count": 8,
     "metadata": {},
     "output_type": "execute_result"
    }
   ],
   "source": [
    "type(contador)"
   ]
  },
  {
   "cell_type": "code",
   "execution_count": 8,
   "id": "6b68a47f",
   "metadata": {
    "ExecuteTime": {
     "end_time": "2021-12-01T23:31:39.656463Z",
     "start_time": "2021-12-01T23:31:39.653427Z"
    }
   },
   "outputs": [
    {
     "data": {
      "text/plain": [
       "Objeto está com o contador com 1 cliques"
      ]
     },
     "execution_count": 8,
     "metadata": {},
     "output_type": "execute_result"
    }
   ],
   "source": [
    "contador.click()\n",
    "contador"
   ]
  },
  {
   "cell_type": "code",
   "execution_count": 9,
   "id": "89f5856f",
   "metadata": {
    "ExecuteTime": {
     "end_time": "2021-12-01T23:31:58.711918Z",
     "start_time": "2021-12-01T23:31:58.708111Z"
    }
   },
   "outputs": [
    {
     "data": {
      "text/plain": [
       "Objeto está com o contador com 5 cliques"
      ]
     },
     "execution_count": 9,
     "metadata": {},
     "output_type": "execute_result"
    }
   ],
   "source": [
    "contador.click(4)\n",
    "contador"
   ]
  },
  {
   "cell_type": "code",
   "execution_count": 10,
   "id": "01065381",
   "metadata": {
    "ExecuteTime": {
     "end_time": "2021-12-01T23:32:15.672570Z",
     "start_time": "2021-12-01T23:32:15.669573Z"
    }
   },
   "outputs": [
    {
     "data": {
      "text/plain": [
       "5"
      ]
     },
     "execution_count": 10,
     "metadata": {},
     "output_type": "execute_result"
    }
   ],
   "source": [
    "contador.read()"
   ]
  },
  {
   "cell_type": "code",
   "execution_count": 11,
   "id": "b3cfab7b",
   "metadata": {
    "ExecuteTime": {
     "end_time": "2021-12-01T23:32:27.146881Z",
     "start_time": "2021-12-01T23:32:27.144242Z"
    }
   },
   "outputs": [
    {
     "data": {
      "text/plain": [
       "Objeto está com o contador com 0 cliques"
      ]
     },
     "execution_count": 11,
     "metadata": {},
     "output_type": "execute_result"
    }
   ],
   "source": [
    "contador.reset()\n",
    "contador"
   ]
  },
  {
   "cell_type": "code",
   "execution_count": null,
   "id": "3a70db2a",
   "metadata": {},
   "outputs": [],
   "source": []
  },
  {
   "cell_type": "code",
   "execution_count": 27,
   "id": "d47d591d",
   "metadata": {
    "ExecuteTime": {
     "end_time": "2021-12-01T23:38:25.450067Z",
     "start_time": "2021-12-01T23:38:25.448077Z"
    }
   },
   "outputs": [],
   "source": [
    "contador = CountingClicker()\n",
    "assert contador.read() == 0, 'O objeto recem criado deve ter o contador com o valor de zero (0)'"
   ]
  },
  {
   "cell_type": "code",
   "execution_count": 28,
   "id": "c3368834",
   "metadata": {
    "ExecuteTime": {
     "end_time": "2021-12-01T23:38:25.587719Z",
     "start_time": "2021-12-01T23:38:25.585121Z"
    }
   },
   "outputs": [
    {
     "data": {
      "text/plain": [
       "0"
      ]
     },
     "execution_count": 28,
     "metadata": {},
     "output_type": "execute_result"
    }
   ],
   "source": [
    "contador.read()"
   ]
  },
  {
   "cell_type": "code",
   "execution_count": 29,
   "id": "d1b9026a",
   "metadata": {
    "ExecuteTime": {
     "end_time": "2021-12-01T23:38:27.176987Z",
     "start_time": "2021-12-01T23:38:27.174818Z"
    }
   },
   "outputs": [],
   "source": [
    "assert isinstance(contador.read(), int), 'O valor do contador deve ser numerico e inteiro'"
   ]
  },
  {
   "cell_type": "code",
   "execution_count": null,
   "id": "8e7037cc",
   "metadata": {},
   "outputs": [],
   "source": []
  },
  {
   "cell_type": "code",
   "execution_count": null,
   "id": "60011732",
   "metadata": {},
   "outputs": [],
   "source": []
  },
  {
   "cell_type": "code",
   "execution_count": null,
   "id": "370c3752",
   "metadata": {},
   "outputs": [],
   "source": []
  },
  {
   "cell_type": "code",
   "execution_count": null,
   "id": "2c66e395",
   "metadata": {},
   "outputs": [],
   "source": []
  },
  {
   "cell_type": "code",
   "execution_count": null,
   "id": "e47cf813",
   "metadata": {},
   "outputs": [],
   "source": []
  },
  {
   "cell_type": "code",
   "execution_count": 23,
   "id": "394099e5",
   "metadata": {
    "ExecuteTime": {
     "end_time": "2021-10-02T19:06:43.597255Z",
     "start_time": "2021-10-02T19:06:43.587434Z"
    }
   },
   "outputs": [],
   "source": [
    "# Testando a inicialização do objeto com valor zero\n",
    "clicker = CountingClicker()\n",
    "assert clicker.read() == 0, f'Contador foi inicializado com um valor diferente de zero'\n",
    "\n",
    "# Testando a funcionalidade de clique\n",
    "clicker.click()\n",
    "assert clicker.read() == 1, f'Contador não executou a função de clique corretamente'\n",
    "\n",
    "# Testando a funcionalidade de reset\n",
    "clicker.reset()\n",
    "assert clicker.read() == 0, f'Contador não resetou corretamente'"
   ]
  },
  {
   "cell_type": "markdown",
   "id": "acc61613",
   "metadata": {},
   "source": [
    "Embora simplista, estes exemplos demonstram claramente como a utilização da função *assert* funciona.\n",
    "\n",
    "Vamos verificar como utilizar para testar o funcionamento de funções:"
   ]
  },
  {
   "cell_type": "code",
   "execution_count": 28,
   "id": "401de8d1",
   "metadata": {
    "ExecuteTime": {
     "end_time": "2021-10-02T19:13:01.162173Z",
     "start_time": "2021-10-02T19:13:01.159498Z"
    }
   },
   "outputs": [],
   "source": [
    "def calc_mean_(values):\n",
    "    \"\"\"Função responsável por calcular a média de valores de uma lista\"\"\"\n",
    "    return (sum(values) / len(values))"
   ]
  },
  {
   "cell_type": "code",
   "execution_count": 29,
   "id": "192f3ed3",
   "metadata": {
    "ExecuteTime": {
     "end_time": "2021-10-02T19:13:45.946985Z",
     "start_time": "2021-10-02T19:13:45.944439Z"
    }
   },
   "outputs": [],
   "source": [
    "values = [2, 3, 4, 5, 6] # Mean == 4\n",
    "assert calc_mean_(values) == 4, f'A média não foi calculada corretamente'"
   ]
  },
  {
   "cell_type": "code",
   "execution_count": 30,
   "id": "23a55364",
   "metadata": {
    "ExecuteTime": {
     "end_time": "2021-10-02T19:14:36.705897Z",
     "start_time": "2021-10-02T19:14:36.703868Z"
    }
   },
   "outputs": [],
   "source": [
    "values = [20, 35, 48, 54, 61] # Mean == 43,6\n",
    "assert calc_mean_(values) == 43.6, f'A média não foi calculada corretamente'"
   ]
  },
  {
   "cell_type": "markdown",
   "id": "dfaabd75",
   "metadata": {},
   "source": [
    "## Exemplos de Validação de Parâmetros"
   ]
  },
  {
   "cell_type": "markdown",
   "id": "4c886959",
   "metadata": {
    "ExecuteTime": {
     "end_time": "2021-10-02T15:23:21.350230Z",
     "start_time": "2021-10-02T15:23:21.347488Z"
    }
   },
   "source": [
    "Agora que ja vimos como testar funcionalidades das nossas funções e objetos, vamos verificar como podemos utilizar a função assert para validar nossos parâmetros.\n",
    "\n",
    "Vamos utilizar a função que acabamos de criar para exemplificar:"
   ]
  },
  {
   "cell_type": "code",
   "execution_count": 32,
   "id": "3c4b696a",
   "metadata": {
    "ExecuteTime": {
     "end_time": "2021-10-02T19:34:54.514527Z",
     "start_time": "2021-10-02T19:34:54.510647Z"
    }
   },
   "outputs": [],
   "source": [
    "def calc_mean_(values):\n",
    "    \"\"\"Função responsável por calcular a média de valores de uma lista\"\"\"\n",
    "    \n",
    "    # teste para recebermos parametros como listas ou tuplas\n",
    "    assert isinstance(values, (tuple, list)), f'O parâmetro precisa ser uma lista ou uma tupla'\n",
    "    \n",
    "    return (sum(values) / len(values))"
   ]
  },
  {
   "cell_type": "code",
   "execution_count": 33,
   "id": "d3085fd6",
   "metadata": {
    "ExecuteTime": {
     "end_time": "2021-10-02T19:35:12.435288Z",
     "start_time": "2021-10-02T19:35:12.427580Z"
    }
   },
   "outputs": [],
   "source": [
    "values = [2, 3, 4, 5, 6] # Mean == 4\n",
    "assert calc_mean_(values) == 4, f'A média não foi calculada corretamente'"
   ]
  },
  {
   "cell_type": "code",
   "execution_count": 34,
   "id": "65979097",
   "metadata": {
    "ExecuteTime": {
     "end_time": "2021-10-02T19:35:41.548586Z",
     "start_time": "2021-10-02T19:35:41.528454Z"
    }
   },
   "outputs": [
    {
     "ename": "AssertionError",
     "evalue": "O parâmetro precisa ser uma lista ou uma tupla",
     "output_type": "error",
     "traceback": [
      "\u001b[0;31m---------------------------------------------------------------------------\u001b[0m",
      "\u001b[0;31mAssertionError\u001b[0m                            Traceback (most recent call last)",
      "\u001b[0;32m/tmp/ipykernel_24105/1976842544.py\u001b[0m in \u001b[0;36m<module>\u001b[0;34m\u001b[0m\n\u001b[1;32m      1\u001b[0m \u001b[0mvalues\u001b[0m \u001b[0;34m=\u001b[0m \u001b[0;36m45\u001b[0m\u001b[0;34m\u001b[0m\u001b[0;34m\u001b[0m\u001b[0m\n\u001b[0;32m----> 2\u001b[0;31m \u001b[0;32massert\u001b[0m \u001b[0mcalc_mean_\u001b[0m\u001b[0;34m(\u001b[0m\u001b[0mvalues\u001b[0m\u001b[0;34m)\u001b[0m \u001b[0;34m==\u001b[0m \u001b[0;36m4\u001b[0m\u001b[0;34m,\u001b[0m \u001b[0;34mf'A média não foi calculada corretamente'\u001b[0m\u001b[0;34m\u001b[0m\u001b[0;34m\u001b[0m\u001b[0m\n\u001b[0m",
      "\u001b[0;32m/tmp/ipykernel_24105/707878707.py\u001b[0m in \u001b[0;36mcalc_mean_\u001b[0;34m(values)\u001b[0m\n\u001b[1;32m      3\u001b[0m \u001b[0;34m\u001b[0m\u001b[0m\n\u001b[1;32m      4\u001b[0m     \u001b[0;31m# teste para recebermos parametros como listas ou tuplas\u001b[0m\u001b[0;34m\u001b[0m\u001b[0;34m\u001b[0m\u001b[0;34m\u001b[0m\u001b[0m\n\u001b[0;32m----> 5\u001b[0;31m     \u001b[0;32massert\u001b[0m \u001b[0misinstance\u001b[0m\u001b[0;34m(\u001b[0m\u001b[0mvalues\u001b[0m\u001b[0;34m,\u001b[0m \u001b[0;34m(\u001b[0m\u001b[0mtuple\u001b[0m\u001b[0;34m,\u001b[0m \u001b[0mlist\u001b[0m\u001b[0;34m)\u001b[0m\u001b[0;34m)\u001b[0m\u001b[0;34m,\u001b[0m \u001b[0;34mf'O parâmetro precisa ser uma lista ou uma tupla'\u001b[0m\u001b[0;34m\u001b[0m\u001b[0;34m\u001b[0m\u001b[0m\n\u001b[0m\u001b[1;32m      6\u001b[0m \u001b[0;34m\u001b[0m\u001b[0m\n\u001b[1;32m      7\u001b[0m     \u001b[0;32mreturn\u001b[0m \u001b[0;34m(\u001b[0m\u001b[0msum\u001b[0m\u001b[0;34m(\u001b[0m\u001b[0mvalues\u001b[0m\u001b[0;34m)\u001b[0m \u001b[0;34m/\u001b[0m \u001b[0mlen\u001b[0m\u001b[0;34m(\u001b[0m\u001b[0mvalues\u001b[0m\u001b[0;34m)\u001b[0m\u001b[0;34m)\u001b[0m\u001b[0;34m\u001b[0m\u001b[0;34m\u001b[0m\u001b[0m\n",
      "\u001b[0;31mAssertionError\u001b[0m: O parâmetro precisa ser uma lista ou uma tupla"
     ]
    }
   ],
   "source": [
    "values = 45\n",
    "assert calc_mean_(values) == 4, f'A média não foi calculada corretamente'"
   ]
  },
  {
   "cell_type": "markdown",
   "id": "3f4714a5",
   "metadata": {
    "heading_collapsed": true
   },
   "source": [
    "## Resolução do Exemplo da Aula"
   ]
  },
  {
   "cell_type": "code",
   "execution_count": 52,
   "id": "cbdd2baa",
   "metadata": {
    "ExecuteTime": {
     "end_time": "2021-12-02T00:13:10.734770Z",
     "start_time": "2021-12-02T00:13:10.731033Z"
    },
    "hidden": true
   },
   "outputs": [],
   "source": [
    "class CountingClickerDesc:\n",
    "    \"\"\"A classe CountingClickerDesc tem a função de manipular um contador\n",
    "    de forma descrecente.\n",
    "    \"\"\"\n",
    "    \n",
    "    def __init__(self, count = 9999):\n",
    "        \"\"\"Construtor da classe CountingClicker.\n",
    "        Criará o objeto com o valor inicial informado\n",
    "        \"\"\"\n",
    "        self.count = count\n",
    "        \n",
    "    def __repr__(self):\n",
    "        \"\"\"Representação do Objeto em um texto\"\"\"\n",
    "        return f'Objeto está com o contador com {self.count} cliques'\n",
    "    \n",
    "    def click(self, num_times = 1):\n",
    "        \"\"\"Méodo responsavel por decrmentar o contador em n vezes(cliques)\"\"\"\n",
    "        self.count -= num_times\n",
    "    \n",
    "    def read(self):\n",
    "        \"\"\"Método responsável por ler/recuperar o contador\"\"\"\n",
    "        return self.count\n",
    "    \n",
    "    def reset(self):\n",
    "        \"\"\"Método responsável por resetar o contador para zero\"\"\"\n",
    "        self.count = 9999"
   ]
  },
  {
   "cell_type": "code",
   "execution_count": 47,
   "id": "9857ff97",
   "metadata": {
    "ExecuteTime": {
     "end_time": "2021-12-02T00:12:44.951266Z",
     "start_time": "2021-12-02T00:12:44.949356Z"
    },
    "hidden": true
   },
   "outputs": [],
   "source": [
    "contador = CountingClickerDesc()\n",
    "assert contador.read() == 9999, f'O objeto não foi criado com o contador em 9999 cliques'"
   ]
  },
  {
   "cell_type": "code",
   "execution_count": 48,
   "id": "28a7edba",
   "metadata": {
    "ExecuteTime": {
     "end_time": "2021-12-02T00:12:45.230400Z",
     "start_time": "2021-12-02T00:12:45.227856Z"
    },
    "hidden": true
   },
   "outputs": [
    {
     "data": {
      "text/plain": [
       "Objeto está com o contador com 9999 cliques"
      ]
     },
     "execution_count": 48,
     "metadata": {},
     "output_type": "execute_result"
    }
   ],
   "source": [
    "contador"
   ]
  },
  {
   "cell_type": "code",
   "execution_count": 49,
   "id": "3d1b08b6",
   "metadata": {
    "ExecuteTime": {
     "end_time": "2021-12-02T00:12:45.497145Z",
     "start_time": "2021-12-02T00:12:45.494519Z"
    },
    "hidden": true
   },
   "outputs": [],
   "source": [
    "contador.click(2)\n",
    "assert contador.read() == 9997, f'O objeto não está decrescendo corretamente'"
   ]
  },
  {
   "cell_type": "code",
   "execution_count": 50,
   "id": "ab7a8e4c",
   "metadata": {
    "ExecuteTime": {
     "end_time": "2021-12-02T00:12:54.170766Z",
     "start_time": "2021-12-02T00:12:54.168154Z"
    },
    "hidden": true
   },
   "outputs": [
    {
     "data": {
      "text/plain": [
       "Objeto está com o contador com 9997 cliques"
      ]
     },
     "execution_count": 50,
     "metadata": {},
     "output_type": "execute_result"
    }
   ],
   "source": [
    "contador"
   ]
  },
  {
   "cell_type": "code",
   "execution_count": 51,
   "id": "edb3dc0e",
   "metadata": {
    "ExecuteTime": {
     "end_time": "2021-12-02T00:12:59.681312Z",
     "start_time": "2021-12-02T00:12:59.673982Z"
    },
    "hidden": true
   },
   "outputs": [
    {
     "ename": "AssertionError",
     "evalue": "O objeto não está resetando corretamente",
     "output_type": "error",
     "traceback": [
      "\u001b[0;31m---------------------------------------------------------------------------\u001b[0m",
      "\u001b[0;31mAssertionError\u001b[0m                            Traceback (most recent call last)",
      "\u001b[0;32m/tmp/ipykernel_13886/2991661545.py\u001b[0m in \u001b[0;36m<module>\u001b[0;34m\u001b[0m\n\u001b[1;32m      1\u001b[0m \u001b[0mcontador\u001b[0m\u001b[0;34m.\u001b[0m\u001b[0mreset\u001b[0m\u001b[0;34m(\u001b[0m\u001b[0;34m)\u001b[0m\u001b[0;34m\u001b[0m\u001b[0;34m\u001b[0m\u001b[0m\n\u001b[0;32m----> 2\u001b[0;31m \u001b[0;32massert\u001b[0m \u001b[0mcontador\u001b[0m\u001b[0;34m.\u001b[0m\u001b[0mread\u001b[0m\u001b[0;34m(\u001b[0m\u001b[0;34m)\u001b[0m \u001b[0;34m==\u001b[0m \u001b[0;36m9999\u001b[0m\u001b[0;34m,\u001b[0m \u001b[0;34mf'O objeto não está resetando corretamente'\u001b[0m\u001b[0;34m\u001b[0m\u001b[0;34m\u001b[0m\u001b[0m\n\u001b[0m",
      "\u001b[0;31mAssertionError\u001b[0m: O objeto não está resetando corretamente"
     ]
    }
   ],
   "source": [
    "contador.reset()\n",
    "assert contador.read() == 9999, f'O objeto não está resetando corretamente'"
   ]
  },
  {
   "cell_type": "code",
   "execution_count": null,
   "id": "59f0ef79",
   "metadata": {
    "collapsed": true,
    "hidden": true
   },
   "outputs": [],
   "source": []
  },
  {
   "cell_type": "code",
   "execution_count": null,
   "id": "07c43eac",
   "metadata": {
    "hidden": true
   },
   "outputs": [],
   "source": []
  },
  {
   "cell_type": "code",
   "execution_count": null,
   "id": "3e10697c",
   "metadata": {
    "hidden": true
   },
   "outputs": [],
   "source": []
  },
  {
   "cell_type": "code",
   "execution_count": null,
   "id": "5e61f51a",
   "metadata": {
    "hidden": true
   },
   "outputs": [],
   "source": []
  },
  {
   "cell_type": "markdown",
   "id": "50624c4d",
   "metadata": {
    "hidden": true
   },
   "source": [
    "Imagine que o seu chefe chegasse com a seguinte situação para que você o ajudasse:\n",
    "\n",
    "“Seu colega de trabalho criou uma função contadora baseada na sua função contadora, porém a contagem dessa nova parte da aplicação é decrescente. Mas ela não está funcionando corretamente. Precisamos que você ajuste essa função e garanta que ela está funcionando corretamente.”\n",
    "\n",
    "Uma das maneiras que temos de ajustar isso é utilizando a função *assert*, tanto para garantir que os parâmetros da nossa classe como também as funcionalidades dela:"
   ]
  },
  {
   "cell_type": "code",
   "execution_count": 36,
   "id": "b4cbc173",
   "metadata": {
    "ExecuteTime": {
     "end_time": "2021-10-02T19:40:58.318257Z",
     "start_time": "2021-10-02T19:40:58.312591Z"
    },
    "hidden": true
   },
   "outputs": [],
   "source": [
    "# Definição da classe contadora do seu colega\n",
    "class CountingClickerDesc:\n",
    "    \"\"\"A classe CountingClickerDesc tem a função de manipular um contador\n",
    "    de forma descrecente.\n",
    "    \"\"\"\n",
    "    \n",
    "    def __init__(self, count = 9999):\n",
    "        \"\"\"Construtor da classe CountingClicker.\n",
    "        Criará o objeto com o valor inicial informado\n",
    "        \"\"\"\n",
    "        self.count = self\n",
    "        \n",
    "    def __repr__(self):\n",
    "        \"\"\"Representação do Objeto em um texto\"\"\"\n",
    "        return f'Objeto está com o contador com {self.count} cliques'\n",
    "    \n",
    "    def click(self, num_times = 1):\n",
    "        \"\"\"Méodo responsavel por decrmentar o contador em n vezes(cliques)\"\"\"\n",
    "        self.count += num_times\n",
    "    \n",
    "    def read(self):\n",
    "        \"\"\"Método responsável por ler/recuperar o contador\"\"\"\n",
    "        return self.count\n",
    "    \n",
    "    def reset(self):\n",
    "        \"\"\"Método responsável por resetar o contador para zero\"\"\"\n",
    "        self.count = 9999"
   ]
  },
  {
   "cell_type": "markdown",
   "id": "a7dfcb4d",
   "metadata": {
    "hidden": true
   },
   "source": [
    "Para iniciar, vamos primeiro testar como a classe está funcionando nesse momento:"
   ]
  },
  {
   "cell_type": "code",
   "execution_count": 37,
   "id": "b91b87c1",
   "metadata": {
    "ExecuteTime": {
     "end_time": "2021-10-02T19:41:46.558807Z",
     "start_time": "2021-10-02T19:41:46.554006Z"
    },
    "hidden": true
   },
   "outputs": [
    {
     "ename": "AssertionError",
     "evalue": "O contador não foi inicializado corretamente",
     "output_type": "error",
     "traceback": [
      "\u001b[0;31m---------------------------------------------------------------------------\u001b[0m",
      "\u001b[0;31mAssertionError\u001b[0m                            Traceback (most recent call last)",
      "\u001b[0;32m/tmp/ipykernel_24105/3046494175.py\u001b[0m in \u001b[0;36m<module>\u001b[0;34m\u001b[0m\n\u001b[1;32m      1\u001b[0m \u001b[0;31m# Criação do objeto com os valores padrão\u001b[0m\u001b[0;34m\u001b[0m\u001b[0;34m\u001b[0m\u001b[0;34m\u001b[0m\u001b[0m\n\u001b[1;32m      2\u001b[0m \u001b[0mclicker\u001b[0m \u001b[0;34m=\u001b[0m \u001b[0mCountingClickerDesc\u001b[0m\u001b[0;34m(\u001b[0m\u001b[0;34m)\u001b[0m\u001b[0;34m\u001b[0m\u001b[0;34m\u001b[0m\u001b[0m\n\u001b[0;32m----> 3\u001b[0;31m \u001b[0;32massert\u001b[0m \u001b[0mclicker\u001b[0m\u001b[0;34m.\u001b[0m\u001b[0mread\u001b[0m\u001b[0;34m(\u001b[0m\u001b[0;34m)\u001b[0m \u001b[0;34m==\u001b[0m \u001b[0;36m9999\u001b[0m\u001b[0;34m,\u001b[0m \u001b[0;34mf'O contador não foi inicializado corretamente'\u001b[0m\u001b[0;34m\u001b[0m\u001b[0;34m\u001b[0m\u001b[0m\n\u001b[0m",
      "\u001b[0;31mAssertionError\u001b[0m: O contador não foi inicializado corretamente"
     ]
    }
   ],
   "source": [
    "# Criação do objeto com os valores padrão\n",
    "clicker = CountingClickerDesc()\n",
    "assert clicker.read() == 9999, f'O contador não foi inicializado corretamente'"
   ]
  },
  {
   "cell_type": "markdown",
   "id": "0280ade2",
   "metadata": {
    "hidden": true
   },
   "source": [
    "Ja conseguimos notar que o contador não foi inicializado corretamente. Dessa forma, temos que rever o método **contrutor**, que é o método `__init__` da nossa classe.\n",
    "\n",
    "Se observarmos, a declaração `self.count = self` está incorreta, deveria ser `self.count = count`. \n",
    "\n",
    "Ajustando isso e testando novamente, temos o seguinte resultado:"
   ]
  },
  {
   "cell_type": "code",
   "execution_count": 38,
   "id": "48d082d1",
   "metadata": {
    "ExecuteTime": {
     "end_time": "2021-10-02T19:44:01.517213Z",
     "start_time": "2021-10-02T19:44:01.514230Z"
    },
    "hidden": true
   },
   "outputs": [],
   "source": [
    "# Definição da classe contadora do seu colega\n",
    "class CountingClickerDesc:\n",
    "    \"\"\"A classe CountingClickerDesc tem a função de manipular um contador\n",
    "    de forma descrecente.\n",
    "    \"\"\"\n",
    "    \n",
    "    def __init__(self, count = 9999):\n",
    "        \"\"\"Construtor da classe CountingClicker.\n",
    "        Criará o objeto com o valor inicial informado\n",
    "        \"\"\"\n",
    "        self.count = count\n",
    "        \n",
    "    def __repr__(self):\n",
    "        \"\"\"Representação do Objeto em um texto\"\"\"\n",
    "        return f'Objeto está com o contador com {self.count} cliques'\n",
    "    \n",
    "    def click(self, num_times = 1):\n",
    "        \"\"\"Méodo responsavel por decrmentar o contador em n vezes(cliques)\"\"\"\n",
    "        self.count += num_times\n",
    "    \n",
    "    def read(self):\n",
    "        \"\"\"Método responsável por ler/recuperar o contador\"\"\"\n",
    "        return self.count\n",
    "    \n",
    "    def reset(self):\n",
    "        \"\"\"Método responsável por resetar o contador para zero\"\"\"\n",
    "        self.count = 9999"
   ]
  },
  {
   "cell_type": "code",
   "execution_count": 39,
   "id": "8f87c624",
   "metadata": {
    "ExecuteTime": {
     "end_time": "2021-10-02T19:44:06.879822Z",
     "start_time": "2021-10-02T19:44:06.872315Z"
    },
    "hidden": true
   },
   "outputs": [],
   "source": [
    "# Criação do objeto com os valores padrão\n",
    "clicker = CountingClickerDesc()\n",
    "assert clicker.read() == 9999, f'O contador não foi inicializado corretamente'"
   ]
  },
  {
   "cell_type": "markdown",
   "id": "b26933a3",
   "metadata": {
    "hidden": true
   },
   "source": [
    "Agora que ajustamos nosso **construtor**, vamos criar uma regra para validar nosso parâmetro, fazendo com que ele seja somente do tipo inteiro:"
   ]
  },
  {
   "cell_type": "code",
   "execution_count": 40,
   "id": "09021d6d",
   "metadata": {
    "ExecuteTime": {
     "end_time": "2021-10-02T19:46:12.878159Z",
     "start_time": "2021-10-02T19:46:12.872693Z"
    },
    "hidden": true
   },
   "outputs": [],
   "source": [
    "# Definição da classe contadora do seu colega\n",
    "class CountingClickerDesc:\n",
    "    \"\"\"A classe CountingClickerDesc tem a função de manipular um contador\n",
    "    de forma descrecente.\n",
    "    \"\"\"\n",
    "    \n",
    "    def __init__(self, count = 9999):\n",
    "        \"\"\"Construtor da classe CountingClicker.\n",
    "        Criará o objeto com o valor inicial informado\n",
    "        \"\"\"\n",
    "        assert isinstance(count, int), f'O parâmetro de entrada recisa ser um valor inteiro'\n",
    "        self.count = count\n",
    "        \n",
    "    def __repr__(self):\n",
    "        \"\"\"Representação do Objeto em um texto\"\"\"\n",
    "        return f'Objeto está com o contador com {self.count} cliques'\n",
    "    \n",
    "    def click(self, num_times = 1):\n",
    "        \"\"\"Méodo responsavel por decrmentar o contador em n vezes(cliques)\"\"\"\n",
    "        self.count += num_times\n",
    "    \n",
    "    def read(self):\n",
    "        \"\"\"Método responsável por ler/recuperar o contador\"\"\"\n",
    "        return self.count\n",
    "    \n",
    "    def reset(self):\n",
    "        \"\"\"Método responsável por resetar o contador para zero\"\"\"\n",
    "        self.count = 9999"
   ]
  },
  {
   "cell_type": "markdown",
   "id": "6c60b5e6",
   "metadata": {
    "hidden": true
   },
   "source": [
    "Com esse ajuste, estamos garantindo que o valor inicial passado para o nosso **construtor** seja um valor inteiro!"
   ]
  },
  {
   "cell_type": "code",
   "execution_count": 41,
   "id": "630b43c7",
   "metadata": {
    "ExecuteTime": {
     "end_time": "2021-10-02T19:47:37.908805Z",
     "start_time": "2021-10-02T19:47:37.900322Z"
    },
    "hidden": true
   },
   "outputs": [
    {
     "ename": "AssertionError",
     "evalue": "O parâmetro de entrada recisa ser um valor inteiro",
     "output_type": "error",
     "traceback": [
      "\u001b[0;31m---------------------------------------------------------------------------\u001b[0m",
      "\u001b[0;31mAssertionError\u001b[0m                            Traceback (most recent call last)",
      "\u001b[0;32m/tmp/ipykernel_24105/4291803975.py\u001b[0m in \u001b[0;36m<module>\u001b[0;34m\u001b[0m\n\u001b[1;32m      1\u001b[0m \u001b[0;31m# Criação do objeto com um valor diferente de um valor inteiro\u001b[0m\u001b[0;34m\u001b[0m\u001b[0;34m\u001b[0m\u001b[0;34m\u001b[0m\u001b[0m\n\u001b[0;32m----> 2\u001b[0;31m \u001b[0mclicker\u001b[0m \u001b[0;34m=\u001b[0m \u001b[0mCountingClickerDesc\u001b[0m\u001b[0;34m(\u001b[0m\u001b[0;34m'Pedro'\u001b[0m\u001b[0;34m)\u001b[0m\u001b[0;34m\u001b[0m\u001b[0;34m\u001b[0m\u001b[0m\n\u001b[0m\u001b[1;32m      3\u001b[0m \u001b[0;32massert\u001b[0m \u001b[0mclicker\u001b[0m\u001b[0;34m.\u001b[0m\u001b[0mread\u001b[0m\u001b[0;34m(\u001b[0m\u001b[0;34m)\u001b[0m \u001b[0;34m==\u001b[0m \u001b[0;36m9999\u001b[0m\u001b[0;34m,\u001b[0m \u001b[0;34mf'O contador não foi inicializado corretamente'\u001b[0m\u001b[0;34m\u001b[0m\u001b[0;34m\u001b[0m\u001b[0m\n",
      "\u001b[0;32m/tmp/ipykernel_24105/4042649445.py\u001b[0m in \u001b[0;36m__init__\u001b[0;34m(self, count)\u001b[0m\n\u001b[1;32m      9\u001b[0m         \u001b[0mCriará\u001b[0m \u001b[0mo\u001b[0m \u001b[0mobjeto\u001b[0m \u001b[0mcom\u001b[0m \u001b[0mo\u001b[0m \u001b[0mvalor\u001b[0m \u001b[0minicial\u001b[0m \u001b[0minformado\u001b[0m\u001b[0;34m\u001b[0m\u001b[0;34m\u001b[0m\u001b[0m\n\u001b[1;32m     10\u001b[0m         \"\"\"\n\u001b[0;32m---> 11\u001b[0;31m         \u001b[0;32massert\u001b[0m \u001b[0misinstance\u001b[0m\u001b[0;34m(\u001b[0m\u001b[0mcount\u001b[0m\u001b[0;34m,\u001b[0m \u001b[0mint\u001b[0m\u001b[0;34m)\u001b[0m\u001b[0;34m,\u001b[0m \u001b[0;34mf'O parâmetro de entrada recisa ser um valor inteiro'\u001b[0m\u001b[0;34m\u001b[0m\u001b[0;34m\u001b[0m\u001b[0m\n\u001b[0m\u001b[1;32m     12\u001b[0m         \u001b[0mself\u001b[0m\u001b[0;34m.\u001b[0m\u001b[0mcount\u001b[0m \u001b[0;34m=\u001b[0m \u001b[0mcount\u001b[0m\u001b[0;34m\u001b[0m\u001b[0;34m\u001b[0m\u001b[0m\n\u001b[1;32m     13\u001b[0m \u001b[0;34m\u001b[0m\u001b[0m\n",
      "\u001b[0;31mAssertionError\u001b[0m: O parâmetro de entrada recisa ser um valor inteiro"
     ]
    }
   ],
   "source": [
    "# Criação do objeto com um valor diferente de um valor inteiro\n",
    "clicker = CountingClickerDesc('Pedro')\n",
    "assert clicker.read() == 9999, f'O contador não foi inicializado corretamente'"
   ]
  },
  {
   "cell_type": "markdown",
   "id": "fc9a11e5",
   "metadata": {
    "hidden": true
   },
   "source": [
    "Agora que ja ajustamos isso, vamos verificar como está o comportamento do método que decrementa o contador:"
   ]
  },
  {
   "cell_type": "code",
   "execution_count": 42,
   "id": "f1b650d0",
   "metadata": {
    "ExecuteTime": {
     "end_time": "2021-10-02T19:49:48.104885Z",
     "start_time": "2021-10-02T19:49:48.099766Z"
    },
    "hidden": true
   },
   "outputs": [
    {
     "ename": "AssertionError",
     "evalue": "O Método de click() não está funcionando corretamente",
     "output_type": "error",
     "traceback": [
      "\u001b[0;31m---------------------------------------------------------------------------\u001b[0m",
      "\u001b[0;31mAssertionError\u001b[0m                            Traceback (most recent call last)",
      "\u001b[0;32m/tmp/ipykernel_24105/1867934660.py\u001b[0m in \u001b[0;36m<module>\u001b[0;34m\u001b[0m\n\u001b[1;32m      4\u001b[0m \u001b[0;31m# executando o método de click do objeto\u001b[0m\u001b[0;34m\u001b[0m\u001b[0;34m\u001b[0m\u001b[0;34m\u001b[0m\u001b[0m\n\u001b[1;32m      5\u001b[0m \u001b[0mclicker\u001b[0m\u001b[0;34m.\u001b[0m\u001b[0mclick\u001b[0m\u001b[0;34m(\u001b[0m\u001b[0;34m)\u001b[0m\u001b[0;34m\u001b[0m\u001b[0;34m\u001b[0m\u001b[0m\n\u001b[0;32m----> 6\u001b[0;31m \u001b[0;32massert\u001b[0m \u001b[0mclicker\u001b[0m\u001b[0;34m.\u001b[0m\u001b[0mread\u001b[0m\u001b[0;34m(\u001b[0m\u001b[0;34m)\u001b[0m \u001b[0;34m==\u001b[0m \u001b[0;36m9998\u001b[0m\u001b[0;34m,\u001b[0m \u001b[0;34mf'O Método de click() não está funcionando corretamente'\u001b[0m\u001b[0;34m\u001b[0m\u001b[0;34m\u001b[0m\u001b[0m\n\u001b[0m",
      "\u001b[0;31mAssertionError\u001b[0m: O Método de click() não está funcionando corretamente"
     ]
    }
   ],
   "source": [
    "# Criação do objeto com o valor padrão\n",
    "clicker = CountingClickerDesc()\n",
    "\n",
    "# executando o método de click do objeto\n",
    "clicker.click()\n",
    "assert clicker.read() == 9998, f'O Método de click() não está funcionando corretamente'"
   ]
  },
  {
   "cell_type": "markdown",
   "id": "4d50dfd9",
   "metadata": {
    "hidden": true
   },
   "source": [
    "Agora identificamos que o método de clique não está funcionando corretamente. Vamos ajustá-lo.\n",
    "\n",
    "Se observarmos, o erro está na declaração `self.count += num_times`. Precismos que esse método subtraia o valor dos cliques, e não incremente eles. Realizando esse ajuste, temos:"
   ]
  },
  {
   "cell_type": "code",
   "execution_count": 43,
   "id": "49b64d56",
   "metadata": {
    "ExecuteTime": {
     "end_time": "2021-10-02T19:51:40.249242Z",
     "start_time": "2021-10-02T19:51:40.244100Z"
    },
    "hidden": true
   },
   "outputs": [],
   "source": [
    "# Definição da classe contadora do seu colega\n",
    "class CountingClickerDesc:\n",
    "    \"\"\"A classe CountingClickerDesc tem a função de manipular um contador\n",
    "    de forma descrecente.\n",
    "    \"\"\"\n",
    "    \n",
    "    def __init__(self, count = 9999):\n",
    "        \"\"\"Construtor da classe CountingClicker.\n",
    "        Criará o objeto com o valor inicial informado\n",
    "        \"\"\"\n",
    "        assert isinstance(count, int), f'O parâmetro de entrada recisa ser um valor inteiro'\n",
    "        self.count = count\n",
    "        \n",
    "    def __repr__(self):\n",
    "        \"\"\"Representação do Objeto em um texto\"\"\"\n",
    "        return f'Objeto está com o contador com {self.count} cliques'\n",
    "    \n",
    "    def click(self, num_times = 1):\n",
    "        \"\"\"Méodo responsavel por decrmentar o contador em n vezes(cliques)\"\"\"\n",
    "        self.count -= num_times\n",
    "    \n",
    "    def read(self):\n",
    "        \"\"\"Método responsável por ler/recuperar o contador\"\"\"\n",
    "        return self.count\n",
    "    \n",
    "    def reset(self):\n",
    "        \"\"\"Método responsável por resetar o contador para zero\"\"\"\n",
    "        self.count = 9999"
   ]
  },
  {
   "cell_type": "code",
   "execution_count": 46,
   "id": "ea0a7bf8",
   "metadata": {
    "ExecuteTime": {
     "end_time": "2021-10-02T19:52:03.831558Z",
     "start_time": "2021-10-02T19:52:03.828769Z"
    },
    "hidden": true
   },
   "outputs": [],
   "source": [
    "# Criação do objeto com o valor padrão\n",
    "clicker = CountingClickerDesc()\n",
    "\n",
    "# executando o método de click do objeto\n",
    "clicker.click()\n",
    "assert clicker.read() == 9998, f'O Método de click() não está funcionando corretamente'\n",
    "\n",
    "# executando o método de click do objeto\n",
    "clicker.click(10)\n",
    "assert clicker.read() == 9988, f'O Método de click() não está funcionando corretamente'"
   ]
  },
  {
   "cell_type": "markdown",
   "id": "153c8f32",
   "metadata": {
    "hidden": true
   },
   "source": [
    "Por fim, se testarmos a função de `reset()` da nossa classe, veremos que ela está funcionando corretamente e que não precisamos ajustá-la."
   ]
  },
  {
   "cell_type": "code",
   "execution_count": 47,
   "id": "8f3649f5",
   "metadata": {
    "ExecuteTime": {
     "end_time": "2021-10-02T19:53:17.006186Z",
     "start_time": "2021-10-02T19:53:17.001534Z"
    },
    "hidden": true
   },
   "outputs": [],
   "source": [
    "# executando o método de reset do objeto\n",
    "clicker.reset()\n",
    "assert clicker.read() == 9999, f'O Método de reset() não está funcionando corretamente'"
   ]
  },
  {
   "cell_type": "markdown",
   "id": "56cceb0e",
   "metadata": {},
   "source": [
    "# FUNÇÃO *TRY .. EXCEPT*"
   ]
  },
  {
   "cell_type": "markdown",
   "id": "8a88b6c8",
   "metadata": {},
   "source": [
    "A função `try .. except` é muito utilizando quando desejamos testar um determinado bloco de código e, caso ocorra algum tipo de erro nesse bloco, nós possamos tratar esse erro sem que a aplicação chegue a parar.\n",
    "\n",
    "Utilizando a função `try .. except`, conseguimos verificar vários tipos de situações e garantir que nossa aplicação funcione corretamente e ainda tratar os possívieis erros individualmente, sejam eles erros de digitação ou erros de utilização de funções ou objetos, como também podemos tratar vários tipos de erros ao mesmo tempo."
   ]
  },
  {
   "cell_type": "code",
   "execution_count": 49,
   "id": "36f9aacc",
   "metadata": {
    "ExecuteTime": {
     "end_time": "2021-10-02T20:25:02.527046Z",
     "start_time": "2021-10-02T20:25:02.520358Z"
    },
    "hide_input": true
   },
   "outputs": [
    {
     "data": {
      "image/png": "[encoded data removed]",
      "text/plain": [
       "<IPython.core.display.Image object>"
      ]
     },
     "execution_count": 49,
     "metadata": {},
     "output_type": "execute_result"
    }
   ],
   "source": [
    "Image('img/try.png')"
   ]
  },
  {
   "cell_type": "markdown",
   "id": "f475be79",
   "metadata": {},
   "source": [
    "Fonte: https://www.learnbyexample.org/wp-content/uploads/python/Python-Exception-try-except-else-finally-Syntax.png"
   ]
  },
  {
   "cell_type": "markdown",
   "id": "adaf9d81",
   "metadata": {},
   "source": [
    "Como podemos observar na imagem acima, a função `try .. except` possuí outras cláusulas, como o `else` e o `finally`. Esse blocos são opcionais e devem ser utilizados quando necessário.\n",
    "\n",
    "A função `try .. except` funciona da seguinte maneira:\n",
    "* O Bloco `try` é executado.\n",
    "* Caso haja algum erro na execução desse bloco, o bloco `except` entrará em ação e verificará se a erro possuí uma exceção definida. Se houver, a aplicação executará essa exceção. Caso não haja, a aplicação executará o bloco `except` principal (geralmente sem nenhuma exceção cadastrada).\n",
    "* Após isso, caso algum bloco `except` tenha sido executado, a aplicação então executará o bloco `else`\n",
    "* O bloco `finally` **sempre** será executado, independente de o bloco `try` ou o `except` ter sido executado."
   ]
  },
  {
   "cell_type": "markdown",
   "id": "bbc1a454",
   "metadata": {
    "heading_collapsed": true
   },
   "source": [
    "## Declaração"
   ]
  },
  {
   "cell_type": "code",
   "execution_count": null,
   "id": "aa184bcf",
   "metadata": {
    "hidden": true
   },
   "outputs": [],
   "source": [
    "try:\n",
    "    # Código sensível\n",
    "except:\n",
    "    # O que eu quero que seja executado\n",
    "    # Caso o código sensivel de pau"
   ]
  },
  {
   "cell_type": "code",
   "execution_count": null,
   "id": "5f015085",
   "metadata": {
    "hidden": true
   },
   "outputs": [],
   "source": []
  },
  {
   "cell_type": "code",
   "execution_count": null,
   "id": "281a287d",
   "metadata": {
    "hidden": true
   },
   "outputs": [],
   "source": []
  },
  {
   "cell_type": "code",
   "execution_count": null,
   "id": "6c832155",
   "metadata": {
    "hidden": true
   },
   "outputs": [],
   "source": []
  },
  {
   "cell_type": "markdown",
   "id": "194d6824",
   "metadata": {
    "hidden": true
   },
   "source": [
    "A forma mais simples de trabalharmos com a função `try .. except` é da seguinte maneira:"
   ]
  },
  {
   "cell_type": "code",
   "execution_count": 55,
   "id": "6b6cbdbf",
   "metadata": {
    "ExecuteTime": {
     "end_time": "2021-12-02T00:22:03.525022Z",
     "start_time": "2021-12-02T00:22:03.522339Z"
    },
    "hidden": true
   },
   "outputs": [
    {
     "name": "stdout",
     "output_type": "stream",
     "text": [
      "Opa! Deu algum erro na divisão\n"
     ]
    }
   ],
   "source": [
    "try:\n",
    "    # Dentro da cláusula try colocamos todo o bloco de\n",
    "    # código que desejamos que seja executado.\n",
    "    soma = 2 / 0 \n",
    "    print(f'O valor da divisão é {soma}')\n",
    "except:\n",
    "    # Dentro da cláusula except colocamos todo o bloco\n",
    "    # de código que desejamos que seja executado caso\n",
    "    # haja algum tipo de erro no bloc try\n",
    "    print(f'Opa! Deu algum erro na divisão')"
   ]
  },
  {
   "cell_type": "markdown",
   "id": "2492bfac",
   "metadata": {},
   "source": [
    "## Exemplo de funcionamento"
   ]
  },
  {
   "cell_type": "code",
   "execution_count": 1,
   "id": "d6673cb2",
   "metadata": {
    "ExecuteTime": {
     "end_time": "2021-12-15T22:05:08.573828Z",
     "start_time": "2021-12-15T22:05:08.570663Z"
    }
   },
   "outputs": [],
   "source": [
    "# Valores pra teste\n",
    "valores = [1, 2, 3, '4', 5, 'Pedro', 6.6, [1, 2, 3], 0]\n",
    "soma = 0\n",
    "\n",
    "# Biblioteca sys será utilizada para recuparar\n",
    "# qual exceção ocorreu\n",
    "import sys"
   ]
  },
  {
   "cell_type": "code",
   "execution_count": 25,
   "id": "ab4b012c",
   "metadata": {
    "ExecuteTime": {
     "end_time": "2021-12-15T23:47:14.103764Z",
     "start_time": "2021-12-15T23:47:14.094745Z"
    }
   },
   "outputs": [
    {
     "name": "stdout",
     "output_type": "stream",
     "text": [
      "O valor atual é 1\n",
      "Toda vez que algum bloco except NÃO for executado, iremos adcionar um separador.\n",
      "--------------------------------------------------------------------------------\n",
      "\n",
      "=.=.=.=.=.=.=.=.=.=.=.=.=.=.=.=.=.=.=.=.=.=.=.=.=.=.=.=.=.=.=.=.=.=.=.=\n",
      "Esse bloco sempre será executado! Vamos adidionar outro separador.\n",
      "=.=.=.=.=.=.=.=.=.=.=.=.=.=.=.=.=.=.=.=.=.=.=.=.=.=.=.=.=.=.=.=.=.=.=.=\n",
      "\n",
      "O valor atual é 2\n",
      "Toda vez que algum bloco except NÃO for executado, iremos adcionar um separador.\n",
      "--------------------------------------------------------------------------------\n",
      "\n",
      "=.=.=.=.=.=.=.=.=.=.=.=.=.=.=.=.=.=.=.=.=.=.=.=.=.=.=.=.=.=.=.=.=.=.=.=\n",
      "Esse bloco sempre será executado! Vamos adidionar outro separador.\n",
      "=.=.=.=.=.=.=.=.=.=.=.=.=.=.=.=.=.=.=.=.=.=.=.=.=.=.=.=.=.=.=.=.=.=.=.=\n",
      "\n",
      "O valor atual é 3\n",
      "Toda vez que algum bloco except NÃO for executado, iremos adcionar um separador.\n",
      "--------------------------------------------------------------------------------\n",
      "\n",
      "=.=.=.=.=.=.=.=.=.=.=.=.=.=.=.=.=.=.=.=.=.=.=.=.=.=.=.=.=.=.=.=.=.=.=.=\n",
      "Esse bloco sempre será executado! Vamos adidionar outro separador.\n",
      "=.=.=.=.=.=.=.=.=.=.=.=.=.=.=.=.=.=.=.=.=.=.=.=.=.=.=.=.=.=.=.=.=.=.=.=\n",
      "\n",
      "O valor atual é 4\n",
      "Errou! Estamos tratando Exceções em conjunto. A exceção <class 'TypeError'> aconteceu. \n",
      "Motivo: unsupported operand type(s) for +: 'float' and 'str'\n",
      "Próxima entrada...\n",
      "\n",
      "=.=.=.=.=.=.=.=.=.=.=.=.=.=.=.=.=.=.=.=.=.=.=.=.=.=.=.=.=.=.=.=.=.=.=.=\n",
      "Esse bloco sempre será executado! Vamos adidionar outro separador.\n",
      "=.=.=.=.=.=.=.=.=.=.=.=.=.=.=.=.=.=.=.=.=.=.=.=.=.=.=.=.=.=.=.=.=.=.=.=\n",
      "\n",
      "O valor atual é 5\n",
      "Toda vez que algum bloco except NÃO for executado, iremos adcionar um separador.\n",
      "--------------------------------------------------------------------------------\n",
      "\n",
      "=.=.=.=.=.=.=.=.=.=.=.=.=.=.=.=.=.=.=.=.=.=.=.=.=.=.=.=.=.=.=.=.=.=.=.=\n",
      "Esse bloco sempre será executado! Vamos adidionar outro separador.\n",
      "=.=.=.=.=.=.=.=.=.=.=.=.=.=.=.=.=.=.=.=.=.=.=.=.=.=.=.=.=.=.=.=.=.=.=.=\n",
      "\n",
      "O valor atual é Pedro\n",
      "Errou! Estamos tratando Exceções em conjunto. A exceção <class 'TypeError'> aconteceu. \n",
      "Motivo: unsupported operand type(s) for +: 'float' and 'str'\n",
      "Próxima entrada...\n",
      "\n",
      "=.=.=.=.=.=.=.=.=.=.=.=.=.=.=.=.=.=.=.=.=.=.=.=.=.=.=.=.=.=.=.=.=.=.=.=\n",
      "Esse bloco sempre será executado! Vamos adidionar outro separador.\n",
      "=.=.=.=.=.=.=.=.=.=.=.=.=.=.=.=.=.=.=.=.=.=.=.=.=.=.=.=.=.=.=.=.=.=.=.=\n",
      "\n",
      "O valor atual é 6.6\n",
      "Toda vez que algum bloco except NÃO for executado, iremos adcionar um separador.\n",
      "--------------------------------------------------------------------------------\n",
      "\n",
      "=.=.=.=.=.=.=.=.=.=.=.=.=.=.=.=.=.=.=.=.=.=.=.=.=.=.=.=.=.=.=.=.=.=.=.=\n",
      "Esse bloco sempre será executado! Vamos adidionar outro separador.\n",
      "=.=.=.=.=.=.=.=.=.=.=.=.=.=.=.=.=.=.=.=.=.=.=.=.=.=.=.=.=.=.=.=.=.=.=.=\n",
      "\n",
      "O valor atual é [1, 2, 3]\n",
      "Errou! Estamos tratando Exceções em conjunto. A exceção <class 'TypeError'> aconteceu. \n",
      "Motivo: unsupported operand type(s) for +: 'float' and 'list'\n",
      "Próxima entrada...\n",
      "\n",
      "=.=.=.=.=.=.=.=.=.=.=.=.=.=.=.=.=.=.=.=.=.=.=.=.=.=.=.=.=.=.=.=.=.=.=.=\n",
      "Esse bloco sempre será executado! Vamos adidionar outro separador.\n",
      "=.=.=.=.=.=.=.=.=.=.=.=.=.=.=.=.=.=.=.=.=.=.=.=.=.=.=.=.=.=.=.=.=.=.=.=\n",
      "\n",
      "O valor atual é 0\n",
      "Eita!! Um erro inesperado. Estmos executando o bloco que trata todas as exceções não tratadas. A exceção criada foi: <class 'ZeroDivisionError'>. Motivo: float division by zero\n",
      "Próxima entrada...\n",
      "\n",
      "=.=.=.=.=.=.=.=.=.=.=.=.=.=.=.=.=.=.=.=.=.=.=.=.=.=.=.=.=.=.=.=.=.=.=.=\n",
      "Esse bloco sempre será executado! Vamos adidionar outro separador.\n",
      "=.=.=.=.=.=.=.=.=.=.=.=.=.=.=.=.=.=.=.=.=.=.=.=.=.=.=.=.=.=.=.=.=.=.=.=\n",
      "\n",
      "Estamos fora do for\n"
     ]
    }
   ],
   "source": [
    "# Bloco criado para somar os valores da lista\n",
    "for valor in valores:\n",
    "    try:\n",
    "        print(f'O valor atual é {valor}')\n",
    "        soma = (soma + valor) / int(valor)\n",
    "    except(ValueError, TypeError):\n",
    "        print(f'Errou! Estamos tratando Exceções em conjunto. A exceção {sys.exc_info()[0]} aconteceu. \\\n",
    "              + \\n Motivo: {sys.exc_info()[1]}')\n",
    "        print(\"Próxima entrada...\")\n",
    "    except:\n",
    "        print(f'Eita!! Um erro inesperado. Estmos executando o bloco que trata todas as exceções não tratadas. \\\n",
    "        + A exceção criada foi: {sys.exc_info()[0]}. Motivo: {sys.exc_info()[1]}')\n",
    "        print(f'Próxima entrada...')\n",
    "    else:\n",
    "        print(f'Toda vez que algum bloco except NÃO for executado, iremos adcionar um separador.')\n",
    "        print(f'--------------------------------------------------------------------------------')\n",
    "    finally:\n",
    "        print(f'\\n=.=.=.=.=.=.=.=.=.=.=.=.=.=.=.=.=.=.=.=.=.=.=.=.=.=.=.=.=.=.=.=.=.=.=.=')\n",
    "        print(f'Esse bloco sempre será executado! Vamos adidionar outro separador.')\n",
    "        print(f'=.=.=.=.=.=.=.=.=.=.=.=.=.=.=.=.=.=.=.=.=.=.=.=.=.=.=.=.=.=.=.=.=.=.=.=\\n')\n",
    "\n",
    "print(f'Estamos fora do for')"
   ]
  },
  {
   "cell_type": "markdown",
   "id": "6255bff3",
   "metadata": {},
   "source": [
    "## Resolvendo o Problema da Aula"
   ]
  },
  {
   "cell_type": "markdown",
   "id": "759d40db",
   "metadata": {},
   "source": [
    "Imagine que o seu chefe agora te pediu o seguinte:\n",
    "\n",
    "“Muitos usuários da aplicação que foi criada para ler arquivos .csv estão reclamando que a aplicação não está funcionando corretamente. Eu preciso que você ajuste a função da aplicação para que ela volte a funcionar corretamente.”\n",
    "\n",
    "Conseguimos utilizar a função *try .. except* para resolvermos esse problema."
   ]
  },
  {
   "cell_type": "code",
   "execution_count": 60,
   "id": "fd203bd5",
   "metadata": {
    "ExecuteTime": {
     "end_time": "2021-12-02T00:37:40.381485Z",
     "start_time": "2021-12-02T00:37:40.378607Z"
    }
   },
   "outputs": [],
   "source": [
    "# Carregamento da biblioteca Path\n",
    "import sys\n",
    "import csv"
   ]
  },
  {
   "cell_type": "code",
   "execution_count": 89,
   "id": "a03d69c0",
   "metadata": {
    "ExecuteTime": {
     "end_time": "2021-12-02T00:50:16.280308Z",
     "start_time": "2021-12-02T00:50:16.278182Z"
    }
   },
   "outputs": [],
   "source": [
    "file_path = 'csv\\level.csv'"
   ]
  },
  {
   "cell_type": "code",
   "execution_count": null,
   "id": "55a591f0",
   "metadata": {
    "ExecuteTime": {
     "end_time": "2021-12-02T00:43:43.971224Z",
     "start_time": "2021-12-02T00:43:43.962479Z"
    }
   },
   "outputs": [],
   "source": []
  },
  {
   "cell_type": "code",
   "execution_count": 90,
   "id": "b1d17872",
   "metadata": {
    "ExecuteTime": {
     "end_time": "2021-12-02T00:50:16.882570Z",
     "start_time": "2021-12-02T00:50:16.880023Z"
    }
   },
   "outputs": [],
   "source": [
    "try:\n",
    "    with open(file_path, 'r') as reader:\n",
    "        reader = csv.DictReader(reader, delimiter=',')\n",
    "        \n",
    "        for row in reader:\n",
    "            print(row)\n",
    "            break\n",
    "        \n",
    "        # del reader\n",
    "        \n",
    "# except(FileNotFoundError):\n",
    "    \n",
    "#     print(f'Erro no caminho do diretório ou no nome do arquivo')\n",
    "except:\n",
    "    pass"
   ]
  },
  {
   "cell_type": "code",
   "execution_count": 92,
   "id": "d333e099",
   "metadata": {
    "ExecuteTime": {
     "end_time": "2021-12-02T00:51:10.422830Z",
     "start_time": "2021-12-02T00:51:10.417743Z"
    }
   },
   "outputs": [
    {
     "ename": "FileNotFoundError",
     "evalue": "[Errno 2] No such file or directory: 'csv\\\\level.csv'",
     "output_type": "error",
     "traceback": [
      "\u001b[0;31m---------------------------------------------------------------------------\u001b[0m",
      "\u001b[0;31mFileNotFoundError\u001b[0m                         Traceback (most recent call last)",
      "\u001b[0;32m/tmp/ipykernel_13886/3219724547.py\u001b[0m in \u001b[0;36m<module>\u001b[0;34m\u001b[0m\n\u001b[0;32m----> 1\u001b[0;31m \u001b[0;32mwith\u001b[0m \u001b[0mopen\u001b[0m\u001b[0;34m(\u001b[0m\u001b[0mfile_path\u001b[0m\u001b[0;34m,\u001b[0m \u001b[0;34m'r'\u001b[0m\u001b[0;34m)\u001b[0m \u001b[0;32mas\u001b[0m \u001b[0mreader\u001b[0m\u001b[0;34m:\u001b[0m\u001b[0;34m\u001b[0m\u001b[0;34m\u001b[0m\u001b[0m\n\u001b[0m\u001b[1;32m      2\u001b[0m     \u001b[0mreader\u001b[0m \u001b[0;34m=\u001b[0m \u001b[0mcsv\u001b[0m\u001b[0;34m.\u001b[0m\u001b[0mDictReader\u001b[0m\u001b[0;34m(\u001b[0m\u001b[0mreader\u001b[0m\u001b[0;34m,\u001b[0m \u001b[0mdelimiter\u001b[0m\u001b[0;34m=\u001b[0m\u001b[0;34m','\u001b[0m\u001b[0;34m)\u001b[0m\u001b[0;34m\u001b[0m\u001b[0;34m\u001b[0m\u001b[0m\n",
      "\u001b[0;31mFileNotFoundError\u001b[0m: [Errno 2] No such file or directory: 'csv\\\\level.csv'"
     ]
    }
   ],
   "source": [
    "with open(file_path, 'r') as reader:\n",
    "    reader = csv.DictReader(reader, delimiter=',')"
   ]
  },
  {
   "cell_type": "code",
   "execution_count": 93,
   "id": "215b454f",
   "metadata": {
    "ExecuteTime": {
     "end_time": "2021-12-02T00:57:25.172906Z",
     "start_time": "2021-12-02T00:57:25.170631Z"
    }
   },
   "outputs": [],
   "source": [
    "nome = 'Pedro'\n",
    "idade = 32"
   ]
  },
  {
   "cell_type": "code",
   "execution_count": 95,
   "id": "08dc79dc",
   "metadata": {
    "ExecuteTime": {
     "end_time": "2021-12-02T00:59:08.514694Z",
     "start_time": "2021-12-02T00:59:08.511394Z"
    }
   },
   "outputs": [
    {
     "name": "stdout",
     "output_type": "stream",
     "text": [
      "O nome do usuario é \"Pedro\" e a idade é \"32\"\n"
     ]
    }
   ],
   "source": [
    "print(f'O nome do usuario é \"{nome}\" e a idade é \"{idade}\"')"
   ]
  },
  {
   "cell_type": "code",
   "execution_count": 96,
   "id": "6db82826",
   "metadata": {
    "ExecuteTime": {
     "end_time": "2021-12-02T00:59:30.440514Z",
     "start_time": "2021-12-02T00:59:30.437931Z"
    }
   },
   "outputs": [
    {
     "name": "stdout",
     "output_type": "stream",
     "text": [
      "Pedro\n",
      "Guilherme\n"
     ]
    }
   ],
   "source": [
    "print('Pedro')\n",
    "print(\"Guilherme\")"
   ]
  },
  {
   "cell_type": "code",
   "execution_count": null,
   "id": "8218babc",
   "metadata": {},
   "outputs": [],
   "source": []
  },
  {
   "cell_type": "code",
   "execution_count": null,
   "id": "8ce1fb98",
   "metadata": {},
   "outputs": [],
   "source": []
  },
  {
   "cell_type": "code",
   "execution_count": 61,
   "id": "dd528994",
   "metadata": {
    "ExecuteTime": {
     "end_time": "2021-12-02T00:37:40.494685Z",
     "start_time": "2021-12-02T00:37:40.488658Z"
    }
   },
   "outputs": [
    {
     "name": "stdout",
     "output_type": "stream",
     "text": [
      "{'operation': 'OPERADOR DE AERONAVE', 'type': 'AVIÃO', 'manufacturer': 'NEIVA INDUSTRIA AERONAUTICA', 'engine_type': 'PISTÃO', 'engines': 'MONOMOTOR', 'year_manufacturing': '1977', 'seating': '4', 'fatalities': '1'}\n"
     ]
    }
   ],
   "source": [
    "# Caminho do arquivo\n",
    "file_path = \n",
    "\n",
    "# Vamos tentar abrir e ler o arquivo\n",
    "try:\n",
    "    \n",
    "    # Tenta abrir o arquivo\n",
    "    with open(file_path, 'r', encoding='utf-8') as f:\n",
    "        reader = csv.DictReader(f, delimiter=',')\n",
    "        \n",
    "        # Itera somente sobre a primeira linha do arquivo.\n",
    "        for row in reader:\n",
    "            print(row)\n",
    "            break # A cláusula breake faz com que a iteração pare\n",
    "    \n",
    "    # Apaga da memória a variável reder\n",
    "    del reader\n",
    "    \n",
    "# Trataiva da Exceções. A exceção FileNotFoundError trata o erro de o arquivo não ser\n",
    "# encontrado. A exceção ValueError trata de um possível erro de lógica ao fechar ou\n",
    "# abrir o arquivo, como nome de variável não encontrado.\n",
    "except (FileNotFoundError, ValueError): \n",
    "    print(f'Eita!! Um erro inesperado. Estmos executando o bloco que trata todas as exceções não tratadas.') \n",
    "    print(f'A exceção criada foi: {sys.exc_info()[0]}. Motivo: {sys.exc_info()[1]}')"
   ]
  },
  {
   "cell_type": "code",
   "execution_count": null,
   "id": "e8aec176",
   "metadata": {},
   "outputs": [],
   "source": []
  },
  {
   "cell_type": "code",
   "execution_count": null,
   "id": "d7d454bb",
   "metadata": {},
   "outputs": [],
   "source": []
  },
  {
   "cell_type": "code",
   "execution_count": null,
   "id": "287e5f16",
   "metadata": {},
   "outputs": [],
   "source": []
  },
  {
   "cell_type": "code",
   "execution_count": null,
   "id": "78a2b64a",
   "metadata": {},
   "outputs": [],
   "source": []
  },
  {
   "cell_type": "code",
   "execution_count": null,
   "id": "9acc87e7",
   "metadata": {},
   "outputs": [],
   "source": []
  },
  {
   "cell_type": "code",
   "execution_count": null,
   "id": "e410bb2f",
   "metadata": {},
   "outputs": [],
   "source": []
  },
  {
   "cell_type": "code",
   "execution_count": 57,
   "id": "a4e2e603",
   "metadata": {
    "ExecuteTime": {
     "end_time": "2021-10-04T23:34:44.216012Z",
     "start_time": "2021-10-04T23:34:44.212224Z"
    }
   },
   "outputs": [
    {
     "name": "stdout",
     "output_type": "stream",
     "text": [
      "{'operation': 'OPERADOR DE AERONAVE', 'type': 'AVIÃO', 'manufacturer': 'NEIVA INDUSTRIA AERONAUTICA', 'engine_type': 'PISTÃO', 'engines': 'MONOMOTOR', 'year_manufacturing': '1977', 'seating': '4', 'fatalities': '1'}\n"
     ]
    }
   ],
   "source": [
    "# Caminho do arquivo\n",
    "file_path = 'csv/levels.csv'\n",
    "\n",
    "# Vamos tentar abrir e ler o arquivo\n",
    "try:\n",
    "    \n",
    "    # Tenta abrir o arquivo\n",
    "    with open(file_path, 'r', encoding='utf-8') as f:\n",
    "        reader = csv.DictReader(f, delimiter=',')\n",
    "        \n",
    "        # Itera somente sobre a primeira linha do arquivo.\n",
    "        for row in reader:\n",
    "            print(row)\n",
    "            break # A cláusula breake faz com que a iteração pare\n",
    "    \n",
    "    # Apaga da memória a variável reder\n",
    "    del reader\n",
    "    \n",
    "# Trataiva da Exceções. A exceção FileNotFoundError trata o erro de o arquivo não ser\n",
    "# encontrado. A exceção ValueError trata de um possível erro de lógica ao fechar ou\n",
    "# abrir o arquivo, como nome de variável não encontrado.\n",
    "except (FileNotFoundError, ValueError): \n",
    "    print(f'Eita!! Um erro inesperado. Estmos executando o bloco que trata todas as exceções não tratadas.') \n",
    "    print(f'A exceção criada foi: {sys.exc_info()[0]}. Motivo: {sys.exc_info()[1]}')"
   ]
  },
  {
   "cell_type": "markdown",
   "id": "0581d5ec",
   "metadata": {},
   "source": [
    "# TRATAMENTO DE ERROS"
   ]
  },
  {
   "cell_type": "markdown",
   "id": "5b180588",
   "metadata": {},
   "source": [
    "Aprendemos duas estruturas que são bastante utilizadas para construirmos funções e classes mais seguras, no sentido de antever certo problemas e fazer com que a nossa aplicação não pare de funcionar inesperadamente.\n",
    "\n",
    "É uma boa prática escrever funções e classes que tenham esse comportamente de antecipação, tanto para os colegas que irão utilizar o seu código como também para você mesmo, em um futuro não tão distante!\n",
    "\n",
    "Porém, existe uma outra possibilidade: a de você ter que ajustar e melhorar código de um colega, que foi basicamente as situações que vimos na aula de hoje.\n",
    "\n",
    "E quando temos que realizar esse tipo de tarefa, temos que ler, interpretar e entender o que nosso colega tentou realizar com o seu código e arrumar isso. E nessa etapa, de ajuste, podemos utilizar tanto as funções *try .. except* para melhorar a tratativa de exceções, como também a função assert para testar nossas melhorias.\n",
    "\n",
    "E a habilidade de leitura, interpretação e entendimento de código só se ganha de duas formas: Lendo código ou escrevendo código. Como ao longo das aulas anteriores, nós escrevemos códigos, na aula de hoje iremo verificar algumas stuações de erro.\n",
    "\n",
    "Mas antes, precisamos entender que existem basicamente dois tipos de erros:\n",
    "* Erros sintáticos\n",
    "* Erros lógicos\n",
    "\n",
    "Erros Sintáticos são os erros que ocorrem quando digitamoso nome de uma variável errada, ou o nome de uma função, seja do Python ou de criação nossa, de forma errada. No geral, erro sintático é tudo que o compilador/interpretador do Python não consegue entender e nos diz que está errado."
   ]
  },
  {
   "cell_type": "code",
   "execution_count": 98,
   "id": "08869bf8",
   "metadata": {
    "ExecuteTime": {
     "end_time": "2021-12-02T01:06:19.981743Z",
     "start_time": "2021-12-02T01:06:19.978822Z"
    }
   },
   "outputs": [
    {
     "name": "stdout",
     "output_type": "stream",
     "text": [
      "Erro de Sintaxe\n",
      "Erro de Sintaxe\n",
      "Erro de Sintaxe\n",
      "Erro de Sintaxe\n",
      "Erro de Sintaxe\n",
      "Não tem mais erro\n"
     ]
    }
   ],
   "source": [
    "for n in range(5):\n",
    "    print('Erro de Sintaxe')\n",
    "    \n",
    "print('Não tem mais erro')"
   ]
  },
  {
   "cell_type": "markdown",
   "id": "bfb0cacc",
   "metadata": {},
   "source": [
    "Já os erros lógicos são os erros que ocorrem quando o compilador/interpretador do Python não encontra erro algum e executa nosso código, porém, ao ser executado, o nosso código apresenta um comportamento inesperado. Um exemplo de erro lógico é quando tentamos fazer uma divisão por zero, ou quando passamos um tipo de dado incorreto para uma função. Esses são os erros que melhroar utilizando as funções *try .. except*, para testar se um determinado bloco de código funcionará corretamente, e a função *assert* para verificarmos se nossa função está com o comportamento esperado.\n",
    "\n",
    "Para exemplificar, vamos pegar a seguinte declaração de função:"
   ]
  },
  {
   "cell_type": "code",
   "execution_count": 99,
   "id": "ec902193",
   "metadata": {
    "ExecuteTime": {
     "end_time": "2021-12-02T01:07:55.618592Z",
     "start_time": "2021-12-02T01:07:55.616480Z"
    }
   },
   "outputs": [],
   "source": [
    "# Declaração da Função\n",
    "def get_item(list_, index):\n",
    "    \"\"\"Função que retornará o item da lista passada como parâmetro\"\"\"\n",
    "    return list_[index]"
   ]
  },
  {
   "cell_type": "code",
   "execution_count": 104,
   "id": "fb106359",
   "metadata": {
    "ExecuteTime": {
     "end_time": "2021-12-02T01:10:12.207992Z",
     "start_time": "2021-12-02T01:10:12.205393Z"
    }
   },
   "outputs": [
    {
     "data": {
      "text/plain": [
       "'c'"
      ]
     },
     "execution_count": 104,
     "metadata": {},
     "output_type": "execute_result"
    }
   ],
   "source": [
    "# Declaração da lista\n",
    "my_list = ['a', 'b', 'c']\n",
    "\n",
    "\n",
    "# Utilização da função\n",
    "get_item(my_list, 2)"
   ]
  },
  {
   "cell_type": "markdown",
   "id": "3aa6c0fd",
   "metadata": {},
   "source": [
    "Note tanto a declaração da função, como a da lista `my_list` e a utilização da função está **sintaticamente** corretas. O compilador/interpretador do Python não acusou erro algum nelas. Porém, se tantarmos acessar um índice que não existe em nossa lista, digamos o índice `3`:"
   ]
  },
  {
   "cell_type": "code",
   "execution_count": 106,
   "id": "5d801f05",
   "metadata": {
    "ExecuteTime": {
     "end_time": "2021-12-02T01:12:06.006906Z",
     "start_time": "2021-12-02T01:12:06.000094Z"
    }
   },
   "outputs": [
    {
     "ename": "IndexError",
     "evalue": "list index out of range",
     "output_type": "error",
     "traceback": [
      "\u001b[0;31m---------------------------------------------------------------------------\u001b[0m",
      "\u001b[0;31mIndexError\u001b[0m                                Traceback (most recent call last)",
      "\u001b[0;32m/tmp/ipykernel_13886/1034250959.py\u001b[0m in \u001b[0;36m<module>\u001b[0;34m\u001b[0m\n\u001b[1;32m      1\u001b[0m \u001b[0;31m# Tentativa de acessar um índice que não existe na lista\u001b[0m\u001b[0;34m\u001b[0m\u001b[0;34m\u001b[0m\u001b[0;34m\u001b[0m\u001b[0m\n\u001b[0;32m----> 2\u001b[0;31m \u001b[0mget_item\u001b[0m\u001b[0;34m(\u001b[0m\u001b[0mmy_list\u001b[0m\u001b[0;34m,\u001b[0m \u001b[0;36m3\u001b[0m\u001b[0;34m)\u001b[0m\u001b[0;34m\u001b[0m\u001b[0;34m\u001b[0m\u001b[0m\n\u001b[0m",
      "\u001b[0;32m/tmp/ipykernel_13886/329794617.py\u001b[0m in \u001b[0;36mget_item\u001b[0;34m(list_, index)\u001b[0m\n\u001b[1;32m      2\u001b[0m \u001b[0;32mdef\u001b[0m \u001b[0mget_item\u001b[0m\u001b[0;34m(\u001b[0m\u001b[0mlist_\u001b[0m\u001b[0;34m,\u001b[0m \u001b[0mindex\u001b[0m\u001b[0;34m)\u001b[0m\u001b[0;34m:\u001b[0m\u001b[0;34m\u001b[0m\u001b[0;34m\u001b[0m\u001b[0m\n\u001b[1;32m      3\u001b[0m     \u001b[0;34m\"\"\"Função que retornará o item da lista passada como parâmetro\"\"\"\u001b[0m\u001b[0;34m\u001b[0m\u001b[0;34m\u001b[0m\u001b[0m\n\u001b[0;32m----> 4\u001b[0;31m     \u001b[0;32mreturn\u001b[0m \u001b[0mlist_\u001b[0m\u001b[0;34m[\u001b[0m\u001b[0mindex\u001b[0m\u001b[0;34m]\u001b[0m\u001b[0;34m\u001b[0m\u001b[0;34m\u001b[0m\u001b[0m\n\u001b[0m",
      "\u001b[0;31mIndexError\u001b[0m: list index out of range"
     ]
    }
   ],
   "source": [
    "# Tentativa de acessar um índice que não existe na lista\n",
    "get_item(my_list, 3)"
   ]
  },
  {
   "cell_type": "markdown",
   "id": "3765d29d",
   "metadata": {},
   "source": [
    "Veja que agora temos um erro. A mensagem do erro nos diz que:\n",
    "\n",
    "*\\\"IndexError: list index out of range\\\"*\n",
    "\n",
    "E nos aponta para as linhas 1 do bloco de código que tentamos acessar nosso índice inexistente e para a linha 4 do bloco onde definimos a função.\n",
    "\n",
    "Isso ocorre pois ao tentar executar um bloco de código que ocasiona em um erro, o Python faz o caminho inverso do bloco em questão. Se observarmos, a primeira parte do erro é exatamente a parte onde tentamos passar o índice inexistente para a nossa função. E a segunda parte é exatamente a linha da nossa função que é executada e ocasiona o erro.\n",
    "\n",
    "Dessa forma, para analisarmos erros lógicos, temos que primeiro o motivo do erro, que em nosso exemplo é a mensagem `IndexError: list index out of range`. O que já nos indica que estamos tentando acessar um índice de uma lista, e que esse índice está fora do intervalo dos índices da nossa lista.\n",
    "\n",
    "E, caso não tenhamos entendido essa primeira mensagem, ou se desejarmos mais detalhes, como saber em qual linha ocorreu o erro, por exemplo, podemos verificar a outra parte dos erro, que nos aponta a linha `4` do bloco onde definimos a nossa função.\n",
    "\n",
    "Se utilizarmos nosso o que aprendemos na aula de hoje para arrumar e testar essa função, teremos o seguinte código:"
   ]
  },
  {
   "cell_type": "code",
   "execution_count": 107,
   "id": "bb8bbdab",
   "metadata": {
    "ExecuteTime": {
     "end_time": "2021-12-02T01:12:27.116132Z",
     "start_time": "2021-12-02T01:12:27.113909Z"
    }
   },
   "outputs": [],
   "source": [
    "# Declaração da Função\n",
    "def get_item(list_, index):\n",
    "    \"\"\"Função que retornará o item da lista passada como parâmetro\"\"\"\n",
    "    try:\n",
    "        return list_[index]\n",
    "#         return item\n",
    "    except(IndexError):\n",
    "        return -1"
   ]
  },
  {
   "cell_type": "code",
   "execution_count": 109,
   "id": "14b67efc",
   "metadata": {
    "ExecuteTime": {
     "end_time": "2021-12-02T01:12:45.792694Z",
     "start_time": "2021-12-02T01:12:45.789856Z"
    }
   },
   "outputs": [],
   "source": [
    "# Teste com funcionamento Ok\n",
    "assert get_item(my_list, 2) != -1, \"Índice fora da lista.\""
   ]
  },
  {
   "cell_type": "code",
   "execution_count": 110,
   "id": "7a818e0d",
   "metadata": {
    "ExecuteTime": {
     "end_time": "2021-12-02T01:12:53.523792Z",
     "start_time": "2021-12-02T01:12:53.517635Z"
    }
   },
   "outputs": [
    {
     "ename": "AssertionError",
     "evalue": "Índice fora da lista.",
     "output_type": "error",
     "traceback": [
      "\u001b[0;31m---------------------------------------------------------------------------\u001b[0m",
      "\u001b[0;31mAssertionError\u001b[0m                            Traceback (most recent call last)",
      "\u001b[0;32m/tmp/ipykernel_13886/3454222936.py\u001b[0m in \u001b[0;36m<module>\u001b[0;34m\u001b[0m\n\u001b[1;32m      1\u001b[0m \u001b[0;31m# Teste com o funcionamento incorreto\u001b[0m\u001b[0;34m\u001b[0m\u001b[0;34m\u001b[0m\u001b[0;34m\u001b[0m\u001b[0m\n\u001b[0;32m----> 2\u001b[0;31m \u001b[0;32massert\u001b[0m \u001b[0mget_item\u001b[0m\u001b[0;34m(\u001b[0m\u001b[0mmy_list\u001b[0m\u001b[0;34m,\u001b[0m \u001b[0;36m4\u001b[0m\u001b[0;34m)\u001b[0m \u001b[0;34m!=\u001b[0m \u001b[0;34m-\u001b[0m\u001b[0;36m1\u001b[0m\u001b[0;34m,\u001b[0m \u001b[0;34m\"Índice fora da lista.\"\u001b[0m\u001b[0;34m\u001b[0m\u001b[0;34m\u001b[0m\u001b[0m\n\u001b[0m",
      "\u001b[0;31mAssertionError\u001b[0m: Índice fora da lista."
     ]
    }
   ],
   "source": [
    "# Teste com o funcionamento incorreto\n",
    "assert get_item(my_list, 4) != -1, \"Índice fora da lista.\""
   ]
  },
  {
   "cell_type": "markdown",
   "id": "f0dcf3fd",
   "metadata": {},
   "source": [
    "Outra maneira de melhroarmos isso, seria retornar o último valor da nossa lista ao invés de retornar o valor -1. Dessa forma, retornaríamos o valor buscado, caso o índice exista, e o último valor caso o índice não exista."
   ]
  },
  {
   "cell_type": "code",
   "execution_count": 111,
   "id": "f50346f3",
   "metadata": {
    "ExecuteTime": {
     "end_time": "2021-12-02T01:14:06.219568Z",
     "start_time": "2021-12-02T01:14:06.217335Z"
    }
   },
   "outputs": [],
   "source": [
    "# Declaração da Função\n",
    "def get_item(list_, index):\n",
    "    \"\"\"Função que retornará o item da lista com base em seu índice.\n",
    "    Retorna o último item da lista caso o índice não exista\n",
    "    \n",
    "    Argumentos:\n",
    "    list_ -- lista com os itens\n",
    "    index -- índice do item buscado\n",
    "    \n",
    "    Retorno:\n",
    "    O item buscado (list_[index]) caso o índice seja Válido. \n",
    "    O Último item da lista (list_[-1]) caso o índice seja inválido \n",
    "    \"\"\"\n",
    "    \n",
    "    try:\n",
    "        return list_[index]\n",
    "    except(IndexError):\n",
    "        return list_[-1]"
   ]
  },
  {
   "cell_type": "code",
   "execution_count": 112,
   "id": "6acd04cb",
   "metadata": {
    "ExecuteTime": {
     "end_time": "2021-12-02T01:14:06.516592Z",
     "start_time": "2021-12-02T01:14:06.514291Z"
    }
   },
   "outputs": [],
   "source": [
    "# Teste com funcionamento Ok\n",
    "assert get_item(my_list, 2) == my_list[2]"
   ]
  },
  {
   "cell_type": "code",
   "execution_count": 113,
   "id": "ea081271",
   "metadata": {
    "ExecuteTime": {
     "end_time": "2021-12-02T01:14:09.620807Z",
     "start_time": "2021-12-02T01:14:09.618837Z"
    }
   },
   "outputs": [],
   "source": [
    "# Teste com o funcionamento incorreto\n",
    "assert get_item(my_list, 4) == my_list[-1]"
   ]
  },
  {
   "cell_type": "markdown",
   "id": "ab910245",
   "metadata": {},
   "source": [
    "Podemos também combinar as funções *assert* e *try .. except* para melhroar não só a tratativa de um possível erro, como também validar se o nosso parâmetro é um valor inteiro:"
   ]
  },
  {
   "cell_type": "code",
   "execution_count": 124,
   "id": "c627dc33",
   "metadata": {
    "ExecuteTime": {
     "end_time": "2021-12-02T01:18:04.315230Z",
     "start_time": "2021-12-02T01:18:04.311783Z"
    }
   },
   "outputs": [],
   "source": [
    "# Import da Módulo sys para verificarmos o erro\n",
    "import sys\n",
    "\n",
    "# Declaração da Função\n",
    "def get_item(list_, index):\n",
    "    \"\"\"Função que retornará o item da lista com base em seu índice.\n",
    "    Retorna o último item da lista caso o índice não exista\n",
    "    \n",
    "    Argumentos:\n",
    "    list_ -- lista com os itens\n",
    "    index -- índice do item buscado\n",
    "    \n",
    "    Retorno:\n",
    "    O item buscado (list_[index]) caso o índice seja Válido. \n",
    "    O Último item da lista (list_[-1]) caso o índice seja inválido \n",
    "    \"\"\"\n",
    "    \n",
    "    \n",
    "    try:\n",
    "        assert isinstance(index, int), 'O Tipo do indice deve sempre ser inteiro'\n",
    "        return list_[index]\n",
    "    except(IndexError, AssertionError):\n",
    "        print(f'Houve um erro! Tipo de erro: {sys.exc_info()[0]}. Motivo: {sys.exc_info()[1]}')\n",
    "        print(f'retornando o último valor da lista...\"{list_[-1]}\"')\n",
    "        return list_[-1]"
   ]
  },
  {
   "cell_type": "code",
   "execution_count": 125,
   "id": "496925db",
   "metadata": {
    "ExecuteTime": {
     "end_time": "2021-12-02T01:18:04.441747Z",
     "start_time": "2021-12-02T01:18:04.439256Z"
    }
   },
   "outputs": [],
   "source": [
    "# Teste com funcionamento Ok\n",
    "assert get_item(my_list, 2) == my_list[2]"
   ]
  },
  {
   "cell_type": "code",
   "execution_count": 126,
   "id": "0ffa012f",
   "metadata": {
    "ExecuteTime": {
     "end_time": "2021-12-02T01:18:04.549625Z",
     "start_time": "2021-12-02T01:18:04.546800Z"
    }
   },
   "outputs": [
    {
     "name": "stdout",
     "output_type": "stream",
     "text": [
      "Houve um erro! Tipo de erro: <class 'IndexError'>. Motivo: list index out of range\n",
      "retornando o último valor da lista...\"c\"\n"
     ]
    }
   ],
   "source": [
    "# Teste com o funcionamento incorreto\n",
    "assert get_item(my_list, 4) == my_list[-1]"
   ]
  },
  {
   "cell_type": "code",
   "execution_count": 127,
   "id": "6cac5fd2",
   "metadata": {
    "ExecuteTime": {
     "end_time": "2021-12-02T01:18:05.025608Z",
     "start_time": "2021-12-02T01:18:05.022830Z"
    }
   },
   "outputs": [
    {
     "name": "stdout",
     "output_type": "stream",
     "text": [
      "Houve um erro! Tipo de erro: <class 'AssertionError'>. Motivo: O Tipo do indice deve sempre ser inteiro\n",
      "retornando o último valor da lista...\"c\"\n"
     ]
    }
   ],
   "source": [
    "# Teste com o funcionamento incorreto\n",
    "assert get_item(my_list, 4.4) == my_list[-1]"
   ]
  },
  {
   "cell_type": "markdown",
   "id": "ca7a2845",
   "metadata": {},
   "source": [
    "## O Estagiário"
   ]
  },
  {
   "cell_type": "markdown",
   "id": "a3a5e161",
   "metadata": {},
   "source": [
    "Outro exemplo de maneiras de tratarmos erros seria a seguinte situação: \n",
    "\n",
    "Imagine que o seu chefe chegou e falou o seguinte:\n",
    "        \n",
    "\"O estagiário começou a criar um *script* que será utilizado para trazer a somatória dos likes dos *posts* do *blog* da empresa. Porém ele está com dificuldades de fazer o *script*. Ajude-o a realizar essa tarefa. O *script* em questão deve trazer a somatória de `Likes` de todos os *posts* e, caso não exista a coluna `Likes`, o *script* deve criar a chave `Like` e adicionar o valor zero.\n",
    "\n",
    "O Código do estagiário é o seguinte:"
   ]
  },
  {
   "cell_type": "code",
   "execution_count": 27,
   "id": "ac81c728",
   "metadata": {
    "ExecuteTime": {
     "end_time": "2021-12-15T23:50:41.424753Z",
     "start_time": "2021-12-15T23:50:41.422149Z"
    }
   },
   "outputs": [],
   "source": [
    "# Lista com os dados dos Posts do blog\n",
    "blog_posts = [\n",
    "    {'Photos': 3, 'Likes': 21, 'Comments': 2},\n",
    "    {'Photos': 3, 'Likes': 19, 'Comments': 3},\n",
    "    {'Photos': 5, 'Likes': 33, 'Comments': 8, 'Shares': 3},\n",
    "    {'Photos': 8, 'Comments': 1, 'Shares': 1},   \n",
    "    {'Likes': 13, 'Comments': 2, 'Shares': 1},\n",
    "    {'Comments': 4, 'Shares': 2}\n",
    "]"
   ]
  },
  {
   "cell_type": "code",
   "execution_count": 12,
   "id": "4a6f8a21",
   "metadata": {
    "ExecuteTime": {
     "end_time": "2021-12-15T23:17:56.718364Z",
     "start_time": "2021-12-15T23:17:56.711018Z"
    }
   },
   "outputs": [
    {
     "name": "stdout",
     "output_type": "stream",
     "text": [
      "{'Photos': 3, 'Likes': 21, 'Comments': 2}\n",
      "O valor do total de likes = 21\n",
      "{'Photos': 3, 'Likes': 19, 'Comments': 3}\n",
      "O valor do total de likes = 40\n",
      "{'Photos': 5, 'Likes': 33, 'Comments': 8, 'Shares': 3}\n",
      "O valor do total de likes = 73\n",
      "{'Photos': 8, 'Comments': 1, 'Shares': 1}\n"
     ]
    },
    {
     "ename": "KeyError",
     "evalue": "'Likes'",
     "output_type": "error",
     "traceback": [
      "\u001b[0;31m---------------------------------------------------------------------------\u001b[0m",
      "\u001b[0;31mKeyError\u001b[0m                                  Traceback (most recent call last)",
      "\u001b[0;32m/tmp/ipykernel_52464/563457909.py\u001b[0m in \u001b[0;36m<module>\u001b[0;34m\u001b[0m\n\u001b[1;32m      5\u001b[0m \u001b[0;32mfor\u001b[0m \u001b[0mpost\u001b[0m \u001b[0;32min\u001b[0m \u001b[0mblog_posts\u001b[0m\u001b[0;34m:\u001b[0m\u001b[0;34m\u001b[0m\u001b[0;34m\u001b[0m\u001b[0m\n\u001b[1;32m      6\u001b[0m     \u001b[0mprint\u001b[0m\u001b[0;34m(\u001b[0m\u001b[0mpost\u001b[0m\u001b[0;34m)\u001b[0m\u001b[0;34m\u001b[0m\u001b[0;34m\u001b[0m\u001b[0m\n\u001b[0;32m----> 7\u001b[0;31m     \u001b[0mtotal_likes\u001b[0m \u001b[0;34m=\u001b[0m \u001b[0mtotal_likes\u001b[0m \u001b[0;34m+\u001b[0m \u001b[0mpost\u001b[0m\u001b[0;34m[\u001b[0m\u001b[0;34m'Likes'\u001b[0m\u001b[0;34m]\u001b[0m\u001b[0;34m\u001b[0m\u001b[0;34m\u001b[0m\u001b[0m\n\u001b[0m\u001b[1;32m      8\u001b[0m     \u001b[0mprint\u001b[0m\u001b[0;34m(\u001b[0m\u001b[0;34mf'O valor do total de likes = {total_likes}'\u001b[0m\u001b[0;34m)\u001b[0m\u001b[0;34m\u001b[0m\u001b[0;34m\u001b[0m\u001b[0m\n",
      "\u001b[0;31mKeyError\u001b[0m: 'Likes'"
     ]
    }
   ],
   "source": [
    "# Código do estagiário\n",
    "\n",
    "total_likes = 0\n",
    "\n",
    "for post in blog_posts:\n",
    "#     print(post)\n",
    "    total_likes = total_likes + post['Likes']\n",
    "#     print(f'O valor do total de likes = {total_likes}')"
   ]
  },
  {
   "cell_type": "code",
   "execution_count": null,
   "id": "e57e9ba7",
   "metadata": {},
   "outputs": [],
   "source": []
  },
  {
   "cell_type": "code",
   "execution_count": 14,
   "id": "2ad6baa7",
   "metadata": {
    "ExecuteTime": {
     "end_time": "2021-12-15T23:26:59.442102Z",
     "start_time": "2021-12-15T23:26:59.438312Z"
    }
   },
   "outputs": [],
   "source": [
    "# Código do estagiário\n",
    "\n",
    "total_likes = 0\n",
    "\n",
    "for post in blog_posts:\n",
    "#     print(post.keys())\n",
    "    \n",
    "    if ('Likes' in post.keys()):\n",
    "        total_likes = total_likes + post['Likes']\n",
    "    else:\n",
    "        post['Likes'] = 0\n",
    "        \n",
    "    \n",
    "#     print(post)\n",
    "#     print(f'O valor do total de likes = {total_likes}')"
   ]
  },
  {
   "cell_type": "code",
   "execution_count": 18,
   "id": "d7e5117a",
   "metadata": {
    "ExecuteTime": {
     "end_time": "2021-12-15T23:33:32.292415Z",
     "start_time": "2021-12-15T23:33:32.288475Z"
    }
   },
   "outputs": [
    {
     "data": {
      "text/plain": [
       "86"
      ]
     },
     "execution_count": 18,
     "metadata": {},
     "output_type": "execute_result"
    }
   ],
   "source": [
    "total_likes"
   ]
  },
  {
   "cell_type": "code",
   "execution_count": 19,
   "id": "7dd35efa",
   "metadata": {
    "ExecuteTime": {
     "end_time": "2021-12-15T23:33:33.316378Z",
     "start_time": "2021-12-15T23:33:33.312033Z"
    }
   },
   "outputs": [
    {
     "data": {
      "text/plain": [
       "[{'Photos': 3, 'Likes': 21, 'Comments': 2},\n",
       " {'Photos': 3, 'Likes': 19, 'Comments': 3},\n",
       " {'Photos': 5, 'Likes': 33, 'Comments': 8, 'Shares': 3},\n",
       " {'Photos': 8, 'Comments': 1, 'Shares': 1, 'Likes': 0},\n",
       " {'Likes': 13, 'Comments': 2, 'Shares': 1},\n",
       " {'Comments': 4, 'Shares': 2, 'Likes': 0}]"
      ]
     },
     "execution_count": 19,
     "metadata": {},
     "output_type": "execute_result"
    }
   ],
   "source": [
    "blog_posts"
   ]
  },
  {
   "cell_type": "code",
   "execution_count": null,
   "id": "8dcaf095",
   "metadata": {},
   "outputs": [],
   "source": []
  },
  {
   "cell_type": "code",
   "execution_count": 44,
   "id": "65a5c3c1",
   "metadata": {
    "ExecuteTime": {
     "end_time": "2021-12-15T23:56:41.080682Z",
     "start_time": "2021-12-15T23:56:41.075533Z"
    }
   },
   "outputs": [],
   "source": [
    "# Código do estagiário\n",
    "\n",
    "blog_posts = [\n",
    "    {'Photos': 3, 'Likes': 21, 'Comments': 2},\n",
    "    {'Photos': 3, 'Likes': 19, 'Comments': 3},\n",
    "    {'Photos': 5, 'Likes': 33, 'Comments': 8, 'Shares': 3},\n",
    "    {'Photos': 8, 'Comments': 1, 'Shares': 1},   \n",
    "    {'Likes': 13, 'Comments': 2, 'Shares': 1},\n",
    "    {'Comments': 4, 'Shares': 2}\n",
    "]\n",
    "\n",
    "\n",
    "total_likes = 0\n",
    "total_shares = 0\n",
    "\n",
    "for post in blog_posts:\n",
    "    try:\n",
    "        total_likes = total_likes + post['Likes']\n",
    "        total_shares = total_shares + post['Shares']\n",
    "    except(KeyError) as key:\n",
    "        post[key.args[0]] = 0\n",
    "    except:\n",
    "        print(f'Erro: Falha no sistema. Contate o adminstrador.')\n",
    "        "
   ]
  },
  {
   "cell_type": "code",
   "execution_count": 45,
   "id": "92b9a6df",
   "metadata": {
    "ExecuteTime": {
     "end_time": "2021-12-15T23:56:41.776480Z",
     "start_time": "2021-12-15T23:56:41.772834Z"
    }
   },
   "outputs": [
    {
     "data": {
      "text/plain": [
       "86"
      ]
     },
     "execution_count": 45,
     "metadata": {},
     "output_type": "execute_result"
    }
   ],
   "source": [
    "total_likes"
   ]
  },
  {
   "cell_type": "code",
   "execution_count": 46,
   "id": "5561ad91",
   "metadata": {
    "ExecuteTime": {
     "end_time": "2021-12-15T23:56:41.892966Z",
     "start_time": "2021-12-15T23:56:41.887534Z"
    }
   },
   "outputs": [
    {
     "data": {
      "text/plain": [
       "[{'Photos': 3, 'Likes': 21, 'Comments': 2, 'Shares': 0},\n",
       " {'Photos': 3, 'Likes': 19, 'Comments': 3, 'Shares': 0},\n",
       " {'Photos': 5, 'Likes': 33, 'Comments': 8, 'Shares': 3},\n",
       " {'Photos': 8, 'Comments': 1, 'Shares': 1, 'Likes': 0},\n",
       " {'Likes': 13, 'Comments': 2, 'Shares': 1},\n",
       " {'Comments': 4, 'Shares': 2, 'Likes': 0}]"
      ]
     },
     "execution_count": 46,
     "metadata": {},
     "output_type": "execute_result"
    }
   ],
   "source": [
    "blog_posts"
   ]
  },
  {
   "cell_type": "code",
   "execution_count": null,
   "id": "f6d7fc5f",
   "metadata": {},
   "outputs": [],
   "source": []
  },
  {
   "cell_type": "code",
   "execution_count": null,
   "id": "bc1ae1df",
   "metadata": {},
   "outputs": [],
   "source": []
  },
  {
   "cell_type": "code",
   "execution_count": null,
   "id": "496e1949",
   "metadata": {},
   "outputs": [],
   "source": []
  },
  {
   "cell_type": "code",
   "execution_count": null,
   "id": "ea9b7141",
   "metadata": {},
   "outputs": [],
   "source": []
  },
  {
   "cell_type": "code",
   "execution_count": null,
   "id": "f20ebbe0",
   "metadata": {},
   "outputs": [],
   "source": []
  },
  {
   "cell_type": "code",
   "execution_count": null,
   "id": "f3bf89b8",
   "metadata": {},
   "outputs": [],
   "source": []
  },
  {
   "cell_type": "code",
   "execution_count": null,
   "id": "f63cee53",
   "metadata": {},
   "outputs": [],
   "source": []
  },
  {
   "cell_type": "markdown",
   "id": "6d3987a3",
   "metadata": {},
   "source": [
    "Podemos obserar que ao executar o código, temos um erro de chaves (`KeyError`), que é um erro relacionando ao uso do dicionário que contém os posts do blog da empresa.\n",
    "\n",
    "Uma maneira de resolvermos esse problema seria primeiro arrumar o código dele, sem a utilização da função de `try .. except`:"
   ]
  },
  {
   "cell_type": "code",
   "execution_count": 103,
   "id": "1c01bb69",
   "metadata": {
    "ExecuteTime": {
     "end_time": "2021-10-05T01:26:29.230659Z",
     "start_time": "2021-10-05T01:26:29.224915Z"
    }
   },
   "outputs": [
    {
     "name": "stdout",
     "output_type": "stream",
     "text": [
      "[{'Photos': 3, 'Likes': 21, 'Comments': 2}, {'Photos': 3, 'Likes': 19, 'Comments': 3}, {'Photos': 5, 'Likes': 33, 'Comments': 8, 'Shares': 3}, {'Photos': 8, 'Comments': 1, 'Shares': 1, 'Likes': 0}, {'Likes': 13, 'Comments': 2, 'Shares': 1}, {'Comments': 4, 'Shares': 2, 'Likes': 0}]\n",
      "\n",
      "Total de likes no blog é de 86 likes\n"
     ]
    }
   ],
   "source": [
    "# Lista com os dados dos Posts do blog\n",
    "blog_posts = [\n",
    "    {'Photos': 3, 'Likes': 21, 'Comments': 2},\n",
    "    {'Photos': 3, 'Likes': 19, 'Comments': 3},\n",
    "    {'Photos': 5, 'Likes': 33, 'Comments': 8, 'Shares': 3},\n",
    "    {'Photos': 8, 'Comments': 1, 'Shares': 1},   \n",
    "    {'Likes': 13, 'Comments': 2, 'Shares': 1},\n",
    "    {'Comments': 4, 'Shares': 2}\n",
    "]\n",
    "\n",
    "\n",
    "# Código revisado - ver 1.0\n",
    "\n",
    "total_likes = 0\n",
    "\n",
    "for post in blog_posts:\n",
    "    if not('Likes' in post.keys()):\n",
    "        post['Likes'] = 0\n",
    "    else:\n",
    "        total_likes += int(post['Likes'])\n",
    "\n",
    "print(blog_posts)\n",
    "print(f'\\nTotal de likes no blog é de {total_likes} likes')"
   ]
  },
  {
   "cell_type": "markdown",
   "id": "55b8f633",
   "metadata": {},
   "source": [
    "Porém, podemos utilizar a função `try .. except` para resolvermos essa questão:"
   ]
  },
  {
   "cell_type": "code",
   "execution_count": 104,
   "id": "16439c13",
   "metadata": {
    "ExecuteTime": {
     "end_time": "2021-10-05T01:27:35.726489Z",
     "start_time": "2021-10-05T01:27:35.720733Z"
    }
   },
   "outputs": [
    {
     "name": "stdout",
     "output_type": "stream",
     "text": [
      "[{'Photos': 3, 'Likes': 21, 'Comments': 2}, {'Photos': 3, 'Likes': 19, 'Comments': 3}, {'Photos': 5, 'Likes': 33, 'Comments': 8, 'Shares': 3}, {'Photos': 8, 'Comments': 1, 'Shares': 1, 'Likes': 0}, {'Likes': 13, 'Comments': 2, 'Shares': 1}, {'Comments': 4, 'Shares': 2, 'Likes': 0}]\n",
      "\n",
      "Total de likes no blog é de 86 likes\n"
     ]
    }
   ],
   "source": [
    "# Lista com os dados dos Posts do blog\n",
    "blog_posts = [\n",
    "    {'Photos': 3, 'Likes': 21, 'Comments': 2},\n",
    "    {'Photos': 3, 'Likes': 19, 'Comments': 3},\n",
    "    {'Photos': 5, 'Likes': 33, 'Comments': 8, 'Shares': 3},\n",
    "    {'Photos': 8, 'Comments': 1, 'Shares': 1},   \n",
    "    {'Likes': 13, 'Comments': 2, 'Shares': 1},\n",
    "    {'Comments': 4, 'Shares': 2}\n",
    "]\n",
    "\n",
    "\n",
    "# Código revisado - ver 2.0\n",
    "\n",
    "total_likes = 0\n",
    "\n",
    "for post in blog_posts:\n",
    "    try:\n",
    "        total_likes += int(post['Likes'])\n",
    "    except:\n",
    "        post['Likes'] = 0\n",
    "    \n",
    "print(blog_posts)\n",
    "print(f'\\nTotal de likes no blog é de {total_likes} likes')"
   ]
  },
  {
   "cell_type": "markdown",
   "id": "fdd4fa24",
   "metadata": {},
   "source": [
    "No geral, sempre que formos realizar uma função que possa resultar em erro, como acessar um índice que pode não existir em uma lista, ou uma chave que possa não existir em um dicionário, ou uma divisão que pode acontecer de o divisor ser zero, devemos dar a preferencia em utilizar a função `try .. except` para codificarmos nossa aplicação."
   ]
  }
 ],
 "metadata": {
  "kernelspec": {
   "display_name": "Python 3 (ipykernel)",
   "language": "python",
   "name": "python3"
  },
  "language_info": {
   "codemirror_mode": {
    "name": "ipython",
    "version": 3
   },
   "file_extension": ".py",
   "mimetype": "text/x-python",
   "name": "python",
   "nbconvert_exporter": "python",
   "pygments_lexer": "ipython3",
   "version": "3.9.7"
  },
  "latex_envs": {
   "LaTeX_envs_menu_present": true,
   "autoclose": false,
   "autocomplete": true,
   "bibliofile": "biblio.bib",
   "cite_by": "apalike",
   "current_citInitial": 1,
   "eqLabelWithNumbers": true,
   "eqNumInitial": 1,
   "hotkeys": {
    "equation": "Ctrl-E",
    "itemize": "Ctrl-I"
   },
   "labels_anchors": false,
   "latex_user_defs": false,
   "report_style_numbering": false,
   "user_envs_cfg": false
  }
 },
 "nbformat": 4,
 "nbformat_minor": 5
}
