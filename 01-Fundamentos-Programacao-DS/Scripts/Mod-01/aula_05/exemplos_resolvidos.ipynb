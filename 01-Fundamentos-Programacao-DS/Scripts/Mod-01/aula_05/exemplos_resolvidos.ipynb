{
 "cells": [
  {
   "cell_type": "markdown",
   "id": "356cb35d",
   "metadata": {
    "heading_collapsed": true
   },
   "source": [
    "# CÓDIGOS AUXILIARES"
   ]
  },
  {
   "cell_type": "markdown",
   "id": "4ee9305e",
   "metadata": {
    "heading_collapsed": true,
    "hidden": true
   },
   "source": [
    "## Carregamento de Imagens"
   ]
  },
  {
   "cell_type": "code",
   "execution_count": 1,
   "id": "cdd135ac",
   "metadata": {
    "ExecuteTime": {
     "end_time": "2021-10-05T23:34:22.298631Z",
     "start_time": "2021-10-05T23:34:22.293693Z"
    },
    "hidden": true
   },
   "outputs": [],
   "source": [
    "from IPython.display import Image"
   ]
  },
  {
   "cell_type": "markdown",
   "id": "3b31edc0",
   "metadata": {},
   "source": [
    "# EXEMPLO 1"
   ]
  },
  {
   "cell_type": "markdown",
   "id": "96a0f0d7",
   "metadata": {
    "heading_collapsed": true
   },
   "source": [
    "## Problema"
   ]
  },
  {
   "cell_type": "markdown",
   "id": "e9e8107f",
   "metadata": {
    "ExecuteTime": {
     "end_time": "2021-09-23T01:15:31.266217Z",
     "start_time": "2021-09-23T01:15:31.260904Z"
    },
    "hidden": true
   },
   "source": [
    "O teorema de Pitágoras é uma relação matemática entre os comprimentos dos lados de qualquer triângulo retângulo. Na geometria euclidiana, o teorema afirma que: \n",
    "\n",
    "\n",
    "```javascript\n",
    "\"Em qualquer triângulo retângulo, o quadrado do comprimento da hipotenusa é igual à soma dos quadrados dos comprimentos dos catetos.\"\n",
    "```"
   ]
  },
  {
   "cell_type": "code",
   "execution_count": 2,
   "id": "6d007865",
   "metadata": {
    "ExecuteTime": {
     "end_time": "2021-10-05T23:34:25.402307Z",
     "start_time": "2021-10-05T23:34:25.379260Z"
    },
    "hidden": true,
    "hide_input": true
   },
   "outputs": [
    {
     "data": {
      "image/png": "[encoded data removed]",
      "text/plain": [
       "<IPython.core.display.Image object>"
      ]
     },
     "execution_count": 2,
     "metadata": {},
     "output_type": "execute_result"
    }
   ],
   "source": [
    "Image('img/exemplo1.png')"
   ]
  },
  {
   "cell_type": "markdown",
   "id": "5688e958",
   "metadata": {
    "hidden": true
   },
   "source": [
    "Crie uma função que receba 3 valores que representarão os lados de um triângulo. Considere que não importa a ordem que serão fornecidos os valores, podendo ser fornecido primeiro a hipotenusa e depois os catetos, ou primeiro os catetos e depois a hipotenusa, etc.\n",
    "\n",
    "Dados os 3 valores, imprima na tela se trata-se de um triângulo-retângulo ou não.\n",
    "\n",
    "Utilize a função assert para testar os resultados."
   ]
  },
  {
   "cell_type": "markdown",
   "id": "111dc674",
   "metadata": {
    "ExecuteTime": {
     "end_time": "2021-09-23T01:18:10.271290Z",
     "start_time": "2021-09-23T01:18:10.267092Z"
    },
    "heading_collapsed": true
   },
   "source": [
    "## Análise"
   ]
  },
  {
   "cell_type": "markdown",
   "id": "e21d12c5",
   "metadata": {
    "hidden": true
   },
   "source": [
    "Iremos utilizar o teorema de Pitágoras.\n",
    "\n",
    "Devemos criar uma função que recebe 3 valores, que representam os valores dos lados do triangulo.\n",
    "\n",
    "A ordem de recebimnto dos valores é independente\n",
    "\n",
    "Devemoso verificar se o triânguloé retangulo ou não\n",
    "\n",
    "Devemos utilizar a a função *assert* para testar os resultados"
   ]
  },
  {
   "cell_type": "markdown",
   "id": "726b8569",
   "metadata": {
    "heading_collapsed": true
   },
   "source": [
    "## Implicações / Proposições / Afirmações"
   ]
  },
  {
   "cell_type": "markdown",
   "id": "77884643",
   "metadata": {
    "hidden": true
   },
   "source": [
    "* A aplicação irá trabalhar com o teorema de Pitágoras\n",
    "* A aplicação deve ser uma função\n",
    "* A aplicação deve receber 3 valores (parâmetros)\n",
    "* A aplicação deve receber os parâmetros sem se preocupar com a ordem\n",
    "* A aplicação deve verificar se os parâmetros recebidos são/formam um triângulo retângulo\n",
    "* Após a aplicação estar pronta, devemos utilizar o *asssert* para testar a aplicação."
   ]
  },
  {
   "cell_type": "markdown",
   "id": "719448b9",
   "metadata": {},
   "source": [
    "## Resolução e Resposta"
   ]
  },
  {
   "cell_type": "code",
   "execution_count": 7,
   "id": "9dfcfbfc",
   "metadata": {
    "ExecuteTime": {
     "end_time": "2021-10-05T23:58:53.089126Z",
     "start_time": "2021-10-05T23:58:53.079787Z"
    }
   },
   "outputs": [],
   "source": [
    "# Rsolução aqui\n",
    "\n",
    "# Import da biblioteca math para a utilização\n",
    "# da função pow(base, expoente)\n",
    "import math\n",
    "\n",
    "# Declaração da Função que testará se os parâmetros\n",
    "# formam um triangulo retângulo ou não\n",
    "def pitagoras(l1, l2, l3):\n",
    "    # Cria uma lista com todos os lados do triangulo\n",
    "    lados = [l1, l2, l3]\n",
    "\n",
    "    # Pega o maior valor da lista com os lados\n",
    "    hip = max(lados)\n",
    "    lados.remove(hip) # Remove da lista o maior valor\n",
    "\n",
    "    # Cria uma variável para receber os outros dois lados \n",
    "    # restantes\n",
    "    cat1 = lados[0]\n",
    "    cat2 = lados[1]\n",
    "\n",
    "    # Verifica se a hipotenusa (o maior lado) ao quadrado é\n",
    "    # igual a soma dos quadrados dos catetos\n",
    "    if math.pow(hip, 2) == (math.pow(cat1, 2) + math.pow(cat2, 2)):\n",
    "        return True # Se for verdadeiro o teste, retorna True\n",
    "    else:\n",
    "        return False # Se for falso o teste, retorna False"
   ]
  },
  {
   "cell_type": "code",
   "execution_count": 10,
   "id": "c0a8d0af",
   "metadata": {
    "ExecuteTime": {
     "end_time": "2021-10-05T23:59:17.766494Z",
     "start_time": "2021-10-05T23:59:17.764487Z"
    }
   },
   "outputs": [],
   "source": [
    "# Testes de resultados\n",
    "assert pitagoras(3, 4, 5), 'O valores não formam um triangulo retângulo.'"
   ]
  },
  {
   "cell_type": "code",
   "execution_count": 11,
   "id": "b8fba4ac",
   "metadata": {
    "ExecuteTime": {
     "end_time": "2021-10-05T23:59:17.880001Z",
     "start_time": "2021-10-05T23:59:17.873036Z"
    }
   },
   "outputs": [
    {
     "ename": "AssertionError",
     "evalue": "O valores não formam um triangulo retângulo.",
     "output_type": "error",
     "traceback": [
      "\u001b[0;31m---------------------------------------------------------------------------\u001b[0m",
      "\u001b[0;31mAssertionError\u001b[0m                            Traceback (most recent call last)",
      "\u001b[0;32m/tmp/ipykernel_15182/3953018279.py\u001b[0m in \u001b[0;36m<module>\u001b[0;34m\u001b[0m\n\u001b[0;32m----> 1\u001b[0;31m \u001b[0;32massert\u001b[0m \u001b[0mpitagoras\u001b[0m\u001b[0;34m(\u001b[0m\u001b[0;36m8\u001b[0m\u001b[0;34m,\u001b[0m \u001b[0;36m4\u001b[0m\u001b[0;34m,\u001b[0m \u001b[0;36m5\u001b[0m\u001b[0;34m)\u001b[0m\u001b[0;34m,\u001b[0m \u001b[0;34m'O valores não formam um triangulo retângulo.'\u001b[0m\u001b[0;34m\u001b[0m\u001b[0;34m\u001b[0m\u001b[0m\n\u001b[0m",
      "\u001b[0;31mAssertionError\u001b[0m: O valores não formam um triangulo retângulo."
     ]
    }
   ],
   "source": [
    "assert pitagoras(8, 4, 5), 'O valores não formam um triangulo retângulo.'"
   ]
  },
  {
   "cell_type": "code",
   "execution_count": 12,
   "id": "894bc1c9",
   "metadata": {
    "ExecuteTime": {
     "end_time": "2021-10-05T23:59:18.052544Z",
     "start_time": "2021-10-05T23:59:18.044354Z"
    }
   },
   "outputs": [
    {
     "ename": "AssertionError",
     "evalue": "O valores não formam um triangulo retângulo.",
     "output_type": "error",
     "traceback": [
      "\u001b[0;31m---------------------------------------------------------------------------\u001b[0m",
      "\u001b[0;31mAssertionError\u001b[0m                            Traceback (most recent call last)",
      "\u001b[0;32m/tmp/ipykernel_15182/270060010.py\u001b[0m in \u001b[0;36m<module>\u001b[0;34m\u001b[0m\n\u001b[0;32m----> 1\u001b[0;31m \u001b[0;32massert\u001b[0m \u001b[0mpitagoras\u001b[0m\u001b[0;34m(\u001b[0m\u001b[0;36m7\u001b[0m\u001b[0;34m,\u001b[0m \u001b[0;36m8\u001b[0m\u001b[0;34m,\u001b[0m \u001b[0;36m9\u001b[0m\u001b[0;34m)\u001b[0m\u001b[0;34m,\u001b[0m \u001b[0;34m'O valores não formam um triangulo retângulo.'\u001b[0m\u001b[0;34m\u001b[0m\u001b[0;34m\u001b[0m\u001b[0m\n\u001b[0m",
      "\u001b[0;31mAssertionError\u001b[0m: O valores não formam um triangulo retângulo."
     ]
    }
   ],
   "source": [
    "assert pitagoras(7, 8, 9), 'O valores não formam um triangulo retângulo.'"
   ]
  },
  {
   "cell_type": "code",
   "execution_count": 13,
   "id": "f0f59d9b",
   "metadata": {
    "ExecuteTime": {
     "end_time": "2021-10-05T23:59:18.671541Z",
     "start_time": "2021-10-05T23:59:18.655219Z"
    }
   },
   "outputs": [
    {
     "ename": "AssertionError",
     "evalue": "O valores não formam um triangulo retângulo.",
     "output_type": "error",
     "traceback": [
      "\u001b[0;31m---------------------------------------------------------------------------\u001b[0m",
      "\u001b[0;31mAssertionError\u001b[0m                            Traceback (most recent call last)",
      "\u001b[0;32m/tmp/ipykernel_15182/785564257.py\u001b[0m in \u001b[0;36m<module>\u001b[0;34m\u001b[0m\n\u001b[0;32m----> 1\u001b[0;31m \u001b[0;32massert\u001b[0m \u001b[0mpitagoras\u001b[0m\u001b[0;34m(\u001b[0m\u001b[0;36m3\u001b[0m\u001b[0;34m,\u001b[0m \u001b[0;36m8\u001b[0m\u001b[0;34m,\u001b[0m \u001b[0;36m5\u001b[0m\u001b[0;34m)\u001b[0m\u001b[0;34m,\u001b[0m \u001b[0;34m'O valores não formam um triangulo retângulo.'\u001b[0m\u001b[0;34m\u001b[0m\u001b[0;34m\u001b[0m\u001b[0m\n\u001b[0m",
      "\u001b[0;31mAssertionError\u001b[0m: O valores não formam um triangulo retângulo."
     ]
    }
   ],
   "source": [
    "assert pitagoras(3, 8, 5), 'O valores não formam um triangulo retângulo.'"
   ]
  },
  {
   "cell_type": "code",
   "execution_count": 14,
   "id": "9359a0bf",
   "metadata": {
    "ExecuteTime": {
     "end_time": "2021-10-05T23:59:45.256920Z",
     "start_time": "2021-10-05T23:59:45.252239Z"
    }
   },
   "outputs": [],
   "source": [
    "assert pitagoras(9, 12, 15), 'O valores não formam um triangulo retângulo.'"
   ]
  },
  {
   "cell_type": "markdown",
   "id": "aca0790e",
   "metadata": {},
   "source": [
    "# EXEMPLO 2"
   ]
  },
  {
   "cell_type": "markdown",
   "id": "c17d71d4",
   "metadata": {
    "heading_collapsed": true
   },
   "source": [
    "## Problema"
   ]
  },
  {
   "cell_type": "markdown",
   "id": "1506a73c",
   "metadata": {
    "ExecuteTime": {
     "end_time": "2021-09-23T01:15:31.266217Z",
     "start_time": "2021-09-23T01:15:31.260904Z"
    },
    "hidden": true
   },
   "source": [
    "Considere as seguinte fórmulas:"
   ]
  },
  {
   "cell_type": "code",
   "execution_count": 3,
   "id": "77cddc20",
   "metadata": {
    "ExecuteTime": {
     "end_time": "2021-10-05T23:37:30.617099Z",
     "start_time": "2021-10-05T23:37:30.605608Z"
    },
    "hidden": true,
    "hide_input": true
   },
   "outputs": [
    {
     "data": {
      "image/png": "[encoded data removed]",
      "text/plain": [
       "<IPython.core.display.Image object>"
      ]
     },
     "execution_count": 3,
     "metadata": {},
     "output_type": "execute_result"
    }
   ],
   "source": [
    "Image('img/exemplo2_1.png')"
   ]
  },
  {
   "cell_type": "code",
   "execution_count": 4,
   "id": "ce6ddbb7",
   "metadata": {
    "ExecuteTime": {
     "end_time": "2021-10-05T23:37:42.982752Z",
     "start_time": "2021-10-05T23:37:42.971763Z"
    },
    "hidden": true,
    "hide_input": true
   },
   "outputs": [
    {
     "data": {
      "image/png": "[encoded data removed]",
      "text/plain": [
       "<IPython.core.display.Image object>"
      ]
     },
     "execution_count": 4,
     "metadata": {},
     "output_type": "execute_result"
    }
   ],
   "source": [
    "Image('img/exemplo2_2.png')"
   ]
  },
  {
   "cell_type": "markdown",
   "id": "2686cd7b",
   "metadata": {
    "hidden": true
   },
   "source": [
    "Escreva as funções F(n) e G(n) de acordo com as suas respectivas fórmulas. Escreva uma função K(n) que receba um inteiro n > 0 e devolva F(n) e G(n). \n",
    "\n",
    "* Para K(2), a função deve devolver os valores 1 e 2\n",
    "* Para K(3), a função deve devolver os valores 3 e 8\n",
    "* Para K(4), a função deve devolver os valores 8 e 11\n",
    "\n",
    "O domínio das funções K(n) são os números naturais (n ∈ ℕ). \n",
    "\n",
    "Imprima uma lista de resultados (F(n), G(n)) para K(n) entre 1 e 5. \n",
    "\n",
    "Utilize a função assert para verificar o resultado das funções.\n",
    "\n",
    "Utilize também a função *try .. catch* junto com função *assert*, na criação da função K para verificar se o parâmetro passado é um valor inteiro."
   ]
  },
  {
   "cell_type": "markdown",
   "id": "b06176a4",
   "metadata": {
    "ExecuteTime": {
     "end_time": "2021-09-23T01:18:10.271290Z",
     "start_time": "2021-09-23T01:18:10.267092Z"
    },
    "heading_collapsed": true
   },
   "source": [
    "## Análise"
   ]
  },
  {
   "cell_type": "markdown",
   "id": "fcf3884e",
   "metadata": {
    "hidden": true
   },
   "source": [
    "Temos duas fórmulas que deve ser descritas como funções para cada uma delas.\n",
    "\n",
    "Temos fórmula K que deve receber um valor *n* e como resultado deve devolvr o conjunto de valores F(n) e G(n)\n",
    "\n",
    "* Para K(2), a função deve devolver os valores 1 e 2\n",
    "* Para K(3), a função deve devolver os valores 3 e 8\n",
    "* Para K(4), a função deve devolver os valores 8 e 11\n",
    "\n",
    "O domínio da função K são os números naturais maiores que zero\n",
    "\n",
    "Devemos utilizar a função assert para validar os resultados da função K\n",
    "\n",
    "Devemos utilizar a função *try .. catch* e *assert* na criação da função K, para validar se o valor passado é um valor natural, maior que zero"
   ]
  },
  {
   "cell_type": "markdown",
   "id": "0b4b6701",
   "metadata": {
    "heading_collapsed": true
   },
   "source": [
    "## Implicações / Proposições / Afirmações"
   ]
  },
  {
   "cell_type": "markdown",
   "id": "54d0587b",
   "metadata": {
    "hidden": true
   },
   "source": [
    "* A aplicação deve ter 3 funções\n",
    "    * A função F(n)\n",
    "    * A função G(n)\n",
    "    * A função K(n)\n",
    "* A resposta da função K(n) é o conjunto de respostas das funções F(n) e G(n)\n",
    "* A função K(n) deve receber um valor inteiro maior que zero.\n",
    "* Para os valores de n = 2, n=3, e n=4, temos que:\n",
    "    * Para K(2), a função deve devolver os valores 1 e 2\n",
    "    * Para K(3), a função deve devolver os valores 3 e 8\n",
    "    * Para K(4), a função deve devolver os valores 8 e 11\n",
    "* A função K(n) deve utilizar `try .. catch` e `assert` para assegurar os valores de entrada (inteiros, maiores que zero)\n",
    "* Devemos testar os resultados com a função `assert`."
   ]
  },
  {
   "cell_type": "markdown",
   "id": "724a29a3",
   "metadata": {},
   "source": [
    "## Resolução e Resposta"
   ]
  },
  {
   "cell_type": "code",
   "execution_count": 21,
   "id": "0295d739",
   "metadata": {
    "ExecuteTime": {
     "end_time": "2021-10-06T00:38:04.965250Z",
     "start_time": "2021-10-06T00:38:04.962017Z"
    }
   },
   "outputs": [],
   "source": [
    "# Resolução aqui\n",
    "\n",
    "# Definição da Função F(n)\n",
    "def f(n):\n",
    "    \n",
    "    # Se o valor de n == 1, F(n) == 2\n",
    "    if n == 1:\n",
    "        return 2\n",
    "    # Se o valor de n == 2, F(n) == 1\n",
    "    elif n == 2:\n",
    "        return 1\n",
    "    # Se o valor de n > 2, F(n) = 2 * f(n -1) + g(n -2)\n",
    "    else:\n",
    "        return 2 * f(n -1) + g(n -2)"
   ]
  },
  {
   "cell_type": "code",
   "execution_count": 22,
   "id": "2e66f6f7",
   "metadata": {
    "ExecuteTime": {
     "end_time": "2021-10-06T00:38:05.433609Z",
     "start_time": "2021-10-06T00:38:05.429163Z"
    }
   },
   "outputs": [],
   "source": [
    "# Definição da Função G(n)\n",
    "def g(n):\n",
    "    \n",
    "    # Se o valor de n < 3, G(n) == n\n",
    "    if n < 3:\n",
    "        return n\n",
    "    # Se o valor de n >= 3, G(n) == g(n -1) + 3 * f(n -2)\n",
    "    else:\n",
    "        return g(n -1) + 3 * f(n -2)"
   ]
  },
  {
   "cell_type": "code",
   "execution_count": 23,
   "id": "029d7911",
   "metadata": {
    "ExecuteTime": {
     "end_time": "2021-10-06T00:38:05.966544Z",
     "start_time": "2021-10-06T00:38:05.959023Z"
    }
   },
   "outputs": [],
   "source": [
    "# Definição de K(n)\n",
    "def k(n):\n",
    "    try:\n",
    "        assert isinstance(n, int)\n",
    "    except(AssertionError):\n",
    "        print('Valor de n deve ser maior que natural e maior que zero')\n",
    "    else:\n",
    "        return (f(n), g(n))"
   ]
  },
  {
   "cell_type": "code",
   "execution_count": 25,
   "id": "79573b41",
   "metadata": {
    "ExecuteTime": {
     "end_time": "2021-10-06T00:38:58.467064Z",
     "start_time": "2021-10-06T00:38:58.464363Z"
    }
   },
   "outputs": [],
   "source": [
    "# Validação das respostas\n",
    "assert k(2) == (1, 2)"
   ]
  },
  {
   "cell_type": "code",
   "execution_count": 26,
   "id": "23a1e69b",
   "metadata": {
    "ExecuteTime": {
     "end_time": "2021-10-06T00:38:58.599642Z",
     "start_time": "2021-10-06T00:38:58.597427Z"
    }
   },
   "outputs": [],
   "source": [
    "assert k(3) == (3, 8)"
   ]
  },
  {
   "cell_type": "code",
   "execution_count": 27,
   "id": "a8a661dc",
   "metadata": {
    "ExecuteTime": {
     "end_time": "2021-10-06T00:38:58.765316Z",
     "start_time": "2021-10-06T00:38:58.763280Z"
    }
   },
   "outputs": [],
   "source": [
    "assert k(4) == (8, 11)"
   ]
  },
  {
   "cell_type": "code",
   "execution_count": 29,
   "id": "96304a3a",
   "metadata": {
    "ExecuteTime": {
     "end_time": "2021-10-06T00:39:42.535505Z",
     "start_time": "2021-10-06T00:39:42.531172Z"
    }
   },
   "outputs": [
    {
     "name": "stdout",
     "output_type": "stream",
     "text": [
      "Valor de n deve ser maior que natural e maior que zero\n"
     ]
    },
    {
     "ename": "AssertionError",
     "evalue": "",
     "output_type": "error",
     "traceback": [
      "\u001b[0;31m---------------------------------------------------------------------------\u001b[0m",
      "\u001b[0;31mAssertionError\u001b[0m                            Traceback (most recent call last)",
      "\u001b[0;32m/tmp/ipykernel_15182/4172388938.py\u001b[0m in \u001b[0;36m<module>\u001b[0;34m\u001b[0m\n\u001b[1;32m      1\u001b[0m \u001b[0;31m# Testes\u001b[0m\u001b[0;34m\u001b[0m\u001b[0;34m\u001b[0m\u001b[0;34m\u001b[0m\u001b[0m\n\u001b[0;32m----> 2\u001b[0;31m \u001b[0;32massert\u001b[0m \u001b[0mk\u001b[0m\u001b[0;34m(\u001b[0m\u001b[0;36m4.4\u001b[0m\u001b[0;34m)\u001b[0m \u001b[0;34m==\u001b[0m \u001b[0;34m(\u001b[0m\u001b[0;36m8\u001b[0m\u001b[0;34m,\u001b[0m \u001b[0;36m11\u001b[0m\u001b[0;34m)\u001b[0m\u001b[0;34m\u001b[0m\u001b[0;34m\u001b[0m\u001b[0m\n\u001b[0m",
      "\u001b[0;31mAssertionError\u001b[0m: "
     ]
    }
   ],
   "source": [
    "# Testes\n",
    "assert k(4.4) == (8, 11)"
   ]
  },
  {
   "cell_type": "code",
   "execution_count": 30,
   "id": "0739a457",
   "metadata": {
    "ExecuteTime": {
     "end_time": "2021-10-06T00:39:56.438155Z",
     "start_time": "2021-10-06T00:39:56.433116Z"
    }
   },
   "outputs": [
    {
     "name": "stdout",
     "output_type": "stream",
     "text": [
      "Valor de n deve ser maior que natural e maior que zero\n"
     ]
    },
    {
     "ename": "AssertionError",
     "evalue": "",
     "output_type": "error",
     "traceback": [
      "\u001b[0;31m---------------------------------------------------------------------------\u001b[0m",
      "\u001b[0;31mAssertionError\u001b[0m                            Traceback (most recent call last)",
      "\u001b[0;32m/tmp/ipykernel_15182/3924496148.py\u001b[0m in \u001b[0;36m<module>\u001b[0;34m\u001b[0m\n\u001b[1;32m      1\u001b[0m \u001b[0;31m# Testes\u001b[0m\u001b[0;34m\u001b[0m\u001b[0;34m\u001b[0m\u001b[0;34m\u001b[0m\u001b[0m\n\u001b[0;32m----> 2\u001b[0;31m \u001b[0;32massert\u001b[0m \u001b[0mk\u001b[0m\u001b[0;34m(\u001b[0m\u001b[0;34m'n'\u001b[0m\u001b[0;34m)\u001b[0m \u001b[0;34m==\u001b[0m \u001b[0;34m(\u001b[0m\u001b[0;36m8\u001b[0m\u001b[0;34m,\u001b[0m \u001b[0;36m11\u001b[0m\u001b[0;34m)\u001b[0m\u001b[0;34m\u001b[0m\u001b[0;34m\u001b[0m\u001b[0m\n\u001b[0m",
      "\u001b[0;31mAssertionError\u001b[0m: "
     ]
    }
   ],
   "source": [
    "# Testes\n",
    "assert k('n') == (8, 11)"
   ]
  },
  {
   "cell_type": "code",
   "execution_count": 33,
   "id": "766be346",
   "metadata": {
    "ExecuteTime": {
     "end_time": "2021-10-06T00:42:06.891340Z",
     "start_time": "2021-10-06T00:42:06.888514Z"
    }
   },
   "outputs": [],
   "source": [
    "# Testes\n",
    "assert k(16) == (331502, 302087)"
   ]
  }
 ],
 "metadata": {
  "kernelspec": {
   "display_name": "Python 3 (ipykernel)",
   "language": "python",
   "name": "python3"
  },
  "language_info": {
   "codemirror_mode": {
    "name": "ipython",
    "version": 3
   },
   "file_extension": ".py",
   "mimetype": "text/x-python",
   "name": "python",
   "nbconvert_exporter": "python",
   "pygments_lexer": "ipython3",
   "version": "3.9.7"
  },
  "latex_envs": {
   "LaTeX_envs_menu_present": true,
   "autoclose": false,
   "autocomplete": true,
   "bibliofile": "biblio.bib",
   "cite_by": "apalike",
   "current_citInitial": 1,
   "eqLabelWithNumbers": true,
   "eqNumInitial": 1,
   "hotkeys": {
    "equation": "Ctrl-E",
    "itemize": "Ctrl-I"
   },
   "labels_anchors": false,
   "latex_user_defs": false,
   "report_style_numbering": false,
   "user_envs_cfg": false
  },
  "toc": {
   "base_numbering": 1,
   "nav_menu": {},
   "number_sections": true,
   "sideBar": true,
   "skip_h1_title": false,
   "title_cell": "Table of Contents",
   "title_sidebar": "Contents",
   "toc_cell": false,
   "toc_position": {},
   "toc_section_display": true,
   "toc_window_display": false
  },
  "varInspector": {
   "cols": {
    "lenName": 16,
    "lenType": 16,
    "lenVar": 40
   },
   "kernels_config": {
    "python": {
     "delete_cmd_postfix": "",
     "delete_cmd_prefix": "del ",
     "library": "var_list.py",
     "varRefreshCmd": "print(var_dic_list())"
    },
    "r": {
     "delete_cmd_postfix": ") ",
     "delete_cmd_prefix": "rm(",
     "library": "var_list.r",
     "varRefreshCmd": "cat(var_dic_list()) "
    }
   },
   "types_to_exclude": [
    "module",
    "function",
    "builtin_function_or_method",
    "instance",
    "_Feature"
   ],
   "window_display": false
  }
 },
 "nbformat": 4,
 "nbformat_minor": 5
}
