{
 "cells": [
  {
   "cell_type": "markdown",
   "id": "f66f5ab2",
   "metadata": {
    "heading_collapsed": true
   },
   "source": [
    "# COMANDOS AUXILIARES"
   ]
  },
  {
   "cell_type": "markdown",
   "id": "6a0edcdf",
   "metadata": {
    "heading_collapsed": true,
    "hidden": true
   },
   "source": [
    "## Inserção de imagens"
   ]
  },
  {
   "cell_type": "code",
   "execution_count": 1,
   "id": "fa4c2e60",
   "metadata": {
    "ExecuteTime": {
     "end_time": "2021-10-22T13:20:17.974017Z",
     "start_time": "2021-10-22T13:20:17.969464Z"
    },
    "hidden": true
   },
   "outputs": [],
   "source": [
    "from IPython.display import Image"
   ]
  },
  {
   "cell_type": "markdown",
   "id": "01f00a92",
   "metadata": {
    "heading_collapsed": true
   },
   "source": [
    "# VARIÁVEIS GLOBAIS *vs* VARIÁVEIS LOCAIS"
   ]
  },
  {
   "cell_type": "code",
   "execution_count": 5,
   "id": "adeba6b1",
   "metadata": {
    "ExecuteTime": {
     "end_time": "2022-01-19T23:35:14.219926Z",
     "start_time": "2022-01-19T23:35:14.217818Z"
    },
    "hidden": true
   },
   "outputs": [],
   "source": [
    "nome = 'Pedro'"
   ]
  },
  {
   "cell_type": "code",
   "execution_count": 17,
   "id": "49bd7bd1",
   "metadata": {
    "ExecuteTime": {
     "end_time": "2022-01-19T23:40:37.606847Z",
     "start_time": "2022-01-19T23:40:37.603734Z"
    },
    "hidden": true
   },
   "outputs": [],
   "source": [
    "def funcao1():\n",
    "    sobrenome = 'Guilherme'\n",
    "    \n",
    "    for i in range(2):\n",
    "        outro_iterador = i\n",
    "    \n",
    "    print(f'O conteudo da funcao {nome}')"
   ]
  },
  {
   "cell_type": "code",
   "execution_count": 18,
   "id": "9b905e31",
   "metadata": {
    "ExecuteTime": {
     "end_time": "2022-01-19T23:40:39.301908Z",
     "start_time": "2022-01-19T23:40:39.298787Z"
    },
    "hidden": true
   },
   "outputs": [
    {
     "name": "stdout",
     "output_type": "stream",
     "text": [
      "O conteudo da funcao Pedro\n"
     ]
    }
   ],
   "source": [
    "funcao1()"
   ]
  },
  {
   "cell_type": "code",
   "execution_count": 8,
   "id": "501f0fb5",
   "metadata": {
    "ExecuteTime": {
     "end_time": "2022-01-19T23:35:32.716640Z",
     "start_time": "2022-01-19T23:35:32.660240Z"
    },
    "hidden": true
   },
   "outputs": [
    {
     "ename": "NameError",
     "evalue": "name 'sobrenome' is not defined",
     "output_type": "error",
     "traceback": [
      "\u001b[0;31m---------------------------------------------------------------------------\u001b[0m",
      "\u001b[0;31mNameError\u001b[0m                                 Traceback (most recent call last)",
      "\u001b[0;32m/tmp/ipykernel_5325/3456395287.py\u001b[0m in \u001b[0;36m<module>\u001b[0;34m\u001b[0m\n\u001b[0;32m----> 1\u001b[0;31m \u001b[0msobrenome\u001b[0m\u001b[0;34m\u001b[0m\u001b[0;34m\u001b[0m\u001b[0m\n\u001b[0m",
      "\u001b[0;31mNameError\u001b[0m: name 'sobrenome' is not defined"
     ]
    }
   ],
   "source": [
    "sobrenome"
   ]
  },
  {
   "cell_type": "code",
   "execution_count": 12,
   "id": "f8db89d2",
   "metadata": {
    "ExecuteTime": {
     "end_time": "2022-01-19T23:39:18.817316Z",
     "start_time": "2022-01-19T23:39:18.814457Z"
    },
    "hidden": true
   },
   "outputs": [],
   "source": [
    "nomes = ['Pedro', 'Guilherme']"
   ]
  },
  {
   "cell_type": "code",
   "execution_count": 14,
   "id": "a862c2bf",
   "metadata": {
    "ExecuteTime": {
     "end_time": "2022-01-19T23:39:27.954747Z",
     "start_time": "2022-01-19T23:39:27.951505Z"
    },
    "hidden": true
   },
   "outputs": [
    {
     "name": "stdout",
     "output_type": "stream",
     "text": [
      "Pedro\n",
      "Guilherme\n"
     ]
    }
   ],
   "source": [
    "for i in range(2):\n",
    "    iterador = i\n",
    "    print(nomes[i])"
   ]
  },
  {
   "cell_type": "code",
   "execution_count": 15,
   "id": "e34ecade",
   "metadata": {
    "ExecuteTime": {
     "end_time": "2022-01-19T23:39:30.796174Z",
     "start_time": "2022-01-19T23:39:30.792206Z"
    },
    "hidden": true
   },
   "outputs": [
    {
     "data": {
      "text/plain": [
       "1"
      ]
     },
     "execution_count": 15,
     "metadata": {},
     "output_type": "execute_result"
    }
   ],
   "source": [
    "i"
   ]
  },
  {
   "cell_type": "code",
   "execution_count": 16,
   "id": "bc685e20",
   "metadata": {
    "ExecuteTime": {
     "end_time": "2022-01-19T23:40:07.709855Z",
     "start_time": "2022-01-19T23:40:07.706117Z"
    },
    "hidden": true
   },
   "outputs": [
    {
     "data": {
      "text/plain": [
       "1"
      ]
     },
     "execution_count": 16,
     "metadata": {},
     "output_type": "execute_result"
    }
   ],
   "source": [
    "iterador"
   ]
  },
  {
   "cell_type": "code",
   "execution_count": 19,
   "id": "05b6dcaf",
   "metadata": {
    "ExecuteTime": {
     "end_time": "2022-01-19T23:40:51.828989Z",
     "start_time": "2022-01-19T23:40:51.822929Z"
    },
    "hidden": true
   },
   "outputs": [
    {
     "ename": "NameError",
     "evalue": "name 'outro_iterador' is not defined",
     "output_type": "error",
     "traceback": [
      "\u001b[0;31m---------------------------------------------------------------------------\u001b[0m",
      "\u001b[0;31mNameError\u001b[0m                                 Traceback (most recent call last)",
      "\u001b[0;32m/tmp/ipykernel_5325/4109515525.py\u001b[0m in \u001b[0;36m<module>\u001b[0;34m\u001b[0m\n\u001b[0;32m----> 1\u001b[0;31m \u001b[0moutro_iterador\u001b[0m\u001b[0;34m\u001b[0m\u001b[0;34m\u001b[0m\u001b[0m\n\u001b[0m",
      "\u001b[0;31mNameError\u001b[0m: name 'outro_iterador' is not defined"
     ]
    }
   ],
   "source": [
    "outro_iterador"
   ]
  },
  {
   "cell_type": "code",
   "execution_count": 37,
   "id": "21779769",
   "metadata": {
    "ExecuteTime": {
     "end_time": "2022-01-19T23:57:29.636465Z",
     "start_time": "2022-01-19T23:57:29.632781Z"
    },
    "hidden": true
   },
   "outputs": [
    {
     "data": {
      "text/plain": [
       "'32'"
      ]
     },
     "execution_count": 37,
     "metadata": {},
     "output_type": "execute_result"
    }
   ],
   "source": [
    "idade = '32'\n",
    "idade"
   ]
  },
  {
   "cell_type": "code",
   "execution_count": 38,
   "id": "764fff4e",
   "metadata": {
    "ExecuteTime": {
     "end_time": "2022-01-19T23:57:29.755930Z",
     "start_time": "2022-01-19T23:57:29.753317Z"
    },
    "hidden": true
   },
   "outputs": [
    {
     "name": "stdout",
     "output_type": "stream",
     "text": [
      "140302284498992\n"
     ]
    }
   ],
   "source": [
    "print(id(idade))"
   ]
  },
  {
   "cell_type": "code",
   "execution_count": 39,
   "id": "266899d0",
   "metadata": {
    "ExecuteTime": {
     "end_time": "2022-01-19T23:57:29.905618Z",
     "start_time": "2022-01-19T23:57:29.901644Z"
    },
    "hidden": true
   },
   "outputs": [
    {
     "data": {
      "text/plain": [
       "['1', '2', '3', '4', '5', '6']"
      ]
     },
     "execution_count": 39,
     "metadata": {},
     "output_type": "execute_result"
    }
   ],
   "source": [
    "valores = ['1', '2', '3', '4', '5', '6']\n",
    "valores"
   ]
  },
  {
   "cell_type": "code",
   "execution_count": 40,
   "id": "8dedacfa",
   "metadata": {
    "ExecuteTime": {
     "end_time": "2022-01-19T23:57:30.470982Z",
     "start_time": "2022-01-19T23:57:30.467357Z"
    },
    "hidden": true
   },
   "outputs": [
    {
     "name": "stdout",
     "output_type": "stream",
     "text": [
      "1\n",
      "2\n",
      "3\n",
      "4\n",
      "5\n",
      "6\n"
     ]
    }
   ],
   "source": [
    "for outronome in valores:\n",
    "    print(outronome)"
   ]
  },
  {
   "cell_type": "code",
   "execution_count": 41,
   "id": "feeac78d",
   "metadata": {
    "ExecuteTime": {
     "end_time": "2022-01-19T23:57:31.073805Z",
     "start_time": "2022-01-19T23:57:31.070316Z"
    },
    "hidden": true
   },
   "outputs": [
    {
     "data": {
      "text/plain": [
       "'32'"
      ]
     },
     "execution_count": 41,
     "metadata": {},
     "output_type": "execute_result"
    }
   ],
   "source": [
    "idade"
   ]
  },
  {
   "cell_type": "code",
   "execution_count": 44,
   "id": "60cbdf06",
   "metadata": {
    "ExecuteTime": {
     "end_time": "2022-01-20T00:00:04.686197Z",
     "start_time": "2022-01-20T00:00:04.682148Z"
    },
    "hidden": true
   },
   "outputs": [],
   "source": [
    "def outrafunc():\n",
    "    idade = 29\n",
    "    print(idade)"
   ]
  },
  {
   "cell_type": "code",
   "execution_count": 45,
   "id": "11fbc4fc",
   "metadata": {
    "ExecuteTime": {
     "end_time": "2022-01-20T00:00:05.482873Z",
     "start_time": "2022-01-20T00:00:05.480252Z"
    },
    "hidden": true
   },
   "outputs": [
    {
     "name": "stdout",
     "output_type": "stream",
     "text": [
      "29\n"
     ]
    }
   ],
   "source": [
    "outrafunc()"
   ]
  },
  {
   "cell_type": "code",
   "execution_count": 46,
   "id": "1491322e",
   "metadata": {
    "ExecuteTime": {
     "end_time": "2022-01-20T00:00:12.523272Z",
     "start_time": "2022-01-20T00:00:12.519622Z"
    },
    "hidden": true
   },
   "outputs": [
    {
     "data": {
      "text/plain": [
       "'32'"
      ]
     },
     "execution_count": 46,
     "metadata": {},
     "output_type": "execute_result"
    }
   ],
   "source": [
    "idade"
   ]
  },
  {
   "cell_type": "code",
   "execution_count": null,
   "id": "13e3cade",
   "metadata": {
    "hidden": true
   },
   "outputs": [],
   "source": []
  },
  {
   "cell_type": "code",
   "execution_count": null,
   "id": "84ff3da9",
   "metadata": {
    "hidden": true
   },
   "outputs": [],
   "source": []
  },
  {
   "cell_type": "markdown",
   "id": "e4d9c403",
   "metadata": {
    "heading_collapsed": true,
    "hidden": true
   },
   "source": [
    "## Variável Global"
   ]
  },
  {
   "cell_type": "markdown",
   "id": "f4c43405",
   "metadata": {
    "hidden": true
   },
   "source": [
    "O conceito de variável global é o mais simples e intuitivo possível: É uma variável que pode ser utilizada em todo o código Python que escrevemos, seja dentro de uma função, dentro de uma estrutura de repetição ou decisão, de uma classe, etc.\n",
    "\n",
    "A variável Global, uma vez criada, é **acessível** em qualquer parte do nosso código.\n",
    "\n",
    "Imagine qua a célula de código abaixo é um arquivo Python, com o nome `aula_06.py`. Agora vamos exemplificar a criação de uma variável local:"
   ]
  },
  {
   "cell_type": "code",
   "execution_count": 2,
   "id": "c46af4b4",
   "metadata": {
    "ExecuteTime": {
     "end_time": "2021-10-22T14:24:10.110329Z",
     "start_time": "2021-10-22T14:24:10.103621Z"
    },
    "hidden": true
   },
   "outputs": [],
   "source": [
    "# Criação da Variável Global\n",
    "nome = 'Pedro'"
   ]
  },
  {
   "cell_type": "markdown",
   "id": "24c01ba3",
   "metadata": {
    "hidden": true
   },
   "source": [
    "O que acabamos de fazer na célula acima foi criar uma variável gobal!\n",
    "\n",
    "Agora imgine que na célula abaixo iremos continuar a escrever no nosso arquivo `aula_06.py`. O que faremos agora será criar uma função e utilizar nossa variável global dentro dessa função:"
   ]
  },
  {
   "cell_type": "code",
   "execution_count": 3,
   "id": "d39c5209",
   "metadata": {
    "ExecuteTime": {
     "end_time": "2021-10-22T14:38:34.792749Z",
     "start_time": "2021-10-22T14:38:34.790348Z"
    },
    "hidden": true
   },
   "outputs": [
    {
     "name": "stdout",
     "output_type": "stream",
     "text": [
      "Variável dentro da função: Pedro\n"
     ]
    }
   ],
   "source": [
    "# Criação da Variável Global\n",
    "nome = 'Pedro'\n",
    "\n",
    "# Criação da Função\n",
    "def funcao():\n",
    "    print(f'Variável dentro da função: {nome}')\n",
    "\n",
    "# Utilização da função\n",
    "funcao()"
   ]
  },
  {
   "cell_type": "markdown",
   "id": "12129d62",
   "metadata": {
    "hidden": true
   },
   "source": [
    "Observe que não estamos passando nenhum argumento para a nossa função e estamos utilizando uma variável que foi criada fora dela. Isso ocorre por conta da variável nome ser uma variável global.\n",
    "\n",
    "Vamos continuar a escrever no nosso arquivo `aula_06.py` e agora iremos utilizar a nossa variável dentro de uma estrutura de repetição:"
   ]
  },
  {
   "cell_type": "code",
   "execution_count": 38,
   "id": "16a4447d",
   "metadata": {
    "ExecuteTime": {
     "end_time": "2021-10-22T14:38:23.253540Z",
     "start_time": "2021-10-22T14:38:23.249527Z"
    },
    "hidden": true
   },
   "outputs": [
    {
     "name": "stdout",
     "output_type": "stream",
     "text": [
      "Variável dentro da função: Pedro\n",
      "Variável dentro do for: Pedro\n",
      "Variável dentro do for: Pedro\n",
      "Variável dentro do for: Pedro\n",
      "Variável dentro do for: Pedro\n",
      "Variável dentro do for: Pedro\n"
     ]
    }
   ],
   "source": [
    "# Criação da Variável Global\n",
    "nome = 'Pedro'\n",
    "\n",
    "# Criação da Função\n",
    "def funcao():\n",
    "    print(f'Variável dentro da função: {nome}')\n",
    "\n",
    "# Utilização da função\n",
    "funcao()\n",
    "\n",
    "# Criação da estrutura for\n",
    "for _ in range(5):\n",
    "    print(f'Variável dentro do for: {nome}')"
   ]
  },
  {
   "cell_type": "markdown",
   "id": "d33fab13",
   "metadata": {
    "hidden": true
   },
   "source": [
    "Novamente conseguimos utilizar a variável dentro de uma estrutura!\n",
    "\n",
    "Vamos agora utilizar criar uma classe dentro do nosso arquivo `aula_06.py` e utiliar nossa variável dentro dela:"
   ]
  },
  {
   "cell_type": "code",
   "execution_count": 37,
   "id": "7ab6a3f4",
   "metadata": {
    "ExecuteTime": {
     "end_time": "2021-10-22T14:38:04.726895Z",
     "start_time": "2021-10-22T14:38:04.723132Z"
    },
    "hidden": true
   },
   "outputs": [
    {
     "name": "stdout",
     "output_type": "stream",
     "text": [
      "Variável dentro da função: Pedro\n",
      "Variável dentro do for: Pedro\n",
      "Variável dentro do for: Pedro\n",
      "Variável dentro do for: Pedro\n",
      "Variável dentro do for: Pedro\n",
      "Variável dentro do for: Pedro\n",
      "Variável dentro da Classe: Pedro\n"
     ]
    }
   ],
   "source": [
    "# Criação da Variável Global\n",
    "nome = 'Pedro'\n",
    "\n",
    "# Criação da Função\n",
    "def funcao():\n",
    "    print(f'Variável dentro da função: {nome}')\n",
    "\n",
    "# Utilização da função\n",
    "funcao()\n",
    "\n",
    "# Criação da estrutura for\n",
    "for _ in range(5):\n",
    "    print(f'Variável dentro do for: {nome}')\n",
    "    \n",
    "# Criação da Classe Carro\n",
    "class Carro():\n",
    "    def __init__(self):\n",
    "        print(f'Variável dentro da Classe: {nome}')\n",
    "        \n",
    "# Criação do objeto Carro\n",
    "carro = Carro()"
   ]
  },
  {
   "cell_type": "markdown",
   "id": "db85f145",
   "metadata": {
    "hidden": true
   },
   "source": [
    "Dessa forma, uma variável global dentro do Python é acessível por qualquer parte da aplicação. \n",
    "\n",
    "Embora a possibilidade de criação e utilização de uma variável global exista, ela é considerada como uma má pratica. Isso porque essa variável pode ser acessível dentro de qualquer parte do código, e a utilização dela pode gerar erros e *bugs* inesperados e difíceis de rastrear."
   ]
  },
  {
   "cell_type": "markdown",
   "id": "05176701",
   "metadata": {
    "heading_collapsed": true,
    "hidden": true
   },
   "source": [
    "## Variável Local"
   ]
  },
  {
   "cell_type": "markdown",
   "id": "abe4b91b",
   "metadata": {
    "hidden": true
   },
   "source": [
    "Uma variável local pode ser entendida como uma variável que é acessivel somente dentro de um determinado escopo. E quando falamos em escopo, podemos entender como uma função ou uma classe por exemplo.\n",
    "\n",
    "Ou seja, sempre que criamos uma variável dentro de uma estrutura, que não a estrutura principal de um arquivo Python, essa variável se torna uma variável local e só pode ser acessível dentro dessa estrutura."
   ]
  },
  {
   "cell_type": "code",
   "execution_count": 16,
   "id": "897b523a",
   "metadata": {
    "ExecuteTime": {
     "end_time": "2021-10-22T13:33:20.536741Z",
     "start_time": "2021-10-22T13:33:20.533859Z"
    },
    "hidden": true
   },
   "outputs": [],
   "source": [
    "# Definição da lista\n",
    "lista = ['Pedro', 'Guilherme', 'Volpato', 'Ferraresi']"
   ]
  },
  {
   "cell_type": "code",
   "execution_count": 19,
   "id": "72d6cdc2",
   "metadata": {
    "ExecuteTime": {
     "end_time": "2021-10-22T13:33:52.236355Z",
     "start_time": "2021-10-22T13:33:52.234040Z"
    },
    "hidden": true
   },
   "outputs": [],
   "source": [
    "# Definição da função\n",
    "def print_name(_list):\n",
    "    for var_local_funcao in _list:\n",
    "        print (var_local_funcao)"
   ]
  },
  {
   "cell_type": "code",
   "execution_count": 20,
   "id": "33b2cccb",
   "metadata": {
    "ExecuteTime": {
     "end_time": "2021-10-22T13:33:52.528387Z",
     "start_time": "2021-10-22T13:33:52.525938Z"
    },
    "hidden": true
   },
   "outputs": [
    {
     "name": "stdout",
     "output_type": "stream",
     "text": [
      "Pedro\n",
      "Guilherme\n",
      "Volpato\n",
      "Ferraresi\n"
     ]
    }
   ],
   "source": [
    "print_name(lista)"
   ]
  },
  {
   "cell_type": "markdown",
   "id": "ed425a81",
   "metadata": {
    "hidden": true
   },
   "source": [
    "Note que criamos uma varíavel utilizando um *loop for* chamada `var_local_funcao`, e essa variável está dentro da função `print_name()`. Observe que dentro do **escopo** da função, ou seja, dentro do bloco de comandos que pertencem ao *loop for*, a variável `var_local_funcao` é acessivél, ou seja, conseguimos utilizá-la. Porém, se tentarmos utilizá-la fora do **escopo** da função, que é o local onde o *loop for* não existe, teremos um erro de `NameError` nos informando que a variável `var_local_funcao` não foi definida:"
   ]
  },
  {
   "cell_type": "code",
   "execution_count": 22,
   "id": "ac465a8a",
   "metadata": {
    "ExecuteTime": {
     "end_time": "2021-10-22T13:36:51.423599Z",
     "start_time": "2021-10-22T13:36:51.409867Z"
    },
    "hidden": true
   },
   "outputs": [
    {
     "ename": "NameError",
     "evalue": "name 'var_local_funcao' is not defined",
     "output_type": "error",
     "traceback": [
      "\u001b[0;31m---------------------------------------------------------------------------\u001b[0m",
      "\u001b[0;31mNameError\u001b[0m                                 Traceback (most recent call last)",
      "\u001b[0;32m/tmp/ipykernel_19861/3040826879.py\u001b[0m in \u001b[0;36m<module>\u001b[0;34m\u001b[0m\n\u001b[0;32m----> 1\u001b[0;31m \u001b[0mvar_local_funcao\u001b[0m\u001b[0;34m\u001b[0m\u001b[0;34m\u001b[0m\u001b[0m\n\u001b[0m",
      "\u001b[0;31mNameError\u001b[0m: name 'var_local_funcao' is not defined"
     ]
    }
   ],
   "source": [
    "var_local_funcao"
   ]
  },
  {
   "cell_type": "markdown",
   "id": "79c1fbde",
   "metadata": {
    "hidden": true
   },
   "source": [
    "Isso ocorre, pois quando criamos uma função em Python, essa função acaba virando um \"objeto\" no processo de compilação e a variável `var_local_funcao` é uma variável que existe somente dentro do \"objeto\" criado pela função.\n",
    "\n",
    "O mesmo ocorre quando criamos uma classe em Python e definimos alguns atributos para ela:"
   ]
  },
  {
   "cell_type": "code",
   "execution_count": 24,
   "id": "4e095331",
   "metadata": {
    "ExecuteTime": {
     "end_time": "2021-10-22T13:41:10.471065Z",
     "start_time": "2021-10-22T13:41:10.464274Z"
    },
    "hidden": true
   },
   "outputs": [],
   "source": [
    "# Definição da classe\n",
    "class Pessoa():\n",
    "    def __init__(self, nome):\n",
    "        self.nome = nome"
   ]
  },
  {
   "cell_type": "code",
   "execution_count": 28,
   "id": "fdeb00a2",
   "metadata": {
    "ExecuteTime": {
     "end_time": "2021-10-22T13:43:39.991882Z",
     "start_time": "2021-10-22T13:43:39.982800Z"
    },
    "hidden": true
   },
   "outputs": [
    {
     "name": "stdout",
     "output_type": "stream",
     "text": [
      "<class '__main__.Pessoa'>\n"
     ]
    }
   ],
   "source": [
    "# Criação do objeto do tipo pessoa\n",
    "pessoa = Pessoa('Pedro')\n",
    "\n",
    "# Exibindo o tipo da variável pessoa\n",
    "print(type(pessoa))"
   ]
  },
  {
   "cell_type": "markdown",
   "id": "3d2b290d",
   "metadata": {
    "ExecuteTime": {
     "end_time": "2021-10-22T13:32:12.317216Z",
     "start_time": "2021-10-22T13:32:12.314932Z"
    },
    "hidden": true
   },
   "source": [
    "Se tentarmos acessar o atributo `nome` que foi criado dentro do **escopo** da classe `Pessoa`, teremos o mesmo erro anterior, dizendo que a variável `nome` não foi definida."
   ]
  },
  {
   "cell_type": "code",
   "execution_count": 27,
   "id": "4a917593",
   "metadata": {
    "ExecuteTime": {
     "end_time": "2021-10-22T13:42:39.681286Z",
     "start_time": "2021-10-22T13:42:39.673827Z"
    },
    "hidden": true
   },
   "outputs": [
    {
     "ename": "NameError",
     "evalue": "name 'nome' is not defined",
     "output_type": "error",
     "traceback": [
      "\u001b[0;31m---------------------------------------------------------------------------\u001b[0m",
      "\u001b[0;31mNameError\u001b[0m                                 Traceback (most recent call last)",
      "\u001b[0;32m/tmp/ipykernel_19861/1105393280.py\u001b[0m in \u001b[0;36m<module>\u001b[0;34m\u001b[0m\n\u001b[0;32m----> 1\u001b[0;31m \u001b[0mnome\u001b[0m\u001b[0;34m\u001b[0m\u001b[0;34m\u001b[0m\u001b[0m\n\u001b[0m",
      "\u001b[0;31mNameError\u001b[0m: name 'nome' is not defined"
     ]
    }
   ],
   "source": [
    "nome"
   ]
  },
  {
   "cell_type": "markdown",
   "id": "5670c668",
   "metadata": {
    "ExecuteTime": {
     "end_time": "2021-10-22T13:32:15.554820Z",
     "start_time": "2021-10-22T13:32:15.516959Z"
    },
    "hidden": true
   },
   "source": [
    "Novamente, isso ocorre pois o atributo `nome`, criado dentro da classe, existe somente dentro do **escopo** dela e para acessá-la, temos que utilizar o objeto que criamos:"
   ]
  },
  {
   "cell_type": "code",
   "execution_count": 46,
   "id": "2239c66e",
   "metadata": {
    "ExecuteTime": {
     "end_time": "2021-10-22T15:07:58.374569Z",
     "start_time": "2021-10-22T15:07:58.371272Z"
    },
    "hidden": true
   },
   "outputs": [
    {
     "data": {
      "text/plain": [
       "'Pedro'"
      ]
     },
     "execution_count": 46,
     "metadata": {},
     "output_type": "execute_result"
    }
   ],
   "source": [
    "# Utilização do objeto para acessar o atributo\n",
    "# interno dele\n",
    "pessoa.nome"
   ]
  },
  {
   "cell_type": "markdown",
   "id": "115ac0c6",
   "metadata": {
    "hidden": true
   },
   "source": [
    "Uma cois muito importante de entendermos é que somente classes e funções criamos novos **escopos** no Python. Estruturas como ***if*** ou ***for***, por mais que tenham blocos de códigos próprios, **NÃO** geram novos **escopos**, o que faz com que toda e qualquer variável que criamos em seus blocos de código se tornem variáveis globais!\n",
    "\n",
    "Por exemplo:"
   ]
  },
  {
   "cell_type": "code",
   "execution_count": 47,
   "id": "66dfb3ac",
   "metadata": {
    "ExecuteTime": {
     "end_time": "2021-10-22T15:11:25.624278Z",
     "start_time": "2021-10-22T15:11:25.621132Z"
    },
    "hidden": true
   },
   "outputs": [
    {
     "name": "stdout",
     "output_type": "stream",
     "text": [
      "A variavel nome está dentro do for = Pedro\n",
      "A variavel nome está dentro do for = Ana\n",
      "A variavel nome está dentro do for = Luiz\n",
      "A variavel nome está dentro do for = Camila\n",
      "A variavel nome está dentro do for = João\n",
      "A variável nome está fora do for = João\n"
     ]
    }
   ],
   "source": [
    "nomes = ['Pedro', 'Ana', 'Luiz', 'Camila', 'João']\n",
    "\n",
    "for nome in nomes:\n",
    "    print(f'A variavel nome está dentro do for = {nome}')\n",
    "    \n",
    "print(f'A variável nome está fora do for = {nome}')"
   ]
  },
  {
   "cell_type": "markdown",
   "id": "6d923762",
   "metadata": {
    "heading_collapsed": true,
    "hidden": true
   },
   "source": [
    "## Variáveis Locais e Globais dentro do Jupyter"
   ]
  },
  {
   "cell_type": "markdown",
   "id": "f27a1903",
   "metadata": {
    "hidden": true
   },
   "source": [
    "Dentro do **Jupyter**, toda variável criada se torna gobal. Isso porque o **Jupyter** é uma ferramenta de prototipação e criação de ambientes executáveis, de forma rápida e fácil de testar.\n",
    "\n",
    "Dessa forma, sempre que criamos uma soolução utilizando o **Jupyter**, temos que refatorá-la e transferí-la para um arquivo Python.\n",
    "\n",
    "Porém, como vimos anteriormente, conseguimos criar variáveis locais dentro do **Jupyter**."
   ]
  },
  {
   "cell_type": "markdown",
   "id": "06cfca96",
   "metadata": {
    "heading_collapsed": true,
    "hidden": true
   },
   "source": [
    "## Erros Comuns"
   ]
  },
  {
   "cell_type": "markdown",
   "id": "5791eaf7",
   "metadata": {
    "heading_collapsed": true,
    "hidden": true
   },
   "source": [
    "### Utilização de uma variável local fora de seu contexto"
   ]
  },
  {
   "cell_type": "markdown",
   "id": "96c01c46",
   "metadata": {
    "hidden": true
   },
   "source": [
    "Agora que entendeos o conceito de variável local e gobal, os erros mais comuns que podemos comenter utilizando essas variáveis é tentar utilizar uma variável local como se ela fosse uma variável gobal. Ou seja, criamos uma variável dentro de uma função, e fora dela, tentamos utilizar essa variável!"
   ]
  },
  {
   "cell_type": "code",
   "execution_count": 42,
   "id": "807b5c28",
   "metadata": {
    "ExecuteTime": {
     "end_time": "2021-10-22T14:58:25.389711Z",
     "start_time": "2021-10-22T14:58:25.386953Z"
    },
    "hidden": true
   },
   "outputs": [],
   "source": [
    "def funcao_exemplo():\n",
    "    sobrenome = 'Ferraresi'\n",
    "    print(f'O Conteúdo da variável sobrenome dentro da função é= {sobrenome}')"
   ]
  },
  {
   "cell_type": "code",
   "execution_count": 43,
   "id": "35be9056",
   "metadata": {
    "ExecuteTime": {
     "end_time": "2021-10-22T14:58:35.874181Z",
     "start_time": "2021-10-22T14:58:35.869889Z"
    },
    "hidden": true
   },
   "outputs": [
    {
     "ename": "NameError",
     "evalue": "name 'sobrenome' is not defined",
     "output_type": "error",
     "traceback": [
      "\u001b[0;31m---------------------------------------------------------------------------\u001b[0m",
      "\u001b[0;31mNameError\u001b[0m                                 Traceback (most recent call last)",
      "\u001b[0;32m/tmp/ipykernel_19861/3131298198.py\u001b[0m in \u001b[0;36m<module>\u001b[0;34m\u001b[0m\n\u001b[0;32m----> 1\u001b[0;31m \u001b[0mprint\u001b[0m\u001b[0;34m(\u001b[0m\u001b[0msobrenome\u001b[0m\u001b[0;34m)\u001b[0m\u001b[0;34m\u001b[0m\u001b[0;34m\u001b[0m\u001b[0m\n\u001b[0m",
      "\u001b[0;31mNameError\u001b[0m: name 'sobrenome' is not defined"
     ]
    }
   ],
   "source": [
    "print(sobrenome)"
   ]
  },
  {
   "cell_type": "markdown",
   "id": "49f3fe60",
   "metadata": {
    "heading_collapsed": true,
    "hidden": true
   },
   "source": [
    "### Nomear Variáveis locais e globais de forma igual"
   ]
  },
  {
   "cell_type": "markdown",
   "id": "d3a0d8c7",
   "metadata": {
    "hidden": true
   },
   "source": [
    "Outro erro comum é criarmos uma variável global e, dentro da função, criarmos uma outra variável com o memso nome da variável global. Ou seja, temos duas variáveis, uma global e uma local, com o mesmo nome."
   ]
  },
  {
   "cell_type": "code",
   "execution_count": 45,
   "id": "e31b8945",
   "metadata": {
    "ExecuteTime": {
     "end_time": "2021-10-22T15:00:19.037517Z",
     "start_time": "2021-10-22T15:00:19.034169Z"
    },
    "hidden": true
   },
   "outputs": [
    {
     "name": "stdout",
     "output_type": "stream",
     "text": [
      "O Conteúdo da variável sobrenome antes da função ser executada é = Volapato\n",
      "O Conteúdo da variável sobrenome dentro da função é = Ferraresi\n",
      "O Conteúdo da variável sobrenome depois da função ser executada é = Volapato\n"
     ]
    }
   ],
   "source": [
    "sobrenome = 'Volapato'\n",
    "\n",
    "print(f'O Conteúdo da variável sobrenome antes da função ser executada é = {sobrenome}')\n",
    "\n",
    "def funcao_exemplo():\n",
    "    sobrenome = 'Ferraresi'\n",
    "    print(f'O Conteúdo da variável sobrenome dentro da função é = {sobrenome}')\n",
    "\n",
    "funcao_exemplo()\n",
    "\n",
    "print(f'O Conteúdo da variável sobrenome depois da função ser executada é = {sobrenome}')"
   ]
  },
  {
   "cell_type": "markdown",
   "id": "b0ca7ae0",
   "metadata": {
    "hidden": true
   },
   "source": [
    "O que acontece nesse caso é que o Python consegue entender a diferença de escopo entre as variávies, por mais que ambas tenham o mesmo nome!"
   ]
  },
  {
   "cell_type": "markdown",
   "id": "820af63f",
   "metadata": {
    "heading_collapsed": true,
    "hidden": true
   },
   "source": [
    "### Utilização de variaveis globais em estruturas"
   ]
  },
  {
   "cell_type": "markdown",
   "id": "c0607c8a",
   "metadata": {
    "hidden": true
   },
   "source": [
    "Além disso, outro erro comum é quando criamos uma variável global com um determinado nome e utilizamos esse mesmo nome para definir uma variável em uma estrutura que **NÃO** gera um novo escopo na aplicação, como o ***for*** por exemplo:"
   ]
  },
  {
   "cell_type": "code",
   "execution_count": 21,
   "id": "c7c22962",
   "metadata": {
    "ExecuteTime": {
     "end_time": "2022-01-19T23:45:59.865920Z",
     "start_time": "2022-01-19T23:45:59.862044Z"
    },
    "hidden": true
   },
   "outputs": [
    {
     "name": "stdout",
     "output_type": "stream",
     "text": [
      "A variável nome antes do for = Bacon\n",
      "A variável nome dentro do for = Pedro\n",
      "A variável nome dentro do for = Ana\n",
      "A variável nome dentro do for = Luiz\n",
      "A variável nome dentro do for = Camila\n",
      "A variável nome dentro do for = João\n",
      "A variável nome após a execução do for = João\n"
     ]
    }
   ],
   "source": [
    "# Criação da lista de nomes\n",
    "nomes = ['Pedro', 'Ana', 'Luiz', 'Camila', 'João']\n",
    "\n",
    "# Criação da variável nome (Global)\n",
    "nome = 'Bacon'\n",
    "\n",
    "# Exibição da variável antes da execução do for\n",
    "print(f'A variável nome antes do for = {nome}')\n",
    "\n",
    "# Declaração do for e utilização da variável global\n",
    "for nome in nomes:\n",
    "    print(f'A variável nome dentro do for = {nome}')\n",
    "    \n",
    "print(f'A variável nome após a execução do for = {nome}')"
   ]
  },
  {
   "cell_type": "markdown",
   "id": "56cceb0e",
   "metadata": {},
   "source": [
    "# ESTRUTURAS MUTÁVEIS *vs* ESTRUTURAS IMUTÁVEIS"
   ]
  },
  {
   "cell_type": "markdown",
   "id": "b08e8dc5",
   "metadata": {},
   "source": [
    "Como já foi dito anteriormente, tudo dentro do Python é um objeto. E esses objetos podem ser mutáveis ou imutáveis. De uma modo geral, um objeto **Mutável** pode ser alterado após a sua criação. Já um objeto **Imutável** não pode ser alterado.\n",
    "\n",
    "Como exemplos mais simples temos as listas e as tuplas: Listas são objetos **Mutáveis** e Tuplas são objetos **Imutáveis**.\n",
    "\n",
    "Tipos de dados *built-in* do Python que são **Imutáveis** são:\n",
    "* int\n",
    "* float\n",
    "* bool\n",
    "* str\n",
    "* tuple\n",
    "\n",
    "Já os tipos *built-in* do Python que são **Mutáveis** são:\n",
    "* list\n",
    "* dict\n",
    "* set"
   ]
  },
  {
   "cell_type": "code",
   "execution_count": 75,
   "id": "7e16d495",
   "metadata": {
    "ExecuteTime": {
     "end_time": "2022-01-20T00:11:43.917778Z",
     "start_time": "2022-01-20T00:11:43.913804Z"
    }
   },
   "outputs": [
    {
     "data": {
      "text/plain": [
       "['Pedro', 'Ferraresi']"
      ]
     },
     "execution_count": 75,
     "metadata": {},
     "output_type": "execute_result"
    }
   ],
   "source": [
    "nomes = ['Pedro', 'Ferraresi']\n",
    "nomes"
   ]
  },
  {
   "cell_type": "code",
   "execution_count": 80,
   "id": "84e45355",
   "metadata": {
    "ExecuteTime": {
     "end_time": "2022-01-20T00:12:47.871983Z",
     "start_time": "2022-01-20T00:12:47.868395Z"
    }
   },
   "outputs": [
    {
     "data": {
      "text/plain": [
       "140302284270784"
      ]
     },
     "execution_count": 80,
     "metadata": {},
     "output_type": "execute_result"
    }
   ],
   "source": [
    "id(nomes)"
   ]
  },
  {
   "cell_type": "code",
   "execution_count": 81,
   "id": "a7a576a0",
   "metadata": {
    "ExecuteTime": {
     "end_time": "2022-01-20T00:12:48.038370Z",
     "start_time": "2022-01-20T00:12:48.035525Z"
    }
   },
   "outputs": [
    {
     "data": {
      "text/plain": [
       "['Pedro', 'Ferraresi', 32]"
      ]
     },
     "execution_count": 81,
     "metadata": {},
     "output_type": "execute_result"
    }
   ],
   "source": [
    "nomes.append(32)\n",
    "nomes"
   ]
  },
  {
   "cell_type": "code",
   "execution_count": 82,
   "id": "05f48668",
   "metadata": {
    "ExecuteTime": {
     "end_time": "2022-01-20T00:12:48.183494Z",
     "start_time": "2022-01-20T00:12:48.179326Z"
    }
   },
   "outputs": [
    {
     "data": {
      "text/plain": [
       "140302284270784"
      ]
     },
     "execution_count": 82,
     "metadata": {},
     "output_type": "execute_result"
    }
   ],
   "source": [
    "id(nomes)"
   ]
  },
  {
   "cell_type": "code",
   "execution_count": 85,
   "id": "c8dd56d5",
   "metadata": {
    "ExecuteTime": {
     "end_time": "2022-01-20T00:13:07.851238Z",
     "start_time": "2022-01-20T00:13:07.846403Z"
    }
   },
   "outputs": [
    {
     "ename": "ValueError",
     "evalue": "list.remove(x): x not in list",
     "output_type": "error",
     "traceback": [
      "\u001b[0;31m---------------------------------------------------------------------------\u001b[0m",
      "\u001b[0;31mValueError\u001b[0m                                Traceback (most recent call last)",
      "\u001b[0;32m/tmp/ipykernel_5325/4033019810.py\u001b[0m in \u001b[0;36m<module>\u001b[0;34m\u001b[0m\n\u001b[0;32m----> 1\u001b[0;31m \u001b[0mx\u001b[0m \u001b[0;34m=\u001b[0m \u001b[0mnomes\u001b[0m\u001b[0;34m.\u001b[0m\u001b[0mremove\u001b[0m\u001b[0;34m(\u001b[0m\u001b[0;36m0\u001b[0m\u001b[0;34m)\u001b[0m\u001b[0;34m\u001b[0m\u001b[0;34m\u001b[0m\u001b[0m\n\u001b[0m\u001b[1;32m      2\u001b[0m \u001b[0mx\u001b[0m\u001b[0;34m\u001b[0m\u001b[0;34m\u001b[0m\u001b[0m\n",
      "\u001b[0;31mValueError\u001b[0m: list.remove(x): x not in list"
     ]
    }
   ],
   "source": [
    "x = nomes.remove(0)\n",
    "x"
   ]
  },
  {
   "cell_type": "code",
   "execution_count": 84,
   "id": "69099232",
   "metadata": {
    "ExecuteTime": {
     "end_time": "2022-01-20T00:12:56.309705Z",
     "start_time": "2022-01-20T00:12:56.305775Z"
    }
   },
   "outputs": [
    {
     "data": {
      "text/plain": [
       "['Ferraresi', 32]"
      ]
     },
     "execution_count": 84,
     "metadata": {},
     "output_type": "execute_result"
    }
   ],
   "source": [
    "nomes"
   ]
  },
  {
   "cell_type": "code",
   "execution_count": 71,
   "id": "509b26ba",
   "metadata": {
    "ExecuteTime": {
     "end_time": "2022-01-20T00:09:48.504414Z",
     "start_time": "2022-01-20T00:09:48.500530Z"
    }
   },
   "outputs": [
    {
     "data": {
      "text/plain": [
       "[]"
      ]
     },
     "execution_count": 71,
     "metadata": {},
     "output_type": "execute_result"
    }
   ],
   "source": [
    "x = nomes.pop()\n",
    "nomes.pop()\n",
    "nomes"
   ]
  },
  {
   "cell_type": "code",
   "execution_count": 72,
   "id": "65740aee",
   "metadata": {
    "ExecuteTime": {
     "end_time": "2022-01-20T00:09:53.538825Z",
     "start_time": "2022-01-20T00:09:53.534688Z"
    }
   },
   "outputs": [
    {
     "data": {
      "text/plain": [
       "140302284949760"
      ]
     },
     "execution_count": 72,
     "metadata": {},
     "output_type": "execute_result"
    }
   ],
   "source": [
    "id(nomes)"
   ]
  },
  {
   "cell_type": "code",
   "execution_count": 73,
   "id": "5ba83190",
   "metadata": {
    "ExecuteTime": {
     "end_time": "2022-01-20T00:10:29.640497Z",
     "start_time": "2022-01-20T00:10:29.636805Z"
    }
   },
   "outputs": [
    {
     "data": {
      "text/plain": [
       "['Eduardo']"
      ]
     },
     "execution_count": 73,
     "metadata": {},
     "output_type": "execute_result"
    }
   ],
   "source": [
    "nomes.append('Eduardo')\n",
    "nomes"
   ]
  },
  {
   "cell_type": "code",
   "execution_count": 74,
   "id": "1249b0e2",
   "metadata": {
    "ExecuteTime": {
     "end_time": "2022-01-20T00:10:36.517520Z",
     "start_time": "2022-01-20T00:10:36.513522Z"
    }
   },
   "outputs": [
    {
     "data": {
      "text/plain": [
       "140302284949760"
      ]
     },
     "execution_count": 74,
     "metadata": {},
     "output_type": "execute_result"
    }
   ],
   "source": [
    "id(nomes)"
   ]
  },
  {
   "cell_type": "code",
   "execution_count": null,
   "id": "3467964f",
   "metadata": {},
   "outputs": [],
   "source": []
  },
  {
   "cell_type": "code",
   "execution_count": null,
   "id": "14ba242d",
   "metadata": {},
   "outputs": [],
   "source": []
  },
  {
   "cell_type": "code",
   "execution_count": 63,
   "id": "267d77ea",
   "metadata": {
    "ExecuteTime": {
     "end_time": "2022-01-20T00:08:48.178122Z",
     "start_time": "2022-01-20T00:08:48.174527Z"
    }
   },
   "outputs": [
    {
     "data": {
      "text/plain": [
       "['Eduardo']"
      ]
     },
     "execution_count": 63,
     "metadata": {},
     "output_type": "execute_result"
    }
   ],
   "source": [
    "nomes = ['Eduardo']\n",
    "nomes"
   ]
  },
  {
   "cell_type": "code",
   "execution_count": 64,
   "id": "f4bdc22d",
   "metadata": {
    "ExecuteTime": {
     "end_time": "2022-01-20T00:08:48.298709Z",
     "start_time": "2022-01-20T00:08:48.294408Z"
    }
   },
   "outputs": [
    {
     "data": {
      "text/plain": [
       "140302284355776"
      ]
     },
     "execution_count": 64,
     "metadata": {},
     "output_type": "execute_result"
    }
   ],
   "source": [
    "id(nomes)"
   ]
  },
  {
   "cell_type": "code",
   "execution_count": null,
   "id": "ac0bab4c",
   "metadata": {},
   "outputs": [],
   "source": []
  },
  {
   "cell_type": "code",
   "execution_count": null,
   "id": "b85fbca4",
   "metadata": {},
   "outputs": [],
   "source": []
  },
  {
   "cell_type": "code",
   "execution_count": 53,
   "id": "199371b5",
   "metadata": {
    "ExecuteTime": {
     "end_time": "2022-01-20T00:07:32.910484Z",
     "start_time": "2022-01-20T00:07:32.907054Z"
    }
   },
   "outputs": [
    {
     "data": {
      "text/plain": [
       "32"
      ]
     },
     "execution_count": 53,
     "metadata": {},
     "output_type": "execute_result"
    }
   ],
   "source": [
    "idade = 32\n",
    "idade"
   ]
  },
  {
   "cell_type": "code",
   "execution_count": 54,
   "id": "15b9291e",
   "metadata": {
    "ExecuteTime": {
     "end_time": "2022-01-20T00:07:35.953400Z",
     "start_time": "2022-01-20T00:07:35.949206Z"
    }
   },
   "outputs": [
    {
     "data": {
      "text/plain": [
       "140303007460624"
      ]
     },
     "execution_count": 54,
     "metadata": {},
     "output_type": "execute_result"
    }
   ],
   "source": [
    "id(idade)"
   ]
  },
  {
   "cell_type": "code",
   "execution_count": 55,
   "id": "3ca786db",
   "metadata": {
    "ExecuteTime": {
     "end_time": "2022-01-20T00:07:43.518827Z",
     "start_time": "2022-01-20T00:07:43.515443Z"
    }
   },
   "outputs": [
    {
     "data": {
      "text/plain": [
       "42"
      ]
     },
     "execution_count": 55,
     "metadata": {},
     "output_type": "execute_result"
    }
   ],
   "source": [
    "idade = 42\n",
    "idade"
   ]
  },
  {
   "cell_type": "code",
   "execution_count": 56,
   "id": "44d8fe1d",
   "metadata": {
    "ExecuteTime": {
     "end_time": "2022-01-20T00:07:52.993115Z",
     "start_time": "2022-01-20T00:07:52.989353Z"
    }
   },
   "outputs": [
    {
     "data": {
      "text/plain": [
       "140303007460944"
      ]
     },
     "execution_count": 56,
     "metadata": {},
     "output_type": "execute_result"
    }
   ],
   "source": [
    "id(idade)"
   ]
  },
  {
   "cell_type": "code",
   "execution_count": null,
   "id": "f0158458",
   "metadata": {},
   "outputs": [],
   "source": []
  },
  {
   "cell_type": "code",
   "execution_count": null,
   "id": "346a778c",
   "metadata": {},
   "outputs": [],
   "source": []
  },
  {
   "cell_type": "markdown",
   "id": "a1ee9d21",
   "metadata": {},
   "source": [
    "Mas se tipos numéricos (*int* e *float*) são **Imutáveis**, como conseguimos alterar os seus valores sem que sejam ocasionandos erros?\n",
    "\n",
    "E a resposta está na propriedade `id`. Todo objeto em Python possuí um `id`, ou um identificador em memória. Podemos verificar qual o `id` do nosso objeto utilizando a função `id()`. Quando criamos um novo objeto, o Python cria um `id` para esse objeto, além de definir o seu tipo. E, como vimos em aulas anteriores, o tipo do objeto é definido por inferência, ou seja, o Python \"adivinha\" qual é o tipo de dado que uma variável tem. Com essas duas informações, já conseguimos demonstrar essa questão.\n",
    "\n",
    "Observe o exemplo abaixo:"
   ]
  },
  {
   "cell_type": "code",
   "execution_count": 2,
   "id": "4927fd6f",
   "metadata": {
    "ExecuteTime": {
     "end_time": "2021-10-28T19:08:36.731119Z",
     "start_time": "2021-10-28T19:08:36.727876Z"
    }
   },
   "outputs": [
    {
     "name": "stdout",
     "output_type": "stream",
     "text": [
      "<class 'int'>\n",
      "94125281576992\n"
     ]
    }
   ],
   "source": [
    "# Criando a variável a\n",
    "a = 10\n",
    "\n",
    "# Verificando o tipo da variável a\n",
    "print(type(a))\n",
    "\n",
    "# Verificando o id da variável a\n",
    "print(id(a))"
   ]
  },
  {
   "cell_type": "markdown",
   "id": "f5e2e67d",
   "metadata": {},
   "source": [
    "O valor do `id` do objeto sempre mudará conforme executamos as nossas aplicações. Ou seja, sempre que reiniciamos o *kernel* do Python, será gerado um novo `id` para as nossas variáveis/objetos.\n",
    "\n",
    "Agora, vamos criar uma nova variável e atribuir ao seu conteúdo a variável `a`, que criamos anteriormente:"
   ]
  },
  {
   "cell_type": "code",
   "execution_count": 3,
   "id": "627488d5",
   "metadata": {
    "ExecuteTime": {
     "end_time": "2021-10-28T19:08:38.734651Z",
     "start_time": "2021-10-28T19:08:38.728926Z"
    }
   },
   "outputs": [
    {
     "name": "stdout",
     "output_type": "stream",
     "text": [
      "<class 'int'>\n",
      "94125281576992\n"
     ]
    }
   ],
   "source": [
    "# Criando a variável a\n",
    "b = a\n",
    "\n",
    "# Verificando o tipo da variável b\n",
    "print(type(b))\n",
    "\n",
    "# Verificando o id da variável b\n",
    "print(id(b))"
   ]
  },
  {
   "cell_type": "markdown",
   "id": "216b6c48",
   "metadata": {},
   "source": [
    "Observe que o tipo de dado e o `id` das variáveis `a` e `b` são iguais. Ou seja, ambas as variáveis estão apontando para o mesmo endereço de memória. Podemos comprovar isso com os seguintes testes:"
   ]
  },
  {
   "cell_type": "code",
   "execution_count": 10,
   "id": "7382f0ee",
   "metadata": {
    "ExecuteTime": {
     "end_time": "2021-10-28T19:25:00.363271Z",
     "start_time": "2021-10-28T19:25:00.360329Z"
    }
   },
   "outputs": [
    {
     "name": "stdout",
     "output_type": "stream",
     "text": [
      "As variáveis a e b são iguais? True\n",
      "As variáveis a e b apontam para o memso objeto? True\n",
      "As variáveis a e b possuem o mesmo id? True\n"
     ]
    }
   ],
   "source": [
    "print(f'As variáveis a e b são iguais? {a == b}') # Operador de Igualdade\n",
    "print(f'As variáveis a e b apontam para o memso objeto? {a is b}') # Operador de Identidade\n",
    "print(f'As variáveis a e b possuem o mesmo id? {id(a) == id(b)}') # Verificando se os IDs são iguais"
   ]
  },
  {
   "cell_type": "markdown",
   "id": "a7fe87fd",
   "metadata": {
    "ExecuteTime": {
     "end_time": "2021-10-28T19:21:41.018647Z",
     "start_time": "2021-10-28T19:21:41.015635Z"
    }
   },
   "source": [
    "Agora, o que acontece quando fazemos uma alteração no valor de uma das variáveis?"
   ]
  },
  {
   "cell_type": "code",
   "execution_count": 13,
   "id": "26ef591b",
   "metadata": {
    "ExecuteTime": {
     "end_time": "2021-10-28T19:28:36.587588Z",
     "start_time": "2021-10-28T19:28:36.584920Z"
    }
   },
   "outputs": [
    {
     "name": "stdout",
     "output_type": "stream",
     "text": [
      "<class 'int'>\n",
      "94125281577312\n"
     ]
    }
   ],
   "source": [
    "a = 20\n",
    "\n",
    "# Verificando o tipo da variável a\n",
    "print(type(a))\n",
    "\n",
    "# Verificando o id da variável a\n",
    "print(id(a))"
   ]
  },
  {
   "cell_type": "code",
   "execution_count": 12,
   "id": "6be6435c",
   "metadata": {
    "ExecuteTime": {
     "end_time": "2021-10-28T19:26:11.395301Z",
     "start_time": "2021-10-28T19:26:11.392526Z"
    }
   },
   "outputs": [
    {
     "name": "stdout",
     "output_type": "stream",
     "text": [
      "As variáveis a e b são iguais? False\n",
      "As variáveis a e b apontam para o memso objeto? False\n",
      "As variáveis a e b possuem o mesmo id? False\n"
     ]
    }
   ],
   "source": [
    "print(f'As variáveis a e b são iguais? {a == b}') # Operador de Igualdade\n",
    "print(f'As variáveis a e b apontam para o memso objeto? {a is b}') # Operador de Identidade\n",
    "print(f'As variáveis a e b possuem o mesmo id? {id(a) == id(b)}') # Verificando se os IDs são iguais"
   ]
  },
  {
   "cell_type": "markdown",
   "id": "8d4b715c",
   "metadata": {},
   "source": [
    "Observe que agora, com uma simples alteração, a variável `a` ja recebeu um novo `id`, ou seja, está apontando para um novo local da memória, e isso faz com que ela deixe de ter a mesma \"identidade\" da variável `b`.\n",
    "\n",
    "Esse comportamento ocorre pois o tipo `int` é **Imutável**. Dessa forma, sempre que fizermos uma alteração em uma variável que é **Imutável**, o Python irá criar um novo endereço de memória para essa variável.\n",
    "\n",
    "Esse comportamento não ocorre em variáveis que são **Mutáveis**:"
   ]
  },
  {
   "cell_type": "code",
   "execution_count": 14,
   "id": "7c86d51b",
   "metadata": {
    "ExecuteTime": {
     "end_time": "2021-10-28T19:30:32.562248Z",
     "start_time": "2021-10-28T19:30:32.559667Z"
    }
   },
   "outputs": [
    {
     "name": "stdout",
     "output_type": "stream",
     "text": [
      "[1, 2, 3]\n",
      "<class 'list'>\n",
      "140589922671872\n"
     ]
    }
   ],
   "source": [
    "c = [1, 2, 3]\n",
    "\n",
    "print(c)\n",
    "\n",
    "print(type(c))\n",
    "\n",
    "print(id(c))"
   ]
  },
  {
   "cell_type": "code",
   "execution_count": 15,
   "id": "69aa8122",
   "metadata": {
    "ExecuteTime": {
     "end_time": "2021-10-28T19:31:40.471862Z",
     "start_time": "2021-10-28T19:31:40.469406Z"
    }
   },
   "outputs": [
    {
     "name": "stdout",
     "output_type": "stream",
     "text": [
      "[1, 2, 3]\n",
      "<class 'list'>\n",
      "140589922671872\n"
     ]
    }
   ],
   "source": [
    "d = c\n",
    "\n",
    "print(d)\n",
    "\n",
    "print(type(d))\n",
    "\n",
    "print(id(d))"
   ]
  },
  {
   "cell_type": "code",
   "execution_count": 16,
   "id": "23fed287",
   "metadata": {
    "ExecuteTime": {
     "end_time": "2021-10-28T19:32:09.212631Z",
     "start_time": "2021-10-28T19:32:09.205852Z"
    }
   },
   "outputs": [
    {
     "name": "stdout",
     "output_type": "stream",
     "text": [
      "As variáveis a e b são iguais? True\n",
      "As variáveis a e b apontam para o memso objeto? True\n",
      "As variáveis a e b possuem o mesmo id? True\n"
     ]
    }
   ],
   "source": [
    "print(f'As variáveis a e b são iguais? {c == d}') # Operador de Igualdade\n",
    "print(f'As variáveis a e b apontam para o memso objeto? {c is d}') # Operador de Identidade\n",
    "print(f'As variáveis a e b possuem o mesmo id? {id(c) == id(d)}') # Verificando se os IDs são iguaisO"
   ]
  },
  {
   "cell_type": "markdown",
   "id": "537f7574",
   "metadata": {},
   "source": [
    "Observe que, assim como as variáveis **Imutáveis**, as variáveis **Mutáveis** que acabamos de criar, são do mesmo tipo, têm o mesmo conteúdo e o mesmo `id`.\n",
    "\n",
    "Agora observe o que acontece quando alterarmos uma variável:"
   ]
  },
  {
   "cell_type": "code",
   "execution_count": 17,
   "id": "ee131bea",
   "metadata": {
    "ExecuteTime": {
     "end_time": "2021-10-28T19:33:34.549809Z",
     "start_time": "2021-10-28T19:33:34.546716Z"
    }
   },
   "outputs": [
    {
     "data": {
      "text/plain": [
       "3"
      ]
     },
     "execution_count": 17,
     "metadata": {},
     "output_type": "execute_result"
    }
   ],
   "source": [
    "c.pop() # Remove o último elemento da lista"
   ]
  },
  {
   "cell_type": "code",
   "execution_count": 18,
   "id": "6df0477b",
   "metadata": {
    "ExecuteTime": {
     "end_time": "2021-10-28T19:33:45.019321Z",
     "start_time": "2021-10-28T19:33:45.016097Z"
    }
   },
   "outputs": [
    {
     "name": "stdout",
     "output_type": "stream",
     "text": [
      "[1, 2]\n",
      "<class 'list'>\n",
      "140589922671872\n"
     ]
    }
   ],
   "source": [
    "print(c)\n",
    "\n",
    "print(type(c))\n",
    "\n",
    "print(id(c))"
   ]
  },
  {
   "cell_type": "code",
   "execution_count": 19,
   "id": "bf30fe7c",
   "metadata": {
    "ExecuteTime": {
     "end_time": "2021-10-28T19:33:52.014532Z",
     "start_time": "2021-10-28T19:33:52.011391Z"
    }
   },
   "outputs": [
    {
     "name": "stdout",
     "output_type": "stream",
     "text": [
      "[1, 2]\n",
      "<class 'list'>\n",
      "140589922671872\n"
     ]
    }
   ],
   "source": [
    "print(d)\n",
    "\n",
    "print(type(d))\n",
    "\n",
    "print(id(d))"
   ]
  },
  {
   "cell_type": "code",
   "execution_count": 20,
   "id": "d8e3d5ee",
   "metadata": {
    "ExecuteTime": {
     "end_time": "2021-10-28T19:33:58.122915Z",
     "start_time": "2021-10-28T19:33:58.119705Z"
    }
   },
   "outputs": [
    {
     "name": "stdout",
     "output_type": "stream",
     "text": [
      "As variáveis a e b são iguais? True\n",
      "As variáveis a e b apontam para o memso objeto? True\n",
      "As variáveis a e b possuem o mesmo id? True\n"
     ]
    }
   ],
   "source": [
    "print(f'As variáveis a e b são iguais? {c == d}') # Operador de Igualdade\n",
    "print(f'As variáveis a e b apontam para o memso objeto? {c is d}') # Operador de Identidade\n",
    "print(f'As variáveis a e b possuem o mesmo id? {id(c) == id(d)}') # Verificando se os IDs são iguais"
   ]
  },
  {
   "cell_type": "markdown",
   "id": "142d8f73",
   "metadata": {},
   "source": [
    "Observe que, mesmo que somente a variável `c` tenha sido alterada, a variável `d`, por apontar para o mesmo espaço em memória, ou seja, possuir o mesmo `id`, também teve o seu conteúdo alterado!\n",
    "\n",
    "Esse comportamento ocorre pois o tipo *list* no Python é **Mutável**."
   ]
  },
  {
   "cell_type": "code",
   "execution_count": 88,
   "id": "504a9f85",
   "metadata": {
    "ExecuteTime": {
     "end_time": "2022-01-20T00:15:45.118050Z",
     "start_time": "2022-01-20T00:15:45.114042Z"
    }
   },
   "outputs": [
    {
     "data": {
      "text/plain": [
       "['Pedro', 'Ferraresi']"
      ]
     },
     "execution_count": 88,
     "metadata": {},
     "output_type": "execute_result"
    }
   ],
   "source": [
    "outros_nomes = ['Pedro', 'Ferraresi']\n",
    "outros_nomes"
   ]
  },
  {
   "cell_type": "code",
   "execution_count": 89,
   "id": "9aeda658",
   "metadata": {
    "ExecuteTime": {
     "end_time": "2022-01-20T00:15:56.036648Z",
     "start_time": "2022-01-20T00:15:56.033926Z"
    }
   },
   "outputs": [],
   "source": [
    "outros_nomes[0] = 'Edu'"
   ]
  },
  {
   "cell_type": "code",
   "execution_count": 90,
   "id": "7d2e293b",
   "metadata": {
    "ExecuteTime": {
     "end_time": "2022-01-20T00:15:59.653287Z",
     "start_time": "2022-01-20T00:15:59.649837Z"
    }
   },
   "outputs": [
    {
     "data": {
      "text/plain": [
       "['Edu', 'Ferraresi']"
      ]
     },
     "execution_count": 90,
     "metadata": {},
     "output_type": "execute_result"
    }
   ],
   "source": [
    "outros_nomes"
   ]
  },
  {
   "cell_type": "code",
   "execution_count": 87,
   "id": "b6c89c88",
   "metadata": {
    "ExecuteTime": {
     "end_time": "2022-01-20T00:15:19.024030Z",
     "start_time": "2022-01-20T00:15:19.019602Z"
    }
   },
   "outputs": [
    {
     "data": {
      "text/plain": [
       "('Pedro', 'Ferraresi')"
      ]
     },
     "execution_count": 87,
     "metadata": {},
     "output_type": "execute_result"
    }
   ],
   "source": [
    "nomes = ('Pedro', 'Ferraresi')\n",
    "nomes"
   ]
  },
  {
   "cell_type": "code",
   "execution_count": 91,
   "id": "631f45a6",
   "metadata": {
    "ExecuteTime": {
     "end_time": "2022-01-20T00:16:51.183873Z",
     "start_time": "2022-01-20T00:16:51.179799Z"
    }
   },
   "outputs": [
    {
     "data": {
      "text/plain": [
       "'Pedro'"
      ]
     },
     "execution_count": 91,
     "metadata": {},
     "output_type": "execute_result"
    }
   ],
   "source": [
    "nomes[0]"
   ]
  },
  {
   "cell_type": "code",
   "execution_count": 92,
   "id": "d7cecd4d",
   "metadata": {
    "ExecuteTime": {
     "end_time": "2022-01-20T00:17:00.195155Z",
     "start_time": "2022-01-20T00:17:00.188923Z"
    }
   },
   "outputs": [
    {
     "ename": "TypeError",
     "evalue": "'tuple' object does not support item assignment",
     "output_type": "error",
     "traceback": [
      "\u001b[0;31m---------------------------------------------------------------------------\u001b[0m",
      "\u001b[0;31mTypeError\u001b[0m                                 Traceback (most recent call last)",
      "\u001b[0;32m/tmp/ipykernel_5325/1454677046.py\u001b[0m in \u001b[0;36m<module>\u001b[0;34m\u001b[0m\n\u001b[0;32m----> 1\u001b[0;31m \u001b[0mnomes\u001b[0m\u001b[0;34m[\u001b[0m\u001b[0;36m0\u001b[0m\u001b[0;34m]\u001b[0m \u001b[0;34m=\u001b[0m \u001b[0;34m'Edu'\u001b[0m\u001b[0;34m\u001b[0m\u001b[0;34m\u001b[0m\u001b[0m\n\u001b[0m",
      "\u001b[0;31mTypeError\u001b[0m: 'tuple' object does not support item assignment"
     ]
    }
   ],
   "source": [
    "nomes[0] = 'Edu'"
   ]
  },
  {
   "cell_type": "code",
   "execution_count": 99,
   "id": "fe75ab9b",
   "metadata": {
    "ExecuteTime": {
     "end_time": "2022-01-20T00:19:16.011793Z",
     "start_time": "2022-01-20T00:19:16.009275Z"
    }
   },
   "outputs": [],
   "source": [
    "alunos = (\n",
    "    ['Pedro', 32],\n",
    "    ['Ferraresi', 29],\n",
    ")"
   ]
  },
  {
   "cell_type": "code",
   "execution_count": 100,
   "id": "9ad5b712",
   "metadata": {
    "ExecuteTime": {
     "end_time": "2022-01-20T00:20:09.453961Z",
     "start_time": "2022-01-20T00:20:09.449557Z"
    }
   },
   "outputs": [
    {
     "data": {
      "text/plain": [
       "140302285021888"
      ]
     },
     "execution_count": 100,
     "metadata": {},
     "output_type": "execute_result"
    }
   ],
   "source": [
    "id(nomes)"
   ]
  },
  {
   "cell_type": "code",
   "execution_count": 94,
   "id": "843d83b4",
   "metadata": {
    "ExecuteTime": {
     "end_time": "2022-01-20T00:18:05.327949Z",
     "start_time": "2022-01-20T00:18:05.324103Z"
    }
   },
   "outputs": [
    {
     "data": {
      "text/plain": [
       "(['Pedro', 32], ['Ferraresi', 29])"
      ]
     },
     "execution_count": 94,
     "metadata": {},
     "output_type": "execute_result"
    }
   ],
   "source": [
    "alunos"
   ]
  },
  {
   "cell_type": "code",
   "execution_count": 95,
   "id": "83156223",
   "metadata": {
    "ExecuteTime": {
     "end_time": "2022-01-20T00:18:19.246927Z",
     "start_time": "2022-01-20T00:18:19.242915Z"
    }
   },
   "outputs": [
    {
     "data": {
      "text/plain": [
       "['Pedro', 32]"
      ]
     },
     "execution_count": 95,
     "metadata": {},
     "output_type": "execute_result"
    }
   ],
   "source": [
    "alunos[0]"
   ]
  },
  {
   "cell_type": "code",
   "execution_count": 96,
   "id": "09187f99",
   "metadata": {
    "ExecuteTime": {
     "end_time": "2022-01-20T00:18:35.656085Z",
     "start_time": "2022-01-20T00:18:35.652316Z"
    }
   },
   "outputs": [
    {
     "data": {
      "text/plain": [
       "'Pedro'"
      ]
     },
     "execution_count": 96,
     "metadata": {},
     "output_type": "execute_result"
    }
   ],
   "source": [
    "alunos[0][0]"
   ]
  },
  {
   "cell_type": "code",
   "execution_count": 97,
   "id": "e0e47d7b",
   "metadata": {
    "ExecuteTime": {
     "end_time": "2022-01-20T00:18:48.928425Z",
     "start_time": "2022-01-20T00:18:48.925456Z"
    }
   },
   "outputs": [],
   "source": [
    "alunos[0][0] = 'edu'"
   ]
  },
  {
   "cell_type": "code",
   "execution_count": 98,
   "id": "6d374042",
   "metadata": {
    "ExecuteTime": {
     "end_time": "2022-01-20T00:18:55.635914Z",
     "start_time": "2022-01-20T00:18:55.633206Z"
    }
   },
   "outputs": [
    {
     "data": {
      "text/plain": [
       "(['edu', 32], ['Ferraresi', 29])"
      ]
     },
     "execution_count": 98,
     "metadata": {},
     "output_type": "execute_result"
    }
   ],
   "source": [
    "alunos"
   ]
  },
  {
   "cell_type": "code",
   "execution_count": 101,
   "id": "d30372f4",
   "metadata": {
    "ExecuteTime": {
     "end_time": "2022-01-20T00:20:17.354970Z",
     "start_time": "2022-01-20T00:20:17.351093Z"
    }
   },
   "outputs": [
    {
     "data": {
      "text/plain": [
       "140302285021888"
      ]
     },
     "execution_count": 101,
     "metadata": {},
     "output_type": "execute_result"
    }
   ],
   "source": [
    "id(nomes)"
   ]
  },
  {
   "cell_type": "code",
   "execution_count": null,
   "id": "6f881ece",
   "metadata": {},
   "outputs": [],
   "source": []
  },
  {
   "cell_type": "code",
   "execution_count": 115,
   "id": "418ace72",
   "metadata": {
    "ExecuteTime": {
     "end_time": "2022-01-20T00:32:02.578914Z",
     "start_time": "2022-01-20T00:32:02.575870Z"
    }
   },
   "outputs": [],
   "source": [
    "def imprimi_nomes(nomes = None):\n",
    "    \n",
    "    if nomes == None:\n",
    "        nomes = []\n",
    "        \n",
    "    nomes.append('Edu')\n",
    "    print(f'Os conteudos da lista são => {nomes}')"
   ]
  },
  {
   "cell_type": "code",
   "execution_count": 116,
   "id": "3edd330f",
   "metadata": {
    "ExecuteTime": {
     "end_time": "2022-01-20T00:32:03.159401Z",
     "start_time": "2022-01-20T00:32:03.156567Z"
    }
   },
   "outputs": [
    {
     "name": "stdout",
     "output_type": "stream",
     "text": [
      "Os conteudos da lista são => ['Pedro', 'Ferraresi', 'Edu']\n"
     ]
    }
   ],
   "source": [
    "imprimi_nomes(['Pedro', 'Ferraresi'])"
   ]
  },
  {
   "cell_type": "code",
   "execution_count": 117,
   "id": "feb55737",
   "metadata": {
    "ExecuteTime": {
     "end_time": "2022-01-20T00:32:03.754178Z",
     "start_time": "2022-01-20T00:32:03.750555Z"
    }
   },
   "outputs": [
    {
     "name": "stdout",
     "output_type": "stream",
     "text": [
      "Os conteudos da lista são => ['Pedro', 'Edu']\n"
     ]
    }
   ],
   "source": [
    "imprimi_nomes(['Pedro'])"
   ]
  },
  {
   "cell_type": "code",
   "execution_count": 118,
   "id": "672ec94b",
   "metadata": {
    "ExecuteTime": {
     "end_time": "2022-01-20T00:32:05.986313Z",
     "start_time": "2022-01-20T00:32:05.983627Z"
    }
   },
   "outputs": [
    {
     "name": "stdout",
     "output_type": "stream",
     "text": [
      "Os conteudos da lista são => ['Edu']\n"
     ]
    }
   ],
   "source": [
    "imprimi_nomes()"
   ]
  },
  {
   "cell_type": "markdown",
   "id": "b2c4e47c",
   "metadata": {
    "heading_collapsed": true
   },
   "source": [
    "## Estruturas de Tipos Imutáveis com Conteúdos Mutáveis"
   ]
  },
  {
   "cell_type": "markdown",
   "id": "6ff939a6",
   "metadata": {
    "hidden": true
   },
   "source": [
    "Agora imagine a seguinte situação: Uma tupla com uma lista dentro dela:"
   ]
  },
  {
   "cell_type": "code",
   "execution_count": 24,
   "id": "cec5db90",
   "metadata": {
    "ExecuteTime": {
     "end_time": "2021-10-28T20:09:03.136449Z",
     "start_time": "2021-10-28T20:09:03.129864Z"
    },
    "hidden": true
   },
   "outputs": [],
   "source": [
    "tup = (1, [2, 3, 4])"
   ]
  },
  {
   "cell_type": "code",
   "execution_count": 25,
   "id": "b275aaf4",
   "metadata": {
    "ExecuteTime": {
     "end_time": "2021-10-28T20:09:03.308195Z",
     "start_time": "2021-10-28T20:09:03.304442Z"
    },
    "hidden": true
   },
   "outputs": [
    {
     "name": "stdout",
     "output_type": "stream",
     "text": [
      "(1, [2, 3, 4])\n",
      "<class 'tuple'>\n",
      "140589922649536\n"
     ]
    }
   ],
   "source": [
    "print(tup)\n",
    "\n",
    "print(type(tup))\n",
    "\n",
    "print(id(tup))"
   ]
  },
  {
   "cell_type": "markdown",
   "id": "436f9934",
   "metadata": {
    "hidden": true
   },
   "source": [
    "Como temos um objeto **Mutável**, dentro de um objeto **Imutável**, o conteúdo desse objeto **Mutável** pode ser alterado sem haver mudanças de apontamento de memória:"
   ]
  },
  {
   "cell_type": "code",
   "execution_count": 28,
   "id": "7d7d6b49",
   "metadata": {
    "ExecuteTime": {
     "end_time": "2021-10-28T20:20:48.135711Z",
     "start_time": "2021-10-28T20:20:48.126361Z"
    },
    "hidden": true
   },
   "outputs": [
    {
     "name": "stdout",
     "output_type": "stream",
     "text": [
      "10\n",
      "10\n",
      "(1, [2, 3, 10])\n"
     ]
    }
   ],
   "source": [
    "print(tup[1][2])\n",
    "\n",
    "tup[1][2] = 10\n",
    "\n",
    "print(tup[1][2])\n",
    "\n",
    "print(tup)"
   ]
  },
  {
   "cell_type": "markdown",
   "id": "949ac61f",
   "metadata": {
    "hidden": true
   },
   "source": [
    "Observe que fizemos as alterações da lista, o nosso objeto **Mutável**, que está dentro da nossa tupla, o objeto **Imutável**. E, como veremos a seguir, o `id` da nossa tupla não foi alterado:"
   ]
  },
  {
   "cell_type": "code",
   "execution_count": 29,
   "id": "a5353471",
   "metadata": {
    "ExecuteTime": {
     "end_time": "2021-10-28T20:22:02.841923Z",
     "start_time": "2021-10-28T20:22:02.839709Z"
    },
    "hidden": true
   },
   "outputs": [
    {
     "name": "stdout",
     "output_type": "stream",
     "text": [
      "140589922649536\n"
     ]
    }
   ],
   "source": [
    "print(id(tup))"
   ]
  },
  {
   "cell_type": "markdown",
   "id": "9d21ac57",
   "metadata": {
    "hidden": true
   },
   "source": [
    "Dessa forma, é possível alterarmos valores de objetos que são **Mutáveis**, mesmo que eles estejam dentro de objetos que são **Imutáveis**."
   ]
  },
  {
   "cell_type": "markdown",
   "id": "144b32d9",
   "metadata": {},
   "source": [
    "## Erros Comuns"
   ]
  },
  {
   "cell_type": "markdown",
   "id": "9f345fc8",
   "metadata": {},
   "source": [
    "### Utilização de Tipos Mutáveis em Paramêtros de Funções"
   ]
  },
  {
   "cell_type": "markdown",
   "id": "fc5f3ca1",
   "metadata": {},
   "source": [
    "Como vimos nas aulas anteriores, é possível criarmos funções que possuam parâmetros opcionais, ou seja, a pessoa que for utilizar essa função pode ou não passar esse parâmetro. E para fazermos isso, basta colocar um valor *default* (padrão) nesse parâmetro:\n",
    "\n",
    "```python\n",
    "def funcao_exemplo(opcional = 42):\n",
    "    if opcional == 42:\n",
    "        return 'A resposta para todas as perguntas!'\n",
    "    \n",
    "    return 'Não sei resposta!' \n",
    "```\n",
    "\n",
    "No caso da função acima, o parâmetro `opcional` é opcional, pois possuí um valor padrão, que será assumido caso o usuário da função não informe um valor para ele.\n",
    "\n",
    "Porém, o que acontece se utilizarmos um tipo **Mutável** como parâmetro opcional? Observe o exemplo:"
   ]
  },
  {
   "cell_type": "code",
   "execution_count": 1,
   "id": "e611760a",
   "metadata": {
    "ExecuteTime": {
     "end_time": "2021-10-29T12:46:39.027771Z",
     "start_time": "2021-10-29T12:46:39.025017Z"
    }
   },
   "outputs": [],
   "source": [
    "# Criação da função com uma lista como parâmetro opcional\n",
    "def func1(alunos = []):\n",
    "    \n",
    "    # Prints de debug\n",
    "    print(f'O Conteúdo da lista antes de inserirmos o aluno é: {alunos}')\n",
    "    \n",
    "    # Essa linha serve para exemplificar o tratamento da lista\n",
    "    # dentro da função. Imagine que seriam adicionados vários alunos\n",
    "    # Ou que a lista poderia vir já preechida\n",
    "    alunos.append('Pedro')\n",
    "    \n",
    "    # Retorna a lista já processada\n",
    "    return alunos"
   ]
  },
  {
   "cell_type": "markdown",
   "id": "41c7cf3b",
   "metadata": {},
   "source": [
    "Com a lista criada, vamos vericar qual o seu `id`:"
   ]
  },
  {
   "cell_type": "code",
   "execution_count": 2,
   "id": "f16fdcda",
   "metadata": {
    "ExecuteTime": {
     "end_time": "2021-10-29T12:46:40.397969Z",
     "start_time": "2021-10-29T12:46:40.395246Z"
    }
   },
   "outputs": [
    {
     "name": "stdout",
     "output_type": "stream",
     "text": [
      "O ID da função é = 139708981357152\n"
     ]
    }
   ],
   "source": [
    "print(f'O ID da função é = {id(func1)}')"
   ]
  },
  {
   "cell_type": "markdown",
   "id": "a8652b45",
   "metadata": {},
   "source": [
    "Agora que temos algumas informações, vamos verificar qual o comportamento da nossa função quando executada três vezes:"
   ]
  },
  {
   "cell_type": "code",
   "execution_count": 4,
   "id": "a9d9bfaf",
   "metadata": {
    "ExecuteTime": {
     "end_time": "2021-10-29T12:46:46.665002Z",
     "start_time": "2021-10-29T12:46:46.662570Z"
    }
   },
   "outputs": [
    {
     "name": "stdout",
     "output_type": "stream",
     "text": [
      "O ID da função é = 139708981357152\n",
      "O Conteúdo da lista antes de inserirmos o aluno é: ['Pedro']\n",
      "O Conteúdo da lista depois de função ser exutada é = ['Pedro', 'Pedro']\n"
     ]
    }
   ],
   "source": [
    "print(f'O ID da função é = {id(func1)}')\n",
    "print(f'O Conteúdo da lista depois de função ser exutada é = {func1()}')"
   ]
  },
  {
   "cell_type": "code",
   "execution_count": 5,
   "id": "7cb33df5",
   "metadata": {
    "ExecuteTime": {
     "end_time": "2021-10-29T12:46:49.787767Z",
     "start_time": "2021-10-29T12:46:49.785286Z"
    }
   },
   "outputs": [
    {
     "name": "stdout",
     "output_type": "stream",
     "text": [
      "O ID da função é = 139708981357152\n",
      "O Conteúdo da lista antes de inserirmos o aluno é: ['Pedro', 'Pedro']\n",
      "O Conteúdo da lista depois de função ser exutada é = ['Pedro', 'Pedro', 'Pedro']\n"
     ]
    }
   ],
   "source": [
    "print(f'O ID da função é = {id(func1)}')\n",
    "print(f'O Conteúdo da lista depois de função ser exutada é = {func1()}')"
   ]
  },
  {
   "cell_type": "code",
   "execution_count": 6,
   "id": "fecaaa27",
   "metadata": {
    "ExecuteTime": {
     "end_time": "2021-10-29T12:46:50.881490Z",
     "start_time": "2021-10-29T12:46:50.878074Z"
    }
   },
   "outputs": [
    {
     "name": "stdout",
     "output_type": "stream",
     "text": [
      "O ID da função é = 139708981357152\n",
      "O Conteúdo da lista antes de inserirmos o aluno é: ['Pedro', 'Pedro', 'Pedro']\n",
      "O Conteúdo da lista depois de função ser exutada é = ['Pedro', 'Pedro', 'Pedro', 'Pedro']\n"
     ]
    }
   ],
   "source": [
    "print(f'O ID da função é = {id(func1)}')\n",
    "print(f'O Conteúdo da lista depois de função ser exutada é = {func1()}')"
   ]
  },
  {
   "cell_type": "markdown",
   "id": "d3532337",
   "metadata": {},
   "source": [
    "Observe que, conforme a função vai sendo executada, a linha `alunos.append('Pedro')` vai inserindo o contéudo na lista, que é o que desejamos. Mas onde está o problema aqui? \n",
    "\n",
    "O problema está na lógica, visto que, a cada execução da função, se o usuário dela não passar nenhum valor, ela deveria ficar vazia, que é o seu valor padrão, mas isso não ocorre!\n",
    "\n",
    "Para exemplificar melhor, vamos criar uma outra função, com o mesmo conteúdo e parâmetro, mas com algumas informações de Debug:"
   ]
  },
  {
   "cell_type": "code",
   "execution_count": 7,
   "id": "97db1aff",
   "metadata": {
    "ExecuteTime": {
     "end_time": "2021-10-29T12:51:26.066472Z",
     "start_time": "2021-10-29T12:51:26.063959Z"
    }
   },
   "outputs": [],
   "source": [
    "# Criação da função com uma lista como parâmetro opcional\n",
    "def func2(alunos = []):\n",
    "    \n",
    "    # Prints de debug\n",
    "    print(f'O Conteúdo da lista antes de inserirmos o aluno é: {alunos}')\n",
    "    print(f'O ID da lista de alunos é  = {id(alunos)}')\n",
    "    \n",
    "    # Essa linha serve para exemplificar o tratamento da lista\n",
    "    # dentro da função. Imagine que seriam adicionados vários alunos\n",
    "    # Ou que a lista poderia vir já preechida\n",
    "    alunos.append('Pedro')\n",
    "    \n",
    "    # Retorna a lista já processada\n",
    "    return alunos"
   ]
  },
  {
   "cell_type": "code",
   "execution_count": 8,
   "id": "b2c65bc8",
   "metadata": {
    "ExecuteTime": {
     "end_time": "2021-10-29T12:51:45.219765Z",
     "start_time": "2021-10-29T12:51:45.217458Z"
    }
   },
   "outputs": [
    {
     "name": "stdout",
     "output_type": "stream",
     "text": [
      "O ID da função é = 139708981357008\n",
      "O Conteúdo da lista antes de inserirmos o aluno é: []\n",
      "O ID da lista de alunos é  = 139708980992448\n",
      "O Conteúdo da lista depois de função ser exutada é = ['Pedro']\n"
     ]
    }
   ],
   "source": [
    "print(f'O ID da função é = {id(func2)}')\n",
    "print(f'O Conteúdo da lista depois de função ser exutada é = {func2()}')"
   ]
  },
  {
   "cell_type": "code",
   "execution_count": 9,
   "id": "105f1f67",
   "metadata": {
    "ExecuteTime": {
     "end_time": "2021-10-29T12:51:46.228823Z",
     "start_time": "2021-10-29T12:51:46.226500Z"
    }
   },
   "outputs": [
    {
     "name": "stdout",
     "output_type": "stream",
     "text": [
      "O ID da função é = 139708981357008\n",
      "O Conteúdo da lista antes de inserirmos o aluno é: ['Pedro']\n",
      "O ID da lista de alunos é  = 139708980992448\n",
      "O Conteúdo da lista depois de função ser exutada é = ['Pedro', 'Pedro']\n"
     ]
    }
   ],
   "source": [
    "print(f'O ID da função é = {id(func2)}')\n",
    "print(f'O Conteúdo da lista depois de função ser exutada é = {func2()}')"
   ]
  },
  {
   "cell_type": "code",
   "execution_count": 10,
   "id": "aed0e355",
   "metadata": {
    "ExecuteTime": {
     "end_time": "2021-10-29T12:51:49.416443Z",
     "start_time": "2021-10-29T12:51:49.413712Z"
    }
   },
   "outputs": [
    {
     "name": "stdout",
     "output_type": "stream",
     "text": [
      "O ID da função é = 139708981357008\n",
      "O Conteúdo da lista antes de inserirmos o aluno é: ['Pedro', 'Pedro']\n",
      "O ID da lista de alunos é  = 139708980992448\n",
      "O Conteúdo da lista depois de função ser exutada é = ['Pedro', 'Pedro', 'Pedro']\n"
     ]
    }
   ],
   "source": [
    "print(f'O ID da função é = {id(func2)}')\n",
    "print(f'O Conteúdo da lista depois de função ser exutada é = {func2()}')"
   ]
  },
  {
   "cell_type": "markdown",
   "id": "b9de4c6c",
   "metadata": {},
   "source": [
    "Observe que, tanto o ID da função quanto o ID da lista, que é uma estrutura **Mutável**, não foram alterados nas execuções, e isso nos indica que o parâmetro da função é separado na memória assim que a função é carregada, e como esse espaçõ nunca é alterado, os valores que adicionamos nela nunca serão apagado, fazendo com que a atribuição de lista vazia na declaração da função (`def func2(alunos = []):`) não funcione corretamente.\n",
    "\n",
    "Dessa forma, sempre que formos criar funções, não podemos utilizar estruturas **Mutáveis** como parâmetros, quando esses parâmetros forem opcionais.\n",
    "\n",
    "Uma das formas de resolver esse problema seria criar uma `tupla` no lugar da lista e depois converte-la para lista dentro da função:"
   ]
  },
  {
   "cell_type": "code",
   "execution_count": 12,
   "id": "87ee2595",
   "metadata": {
    "ExecuteTime": {
     "end_time": "2021-10-29T12:56:17.172227Z",
     "start_time": "2021-10-29T12:56:17.169505Z"
    }
   },
   "outputs": [],
   "source": [
    "# Criação da função com uma lista como parâmetro opcional\n",
    "def func3(alunos = ()):\n",
    "    \n",
    "    # Conversão da Tupla em lista\n",
    "    alunos = list(alunos)\n",
    "    \n",
    "    # Prints de debug\n",
    "    print(f'O Conteúdo da lista antes de inserirmos o aluno é: {alunos}')\n",
    "    print(f'O ID da lista de alunos é  = {id(alunos)}')\n",
    "    \n",
    "    # Essa linha serve para exemplificar o tratamento da lista\n",
    "    # dentro da função. Imagine que seriam adicionados vários alunos\n",
    "    # Ou que a lista poderia vir já preechida\n",
    "    alunos.append('Pedro')\n",
    "    \n",
    "    # Retorna a lista já processada\n",
    "    return alunos"
   ]
  },
  {
   "cell_type": "code",
   "execution_count": 13,
   "id": "a39c2086",
   "metadata": {
    "ExecuteTime": {
     "end_time": "2021-10-29T12:56:26.054619Z",
     "start_time": "2021-10-29T12:56:26.051517Z"
    }
   },
   "outputs": [
    {
     "name": "stdout",
     "output_type": "stream",
     "text": [
      "O ID da função é = 139708981355136\n",
      "O Conteúdo da lista antes de inserirmos o aluno é: []\n",
      "O ID da lista de alunos é  = 139708981326272\n",
      "O Conteúdo da lista depois de função ser exutada é = ['Pedro']\n"
     ]
    }
   ],
   "source": [
    "print(f'O ID da função é = {id(func3)}')\n",
    "print(f'O Conteúdo da lista depois de função ser exutada é = {func3()}')"
   ]
  },
  {
   "cell_type": "code",
   "execution_count": 14,
   "id": "941ed1e7",
   "metadata": {
    "ExecuteTime": {
     "end_time": "2021-10-29T12:56:32.049487Z",
     "start_time": "2021-10-29T12:56:32.046257Z"
    }
   },
   "outputs": [
    {
     "name": "stdout",
     "output_type": "stream",
     "text": [
      "O ID da função é = 139708981047360\n",
      "O Conteúdo da lista antes de inserirmos o aluno é: []\n",
      "O ID da lista de alunos é  = 139708981259200\n",
      "O Conteúdo da lista depois de função ser exutada é = ['Pedro']\n"
     ]
    }
   ],
   "source": [
    "print(f'O ID da função é = {id(func2)}')\n",
    "print(f'O Conteúdo da lista depois de função ser exutada é = {func2()}')"
   ]
  },
  {
   "cell_type": "markdown",
   "id": "1827c568",
   "metadata": {},
   "source": [
    "Observe que agora temos o comportamento desejado para a nossa função. observe ainda que o **ID** da lista sempre muda a cada execução!\n",
    "\n",
    "Outra solução possível seria utiliar o valor ***None*** como valor padrão do parâmetro e criar a nova lista somente se o valor do parâmetro for igual a ***None***:"
   ]
  },
  {
   "cell_type": "code",
   "execution_count": 16,
   "id": "a716e72c",
   "metadata": {
    "ExecuteTime": {
     "end_time": "2021-10-29T12:59:25.254418Z",
     "start_time": "2021-10-29T12:59:25.248945Z"
    }
   },
   "outputs": [],
   "source": [
    "# Criação da função com uma lista como parâmetro opcional\n",
    "def func4(alunos = None):\n",
    "    \n",
    "    # Verificação se a lista é igual a None\n",
    "    if alunos == None:\n",
    "        alunos = []\n",
    "    \n",
    "    # Prints de debug\n",
    "    print(f'O Conteúdo da lista antes de inserirmos o aluno é: {alunos}')\n",
    "    print(f'O ID da lista de alunos é  = {id(alunos)}')\n",
    "    \n",
    "    # Essa linha serve para exemplificar o tratamento da lista\n",
    "    # dentro da função. Imagine que seriam adicionados vários alunos\n",
    "    # Ou que a lista poderia vir já preechida\n",
    "    alunos.append('Pedro')\n",
    "    \n",
    "    # Retorna a lista já processada\n",
    "    return alunos"
   ]
  },
  {
   "cell_type": "code",
   "execution_count": 17,
   "id": "20307eca",
   "metadata": {
    "ExecuteTime": {
     "end_time": "2021-10-29T12:59:38.415499Z",
     "start_time": "2021-10-29T12:59:38.412890Z"
    }
   },
   "outputs": [
    {
     "name": "stdout",
     "output_type": "stream",
     "text": [
      "O ID da função é = 139708981049808\n",
      "O Conteúdo da lista antes de inserirmos o aluno é: []\n",
      "O ID da lista de alunos é  = 139708980997952\n",
      "O Conteúdo da lista depois de função ser exutada é = ['Pedro']\n"
     ]
    }
   ],
   "source": [
    "print(f'O ID da função é = {id(func4)}')\n",
    "print(f'O Conteúdo da lista depois de função ser exutada é = {func4()}')"
   ]
  },
  {
   "cell_type": "code",
   "execution_count": 18,
   "id": "a3b851cd",
   "metadata": {
    "ExecuteTime": {
     "end_time": "2021-10-29T12:59:39.713803Z",
     "start_time": "2021-10-29T12:59:39.710141Z"
    }
   },
   "outputs": [
    {
     "name": "stdout",
     "output_type": "stream",
     "text": [
      "O ID da função é = 139708981047360\n",
      "O Conteúdo da lista antes de inserirmos o aluno é: []\n",
      "O ID da lista de alunos é  = 139708981241536\n",
      "O Conteúdo da lista depois de função ser exutada é = ['Pedro']\n"
     ]
    }
   ],
   "source": [
    "print(f'O ID da função é = {id(func2)}')\n",
    "print(f'O Conteúdo da lista depois de função ser exutada é = {func2()}')"
   ]
  },
  {
   "cell_type": "markdown",
   "id": "6a151e7d",
   "metadata": {},
   "source": [
    "Observe que, da mesma forma que a função anterior, com essa nova solução também obtivemos o comportamento esperado!"
   ]
  },
  {
   "cell_type": "markdown",
   "id": "53c670c3",
   "metadata": {},
   "source": [
    "### Modificando valores de Tipos Mutáveis Durante a Iteração sobre eles"
   ]
  },
  {
   "cell_type": "markdown",
   "id": "7565a71b",
   "metadata": {},
   "source": [
    "Outro problema bem comum em Python é a manipulação de uma estrutura **Mutável** enquanto iteramos sobre ela. Para exemplificar a situação, digamos que eu tenha uma lista que contém os valores de 0 até 10, que eu eu deseje selecionar somente as dados pares dessa lista.\n",
    "\n",
    "Uma abordagem de resolução seria percorrer a lista e remover os elementos ímapares da lista, conforme o código abaixo:"
   ]
  },
  {
   "cell_type": "code",
   "execution_count": 122,
   "id": "b0993a3f",
   "metadata": {
    "ExecuteTime": {
     "end_time": "2022-01-20T00:34:23.135553Z",
     "start_time": "2022-01-20T00:34:23.132696Z"
    }
   },
   "outputs": [],
   "source": [
    "# Função que seleciona somente os valores pares\n",
    "def pares(lista):\n",
    "    \n",
    "    # Percorre a lista de valores\n",
    "    for indice in range(len(lista)):\n",
    "        # Verifica se o elemento da lista é ímpar\n",
    "        if (lista[indice] % 2 != 0 or lista[indice] == 0):\n",
    "            # Caso seja ímpar, apaga o elemento da lista\n",
    "            del lista[indice]\n",
    "    \n",
    "    \n",
    "    # Retorna a lista que contém somente os elementos pares\n",
    "    return lista"
   ]
  },
  {
   "cell_type": "code",
   "execution_count": null,
   "id": "23fc8511",
   "metadata": {
    "code_folding": []
   },
   "outputs": [],
   "source": [
    "#            0  1  2  3  4  5  6  7  8  9  10\n",
    "# valores = [0, 1, 2, 3, 4, 5, 6, 7, 8, 9, 10]\n",
    "# range = 10\n",
    "indice = 0\n",
    "\n",
    "if (0 % 2 != 0 or 0 == 0): \n",
    "    # Caso seja ímpar, apaga o elemento da lista\n",
    "    del lista[indice]\n",
    "    \n",
    "#            0  1  2  3  4  5  6  7  8  9  10\n",
    "# valores = [1, 2, 3, 4, 5, 6, 7, 8, 9, 10]\n",
    "indice = 1\n",
    "    \n",
    "if (2 % 2 != 0 or lista[indice] == 0): \n",
    "    # Caso seja ímpar, apaga o elemento da lista\n",
    "    del lista[indice]\n",
    "    \n",
    "if (lista[indice] % 2 != 0 or lista[indice] == 0): \n",
    "    # Caso seja ímpar, apaga o elemento da lista\n",
    "    del lista[indice]\n",
    "    \n",
    "if (lista[indice] % 2 != 0 or lista[indice] == 0): \n",
    "    # Caso seja ímpar, apaga o elemento da lista\n",
    "    del lista[indice]\n",
    "    \n",
    "if (lista[indice] % 2 != 0 or lista[indice] == 0): \n",
    "    # Caso seja ímpar, apaga o elemento da lista\n",
    "    del lista[indice]\n",
    "    \n",
    "if (lista[indice] % 2 != 0 or lista[indice] == 0): \n",
    "    # Caso seja ímpar, apaga o elemento da lista\n",
    "    del lista[indice]\n",
    "    \n",
    "\n",
    "if (lista[indice] % 2 != 0 or lista[indice] == 0): \n",
    "    # Caso seja ímpar, apaga o elemento da lista\n",
    "    del lista[indice]\n",
    "    \n",
    "if (lista[indice] % 2 != 0 or lista[indice] == 0): \n",
    "    # Caso seja ímpar, apaga o elemento da lista\n",
    "    del lista[indice]\n",
    "    \n",
    "if (lista[indice] % 2 != 0 or lista[indice] == 0): \n",
    "    # Caso seja ímpar, apaga o elemento da lista\n",
    "    del lista[indice]\n",
    "    \n",
    "if (lista[indice] % 2 != 0 or lista[indice] == 0): \n",
    "    # Caso seja ímpar, apaga o elemento da lista\n",
    "    del lista[indice]\n",
    "    \n",
    "if (lista[indice] % 2 != 0 or lista[indice] == 0): \n",
    "    # Caso seja ímpar, apaga o elemento da lista\n",
    "    del lista[indice]\n",
    "    \n",
    "if (lista[indice] % 2 != 0 or lista[indice] == 0): \n",
    "    # Caso seja ímpar, apaga o elemento da lista\n",
    "    del lista[indice]"
   ]
  },
  {
   "cell_type": "code",
   "execution_count": null,
   "id": "eb54a5e5",
   "metadata": {},
   "outputs": [],
   "source": []
  },
  {
   "cell_type": "code",
   "execution_count": null,
   "id": "63a03acd",
   "metadata": {},
   "outputs": [],
   "source": []
  },
  {
   "cell_type": "code",
   "execution_count": null,
   "id": "a8ac7328",
   "metadata": {},
   "outputs": [],
   "source": []
  },
  {
   "cell_type": "code",
   "execution_count": null,
   "id": "92bb873a",
   "metadata": {},
   "outputs": [],
   "source": []
  },
  {
   "cell_type": "code",
   "execution_count": null,
   "id": "5d4c9be3",
   "metadata": {},
   "outputs": [],
   "source": []
  },
  {
   "cell_type": "code",
   "execution_count": null,
   "id": "a39b4d90",
   "metadata": {},
   "outputs": [],
   "source": []
  },
  {
   "cell_type": "code",
   "execution_count": null,
   "id": "b676ec3d",
   "metadata": {},
   "outputs": [],
   "source": []
  },
  {
   "cell_type": "markdown",
   "id": "1ccda2c7",
   "metadata": {},
   "source": [
    "Em primeiro momento, a função acima não apresenta um erro, mas se tentarmos executá-la:"
   ]
  },
  {
   "cell_type": "code",
   "execution_count": 123,
   "id": "3a5cc4f0",
   "metadata": {
    "ExecuteTime": {
     "end_time": "2022-01-20T00:34:24.747706Z",
     "start_time": "2022-01-20T00:34:24.744634Z"
    }
   },
   "outputs": [],
   "source": [
    "valores = [0, 1, 2, 3, 4, 5, 6, 7, 8, 9, 10]"
   ]
  },
  {
   "cell_type": "code",
   "execution_count": 124,
   "id": "e7d4399d",
   "metadata": {
    "ExecuteTime": {
     "end_time": "2022-01-20T00:34:27.730157Z",
     "start_time": "2022-01-20T00:34:27.721467Z"
    }
   },
   "outputs": [
    {
     "ename": "IndexError",
     "evalue": "list index out of range",
     "output_type": "error",
     "traceback": [
      "\u001b[0;31m---------------------------------------------------------------------------\u001b[0m",
      "\u001b[0;31mIndexError\u001b[0m                                Traceback (most recent call last)",
      "\u001b[0;32m/tmp/ipykernel_5325/1298071821.py\u001b[0m in \u001b[0;36m<module>\u001b[0;34m\u001b[0m\n\u001b[0;32m----> 1\u001b[0;31m \u001b[0mvalores_pares\u001b[0m \u001b[0;34m=\u001b[0m \u001b[0mpares\u001b[0m\u001b[0;34m(\u001b[0m\u001b[0mvalores\u001b[0m\u001b[0;34m)\u001b[0m\u001b[0;34m\u001b[0m\u001b[0;34m\u001b[0m\u001b[0m\n\u001b[0m\u001b[1;32m      2\u001b[0m \u001b[0mvalores_pares\u001b[0m\u001b[0;34m\u001b[0m\u001b[0;34m\u001b[0m\u001b[0m\n",
      "\u001b[0;32m/tmp/ipykernel_5325/4068127327.py\u001b[0m in \u001b[0;36mpares\u001b[0;34m(lista)\u001b[0m\n\u001b[1;32m      5\u001b[0m     \u001b[0;32mfor\u001b[0m \u001b[0mindice\u001b[0m \u001b[0;32min\u001b[0m \u001b[0mrange\u001b[0m\u001b[0;34m(\u001b[0m\u001b[0mlen\u001b[0m\u001b[0;34m(\u001b[0m\u001b[0mlista\u001b[0m\u001b[0;34m)\u001b[0m\u001b[0;34m)\u001b[0m\u001b[0;34m:\u001b[0m\u001b[0;34m\u001b[0m\u001b[0;34m\u001b[0m\u001b[0m\n\u001b[1;32m      6\u001b[0m         \u001b[0;31m# Verifica se o elemento da lista é ímpar\u001b[0m\u001b[0;34m\u001b[0m\u001b[0;34m\u001b[0m\u001b[0m\n\u001b[0;32m----> 7\u001b[0;31m         \u001b[0;32mif\u001b[0m \u001b[0;34m(\u001b[0m\u001b[0mlista\u001b[0m\u001b[0;34m[\u001b[0m\u001b[0mindice\u001b[0m\u001b[0;34m]\u001b[0m \u001b[0;34m%\u001b[0m \u001b[0;36m2\u001b[0m \u001b[0;34m!=\u001b[0m \u001b[0;36m0\u001b[0m \u001b[0;32mor\u001b[0m \u001b[0mlista\u001b[0m\u001b[0;34m[\u001b[0m\u001b[0mindice\u001b[0m\u001b[0;34m]\u001b[0m \u001b[0;34m==\u001b[0m \u001b[0;36m0\u001b[0m\u001b[0;34m)\u001b[0m\u001b[0;34m:\u001b[0m\u001b[0;34m\u001b[0m\u001b[0;34m\u001b[0m\u001b[0m\n\u001b[0m\u001b[1;32m      8\u001b[0m             \u001b[0;31m# Caso seja ímpar, apaga o elemento da lista\u001b[0m\u001b[0;34m\u001b[0m\u001b[0;34m\u001b[0m\u001b[0m\n\u001b[1;32m      9\u001b[0m             \u001b[0;32mdel\u001b[0m \u001b[0mlista\u001b[0m\u001b[0;34m[\u001b[0m\u001b[0mindice\u001b[0m\u001b[0;34m]\u001b[0m\u001b[0;34m\u001b[0m\u001b[0;34m\u001b[0m\u001b[0m\n",
      "\u001b[0;31mIndexError\u001b[0m: list index out of range"
     ]
    }
   ],
   "source": [
    "valores_pares = pares(valores)\n",
    "valores_pares"
   ]
  },
  {
   "cell_type": "markdown",
   "id": "ef82cc3a",
   "metadata": {},
   "source": [
    "Recebemos um erro de índice fora do range, o que significa que estamos tentando acessar um índice que não existe em nossa lista. A causa desse comportamento é a maneira com a qual o Python trabalha com estruturas **Mutáveis** também por conta do tamanho da lista mudar conforme cada iteração é feita.\n",
    "\n",
    "Para exemplificar melhor, vamos criar uma seção de debub em nossa função:"
   ]
  },
  {
   "cell_type": "code",
   "execution_count": 126,
   "id": "927559f8",
   "metadata": {
    "ExecuteTime": {
     "end_time": "2022-01-20T00:36:22.173837Z",
     "start_time": "2022-01-20T00:36:22.167875Z"
    }
   },
   "outputs": [],
   "source": [
    "# Função que seleciona somente os valores pares\n",
    "def pares(lista, debug = False):\n",
    "    \n",
    "    # Percorre a lista de valores\n",
    "    for indice in range(len(lista)):\n",
    "        \n",
    "        # Verifica se a flag de debug está ativa\n",
    "        if debug:\n",
    "            # Print de Debug\n",
    "            print(f'=========INICIO DEBUG=============')\n",
    "            print(f'Conteúdos da lista antes da remoção. Conteúdo da lista = {lista}')\n",
    "            print(f'Valor do índice = {indice}')\n",
    "            print(f'Valor do elemento do indice {indice} = {lista[indice]}')\n",
    "            print(f'===========FIM DEBUG==============')\n",
    "        \n",
    "        # Verifica se o elemento da lista é ímpar\n",
    "        if (lista[indice] % 2 != 0 or lista[indice] == 0):\n",
    "            # Caso seja ímpar, apaga o elemento da lista\n",
    "            del lista[indice]\n",
    "    \n",
    "    \n",
    "    # Retorna a lista que contém somente os elementos pares\n",
    "    return lista"
   ]
  },
  {
   "cell_type": "markdown",
   "id": "8a7f3dd4",
   "metadata": {},
   "source": [
    "Agora que adicionamos um marcador, ou *flag*, em nossa função, vamos executá-la com a função de debug ativa:"
   ]
  },
  {
   "cell_type": "code",
   "execution_count": 127,
   "id": "ec0fc66e",
   "metadata": {
    "ExecuteTime": {
     "end_time": "2022-01-20T00:36:24.137444Z",
     "start_time": "2022-01-20T00:36:24.128601Z"
    }
   },
   "outputs": [
    {
     "name": "stdout",
     "output_type": "stream",
     "text": [
      "=========INICIO DEBUG=============\n",
      "Conteúdos da lista antes da remoção. Conteúdo da lista = [0, 1, 2, 3, 4, 5, 6, 7, 8, 9, 10]\n",
      "Valor do índice = 0\n",
      "Valor do elemento do indice 0 = 0\n",
      "===========FIM DEBUG==============\n",
      "=========INICIO DEBUG=============\n",
      "Conteúdos da lista antes da remoção. Conteúdo da lista = [1, 2, 3, 4, 5, 6, 7, 8, 9, 10]\n",
      "Valor do índice = 1\n",
      "Valor do elemento do indice 1 = 2\n",
      "===========FIM DEBUG==============\n",
      "=========INICIO DEBUG=============\n",
      "Conteúdos da lista antes da remoção. Conteúdo da lista = [1, 2, 3, 4, 5, 6, 7, 8, 9, 10]\n",
      "Valor do índice = 2\n",
      "Valor do elemento do indice 2 = 3\n",
      "===========FIM DEBUG==============\n",
      "=========INICIO DEBUG=============\n",
      "Conteúdos da lista antes da remoção. Conteúdo da lista = [1, 2, 4, 5, 6, 7, 8, 9, 10]\n",
      "Valor do índice = 3\n",
      "Valor do elemento do indice 3 = 5\n",
      "===========FIM DEBUG==============\n",
      "=========INICIO DEBUG=============\n",
      "Conteúdos da lista antes da remoção. Conteúdo da lista = [1, 2, 4, 6, 7, 8, 9, 10]\n",
      "Valor do índice = 4\n",
      "Valor do elemento do indice 4 = 7\n",
      "===========FIM DEBUG==============\n",
      "=========INICIO DEBUG=============\n",
      "Conteúdos da lista antes da remoção. Conteúdo da lista = [1, 2, 4, 6, 8, 9, 10]\n",
      "Valor do índice = 5\n",
      "Valor do elemento do indice 5 = 9\n",
      "===========FIM DEBUG==============\n",
      "=========INICIO DEBUG=============\n",
      "Conteúdos da lista antes da remoção. Conteúdo da lista = [1, 2, 4, 6, 8, 10]\n",
      "Valor do índice = 6\n"
     ]
    },
    {
     "ename": "IndexError",
     "evalue": "list index out of range",
     "output_type": "error",
     "traceback": [
      "\u001b[0;31m---------------------------------------------------------------------------\u001b[0m",
      "\u001b[0;31mIndexError\u001b[0m                                Traceback (most recent call last)",
      "\u001b[0;32m/tmp/ipykernel_5325/926497853.py\u001b[0m in \u001b[0;36m<module>\u001b[0;34m\u001b[0m\n\u001b[1;32m      1\u001b[0m \u001b[0mvalores\u001b[0m \u001b[0;34m=\u001b[0m \u001b[0;34m[\u001b[0m\u001b[0;36m0\u001b[0m\u001b[0;34m,\u001b[0m \u001b[0;36m1\u001b[0m\u001b[0;34m,\u001b[0m \u001b[0;36m2\u001b[0m\u001b[0;34m,\u001b[0m \u001b[0;36m3\u001b[0m\u001b[0;34m,\u001b[0m \u001b[0;36m4\u001b[0m\u001b[0;34m,\u001b[0m \u001b[0;36m5\u001b[0m\u001b[0;34m,\u001b[0m \u001b[0;36m6\u001b[0m\u001b[0;34m,\u001b[0m \u001b[0;36m7\u001b[0m\u001b[0;34m,\u001b[0m \u001b[0;36m8\u001b[0m\u001b[0;34m,\u001b[0m \u001b[0;36m9\u001b[0m\u001b[0;34m,\u001b[0m \u001b[0;36m10\u001b[0m\u001b[0;34m]\u001b[0m\u001b[0;34m\u001b[0m\u001b[0;34m\u001b[0m\u001b[0m\n\u001b[0;32m----> 2\u001b[0;31m \u001b[0mvalores_pares\u001b[0m \u001b[0;34m=\u001b[0m \u001b[0mpares\u001b[0m\u001b[0;34m(\u001b[0m\u001b[0mvalores\u001b[0m\u001b[0;34m,\u001b[0m \u001b[0mdebug\u001b[0m\u001b[0;34m=\u001b[0m\u001b[0;32mTrue\u001b[0m\u001b[0;34m)\u001b[0m\u001b[0;34m\u001b[0m\u001b[0;34m\u001b[0m\u001b[0m\n\u001b[0m\u001b[1;32m      3\u001b[0m \u001b[0mvalores_pares\u001b[0m\u001b[0;34m\u001b[0m\u001b[0;34m\u001b[0m\u001b[0m\n",
      "\u001b[0;32m/tmp/ipykernel_5325/850332170.py\u001b[0m in \u001b[0;36mpares\u001b[0;34m(lista, debug)\u001b[0m\n\u001b[1;32m     11\u001b[0m             \u001b[0mprint\u001b[0m\u001b[0;34m(\u001b[0m\u001b[0;34mf'Conteúdos da lista antes da remoção. Conteúdo da lista = {lista}'\u001b[0m\u001b[0;34m)\u001b[0m\u001b[0;34m\u001b[0m\u001b[0;34m\u001b[0m\u001b[0m\n\u001b[1;32m     12\u001b[0m             \u001b[0mprint\u001b[0m\u001b[0;34m(\u001b[0m\u001b[0;34mf'Valor do índice = {indice}'\u001b[0m\u001b[0;34m)\u001b[0m\u001b[0;34m\u001b[0m\u001b[0;34m\u001b[0m\u001b[0m\n\u001b[0;32m---> 13\u001b[0;31m             \u001b[0mprint\u001b[0m\u001b[0;34m(\u001b[0m\u001b[0;34mf'Valor do elemento do indice {indice} = {lista[indice]}'\u001b[0m\u001b[0;34m)\u001b[0m\u001b[0;34m\u001b[0m\u001b[0;34m\u001b[0m\u001b[0m\n\u001b[0m\u001b[1;32m     14\u001b[0m             \u001b[0mprint\u001b[0m\u001b[0;34m(\u001b[0m\u001b[0;34mf'===========FIM DEBUG=============='\u001b[0m\u001b[0;34m)\u001b[0m\u001b[0;34m\u001b[0m\u001b[0;34m\u001b[0m\u001b[0m\n\u001b[1;32m     15\u001b[0m \u001b[0;34m\u001b[0m\u001b[0m\n",
      "\u001b[0;31mIndexError\u001b[0m: list index out of range"
     ]
    }
   ],
   "source": [
    "valores = [0, 1, 2, 3, 4, 5, 6, 7, 8, 9, 10]\n",
    "valores_pares = pares(valores, debug=True)\n",
    "valores_pares"
   ]
  },
  {
   "cell_type": "markdown",
   "id": "10bb7950",
   "metadata": {},
   "source": [
    "Observe que a lista, além de não separar corretamente os elementos que desejamos, dá erro na sétima iteração, quando tentamos acessar o elemento que está no índice 6, mas como fomos excluindo os elementos, o tamamho da lista, e consequentemente seus índices, também foram diminuindo!\n",
    "\n",
    "Uma solução seria a criação de uma lista para armazenarmos os elementos desejados. E após a iteração, retornamos essa lista:"
   ]
  },
  {
   "cell_type": "code",
   "execution_count": 134,
   "id": "8e0207ff",
   "metadata": {
    "ExecuteTime": {
     "end_time": "2022-01-20T00:49:49.529265Z",
     "start_time": "2022-01-20T00:49:49.524280Z"
    }
   },
   "outputs": [],
   "source": [
    "# Função que seleciona somente os valores pares\n",
    "def pares(lista, debug = False):\n",
    "    # lista de resposta\n",
    "    resposta = []\n",
    "    \n",
    "    # Percorre a lista de valores\n",
    "    for indice in range(len(lista)):\n",
    "        \n",
    "        # Verifica se a flag de debug está ativa\n",
    "        if debug:\n",
    "            # Print de Debug\n",
    "            print(f'=========INICIO DEBUG=============')\n",
    "            print(f'Conteúdos da lista de recebida = {lista}')\n",
    "            print(f'Conteúdos da lista de resposta antes da inserção = {resposta}')\n",
    "            print(f'Valor do índice = {indice}')\n",
    "            print(f'Valor do elemento do indice {indice} = {lista[indice]}')\n",
    "            print(f'===========FIM DEBUG==============')\n",
    "        \n",
    "        # Verifica se o elemento da lista é PAR\n",
    "        if (lista[indice] % 2 == 0 and lista[indice] != 0):\n",
    "            # Caso seja PAR, insere esse elemento na lista de resposta\n",
    "            resposta.append(lista[indice])\n",
    "    \n",
    "    \n",
    "    # Retorna a lista que contém somente os elementos pares\n",
    "    return resposta"
   ]
  },
  {
   "cell_type": "code",
   "execution_count": 136,
   "id": "a172bc6e",
   "metadata": {
    "ExecuteTime": {
     "end_time": "2022-01-20T00:49:57.840637Z",
     "start_time": "2022-01-20T00:49:57.827578Z"
    }
   },
   "outputs": [
    {
     "name": "stdout",
     "output_type": "stream",
     "text": [
      "=========INICIO DEBUG=============\n",
      "Conteúdos da lista de recebida = [0, 1, 2, 3, 4, 5, 6, 7, 8, 9, 10]\n",
      "Conteúdos da lista de resposta antes da inserção = []\n",
      "Valor do índice = 0\n",
      "Valor do elemento do indice 0 = 0\n",
      "===========FIM DEBUG==============\n",
      "=========INICIO DEBUG=============\n",
      "Conteúdos da lista de recebida = [0, 1, 2, 3, 4, 5, 6, 7, 8, 9, 10]\n",
      "Conteúdos da lista de resposta antes da inserção = []\n",
      "Valor do índice = 1\n",
      "Valor do elemento do indice 1 = 1\n",
      "===========FIM DEBUG==============\n",
      "=========INICIO DEBUG=============\n",
      "Conteúdos da lista de recebida = [0, 1, 2, 3, 4, 5, 6, 7, 8, 9, 10]\n",
      "Conteúdos da lista de resposta antes da inserção = []\n",
      "Valor do índice = 2\n",
      "Valor do elemento do indice 2 = 2\n",
      "===========FIM DEBUG==============\n",
      "=========INICIO DEBUG=============\n",
      "Conteúdos da lista de recebida = [0, 1, 2, 3, 4, 5, 6, 7, 8, 9, 10]\n",
      "Conteúdos da lista de resposta antes da inserção = [2]\n",
      "Valor do índice = 3\n",
      "Valor do elemento do indice 3 = 3\n",
      "===========FIM DEBUG==============\n",
      "=========INICIO DEBUG=============\n",
      "Conteúdos da lista de recebida = [0, 1, 2, 3, 4, 5, 6, 7, 8, 9, 10]\n",
      "Conteúdos da lista de resposta antes da inserção = [2]\n",
      "Valor do índice = 4\n",
      "Valor do elemento do indice 4 = 4\n",
      "===========FIM DEBUG==============\n",
      "=========INICIO DEBUG=============\n",
      "Conteúdos da lista de recebida = [0, 1, 2, 3, 4, 5, 6, 7, 8, 9, 10]\n",
      "Conteúdos da lista de resposta antes da inserção = [2, 4]\n",
      "Valor do índice = 5\n",
      "Valor do elemento do indice 5 = 5\n",
      "===========FIM DEBUG==============\n",
      "=========INICIO DEBUG=============\n",
      "Conteúdos da lista de recebida = [0, 1, 2, 3, 4, 5, 6, 7, 8, 9, 10]\n",
      "Conteúdos da lista de resposta antes da inserção = [2, 4]\n",
      "Valor do índice = 6\n",
      "Valor do elemento do indice 6 = 6\n",
      "===========FIM DEBUG==============\n",
      "=========INICIO DEBUG=============\n",
      "Conteúdos da lista de recebida = [0, 1, 2, 3, 4, 5, 6, 7, 8, 9, 10]\n",
      "Conteúdos da lista de resposta antes da inserção = [2, 4, 6]\n",
      "Valor do índice = 7\n",
      "Valor do elemento do indice 7 = 7\n",
      "===========FIM DEBUG==============\n",
      "=========INICIO DEBUG=============\n",
      "Conteúdos da lista de recebida = [0, 1, 2, 3, 4, 5, 6, 7, 8, 9, 10]\n",
      "Conteúdos da lista de resposta antes da inserção = [2, 4, 6]\n",
      "Valor do índice = 8\n",
      "Valor do elemento do indice 8 = 8\n",
      "===========FIM DEBUG==============\n",
      "=========INICIO DEBUG=============\n",
      "Conteúdos da lista de recebida = [0, 1, 2, 3, 4, 5, 6, 7, 8, 9, 10]\n",
      "Conteúdos da lista de resposta antes da inserção = [2, 4, 6, 8]\n",
      "Valor do índice = 9\n",
      "Valor do elemento do indice 9 = 9\n",
      "===========FIM DEBUG==============\n",
      "=========INICIO DEBUG=============\n",
      "Conteúdos da lista de recebida = [0, 1, 2, 3, 4, 5, 6, 7, 8, 9, 10]\n",
      "Conteúdos da lista de resposta antes da inserção = [2, 4, 6, 8]\n",
      "Valor do índice = 10\n",
      "Valor do elemento do indice 10 = 10\n",
      "===========FIM DEBUG==============\n"
     ]
    },
    {
     "data": {
      "text/plain": [
       "[2, 4, 6, 8, 10]"
      ]
     },
     "execution_count": 136,
     "metadata": {},
     "output_type": "execute_result"
    }
   ],
   "source": [
    "valores = [0, 1, 2, 3, 4, 5, 6, 7, 8, 9, 10]\n",
    "valores_pares = pares(valores, debug=True)\n",
    "valores_pares"
   ]
  },
  {
   "cell_type": "markdown",
   "id": "3050021e",
   "metadata": {},
   "source": [
    "Outra opção de resolução seria a utilização das ***List Comprehensions*** do Python, mas isso veremos nas próximas aulas!"
   ]
  },
  {
   "cell_type": "code",
   "execution_count": 137,
   "id": "9e03cb8c",
   "metadata": {
    "ExecuteTime": {
     "end_time": "2022-01-20T00:52:33.043822Z",
     "start_time": "2022-01-20T00:52:33.041907Z"
    }
   },
   "outputs": [],
   "source": [
    "valores = [0, 1, 2, 3, 4, 5, 6, 7, 8, 9, 10]"
   ]
  },
  {
   "cell_type": "code",
   "execution_count": 138,
   "id": "19f76e5e",
   "metadata": {
    "ExecuteTime": {
     "end_time": "2022-01-20T00:52:36.069283Z",
     "start_time": "2022-01-20T00:52:36.064978Z"
    }
   },
   "outputs": [
    {
     "data": {
      "text/plain": [
       "[0, 1, 2, 3, 4, 5, 6, 7, 8, 9, 10]"
      ]
     },
     "execution_count": 138,
     "metadata": {},
     "output_type": "execute_result"
    }
   ],
   "source": [
    "valores"
   ]
  },
  {
   "cell_type": "code",
   "execution_count": 139,
   "id": "1a2ec3d2",
   "metadata": {
    "ExecuteTime": {
     "end_time": "2022-01-20T00:53:35.430574Z",
     "start_time": "2022-01-20T00:53:35.426943Z"
    }
   },
   "outputs": [
    {
     "data": {
      "text/plain": [
       "[3, 4, 5, 6]"
      ]
     },
     "execution_count": 139,
     "metadata": {},
     "output_type": "execute_result"
    }
   ],
   "source": [
    "valores[ 3:7 ]"
   ]
  },
  {
   "cell_type": "code",
   "execution_count": null,
   "id": "28164af4",
   "metadata": {},
   "outputs": [],
   "source": [
    "df.loc[df['id'] > 0 : jdaljs]"
   ]
  }
 ],
 "metadata": {
  "kernelspec": {
   "display_name": "Python 3 (ipykernel)",
   "language": "python",
   "name": "python3"
  },
  "language_info": {
   "codemirror_mode": {
    "name": "ipython",
    "version": 3
   },
   "file_extension": ".py",
   "mimetype": "text/x-python",
   "name": "python",
   "nbconvert_exporter": "python",
   "pygments_lexer": "ipython3",
   "version": "3.9.7"
  },
  "latex_envs": {
   "LaTeX_envs_menu_present": true,
   "autoclose": false,
   "autocomplete": true,
   "bibliofile": "biblio.bib",
   "cite_by": "apalike",
   "current_citInitial": 1,
   "eqLabelWithNumbers": true,
   "eqNumInitial": 1,
   "hotkeys": {
    "equation": "Ctrl-E",
    "itemize": "Ctrl-I"
   },
   "labels_anchors": false,
   "latex_user_defs": false,
   "report_style_numbering": false,
   "user_envs_cfg": false
  },
  "toc": {
   "base_numbering": 1,
   "nav_menu": {},
   "number_sections": true,
   "sideBar": true,
   "skip_h1_title": false,
   "title_cell": "Table of Contents",
   "title_sidebar": "Contents",
   "toc_cell": false,
   "toc_position": {
    "height": "calc(100% - 180px)",
    "left": "10px",
    "top": "150px",
    "width": "165px"
   },
   "toc_section_display": true,
   "toc_window_display": true
  },
  "varInspector": {
   "cols": {
    "lenName": 16,
    "lenType": 16,
    "lenVar": 40
   },
   "kernels_config": {
    "python": {
     "delete_cmd_postfix": "",
     "delete_cmd_prefix": "del ",
     "library": "var_list.py",
     "varRefreshCmd": "print(var_dic_list())"
    },
    "r": {
     "delete_cmd_postfix": ") ",
     "delete_cmd_prefix": "rm(",
     "library": "var_list.r",
     "varRefreshCmd": "cat(var_dic_list()) "
    }
   },
   "types_to_exclude": [
    "module",
    "function",
    "builtin_function_or_method",
    "instance",
    "_Feature"
   ],
   "window_display": false
  }
 },
 "nbformat": 4,
 "nbformat_minor": 5
}
