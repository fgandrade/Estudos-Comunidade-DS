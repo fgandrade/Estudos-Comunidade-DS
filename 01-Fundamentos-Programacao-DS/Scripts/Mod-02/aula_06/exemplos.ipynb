{
 "cells": [
  {
   "cell_type": "markdown",
   "id": "3b31edc0",
   "metadata": {},
   "source": [
    "# EXEMPLO 1"
   ]
  },
  {
   "cell_type": "markdown",
   "id": "96a0f0d7",
   "metadata": {},
   "source": [
    "## Problema"
   ]
  },
  {
   "cell_type": "markdown",
   "id": "e9e8107f",
   "metadata": {
    "ExecuteTime": {
     "end_time": "2021-09-23T01:15:31.266217Z",
     "start_time": "2021-09-23T01:15:31.260904Z"
    }
   },
   "source": [
    "Encontre os problemas nos códigos abaixo e refatore os scripts para que eles tenham o comportamento desejado."
   ]
  },
  {
   "cell_type": "markdown",
   "id": "719448b9",
   "metadata": {},
   "source": [
    "### a) Função Seleciona os Valores Primos"
   ]
  },
  {
   "cell_type": "markdown",
   "id": "5fe787c7",
   "metadata": {},
   "source": [
    "```python\n",
    "# Resolução aqui\n",
    "def valores_primos(valores):\n",
    "    resposta = []\n",
    "    \n",
    "    for i in range(1, len(valores)):\n",
    "        \n",
    "        divisivel = 0\n",
    "        \n",
    "        for j in range(valores[i]):\n",
    "            if(valores[i] % j == 0):\n",
    "                divisivel += 1\n",
    "        \n",
    "        if divisivel == 0:\n",
    "            resposta.append(divisivel)\n",
    "            \n",
    "            \n",
    "valores_teste_1 = [\n",
    "    1, 2, 3, 4, 5, 6, 7, 8, 9, 10, \n",
    "    11, 12, 13, 14, 15\n",
    "]\n",
    "\n",
    "valores_2 = [\n",
    "    30, 31, 32, 33, 34, 35, 36, 37, 38, 39, \n",
    "    40, 41, 42, 43, 44, 45, 46, 47, 48, 49, \n",
    "    50, 51, 52, 53, 54, 55, 56, 57, 58, 59,\n",
    "]\n",
    "\n",
    "assert resposta == [2, 3, 5, 7, 11, 13], 'Função não funcionou corretamente'\n",
    "\n",
    "assert resposta == [31, 37, 41, 43, 47, 53, 59], 'Função não funcionou corretamente'\n",
    "    \n",
    "```"
   ]
  },
  {
   "cell_type": "markdown",
   "id": "fa4cf33b",
   "metadata": {},
   "source": [
    "### Reposta"
   ]
  },
  {
   "cell_type": "code",
   "execution_count": 22,
   "id": "9dfcfbfc",
   "metadata": {
    "ExecuteTime": {
     "end_time": "2022-01-26T23:28:35.447022Z",
     "start_time": "2022-01-26T23:28:35.443280Z"
    }
   },
   "outputs": [],
   "source": [
    "valores_teste_1 = [\n",
    "    1, 2, 3, 4, 5, 6, 7, 8, 9, 10, \n",
    "    11, 12, 13, 14, 15\n",
    "]\n",
    "\n",
    "valores_2 = [\n",
    "    30, 31, 32, 33, 34, 35, 36, 37, 38, 39, \n",
    "    40, 41, 42, 43, 44, 45, 46, 47, 48, 49, \n",
    "    50, 51, 52, 53, 54, 55, 56, 57, 58, 59,\n",
    "]\n",
    "\n",
    "lista_3 = [5, 6]"
   ]
  },
  {
   "cell_type": "code",
   "execution_count": 37,
   "id": "c3e89b35",
   "metadata": {
    "ExecuteTime": {
     "end_time": "2022-01-26T23:52:37.023255Z",
     "start_time": "2022-01-26T23:52:37.018269Z"
    },
    "code_folding": []
   },
   "outputs": [],
   "source": [
    "# Resolução aqui\n",
    "def valores_primos(valores):\n",
    "    \n",
    "    # [5, 6]\n",
    "    \n",
    "    # Criando a variavel local que vai guardar\n",
    "    # os valores separados ou encontrados\n",
    "    resposta = []\n",
    "\n",
    "    # Itera sobre a lista de valores, apartir do valor 1\n",
    "    # até o tamanho da lista\n",
    "    \n",
    "    # 1 .. 2\n",
    "    for i in range(0, len(valores)):\n",
    "        \n",
    "        \n",
    "\n",
    "#         Cria uma variavel local (dentro da função) \n",
    "#         que será zerada a cada iteração do i do for\n",
    "        divisivel = 0\n",
    "\n",
    "        # Itera sobre a lista de valores utilizando o i\n",
    "        # como indice da lista\n",
    "        \n",
    "        # 0 .. 6 -> j\n",
    "        for j in range(2, valores[i]):\n",
    "#             print(f'O valor do j é = {j}')\n",
    "#             print(f'O valor do elemento da lista é = {valores[i]}')\n",
    "            \n",
    "            # Verifica se a divisão do valor de j pelo elemento da \n",
    "            # lista possui resto 0. SE possuir, significa que o\n",
    "            # o elemento da lista possui um número divisivel\n",
    "            if(valores[i] % j == 0):\n",
    "                divisivel += 1\n",
    "\n",
    "#         print(f'O valor da flag divisivel ao final do for é = {divisivel}')\n",
    "        \n",
    "        # Se o valor de divisil for igual a zero, o elemento da lista\n",
    "        # é um número primo\n",
    "        if divisivel == 0:\n",
    "            resposta.append(valores[i])\n",
    "            \n",
    "    return resposta"
   ]
  },
  {
   "cell_type": "code",
   "execution_count": 39,
   "id": "dc00f8a1",
   "metadata": {
    "ExecuteTime": {
     "end_time": "2022-01-26T23:52:50.284501Z",
     "start_time": "2022-01-26T23:52:50.280170Z"
    }
   },
   "outputs": [
    {
     "data": {
      "text/plain": [
       "[1, 2, 3, 5, 7, 11, 13]"
      ]
     },
     "execution_count": 39,
     "metadata": {},
     "output_type": "execute_result"
    }
   ],
   "source": [
    "valores_primos(valores_teste_1)"
   ]
  },
  {
   "cell_type": "code",
   "execution_count": null,
   "id": "b6d77c98",
   "metadata": {},
   "outputs": [],
   "source": []
  },
  {
   "cell_type": "code",
   "execution_count": null,
   "id": "3a96e70f",
   "metadata": {},
   "outputs": [],
   "source": []
  },
  {
   "cell_type": "code",
   "execution_count": null,
   "id": "9fa7fe3c",
   "metadata": {},
   "outputs": [],
   "source": []
  },
  {
   "cell_type": "code",
   "execution_count": 41,
   "id": "f649c360",
   "metadata": {
    "ExecuteTime": {
     "end_time": "2022-01-26T23:53:52.372012Z",
     "start_time": "2022-01-26T23:53:52.364013Z"
    }
   },
   "outputs": [
    {
     "ename": "AssertionError",
     "evalue": "Função não funcionou corretamente",
     "output_type": "error",
     "traceback": [
      "\u001b[0;31m---------------------------------------------------------------------------\u001b[0m",
      "\u001b[0;31mAssertionError\u001b[0m                            Traceback (most recent call last)",
      "\u001b[0;32m/tmp/ipykernel_17704/2220920318.py\u001b[0m in \u001b[0;36m<module>\u001b[0;34m\u001b[0m\n\u001b[0;32m----> 1\u001b[0;31m \u001b[0;32massert\u001b[0m \u001b[0mvalores_primos\u001b[0m\u001b[0;34m(\u001b[0m\u001b[0mvalores_teste_1\u001b[0m\u001b[0;34m)\u001b[0m \u001b[0;34m==\u001b[0m \u001b[0;34m[\u001b[0m\u001b[0;36m2\u001b[0m\u001b[0;34m,\u001b[0m \u001b[0;36m3\u001b[0m\u001b[0;34m,\u001b[0m \u001b[0;36m5\u001b[0m\u001b[0;34m,\u001b[0m \u001b[0;36m7\u001b[0m\u001b[0;34m,\u001b[0m \u001b[0;36m11\u001b[0m\u001b[0;34m,\u001b[0m \u001b[0;36m13\u001b[0m\u001b[0;34m]\u001b[0m\u001b[0;34m,\u001b[0m \u001b[0;34m'Função não funcionou corretamente'\u001b[0m\u001b[0;34m\u001b[0m\u001b[0;34m\u001b[0m\u001b[0m\n\u001b[0m",
      "\u001b[0;31mAssertionError\u001b[0m: Função não funcionou corretamente"
     ]
    }
   ],
   "source": [
    "assert valores_primos(valores_teste_1) == [2, 3, 5, 7, 11, 13], 'Função não funcionou corretamente'"
   ]
  },
  {
   "cell_type": "code",
   "execution_count": 42,
   "id": "0acb6206",
   "metadata": {
    "ExecuteTime": {
     "end_time": "2022-01-26T23:54:21.057170Z",
     "start_time": "2022-01-26T23:54:21.053968Z"
    }
   },
   "outputs": [],
   "source": [
    "assert valores_primos(valores_2) == [31, 37, 41, 43, 47, 53, 59], 'Função não funcionou corretamente'"
   ]
  },
  {
   "cell_type": "code",
   "execution_count": null,
   "id": "0e113b20",
   "metadata": {},
   "outputs": [],
   "source": []
  },
  {
   "cell_type": "code",
   "execution_count": null,
   "id": "d9d0b185",
   "metadata": {},
   "outputs": [],
   "source": []
  },
  {
   "cell_type": "markdown",
   "id": "27eed834",
   "metadata": {},
   "source": [
    "### b) Função que Verifica se um determinado ano é Bissexto"
   ]
  },
  {
   "cell_type": "markdown",
   "id": "b6a95214",
   "metadata": {},
   "source": [
    "```python\n",
    "ano = 2016\n",
    "\n",
    "def bissexto():\n",
    "    if(ano % 4 == 0 and ano % 100 != 0 or ano % 400 == 0):\n",
    "        print(f'Ano {ano} é bissexto')\n",
    "    else:\n",
    "        print(f'Ano {ano} não é bissexto')\n",
    "        \n",
    "assert bissexto() == f'Ano {ano} é bissexto', 'Erro na função de Bissexto'\n",
    "```"
   ]
  },
  {
   "cell_type": "markdown",
   "id": "70876001",
   "metadata": {
    "ExecuteTime": {
     "end_time": "2021-10-29T18:39:52.102251Z",
     "start_time": "2021-10-29T18:39:52.099396Z"
    }
   },
   "source": [
    "### Resposta"
   ]
  },
  {
   "cell_type": "code",
   "execution_count": 43,
   "id": "de47e7f2",
   "metadata": {
    "ExecuteTime": {
     "end_time": "2022-01-26T23:56:39.252802Z",
     "start_time": "2022-01-26T23:56:39.250244Z"
    }
   },
   "outputs": [],
   "source": [
    "ano = 2016"
   ]
  },
  {
   "cell_type": "code",
   "execution_count": 59,
   "id": "c4679700",
   "metadata": {
    "ExecuteTime": {
     "end_time": "2022-01-27T00:11:29.621781Z",
     "start_time": "2022-01-27T00:11:29.618407Z"
    }
   },
   "outputs": [],
   "source": [
    "def bissexto(ano):\n",
    "    if(ano % 4 == 0 and ano % 100 != 0 or ano % 400 == 0):\n",
    "#         return ano\n",
    "        return f'Ano {ano} é bissexto'\n",
    "    else:\n",
    "        return f'Ano {ano} não é bissexto'"
   ]
  },
  {
   "cell_type": "code",
   "execution_count": 60,
   "id": "2a9e3ee5",
   "metadata": {
    "ExecuteTime": {
     "end_time": "2022-01-27T00:11:29.769407Z",
     "start_time": "2022-01-27T00:11:29.765853Z"
    }
   },
   "outputs": [
    {
     "data": {
      "text/plain": [
       "'Ano 2011 não é bissexto'"
      ]
     },
     "execution_count": 60,
     "metadata": {},
     "output_type": "execute_result"
    }
   ],
   "source": [
    "bissexto(2011)"
   ]
  },
  {
   "cell_type": "code",
   "execution_count": 61,
   "id": "c8b5e4ba",
   "metadata": {
    "ExecuteTime": {
     "end_time": "2022-01-27T00:11:30.183981Z",
     "start_time": "2022-01-27T00:11:30.181311Z"
    }
   },
   "outputs": [],
   "source": [
    "ano = 2024"
   ]
  },
  {
   "cell_type": "code",
   "execution_count": 63,
   "id": "d0acd837",
   "metadata": {
    "ExecuteTime": {
     "end_time": "2022-01-27T00:11:34.600412Z",
     "start_time": "2022-01-27T00:11:34.597237Z"
    }
   },
   "outputs": [],
   "source": [
    "assert bissexto(ano) == f'Ano {ano} é bissexto', 'Erro na função de Bissexto'"
   ]
  },
  {
   "cell_type": "code",
   "execution_count": 65,
   "id": "e4bc7b6f",
   "metadata": {
    "ExecuteTime": {
     "end_time": "2022-01-27T00:12:17.734689Z",
     "start_time": "2022-01-27T00:12:17.731894Z"
    }
   },
   "outputs": [],
   "source": [
    "ano = 200"
   ]
  },
  {
   "cell_type": "code",
   "execution_count": 66,
   "id": "d875b7d0",
   "metadata": {
    "ExecuteTime": {
     "end_time": "2022-01-27T00:12:17.850258Z",
     "start_time": "2022-01-27T00:12:17.847955Z"
    }
   },
   "outputs": [],
   "source": [
    "assert bissexto(ano) == f'Ano {ano} não é bissexto', 'Erro na função de Bissexto'"
   ]
  },
  {
   "cell_type": "markdown",
   "id": "326de4de",
   "metadata": {
    "ExecuteTime": {
     "end_time": "2021-10-29T18:40:10.145587Z",
     "start_time": "2021-10-29T18:40:10.142956Z"
    }
   },
   "source": [
    "### c) Função que calcula o Fatorial de um número"
   ]
  },
  {
   "cell_type": "markdown",
   "id": "09fb5dc6",
   "metadata": {},
   "source": [
    "```python\n",
    "n = 4\n",
    "\n",
    "def fatorial():\n",
    "    fat = 1\n",
    "    \n",
    "    for i in range(2, n + 1):\n",
    "        fat = fat * i\n",
    "\n",
    "assert fat == 24, 'Problema na função de Fatorial'\n",
    "```"
   ]
  },
  {
   "cell_type": "markdown",
   "id": "e2831f9d",
   "metadata": {
    "ExecuteTime": {
     "end_time": "2021-10-29T18:50:33.818721Z",
     "start_time": "2021-10-29T18:50:33.816118Z"
    }
   },
   "source": [
    "### Resposta"
   ]
  },
  {
   "cell_type": "code",
   "execution_count": 67,
   "id": "9081b3dd",
   "metadata": {
    "ExecuteTime": {
     "end_time": "2022-01-27T00:13:18.496324Z",
     "start_time": "2022-01-27T00:13:18.493687Z"
    }
   },
   "outputs": [],
   "source": [
    "n = 4"
   ]
  },
  {
   "cell_type": "code",
   "execution_count": 71,
   "id": "264f1514",
   "metadata": {
    "ExecuteTime": {
     "end_time": "2022-01-27T00:17:34.358979Z",
     "start_time": "2022-01-27T00:17:34.354601Z"
    }
   },
   "outputs": [
    {
     "data": {
      "text/plain": [
       "120"
      ]
     },
     "execution_count": 71,
     "metadata": {},
     "output_type": "execute_result"
    }
   ],
   "source": [
    "1*2*3*4*5"
   ]
  },
  {
   "cell_type": "code",
   "execution_count": 81,
   "id": "ecc126f2",
   "metadata": {
    "ExecuteTime": {
     "end_time": "2022-01-27T00:19:36.610295Z",
     "start_time": "2022-01-27T00:19:36.607942Z"
    }
   },
   "outputs": [],
   "source": [
    "def fatorial(n):\n",
    "    fat = 1\n",
    "\n",
    "    # 4\n",
    "    # 2 .. 5\n",
    "    for i in range(2, n + 1):\n",
    "        # i = 2\n",
    "        # fat = 1 * 2 = 2\n",
    "        \n",
    "        # i = 3\n",
    "        # fat = 2 * 3 = 6\n",
    "        \n",
    "        # i = 4\n",
    "        # fat = 6 * 4 = 24\n",
    "        \n",
    "        fat = fat * i\n",
    "        \n",
    "        \n",
    "    assert fat == 24, \"errou aqui\"\n",
    "    return fat"
   ]
  },
  {
   "cell_type": "code",
   "execution_count": 82,
   "id": "61e3b1a2",
   "metadata": {
    "ExecuteTime": {
     "end_time": "2022-01-27T00:19:36.780956Z",
     "start_time": "2022-01-27T00:19:36.778319Z"
    }
   },
   "outputs": [],
   "source": [
    "assert fatorial(n) == 24, 'Problema na função de Fatorial'"
   ]
  },
  {
   "cell_type": "code",
   "execution_count": 83,
   "id": "b745a15e",
   "metadata": {
    "ExecuteTime": {
     "end_time": "2022-01-27T00:19:37.299533Z",
     "start_time": "2022-01-27T00:19:37.290003Z"
    }
   },
   "outputs": [
    {
     "ename": "AssertionError",
     "evalue": "errou aqui",
     "output_type": "error",
     "traceback": [
      "\u001b[0;31m---------------------------------------------------------------------------\u001b[0m",
      "\u001b[0;31mAssertionError\u001b[0m                            Traceback (most recent call last)",
      "\u001b[0;32m/tmp/ipykernel_17704/2348944308.py\u001b[0m in \u001b[0;36m<module>\u001b[0;34m\u001b[0m\n\u001b[0;32m----> 1\u001b[0;31m \u001b[0;32massert\u001b[0m \u001b[0mfatorial\u001b[0m\u001b[0;34m(\u001b[0m\u001b[0;36m5\u001b[0m\u001b[0;34m)\u001b[0m \u001b[0;34m==\u001b[0m \u001b[0;36m120\u001b[0m\u001b[0;34m,\u001b[0m \u001b[0;34m'Problema na função de Fatorial'\u001b[0m\u001b[0;34m\u001b[0m\u001b[0;34m\u001b[0m\u001b[0m\n\u001b[0m",
      "\u001b[0;32m/tmp/ipykernel_17704/1283893893.py\u001b[0m in \u001b[0;36mfatorial\u001b[0;34m(n)\u001b[0m\n\u001b[1;32m     17\u001b[0m \u001b[0;34m\u001b[0m\u001b[0m\n\u001b[1;32m     18\u001b[0m \u001b[0;34m\u001b[0m\u001b[0m\n\u001b[0;32m---> 19\u001b[0;31m     \u001b[0;32massert\u001b[0m \u001b[0mfat\u001b[0m \u001b[0;34m==\u001b[0m \u001b[0;36m24\u001b[0m\u001b[0;34m,\u001b[0m \u001b[0;34m\"errou aqui\"\u001b[0m\u001b[0;34m\u001b[0m\u001b[0;34m\u001b[0m\u001b[0m\n\u001b[0m\u001b[1;32m     20\u001b[0m     \u001b[0;32mreturn\u001b[0m \u001b[0mfat\u001b[0m\u001b[0;34m\u001b[0m\u001b[0;34m\u001b[0m\u001b[0m\n",
      "\u001b[0;31mAssertionError\u001b[0m: errou aqui"
     ]
    }
   ],
   "source": [
    "assert fatorial(5) == 120, 'Problema na função de Fatorial'"
   ]
  },
  {
   "cell_type": "code",
   "execution_count": null,
   "id": "e362c6bf",
   "metadata": {},
   "outputs": [],
   "source": []
  }
 ],
 "metadata": {
  "kernelspec": {
   "display_name": "Python 3 (ipykernel)",
   "language": "python",
   "name": "python3"
  },
  "language_info": {
   "codemirror_mode": {
    "name": "ipython",
    "version": 3
   },
   "file_extension": ".py",
   "mimetype": "text/x-python",
   "name": "python",
   "nbconvert_exporter": "python",
   "pygments_lexer": "ipython3",
   "version": "3.9.9"
  },
  "latex_envs": {
   "LaTeX_envs_menu_present": true,
   "autoclose": false,
   "autocomplete": true,
   "bibliofile": "biblio.bib",
   "cite_by": "apalike",
   "current_citInitial": 1,
   "eqLabelWithNumbers": true,
   "eqNumInitial": 1,
   "hotkeys": {
    "equation": "Ctrl-E",
    "itemize": "Ctrl-I"
   },
   "labels_anchors": false,
   "latex_user_defs": false,
   "report_style_numbering": false,
   "user_envs_cfg": false
  }
 },
 "nbformat": 4,
 "nbformat_minor": 5
}
