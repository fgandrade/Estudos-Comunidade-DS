{
 "cells": [
  {
   "cell_type": "markdown",
   "id": "3b31edc0",
   "metadata": {},
   "source": [
    "# EXEMPLO 1"
   ]
  },
  {
   "cell_type": "markdown",
   "id": "96a0f0d7",
   "metadata": {},
   "source": [
    "## Problema"
   ]
  },
  {
   "cell_type": "markdown",
   "id": "e9e8107f",
   "metadata": {
    "ExecuteTime": {
     "end_time": "2021-09-23T01:15:31.266217Z",
     "start_time": "2021-09-23T01:15:31.260904Z"
    }
   },
   "source": [
    "Encontre os problemas nos códigos abaixo e refatore os scripts para que eles tenham o comportamento desejado."
   ]
  },
  {
   "cell_type": "markdown",
   "id": "719448b9",
   "metadata": {
    "heading_collapsed": true
   },
   "source": [
    "### a) Função Seleciona os Valores Primos"
   ]
  },
  {
   "cell_type": "markdown",
   "id": "5fe787c7",
   "metadata": {
    "hidden": true
   },
   "source": [
    "```python\n",
    "def valores_primos(valores):\n",
    "    resposta = []\n",
    "    \n",
    "    for i in range(1, len(valores)):\n",
    "        divisivel = 0\n",
    "        \n",
    "        for j in range(2, valores[i]):\n",
    "            if(valores[i] % j == 0):\n",
    "                divisivel += 1\n",
    "        \n",
    "        if divisivel == 0:\n",
    "            resposta.append(valores[i])\n",
    "            \n",
    "            \n",
    "valores_teste_1 = [\n",
    "    1, 2, 3, 4, 5, 6, 7, 8, 9, 10, \n",
    "    11, 12, 13, 14, 15\n",
    "]\n",
    "\n",
    "valores_2 = [\n",
    "    30, 31, 32, 33, 34, 35, 36, 37, 38, 39, \n",
    "    40, 41, 42, 43, 44, 45, 46, 47, 48, 49, \n",
    "    50, 51, 52, 53, 54, 55, 56, 57, 58, 59,\n",
    "]\n",
    "\n",
    "assert resposta == [2, 3, 5, 7, 11, 13], 'Função não funcionou corretamente'\n",
    "\n",
    "assert resposta == [31, 37, 41, 43, 47, 53, 59], 'Função não funcionou corretamente'\n",
    "    \n",
    "```"
   ]
  },
  {
   "cell_type": "markdown",
   "id": "fa4cf33b",
   "metadata": {
    "heading_collapsed": true
   },
   "source": [
    "### Reposta"
   ]
  },
  {
   "cell_type": "code",
   "execution_count": 1,
   "id": "9dfcfbfc",
   "metadata": {
    "ExecuteTime": {
     "end_time": "2022-01-26T22:07:22.469090Z",
     "start_time": "2022-01-26T22:07:22.463926Z"
    },
    "hidden": true
   },
   "outputs": [],
   "source": [
    "# Resolução aqui\n",
    "def valores_primos(valores):\n",
    "    resposta = []\n",
    "    \n",
    "    for i in range(1, len(valores)):\n",
    "        divisivel = 0\n",
    "        \n",
    "        for j in range(2, valores[i]):\n",
    "            if(valores[i] % j == 0):\n",
    "                divisivel += 1\n",
    "        \n",
    "        if divisivel == 0:\n",
    "            resposta.append(valores[i])\n",
    "        \n",
    "    return resposta"
   ]
  },
  {
   "cell_type": "code",
   "execution_count": 2,
   "id": "c3e89b35",
   "metadata": {
    "ExecuteTime": {
     "end_time": "2022-01-26T22:07:22.613281Z",
     "start_time": "2022-01-26T22:07:22.608914Z"
    },
    "hidden": true
   },
   "outputs": [],
   "source": [
    "valores_teste_1 = [1, 2, 3, 4, 5, 6, 7, 8, 9, 10, 11, 12, 13, 14, 15]\n",
    "\n",
    "valores_teste_2 = [\n",
    "    30, 31, 32, 33, 34, 35, 36, 37, 38, 39, \n",
    "    40, 41, 42, 43, 44, 45, 46, 47, 48, 49, \n",
    "    50, 51, 52, 53, 54, 55, 56, 57, 58, 59,\n",
    "]"
   ]
  },
  {
   "cell_type": "code",
   "execution_count": 3,
   "id": "f649c360",
   "metadata": {
    "ExecuteTime": {
     "end_time": "2022-01-26T22:07:22.749318Z",
     "start_time": "2022-01-26T22:07:22.745897Z"
    },
    "hidden": true
   },
   "outputs": [],
   "source": [
    "assert valores_primos(valores_teste_1) == [2, 3, 5, 7, 11, 13], 'Função não funcionou corretamente'"
   ]
  },
  {
   "cell_type": "code",
   "execution_count": 4,
   "id": "0acb6206",
   "metadata": {
    "ExecuteTime": {
     "end_time": "2022-01-26T22:07:22.977739Z",
     "start_time": "2022-01-26T22:07:22.974279Z"
    },
    "hidden": true
   },
   "outputs": [],
   "source": [
    "assert valores_primos(valores_teste_2) == [31, 37, 41, 43, 47, 53, 59], 'Função não funcionou corretamente'"
   ]
  },
  {
   "cell_type": "markdown",
   "id": "27eed834",
   "metadata": {
    "heading_collapsed": true
   },
   "source": [
    "### b) Função que Verifica se um determinado ano é Bissexto"
   ]
  },
  {
   "cell_type": "markdown",
   "id": "b6a95214",
   "metadata": {
    "hidden": true
   },
   "source": [
    "```python\n",
    "ano = 2016\n",
    "\n",
    "def bissexto():\n",
    "    if(ano % 4 == 0 and ano % 100 != 0 or ano % 400 == 0):\n",
    "        print(f'Ano {ano} é bissexto')\n",
    "    else:\n",
    "        print(f'Ano {ano} não é bissexto')\n",
    "        \n",
    "assert bissexto() == f'Ano {ano} é bissexto', 'Erro na função de Bissexto'\n",
    "```"
   ]
  },
  {
   "cell_type": "markdown",
   "id": "70876001",
   "metadata": {
    "ExecuteTime": {
     "end_time": "2021-10-29T18:39:52.102251Z",
     "start_time": "2021-10-29T18:39:52.099396Z"
    },
    "heading_collapsed": true
   },
   "source": [
    "### Resposta"
   ]
  },
  {
   "cell_type": "code",
   "execution_count": 9,
   "id": "de47e7f2",
   "metadata": {
    "ExecuteTime": {
     "end_time": "2022-01-26T22:12:12.190680Z",
     "start_time": "2022-01-26T22:12:12.186862Z"
    },
    "hidden": true
   },
   "outputs": [],
   "source": [
    "ano = 2016\n",
    "\n",
    "\n",
    "def bissexto(ano):\n",
    "    if(ano % 4 == 0 and ano % 100 != 0 or ano % 400 == 0):\n",
    "        return(af'Ano {ano} é bissexto')\n",
    "    else:\n",
    "        return(f'Ano {ano} não é bissexto')\n",
    "    \n",
    "\n",
    "assert bissexto(ano) == f'Ano {ano} é bissexto', 'Erro na função de Bissexto'"
   ]
  },
  {
   "cell_type": "markdown",
   "id": "326de4de",
   "metadata": {
    "ExecuteTime": {
     "end_time": "2021-10-29T18:40:10.145587Z",
     "start_time": "2021-10-29T18:40:10.142956Z"
    },
    "heading_collapsed": true
   },
   "source": [
    "### c) Função que calcula o Fatorial de um número"
   ]
  },
  {
   "cell_type": "markdown",
   "id": "09fb5dc6",
   "metadata": {
    "hidden": true
   },
   "source": [
    "```python\n",
    "n = 4\n",
    "\n",
    "def fatorial():\n",
    "    fat = 1\n",
    "    \n",
    "    for i in range(2, n + 1):\n",
    "        fat = fat * i\n",
    "\n",
    "assert fat == 24, 'Problema na função de Fatorial'\n",
    "```"
   ]
  },
  {
   "cell_type": "markdown",
   "id": "e2831f9d",
   "metadata": {
    "ExecuteTime": {
     "end_time": "2021-10-29T18:50:33.818721Z",
     "start_time": "2021-10-29T18:50:33.816118Z"
    },
    "heading_collapsed": true
   },
   "source": [
    "### Resposta"
   ]
  },
  {
   "cell_type": "code",
   "execution_count": 6,
   "id": "9081b3dd",
   "metadata": {
    "ExecuteTime": {
     "end_time": "2021-10-29T19:31:07.409961Z",
     "start_time": "2021-10-29T19:31:07.406591Z"
    },
    "hidden": true
   },
   "outputs": [],
   "source": [
    "n = 4\n",
    "\n",
    "\n",
    "def fatorial(n):\n",
    "    fat = 1\n",
    "\n",
    "    for i in range(2, n + 1):\n",
    "        fat = fat * i\n",
    "\n",
    "    return fat\n",
    "\n",
    "\n",
    "assert fatorial(n) == 24, 'Problema na função de Fatorial'"
   ]
  }
 ],
 "metadata": {
  "kernelspec": {
   "display_name": "Python 3 (ipykernel)",
   "language": "python",
   "name": "python3"
  },
  "language_info": {
   "codemirror_mode": {
    "name": "ipython",
    "version": 3
   },
   "file_extension": ".py",
   "mimetype": "text/x-python",
   "name": "python",
   "nbconvert_exporter": "python",
   "pygments_lexer": "ipython3",
   "version": "3.9.7"
  },
  "latex_envs": {
   "LaTeX_envs_menu_present": true,
   "autoclose": false,
   "autocomplete": true,
   "bibliofile": "biblio.bib",
   "cite_by": "apalike",
   "current_citInitial": 1,
   "eqLabelWithNumbers": true,
   "eqNumInitial": 1,
   "hotkeys": {
    "equation": "Ctrl-E",
    "itemize": "Ctrl-I"
   },
   "labels_anchors": false,
   "latex_user_defs": false,
   "report_style_numbering": false,
   "user_envs_cfg": false
  },
  "toc": {
   "base_numbering": 1,
   "nav_menu": {},
   "number_sections": true,
   "sideBar": true,
   "skip_h1_title": false,
   "title_cell": "Table of Contents",
   "title_sidebar": "Contents",
   "toc_cell": false,
   "toc_position": {
    "height": "calc(100% - 180px)",
    "left": "10px",
    "top": "150px",
    "width": "165px"
   },
   "toc_section_display": true,
   "toc_window_display": true
  },
  "varInspector": {
   "cols": {
    "lenName": 16,
    "lenType": 16,
    "lenVar": 40
   },
   "kernels_config": {
    "python": {
     "delete_cmd_postfix": "",
     "delete_cmd_prefix": "del ",
     "library": "var_list.py",
     "varRefreshCmd": "print(var_dic_list())"
    },
    "r": {
     "delete_cmd_postfix": ") ",
     "delete_cmd_prefix": "rm(",
     "library": "var_list.r",
     "varRefreshCmd": "cat(var_dic_list()) "
    }
   },
   "types_to_exclude": [
    "module",
    "function",
    "builtin_function_or_method",
    "instance",
    "_Feature"
   ],
   "window_display": false
  }
 },
 "nbformat": 4,
 "nbformat_minor": 5
}
