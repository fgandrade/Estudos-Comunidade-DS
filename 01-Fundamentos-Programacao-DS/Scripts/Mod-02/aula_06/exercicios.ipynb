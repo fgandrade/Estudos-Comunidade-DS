{
 "cells": [
  {
   "cell_type": "markdown",
   "id": "3b31edc0",
   "metadata": {},
   "source": [
    "# EXERCÍCIO 1"
   ]
  },
  {
   "cell_type": "markdown",
   "id": "96a0f0d7",
   "metadata": {},
   "source": [
    "## Problema"
   ]
  },
  {
   "cell_type": "markdown",
   "id": "e9e8107f",
   "metadata": {
    "ExecuteTime": {
     "end_time": "2021-09-23T01:15:31.266217Z",
     "start_time": "2021-09-23T01:15:31.260904Z"
    }
   },
   "source": [
    "A empresa em que você trabalha está com uma nova funcionalidade implementada no site, que faz com que seja gerada uma lista com dados dos clientes conforme a interação deles com a ferramenta. A lista gerada tem o seguinte padrão:\n",
    "\n",
    "```python\n",
    "[\n",
    "    ['Pedro', 32, 1.83, True],\n",
    "    .\n",
    "    . # Outros elementos da lista.\n",
    "    .\n",
    "    ['Guilherme', 23, 1.79, False],\n",
    "]\n",
    "```\n",
    "\n",
    "Os dados dessa lista representam as seguintes informações:\n",
    "* Primeiro elemento = `nome`\n",
    "* Segundo elemento = `idade`\n",
    "* Terceiro elemento = `altura`\n",
    "* Quarto elemento = `se o cliente é casado ou não`\n",
    "\n",
    "Essa nova funcionalidade tem como finalidade gerar um conjunto de novos *leads* para a equipe de vendas. Além dessa lista, a empresa também possuí um relatório com os clientes já registrados na base de dados. O padrão desse relatório é o seguinte:\n",
    "\n",
    "```python\n",
    "[\n",
    "    {'id': 1, 'name': 'Pedro', 'age': 32, 'height': 1.83, 'married': True},\n",
    "    .\n",
    "    . # Outros elementos da lista.\n",
    "    .\n",
    "    {'id': 50, 'name': 'Guilherme', 'age': 23, 'height': 1.79, 'married': False},\n",
    "]\n",
    "```\n",
    "\n",
    "Seu chefe pediu a sua ajuda para criar uma função que receba ambas as listas e que unifique ambas em uma estrutura com o seguinte padrão:\n",
    "\n",
    "```python\n",
    "[\n",
    "    {'nome': 'Pedro', 'idade': 32, 'altura': 1.83, 'casado': True},\n",
    "    .\n",
    "    . # Outros elementos da lista.\n",
    "    .\n",
    "    {'nome': 'Guilherme', 'idade': 23, 'altura': 1.79, 'casado': False},\n",
    "]\n",
    "```\n",
    "\n",
    "Sua função deverá receber dois argumentos:\n",
    "1. A lista gerada pelo site (Obrigatório)\n",
    "2. A lista gerada pelo sistema legado (Opcional)\n",
    "\n",
    "Sua função deve verificar se a lista gerada pelo `sistema legado` está vazia. Se estiver vazia, a função deve somente fazer as transformações necessárias para gerar a estrutura solicitada com os dados da lista gerada pelo Site. Se a lista gerada pelo sistema legado não estiver vazia, sua função deve unificar os dados de ambas as listas na estrutura solicitada.\n",
    "\n",
    "Sua função também deve verificar se há dados faltantes nos clientes de ambas as listas, e caso haja, o cliente em questão deve ser ignorado e não deve ser selecionado na lista gerada. Além disso, a sua função deve também verificar se existem registros duplicados nas listas. Caso houver, considerar somente os dados do registro da lista gerada pelo site. Para verificar se o registro é duplicado, as informações de `nome`, `altura` e `casamento` devem ser iguais em ambas as listas."
   ]
  },
  {
   "cell_type": "markdown",
   "id": "8345a698",
   "metadata": {},
   "source": [
    "Lista de clientes gerada pelo `site`:\n",
    "\n",
    "```python\n",
    "site = [\n",
    "     ['Sebastian Gonzalez', 87, 1.67, True ],\n",
    "     ['Chase Mclean',       20, 1.64, True ],\n",
    "     ['Moses Fernandez',    27, 1.67, True ],\n",
    "     ['Skyler Levy',        1.63, False],\n",
    "     ['Patrick Kemp',       72, 1.74, True ],\n",
    "     ['Hadassah Lucas',     33, 1.62, True ],\n",
    "     ['Erasmus Fuller',     23, 1.99, False],\n",
    "     ['Lamar Mccall',       51, 1.84, True ],\n",
    "     ['Nayda Aguilar',      44, 1.76, True ],\n",
    "     # ['Lucy Heath',         85, 1.84, True ],\n",
    "     ['Lucy Heath',         85, 1.84 ],\n",
    "     ['Hyatt Morris',       52, 1.56, False],\n",
    "     ['Devin Patrick',      70, 1.82, False],\n",
    "     ['Kaseem Valenzuela',  63, 1.91, False],\n",
    "     ['Kenyon Jennings',    81, 1.88, True ],\n",
    "     ['Vincent Hahn',       20, 1.96, False],\n",
    "     ['Armando Reynolds',   52, 1.77, False],\n",
    "     ['Harriet Herring',    85, 1.76, True ],\n",
    "     ['Mikayla Dodson',     73, 1.60, False],\n",
    "     ['Solomon Welch',      25, 1.91, True ],\n",
    "     ['Randall Juarez',     42, 1.57, False],\n",
    "     ['Hilel Dunlap',       89, 1.95, True ],\n",
    "     ['Camilla Harvey',     19, 1.62, True ],\n",
    "     ['Harding Cameron',    24, 1.90, False],\n",
    "     ['Cullen Mejia',       28, 1.58],\n",
    "     ['Isaiah Black',       18, 1.68, False],\n",
    "]\n",
    "```"
   ]
  },
  {
   "cell_type": "markdown",
   "id": "4d0b6604",
   "metadata": {},
   "source": [
    "Lista de clientes gerada pelo `sistema legado`:\n",
    "```python\n",
    "legado = [\n",
    "     {'id': 21, 'name': 'Nayda Aguilar',      'age': 44, 'height': 1.76, 'married': True },\n",
    "     {'id': 22, 'name': 'Tara Hyde',          'age': 48, 'height': 1.75, 'married': True },\n",
    "     {'id': 23, 'name': 'Hyatt Morris',       'height': 1.56, 'married': False},\n",
    "     {'id': 24, 'name': 'Olivia Cameron',     'age': 34, 'height': 1.86, 'married': True },\n",
    "     {'id': 26, 'name': 'Ulysses Becker',     'age': 88, 'height': 1.54, 'married': True },\n",
    "     {'id': 33, 'name': 'Venus Graves',       'age': 43, 'height': 1.56, 'married': False},\n",
    "     {'id': 34, 'name': 'Hadassah Lucas',     'age': 33, 'height': 1.62, 'married': True },\n",
    "     {'id': 35, 'name': 'Kaseem Valenzuela',  'age': 63, 'height': 1.91, 'married': False},\n",
    "     {'id': 41, 'name': 'Adam Terrell',       'age': 27, 'height': 1.57, 'married': True },\n",
    "     {'id': 43, 'name': 'Jordan Young',       'age': 39, 'height': 1.52, 'married': True },\n",
    "     {'id': 46, 'name': 'Ryan Mccarthy',      'age': 26, 'married': True },\n",
    "     {'id': 48, 'name': 'Gisela Odonnell',    'age': 76, 'height': 1.54, 'married': False},\n",
    "     {'id': 49, 'name': 'Randall Juarez',     'age': 42, 'height': 1.57, 'married': False},\n",
    "     {'id': 56, 'name': 'Desirae Whitfield',  'age': 42, 'height': 1.70, 'married': True },\n",
    "     {'id': 57, 'name': 'Maile Mckee',        'age': 32, 'height': 1.70, 'married': True },\n",
    "     {'id': 58, 'name': 'Hilel Dunlap',       'age': 89, 'height': 1.95, 'married': True },\n",
    "     {'id': 63, 'name': 'Armando Reynolds',   'age': 52, 'height': 1.77, 'married': False},\n",
    "     {'id': 65, 'name': 'Dylan Mason',        'age': 29, 'height': 1.77, 'married': True },\n",
    "     {'id': 66, 'name': 'Colin Decker',       'age': 27, 'height': 1.89, 'married': True },\n",
    "     {'id': 67, 'name': 'Yeo Wilkins',        'age': 31, 'height': 1.81, 'married': False},\n",
    "     {'id': 68, 'name': 'Candice Charles',    'age': 18, 'height': 1.84, 'married': True },\n",
    "     {'id': 69, 'name': 'Erasmus Fuller',     'age': 23, 'height': 1.99, 'married': False},\n",
    "     {'id': 78, 'name': 'Evelyn Vance',       'age': 81, 'height': 1.92, 'married': True },\n",
    "     {'id': 79, 'name': 'Sebastian Gonzalez', 'age': 87, 'height': 1.67 },\n",
    "     {'id': 80, 'name': 'Chase Mclean',       'age': 21, 'height': 1.64, 'married': True },\n",
    "]\n",
    "\n",
    "```"
   ]
  },
  {
   "cell_type": "markdown",
   "id": "719448b9",
   "metadata": {},
   "source": [
    "## Resolução"
   ]
  },
  {
   "cell_type": "code",
   "execution_count": 74,
   "id": "a580e662",
   "metadata": {
    "ExecuteTime": {
     "end_time": "2022-02-03T00:09:09.427219Z",
     "start_time": "2022-02-03T00:09:09.419268Z"
    },
    "code_folding": []
   },
   "outputs": [],
   "source": [
    "site = [\n",
    "     ['Sebastian Gonzalez', 87, 1.67, True ],\n",
    "     ['Chase Mclean',       20, 1.64, True ],\n",
    "     ['Moses Fernandez',    27, 1.67, True ],\n",
    "     ['Skyler Levy',        1.63, False],\n",
    "     ['Patrick Kemp',       72, 1.74, True ],\n",
    "     ['Hadassah Lucas',     33, 1.62, True ],\n",
    "     ['Erasmus Fuller',     23, 1.99, False],\n",
    "     ['Lamar Mccall',       51, 1.84, True ],\n",
    "     ['Nayda Aguilar',      44, 1.76, True ],\n",
    "#      ['Lucy Heath',         85, 1.84 ],\n",
    "     ['Lucy Heath',         85, 1.84, True ],\n",
    "     ['Hyatt Morris',       52, 1.56, False],\n",
    "     ['Devin Patrick',      70, 1.82, False],\n",
    "     ['Kaseem Valenzuela',  63, 1.91, False],\n",
    "     ['Kenyon Jennings',    81, 1.88, True ],\n",
    "     ['Vincent Hahn',       20, 1.96, False],\n",
    "     ['Armando Reynolds',   52, 1.77, False],\n",
    "     ['Harriet Herring',    85, 1.76, True ],\n",
    "     ['Mikayla Dodson',     73, 1.60, False],\n",
    "     ['Solomon Welch',      25, 1.91, True ],\n",
    "     ['Randall Juarez',     42, 1.57, False],\n",
    "     ['Hilel Dunlap',       89, 1.95, True ],\n",
    "     ['Camilla Harvey',     19, 1.62, True ],\n",
    "     ['Harding Cameron',    24, 1.90, False],\n",
    "     ['Cullen Mejia',       28, 1.58],\n",
    "     ['Isaiah Black',       18, 1.68, False],\n",
    "]"
   ]
  },
  {
   "cell_type": "code",
   "execution_count": 75,
   "id": "2040c32a",
   "metadata": {
    "ExecuteTime": {
     "end_time": "2022-02-03T00:09:09.562685Z",
     "start_time": "2022-02-03T00:09:09.550021Z"
    },
    "code_folding": []
   },
   "outputs": [],
   "source": [
    "legado = [\n",
    "     {'id': 21, 'name': 'Nayda Aguilar',      'age': 44, 'height': 1.76, 'married': True },\n",
    "     {'id': 22, 'name': 'Tara Hyde',          'age': 48, 'height': 1.75, 'married': True },\n",
    "     {'id': 23, 'name': 'Hyatt Morris',       'height': 1.56, 'married': False},\n",
    "     {'id': 24, 'name': 'Olivia Cameron',     'age': 34, 'height': 1.86, 'married': True },\n",
    "     {'id': 26, 'name': 'Ulysses Becker',     'age': 88, 'height': 1.54, 'married': True },\n",
    "     {'id': 33, 'name': 'Venus Graves',       'age': 43, 'height': 1.56, 'married': False},\n",
    "     {'id': 34, 'name': 'Hadassah Lucas',     'age': 33, 'height': 1.62, 'married': True },\n",
    "     {'id': 35, 'name': 'Kaseem Valenzuela',  'age': 63, 'height': 1.91, 'married': False},\n",
    "     {'id': 41, 'name': 'Adam Terrell',       'age': 27, 'height': 1.57, 'married': True },\n",
    "     {'id': 43, 'name': 'Jordan Young',       'age': 39, 'height': 1.52, 'married': True },\n",
    "     {'id': 46, 'name': 'Ryan Mccarthy',      'age': 26, 'married': True },\n",
    "     {'id': 48, 'name': 'Gisela Odonnell',    'age': 76, 'height': 1.54, 'married': False},\n",
    "     {'id': 49, 'name': 'Randall Juarez',     'age': 42, 'height': 1.57, 'married': False},\n",
    "     {'id': 56, 'name': 'Desirae Whitfield',  'age': 42, 'height': 1.70, 'married': True },\n",
    "     {'id': 57, 'name': 'Maile Mckee',        'age': 32, 'height': 1.70, 'married': True },\n",
    "     {'id': 58, 'name': 'Hilel Dunlap',       'age': 89, 'height': 1.95, 'married': True },\n",
    "     {'id': 63, 'name': 'Armando Reynolds',   'age': 52, 'height': 1.77, 'married': False},\n",
    "     {'id': 65, 'name': 'Dylan Mason',        'age': 29, 'height': 1.77, 'married': True },\n",
    "     {'id': 66, 'name': 'Colin Decker',       'age': 27, 'height': 1.89, 'married': True },\n",
    "     {'id': 67, 'name': 'Yeo Wilkins',        'age': 31, 'height': 1.81, 'married': False},\n",
    "     {'id': 68, 'name': 'Candice Charles',    'age': 18, 'height': 1.84, 'married': True },\n",
    "     {'id': 69, 'name': 'Erasmus Fuller',     'age': 23, 'height': 1.99, 'married': False},\n",
    "     {'id': 78, 'name': 'Evelyn Vance',       'age': 81, 'height': 1.92, 'married': True },\n",
    "     {'id': 79, 'name': 'Sebastian Gonzalez', 'age': 87, 'height': 1.67 },\n",
    "     {'id': 80, 'name': 'Chase Mclean',       'age': 21, 'height': 1.64, 'married': True },\n",
    "]"
   ]
  },
  {
   "cell_type": "code",
   "execution_count": 76,
   "id": "c65ca1f1",
   "metadata": {
    "ExecuteTime": {
     "end_time": "2022-02-03T00:09:09.705301Z",
     "start_time": "2022-02-03T00:09:09.693810Z"
    },
    "code_folding": [
     0
    ]
   },
   "outputs": [],
   "source": [
    "resp_site = [\n",
    "     {'nome': 'Sebastian Gonzalez', 'idade': 87, 'altura': 1.67, 'casado': True },\n",
    "     {'nome': 'Chase Mclean',       'idade': 20, 'altura': 1.64, 'casado': True },\n",
    "     {'nome': 'Moses Fernandez',    'idade': 27, 'altura': 1.67, 'casado': True },\n",
    "     {'nome': 'Patrick Kemp',       'idade': 72, 'altura': 1.74, 'casado': True },\n",
    "     {'nome': 'Hadassah Lucas',     'idade': 33, 'altura': 1.62, 'casado': True },\n",
    "     {'nome': 'Erasmus Fuller',     'idade': 23, 'altura': 1.99, 'casado': False},\n",
    "     {'nome': 'Lamar Mccall',       'idade': 51, 'altura': 1.84, 'casado': True },\n",
    "     {'nome': 'Nayda Aguilar',      'idade': 44, 'altura': 1.76, 'casado': True },\n",
    "     {'nome': 'Hyatt Morris',       'idade': 52, 'altura': 1.56, 'casado': False},\n",
    "     {'nome': 'Devin Patrick',      'idade': 70, 'altura': 1.82, 'casado': False},\n",
    "     {'nome': 'Kaseem Valenzuela',  'idade': 63, 'altura': 1.91, 'casado': False},\n",
    "     {'nome': 'Kenyon Jennings',    'idade': 81, 'altura': 1.88, 'casado': True },\n",
    "     {'nome': 'Vincent Hahn',       'idade': 20, 'altura': 1.96, 'casado': False},\n",
    "     {'nome': 'Armando Reynolds',   'idade': 52, 'altura': 1.77, 'casado': False},\n",
    "     {'nome': 'Harriet Herring',    'idade': 85, 'altura': 1.76, 'casado': True },\n",
    "     {'nome': 'Mikayla Dodson',     'idade': 73, 'altura': 1.60, 'casado': False},\n",
    "     {'nome': 'Solomon Welch',      'idade': 25, 'altura': 1.91, 'casado': True },\n",
    "     {'nome': 'Randall Juarez',     'idade': 42, 'altura': 1.57, 'casado': False},\n",
    "     {'nome': 'Hilel Dunlap',       'idade': 89, 'altura': 1.95, 'casado': True },\n",
    "     {'nome': 'Camilla Harvey',     'idade': 19, 'altura': 1.62, 'casado': True },\n",
    "     {'nome': 'Harding Cameron',    'idade': 24, 'altura': 1.90, 'casado': False},\n",
    "     {'nome': 'Isaiah Black',       'idade': 18, 'altura': 1.68, 'casado': False},\n",
    "]"
   ]
  },
  {
   "cell_type": "code",
   "execution_count": 77,
   "id": "762f8280",
   "metadata": {
    "ExecuteTime": {
     "end_time": "2022-02-03T00:09:09.867798Z",
     "start_time": "2022-02-03T00:09:09.853502Z"
    },
    "code_folding": [
     0
    ]
   },
   "outputs": [],
   "source": [
    "resp_merg = [\n",
    "     {'nome': 'Sebastian Gonzalez', 'idade': 87, 'altura': 1.67, 'casado': True },\n",
    "     {'nome': 'Nayda Aguilar',      'idade': 44, 'altura': 1.76, 'casado': True },\n",
    "     {'nome': 'Chase Mclean',       'idade': 20, 'altura': 1.64, 'casado': True },\n",
    "     {'nome': 'Tara Hyde',          'idade': 48, 'altura': 1.75, 'casado': True },\n",
    "     {'nome': 'Moses Fernandez',    'idade': 27, 'altura': 1.67, 'casado': True },\n",
    "     {'nome': 'Olivia Cameron',     'idade': 34, 'altura': 1.86, 'casado': True },\n",
    "     {'nome': 'Patrick Kemp',       'idade': 72, 'altura': 1.74, 'casado': True },\n",
    "     {'nome': 'Ulysses Becker',     'idade': 88, 'altura': 1.54, 'casado': True },\n",
    "     {'nome': 'Hadassah Lucas',     'idade': 33, 'altura': 1.62, 'casado': True },\n",
    "     {'nome': 'Venus Graves',       'idade': 43, 'altura': 1.56, 'casado': False},\n",
    "     {'nome': 'Erasmus Fuller',     'idade': 23, 'altura': 1.99, 'casado': False},\n",
    "     {'nome': 'Lamar Mccall',       'idade': 51, 'altura': 1.84, 'casado': True },\n",
    "     {'nome': 'Kaseem Valenzuela',  'idade': 63, 'altura': 1.91, 'casado': False},\n",
    "     {'nome': 'Adam Terrell',       'idade': 27, 'altura': 1.57, 'casado': True },\n",
    "     {'nome': 'Hyatt Morris',       'idade': 52, 'altura': 1.56, 'casado': False},\n",
    "     {'nome': 'Jordan Young',       'idade': 39, 'altura': 1.52, 'casado': True },\n",
    "     {'nome': 'Devin Patrick',      'idade': 70, 'altura': 1.82, 'casado': False},\n",
    "     {'nome': 'Gisela Odonnell',    'idade': 76, 'altura': 1.54, 'casado': False},\n",
    "     {'nome': 'Randall Juarez',     'idade': 42, 'altura': 1.57, 'casado': False},\n",
    "     {'nome': 'Kenyon Jennings',    'idade': 81, 'altura': 1.88, 'casado': True },\n",
    "     {'nome': 'Desirae Whitfield',  'idade': 42, 'altura': 1.70, 'casado': True },\n",
    "     {'nome': 'Vincent Hahn',       'idade': 20, 'altura': 1.96, 'casado': False},\n",
    "     {'nome': 'Maile Mckee',        'idade': 32, 'altura': 1.70, 'casado': True },\n",
    "     {'nome': 'Armando Reynolds',   'idade': 52, 'altura': 1.77, 'casado': False},\n",
    "     {'nome': 'Hilel Dunlap',       'idade': 89, 'altura': 1.95, 'casado': True },\n",
    "     {'nome': 'Harriet Herring',    'idade': 85, 'altura': 1.76, 'casado': True },\n",
    "     {'nome': 'Mikayla Dodson',     'idade': 73, 'altura': 1.60, 'casado': False},\n",
    "     {'nome': 'Dylan Mason',        'idade': 29, 'altura': 1.77, 'casado': True },\n",
    "     {'nome': 'Solomon Welch',      'idade': 25, 'altura': 1.91, 'casado': True },\n",
    "     {'nome': 'Colin Decker',       'idade': 27, 'altura': 1.89, 'casado': True },\n",
    "     {'nome': 'Yeo Wilkins',        'idade': 31, 'altura': 1.81, 'casado': False},\n",
    "     {'nome': 'Candice Charles',    'idade': 18, 'altura': 1.84, 'casado': True },\n",
    "     {'nome': 'Camilla Harvey',     'idade': 19, 'altura': 1.62, 'casado': True },\n",
    "     {'nome': 'Harding Cameron',    'idade': 24, 'altura': 1.90, 'casado': False},\n",
    "     {'nome': 'Evelyn Vance',       'idade': 81, 'altura': 1.92, 'casado': True },\n",
    "     {'nome': 'Isaiah Black',       'idade': 18, 'altura': 1.68, 'casado': False},\n",
    "     {'nome': 'Chase Mclean',       'idade': 21, 'altura': 1.64, 'casado': True },\n",
    "]"
   ]
  },
  {
   "cell_type": "code",
   "execution_count": null,
   "id": "0dc0187e",
   "metadata": {},
   "outputs": [],
   "source": []
  },
  {
   "cell_type": "code",
   "execution_count": null,
   "id": "c619ef4a",
   "metadata": {},
   "outputs": [],
   "source": []
  },
  {
   "cell_type": "code",
   "execution_count": 60,
   "id": "42d409b6",
   "metadata": {
    "ExecuteTime": {
     "end_time": "2022-02-03T00:07:17.227399Z",
     "start_time": "2022-02-03T00:07:17.224637Z"
    }
   },
   "outputs": [],
   "source": [
    "lista_1 = [1, 2, 3, 4]\n",
    "lista_2 = ['1', '2', '3']\n",
    "lista_3 = ['one', 'two', 'three', 'four']"
   ]
  },
  {
   "cell_type": "code",
   "execution_count": 61,
   "id": "fa9aec67",
   "metadata": {
    "ExecuteTime": {
     "end_time": "2022-02-03T00:07:17.363260Z",
     "start_time": "2022-02-03T00:07:17.359731Z"
    }
   },
   "outputs": [
    {
     "data": {
      "text/plain": [
       "<zip at 0x7faad7552240>"
      ]
     },
     "execution_count": 61,
     "metadata": {},
     "output_type": "execute_result"
    }
   ],
   "source": [
    "r = zip(lista_1, lista_2)\n",
    "r"
   ]
  },
  {
   "cell_type": "code",
   "execution_count": 62,
   "id": "fc5fd986",
   "metadata": {
    "ExecuteTime": {
     "end_time": "2022-02-03T00:07:17.474068Z",
     "start_time": "2022-02-03T00:07:17.469820Z"
    }
   },
   "outputs": [
    {
     "data": {
      "text/plain": [
       "((1, '1'), (2, '2'), (3, '3'))"
      ]
     },
     "execution_count": 62,
     "metadata": {},
     "output_type": "execute_result"
    }
   ],
   "source": [
    "tuple(r)"
   ]
  },
  {
   "cell_type": "code",
   "execution_count": 63,
   "id": "c11ed0a4",
   "metadata": {
    "ExecuteTime": {
     "end_time": "2022-02-03T00:07:17.604433Z",
     "start_time": "2022-02-03T00:07:17.602250Z"
    }
   },
   "outputs": [],
   "source": [
    "lista_2 = [\n",
    "    '1', # 0\n",
    "    '2', # 1\n",
    "    '3', # 2\n",
    "]"
   ]
  },
  {
   "cell_type": "code",
   "execution_count": null,
   "id": "6fc9cad4",
   "metadata": {},
   "outputs": [],
   "source": []
  },
  {
   "cell_type": "code",
   "execution_count": 64,
   "id": "ce084809",
   "metadata": {
    "ExecuteTime": {
     "end_time": "2022-02-03T00:07:17.890211Z",
     "start_time": "2022-02-03T00:07:17.887350Z"
    }
   },
   "outputs": [
    {
     "name": "stdout",
     "output_type": "stream",
     "text": [
      "i = 0; v = 1\n",
      "i = 1; v = 2\n",
      "i = 2; v = 3\n"
     ]
    }
   ],
   "source": [
    "for i, v in enumerate(lista_2):\n",
    "    print(f'i = {i}; v = {v}')"
   ]
  },
  {
   "cell_type": "code",
   "execution_count": null,
   "id": "a5297673",
   "metadata": {},
   "outputs": [],
   "source": []
  },
  {
   "cell_type": "code",
   "execution_count": null,
   "id": "1ea8e76f",
   "metadata": {},
   "outputs": [],
   "source": []
  },
  {
   "cell_type": "code",
   "execution_count": null,
   "id": "8ddaf2db",
   "metadata": {},
   "outputs": [],
   "source": []
  },
  {
   "cell_type": "code",
   "execution_count": null,
   "id": "73eaa589",
   "metadata": {},
   "outputs": [],
   "source": []
  },
  {
   "cell_type": "code",
   "execution_count": null,
   "id": "713bdb83",
   "metadata": {},
   "outputs": [],
   "source": []
  },
  {
   "cell_type": "code",
   "execution_count": 65,
   "id": "ad08dbac",
   "metadata": {
    "ExecuteTime": {
     "end_time": "2022-02-03T00:07:18.775446Z",
     "start_time": "2022-02-03T00:07:18.771830Z"
    },
    "code_folding": [
     0
    ]
   },
   "outputs": [],
   "source": [
    "# Função Auxiliar para DEBUG\n",
    "# Função que mostra qual o elemento que está\n",
    "# a mais na lista de resposta\n",
    "# A lista do parametro 'r' deve sempre maior\n",
    "# maior que a lista do parametro 'rm'\n",
    "def out(r, rm):\n",
    "\n",
    "    o = []\n",
    "\n",
    "    for elemento in r:\n",
    "        if elemento not in rm:\n",
    "            o.append(elemento)\n",
    "\n",
    "    return o"
   ]
  },
  {
   "cell_type": "code",
   "execution_count": null,
   "id": "5b9ffeb1",
   "metadata": {},
   "outputs": [],
   "source": []
  },
  {
   "cell_type": "code",
   "execution_count": null,
   "id": "31a4cba3",
   "metadata": {},
   "outputs": [],
   "source": []
  },
  {
   "cell_type": "code",
   "execution_count": null,
   "id": "c8ca74a9",
   "metadata": {},
   "outputs": [],
   "source": []
  },
  {
   "cell_type": "code",
   "execution_count": 66,
   "id": "40e3328e",
   "metadata": {
    "ExecuteTime": {
     "end_time": "2022-02-03T00:07:19.777854Z",
     "start_time": "2022-02-03T00:07:19.774066Z"
    },
    "code_folding": [
     0
    ]
   },
   "outputs": [],
   "source": [
    "def limpa_aux(dataset, qtd):\n",
    "    \n",
    "    resposta = []\n",
    "    \n",
    "    for item in dataset:\n",
    "        if(len(item) == qtd):\n",
    "            resposta.append(item)\n",
    "            \n",
    "    return resposta"
   ]
  },
  {
   "cell_type": "code",
   "execution_count": 67,
   "id": "748c6bb7",
   "metadata": {
    "ExecuteTime": {
     "end_time": "2022-02-03T00:07:19.931606Z",
     "start_time": "2022-02-03T00:07:19.927797Z"
    },
    "code_folding": [
     0
    ]
   },
   "outputs": [],
   "source": [
    "def traduz_chave(dataset):\n",
    "    resposta = []\n",
    "    \n",
    "    for item in dataset:\n",
    "        item_dicionario = {}\n",
    "        \n",
    "        item_dicionario['nome'] = item['name']\n",
    "        item_dicionario['idade'] = item['age']\n",
    "        item_dicionario['altura'] = item['height']\n",
    "        item_dicionario['casado'] = item['married']\n",
    "\n",
    "        resposta.append(item_dicionario)\n",
    "        \n",
    "    \n",
    "    return resposta"
   ]
  },
  {
   "cell_type": "code",
   "execution_count": 68,
   "id": "b9769a92",
   "metadata": {
    "ExecuteTime": {
     "end_time": "2022-02-03T00:07:20.057834Z",
     "start_time": "2022-02-03T00:07:20.054256Z"
    },
    "code_folding": [
     0
    ]
   },
   "outputs": [],
   "source": [
    "def limpa_dataset(dataset):\n",
    "    \n",
    "    # Resposta\n",
    "    lista_limpa = []\n",
    "    \n",
    "    if isinstance(dataset[0], list):\n",
    "        \n",
    "        lista_limpa = limpa_aux(dataset, 4)\n",
    "        \n",
    "    else:\n",
    "        \n",
    "        lista_limpa = limpa_aux(dataset, 5)\n",
    "        lista_limpa = traduz_chave(lista_limpa)\n",
    "    \n",
    "    return lista_limpa"
   ]
  },
  {
   "cell_type": "code",
   "execution_count": 69,
   "id": "7753362c",
   "metadata": {
    "ExecuteTime": {
     "end_time": "2022-02-03T00:07:20.194979Z",
     "start_time": "2022-02-03T00:07:20.191632Z"
    },
    "code_folding": [
     0
    ]
   },
   "outputs": [],
   "source": [
    "def gera_dicionario(lista):\n",
    "    lista_dicionario = []\n",
    "    \n",
    "    for item in lista:\n",
    "        lista_dicionario.append({'nome': item[0], 'idade': item[1], 'altura': item[2], 'casado': item[3]})\n",
    "        \n",
    "    return lista_dicionario"
   ]
  },
  {
   "cell_type": "code",
   "execution_count": 70,
   "id": "9c1d99d1",
   "metadata": {
    "ExecuteTime": {
     "end_time": "2022-02-03T00:07:20.352266Z",
     "start_time": "2022-02-03T00:07:20.344538Z"
    },
    "code_folding": [
     0,
     39
    ]
   },
   "outputs": [],
   "source": [
    "def une_dataset(lista_site, lista_legado):\n",
    "\n",
    "    resposta = []\n",
    "    \n",
    "\n",
    "    # Maneira que estava errada\n",
    "#     for elemento_lista in lista_site:\n",
    "        \n",
    "#         for elemento_legado in lista_legado:\n",
    "#             print(f'elemento do site = {elemento_lista}')\n",
    "#             print(f'elemento do legado = {elemento_legado}')\n",
    "        \n",
    "#             if(\n",
    "#                 elemento_lista not in resposta\n",
    "#             ):\n",
    "#                 print('entrei')\n",
    "#                 print('**************************************')\n",
    "#                 break\n",
    "                \n",
    "                \n",
    "#             print('==============================')\n",
    "    \n",
    "\n",
    "    # Maneira feita por mim (Pedro)\n",
    "    if(len(lista_site) > len(lista_legado)):\n",
    "        \n",
    "        for index, legado_item in enumerate(lista_legado):\n",
    "\n",
    "            if lista_site[index] not in resposta:\n",
    "                resposta.append(lista_site[index])\n",
    "\n",
    "            if legado_item not in resposta:\n",
    "                resposta.append(legado_item)\n",
    "                    \n",
    "        if(lista_site[len(lista_site) - 1] not in resposta):\n",
    "            resposta.append(lista_site[-1])\n",
    "            \n",
    "    elif len(lista_site) < len(lista_legado):\n",
    "        \n",
    "        for index, site_item in enumerate(lista_site):\n",
    "            \n",
    "            if(site_item not in resposta):\n",
    "                resposta.append(site_item)\n",
    "\n",
    "            if(legado_item[index] not in resposta):\n",
    "                resposta.append(lista_legado[index])\n",
    "                    \n",
    "        if(lista_legado[-1] not in resposta):\n",
    "            resposta.append(lista_legado[-1])\n",
    "    \n",
    "    else:\n",
    "        \n",
    "        for site_item, legado_item in zip(lista_site, lista_legado):\n",
    "            \n",
    "            if(site_item not in resposta):\n",
    "                resposta.append(site_item)\n",
    "                    \n",
    "            if(legado_item not in resposta):\n",
    "                resposta.append(legado_item)\n",
    "\n",
    "\n",
    "    # Maneira feita pelo Edu\n",
    "#     resposta = lista_site\n",
    "    \n",
    "#     for legado in lista_legado:\n",
    "#         if legado not in resposta:\n",
    "#             resposta.append(legado)\n",
    "    \n",
    "    return resposta"
   ]
  },
  {
   "cell_type": "code",
   "execution_count": 71,
   "id": "41fc0b69",
   "metadata": {
    "ExecuteTime": {
     "end_time": "2022-02-03T00:07:20.497334Z",
     "start_time": "2022-02-03T00:07:20.493645Z"
    },
    "code_folding": [
     1
    ]
   },
   "outputs": [],
   "source": [
    "# Função que executará as outras funções\n",
    "def gera_leads(lista_site, lista_legado = None):\n",
    "    \n",
    "    resposta = []\n",
    "    \n",
    "    lista_site_limpa = limpa_dataset(lista_site)\n",
    "    lista_site_ok = gera_dicionario(lista_site_limpa)\n",
    "    \n",
    "    if lista_legado != None:\n",
    "        lista_legado_limpa = limpa_dataset(lista_legado)\n",
    "        resposta = une_dataset(lista_site_ok, lista_legado_limpa)\n",
    "    else:\n",
    "        resposta = lista_site_ok\n",
    "        \n",
    "    return resposta"
   ]
  },
  {
   "cell_type": "code",
   "execution_count": null,
   "id": "09bf65e3",
   "metadata": {},
   "outputs": [],
   "source": []
  },
  {
   "cell_type": "code",
   "execution_count": 78,
   "id": "1c4e2a62",
   "metadata": {
    "ExecuteTime": {
     "end_time": "2022-02-03T00:09:14.846777Z",
     "start_time": "2022-02-03T00:09:14.842893Z"
    }
   },
   "outputs": [
    {
     "data": {
      "text/plain": [
       "{'nome': 'Isaiah Black', 'idade': 18, 'altura': 1.68, 'casado': False}"
      ]
     },
     "execution_count": 78,
     "metadata": {},
     "output_type": "execute_result"
    }
   ],
   "source": [
    "resp = gera_leads(site, legado)\n",
    "resp[-1]"
   ]
  },
  {
   "cell_type": "code",
   "execution_count": 79,
   "id": "532fdbca",
   "metadata": {
    "ExecuteTime": {
     "end_time": "2022-02-03T00:09:15.130385Z",
     "start_time": "2022-02-03T00:09:15.114715Z"
    }
   },
   "outputs": [
    {
     "ename": "AssertionError",
     "evalue": "",
     "output_type": "error",
     "traceback": [
      "\u001b[0;31m---------------------------------------------------------------------------\u001b[0m",
      "\u001b[0;31mAssertionError\u001b[0m                            Traceback (most recent call last)",
      "Input \u001b[0;32mIn [79]\u001b[0m, in \u001b[0;36m<module>\u001b[0;34m\u001b[0m\n\u001b[0;32m----> 1\u001b[0m \u001b[38;5;28;01massert\u001b[39;00m resp \u001b[38;5;241m==\u001b[39m resp_merg\n",
      "\u001b[0;31mAssertionError\u001b[0m: "
     ]
    }
   ],
   "source": [
    "assert resp == resp_merg"
   ]
  },
  {
   "cell_type": "code",
   "execution_count": 80,
   "id": "778fd310",
   "metadata": {
    "ExecuteTime": {
     "end_time": "2022-02-03T00:09:22.962859Z",
     "start_time": "2022-02-03T00:09:22.959188Z"
    }
   },
   "outputs": [
    {
     "data": {
      "text/plain": [
       "25"
      ]
     },
     "execution_count": 80,
     "metadata": {},
     "output_type": "execute_result"
    }
   ],
   "source": [
    "len(site)"
   ]
  },
  {
   "cell_type": "code",
   "execution_count": 81,
   "id": "3ac1e4dd",
   "metadata": {
    "ExecuteTime": {
     "end_time": "2022-02-03T00:09:23.644191Z",
     "start_time": "2022-02-03T00:09:23.641182Z"
    }
   },
   "outputs": [
    {
     "data": {
      "text/plain": [
       "25"
      ]
     },
     "execution_count": 81,
     "metadata": {},
     "output_type": "execute_result"
    }
   ],
   "source": [
    "len(legado)"
   ]
  },
  {
   "cell_type": "code",
   "execution_count": 82,
   "id": "a045fcaa",
   "metadata": {
    "ExecuteTime": {
     "end_time": "2022-02-03T00:09:25.808381Z",
     "start_time": "2022-02-03T00:09:25.804799Z"
    }
   },
   "outputs": [
    {
     "data": {
      "text/plain": [
       "38"
      ]
     },
     "execution_count": 82,
     "metadata": {},
     "output_type": "execute_result"
    }
   ],
   "source": [
    "len(resp)"
   ]
  },
  {
   "cell_type": "code",
   "execution_count": 83,
   "id": "d6bf328f",
   "metadata": {
    "ExecuteTime": {
     "end_time": "2022-02-03T00:09:44.032216Z",
     "start_time": "2022-02-03T00:09:44.028441Z"
    }
   },
   "outputs": [
    {
     "data": {
      "text/plain": [
       "37"
      ]
     },
     "execution_count": 83,
     "metadata": {},
     "output_type": "execute_result"
    }
   ],
   "source": [
    "len(resp_merg)"
   ]
  },
  {
   "cell_type": "code",
   "execution_count": 84,
   "id": "dad221f6",
   "metadata": {
    "ExecuteTime": {
     "end_time": "2022-02-03T00:09:53.379028Z",
     "start_time": "2022-02-03T00:09:53.376400Z"
    }
   },
   "outputs": [
    {
     "data": {
      "text/plain": [
       "[{'nome': 'Lucy Heath', 'idade': 85, 'altura': 1.84, 'casado': True}]"
      ]
     },
     "execution_count": 84,
     "metadata": {},
     "output_type": "execute_result"
    }
   ],
   "source": [
    "t = out(resp, resp_merg)\n",
    "t"
   ]
  },
  {
   "cell_type": "code",
   "execution_count": null,
   "id": "f664d074",
   "metadata": {},
   "outputs": [],
   "source": []
  },
  {
   "cell_type": "code",
   "execution_count": null,
   "id": "0ed92769",
   "metadata": {},
   "outputs": [],
   "source": []
  },
  {
   "cell_type": "code",
   "execution_count": null,
   "id": "6768b22b",
   "metadata": {},
   "outputs": [],
   "source": []
  },
  {
   "cell_type": "code",
   "execution_count": null,
   "id": "8c730d8c",
   "metadata": {},
   "outputs": [],
   "source": []
  },
  {
   "cell_type": "code",
   "execution_count": null,
   "id": "d66a1a0f",
   "metadata": {},
   "outputs": [],
   "source": []
  },
  {
   "cell_type": "code",
   "execution_count": null,
   "id": "ba23ed1b",
   "metadata": {},
   "outputs": [],
   "source": []
  },
  {
   "cell_type": "code",
   "execution_count": null,
   "id": "a834cbd5",
   "metadata": {},
   "outputs": [],
   "source": []
  },
  {
   "cell_type": "code",
   "execution_count": null,
   "id": "da3be127",
   "metadata": {},
   "outputs": [],
   "source": []
  },
  {
   "cell_type": "code",
   "execution_count": null,
   "id": "c9ac3b38",
   "metadata": {},
   "outputs": [],
   "source": []
  },
  {
   "cell_type": "code",
   "execution_count": null,
   "id": "e7537208",
   "metadata": {},
   "outputs": [],
   "source": []
  },
  {
   "cell_type": "code",
   "execution_count": 44,
   "id": "94d6cfcb",
   "metadata": {
    "ExecuteTime": {
     "end_time": "2022-02-02T23:57:28.940760Z",
     "start_time": "2022-02-02T23:57:28.938467Z"
    }
   },
   "outputs": [],
   "source": [
    "nome = 'Pedro'\n",
    "idade = 32"
   ]
  },
  {
   "cell_type": "code",
   "execution_count": 46,
   "id": "9ea9cae1",
   "metadata": {
    "ExecuteTime": {
     "end_time": "2022-02-02T23:58:00.539876Z",
     "start_time": "2022-02-02T23:58:00.536965Z"
    }
   },
   "outputs": [
    {
     "name": "stdout",
     "output_type": "stream",
     "text": [
      "o meu nome é = Pedro e minha idade é 32\n"
     ]
    }
   ],
   "source": [
    "print(f\"o meu nome = {nome} e minha idade {idade}\")\n",
    "print(f\"o meu nome = {nome} e minha idade {idade}\")"
   ]
  },
  {
   "cell_type": "code",
   "execution_count": 47,
   "id": "e521ad46",
   "metadata": {
    "ExecuteTime": {
     "end_time": "2022-02-02T23:58:00.660720Z",
     "start_time": "2022-02-02T23:58:00.657784Z"
    }
   },
   "outputs": [
    {
     "name": "stdout",
     "output_type": "stream",
     "text": [
      "o meu nome é Pedro e minha idade é 32\n"
     ]
    }
   ],
   "source": [
    "print(\"o meu nome é {} e minha idade é {}\".format(nome, idade))"
   ]
  },
  {
   "cell_type": "code",
   "execution_count": 49,
   "id": "9028cd2e",
   "metadata": {
    "ExecuteTime": {
     "end_time": "2022-02-02T23:58:07.540012Z",
     "start_time": "2022-02-02T23:58:07.536858Z"
    }
   },
   "outputs": [
    {
     "name": "stdout",
     "output_type": "stream",
     "text": [
      "o meu nome é Pedro e minha idade é 32\n"
     ]
    }
   ],
   "source": [
    "print(\"o meu nome é \" + nome + \" e minha idade é \" + str(idade))"
   ]
  },
  {
   "cell_type": "code",
   "execution_count": 78,
   "id": "9f3c6582",
   "metadata": {
    "ExecuteTime": {
     "end_time": "2022-01-29T21:42:40.432827Z",
     "start_time": "2022-01-29T21:42:40.428763Z"
    }
   },
   "outputs": [],
   "source": []
  },
  {
   "cell_type": "code",
   "execution_count": null,
   "id": "28f0a4d6",
   "metadata": {},
   "outputs": [],
   "source": []
  },
  {
   "cell_type": "code",
   "execution_count": null,
   "id": "31502e5e",
   "metadata": {},
   "outputs": [],
   "source": []
  },
  {
   "cell_type": "code",
   "execution_count": null,
   "id": "2d9b95e6",
   "metadata": {},
   "outputs": [],
   "source": []
  },
  {
   "cell_type": "code",
   "execution_count": 18,
   "id": "dd259551",
   "metadata": {
    "ExecuteTime": {
     "end_time": "2022-02-02T23:30:33.080111Z",
     "start_time": "2022-02-02T23:30:33.076845Z"
    }
   },
   "outputs": [
    {
     "ename": "SyntaxError",
     "evalue": "unexpected EOF while parsing (307310321.py, line 6)",
     "output_type": "error",
     "traceback": [
      "\u001b[0;36m  Input \u001b[0;32mIn [18]\u001b[0;36m\u001b[0m\n\u001b[0;31m    ):\u001b[0m\n\u001b[0m      ^\u001b[0m\n\u001b[0;31mSyntaxError\u001b[0m\u001b[0;31m:\u001b[0m unexpected EOF while parsing\n"
     ]
    }
   ],
   "source": [
    "#             if(\n",
    "#                 elemento_lista['nome'] != elemento_legado['nome'] and # True\n",
    "#                 elemento_lista['altura'] != elemento_legado['altura'] and # true\n",
    "#                 elemento_lista['casado'] != elemento_legado['casado'] and # False\n",
    "#                 elemento_lista not in reposta\n",
    "#             ):"
   ]
  },
  {
   "cell_type": "code",
   "execution_count": null,
   "id": "9af307d5",
   "metadata": {
    "ExecuteTime": {
     "end_time": "2022-01-29T21:20:27.309454Z",
     "start_time": "2022-01-29T21:20:27.306124Z"
    }
   },
   "outputs": [],
   "source": []
  },
  {
   "cell_type": "markdown",
   "id": "fa4cf33b",
   "metadata": {},
   "source": [
    "# EXERCÍCIO 2"
   ]
  },
  {
   "cell_type": "markdown",
   "id": "1dc1dae8",
   "metadata": {},
   "source": [
    "## Problema"
   ]
  },
  {
   "cell_type": "markdown",
   "id": "b977366f",
   "metadata": {
    "ExecuteTime": {
     "end_time": "2021-10-29T15:41:57.821363Z",
     "start_time": "2021-10-29T15:41:57.817790Z"
    }
   },
   "source": [
    "Crie uma função chamada `métricas` que receba a lista gerada no exercício passado e cálcule as seguintes métricas:\n",
    "\n",
    "* Média das idades\n",
    "* A maior idade\n",
    "* A menor idade\n",
    "* Percentagem dos não casado e dos casado\n",
    "* Quantos elementos da lista possuem o nome que inicia com a letra 'D'\n",
    "\n",
    "A lista que será utilizada nessa função deve conter ao menos 10 elementos. Caso ela possua menos de 10 elementos, imprimir uma mensagem utilizando a função `print()` dizendo \"Quantidade de elementos insuficientes\".\n",
    "\n",
    "As respostas devem seguir o seguinte padrão:\n",
    "\n",
    "```\n",
    "A média das idade é = 32\n",
    "A maior idade é = 80\n",
    "A menor idade é = 15\n",
    "A porcentagem de casodos é de 45% para 55% de não casado\n",
    "Existem 3 elementos que começam a letra 'D' na lista\n",
    "```"
   ]
  },
  {
   "cell_type": "markdown",
   "id": "2c84a65f",
   "metadata": {
    "ExecuteTime": {
     "end_time": "2021-10-29T15:41:57.950042Z",
     "start_time": "2021-10-29T15:41:57.946603Z"
    }
   },
   "source": [
    "## Resolução"
   ]
  },
  {
   "cell_type": "code",
   "execution_count": 113,
   "id": "e4735880",
   "metadata": {
    "ExecuteTime": {
     "end_time": "2022-02-03T01:07:17.192279Z",
     "start_time": "2022-02-03T01:07:17.184048Z"
    }
   },
   "outputs": [],
   "source": [
    "def metricas(lista):\n",
    "    media_idade = 0\n",
    "    \n",
    "    idade_minima = 1000\n",
    "    idade_maxima = 0\n",
    "    \n",
    "    casados = 0\n",
    "    n_casados = 0\n",
    "    \n",
    "    qtd_letra_d = 0\n",
    "    \n",
    "    \n",
    "    for usuario in lista:\n",
    "        \n",
    "        if(usuario['idade'] < idade_minima):\n",
    "            idade_minima = usuario['idade']\n",
    "            \n",
    "        if(usuario['idade'] > idade_maxima):\n",
    "            idade_maxima = usuario['idade']\n",
    "            \n",
    "        \n",
    "        if(usuario['casado']):\n",
    "            casados += 1\n",
    "        else:\n",
    "            n_casados += 1\n",
    "           \n",
    "        \n",
    "        if usuario['nome'].startswith('D'):\n",
    "            qtd_letra_d += 1\n",
    "            \n",
    "        media_idade += usuario['idade']\n",
    "            \n",
    "#     media_idade = media_idade / len(lista)\n",
    "    media_idade /= len(lista)\n",
    "      \n",
    "    casados = (casados / len(lista)) * 100\n",
    "    \n",
    "    n_casados = (n_casados / len(lista)) * 100\n",
    "    \n",
    "    return media_idade, idade_maxima, idade_minima, casados, n_casados, qtd_letra_d"
   ]
  },
  {
   "cell_type": "code",
   "execution_count": 114,
   "id": "0b395a67",
   "metadata": {
    "ExecuteTime": {
     "end_time": "2022-02-03T01:07:17.575289Z",
     "start_time": "2022-02-03T01:07:17.544665Z"
    }
   },
   "outputs": [
    {
     "name": "stdout",
     "output_type": "stream",
     "text": [
      "[{'nome': 'Sebastian Gonzalez', 'idade': 87, 'altura': 1.67, 'casado': True}, {'nome': 'Nayda Aguilar', 'idade': 44, 'altura': 1.76, 'casado': True}]\n"
     ]
    },
    {
     "ename": "TypeError",
     "evalue": "list indices must be integers or slices, not str",
     "output_type": "error",
     "traceback": [
      "\u001b[0;31m---------------------------------------------------------------------------\u001b[0m",
      "\u001b[0;31mTypeError\u001b[0m                                 Traceback (most recent call last)",
      "Input \u001b[0;32mIn [114]\u001b[0m, in \u001b[0;36m<module>\u001b[0;34m\u001b[0m\n\u001b[0;32m----> 1\u001b[0m t \u001b[38;5;241m=\u001b[39m \u001b[43mmetricas\u001b[49m\u001b[43m(\u001b[49m\u001b[43mresp\u001b[49m\u001b[43m)\u001b[49m\n\u001b[1;32m      2\u001b[0m t\n",
      "Input \u001b[0;32mIn [113]\u001b[0m, in \u001b[0;36mmetricas\u001b[0;34m(lista)\u001b[0m\n\u001b[1;32m     31\u001b[0m         media_idade \u001b[38;5;241m+\u001b[39m\u001b[38;5;241m=\u001b[39m usuario[\u001b[38;5;124m'\u001b[39m\u001b[38;5;124midade\u001b[39m\u001b[38;5;124m'\u001b[39m]\n\u001b[1;32m     33\u001b[0m         \u001b[38;5;28mprint\u001b[39m(lista[:\u001b[38;5;241m2\u001b[39m])\n\u001b[0;32m---> 35\u001b[0m         idade \u001b[38;5;241m=\u001b[39m \u001b[38;5;28mmax\u001b[39m(\u001b[43mlista\u001b[49m\u001b[43m[\u001b[49m\u001b[38;5;124;43m'\u001b[39;49m\u001b[38;5;124;43midade\u001b[39;49m\u001b[38;5;124;43m'\u001b[39;49m\u001b[43m]\u001b[49m)\n\u001b[1;32m     37\u001b[0m \u001b[38;5;66;03m#     media_idade = media_idade / len(lista)\u001b[39;00m\n\u001b[1;32m     38\u001b[0m     media_idade \u001b[38;5;241m/\u001b[39m\u001b[38;5;241m=\u001b[39m \u001b[38;5;28mlen\u001b[39m(lista)\n",
      "\u001b[0;31mTypeError\u001b[0m: list indices must be integers or slices, not str"
     ]
    }
   ],
   "source": [
    "t = metricas(resp)\n",
    "t"
   ]
  },
  {
   "cell_type": "code",
   "execution_count": 110,
   "id": "d2b6aad4",
   "metadata": {
    "ExecuteTime": {
     "end_time": "2022-02-03T01:06:10.214641Z",
     "start_time": "2022-02-03T01:06:10.212091Z"
    }
   },
   "outputs": [],
   "source": [
    "media, idade_max, _, casados, n_casados, qtd_letra = metricas(resp)"
   ]
  },
  {
   "cell_type": "code",
   "execution_count": 88,
   "id": "f1c0e2c4",
   "metadata": {
    "ExecuteTime": {
     "end_time": "2022-02-03T00:59:07.331859Z",
     "start_time": "2022-02-03T00:59:07.328489Z"
    }
   },
   "outputs": [
    {
     "data": {
      "text/plain": [
       "47.13157894736842"
      ]
     },
     "execution_count": 88,
     "metadata": {},
     "output_type": "execute_result"
    }
   ],
   "source": [
    "media"
   ]
  },
  {
   "cell_type": "code",
   "execution_count": 89,
   "id": "66705cbe",
   "metadata": {
    "ExecuteTime": {
     "end_time": "2022-02-03T00:59:13.822442Z",
     "start_time": "2022-02-03T00:59:13.819245Z"
    }
   },
   "outputs": [
    {
     "data": {
      "text/plain": [
       "89"
      ]
     },
     "execution_count": 89,
     "metadata": {},
     "output_type": "execute_result"
    }
   ],
   "source": [
    "idade_max"
   ]
  },
  {
   "cell_type": "code",
   "execution_count": 95,
   "id": "7a9c9292",
   "metadata": {
    "ExecuteTime": {
     "end_time": "2022-02-03T01:02:14.717958Z",
     "start_time": "2022-02-03T01:02:14.713772Z"
    }
   },
   "outputs": [
    {
     "name": "stdout",
     "output_type": "stream",
     "text": [
      "A média das idade é = 47.132\n",
      "A maior idade é = 89\n",
      "A menor idade é = 18\n",
      "A porcentagem de casados é de 65.79% para 34.21% de não casados\n",
      "Existem 3 elementos que começam a letra \"D\" na lista\n"
     ]
    }
   ],
   "source": [
    "print(f'A média das idade é = {media:.3f}')\n",
    "print(f'A maior idade é = {idade_max}')\n",
    "print(f'A menor idade é = {idade_min}')\n",
    "print(f'A porcentagem de casados é de {round(casados, 2)}% para {round(n_casados, 2)}% de não casados')\n",
    "print(f'Existem {qtd_letra} elementos que começam a letra \"D\" na lista')"
   ]
  },
  {
   "cell_type": "code",
   "execution_count": null,
   "id": "15fb6d13",
   "metadata": {},
   "outputs": [],
   "source": []
  },
  {
   "cell_type": "code",
   "execution_count": null,
   "id": "f8622d23",
   "metadata": {},
   "outputs": [],
   "source": []
  }
 ],
 "metadata": {
  "kernelspec": {
   "display_name": "Python 3.8.12 64-bit ('pa005-3.8.12': pyenv)",
   "language": "python",
   "name": "python3812jvsc74a57bd0d1aaed0d54c5633c6e9d372bf4c47f0b42d9789d909d3d6d555bb4fdc739c330"
  },
  "language_info": {
   "codemirror_mode": {
    "name": "ipython",
    "version": 3
   },
   "file_extension": ".py",
   "mimetype": "text/x-python",
   "name": "python",
   "nbconvert_exporter": "python",
   "pygments_lexer": "ipython3",
   "version": "3.8.12"
  },
  "latex_envs": {
   "LaTeX_envs_menu_present": true,
   "autoclose": false,
   "autocomplete": true,
   "bibliofile": "biblio.bib",
   "cite_by": "apalike",
   "current_citInitial": 1,
   "eqLabelWithNumbers": true,
   "eqNumInitial": 1,
   "hotkeys": {
    "equation": "Ctrl-E",
    "itemize": "Ctrl-I"
   },
   "labels_anchors": false,
   "latex_user_defs": false,
   "report_style_numbering": false,
   "user_envs_cfg": false
  }
 },
 "nbformat": 4,
 "nbformat_minor": 5
}
