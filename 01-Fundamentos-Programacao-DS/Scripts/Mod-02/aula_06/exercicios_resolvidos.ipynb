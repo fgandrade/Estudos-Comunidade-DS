{
 "cells": [
  {
   "cell_type": "markdown",
   "id": "3b31edc0",
   "metadata": {
    "heading_collapsed": true
   },
   "source": [
    "# EXERCÍCIO 1"
   ]
  },
  {
   "cell_type": "markdown",
   "id": "96a0f0d7",
   "metadata": {
    "heading_collapsed": true,
    "hidden": true
   },
   "source": [
    "## Problema"
   ]
  },
  {
   "cell_type": "markdown",
   "id": "e9e8107f",
   "metadata": {
    "ExecuteTime": {
     "end_time": "2021-09-23T01:15:31.266217Z",
     "start_time": "2021-09-23T01:15:31.260904Z"
    },
    "hidden": true
   },
   "source": [
    "A empresa em que você trabalha está com uma nova funcionalidade implementada no site, que faz com que seja gerada uma lista com dados dos clientes conforme a interação deles com a ferramenta. A lista gerada tem o seguinte padrão:\n",
    "\n",
    "```python\n",
    "[\n",
    "    ['Pedro', 32, 1.83, True],\n",
    "    .\n",
    "    . # Outros elementos da lista.\n",
    "    .\n",
    "    ['Guilherme', 23, 1.79, False],\n",
    "]\n",
    "```\n",
    "\n",
    "Os dados dessa lista representam as seguintes informações:\n",
    "* Primeiro elemento = `nome`\n",
    "* Segundo elemento = `idade`\n",
    "* Terceiro elemento = `altura`\n",
    "* Quarto elemento = `se o cliente é casado ou não`\n",
    "\n",
    "Essa nova funcionalidade tem como finalidade gerar um conjunto de novos *leads* para a equipe de vendas. Além dessa lista, a empresa também possuí um relatório com os clientes já registrados na base de dados. O padrão desse relatório é o seguinte:\n",
    "\n",
    "```python\n",
    "[\n",
    "    {'id': 1, 'nome': 'Pedro', 'idade': 32, 'altura': 1.83, 'casado': True},\n",
    "    .\n",
    "    . # Outros elementos da lista.\n",
    "    .\n",
    "    {'id': 50, 'nome': 'Guilherme', 'idade': 23, 'altura': 1.79, 'casado': False},\n",
    "]\n",
    "```\n",
    "\n",
    "Seu chefe pediu a sua ajuda para criar uma função que receba ambas as listas e que unifique ambas em uma estrutura com o seguinte padrão:\n",
    "\n",
    "```python\n",
    "[\n",
    "    {'nome': 'Pedro', 'idade': 32, 'altura': 1.83, 'casado': True},\n",
    "    .\n",
    "    . # Outros elementos da lista.\n",
    "    .\n",
    "    {'nome': 'Guilherme', 'idade': 23, 'altura': 1.79, 'casado': False},\n",
    "]\n",
    "```\n",
    "\n",
    "Sua função deverá receber dois argumentos:\n",
    "1. A lista gerada pelo site (Obrigatório)\n",
    "2. A lista gerada pelo sistema legado (Opcional)\n",
    "\n",
    "Sua função deve verificar se a lista gerada pelo sistema legado está vazia. Se estiver vazia, a função deve somente fazer as transformações necessárias para gerar a estrutura solicitada com os dados da lista gerada pelo Site. Se a lista gerada pelo sistema legado não estiver vazia, sua função deve unificar os dados de ambas as listas na estrutura solicitada.\n",
    "\n",
    "Sua função também deve verificar se há dados faltantes nos clientes de ambas as listas, e caso haja, o cliente em questão deve ser ignorado e não deve ser selecionado na lista gerada. Além disso, a sua função deve também verificar se existem registros duplicados nas listas. Caso houver, considerar somente os dados do registro da lista gerada pelo site. Para verificar se o registro é duplicado, as informações de `nome`, `altura` e `casamento` devem ser iguais em ambas as listas."
   ]
  },
  {
   "cell_type": "markdown",
   "id": "b691fd3b",
   "metadata": {
    "hidden": true
   },
   "source": [
    "Lista de clientes gerada pelo `site`:\n",
    "\n",
    "```python\n",
    "site = [\n",
    "     ['Sebastian Gonzalez', 87, 1.67, True ],\n",
    "     ['Chase Mclean',       20, 1.64, True ],\n",
    "     ['Moses Fernandez',    27, 1.67, True ],\n",
    "     ['Skyler Levy',        1.63, False],\n",
    "     ['Patrick Kemp',       72, 1.74, True ],\n",
    "     ['Hadassah Lucas',     33, 1.62, True ],\n",
    "     ['Erasmus Fuller',     23, 1.99, False],\n",
    "     ['Lamar Mccall',       51, 1.84, True ],\n",
    "     ['Nayda Aguilar',      44, 1.76, True ],\n",
    "     ['Lucy Heath',         85, 1.84 ],\n",
    "     ['Hyatt Morris',       52, 1.56, False],\n",
    "     ['Devin Patrick',      70, 1.82, False],\n",
    "     ['Kaseem Valenzuela',  63, 1.91, False],\n",
    "     ['Kenyon Jennings',    81, 1.88, True ],\n",
    "     ['Vincent Hahn',       20, 1.96, False],\n",
    "     ['Armando Reynolds',   52, 1.77, False],\n",
    "     ['Harriet Herring',    85, 1.76, True ],\n",
    "     ['Mikayla Dodson',     73, 1.60, False],\n",
    "     ['Solomon Welch',      25, 1.91, True ],\n",
    "     ['Randall Juarez',     42, 1.57, False],\n",
    "     ['Hilel Dunlap',       89, 1.95, True ],\n",
    "     ['Camilla Harvey',     19, 1.62, True ],\n",
    "     ['Harding Cameron',    24, 1.90, False],\n",
    "     ['Cullen Mejia',       28, 1.58],\n",
    "     ['Isaiah Black',       18, 1.68, False]\n",
    "]\n",
    "```"
   ]
  },
  {
   "cell_type": "markdown",
   "id": "03593a62",
   "metadata": {
    "hidden": true
   },
   "source": [
    "Lista de clientes gerada pelo `sistema legado`:\n",
    "```python\n",
    "legado = [\n",
    "     {'id': 21, 'name': 'Nayda Aguilar',      'age': 44, 'height': 1.76, 'married': True },\n",
    "     {'id': 22, 'name': 'Tara Hyde',          'age': 48, 'height': 1.75, 'married': True },\n",
    "     {'id': 23, 'name': 'Hyatt Morris',       'height': 1.56, 'married': False},\n",
    "     {'id': 24, 'name': 'Olivia Cameron',     'age': 34, 'height': 1.86, 'married': True },\n",
    "     {'id': 26, 'name': 'Ulysses Becker',     'age': 88, 'height': 1.54, 'married': True },\n",
    "     {'id': 33, 'name': 'Venus Graves',       'age': 43, 'height': 1.56, 'married': False},\n",
    "     {'id': 34, 'name': 'Hadassah Lucas',     'age': 33, 'height': 1.62, 'married': True },\n",
    "     {'id': 35, 'name': 'Kaseem Valenzuela',  'age': 63, 'height': 1.91, 'married': False},\n",
    "     {'id': 41, 'name': 'Adam Terrell',       'age': 27, 'height': 1.57, 'married': True },\n",
    "     {'id': 43, 'name': 'Jordan Young',       'age': 39, 'height': 1.52, 'married': True },\n",
    "     {'id': 46, 'name': 'Ryan Mccarthy',      'age': 26, 'married': True },\n",
    "     {'id': 48, 'name': 'Gisela Odonnell',    'age': 76, 'height': 1.54, 'married': False},\n",
    "     {'id': 49, 'name': 'Randall Juarez',     'age': 42, 'height': 1.57, 'married': False},\n",
    "     {'id': 56, 'name': 'Desirae Whitfield',  'age': 42, 'height': 1.70, 'married': True },\n",
    "     {'id': 57, 'name': 'Maile Mckee',        'age': 32, 'height': 1.70, 'married': True },\n",
    "     {'id': 58, 'name': 'Hilel Dunlap',       'age': 89, 'height': 1.95, 'married': True },\n",
    "     {'id': 63, 'name': 'Armando Reynolds',   'age': 52, 'height': 1.77, 'married': False},\n",
    "     {'id': 65, 'name': 'Dylan Mason',        'age': 29, 'height': 1.77, 'married': True },\n",
    "     {'id': 66, 'name': 'Colin Decker',       'age': 27, 'height': 1.89, 'married': True },\n",
    "     {'id': 67, 'name': 'Yeo Wilkins',        'age': 31, 'height': 1.81, 'married': False},\n",
    "     {'id': 68, 'name': 'Candice Charles',    'age': 18, 'height': 1.84, 'married': True },\n",
    "     {'id': 69, 'name': 'Erasmus Fuller',     'age': 23, 'height': 1.99, 'married': False},\n",
    "     {'id': 78, 'name': 'Evelyn Vance',       'age': 81, 'height': 1.92, 'married': True },\n",
    "     {'id': 79, 'name': 'Sebastian Gonzalez', 'age': 87, 'height': 1.67 },\n",
    "     {'id': 80, 'name': 'Chase Mclean',       'age': 21, 'height': 1.64, 'married': True }\n",
    "]\n",
    "\n",
    "```"
   ]
  },
  {
   "cell_type": "markdown",
   "id": "719448b9",
   "metadata": {
    "hidden": true
   },
   "source": [
    "## Resolução"
   ]
  },
  {
   "cell_type": "code",
   "execution_count": 7,
   "id": "362e182c",
   "metadata": {
    "ExecuteTime": {
     "end_time": "2022-01-29T21:43:47.086874Z",
     "start_time": "2022-01-29T21:43:47.078716Z"
    },
    "code_folding": [],
    "hidden": true
   },
   "outputs": [],
   "source": [
    "# Criando a lista que terá as informações do site\n",
    "dados_site = [\n",
    "     ['Sebastian Gonzalez', 87, 1.67, True ],\n",
    "     ['Chase Mclean',       20, 1.64, True ],\n",
    "     ['Moses Fernandez',    27, 1.67, True ],\n",
    "     ['Skyler Levy',        1.63, False],\n",
    "     ['Patrick Kemp',       72, 1.74, True ],\n",
    "     ['Hadassah Lucas',     33, 1.62, True ],\n",
    "     ['Erasmus Fuller',     23, 1.99, False],\n",
    "     ['Lamar Mccall',       51, 1.84, True ],\n",
    "     ['Nayda Aguilar',      44, 1.76, True ],\n",
    "#      ['Lucy Heath',         85, 1.84, True ],\n",
    "     ['Lucy Heath',         85, 1.84 ],\n",
    "     ['Hyatt Morris',       52, 1.56, False],\n",
    "     ['Devin Patrick',      70, 1.82, False],\n",
    "     ['Kaseem Valenzuela',  63, 1.91, False],\n",
    "     ['Kenyon Jennings',    81, 1.88, True ],\n",
    "     ['Vincent Hahn',       20, 1.96, False],\n",
    "     ['Armando Reynolds',   52, 1.77, False],\n",
    "     ['Harriet Herring',    85, 1.76, True ],\n",
    "     ['Mikayla Dodson',     73, 1.60, False],\n",
    "     ['Solomon Welch',      25, 1.91, True ],\n",
    "     ['Randall Juarez',     42, 1.57, False],\n",
    "     ['Hilel Dunlap',       89, 1.95, True ],\n",
    "     ['Camilla Harvey',     19, 1.62, True ],\n",
    "     ['Harding Cameron',    24, 1.90, False],\n",
    "     ['Cullen Mejia',       28, 1.58],\n",
    "     ['Isaiah Black',       18, 1.68, False],\n",
    "]"
   ]
  },
  {
   "cell_type": "code",
   "execution_count": 1,
   "id": "29ad894c",
   "metadata": {
    "ExecuteTime": {
     "end_time": "2022-02-23T11:50:59.677614Z",
     "start_time": "2022-02-23T11:50:59.664744Z"
    },
    "code_folding": [],
    "hidden": true
   },
   "outputs": [],
   "source": [
    "# Criando a lista que terá as informações do sistema legado\n",
    "dados_legado = [\n",
    "     {'id': 21, 'name': 'Nayda Aguilar',      'age': 44, 'height': 1.76, 'married': True },\n",
    "     {'id': 22, 'name': 'Tara Hyde',          'age': 48, 'height': 1.75, 'married': True },\n",
    "     {'id': 23, 'name': 'Hyatt Morris',       'height': 1.56, 'married': False},\n",
    "     {'id': 24, 'name': 'Olivia Cameron',     'age': 34, 'height': 1.86, 'married': True },\n",
    "     {'id': 26, 'name': 'Ulysses Becker',     'age': 88, 'height': 1.54, 'married': True },\n",
    "     {'id': 33, 'name': 'Venus Graves',       'age': 43, 'height': 1.56, 'married': False},\n",
    "     {'id': 34, 'name': 'Hadassah Lucas',     'age': 33, 'height': 1.62, 'married': True },\n",
    "     {'id': 35, 'name': 'Kaseem Valenzuela',  'age': 63, 'height': 1.91, 'married': False},\n",
    "     {'id': 41, 'name': 'Adam Terrell',       'age': 27, 'height': 1.57, 'married': True },\n",
    "     {'id': 43, 'name': 'Jordan Young',       'age': 39, 'height': 1.52, 'married': True },\n",
    "     {'id': 46, 'name': 'Ryan Mccarthy',      'age': 26, 'married': True },\n",
    "     {'id': 48, 'name': 'Gisela Odonnell',    'age': 76, 'height': 1.54, 'married': False},\n",
    "     {'id': 49, 'name': 'Randall Juarez',     'age': 42, 'height': 1.57, 'married': False},\n",
    "     {'id': 56, 'name': 'Desirae Whitfield',  'age': 42, 'height': 1.70, 'married': True },\n",
    "     {'id': 57, 'name': 'Maile Mckee',        'age': 32, 'height': 1.70, 'married': True },\n",
    "     {'id': 58, 'name': 'Hilel Dunlap',       'age': 89, 'height': 1.95, 'married': True },\n",
    "     {'id': 63, 'name': 'Armando Reynolds',   'age': 52, 'height': 1.77, 'married': False},\n",
    "     {'id': 65, 'name': 'Dylan Mason',        'age': 29, 'height': 1.77, 'married': True },\n",
    "     {'id': 66, 'name': 'Colin Decker',       'age': 27, 'height': 1.89, 'married': True },\n",
    "     {'id': 67, 'name': 'Yeo Wilkins',        'age': 31, 'height': 1.81, 'married': False},\n",
    "     {'id': 68, 'name': 'Candice Charles',    'age': 18, 'height': 1.84, 'married': True },\n",
    "     {'id': 69, 'name': 'Erasmus Fuller',     'age': 23, 'height': 1.99, 'married': False},\n",
    "     {'id': 78, 'name': 'Evelyn Vance',       'age': 81, 'height': 1.92, 'married': True },\n",
    "     {'id': 79, 'name': 'Sebastian Gonzalez', 'age': 87, 'height': 1.67 },\n",
    "     {'id': 80, 'name': 'Chase Mclean',       'age': 21, 'height': 1.64, 'married': True },\n",
    "]"
   ]
  },
  {
   "cell_type": "code",
   "execution_count": 9,
   "id": "2c214eca",
   "metadata": {
    "ExecuteTime": {
     "end_time": "2022-01-29T21:43:47.359752Z",
     "start_time": "2022-01-29T21:43:47.356076Z"
    },
    "hidden": true
   },
   "outputs": [],
   "source": [
    "# Função responsável por gerar o dicionário a partir\n",
    "# da lista de dados do site\n",
    "def generate_dict(site_items):\n",
    "    \n",
    "    list_r = [] \n",
    "    \n",
    "    for item in site_items:\n",
    "        \n",
    "        if not(len(item) < 4):\n",
    "            list_r.append({'nome': item[0], 'idade': item[1], 'altura': item[2], 'casado': item[3]})\n",
    "            \n",
    "    return list_r"
   ]
  },
  {
   "cell_type": "code",
   "execution_count": 10,
   "id": "a33fee34",
   "metadata": {
    "ExecuteTime": {
     "end_time": "2022-01-29T21:43:47.812790Z",
     "start_time": "2022-01-29T21:43:47.807764Z"
    },
    "hidden": true
   },
   "outputs": [],
   "source": [
    "# Função responsável por receber os dados legados e fazer a\n",
    "# limpeza deles\n",
    "def clean_legacy(legacy):\n",
    "    \n",
    "    list_r = []\n",
    "    \n",
    "    for item in legacy:\n",
    "        i = {}\n",
    "        \n",
    "        if not(len(item) < 5):\n",
    "            i['nome']   = item['name']\n",
    "            i['idade']  = item['age']\n",
    "            i['altura'] = item['height']\n",
    "            i['casado'] = item['married']\n",
    "            list_r.append(i)\n",
    "\n",
    "    return list_r"
   ]
  },
  {
   "cell_type": "code",
   "execution_count": 19,
   "id": "99275341",
   "metadata": {
    "ExecuteTime": {
     "end_time": "2022-01-29T21:44:29.612905Z",
     "start_time": "2022-01-29T21:44:29.608661Z"
    },
    "hidden": true
   },
   "outputs": [],
   "source": [
    "# Função responsável por verificar quais elementos\n",
    "# Já estão presentes ou não na lista resposta.\n",
    "# Caso o elemento não esteja presente, ele será\n",
    "# inserido\n",
    "def generate_merged_list(site_list, legacy_list):\n",
    "    \n",
    "    merged = []\n",
    "    \n",
    "    for site_element, legacy_item in zip(site_list, legacy_list):\n",
    "        if not(site_element in merged):\n",
    "            merged.append(site_element)\n",
    "            \n",
    "        if not(legacy_item in merged):\n",
    "            merged.append(legacy_item)\n",
    "            \n",
    "            \n",
    "    return merged"
   ]
  },
  {
   "cell_type": "code",
   "execution_count": 27,
   "id": "3d896527",
   "metadata": {
    "ExecuteTime": {
     "end_time": "2022-01-29T21:47:09.217441Z",
     "start_time": "2022-01-29T21:47:09.211241Z"
    },
    "hidden": true
   },
   "outputs": [],
   "source": [
    "# Função responsável por fazer a união entre as listas\n",
    "# de dados do site e de dados legados\n",
    "def merge_lists(site_list, legacy_list):\n",
    "    merged = []\n",
    "    \n",
    "    # Limpa a lista gerada através do site\n",
    "    cleaned_site_list = generate_dict(site_list)\n",
    "    \n",
    "    # Limpa a lista gerada pelo sistema legado\n",
    "    cleaned_legacy_list = clean_legacy(legacy_list)\n",
    "    \n",
    "    # Define qual lista possuí mais membros\n",
    "    if len(cleaned_site_list) > len(cleaned_legacy_list):\n",
    "        # Caso a lista gerada pelo site possua mais membros\n",
    "        # Será feito a união das lista para então inserir o\n",
    "        # último elemento da lista gerada pelo site na lista resposta     \n",
    "        merged = generate_merged_list(cleaned_site_list, cleaned_legacy_list)\n",
    "        \n",
    "        merged.append(cleaned_site_list[-1])\n",
    "        \n",
    "    elif len(cleaned_site_list) < len(cleaned_legacy_list):\n",
    "        # Caso a lista gerada pelo sistema legado possua mais \n",
    "        # membros será feito a união das lista para então inserir o\n",
    "        # último elemento da lista gerada pelo sistema legado na lista resposta\n",
    "        merged = generate_merged_list(cleaned_site_list, cleaned_legacy_list)\n",
    "        \n",
    "        merged.append(cleaned_legacy_list[-1])\n",
    "    else:\n",
    "        # Caso ambas as listas possuam o mesmo tamanho, será feito somente a união das listas\n",
    "        merged = generate_merged_list(cleaned_site_list, cleaned_legacy_list)\n",
    "    \n",
    "    return merged"
   ]
  },
  {
   "cell_type": "code",
   "execution_count": 21,
   "id": "5d95f9c4",
   "metadata": {
    "ExecuteTime": {
     "end_time": "2022-01-29T21:44:29.894557Z",
     "start_time": "2022-01-29T21:44:29.891867Z"
    },
    "hidden": true
   },
   "outputs": [],
   "source": [
    "# Função responsável por criar a lista de leads\n",
    "def create_leads(site, legado = None):\n",
    "    if not(legado):\n",
    "        return generate_dict(site)\n",
    "\n",
    "    return merge_lists(site, legado)"
   ]
  },
  {
   "cell_type": "code",
   "execution_count": 22,
   "id": "d82115b7",
   "metadata": {
    "ExecuteTime": {
     "end_time": "2022-01-29T21:44:30.029417Z",
     "start_time": "2022-01-29T21:44:30.019760Z"
    },
    "hidden": true
   },
   "outputs": [
    {
     "data": {
      "text/plain": [
       "[{'nome': 'Sebastian Gonzalez', 'idade': 87, 'altura': 1.67, 'casado': True},\n",
       " {'nome': 'Nayda Aguilar', 'idade': 44, 'altura': 1.76, 'casado': True},\n",
       " {'nome': 'Chase Mclean', 'idade': 20, 'altura': 1.64, 'casado': True},\n",
       " {'nome': 'Tara Hyde', 'idade': 48, 'altura': 1.75, 'casado': True},\n",
       " {'nome': 'Moses Fernandez', 'idade': 27, 'altura': 1.67, 'casado': True}]"
      ]
     },
     "execution_count": 22,
     "metadata": {},
     "output_type": "execute_result"
    }
   ],
   "source": [
    "leads = create_leads(dados_site, dados_legado)\n",
    "# leads = create_leads(dados_site)\n",
    "leads[:5]"
   ]
  },
  {
   "cell_type": "code",
   "execution_count": 23,
   "id": "e1d8928d",
   "metadata": {
    "ExecuteTime": {
     "end_time": "2022-01-29T21:44:32.157429Z",
     "start_time": "2022-01-29T21:44:32.148127Z"
    },
    "code_folding": [],
    "hidden": true
   },
   "outputs": [],
   "source": [
    "resp_site = [\n",
    "     {'nome': 'Sebastian Gonzalez', 'idade': 87, 'altura': 1.67, 'casado': True },\n",
    "     {'nome': 'Chase Mclean',       'idade': 20, 'altura': 1.64, 'casado': True },\n",
    "     {'nome': 'Moses Fernandez',    'idade': 27, 'altura': 1.67, 'casado': True },\n",
    "     {'nome': 'Patrick Kemp',       'idade': 72, 'altura': 1.74, 'casado': True },\n",
    "     {'nome': 'Hadassah Lucas',     'idade': 33, 'altura': 1.62, 'casado': True },\n",
    "     {'nome': 'Erasmus Fuller',     'idade': 23, 'altura': 1.99, 'casado': False},\n",
    "     {'nome': 'Lamar Mccall',       'idade': 51, 'altura': 1.84, 'casado': True },\n",
    "     {'nome': 'Nayda Aguilar',      'idade': 44, 'altura': 1.76, 'casado': True },\n",
    "     {'nome': 'Hyatt Morris',       'idade': 52, 'altura': 1.56, 'casado': False},\n",
    "     {'nome': 'Devin Patrick',      'idade': 70, 'altura': 1.82, 'casado': False},\n",
    "     {'nome': 'Kaseem Valenzuela',  'idade': 63, 'altura': 1.91, 'casado': False},\n",
    "     {'nome': 'Kenyon Jennings',    'idade': 81, 'altura': 1.88, 'casado': True },\n",
    "     {'nome': 'Vincent Hahn',       'idade': 20, 'altura': 1.96, 'casado': False},\n",
    "     {'nome': 'Armando Reynolds',   'idade': 52, 'altura': 1.77, 'casado': False},\n",
    "     {'nome': 'Harriet Herring',    'idade': 85, 'altura': 1.76, 'casado': True },\n",
    "     {'nome': 'Mikayla Dodson',     'idade': 73, 'altura': 1.60, 'casado': False},\n",
    "     {'nome': 'Solomon Welch',      'idade': 25, 'altura': 1.91, 'casado': True },\n",
    "     {'nome': 'Randall Juarez',     'idade': 42, 'altura': 1.57, 'casado': False},\n",
    "     {'nome': 'Hilel Dunlap',       'idade': 89, 'altura': 1.95, 'casado': True },\n",
    "     {'nome': 'Camilla Harvey',     'idade': 19, 'altura': 1.62, 'casado': True },\n",
    "     {'nome': 'Harding Cameron',    'idade': 24, 'altura': 1.90, 'casado': False},\n",
    "     {'nome': 'Isaiah Black',       'idade': 18, 'altura': 1.68, 'casado': False},\n",
    "]"
   ]
  },
  {
   "cell_type": "code",
   "execution_count": 24,
   "id": "915baacf",
   "metadata": {
    "ExecuteTime": {
     "end_time": "2022-01-29T21:44:32.327789Z",
     "start_time": "2022-01-29T21:44:32.317532Z"
    },
    "code_folding": [],
    "hidden": true,
    "run_control": {
     "marked": true
    }
   },
   "outputs": [],
   "source": [
    "resp_legado = [\n",
    "     {'nome': 'Nayda Aguilar',      'idade': 44, 'altura': 1.76, 'casado': True },\n",
    "     {'nome': 'Tara Hyde',          'idade': 48, 'altura': 1.75, 'casado': True },\n",
    "     {'nome': 'Olivia Cameron',     'idade': 34, 'altura': 1.86, 'casado': True },\n",
    "     {'nome': 'Ulysses Becker',     'idade': 88, 'altura': 1.54, 'casado': True },\n",
    "     {'nome': 'Venus Graves',       'idade': 43, 'altura': 1.56, 'casado': False},\n",
    "     {'nome': 'Hadassah Lucas',     'idade': 33, 'altura': 1.62, 'casado': True },\n",
    "     {'nome': 'Kaseem Valenzuela',  'idade': 63, 'altura': 1.91, 'casado': False},\n",
    "     {'nome': 'Adam Terrell',       'idade': 27, 'altura': 1.57, 'casado': True },\n",
    "     {'nome': 'Jordan Young',       'idade': 39, 'altura': 1.52, 'casado': True },\n",
    "     {'nome': 'Gisela Odonnell',    'idade': 76, 'altura': 1.54, 'casado': False},\n",
    "     {'nome': 'Randall Juarez',     'idade': 42, 'altura': 1.57, 'casado': False},\n",
    "     {'nome': 'Desirae Whitfield',  'idade': 42, 'altura': 1.70, 'casado': True },\n",
    "     {'nome': 'Maile Mckee',        'idade': 32, 'altura': 1.70, 'casado': True },\n",
    "     {'nome': 'Hilel Dunlap',       'idade': 89, 'altura': 1.95, 'casado': True },\n",
    "     {'nome': 'Armando Reynolds',   'idade': 52, 'altura': 1.77, 'casado': False},\n",
    "     {'nome': 'Dylan Mason',        'idade': 29, 'altura': 1.77, 'casado': True },\n",
    "     {'nome': 'Colin Decker',       'idade': 27, 'altura': 1.89, 'casado': True },\n",
    "     {'nome': 'Yeo Wilkins',        'idade': 31, 'altura': 1.81, 'casado': False},\n",
    "     {'nome': 'Candice Charles',    'idade': 18, 'altura': 1.84, 'casado': True },\n",
    "     {'nome': 'Erasmus Fuller',     'idade': 23, 'altura': 1.99, 'casado': False},\n",
    "     {'nome': 'Evelyn Vance',       'idade': 81, 'altura': 1.92, 'casado': True },\n",
    "     {'nome': 'Chase Mclean',       'idade': 21, 'altura': 1.64, 'casado': True },\n",
    "]"
   ]
  },
  {
   "cell_type": "code",
   "execution_count": 25,
   "id": "e1687577",
   "metadata": {
    "ExecuteTime": {
     "end_time": "2022-01-29T21:44:32.560281Z",
     "start_time": "2022-01-29T21:44:32.548365Z"
    },
    "code_folding": [],
    "hidden": true,
    "scrolled": true
   },
   "outputs": [],
   "source": [
    "resp_merg = [\n",
    "     {'nome': 'Sebastian Gonzalez', 'idade': 87, 'altura': 1.67, 'casado': True },\n",
    "     {'nome': 'Nayda Aguilar',      'idade': 44, 'altura': 1.76, 'casado': True },\n",
    "     {'nome': 'Chase Mclean',       'idade': 20, 'altura': 1.64, 'casado': True },\n",
    "     {'nome': 'Tara Hyde',          'idade': 48, 'altura': 1.75, 'casado': True },\n",
    "     {'nome': 'Moses Fernandez',    'idade': 27, 'altura': 1.67, 'casado': True },\n",
    "     {'nome': 'Olivia Cameron',     'idade': 34, 'altura': 1.86, 'casado': True },\n",
    "     {'nome': 'Patrick Kemp',       'idade': 72, 'altura': 1.74, 'casado': True },\n",
    "     {'nome': 'Ulysses Becker',     'idade': 88, 'altura': 1.54, 'casado': True },\n",
    "     {'nome': 'Hadassah Lucas',     'idade': 33, 'altura': 1.62, 'casado': True },\n",
    "     {'nome': 'Venus Graves',       'idade': 43, 'altura': 1.56, 'casado': False},\n",
    "     {'nome': 'Erasmus Fuller',     'idade': 23, 'altura': 1.99, 'casado': False},\n",
    "     {'nome': 'Lamar Mccall',       'idade': 51, 'altura': 1.84, 'casado': True },\n",
    "     {'nome': 'Kaseem Valenzuela',  'idade': 63, 'altura': 1.91, 'casado': False},\n",
    "     {'nome': 'Adam Terrell',       'idade': 27, 'altura': 1.57, 'casado': True },\n",
    "     {'nome': 'Hyatt Morris',       'idade': 52, 'altura': 1.56, 'casado': False},\n",
    "     {'nome': 'Jordan Young',       'idade': 39, 'altura': 1.52, 'casado': True },\n",
    "     {'nome': 'Devin Patrick',      'idade': 70, 'altura': 1.82, 'casado': False},\n",
    "     {'nome': 'Gisela Odonnell',    'idade': 76, 'altura': 1.54, 'casado': False},\n",
    "     {'nome': 'Randall Juarez',     'idade': 42, 'altura': 1.57, 'casado': False},\n",
    "     {'nome': 'Kenyon Jennings',    'idade': 81, 'altura': 1.88, 'casado': True },\n",
    "     {'nome': 'Desirae Whitfield',  'idade': 42, 'altura': 1.70, 'casado': True },\n",
    "     {'nome': 'Vincent Hahn',       'idade': 20, 'altura': 1.96, 'casado': False},\n",
    "     {'nome': 'Maile Mckee',        'idade': 32, 'altura': 1.70, 'casado': True },\n",
    "     {'nome': 'Armando Reynolds',   'idade': 52, 'altura': 1.77, 'casado': False},\n",
    "     {'nome': 'Hilel Dunlap',       'idade': 89, 'altura': 1.95, 'casado': True },\n",
    "     {'nome': 'Harriet Herring',    'idade': 85, 'altura': 1.76, 'casado': True },\n",
    "     {'nome': 'Mikayla Dodson',     'idade': 73, 'altura': 1.60, 'casado': False},\n",
    "     {'nome': 'Dylan Mason',        'idade': 29, 'altura': 1.77, 'casado': True },\n",
    "     {'nome': 'Solomon Welch',      'idade': 25, 'altura': 1.91, 'casado': True },\n",
    "     {'nome': 'Colin Decker',       'idade': 27, 'altura': 1.89, 'casado': True },\n",
    "     {'nome': 'Yeo Wilkins',        'idade': 31, 'altura': 1.81, 'casado': False},\n",
    "     {'nome': 'Candice Charles',    'idade': 18, 'altura': 1.84, 'casado': True },\n",
    "     {'nome': 'Camilla Harvey',     'idade': 19, 'altura': 1.62, 'casado': True },\n",
    "     {'nome': 'Harding Cameron',    'idade': 24, 'altura': 1.90, 'casado': False},\n",
    "     {'nome': 'Evelyn Vance',       'idade': 81, 'altura': 1.92, 'casado': True },\n",
    "     {'nome': 'Isaiah Black',       'idade': 18, 'altura': 1.68, 'casado': False},\n",
    "     {'nome': 'Chase Mclean',       'idade': 21, 'altura': 1.64, 'casado': True },\n",
    "]"
   ]
  },
  {
   "cell_type": "code",
   "execution_count": 26,
   "id": "ae6935e7",
   "metadata": {
    "ExecuteTime": {
     "end_time": "2022-01-29T21:44:32.928034Z",
     "start_time": "2022-01-29T21:44:32.925480Z"
    },
    "hidden": true
   },
   "outputs": [],
   "source": [
    "# Para esse assert funcionar, o elemento\n",
    "# {'nome': 'Lucy Heath', 'idade': 85, 'altura': 1.84, 'casado': True}\n",
    "# que pertence à lista gerada pelo site deve estar\n",
    "# com um dado faltante, assim ela será removida da \n",
    "# lista final\n",
    "assert leads == resp_merg"
   ]
  },
  {
   "cell_type": "markdown",
   "id": "fa4cf33b",
   "metadata": {},
   "source": [
    "# EXERCÍCIO 2"
   ]
  },
  {
   "cell_type": "markdown",
   "id": "331094a7",
   "metadata": {},
   "source": [
    "## Problema"
   ]
  },
  {
   "cell_type": "markdown",
   "id": "ef44ea29",
   "metadata": {
    "ExecuteTime": {
     "end_time": "2021-10-29T15:41:57.821363Z",
     "start_time": "2021-10-29T15:41:57.817790Z"
    }
   },
   "source": [
    "Crie uma função chamada `metricas` que receba a lista gerada no exercício passado e cálcule as seguintes métricas:\n",
    "\n",
    "* Média das idades\n",
    "* A maior idade\n",
    "* A menor idade\n",
    "* Percentagem dos não casado e dos casado\n",
    "* Quantos elementos da lista possuem o nome que inicia com a letra 'D'\n",
    "\n",
    "A lista que será utilizada nessa função deve conter ao menos 10 elementos. Caso ela possua menos de 10 elementos, imprimir uma mensagem utilizando a função `print()` dizendo \"Quantidade de elementos insuficientes\".\n",
    "\n",
    "As respostas devem seguir o seguinte padrão:\n",
    "\n",
    "```\n",
    "A média das idade é = 32\n",
    "A maior idade é = 80\n",
    "A menor idade é = 15\n",
    "A porcentagem de casados é de 45% para 55% de não casado\n",
    "Existem 3 elementos que começam a letra 'D' na lista\n",
    "```"
   ]
  },
  {
   "cell_type": "markdown",
   "id": "305e0874",
   "metadata": {
    "ExecuteTime": {
     "end_time": "2021-10-29T15:41:57.950042Z",
     "start_time": "2021-10-29T15:41:57.946603Z"
    }
   },
   "source": [
    "## Resolução"
   ]
  },
  {
   "cell_type": "code",
   "execution_count": 209,
   "id": "dff8fb80",
   "metadata": {
    "ExecuteTime": {
     "end_time": "2022-01-17T14:42:09.323931Z",
     "start_time": "2022-01-17T14:42:09.317303Z"
    }
   },
   "outputs": [],
   "source": [
    "def metricas(leads):\n",
    "    mean = 0\n",
    "    aux = 0\n",
    "    \n",
    "    min_age = 900\n",
    "    max_age = 0\n",
    "    \n",
    "    p_casados = 0\n",
    "    p_n_casados = 0\n",
    "    \n",
    "    qtd_letra_d = 0\n",
    "    \n",
    "    for lead in leads:\n",
    "        if(lead['casado']):\n",
    "            p_casados += 1\n",
    "        else:\n",
    "            p_n_casados += 1\n",
    "            \n",
    "        if min_age < lead['idade']:\n",
    "            min_age = lead['idade']\n",
    "        \n",
    "        if max_age > lead['idade']:\n",
    "            max_age = lead['idade']\n",
    "            \n",
    "        if lead['nome'].startswith('D'):\n",
    "            qtd_letra_d += 1\n",
    "            \n",
    "        aux += lead['idade']\n",
    "            \n",
    "    \n",
    "    mean = aux / len(leads)\n",
    "    \n",
    "    d_casados = (p_casados / len(leads)) * 100\n",
    "    \n",
    "    d_n_casados = (p_n_casados / len(leads)) * 100\n",
    "    \n",
    "    return mean, max_age, min_age, d_casados, d_n_casados, qtd_letra_d"
   ]
  },
  {
   "cell_type": "code",
   "execution_count": 213,
   "id": "04e552f8",
   "metadata": {
    "ExecuteTime": {
     "end_time": "2022-01-17T14:57:12.816079Z",
     "start_time": "2022-01-17T14:57:12.810741Z"
    }
   },
   "outputs": [
    {
     "name": "stdout",
     "output_type": "stream",
     "text": [
      "A média das idade é = 46.108108108108105\n",
      "A maior idade é = 0\n",
      "A menor idade é = 900\n",
      "A porcentagem de casados é de 65% para 35% de não casados\n",
      "Existem 3 elementos que começam a letra \"D\" na lista\n"
     ]
    }
   ],
   "source": [
    "media, max_idade, min_idade, casados, n_casados, letra = metricas(leads)\n",
    "print(f'A média das idade é = {media}')\n",
    "print(f'A maior idade é = {max_idade}')\n",
    "print(f'A menor idade é = {min_idade}')\n",
    "print(f'A porcentagem de casados é de {round(casados)}% para {round(n_casados)}% de não casados')\n",
    "print(f'Existem {letra} elementos que começam a letra \"D\" na lista')"
   ]
  }
 ],
 "metadata": {
  "kernelspec": {
   "display_name": "Python 3 (ipykernel)",
   "language": "python",
   "name": "python3"
  },
  "language_info": {
   "codemirror_mode": {
    "name": "ipython",
    "version": 3
   },
   "file_extension": ".py",
   "mimetype": "text/x-python",
   "name": "python",
   "nbconvert_exporter": "python",
   "pygments_lexer": "ipython3",
   "version": "3.9.7"
  },
  "latex_envs": {
   "LaTeX_envs_menu_present": true,
   "autoclose": false,
   "autocomplete": true,
   "bibliofile": "biblio.bib",
   "cite_by": "apalike",
   "current_citInitial": 1,
   "eqLabelWithNumbers": true,
   "eqNumInitial": 1,
   "hotkeys": {
    "equation": "Ctrl-E",
    "itemize": "Ctrl-I"
   },
   "labels_anchors": false,
   "latex_user_defs": false,
   "report_style_numbering": false,
   "user_envs_cfg": false
  },
  "toc": {
   "base_numbering": 1,
   "nav_menu": {},
   "number_sections": true,
   "sideBar": true,
   "skip_h1_title": false,
   "title_cell": "Table of Contents",
   "title_sidebar": "Contents",
   "toc_cell": false,
   "toc_position": {
    "height": "calc(100% - 180px)",
    "left": "10px",
    "top": "150px",
    "width": "165px"
   },
   "toc_section_display": true,
   "toc_window_display": true
  },
  "varInspector": {
   "cols": {
    "lenName": 16,
    "lenType": 16,
    "lenVar": 40
   },
   "kernels_config": {
    "python": {
     "delete_cmd_postfix": "",
     "delete_cmd_prefix": "del ",
     "library": "var_list.py",
     "varRefreshCmd": "print(var_dic_list())"
    },
    "r": {
     "delete_cmd_postfix": ") ",
     "delete_cmd_prefix": "rm(",
     "library": "var_list.r",
     "varRefreshCmd": "cat(var_dic_list()) "
    }
   },
   "types_to_exclude": [
    "module",
    "function",
    "builtin_function_or_method",
    "instance",
    "_Feature"
   ],
   "window_display": false
  }
 },
 "nbformat": 4,
 "nbformat_minor": 5
}
