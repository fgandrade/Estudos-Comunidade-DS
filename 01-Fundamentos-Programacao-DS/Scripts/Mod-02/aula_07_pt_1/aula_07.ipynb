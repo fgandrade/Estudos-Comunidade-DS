{
 "cells": [
  {
   "cell_type": "markdown",
   "id": "f66f5ab2",
   "metadata": {
    "heading_collapsed": true
   },
   "source": [
    "# COMANDOS AUXILIARES"
   ]
  },
  {
   "cell_type": "markdown",
   "id": "6a0edcdf",
   "metadata": {
    "heading_collapsed": true,
    "hidden": true
   },
   "source": [
    "## Inserção de imagens"
   ]
  },
  {
   "cell_type": "code",
   "execution_count": 132,
   "id": "fa4c2e60",
   "metadata": {
    "ExecuteTime": {
     "end_time": "2021-11-01T20:53:47.091339Z",
     "start_time": "2021-11-01T20:53:47.084643Z"
    },
    "hidden": true
   },
   "outputs": [],
   "source": [
    "from IPython.display import Image"
   ]
  },
  {
   "cell_type": "markdown",
   "id": "01f00a92",
   "metadata": {
    "heading_collapsed": true
   },
   "source": [
    "# ESTRUTURAS ITERÁVEIS"
   ]
  },
  {
   "cell_type": "markdown",
   "id": "dfa4c240",
   "metadata": {
    "hidden": true
   },
   "source": [
    "Como vimos nas aulas anteriores, o Python possuí duas grandes estruturas de repetição: `for` e `while`. Dessa forma, todo o bloco de código que fica dentro dessas estruturas de repetiçao é executado e repetido várias vezes, até que uma determinada condção seja satisfeita.\n",
    "\n",
    "Porém, elas dessas estruturas de repetição, no Python existem estruturas que nos permitem iterar sobre elas. Nós chamamos essas estruturas de **Estruturas Iteráveis**. Um exemplo de uma estrutura iterável é a **lista**. Além das **listas** temos também **tuplas**, **dicionários**, **sets** e até mesmo **strings**.\n",
    "\n",
    "Temos também funções que geram estruturas iteráveis, como a função `range()`. De todas as formas, uma **Estrutura Iterável** é qualquer estrutura em Python que podemos iterar sobre elas, seja utilizando `for` ou `while`.\n",
    "\n",
    "Para exemplificar o que acabamos de ver, e revisar o que já vimos, vamos exemplificar a iteração de cada uma dessas estruturas:"
   ]
  },
  {
   "cell_type": "markdown",
   "id": "4667d35b",
   "metadata": {
    "heading_collapsed": true,
    "hidden": true
   },
   "source": [
    "## Função range( stop ) | range( start, stop [, step] )"
   ]
  },
  {
   "cell_type": "markdown",
   "id": "338b8f1d",
   "metadata": {
    "ExecuteTime": {
     "end_time": "2021-11-01T13:17:28.324117Z",
     "start_time": "2021-11-01T13:17:28.317810Z"
    },
    "hidden": true
   },
   "source": [
    "Como vimos nas aulas anteriores, a função `range()` cria uma estrutura iterável, onde passamos o valor inicial no parâmetro `start`, qual o ponto de parada no argumento `stop` e o tamanho do incremento no parâmetro opcional `step`. Além disso, podemos utilizar a forma \"abreviada\" da função e passar somente o argumento `stop`.\n",
    "\n",
    "Exemplos:"
   ]
  },
  {
   "cell_type": "code",
   "execution_count": 7,
   "id": "31326960",
   "metadata": {
    "ExecuteTime": {
     "end_time": "2021-11-01T13:33:15.345999Z",
     "start_time": "2021-11-01T13:33:15.342609Z"
    },
    "hidden": true
   },
   "outputs": [
    {
     "name": "stdout",
     "output_type": "stream",
     "text": [
      "O conteudo da variavel a = range(0, 10)\n",
      "O tipo da variavel a = <class 'range'>\n"
     ]
    }
   ],
   "source": [
    "# declaração de uma variável do tipo range\n",
    "a = range(10)\n",
    "\n",
    "# Prints de Debug\n",
    "print(f'O conteudo da variavel a = {a}')\n",
    "print(f'O tipo da variavel a = {type(a)}')"
   ]
  },
  {
   "cell_type": "markdown",
   "id": "952642b9",
   "metadata": {
    "ExecuteTime": {
     "end_time": "2021-11-01T13:27:12.485763Z",
     "start_time": "2021-11-01T13:27:12.482931Z"
    },
    "heading_collapsed": true,
    "hidden": true
   },
   "source": [
    "### Como iterar sobre um range"
   ]
  },
  {
   "cell_type": "code",
   "execution_count": 11,
   "id": "e53ea882",
   "metadata": {
    "ExecuteTime": {
     "end_time": "2021-11-01T13:39:59.565590Z",
     "start_time": "2021-11-01T13:39:59.559662Z"
    },
    "hidden": true
   },
   "outputs": [
    {
     "name": "stdout",
     "output_type": "stream",
     "text": [
      "Somente valores pares = 0\n",
      "Somente valores pares = 2\n",
      "Somente valores pares = 4\n"
     ]
    }
   ],
   "source": [
    "# Forma normal\n",
    "for index in range(0, 5, 2):\n",
    "    print(f'Somente valores pares = {index}')"
   ]
  },
  {
   "cell_type": "code",
   "execution_count": 12,
   "id": "9de65f30",
   "metadata": {
    "ExecuteTime": {
     "end_time": "2021-11-01T13:40:01.791315Z",
     "start_time": "2021-11-01T13:40:01.788058Z"
    },
    "hidden": true
   },
   "outputs": [
    {
     "name": "stdout",
     "output_type": "stream",
     "text": [
      "Todos os valores = 0\n",
      "Todos os valores = 1\n",
      "Todos os valores = 2\n",
      "Todos os valores = 3\n",
      "Todos os valores = 4\n"
     ]
    }
   ],
   "source": [
    "# Forma abreviada\n",
    "for index in range(5):\n",
    "    print(f'Todos os valores = {index}')"
   ]
  },
  {
   "cell_type": "code",
   "execution_count": 14,
   "id": "088012ef",
   "metadata": {
    "ExecuteTime": {
     "end_time": "2021-11-01T13:41:09.650962Z",
     "start_time": "2021-11-01T13:41:09.643072Z"
    },
    "hidden": true
   },
   "outputs": [
    {
     "name": "stdout",
     "output_type": "stream",
     "text": [
      "Valores pares contados de forma decrescente = 10\n",
      "Valores pares contados de forma decrescente = 8\n",
      "Valores pares contados de forma decrescente = 6\n",
      "Valores pares contados de forma decrescente = 4\n",
      "Valores pares contados de forma decrescente = 2\n"
     ]
    }
   ],
   "source": [
    "# Iterar de forma decrescente\n",
    "for index in range(10, 0, -2):\n",
    "    print(f'Valores pares contados de forma decrescente = {index}')"
   ]
  },
  {
   "cell_type": "markdown",
   "id": "af531a93",
   "metadata": {
    "hidden": true
   },
   "source": [
    "Dessa forma, utilizamos o `range()` para criar uma estrutura que seja iterável. Normalmente utilizamos a forma abreviada quando não nos importamos nem em que valor será iniciada as repetições e nem em como os valores serão incrementados ou decrementados. Porém, se essas informações fazem sentido para resolver os nosso problema, então devemos utilizar a forma completa."
   ]
  },
  {
   "cell_type": "markdown",
   "id": "3be68209",
   "metadata": {
    "heading_collapsed": true,
    "hidden": true
   },
   "source": [
    "## Iterar sobre listas"
   ]
  },
  {
   "cell_type": "markdown",
   "id": "8a2bfa22",
   "metadata": {
    "hidden": true
   },
   "source": [
    "**Listas** são estruturas em que inserimos conteúdos e que cada conteúdo possuí uma chave identificadora, um índice.\n",
    "\n",
    "Listas são estruturas iteráveis, o que significa que não precisamos utilizar nenhum outro método para itarar sobre elas além do **for**:"
   ]
  },
  {
   "cell_type": "code",
   "execution_count": 17,
   "id": "f6677b3b",
   "metadata": {
    "ExecuteTime": {
     "end_time": "2021-11-01T13:46:11.501181Z",
     "start_time": "2021-11-01T13:46:11.498326Z"
    },
    "hidden": true
   },
   "outputs": [
    {
     "name": "stdout",
     "output_type": "stream",
     "text": [
      "Os elementos da lista sao = 1\n",
      "Os elementos da lista sao = 2\n",
      "Os elementos da lista sao = 3\n",
      "Os elementos da lista sao = 4\n",
      "Os elementos da lista sao = 5\n"
     ]
    }
   ],
   "source": [
    "lista = [1, 2, 3, 4, 5]\n",
    "\n",
    "for elemento_interno in lista:\n",
    "    print(f'Os elementos da lista sao = {elemento_interno}')"
   ]
  },
  {
   "cell_type": "markdown",
   "id": "bf61d640",
   "metadata": {
    "hidden": true
   },
   "source": [
    "Note que percorremos todos os conteúdo da nossa lista e imprimimos somente o conteúdo de cada índice. Caso seja necessário verificar qual é o índice e o elemento desse índice, podemos utilizar a seguinte forma:"
   ]
  },
  {
   "cell_type": "code",
   "execution_count": 18,
   "id": "b0f8cac9",
   "metadata": {
    "ExecuteTime": {
     "end_time": "2021-11-01T13:48:23.572401Z",
     "start_time": "2021-11-01T13:48:23.570016Z"
    },
    "hidden": true
   },
   "outputs": [
    {
     "name": "stdout",
     "output_type": "stream",
     "text": [
      "O elemento que esta no indice 0 é = 1\n",
      "O elemento que esta no indice 1 é = 2\n",
      "O elemento que esta no indice 2 é = 3\n",
      "O elemento que esta no indice 3 é = 4\n",
      "O elemento que esta no indice 4 é = 5\n"
     ]
    }
   ],
   "source": [
    "for indice in range(len(lista)):\n",
    "    print(f'O elemento que esta no indice {indice} é = {lista[indice]}')"
   ]
  },
  {
   "cell_type": "markdown",
   "id": "23389c7b",
   "metadata": {
    "hidden": true
   },
   "source": [
    "Porém, para casos como estes, existem uma função em Python que nos permite trabalhar de forma mais simples e direta: a função `enumerate()`.\n",
    "\n",
    "Com essa função, conseguimos acessar não só o índice, mas também o conteúdo ou elemento que está dentro desse índice:"
   ]
  },
  {
   "cell_type": "code",
   "execution_count": 20,
   "id": "d91b5e78",
   "metadata": {
    "ExecuteTime": {
     "end_time": "2021-11-01T13:53:33.587181Z",
     "start_time": "2021-11-01T13:53:33.580709Z"
    },
    "hidden": true
   },
   "outputs": [
    {
     "name": "stdout",
     "output_type": "stream",
     "text": [
      "O elemento que esta no indice 0 é = 1\n",
      "O elemento que esta no indice 1 é = 2\n",
      "O elemento que esta no indice 2 é = 3\n",
      "O elemento que esta no indice 3 é = 4\n",
      "O elemento que esta no indice 4 é = 5\n"
     ]
    }
   ],
   "source": [
    "for indice, elemento in enumerate(lista):\n",
    "    print(f'O elemento que esta no indice {indice} é = {elemento}')"
   ]
  },
  {
   "cell_type": "markdown",
   "id": "d753584f",
   "metadata": {
    "heading_collapsed": true,
    "hidden": true
   },
   "source": [
    "## Iterar sobre tuplas"
   ]
  },
  {
   "cell_type": "markdown",
   "id": "a6771d6a",
   "metadata": {
    "hidden": true
   },
   "source": [
    "Assim como as **listas**, as **tuplas** são estruturas que adicionamos valores e que cada valor dentro dela possuí um índice.\n",
    "\n",
    "Assim como as **listas**, as **tuplas** também são iteráveis e podemos utilizar os mesmo métodos que utilizamos para iterar sobre **listas**:"
   ]
  },
  {
   "cell_type": "code",
   "execution_count": 27,
   "id": "14c790d9",
   "metadata": {
    "ExecuteTime": {
     "end_time": "2021-11-01T14:27:55.104270Z",
     "start_time": "2021-11-01T14:27:55.093757Z"
    },
    "hidden": true
   },
   "outputs": [
    {
     "name": "stdout",
     "output_type": "stream",
     "text": [
      "Os elementos da tupla sao = 1\n",
      "Os elementos da tupla sao = 2\n",
      "Os elementos da tupla sao = 3\n",
      "Os elementos da tupla sao = 4\n",
      "Os elementos da tupla sao = 5\n"
     ]
    }
   ],
   "source": [
    "tupla = (1, 2, 3, 4, 5)\n",
    "\n",
    "for elemento_interno in tupla:\n",
    "    print(f'Os elementos da tupla sao = {elemento_interno}')"
   ]
  },
  {
   "cell_type": "code",
   "execution_count": 28,
   "id": "89b7bfb7",
   "metadata": {
    "ExecuteTime": {
     "end_time": "2021-11-01T14:28:06.679990Z",
     "start_time": "2021-11-01T14:28:06.676822Z"
    },
    "hidden": true
   },
   "outputs": [
    {
     "name": "stdout",
     "output_type": "stream",
     "text": [
      "O elemento que esta no indice 0 da tupla é = 1\n",
      "O elemento que esta no indice 1 da tupla é = 2\n",
      "O elemento que esta no indice 2 da tupla é = 3\n",
      "O elemento que esta no indice 3 da tupla é = 4\n",
      "O elemento que esta no indice 4 da tupla é = 5\n"
     ]
    }
   ],
   "source": [
    "for indice in range(len(tupla)):\n",
    "    print(f'O elemento que esta no indice {indice} da tupla é = {tupla[indice]}')"
   ]
  },
  {
   "cell_type": "code",
   "execution_count": 29,
   "id": "fe03a050",
   "metadata": {
    "ExecuteTime": {
     "end_time": "2021-11-01T14:28:11.692690Z",
     "start_time": "2021-11-01T14:28:11.689488Z"
    },
    "hidden": true
   },
   "outputs": [
    {
     "name": "stdout",
     "output_type": "stream",
     "text": [
      "O elemento que esta no indice 0 da tupla é = 1\n",
      "O elemento que esta no indice 1 da tupla é = 2\n",
      "O elemento que esta no indice 2 da tupla é = 3\n",
      "O elemento que esta no indice 3 da tupla é = 4\n",
      "O elemento que esta no indice 4 da tupla é = 5\n"
     ]
    }
   ],
   "source": [
    "for indice, elemento in enumerate(tupla):\n",
    "    print(f'O elemento que esta no indice {indice} da tupla é = {elemento}')"
   ]
  },
  {
   "cell_type": "markdown",
   "id": "75b6d8c5",
   "metadata": {
    "heading_collapsed": true,
    "hidden": true
   },
   "source": [
    "## Iterar sobre dicionários"
   ]
  },
  {
   "cell_type": "markdown",
   "id": "d4404662",
   "metadata": {
    "hidden": true
   },
   "source": [
    "Dicionários são estruturas onde os elementos são compostos pelo conjunto `chave: valor`, onde a `chave` representa o índice da lista e o `valor` represnta o conteúdo que está associado a essa `chave`.\n",
    "\n",
    "Pense na estrutura **dicionário** exatamente como uma **lista** que pode ter outros tipos de índices, que não valores inteiros que iniciam em zero e vão até o quantidade da lista.\n",
    "\n",
    "Assim como as **listas**, os dicionários são estruturas iteráveis e temos algumas técnicas ou formas de iterarmos sobre elas. A primeira maneira seria utilizando a função `items()` do dicionário, pois dessa forma conseguimos recuperar não só as chaves, mas também os seus valores:"
   ]
  },
  {
   "cell_type": "code",
   "execution_count": 30,
   "id": "a504a88b",
   "metadata": {
    "ExecuteTime": {
     "end_time": "2021-11-01T14:43:01.381051Z",
     "start_time": "2021-11-01T14:43:01.378192Z"
    },
    "hidden": true
   },
   "outputs": [],
   "source": [
    "dictionary = {\n",
    "    'nome': 'Pedro',\n",
    "    'idade': 32,\n",
    "    'casado': True\n",
    "}"
   ]
  },
  {
   "cell_type": "code",
   "execution_count": 33,
   "id": "5c4ad21f",
   "metadata": {
    "ExecuteTime": {
     "end_time": "2021-11-01T14:45:05.476019Z",
     "start_time": "2021-11-01T14:45:05.472391Z"
    },
    "hidden": true
   },
   "outputs": [
    {
     "name": "stdout",
     "output_type": "stream",
     "text": [
      "A chave do elemento é = nome\n",
      "O valor do elemento que está na chave nome é = Pedro\n",
      "=============\n",
      "A chave do elemento é = idade\n",
      "O valor do elemento que está na chave idade é = 32\n",
      "=============\n",
      "A chave do elemento é = casado\n",
      "O valor do elemento que está na chave casado é = True\n",
      "=============\n"
     ]
    }
   ],
   "source": [
    "for chave, valor in dictionary.items():\n",
    "    print(f'A chave do elemento é = {chave}')\n",
    "    print(f'O valor do elemento que está na chave {chave} é = {valor}')\n",
    "    print(f'=============')"
   ]
  },
  {
   "cell_type": "markdown",
   "id": "d4de72da",
   "metadata": {
    "hidden": true
   },
   "source": [
    "Uma outra forma seria a iteração somente com as chaves:"
   ]
  },
  {
   "cell_type": "code",
   "execution_count": 35,
   "id": "752ed5d7",
   "metadata": {
    "ExecuteTime": {
     "end_time": "2021-11-01T14:46:33.224699Z",
     "start_time": "2021-11-01T14:46:33.221268Z"
    },
    "hidden": true
   },
   "outputs": [
    {
     "name": "stdout",
     "output_type": "stream",
     "text": [
      "A chave do elemento é = nome\n",
      "O valor do elemento que está na chave nome é = Pedro\n",
      "=============\n",
      "A chave do elemento é = idade\n",
      "O valor do elemento que está na chave idade é = 32\n",
      "=============\n",
      "A chave do elemento é = casado\n",
      "O valor do elemento que está na chave casado é = True\n",
      "=============\n"
     ]
    }
   ],
   "source": [
    "for chave in dictionary:\n",
    "    print(f'A chave do elemento é = {chave}')\n",
    "    print(f'O valor do elemento que está na chave {chave} é = {dictionary[chave]}')\n",
    "    print(f'=============')"
   ]
  },
  {
   "cell_type": "markdown",
   "id": "be293e47",
   "metadata": {
    "hidden": true
   },
   "source": [
    "Podemos iterar também somente sobre os valores do nosso dicionário. Para isso, utilizamos o método `values()`:"
   ]
  },
  {
   "cell_type": "code",
   "execution_count": 39,
   "id": "17bfddf7",
   "metadata": {
    "ExecuteTime": {
     "end_time": "2021-11-01T14:50:10.355486Z",
     "start_time": "2021-11-01T14:50:10.352461Z"
    },
    "hidden": true
   },
   "outputs": [
    {
     "name": "stdout",
     "output_type": "stream",
     "text": [
      "O valor do elemento é = Pedro\n",
      "O valor do elemento é = 32\n",
      "O valor do elemento é = True\n"
     ]
    }
   ],
   "source": [
    "for valor in dictionary.values():\n",
    "    print(f'O valor do elemento é = {valor}')"
   ]
  },
  {
   "cell_type": "markdown",
   "id": "eaed47e7",
   "metadata": {
    "heading_collapsed": true,
    "hidden": true
   },
   "source": [
    "## Iterar sobre sets"
   ]
  },
  {
   "cell_type": "markdown",
   "id": "f97aea0c",
   "metadata": {
    "hidden": true
   },
   "source": [
    "**Set** é um tipo de estrutura de dado em Python que nos permite criar coleções de elementos não duplicados. **Sets** são muito utilizados quando desejamos criar uma estrutura iterável que tenham valores únicos, e esses valores podem ser relativos as nossas listas, tuplas ou até mesmo strings:"
   ]
  },
  {
   "cell_type": "code",
   "execution_count": 41,
   "id": "edc07e30",
   "metadata": {
    "ExecuteTime": {
     "end_time": "2021-11-01T15:01:43.319156Z",
     "start_time": "2021-11-01T15:01:43.315983Z"
    },
    "hidden": true
   },
   "outputs": [
    {
     "data": {
      "text/plain": [
       "{'a', 'd', 'e', 'i', 'l', 'o', 'p', 'r'}"
      ]
     },
     "execution_count": 41,
     "metadata": {},
     "output_type": "execute_result"
    }
   ],
   "source": [
    "uniques = set('paralelepipedo')\n",
    "uniques"
   ]
  },
  {
   "cell_type": "code",
   "execution_count": 44,
   "id": "131954ba",
   "metadata": {
    "ExecuteTime": {
     "end_time": "2021-11-01T15:03:32.843820Z",
     "start_time": "2021-11-01T15:03:32.840414Z"
    },
    "hidden": true
   },
   "outputs": [
    {
     "data": {
      "text/plain": [
       "{'Ferraresi', 'Guilherme', 'Pedro'}"
      ]
     },
     "execution_count": 44,
     "metadata": {},
     "output_type": "execute_result"
    }
   ],
   "source": [
    "uniques = set(['Pedro', 'Guilherme', 'Ferraresi', 'Pedro', 'Pedro'])\n",
    "uniques"
   ]
  },
  {
   "cell_type": "code",
   "execution_count": 45,
   "id": "dad7083e",
   "metadata": {
    "ExecuteTime": {
     "end_time": "2021-11-01T15:03:39.499916Z",
     "start_time": "2021-11-01T15:03:39.496669Z"
    },
    "hidden": true
   },
   "outputs": [
    {
     "data": {
      "text/plain": [
       "{1, 2, 3, 4, 5, 6, 7, 8}"
      ]
     },
     "execution_count": 45,
     "metadata": {},
     "output_type": "execute_result"
    }
   ],
   "source": [
    "uniques = set([1, 2, 3, 4, 5, 1, 2, 3, 4, 5, 6, 7, 8, 1, 2, 3, 4])\n",
    "uniques"
   ]
  },
  {
   "cell_type": "code",
   "execution_count": 50,
   "id": "360d2b1d",
   "metadata": {
    "ExecuteTime": {
     "end_time": "2021-11-01T15:33:49.022937Z",
     "start_time": "2021-11-01T15:33:49.018813Z"
    },
    "hidden": true
   },
   "outputs": [
    {
     "data": {
      "text/plain": [
       "{1, 2, 3, 4, 5, 6, 7, 8}"
      ]
     },
     "execution_count": 50,
     "metadata": {},
     "output_type": "execute_result"
    }
   ],
   "source": [
    "# Forma abreviada de criar um set\n",
    "uniques = {1, 2, 3, 4, 5, 1, 2, 3, 4, 5, 6, 7, 8, 1, 2, 3, 4}\n",
    "uniques"
   ]
  },
  {
   "cell_type": "markdown",
   "id": "24593129",
   "metadata": {
    "hidden": true
   },
   "source": [
    "Observe que sempre que criamos um set, ele já vem **ordenado**.\n",
    "\n",
    "Porém, como nem tudo são flores, não é possível selecionar os valores internos de um **set** como fazemos com as **listas** e **dicionários**.\n",
    "\n",
    "É sempre útil trabalhar com **sets** é que teremos uma estrutura **ordenada** e com valores **únicos**.\n",
    "\n",
    "Para iterarmos sobre o **set**, podemos utilizar a seguinte técnica:"
   ]
  },
  {
   "cell_type": "code",
   "execution_count": 51,
   "id": "83a8b11e",
   "metadata": {
    "ExecuteTime": {
     "end_time": "2021-11-01T15:33:49.379540Z",
     "start_time": "2021-11-01T15:33:49.371626Z"
    },
    "hidden": true
   },
   "outputs": [
    {
     "name": "stdout",
     "output_type": "stream",
     "text": [
      "O valor do elemento é = 1\n",
      "O valor do elemento é = 2\n",
      "O valor do elemento é = 3\n",
      "O valor do elemento é = 4\n",
      "O valor do elemento é = 5\n",
      "O valor do elemento é = 6\n",
      "O valor do elemento é = 7\n",
      "O valor do elemento é = 8\n"
     ]
    }
   ],
   "source": [
    "for valor in uniques:\n",
    "    print(f'O valor do elemento é = {valor}')"
   ]
  },
  {
   "cell_type": "markdown",
   "id": "82c8af6d",
   "metadata": {
    "heading_collapsed": true,
    "hidden": true
   },
   "source": [
    "## Iterar sobre um string"
   ]
  },
  {
   "cell_type": "markdown",
   "id": "977ae015",
   "metadata": {
    "hidden": true
   },
   "source": [
    "Iterar sobre um **string** (objeto do tipo `str`) é tão simples quanto iterar sobre uma **lista** ou um **tupla**:"
   ]
  },
  {
   "cell_type": "code",
   "execution_count": 69,
   "id": "2f7ecebe",
   "metadata": {
    "ExecuteTime": {
     "end_time": "2021-11-01T18:52:59.414191Z",
     "start_time": "2021-11-01T18:52:59.411926Z"
    },
    "hidden": true
   },
   "outputs": [],
   "source": [
    "string = 'Pedro'"
   ]
  },
  {
   "cell_type": "code",
   "execution_count": 72,
   "id": "8fe1e5c2",
   "metadata": {
    "ExecuteTime": {
     "end_time": "2021-11-01T19:00:25.636028Z",
     "start_time": "2021-11-01T19:00:25.632983Z"
    },
    "hidden": true
   },
   "outputs": [
    {
     "name": "stdout",
     "output_type": "stream",
     "text": [
      "O caractere da vez é = P\n",
      "O caractere da vez é = e\n",
      "O caractere da vez é = d\n",
      "O caractere da vez é = r\n",
      "O caractere da vez é = o\n"
     ]
    }
   ],
   "source": [
    "for char in string:\n",
    "    print(f'O caractere da vez é = {char}')"
   ]
  },
  {
   "cell_type": "markdown",
   "id": "ab7df0d4",
   "metadata": {
    "hidden": true
   },
   "source": [
    "Dessa forma, podemos percorrer caractere por caractere em nossa string, fazendo comparações e buscas dentro dela!"
   ]
  },
  {
   "cell_type": "markdown",
   "id": "e54c7ead",
   "metadata": {
    "heading_collapsed": true,
    "hidden": true
   },
   "source": [
    "## Exemplos"
   ]
  },
  {
   "cell_type": "markdown",
   "id": "3a2d4c54",
   "metadata": {
    "heading_collapsed": true,
    "hidden": true
   },
   "source": [
    "### Utilizando a função range(), crie um iterador que gerará uma lista somente com os valores pares entre 1 e 20"
   ]
  },
  {
   "cell_type": "markdown",
   "id": "2b6381cb",
   "metadata": {
    "heading_collapsed": true,
    "hidden": true
   },
   "source": [
    "#### Resposta"
   ]
  },
  {
   "cell_type": "code",
   "execution_count": null,
   "id": "34544783",
   "metadata": {
    "hidden": true
   },
   "outputs": [],
   "source": [
    "# Resolução Aqui\n"
   ]
  },
  {
   "cell_type": "markdown",
   "id": "276e5da1",
   "metadata": {
    "heading_collapsed": true,
    "hidden": true
   },
   "source": [
    "### Utilizando a função range(), crie um iterador que gerará uma lista somente com os valores ímpares de 21 a 0"
   ]
  },
  {
   "cell_type": "markdown",
   "id": "5d4b07a9",
   "metadata": {
    "heading_collapsed": true,
    "hidden": true
   },
   "source": [
    "#### Resposta"
   ]
  },
  {
   "cell_type": "code",
   "execution_count": null,
   "id": "0b45dcd7",
   "metadata": {
    "hidden": true
   },
   "outputs": [],
   "source": [
    "# Resolução Aqui\n"
   ]
  },
  {
   "cell_type": "markdown",
   "id": "827f9b2a",
   "metadata": {
    "heading_collapsed": true
   },
   "source": [
    "# SLICING"
   ]
  },
  {
   "cell_type": "markdown",
   "id": "3220bb8e",
   "metadata": {
    "hidden": true
   },
   "source": [
    "Vimos que Python possuí várias funções prontas para trabalharmos em nossas aulas anteriores e que essas funções estão atreladas aos tipos de dados. Ou seja, estruturas como listas, tuplas, mapas, strings, e etc possuem várias funções *built-in* para que possamos trabalhar de forma mais fácil com elas.\n",
    "\n",
    "Além dessas funções, existem outros métodos e técnicas que utilizamos em Python para selecionar sub partes de certas estruturas, e esse método de seleção é chamado de **slicing**, ou, em tradução literal, **fatiamento**.\n",
    "\n",
    "Podemos executar **slicing** em Strings, Listas e Tuplas. A ideia para essas 3 estruturas é a mesma:\n",
    "\n",
    "```python\n",
    "estrutura[ [indice_inicial] : [indice_final] [: incremento ] ]\n",
    "```\n",
    "\n",
    "Para exemplificar, vamos iniciar esse processo com Strings."
   ]
  },
  {
   "cell_type": "markdown",
   "id": "fefd8bdd",
   "metadata": {
    "heading_collapsed": true,
    "hidden": true
   },
   "source": [
    "## Silicing em Strings"
   ]
  },
  {
   "cell_type": "markdown",
   "id": "600c4878",
   "metadata": {
    "hidden": true
   },
   "source": [
    "Para executar **slicings** em strings, utilizamos os colchetes e definimos um uma posição incial e final do nosso fatiamento:"
   ]
  },
  {
   "cell_type": "code",
   "execution_count": 88,
   "id": "976f7943",
   "metadata": {
    "ExecuteTime": {
     "end_time": "2021-11-01T19:26:46.340531Z",
     "start_time": "2021-11-01T19:26:46.335038Z"
    },
    "hidden": true
   },
   "outputs": [
    {
     "data": {
      "text/plain": [
       "'Pedro Ferraresi'"
      ]
     },
     "execution_count": 88,
     "metadata": {},
     "output_type": "execute_result"
    }
   ],
   "source": [
    "string = 'Pedro Ferraresi'\n",
    "string"
   ]
  },
  {
   "cell_type": "code",
   "execution_count": 89,
   "id": "9aff0b82",
   "metadata": {
    "ExecuteTime": {
     "end_time": "2021-11-01T19:26:46.809088Z",
     "start_time": "2021-11-01T19:26:46.806113Z"
    },
    "hidden": true
   },
   "outputs": [
    {
     "name": "stdout",
     "output_type": "stream",
     "text": [
      "O índice é = 0; valor do caractere é = P\n",
      "O índice é = 1; valor do caractere é = e\n",
      "O índice é = 2; valor do caractere é = d\n",
      "O índice é = 3; valor do caractere é = r\n",
      "O índice é = 4; valor do caractere é = o\n",
      "O índice é = 5; valor do caractere é =  \n",
      "O índice é = 6; valor do caractere é = F\n",
      "O índice é = 7; valor do caractere é = e\n",
      "O índice é = 8; valor do caractere é = r\n",
      "O índice é = 9; valor do caractere é = r\n",
      "O índice é = 10; valor do caractere é = a\n",
      "O índice é = 11; valor do caractere é = r\n",
      "O índice é = 12; valor do caractere é = e\n",
      "O índice é = 13; valor do caractere é = s\n",
      "O índice é = 14; valor do caractere é = i\n"
     ]
    }
   ],
   "source": [
    "for index, char in enumerate(string):\n",
    "    print(f'O índice é = {index}; valor do caractere é = {char}')"
   ]
  },
  {
   "cell_type": "code",
   "execution_count": 90,
   "id": "55e1e1ee",
   "metadata": {
    "ExecuteTime": {
     "end_time": "2021-11-01T19:26:47.242529Z",
     "start_time": "2021-11-01T19:26:47.234315Z"
    },
    "hidden": true
   },
   "outputs": [
    {
     "data": {
      "text/plain": [
       "'ro Fe'"
      ]
     },
     "execution_count": 90,
     "metadata": {},
     "output_type": "execute_result"
    }
   ],
   "source": [
    "# Slicing - Selecionando a substring a partir do indice 3\n",
    "# ate o indice 8\n",
    "sub_str = string[3:8]\n",
    "sub_str"
   ]
  },
  {
   "cell_type": "markdown",
   "id": "041512f0",
   "metadata": {
    "hidden": true
   },
   "source": [
    "Observe que selecionamos os caracteres que iniciaram no índice `3` da String até o índice `8`, sendo que o índice `8` não foi incluido na substring gerada através do fatiamento.\n",
    "\n",
    "O fatiamento segue a seguinte regra: string[ inicio: fim [: passo] ]. Para exemplificar, vamos gerar uma nova string com mais caracteres:"
   ]
  },
  {
   "cell_type": "code",
   "execution_count": 91,
   "id": "aa57c1a1",
   "metadata": {
    "ExecuteTime": {
     "end_time": "2021-11-01T19:26:48.334983Z",
     "start_time": "2021-11-01T19:26:48.330733Z"
    },
    "hidden": true
   },
   "outputs": [
    {
     "data": {
      "text/plain": [
       "'Pedro Guilherme Volpato Ferraresi'"
      ]
     },
     "execution_count": 91,
     "metadata": {},
     "output_type": "execute_result"
    }
   ],
   "source": [
    "string = 'Pedro Guilherme Volpato Ferraresi'\n",
    "string"
   ]
  },
  {
   "cell_type": "code",
   "execution_count": 92,
   "id": "5fab6706",
   "metadata": {
    "ExecuteTime": {
     "end_time": "2021-11-01T19:26:49.770739Z",
     "start_time": "2021-11-01T19:26:49.763220Z"
    },
    "hidden": true
   },
   "outputs": [
    {
     "name": "stdout",
     "output_type": "stream",
     "text": [
      "O índice é = 0; valor do caractere é = P\n",
      "O índice é = 1; valor do caractere é = e\n",
      "O índice é = 2; valor do caractere é = d\n",
      "O índice é = 3; valor do caractere é = r\n",
      "O índice é = 4; valor do caractere é = o\n",
      "O índice é = 5; valor do caractere é =  \n",
      "O índice é = 6; valor do caractere é = G\n",
      "O índice é = 7; valor do caractere é = u\n",
      "O índice é = 8; valor do caractere é = i\n",
      "O índice é = 9; valor do caractere é = l\n",
      "O índice é = 10; valor do caractere é = h\n",
      "O índice é = 11; valor do caractere é = e\n",
      "O índice é = 12; valor do caractere é = r\n",
      "O índice é = 13; valor do caractere é = m\n",
      "O índice é = 14; valor do caractere é = e\n",
      "O índice é = 15; valor do caractere é =  \n",
      "O índice é = 16; valor do caractere é = V\n",
      "O índice é = 17; valor do caractere é = o\n",
      "O índice é = 18; valor do caractere é = l\n",
      "O índice é = 19; valor do caractere é = p\n",
      "O índice é = 20; valor do caractere é = a\n",
      "O índice é = 21; valor do caractere é = t\n",
      "O índice é = 22; valor do caractere é = o\n",
      "O índice é = 23; valor do caractere é =  \n",
      "O índice é = 24; valor do caractere é = F\n",
      "O índice é = 25; valor do caractere é = e\n",
      "O índice é = 26; valor do caractere é = r\n",
      "O índice é = 27; valor do caractere é = r\n",
      "O índice é = 28; valor do caractere é = a\n",
      "O índice é = 29; valor do caractere é = r\n",
      "O índice é = 30; valor do caractere é = e\n",
      "O índice é = 31; valor do caractere é = s\n",
      "O índice é = 32; valor do caractere é = i\n"
     ]
    }
   ],
   "source": [
    "for index, char in enumerate(string):\n",
    "    print(f'O índice é = {index}; valor do caractere é = {char}')"
   ]
  },
  {
   "cell_type": "markdown",
   "id": "31b377b5",
   "metadata": {
    "hidden": true
   },
   "source": [
    "Agora digamos que desejamos selecionar a substring que inicia no caractere 3 e finaliza no caractere 14, indo de dois em dois caracteres:"
   ]
  },
  {
   "cell_type": "code",
   "execution_count": 85,
   "id": "0423f348",
   "metadata": {
    "ExecuteTime": {
     "end_time": "2021-11-01T19:18:53.202175Z",
     "start_time": "2021-11-01T19:18:53.191443Z"
    },
    "hidden": true
   },
   "outputs": [
    {
     "data": {
      "text/plain": [
       "'r ulem'"
      ]
     },
     "execution_count": 85,
     "metadata": {},
     "output_type": "execute_result"
    }
   ],
   "source": [
    "sub_str = string[3:15:2]\n",
    "sub_str"
   ]
  },
  {
   "cell_type": "markdown",
   "id": "5396b7bd",
   "metadata": {
    "hidden": true
   },
   "source": [
    "Da mesma forma que, quando não passamos um parâmetro inicial ou de parada, o Python entenderá que, ou desejamos todos os elementos até o critério de parada, ou desejamos todos os elementos a partir do critério de início:"
   ]
  },
  {
   "cell_type": "code",
   "execution_count": 86,
   "id": "ca87525e",
   "metadata": {
    "ExecuteTime": {
     "end_time": "2021-11-01T19:18:58.740361Z",
     "start_time": "2021-11-01T19:18:58.737093Z"
    },
    "hidden": true
   },
   "outputs": [
    {
     "data": {
      "text/plain": [
       "'PdoGihre'"
      ]
     },
     "execution_count": 86,
     "metadata": {},
     "output_type": "execute_result"
    }
   ],
   "source": [
    "sub_str = string[:15:2]\n",
    "sub_str"
   ]
  },
  {
   "cell_type": "code",
   "execution_count": 87,
   "id": "84c73dac",
   "metadata": {
    "ExecuteTime": {
     "end_time": "2021-11-01T19:18:59.234797Z",
     "start_time": "2021-11-01T19:18:59.228192Z"
    },
    "hidden": true
   },
   "outputs": [
    {
     "data": {
      "text/plain": [
       "'r ulem opt errs'"
      ]
     },
     "execution_count": 87,
     "metadata": {},
     "output_type": "execute_result"
    }
   ],
   "source": [
    "sub_str = string[3::2]\n",
    "sub_str"
   ]
  },
  {
   "cell_type": "markdown",
   "id": "3af5c254",
   "metadata": {
    "hidden": true
   },
   "source": [
    "Além disso, podemos utilizar índices negativos para fazer com que o **slicing** seja feito de forma reversa. Por exemplo, se colocamos o valor `-1` em nossa posição inical, estamos dizendo ao Python que desejamos iniciar do último elemento da String. Se colocarmos o valor `-10` na posição final, estamos dizendo que o critério de parada é o nono caractere de trás pra frente. E se colocarmos o valor `-1` no incremente, estamos dizendo que desejamos percorrer caractere por caractere:"
   ]
  },
  {
   "cell_type": "code",
   "execution_count": 101,
   "id": "edd2ffc3",
   "metadata": {
    "ExecuteTime": {
     "end_time": "2021-11-01T19:28:24.446519Z",
     "start_time": "2021-11-01T19:28:24.438179Z"
    },
    "hidden": true
   },
   "outputs": [
    {
     "data": {
      "text/plain": [
       "'iserarreF'"
      ]
     },
     "execution_count": 101,
     "metadata": {},
     "output_type": "execute_result"
    }
   ],
   "source": [
    "sub_str = string[-1:-10:-1]\n",
    "sub_str"
   ]
  },
  {
   "cell_type": "markdown",
   "id": "af635476",
   "metadata": {
    "heading_collapsed": true,
    "hidden": true
   },
   "source": [
    "## Slicing em Listas e Tuplas"
   ]
  },
  {
   "cell_type": "markdown",
   "id": "5d3e569a",
   "metadata": {
    "hidden": true
   },
   "source": [
    "O **slicing** em listas e tuplas funciona da mesma forma que nas strings, como demonstrado acima:"
   ]
  },
  {
   "cell_type": "code",
   "execution_count": 102,
   "id": "d5235df0",
   "metadata": {
    "ExecuteTime": {
     "end_time": "2021-11-01T19:34:16.333457Z",
     "start_time": "2021-11-01T19:34:16.327896Z"
    },
    "hidden": true
   },
   "outputs": [],
   "source": [
    "lista = [0, 1, 2, 3, 4, 5, 6, 7, 8, 9, 10]\n",
    "tupla = (0, 1, 2, 3, 4, 5, 6, 7, 8, 9, 10)"
   ]
  },
  {
   "cell_type": "code",
   "execution_count": 108,
   "id": "46f1f470",
   "metadata": {
    "ExecuteTime": {
     "end_time": "2021-11-01T19:36:00.744905Z",
     "start_time": "2021-11-01T19:36:00.735755Z"
    },
    "hidden": true
   },
   "outputs": [
    {
     "data": {
      "text/plain": [
       "[2, 4, 6]"
      ]
     },
     "execution_count": 108,
     "metadata": {},
     "output_type": "execute_result"
    }
   ],
   "source": [
    "# Slicing em Listas\n",
    "sub_lista = lista[2:8:2]\n",
    "sub_lista"
   ]
  },
  {
   "cell_type": "code",
   "execution_count": 105,
   "id": "74860b54",
   "metadata": {
    "ExecuteTime": {
     "end_time": "2021-11-01T19:35:14.508995Z",
     "start_time": "2021-11-01T19:35:14.498881Z"
    },
    "hidden": true
   },
   "outputs": [
    {
     "data": {
      "text/plain": [
       "[10, 8, 6, 4]"
      ]
     },
     "execution_count": 105,
     "metadata": {},
     "output_type": "execute_result"
    }
   ],
   "source": [
    "sub_lista = lista[-1:-8:-2]\n",
    "sub_lista"
   ]
  },
  {
   "cell_type": "code",
   "execution_count": 107,
   "id": "06065d24",
   "metadata": {
    "ExecuteTime": {
     "end_time": "2021-11-01T19:35:54.037966Z",
     "start_time": "2021-11-01T19:35:54.029049Z"
    },
    "hidden": true
   },
   "outputs": [
    {
     "data": {
      "text/plain": [
       "(2, 4, 6)"
      ]
     },
     "execution_count": 107,
     "metadata": {},
     "output_type": "execute_result"
    }
   ],
   "source": [
    "# Slicing em Tuplas\n",
    "sub_tupla = tupla[2:8:2]\n",
    "sub_tupla"
   ]
  },
  {
   "cell_type": "code",
   "execution_count": 106,
   "id": "85d83ff8",
   "metadata": {
    "ExecuteTime": {
     "end_time": "2021-11-01T19:35:31.044392Z",
     "start_time": "2021-11-01T19:35:31.037676Z"
    },
    "hidden": true
   },
   "outputs": [
    {
     "data": {
      "text/plain": [
       "(10, 8, 6, 4)"
      ]
     },
     "execution_count": 106,
     "metadata": {},
     "output_type": "execute_result"
    }
   ],
   "source": [
    "sub_tupla = tupla[-1:-8:-2]\n",
    "sub_tupla"
   ]
  },
  {
   "cell_type": "markdown",
   "id": "192eb30d",
   "metadata": {
    "hidden": true
   },
   "source": [
    "Compreender corretamente como fazer slicig é extremamente importante pois será um conceito chave quando iniciarmos a utilização da biblioteca **pandas** para manipular **dataframes**."
   ]
  },
  {
   "cell_type": "markdown",
   "id": "36a7717c",
   "metadata": {
    "heading_collapsed": true,
    "hidden": true
   },
   "source": [
    "## Exemplos"
   ]
  },
  {
   "cell_type": "markdown",
   "id": "cde3b459",
   "metadata": {
    "heading_collapsed": true,
    "hidden": true
   },
   "source": [
    "### Utilizando a técnica de slice, recupere somente os elementos pares da seguinte lista"
   ]
  },
  {
   "cell_type": "markdown",
   "id": "7fd74095",
   "metadata": {
    "hidden": true
   },
   "source": [
    "```python\n",
    "lista = [0, 1, 2, 3, 4, 5, 6, 7, 8, 9, 10, 11, 12, 13, 14, 15, 16, 17, 18, 19, 20]\n",
    "```"
   ]
  },
  {
   "cell_type": "markdown",
   "id": "261d6cf5",
   "metadata": {
    "heading_collapsed": true,
    "hidden": true
   },
   "source": [
    "#### Resposta"
   ]
  },
  {
   "cell_type": "code",
   "execution_count": 1,
   "id": "cb538c5e",
   "metadata": {
    "ExecuteTime": {
     "end_time": "2022-02-02T21:58:18.444167Z",
     "start_time": "2022-02-02T21:58:18.441093Z"
    },
    "hidden": true
   },
   "outputs": [],
   "source": [
    "# Resolução Aqui\n"
   ]
  },
  {
   "cell_type": "markdown",
   "id": "7e15fa7d",
   "metadata": {
    "heading_collapsed": true,
    "hidden": true
   },
   "source": [
    "### Utilizando a técnica de slice, recupere somente os elementos ímpares da seguinte lista"
   ]
  },
  {
   "cell_type": "markdown",
   "id": "5f5472c6",
   "metadata": {
    "hidden": true
   },
   "source": [
    "```python\n",
    "lista = [0, 1, 2, 3, 4, 5, 6, 7, 8, 9, 10, 11, 12, 13, 14, 15, 16, 17, 18, 19, 20]\n",
    "```"
   ]
  },
  {
   "cell_type": "markdown",
   "id": "f146fa59",
   "metadata": {
    "heading_collapsed": true,
    "hidden": true
   },
   "source": [
    "#### Resposta"
   ]
  },
  {
   "cell_type": "code",
   "execution_count": 2,
   "id": "d3820091",
   "metadata": {
    "ExecuteTime": {
     "end_time": "2022-02-02T21:58:29.340227Z",
     "start_time": "2022-02-02T21:58:29.337871Z"
    },
    "hidden": true
   },
   "outputs": [],
   "source": [
    "# Resolução Aqui\n"
   ]
  },
  {
   "cell_type": "markdown",
   "id": "c744da6d",
   "metadata": {
    "heading_collapsed": true
   },
   "source": [
    "# COMPREHENSIONS"
   ]
  },
  {
   "cell_type": "markdown",
   "id": "e5112919",
   "metadata": {
    "hidden": true
   },
   "source": [
    "Agora que vimos que no Python existem estruturas iteráveis, vamos aprender o que são **List Comprehensions**.\n",
    "\n",
    "**Comprehensions** em Python são formas de abreviadas e *in-line* de criarmos listas, sets ou dicionários. **Comprehensions** são muito utilizados na comunidade de Python quando desejamos criar uma estrutura de dados certos com resultados, sendo que esses resultados podem ou não atender a alguma condição.\n",
    "\n",
    "Ou seja, podemos utilizar uma **Comprehension** para percorrer uma lista de clientes, por exemplo, e criar um critério de seleção dentro da **Comprehension** para gerar uma lista de saída."
   ]
  },
  {
   "cell_type": "markdown",
   "id": "a1dc8a68",
   "metadata": {
    "hidden": true
   },
   "source": [
    "**List Comprehensions** são as **Comprehensions** que geram uma lista como resultado.\n",
    "\n",
    "A estrutura básica para a geração / utilização de uma **list comprehension** é:\n",
    "\n",
    "```python\n",
    "[ item for item in iteravel ]\n",
    "```\n",
    "\n",
    "Para exemplificar, vamos criar uma lista com vários clientes dentro:"
   ]
  },
  {
   "cell_type": "code",
   "execution_count": 109,
   "id": "95186f82",
   "metadata": {
    "ExecuteTime": {
     "end_time": "2021-11-01T19:52:46.228509Z",
     "start_time": "2021-11-01T19:52:46.224949Z"
    },
    "hidden": true
   },
   "outputs": [],
   "source": [
    "clientes = [\n",
    "    { 'nome': 'Pedro',     'idade': 32, 'casado': True  },\n",
    "    { 'nome': 'Guilherme', 'idade': 23, 'casado': False },\n",
    "    { 'nome': 'Volpato',   'idade': 82, 'casado': True  },\n",
    "    { 'nome': 'Ferraresi', 'idade': 52, 'casado': True  },\n",
    "    { 'nome': 'Ana',       'idade': 29, 'casado': True  },\n",
    "    { 'nome': 'Carolina',  'idade': 19, 'casado': False },\n",
    "    { 'nome': 'Curvina',   'idade': 54, 'casado': True  },\n",
    "    { 'nome': 'Ubaldo',    'idade': 85, 'casado': True  },\n",
    "    { 'nome': 'Joao',      'idade': 26, 'casado': False },\n",
    "    { 'nome': 'Gabriel',   'idade': 62, 'casado': False },\n",
    "]"
   ]
  },
  {
   "cell_type": "markdown",
   "id": "6a5089a2",
   "metadata": {
    "hidden": true
   },
   "source": [
    "Agora vamos exemplificar a seleção de todos os clientes que não são casados utilizando uma estrutura **for** comum:"
   ]
  },
  {
   "cell_type": "code",
   "execution_count": 112,
   "id": "1fa6097f",
   "metadata": {
    "ExecuteTime": {
     "end_time": "2021-11-01T19:55:25.475790Z",
     "start_time": "2021-11-01T19:55:25.473780Z"
    },
    "hidden": true
   },
   "outputs": [],
   "source": [
    "# Criação da lista que armazenará as respostas\n",
    "selecionados = []\n",
    "\n",
    "# Estrutura for que irá percorrer e selecionar os clientes\n",
    "for cliente in clientes:\n",
    "    if (not(cliente['casado'])):\n",
    "        selecionados.append(cliente)"
   ]
  },
  {
   "cell_type": "code",
   "execution_count": 113,
   "id": "28b96705",
   "metadata": {
    "ExecuteTime": {
     "end_time": "2021-11-01T19:55:25.646957Z",
     "start_time": "2021-11-01T19:55:25.638982Z"
    },
    "hidden": true
   },
   "outputs": [
    {
     "data": {
      "text/plain": [
       "[{'nome': 'Guilherme', 'idade': 23, 'casado': False},\n",
       " {'nome': 'Carolina', 'idade': 19, 'casado': False},\n",
       " {'nome': 'Joao', 'idade': 26, 'casado': False},\n",
       " {'nome': 'Gabriel', 'idade': 62, 'casado': False}]"
      ]
     },
     "execution_count": 113,
     "metadata": {},
     "output_type": "execute_result"
    }
   ],
   "source": [
    "selecionados"
   ]
  },
  {
   "cell_type": "markdown",
   "id": "587a1b37",
   "metadata": {
    "hidden": true
   },
   "source": [
    "Agora vamos reimaginar essa mesma estrutura, só que utilizando uma **list comprehension** para selecionar os nossos clientes:"
   ]
  },
  {
   "cell_type": "code",
   "execution_count": 115,
   "id": "508640eb",
   "metadata": {
    "ExecuteTime": {
     "end_time": "2021-11-01T19:57:11.129257Z",
     "start_time": "2021-11-01T19:57:11.122853Z"
    },
    "hidden": true
   },
   "outputs": [
    {
     "data": {
      "text/plain": [
       "[{'nome': 'Guilherme', 'idade': 23, 'casado': False},\n",
       " {'nome': 'Carolina', 'idade': 19, 'casado': False},\n",
       " {'nome': 'Joao', 'idade': 26, 'casado': False},\n",
       " {'nome': 'Gabriel', 'idade': 62, 'casado': False}]"
      ]
     },
     "execution_count": 115,
     "metadata": {},
     "output_type": "execute_result"
    }
   ],
   "source": [
    "selecionados = [ cliente for cliente in clientes if not(cliente['casado']) ]\n",
    "selecionados"
   ]
  },
  {
   "cell_type": "markdown",
   "id": "df4f9868",
   "metadata": {
    "hidden": true
   },
   "source": [
    "Observe que utilizando somente uma linha conseguimos gerar a lista de clientes desejados.\n",
    "\n",
    "Utilizando as **list comprehensions**, podemos gerar todo e qualquer tipo de lista:"
   ]
  },
  {
   "cell_type": "code",
   "execution_count": 116,
   "id": "918d5d0d",
   "metadata": {
    "ExecuteTime": {
     "end_time": "2021-11-01T19:59:18.017872Z",
     "start_time": "2021-11-01T19:59:18.014133Z"
    },
    "hidden": true
   },
   "outputs": [
    {
     "data": {
      "text/plain": [
       "[0, 2, 4, 6, 8]"
      ]
     },
     "execution_count": 116,
     "metadata": {},
     "output_type": "execute_result"
    }
   ],
   "source": [
    "# Gerando lista de numeros pares\n",
    "pares = [ numero for numero in range(10) if numero % 2 == 0 ]\n",
    "pares"
   ]
  },
  {
   "cell_type": "code",
   "execution_count": 117,
   "id": "6ffc2aa7",
   "metadata": {
    "ExecuteTime": {
     "end_time": "2021-11-01T19:59:42.040891Z",
     "start_time": "2021-11-01T19:59:42.037404Z"
    },
    "hidden": true
   },
   "outputs": [
    {
     "data": {
      "text/plain": [
       "[1, 3, 5, 7, 9]"
      ]
     },
     "execution_count": 117,
     "metadata": {},
     "output_type": "execute_result"
    }
   ],
   "source": [
    "# Gerando lista de numeros pares\n",
    "impares = [ numero for numero in range(10) if numero % 2 != 0 ]\n",
    "impares"
   ]
  },
  {
   "cell_type": "code",
   "execution_count": 119,
   "id": "c9f3f1d6",
   "metadata": {
    "ExecuteTime": {
     "end_time": "2021-11-01T20:01:59.770415Z",
     "start_time": "2021-11-01T20:01:59.766191Z"
    },
    "hidden": true
   },
   "outputs": [
    {
     "data": {
      "text/plain": [
       "[1, 2, 4, 8, 16, 32, 64, 128, 256, 512]"
      ]
     },
     "execution_count": 119,
     "metadata": {},
     "output_type": "execute_result"
    }
   ],
   "source": [
    "# Gerando valores da potencia com base 2\n",
    "base_2 = [ 2 ** numero for numero in range(10) ]\n",
    "base_2"
   ]
  },
  {
   "cell_type": "markdown",
   "id": "3a40aa56",
   "metadata": {
    "hidden": true
   },
   "source": [
    "Além disso, conseguimos concatenar *ifs* e criar mais de uma condição de teste:"
   ]
  },
  {
   "cell_type": "code",
   "execution_count": 125,
   "id": "a5b6fca3",
   "metadata": {
    "ExecuteTime": {
     "end_time": "2021-11-01T20:16:52.036340Z",
     "start_time": "2021-11-01T20:16:52.032852Z"
    },
    "hidden": true
   },
   "outputs": [
    {
     "data": {
      "text/plain": [
       "[10, 20]"
      ]
     },
     "execution_count": 125,
     "metadata": {},
     "output_type": "execute_result"
    }
   ],
   "source": [
    "# Criando uma lista com os números de 0 a 20 que sejam\n",
    "# Múltiplos de 2 E de 5 ao mesmo tempo\n",
    "multiplos = [ numero for numero in range(1, 21) if numero % 2 == 0 if numero % 5 == 0 ]\n",
    "multiplos"
   ]
  },
  {
   "cell_type": "markdown",
   "id": "0cfdd3b2",
   "metadata": {
    "hidden": true
   },
   "source": [
    "Podemos também utilizar estruturas como `if .. else` utilizando o seguinte padrão:\n",
    "\n",
    "```python\n",
    "[ resultado_if if expr_condicional else resultado_else for item in iteravel ]\n",
    "```\n",
    "\n",
    "Por exemplo, vamos criar uma **list comprehension** que crie uma lista onde cada elemento dirá se um um determinado número é par ou ímpar:"
   ]
  },
  {
   "cell_type": "code",
   "execution_count": 130,
   "id": "ae0db33a",
   "metadata": {
    "ExecuteTime": {
     "end_time": "2021-11-01T20:22:18.571405Z",
     "start_time": "2021-11-01T20:22:18.567882Z"
    },
    "hidden": true
   },
   "outputs": [
    {
     "data": {
      "text/plain": [
       "['1 é ímpar',\n",
       " '2 é par',\n",
       " '3 é ímpar',\n",
       " '4 é par',\n",
       " '5 é ímpar',\n",
       " '6 é par',\n",
       " '7 é ímpar',\n",
       " '8 é par',\n",
       " '9 é ímpar',\n",
       " '10 é par']"
      ]
     },
     "execution_count": 130,
     "metadata": {},
     "output_type": "execute_result"
    }
   ],
   "source": [
    "# Cria uma lista com dizendo se o valor é par ou ímpar\n",
    "par_impar = [ \n",
    "    f'{numero} é par' \n",
    "    if numero % 2 == 0 \n",
    "    else f'{numero} é ímpar' \n",
    "    for numero in range(1, 11) \n",
    "]\n",
    "\n",
    "\n",
    "par_impar"
   ]
  },
  {
   "cell_type": "markdown",
   "id": "52364fbf",
   "metadata": {
    "hidden": true
   },
   "source": [
    "Podemos também gerar **list comprehensions** aninhadas, ou seja, uma dentro da outra! Para criarmos uma **list comprehension** aninhanda, utilizamos a seguinte regra:\n",
    "\n",
    "```python\n",
    "[ item_selecionado for variavel_for_externo in iteravel_externo for variavel_for_interna in iteravel_intero ]\n",
    "```\n",
    "\n",
    "Essa list Comprehension é equivalente ao seguinte bloco de código:\n",
    "\n",
    "```python\n",
    "for variavel_for_externo in iteravel_externo:\n",
    "    for variavel_for_interno in iteravel_interno:\n",
    "        item_selecionado\n",
    "```\n",
    "\n",
    "Para exemplificar, imagine a seguinte matriz:\n",
    "\n",
    "```python\n",
    "matrix = [\n",
    "    [100, 150, 125], \n",
    "    [200, 150, 100], \n",
    "    [200, 100, 250],\n",
    "]\n",
    "```\n",
    "\n",
    "Cada linha dessa matriz representa os últimos salários de cada um dos colaboradores de uma determinada empresa. Nosso chefe nos pediu para que gerássemos uma única lista com todos os salaários. Logo, o resultado deve ser o seguinte:\n",
    "\n",
    "```python\n",
    "matrix = [ 100, 150, 125, 200, 150, 100, 200, 100, 250 ]\n",
    "```\n",
    "\n",
    "Uma maneira de fazer isso é utilizando estruturas *for* aninhadas:"
   ]
  },
  {
   "cell_type": "code",
   "execution_count": 174,
   "id": "c29434b1",
   "metadata": {
    "ExecuteTime": {
     "end_time": "2021-11-01T22:08:21.527333Z",
     "start_time": "2021-11-01T22:08:21.523496Z"
    },
    "hidden": true
   },
   "outputs": [],
   "source": [
    "# Matriz normal\n",
    "matrix = [\n",
    "    [100, 150, 125], # Salários do Funcionário 1\n",
    "    [200, 150, 100], # Salários do Funcionário 2\n",
    "    [200, 100, 250], # Salários do Funcionário 3\n",
    "]"
   ]
  },
  {
   "cell_type": "code",
   "execution_count": 175,
   "id": "10e6e26b",
   "metadata": {
    "ExecuteTime": {
     "end_time": "2021-11-01T22:08:21.657821Z",
     "start_time": "2021-11-01T22:08:21.655029Z"
    },
    "hidden": true
   },
   "outputs": [],
   "source": [
    "# Matriz das médias\n",
    "salaries_matrix = []\n",
    "\n",
    "# Já todos os salários de um funcionário\n",
    "# é representado por uma linha da Matriz,\n",
    "# Vamos percorrer linha a linha da matriz\n",
    "for salarios in matrix:\n",
    "    \n",
    "    # Percorre todos os salários de cada\n",
    "    # funcionário.\n",
    "    for salario in salarios:\n",
    "        \n",
    "        # Seleciona cada um dos salários e\n",
    "        # Adiciona na matriz de salários\n",
    "        salaries_matrix.append(salario)"
   ]
  },
  {
   "cell_type": "code",
   "execution_count": 176,
   "id": "e897f6c4",
   "metadata": {
    "ExecuteTime": {
     "end_time": "2021-11-01T22:08:21.793406Z",
     "start_time": "2021-11-01T22:08:21.790159Z"
    },
    "hidden": true
   },
   "outputs": [
    {
     "data": {
      "text/plain": [
       "[100, 150, 125, 200, 150, 100, 200, 100, 250]"
      ]
     },
     "execution_count": 176,
     "metadata": {},
     "output_type": "execute_result"
    }
   ],
   "source": [
    "salaries_matrix"
   ]
  },
  {
   "cell_type": "markdown",
   "id": "6ab1d1aa",
   "metadata": {
    "hidden": true
   },
   "source": [
    "Outra maneira é utilizando **list comprehensions** aninhadas:"
   ]
  },
  {
   "cell_type": "code",
   "execution_count": 177,
   "id": "6747d121",
   "metadata": {
    "ExecuteTime": {
     "end_time": "2021-11-01T22:08:23.185880Z",
     "start_time": "2021-11-01T22:08:23.181955Z"
    },
    "hidden": true
   },
   "outputs": [
    {
     "data": {
      "text/plain": [
       "[100, 150, 125, 200, 150, 100, 200, 100, 250]"
      ]
     },
     "execution_count": 177,
     "metadata": {},
     "output_type": "execute_result"
    }
   ],
   "source": [
    "salaries_matrix = [ salario for salarios in matrix for salario in salarios ]\n",
    "salaries_matrix"
   ]
  },
  {
   "cell_type": "markdown",
   "id": "cfa838ae",
   "metadata": {
    "hidden": true
   },
   "source": [
    "Da mesma forma, podemos adicionar condicionais em nossas **list comprehensions** aninhadas. Imagine agora que desejamos selecionar somente os salários que forem maiores que R$ 150,00:"
   ]
  },
  {
   "cell_type": "code",
   "execution_count": 179,
   "id": "f9a88939",
   "metadata": {
    "ExecuteTime": {
     "end_time": "2021-11-01T22:11:01.192698Z",
     "start_time": "2021-11-01T22:11:01.187342Z"
    },
    "hidden": true
   },
   "outputs": [
    {
     "data": {
      "text/plain": [
       "[200, 200, 250]"
      ]
     },
     "execution_count": 179,
     "metadata": {},
     "output_type": "execute_result"
    }
   ],
   "source": [
    "salaries_matrix = [ salario for salarios in matrix for salario in salarios if salario > 150 ]\n",
    "salaries_matrix"
   ]
  },
  {
   "cell_type": "markdown",
   "id": "61220a41",
   "metadata": {
    "hidden": true
   },
   "source": [
    "**List Comprehensions** são ferramentas muito utilizadas dentro da comunidade Python, e suas principais funções são:\n",
    "\n",
    "* Selecionar de forma simples itens de uma lista\n",
    "* Criar listas com condicionais simples\n",
    "\n",
    "Além disso, **list comprehensions** são mais performáticas que estruturas **for** e \"mais fáceis\" de manter."
   ]
  },
  {
   "cell_type": "markdown",
   "id": "83724c73",
   "metadata": {
    "heading_collapsed": true,
    "hidden": true
   },
   "source": [
    "## Exemplos"
   ]
  },
  {
   "cell_type": "markdown",
   "id": "973fa050",
   "metadata": {
    "ExecuteTime": {
     "end_time": "2022-02-02T21:59:30.633026Z",
     "start_time": "2022-02-02T21:59:30.630880Z"
    },
    "heading_collapsed": true,
    "hidden": true
   },
   "source": [
    "### Utilizando List Comprehension, descubra os índices dos elementos diferentes de zero da lista abaixo."
   ]
  },
  {
   "cell_type": "markdown",
   "id": "4d748058",
   "metadata": {
    "hidden": true
   },
   "source": [
    "```python\n",
    "lista = [1, 3, 0, 3, 0, 3, 2, 0, 1, 0]\n",
    "```"
   ]
  },
  {
   "cell_type": "markdown",
   "id": "40193ed0",
   "metadata": {
    "heading_collapsed": true,
    "hidden": true
   },
   "source": [
    "#### Resposta"
   ]
  },
  {
   "cell_type": "code",
   "execution_count": 4,
   "id": "f192c1e3",
   "metadata": {
    "ExecuteTime": {
     "end_time": "2022-02-02T21:59:37.812557Z",
     "start_time": "2022-02-02T21:59:37.810065Z"
    },
    "hidden": true
   },
   "outputs": [],
   "source": [
    "# Resolução Aqui\n"
   ]
  },
  {
   "cell_type": "markdown",
   "id": "2b175ab1",
   "metadata": {
    "heading_collapsed": true,
    "hidden": true
   },
   "source": [
    "### Utilizando List Comprehension, crie uma matriz identidade 5 x 5 "
   ]
  },
  {
   "cell_type": "markdown",
   "id": "d5b85d13",
   "metadata": {
    "hidden": true
   },
   "source": [
    "Exemplo da Resposta (Saída):\n",
    "\n",
    "```python\n",
    "[\n",
    "    [1, 0, 0, 0, 0],\n",
    "    [0, 1, 0, 0, 0],\n",
    "    [0, 0, 1, 0, 0],\n",
    "    [0, 0, 0, 1, 0],\n",
    "    [0, 0, 0, 0, 1]\n",
    "]  \n",
    "```"
   ]
  },
  {
   "cell_type": "markdown",
   "id": "68ea4ff1",
   "metadata": {
    "heading_collapsed": true,
    "hidden": true
   },
   "source": [
    "#### Resposta"
   ]
  },
  {
   "cell_type": "code",
   "execution_count": 6,
   "id": "7a17eda8",
   "metadata": {
    "ExecuteTime": {
     "end_time": "2022-02-02T21:59:47.882498Z",
     "start_time": "2022-02-02T21:59:47.880238Z"
    },
    "hidden": true
   },
   "outputs": [],
   "source": [
    "# Resolução Aqui\n"
   ]
  }
 ],
 "metadata": {
  "kernelspec": {
   "display_name": "Python 3.8.12 64-bit ('pa005-3.8.12': pyenv)",
   "language": "python",
   "name": "python3812jvsc74a57bd0d1aaed0d54c5633c6e9d372bf4c47f0b42d9789d909d3d6d555bb4fdc739c330"
  },
  "language_info": {
   "codemirror_mode": {
    "name": "ipython",
    "version": 3
   },
   "file_extension": ".py",
   "mimetype": "text/x-python",
   "name": "python",
   "nbconvert_exporter": "python",
   "pygments_lexer": "ipython3",
   "version": "3.8.12"
  },
  "latex_envs": {
   "LaTeX_envs_menu_present": true,
   "autoclose": false,
   "autocomplete": true,
   "bibliofile": "biblio.bib",
   "cite_by": "apalike",
   "current_citInitial": 1,
   "eqLabelWithNumbers": true,
   "eqNumInitial": 1,
   "hotkeys": {
    "equation": "Ctrl-E",
    "itemize": "Ctrl-I"
   },
   "labels_anchors": false,
   "latex_user_defs": false,
   "report_style_numbering": false,
   "user_envs_cfg": false
  }
 },
 "nbformat": 4,
 "nbformat_minor": 5
}
