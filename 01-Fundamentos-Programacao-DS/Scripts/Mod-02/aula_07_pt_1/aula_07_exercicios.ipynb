{
 "cells": [
  {
   "cell_type": "markdown",
   "id": "3b31edc0",
   "metadata": {},
   "source": [
    "# EXERCÍCIO 1"
   ]
  },
  {
   "cell_type": "markdown",
   "id": "96a0f0d7",
   "metadata": {},
   "source": [
    "## Problema"
   ]
  },
  {
   "cell_type": "markdown",
   "id": "e9e8107f",
   "metadata": {
    "ExecuteTime": {
     "end_time": "2021-09-23T01:15:31.266217Z",
     "start_time": "2021-09-23T01:15:31.260904Z"
    }
   },
   "source": [
    "Considere as seguintes listas:\n",
    "\n",
    "```python\n",
    "a = [ 1, 2, 3, 2, 3, 4, 3, 4, 5, 6 ]\n",
    "b = [ 7, 2,10, 2, 7, 4, 9, 4, 9, 8 ] \n",
    "```\n",
    "\n",
    "Utilizando **List Comprehension**, crie uma lista de resposta que irá conter os ÍNDICES dos valores que forem iguais em abas as listas.\n",
    "\n",
    "```python\n",
    "resposta = [ 1, 3, 5, 7 ]\n",
    "```"
   ]
  },
  {
   "cell_type": "markdown",
   "id": "719448b9",
   "metadata": {},
   "source": [
    "## Resolução"
   ]
  },
  {
   "cell_type": "code",
   "execution_count": 3,
   "id": "a580e662",
   "metadata": {
    "ExecuteTime": {
     "end_time": "2021-11-02T12:54:29.450524Z",
     "start_time": "2021-11-02T12:54:29.448608Z"
    }
   },
   "outputs": [],
   "source": [
    "# Resolução aqui\n"
   ]
  },
  {
   "cell_type": "markdown",
   "id": "fa4cf33b",
   "metadata": {},
   "source": [
    "# EXERCÍCIO 2"
   ]
  },
  {
   "cell_type": "markdown",
   "id": "1dc1dae8",
   "metadata": {},
   "source": [
    "## Problema"
   ]
  },
  {
   "cell_type": "markdown",
   "id": "b977366f",
   "metadata": {
    "ExecuteTime": {
     "end_time": "2021-10-29T15:41:57.821363Z",
     "start_time": "2021-10-29T15:41:57.817790Z"
    }
   },
   "source": [
    "Dados 4 números inteiros: ***x***, ***y*** e ***z***, que representam as dimensões de um cubo (altura, largura e comprimento), e ***n***, crie uma lista que conterá todos os possíveis valores de [***x***, ***y***, ***z***], onde a soma de ***x***, ***y*** e ***z*** não seja igual ao número ***n***.\n",
    "\n",
    "### Restrições\n",
    "\n",
    "***x >= 0***  \n",
    "***y >= 0***  \n",
    "***z >= 0***  \n",
    "***n >= 0***  \n",
    "\n",
    "Utilize **List Comprehensions** para criar a lista com as respostas.\n",
    "\n",
    "### Exemplo\n",
    "#### Entrada de Dados\n",
    "\n",
    "***x = 1***  \n",
    "***y = 1***  \n",
    "***z = 2***  \n",
    "***n = 3*** \n",
    "\n",
    "Todas as combinações possíveis para [***x***, ***y***, ***z***] são:\n",
    "```python\n",
    "[\n",
    "    [0,0,0],[0,0,1],[0,0,2],[0,1,0],[0,1,1],[0,1,2],[1,0,0],[1,0,1],[1,1,0],[1,1,1],[1,1,2]\n",
    "]\n",
    "```\n",
    "\n",
    "Somente os elementos onde a soma de ***x*** + ***y*** + ***z*** não seja igual a ***n*** (***n = 3***):\n",
    "```python\n",
    "[\n",
    "    [0,0,0],[0,0,1],[0,0,2],[0,1,0],[0,1,1],[1,0,0],[1,0,1],[1,1,0],[1,1,2]\n",
    "]\n",
    "```"
   ]
  },
  {
   "cell_type": "markdown",
   "id": "2c84a65f",
   "metadata": {
    "ExecuteTime": {
     "end_time": "2021-10-29T15:41:57.950042Z",
     "start_time": "2021-10-29T15:41:57.946603Z"
    }
   },
   "source": [
    "## Resolução"
   ]
  },
  {
   "cell_type": "code",
   "execution_count": 5,
   "id": "e4735880",
   "metadata": {
    "ExecuteTime": {
     "end_time": "2021-11-02T13:09:23.611749Z",
     "start_time": "2021-11-02T13:09:23.609508Z"
    }
   },
   "outputs": [],
   "source": [
    "# Resolução Aqui\n"
   ]
  }
 ],
 "metadata": {
  "kernelspec": {
   "display_name": "Python 3.8.12 64-bit ('pa005-3.8.12': pyenv)",
   "language": "python",
   "name": "python3812jvsc74a57bd0d1aaed0d54c5633c6e9d372bf4c47f0b42d9789d909d3d6d555bb4fdc739c330"
  },
  "language_info": {
   "codemirror_mode": {
    "name": "ipython",
    "version": 3
   },
   "file_extension": ".py",
   "mimetype": "text/x-python",
   "name": "python",
   "nbconvert_exporter": "python",
   "pygments_lexer": "ipython3",
   "version": "3.8.12"
  },
  "latex_envs": {
   "LaTeX_envs_menu_present": true,
   "autoclose": false,
   "autocomplete": true,
   "bibliofile": "biblio.bib",
   "cite_by": "apalike",
   "current_citInitial": 1,
   "eqLabelWithNumbers": true,
   "eqNumInitial": 1,
   "hotkeys": {
    "equation": "Ctrl-E",
    "itemize": "Ctrl-I"
   },
   "labels_anchors": false,
   "latex_user_defs": false,
   "report_style_numbering": false,
   "user_envs_cfg": false
  }
 },
 "nbformat": 4,
 "nbformat_minor": 5
}
