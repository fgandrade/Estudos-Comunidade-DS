{
 "cells": [
  {
   "cell_type": "markdown",
   "id": "3b31edc0",
   "metadata": {},
   "source": [
    "# EXERCÍCIO 1"
   ]
  },
  {
   "cell_type": "markdown",
   "id": "96a0f0d7",
   "metadata": {},
   "source": [
    "## Problema"
   ]
  },
  {
   "cell_type": "markdown",
   "id": "e9e8107f",
   "metadata": {
    "ExecuteTime": {
     "end_time": "2021-09-23T01:15:31.266217Z",
     "start_time": "2021-09-23T01:15:31.260904Z"
    }
   },
   "source": [
    "Crie uma função chamada `cadastro` que receba dois parâmetros: A quantidade de pessoas que serão cadastradas (obrigatório) e a antiga lista de pessoas (opcional).\n",
    "\n",
    "A função deverá inserir na lista a nova quantidade de pessoas. Se a lista anterior não for passada, deve-se criar uma nova lista somente com as nova pessoas cadastradas.\n",
    "\n",
    "Cada elemento da lista de pessoas deve ser um dicionário que cotenha as seguintes chaves:\n",
    "\n",
    "* nome\n",
    "* idade\n",
    "* altura\n",
    "* casado\n",
    "\n",
    "A chave `nome` deve conter como conteúdo o nome da pessoa; A chave `idade` deve conter como conteúdo a idade da pessoa; A chave `altura` deve conter a altura da pessoa; A chave `casado` deve conter True/False, dependendo se a pessoa é ou não casada.\n",
    "\n",
    "A estrutura da lista deve ser a seguinte:\n",
    "\n",
    "```python\n",
    "[\n",
    "    {'nome': 'Pedro', 'idade': 32, 'altura': 1.83, 'casado': True},\n",
    "    .\n",
    "    . # Outros elementos da lista.\n",
    "    .\n",
    "    {'nome': 'Guilherme', 'idade': 23, 'altura': 1.79, 'casado': False},\n",
    "]\n",
    "```"
   ]
  },
  {
   "cell_type": "markdown",
   "id": "719448b9",
   "metadata": {},
   "source": [
    "## Resolução"
   ]
  },
  {
   "cell_type": "code",
   "execution_count": 7,
   "id": "362e182c",
   "metadata": {
    "ExecuteTime": {
     "end_time": "2021-10-29T20:30:16.724817Z",
     "start_time": "2021-10-29T20:30:16.722640Z"
    }
   },
   "outputs": [],
   "source": [
    "def cadastro(qtd_pessoas, pessoas = None):\n",
    "    \n",
    "    # Verifica se a a lista de pesoas é vazia\n",
    "    if not(pessoas):\n",
    "        # Se for vazia, cria uma nova lista vazia\n",
    "        pessoas = list()\n",
    "    \n",
    "    \n",
    "    for n in range(qtd_pessoas):"
   ]
  },
  {
   "cell_type": "code",
   "execution_count": null,
   "id": "29ad894c",
   "metadata": {},
   "outputs": [],
   "source": []
  },
  {
   "cell_type": "code",
   "execution_count": 8,
   "id": "5d95f9c4",
   "metadata": {
    "ExecuteTime": {
     "end_time": "2021-10-29T20:30:17.420819Z",
     "start_time": "2021-10-29T20:30:17.415131Z"
    }
   },
   "outputs": [
    {
     "name": "stdout",
     "output_type": "stream",
     "text": [
      "<class 'list'>\n",
      "[]\n"
     ]
    }
   ],
   "source": [
    "cadastro(2)"
   ]
  },
  {
   "cell_type": "code",
   "execution_count": null,
   "id": "d82115b7",
   "metadata": {},
   "outputs": [],
   "source": []
  },
  {
   "cell_type": "code",
   "execution_count": null,
   "id": "e1d8928d",
   "metadata": {},
   "outputs": [],
   "source": []
  },
  {
   "cell_type": "code",
   "execution_count": null,
   "id": "e1687577",
   "metadata": {},
   "outputs": [],
   "source": []
  },
  {
   "cell_type": "markdown",
   "id": "fa4cf33b",
   "metadata": {},
   "source": [
    "# EXERCÍCIO 2"
   ]
  },
  {
   "cell_type": "markdown",
   "id": "331094a7",
   "metadata": {},
   "source": [
    "## Problema"
   ]
  },
  {
   "cell_type": "markdown",
   "id": "ef44ea29",
   "metadata": {
    "ExecuteTime": {
     "end_time": "2021-10-29T15:41:57.821363Z",
     "start_time": "2021-10-29T15:41:57.817790Z"
    }
   },
   "source": [
    "Crie uma função chamada `métricas` que receba a lista gerada no exercício passado e cálcule as seguintes métricas:\n",
    "\n",
    "* Média das idades\n",
    "* A maior idade\n",
    "* A menor idade\n",
    "* Percentagem dos não casado e dos casado\n",
    "* Quantos elementos da lista possuem o nome que inicia com a letra 'P'\n",
    "\n",
    "A lista que será utilizada nessa função deve conter ao menos 10 elementos.\n",
    "\n",
    "As respostas devem seguir o seguinte padrão:\n",
    "\n",
    "```\n",
    "A média das idade é = 32\n",
    "A maior idade é = 80\n",
    "A menor idade é = 15\n",
    "A porcentagem de casodos é de 45% para 55% de não casado\n",
    "Existem 3 elementos que começam a letra 'P' na lista\n",
    "```"
   ]
  },
  {
   "cell_type": "markdown",
   "id": "305e0874",
   "metadata": {
    "ExecuteTime": {
     "end_time": "2021-10-29T15:41:57.950042Z",
     "start_time": "2021-10-29T15:41:57.946603Z"
    },
    "heading_collapsed": true
   },
   "source": [
    "## Resolução"
   ]
  },
  {
   "cell_type": "code",
   "execution_count": null,
   "id": "dff8fb80",
   "metadata": {
    "hidden": true
   },
   "outputs": [],
   "source": []
  }
 ],
 "metadata": {
  "kernelspec": {
   "display_name": "Python 3.8.11 64-bit ('3.8.11': pyenv)",
   "language": "python",
   "name": "python3811jvsc74a57bd016c98fcc13804c079c0e605033a1ae10a459b3686638e04aa6e2e124f32781c0"
  },
  "language_info": {
   "codemirror_mode": {
    "name": "ipython",
    "version": 3
   },
   "file_extension": ".py",
   "mimetype": "text/x-python",
   "name": "python",
   "nbconvert_exporter": "python",
   "pygments_lexer": "ipython3",
   "version": "3.8.11"
  },
  "latex_envs": {
   "LaTeX_envs_menu_present": true,
   "autoclose": false,
   "autocomplete": true,
   "bibliofile": "biblio.bib",
   "cite_by": "apalike",
   "current_citInitial": 1,
   "eqLabelWithNumbers": true,
   "eqNumInitial": 1,
   "hotkeys": {
    "equation": "Ctrl-E",
    "itemize": "Ctrl-I"
   },
   "labels_anchors": false,
   "latex_user_defs": false,
   "report_style_numbering": false,
   "user_envs_cfg": false
  }
 },
 "nbformat": 4,
 "nbformat_minor": 5
}
