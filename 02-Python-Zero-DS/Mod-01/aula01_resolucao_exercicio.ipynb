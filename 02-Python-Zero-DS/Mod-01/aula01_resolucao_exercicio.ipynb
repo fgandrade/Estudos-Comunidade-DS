{
 "cells": [
  {
   "cell_type": "markdown",
   "metadata": {},
   "source": [
    "# Aula 01 - Resolução dos Exercícios\n",
    "\n",
    "## Novas perguntas do CEO para vocês\n",
    "1. Quantas casas estão disponíveis para compra?\n",
    "2. Quantos atributos as casas possuem?\n",
    "3. Quais são os atributos das casas?\n",
    "4. Qual a casa mais cara ( casa com o maior valor de venda )?\n",
    "5. Qual a casa com o maior número de quartos?\n",
    "\n",
    "6. Qual a soma total de quartos do conjunto de dados?\n",
    "7. Quantas casas possuem 2 banheiros?\n",
    "8. Qual o preço médio de todas as casas no conjunto de dados?\n",
    "9. Qual o preço médio de casas com 2 banheiros?\n",
    "10. Qual o preço mínimo entre as casas com 3 quartos?\n",
    "\n",
    "11. Quantas casas possuem mais de 300 metros quadrados na sala de estar?\n",
    "12. Quantas casas tem mais de 2 andares?\n",
    "13. Quantas casas tem vista para o mar?\n",
    "14. Das casas com vista para o mar, quantas tem 3 quartos?\n",
    "15. Das casas com mais de 300 metros quadrados de sala de estar, quantas tem mais de 2 banheiros?\n"
   ]
  },
  {
   "cell_type": "markdown",
   "metadata": {},
   "source": [
    "# Resolução"
   ]
  },
  {
   "cell_type": "markdown",
   "metadata": {},
   "source": [
    "## Import Libraries"
   ]
  },
  {
   "cell_type": "code",
   "execution_count": 4,
   "metadata": {
    "ExecuteTime": {
     "end_time": "2021-02-27T17:40:21.017412Z",
     "start_time": "2021-02-27T17:40:21.013094Z"
    }
   },
   "outputs": [],
   "source": [
    "import numpy  as np\n",
    "import pandas as pd\n",
    "import seaborn as sns\n",
    "\n",
    "from matplotlib import pyplot as plt\n",
    "import plotly.express as px"
   ]
  },
  {
   "cell_type": "code",
   "execution_count": 5,
   "metadata": {
    "ExecuteTime": {
     "end_time": "2021-02-27T17:40:24.760804Z",
     "start_time": "2021-02-27T17:40:24.757994Z"
    }
   },
   "outputs": [],
   "source": [
    "# Supress Scientific Notation\n",
    "np.set_printoptions(suppress=True)\n",
    "pd.set_option('display.float_format', '{:.2f}'.format)"
   ]
  },
  {
   "cell_type": "markdown",
   "metadata": {},
   "source": [
    "## Loading Data"
   ]
  },
  {
   "cell_type": "code",
   "execution_count": 21,
   "metadata": {
    "ExecuteTime": {
     "end_time": "2021-02-27T17:45:50.889261Z",
     "start_time": "2021-02-27T17:45:50.839816Z"
    }
   },
   "outputs": [],
   "source": [
    "# loading data into memory\n",
    "data = pd.read_csv( '../kc_house_data.csv' )"
   ]
  },
  {
   "cell_type": "markdown",
   "metadata": {},
   "source": [
    "## 1. Quantas casas estão disponíveis para compra?"
   ]
  },
  {
   "cell_type": "code",
   "execution_count": 22,
   "metadata": {
    "ExecuteTime": {
     "end_time": "2021-02-27T17:45:56.933305Z",
     "start_time": "2021-02-27T17:45:56.927789Z"
    }
   },
   "outputs": [
    {
     "name": "stdout",
     "output_type": "stream",
     "text": [
      "Estão disponíveis 21436 imóveis\n"
     ]
    }
   ],
   "source": [
    "# Eu vou considerar que a coluna \"id\" representa a identificação única do imóvel\n",
    "num_houses_unique = data['id'].nunique()\n",
    "\n",
    "# Resultado\n",
    "print( 'Estão disponíveis {} imóveis'.format( num_houses_unique ) )"
   ]
  },
  {
   "cell_type": "markdown",
   "metadata": {},
   "source": [
    "## 2. Quantos atributos as casas possuem?"
   ]
  },
  {
   "cell_type": "code",
   "execution_count": 27,
   "metadata": {
    "ExecuteTime": {
     "end_time": "2021-02-27T17:47:38.766184Z",
     "start_time": "2021-02-27T17:47:38.762637Z"
    }
   },
   "outputs": [
    {
     "name": "stdout",
     "output_type": "stream",
     "text": [
      "Os imóveis posseum 19 atributos\n"
     ]
    }
   ],
   "source": [
    "# O numero de colunas representam os atributos do apartamento.\n",
    "# id e date - não são atributos do apartamento\n",
    "num_attributes = len( data.columns ) - 2\n",
    "\n",
    "# Resultado\n",
    "print( 'Os imóveis posseum {} atributos'. format( num_attributes ) )"
   ]
  },
  {
   "cell_type": "markdown",
   "metadata": {},
   "source": [
    "## 3. Quais são os atributos das casas?"
   ]
  },
  {
   "cell_type": "code",
   "execution_count": 29,
   "metadata": {
    "ExecuteTime": {
     "end_time": "2021-02-27T17:49:35.295730Z",
     "start_time": "2021-02-27T17:49:35.289753Z"
    }
   },
   "outputs": [
    {
     "name": "stdout",
     "output_type": "stream",
     "text": [
      "['price', 'bedrooms', 'bathrooms', 'sqft_living', 'sqft_lot', 'floors', 'waterfront', 'view', 'condition', 'grade', 'sqft_above', 'sqft_basement', 'yr_built', 'yr_renovated', 'zipcode', 'lat', 'long', 'sqft_living15', 'sqft_lot15']\n"
     ]
    }
   ],
   "source": [
    "# Strategia: Excluir as colunas \"id\", \"date\" e mostrar os atributos restantes\n",
    "df = data.drop( ['id', 'date'], axis=1 )\n",
    "print( df.columns.tolist() )"
   ]
  },
  {
   "cell_type": "markdown",
   "metadata": {},
   "source": [
    "## 4. Qual a casa mais cara ( casa com o maior valor de venda )?"
   ]
  },
  {
   "cell_type": "code",
   "execution_count": 56,
   "metadata": {
    "ExecuteTime": {
     "end_time": "2021-02-27T17:59:54.093921Z",
     "start_time": "2021-02-27T17:59:54.084575Z"
    }
   },
   "outputs": [
    {
     "name": "stdout",
     "output_type": "stream",
     "text": [
      "Most expensive house: 7129300520\n"
     ]
    }
   ],
   "source": [
    "# Stratégia: Selecionar a coluna \"id\", \"price\", ordenar as casas pela coluna \"price\" em ordem decrescente e \n",
    "#   escolher o imóvel do primeiro id.\n",
    "house_expensive = data[['id', 'price']].sort_values( 'price', ascending=False ).loc[0,'id']\n",
    "\n",
    "print( 'Most expensive house: {}'.format( house_expensive ) )"
   ]
  },
  {
   "cell_type": "markdown",
   "metadata": {},
   "source": [
    "## 5. Qual a casa com o maior número de quartos?"
   ]
  },
  {
   "cell_type": "code",
   "execution_count": 58,
   "metadata": {
    "ExecuteTime": {
     "end_time": "2021-02-27T18:00:44.051656Z",
     "start_time": "2021-02-27T18:00:44.044669Z"
    }
   },
   "outputs": [
    {
     "name": "stdout",
     "output_type": "stream",
     "text": [
      "House with biggest number of bedrooms: 2402100895\n"
     ]
    }
   ],
   "source": [
    "# Estratégia:\n",
    "# 1. Selecionar a coluna \"id\", \"bedroom\"\n",
    "# 2. Ordenar os imóveis pelo numero de quartos de ordem decrescente\n",
    "# 3. Selecionar a primeira coluna \"id\"\n",
    "\n",
    "df = data[['id', 'bedrooms']].sort_values( 'bedrooms', ascending=False )\n",
    "\n",
    "print( 'House with biggest number of bedrooms: {}'.format( df.iloc[0, 0] ) )"
   ]
  },
  {
   "cell_type": "markdown",
   "metadata": {},
   "source": [
    "## 6. Qual a soma total de quartos do conjunto de dados?"
   ]
  },
  {
   "cell_type": "code",
   "execution_count": 61,
   "metadata": {
    "ExecuteTime": {
     "end_time": "2021-02-27T18:01:54.383242Z",
     "start_time": "2021-02-27T18:01:54.380224Z"
    }
   },
   "outputs": [
    {
     "name": "stdout",
     "output_type": "stream",
     "text": [
      "Total sum of bedrooms: 72854\n"
     ]
    }
   ],
   "source": [
    "# Estratégia:\n",
    "# 1. Somar a coluna \"bedrooms\"\n",
    "print( 'Total sum of bedrooms: {}'.format( data['bedrooms'].sum() ) )"
   ]
  },
  {
   "cell_type": "markdown",
   "metadata": {},
   "source": [
    "## 7. Quantas casas possuem 2 banheiros?"
   ]
  },
  {
   "cell_type": "code",
   "execution_count": 68,
   "metadata": {
    "ExecuteTime": {
     "end_time": "2021-02-27T18:06:04.004669Z",
     "start_time": "2021-02-27T18:06:03.999316Z"
    }
   },
   "outputs": [
    {
     "name": "stdout",
     "output_type": "stream",
     "text": [
      "Total number of houses with 2 bathrooms: 1930\n"
     ]
    }
   ],
   "source": [
    "# Estratégia:\n",
    "# 1. Filtrar linhas (imóveis) que possuem 2 banheiros.\n",
    "# 2. Contar o número de linhas do dataset\n",
    "\n",
    "df = data.loc[data['bathrooms'] == 2, :]\n",
    "num_houses = len( df )\n",
    "\n",
    "print( 'Total number of houses with 2 bathrooms: {}'.format( num_houses ) )"
   ]
  },
  {
   "cell_type": "markdown",
   "metadata": {},
   "source": [
    "## 8. Qual o preço médio de todas as casas no conjunto de dados?"
   ]
  },
  {
   "cell_type": "code",
   "execution_count": 72,
   "metadata": {
    "ExecuteTime": {
     "end_time": "2021-02-27T18:07:35.713104Z",
     "start_time": "2021-02-27T18:07:35.709085Z"
    }
   },
   "outputs": [
    {
     "name": "stdout",
     "output_type": "stream",
     "text": [
      "Average Price: $540088.14\n"
     ]
    }
   ],
   "source": [
    "# Estratégia:\n",
    "# 1. Calcular o preço médio da coluna \"price\"\n",
    "avg_price = np.round( data['price'].mean(), 2 )\n",
    "\n",
    "print( 'Average Price: ${}'.format( avg_price ) )"
   ]
  },
  {
   "cell_type": "markdown",
   "metadata": {},
   "source": [
    "## 9. Qual o preço médio de casas com 2 banheiros?"
   ]
  },
  {
   "cell_type": "code",
   "execution_count": 94,
   "metadata": {
    "ExecuteTime": {
     "end_time": "2021-02-27T18:19:29.137811Z",
     "start_time": "2021-02-27T18:19:29.133464Z"
    }
   },
   "outputs": [
    {
     "name": "stdout",
     "output_type": "stream",
     "text": [
      "Average Price: $457889.72\n"
     ]
    }
   ],
   "source": [
    "# Estratégia:\n",
    "# 1. Selecionar imóveis com 2 banheiros.\n",
    "# 2. Calcular o preço médio da coluna \"price\" do novo conjunto de dados\n",
    "\n",
    "avg_price = np.round( data.loc[data['bathrooms'] == 2, 'price'].mean(), 2 )\n",
    "\n",
    "print( 'Average Price: ${}'.format( avg_price ) )"
   ]
  },
  {
   "cell_type": "markdown",
   "metadata": {},
   "source": [
    "## 10. Qual o preço mínimo entre as casas com 3 quartos?"
   ]
  },
  {
   "cell_type": "code",
   "execution_count": 93,
   "metadata": {
    "ExecuteTime": {
     "end_time": "2021-02-27T18:19:25.289954Z",
     "start_time": "2021-02-27T18:19:25.284907Z"
    }
   },
   "outputs": [
    {
     "name": "stdout",
     "output_type": "stream",
     "text": [
      "Min Price: $82000.0\n"
     ]
    }
   ],
   "source": [
    "# Estratégia:\n",
    "# 1. Selecionar imóveis com 3 bathrooms.\n",
    "# 2. Calcular o menor preço da coluna \"price\" do novo conjunto de dados\n",
    "\n",
    "min_price = np.round( data.loc[data['bedrooms'] == 3, 'price'].min(), 2 )\n",
    "\n",
    "print( 'Min Price: ${}'.format( min_price ) )"
   ]
  },
  {
   "cell_type": "markdown",
   "metadata": {},
   "source": [
    "## 11. Quantas casas possuem mais de 300 metros quadrados na sala de estar?"
   ]
  },
  {
   "cell_type": "code",
   "execution_count": 92,
   "metadata": {
    "ExecuteTime": {
     "end_time": "2021-02-27T18:19:21.004303Z",
     "start_time": "2021-02-27T18:19:20.999203Z"
    }
   },
   "outputs": [
    {
     "name": "stdout",
     "output_type": "stream",
     "text": [
      "There are 21612 Houses with living room grater than 300 square foot\n"
     ]
    }
   ],
   "source": [
    "# Estratégia:\n",
    "# 1. Selecionar imóveis com mais de 300 sqft_living.\n",
    "# 2. Contar o número de imóveis nesse novo conjunto de dados.\n",
    "\n",
    "houses = data.loc[data['sqft_living'] > 300, 'id'].shape[0]\n",
    "\n",
    "print( 'There are {} Houses with living room grater than 300 square foot'.format( houses ) )"
   ]
  },
  {
   "cell_type": "markdown",
   "metadata": {},
   "source": [
    "## 12. Quantas casas tem mais de 2 andares?"
   ]
  },
  {
   "cell_type": "code",
   "execution_count": 91,
   "metadata": {
    "ExecuteTime": {
     "end_time": "2021-02-27T18:19:16.149277Z",
     "start_time": "2021-02-27T18:19:16.143584Z"
    }
   },
   "outputs": [
    {
     "name": "stdout",
     "output_type": "stream",
     "text": [
      "There are 782 Houses with the number of floors grater than 2\n"
     ]
    }
   ],
   "source": [
    "# Estratégia:\n",
    "# 1. Selecionar imóveis com a coluna 'floors' maior que 2.\n",
    "# 2. Contar o número de imóveis nesse novo conjunto de dados.\n",
    "\n",
    "houses = data.loc[data['floors'] > 2, 'id'].shape[0]\n",
    "\n",
    "print( 'There are {} Houses with the number of floors grater than 2'.format( houses ) )"
   ]
  },
  {
   "cell_type": "markdown",
   "metadata": {},
   "source": [
    "## 13. Quantas casas tem vista para o mar?"
   ]
  },
  {
   "cell_type": "code",
   "execution_count": 95,
   "metadata": {
    "ExecuteTime": {
     "end_time": "2021-02-27T18:19:43.496510Z",
     "start_time": "2021-02-27T18:19:43.490114Z"
    }
   },
   "outputs": [
    {
     "name": "stdout",
     "output_type": "stream",
     "text": [
      "There are 10680 Houses with the number of floors grater than 2\n"
     ]
    }
   ],
   "source": [
    "# Estratégia:\n",
    "# 1. Selecionar imóveis com a coluna 'waterfront' igual a 1.\n",
    "# 2. Contar o número de imóveis nesse novo conjunto de dados.\n",
    "\n",
    "houses = data.loc[data['floors'] == 1, 'id'].shape[0]\n",
    "\n",
    "print( 'There are {} Houses with the number of floors grater than 2'.format( houses ) )"
   ]
  },
  {
   "cell_type": "markdown",
   "metadata": {},
   "source": [
    "## 14. Das casas com vista para o mar, quantas tem 3 quartos?"
   ]
  },
  {
   "cell_type": "code",
   "execution_count": 97,
   "metadata": {
    "ExecuteTime": {
     "end_time": "2021-02-27T18:21:29.535697Z",
     "start_time": "2021-02-27T18:21:29.530323Z"
    }
   },
   "outputs": [
    {
     "name": "stdout",
     "output_type": "stream",
     "text": [
      "There are 127 Houses with waterfront and bedrooms greater then 3\n"
     ]
    }
   ],
   "source": [
    "# Estratégia:\n",
    "# 1. Selecionar imóveis com a coluna 'waterfront' igual a 1 e a coluna 'bedrooms' maior que 3.\n",
    "# 2. Contar o número de imóveis nesse novo conjunto de dados.\n",
    "\n",
    "houses = data.loc[(data['waterfront'] == 1) & (data['bedrooms'] > 2), 'id'].shape[0]\n",
    "\n",
    "print( 'There are {} Houses with waterfront and bedrooms greater then 3'.format( houses ) )"
   ]
  },
  {
   "cell_type": "markdown",
   "metadata": {},
   "source": [
    "## 15. Das casas com mais de 300 metros quadrados de sala de estar, quantas tem mais de 2 banheiros?"
   ]
  },
  {
   "cell_type": "code",
   "execution_count": 99,
   "metadata": {
    "ExecuteTime": {
     "end_time": "2021-02-27T18:23:30.622749Z",
     "start_time": "2021-02-27T18:23:30.615882Z"
    }
   },
   "outputs": [
    {
     "name": "stdout",
     "output_type": "stream",
     "text": [
      "There are 11242 Houses with living room greater than 300 and bathrooms bigger than 2\n"
     ]
    }
   ],
   "source": [
    "# Estratégia:\n",
    "# 1. Selecionar imóveis com a coluna 'sqft_living' maior que 300 e a coluna 'bathrooms' maior que 2.\n",
    "# 2. Contar o número de imóveis nesse novo conjunto de dados.\n",
    "\n",
    "houses = data.loc[(data['sqft_living'] > 300) & (data['bathrooms'] > 2), 'id'].shape[0]\n",
    "\n",
    "print( 'There are {} Houses with living room greater than 300 and bathrooms bigger than 2'.format( houses ) )"
   ]
  },
  {
   "cell_type": "code",
   "execution_count": null,
   "metadata": {},
   "outputs": [],
   "source": []
  }
 ],
 "metadata": {
  "kernelspec": {
   "display_name": "Python 3 (ipykernel)",
   "language": "python",
   "name": "python3"
  },
  "language_info": {
   "codemirror_mode": {
    "name": "ipython",
    "version": 3
   },
   "file_extension": ".py",
   "mimetype": "text/x-python",
   "name": "python",
   "nbconvert_exporter": "python",
   "pygments_lexer": "ipython3",
   "version": "3.9.7"
  },
  "toc": {
   "base_numbering": 1,
   "nav_menu": {},
   "number_sections": true,
   "sideBar": true,
   "skip_h1_title": false,
   "title_cell": "Table of Contents",
   "title_sidebar": "Contents",
   "toc_cell": false,
   "toc_position": {},
   "toc_section_display": true,
   "toc_window_display": false
  },
  "varInspector": {
   "cols": {
    "lenName": 16,
    "lenType": 16,
    "lenVar": 40
   },
   "kernels_config": {
    "python": {
     "delete_cmd_postfix": "",
     "delete_cmd_prefix": "del ",
     "library": "var_list.py",
     "varRefreshCmd": "print(var_dic_list())"
    },
    "r": {
     "delete_cmd_postfix": ") ",
     "delete_cmd_prefix": "rm(",
     "library": "var_list.r",
     "varRefreshCmd": "cat(var_dic_list()) "
    }
   },
   "types_to_exclude": [
    "module",
    "function",
    "builtin_function_or_method",
    "instance",
    "_Feature"
   ],
   "window_display": false
  }
 },
 "nbformat": 4,
 "nbformat_minor": 4
}
