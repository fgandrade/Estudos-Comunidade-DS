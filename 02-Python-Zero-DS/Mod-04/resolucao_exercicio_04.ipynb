{
 "cells": [
  {
   "cell_type": "markdown",
   "id": "daa0613f",
   "metadata": {},
   "source": [
    "## Respondendo novas perguntas do CEO"
   ]
  },
  {
   "cell_type": "markdown",
   "id": "d8c1f0d6",
   "metadata": {},
   "source": [
    "Dataset disponível em: https://www.kaggle.com/harlfoxem/housesalesprediction"
   ]
  },
  {
   "cell_type": "markdown",
   "id": "07ecb412",
   "metadata": {},
   "source": [
    "1. Qual a média do preço de compra dos imóveis por \"Nível\"?\n",
    "    - Nível 0 -> Preço entre 0 e 321.950\n",
    "    - Nível 1 -> Preço entre 321.950 e 450.000\n",
    "    - Nível 2 -> Preço entre 450.000 e 645.000\n",
    "    - Nível 3 -> Acima de 645.000"
   ]
  },
  {
   "cell_type": "code",
   "execution_count": 1,
   "id": "8fc9f61e",
   "metadata": {
    "ExecuteTime": {
     "end_time": "2022-04-23T16:18:34.451786Z",
     "start_time": "2022-04-23T16:18:33.089494Z"
    }
   },
   "outputs": [
    {
     "data": {
      "text/html": [
       "<div>\n",
       "<style scoped>\n",
       "    .dataframe tbody tr th:only-of-type {\n",
       "        vertical-align: middle;\n",
       "    }\n",
       "\n",
       "    .dataframe tbody tr th {\n",
       "        vertical-align: top;\n",
       "    }\n",
       "\n",
       "    .dataframe thead th {\n",
       "        text-align: right;\n",
       "    }\n",
       "</style>\n",
       "<table border=\"1\" class=\"dataframe\">\n",
       "  <thead>\n",
       "    <tr style=\"text-align: right;\">\n",
       "      <th></th>\n",
       "      <th>level</th>\n",
       "      <th>price</th>\n",
       "    </tr>\n",
       "  </thead>\n",
       "  <tbody>\n",
       "    <tr>\n",
       "      <th>0</th>\n",
       "      <td>0</td>\n",
       "      <td>251557.65</td>\n",
       "    </tr>\n",
       "    <tr>\n",
       "      <th>1</th>\n",
       "      <td>1</td>\n",
       "      <td>385688.68</td>\n",
       "    </tr>\n",
       "    <tr>\n",
       "      <th>2</th>\n",
       "      <td>2</td>\n",
       "      <td>539730.96</td>\n",
       "    </tr>\n",
       "    <tr>\n",
       "      <th>3</th>\n",
       "      <td>3</td>\n",
       "      <td>987540.22</td>\n",
       "    </tr>\n",
       "  </tbody>\n",
       "</table>\n",
       "</div>"
      ],
      "text/plain": [
       "   level     price\n",
       "0      0 251557.65\n",
       "1      1 385688.68\n",
       "2      2 539730.96\n",
       "3      3 987540.22"
      ]
     },
     "execution_count": 1,
     "metadata": {},
     "output_type": "execute_result"
    }
   ],
   "source": [
    "# Importando bibliotecas\n",
    "import pandas as pd\n",
    "pd.set_option('display.float_format', lambda x: '%.2f' % x)\n",
    "\n",
    "# Carregando dataset\n",
    "df = pd.read_csv('datasets/kc_house_data.csv')\n",
    "\n",
    "df['level'] = df['price'].apply(lambda x: 0 if x <= 321950 else\n",
    "                            1 if (x > 321950) & (x <= 450000) else\n",
    "                            2 if (x > 450000) & (x <= 645000) else\n",
    "                            3)\n",
    "df['level'] = df['level'].astype(int)\n",
    "\n",
    "df[['price', 'level']].groupby('level').mean().reset_index()"
   ]
  },
  {
   "cell_type": "markdown",
   "id": "7ed674ce",
   "metadata": {},
   "source": [
    "2. Qual a média do tamanho da sala de estar dos imóveis por \"Size\"?\n",
    "    - Size 0 -> Tamanho entre 0 e 1427 sqft\n",
    "    - Size 1 -> Tamanho entre 1427 e 1910 sqft\n",
    "    - Size 2 -> Tamanho entre 1910 e 2550 sqft\n",
    "    - Size 3 -> Acima de 2550 sqft"
   ]
  },
  {
   "cell_type": "code",
   "execution_count": 2,
   "id": "4a4a544e",
   "metadata": {
    "ExecuteTime": {
     "end_time": "2022-04-23T16:18:34.613689Z",
     "start_time": "2022-04-23T16:18:34.465784Z"
    }
   },
   "outputs": [
    {
     "data": {
      "text/html": [
       "<div>\n",
       "<style scoped>\n",
       "    .dataframe tbody tr th:only-of-type {\n",
       "        vertical-align: middle;\n",
       "    }\n",
       "\n",
       "    .dataframe tbody tr th {\n",
       "        vertical-align: top;\n",
       "    }\n",
       "\n",
       "    .dataframe thead th {\n",
       "        text-align: right;\n",
       "    }\n",
       "</style>\n",
       "<table border=\"1\" class=\"dataframe\">\n",
       "  <thead>\n",
       "    <tr style=\"text-align: right;\">\n",
       "      <th></th>\n",
       "      <th>size</th>\n",
       "      <th>sqft_living</th>\n",
       "    </tr>\n",
       "  </thead>\n",
       "  <tbody>\n",
       "    <tr>\n",
       "      <th>0</th>\n",
       "      <td>0</td>\n",
       "      <td>1123.83</td>\n",
       "    </tr>\n",
       "    <tr>\n",
       "      <th>1</th>\n",
       "      <td>1</td>\n",
       "      <td>1664.96</td>\n",
       "    </tr>\n",
       "    <tr>\n",
       "      <th>2</th>\n",
       "      <td>2</td>\n",
       "      <td>2211.79</td>\n",
       "    </tr>\n",
       "    <tr>\n",
       "      <th>3</th>\n",
       "      <td>3</td>\n",
       "      <td>3329.61</td>\n",
       "    </tr>\n",
       "  </tbody>\n",
       "</table>\n",
       "</div>"
      ],
      "text/plain": [
       "   size  sqft_living\n",
       "0     0      1123.83\n",
       "1     1      1664.96\n",
       "2     2      2211.79\n",
       "3     3      3329.61"
      ]
     },
     "execution_count": 2,
     "metadata": {},
     "output_type": "execute_result"
    }
   ],
   "source": [
    "df['size'] = df['sqft_living'].apply(lambda x: 0 if x <= 1427 else\n",
    "                                1 if(x > 1427) & (x <= 1910) else\n",
    "                                2 if(x > 1910) & (x <= 2550) else\n",
    "                                3)\n",
    "df['size'] = df['size'].astype(int)\n",
    "\n",
    "df[['sqft_living', 'size']].groupby('size').mean().reset_index()"
   ]
  },
  {
   "cell_type": "markdown",
   "id": "4b9ee4b9",
   "metadata": {},
   "source": [
    "3. Adicione as seguintes informações ao conjunto de dados original:\n",
    "    - Place ID: Identificação da localização\n",
    "    - OSM Type: Open Street Map Type\n",
    "    - Country: Nome do País\n",
    "    - Country Code: Código do País"
   ]
  },
  {
   "cell_type": "code",
   "execution_count": 3,
   "id": "aa1be9d0",
   "metadata": {
    "ExecuteTime": {
     "end_time": "2022-04-23T16:18:35.906737Z",
     "start_time": "2022-04-23T16:18:34.626411Z"
    },
    "scrolled": true
   },
   "outputs": [
    {
     "data": {
      "text/plain": [
       "{'place_id': 158810523,\n",
       " 'licence': 'Data © OpenStreetMap contributors, ODbL 1.0. https://osm.org/copyright',\n",
       " 'osm_type': 'way',\n",
       " 'osm_id': 236673776,\n",
       " 'lat': '47.50987735',\n",
       " 'lon': '-122.26001908123574',\n",
       " 'display_name': '5746, South Ryan Street, Rainier Beach, Seattle, King County, Washington, 98178, United States',\n",
       " 'address': {'house_number': '5746',\n",
       "  'road': 'South Ryan Street',\n",
       "  'neighbourhood': 'Rainier Beach',\n",
       "  'city': 'Seattle',\n",
       "  'county': 'King County',\n",
       "  'state': 'Washington',\n",
       "  'ISO3166-2-lvl4': 'US-WA',\n",
       "  'postcode': '98178',\n",
       "  'country': 'United States',\n",
       "  'country_code': 'us'},\n",
       " 'boundingbox': ['47.509808', '47.5099694', '-122.2600792', '-122.259959']}"
      ]
     },
     "execution_count": 3,
     "metadata": {},
     "output_type": "execute_result"
    }
   ],
   "source": [
    "from geopy.geocoders import Nominatim\n",
    "\n",
    "# Initialize Nominatim API\n",
    "geolocator = Nominatim(user_agent='geoapiExercises')\n",
    "\n",
    "query='47.51,-122.26'\n",
    "response = geolocator.reverse(query)\n",
    "response.raw"
   ]
  },
  {
   "cell_type": "code",
   "execution_count": 6,
   "id": "047b796a",
   "metadata": {
    "ExecuteTime": {
     "end_time": "2022-04-23T16:20:22.721931Z",
     "start_time": "2022-04-23T16:20:17.073079Z"
    }
   },
   "outputs": [
    {
     "name": "stdout",
     "output_type": "stream",
     "text": [
      "Time Elapsed: {} 0.023404337999999747\n"
     ]
    }
   ],
   "source": [
    "import time\n",
    "import defs\n",
    "from multiprocessing import Pool\n",
    "\n",
    "df['query'] = df[['lat', 'long']].apply(\n",
    "    lambda x: str(x['lat']) + ',' + str(x['long']), axis=1\n",
    ")\n",
    "\n",
    "\n",
    "df1 = df[['id', 'query']].head()\n",
    "\n",
    "p = Pool(2)\n",
    "\n",
    "start = time.process_time()\n",
    "df1[['place_id', 'osm_type', 'country', 'country_code']] = p.map(defs.get_data, df1.iterrows())\n",
    "end = time.process_time()\n",
    "\n",
    "print('Time Elapsed: {}', end - start)"
   ]
  },
  {
   "cell_type": "code",
   "execution_count": 7,
   "id": "b74b1b60",
   "metadata": {
    "ExecuteTime": {
     "end_time": "2022-04-23T16:20:23.167395Z",
     "start_time": "2022-04-23T16:20:23.113837Z"
    }
   },
   "outputs": [
    {
     "data": {
      "text/html": [
       "<div>\n",
       "<style scoped>\n",
       "    .dataframe tbody tr th:only-of-type {\n",
       "        vertical-align: middle;\n",
       "    }\n",
       "\n",
       "    .dataframe tbody tr th {\n",
       "        vertical-align: top;\n",
       "    }\n",
       "\n",
       "    .dataframe thead th {\n",
       "        text-align: right;\n",
       "    }\n",
       "</style>\n",
       "<table border=\"1\" class=\"dataframe\">\n",
       "  <thead>\n",
       "    <tr style=\"text-align: right;\">\n",
       "      <th></th>\n",
       "      <th>id</th>\n",
       "      <th>query</th>\n",
       "      <th>place_id</th>\n",
       "      <th>osm_type</th>\n",
       "      <th>country</th>\n",
       "      <th>country_code</th>\n",
       "    </tr>\n",
       "  </thead>\n",
       "  <tbody>\n",
       "    <tr>\n",
       "      <th>0</th>\n",
       "      <td>7129300520</td>\n",
       "      <td>47.5112,-122.257</td>\n",
       "      <td>161022547</td>\n",
       "      <td>way</td>\n",
       "      <td>United States</td>\n",
       "      <td>us</td>\n",
       "    </tr>\n",
       "    <tr>\n",
       "      <th>1</th>\n",
       "      <td>6414100192</td>\n",
       "      <td>47.721,-122.319</td>\n",
       "      <td>160016678</td>\n",
       "      <td>way</td>\n",
       "      <td>United States</td>\n",
       "      <td>us</td>\n",
       "    </tr>\n",
       "    <tr>\n",
       "      <th>2</th>\n",
       "      <td>5631500400</td>\n",
       "      <td>47.7379,-122.233</td>\n",
       "      <td>74951055</td>\n",
       "      <td>node</td>\n",
       "      <td>United States</td>\n",
       "      <td>us</td>\n",
       "    </tr>\n",
       "    <tr>\n",
       "      <th>3</th>\n",
       "      <td>2487200875</td>\n",
       "      <td>47.5208,-122.393</td>\n",
       "      <td>156726151</td>\n",
       "      <td>way</td>\n",
       "      <td>United States</td>\n",
       "      <td>us</td>\n",
       "    </tr>\n",
       "    <tr>\n",
       "      <th>4</th>\n",
       "      <td>1954400510</td>\n",
       "      <td>47.6168,-122.045</td>\n",
       "      <td>296045104</td>\n",
       "      <td>way</td>\n",
       "      <td>United States</td>\n",
       "      <td>us</td>\n",
       "    </tr>\n",
       "  </tbody>\n",
       "</table>\n",
       "</div>"
      ],
      "text/plain": [
       "           id             query   place_id osm_type        country  \\\n",
       "0  7129300520  47.5112,-122.257  161022547      way  United States   \n",
       "1  6414100192   47.721,-122.319  160016678      way  United States   \n",
       "2  5631500400  47.7379,-122.233   74951055     node  United States   \n",
       "3  2487200875  47.5208,-122.393  156726151      way  United States   \n",
       "4  1954400510  47.6168,-122.045  296045104      way  United States   \n",
       "\n",
       "  country_code  \n",
       "0           us  \n",
       "1           us  \n",
       "2           us  \n",
       "3           us  \n",
       "4           us  "
      ]
     },
     "execution_count": 7,
     "metadata": {},
     "output_type": "execute_result"
    }
   ],
   "source": [
    "df1.head()"
   ]
  },
  {
   "cell_type": "markdown",
   "id": "f6aea3a1",
   "metadata": {
    "ExecuteTime": {
     "end_time": "2022-04-03T03:14:10.978647Z",
     "start_time": "2022-04-03T03:14:10.945312Z"
    }
   },
   "source": [
    "4. Adicione os seguintes filtros no Mapa:\n",
    "    - Tamanho mínimo da área da sala de estar\n",
    "    - Número mínimo de banheiros\n",
    "    - Valor máximo do preço\n",
    "    - Tamanho máximo da área do porão\n",
    "    - Filtro das condições do imóvel\n",
    "    - Filtro por ano de construção"
   ]
  },
  {
   "cell_type": "code",
   "execution_count": 8,
   "id": "5244b57e",
   "metadata": {
    "ExecuteTime": {
     "end_time": "2022-04-23T16:20:26.381960Z",
     "start_time": "2022-04-23T16:20:23.528768Z"
    }
   },
   "outputs": [
    {
     "data": {
      "application/vnd.jupyter.widget-view+json": {
       "model_id": "6072283c41c8443d8f4f55ae72ae5143",
       "version_major": 2,
       "version_minor": 0
      },
      "text/plain": [
       "interactive(children=(IntSlider(value=2079, description='Minimum Living Room Size', max=13540, min=290, style=…"
      ]
     },
     "metadata": {},
     "output_type": "display_data"
    }
   ],
   "source": [
    "import plotly.express as px\n",
    "import ipywidgets as widgets\n",
    "from ipywidgets import fixed\n",
    "\n",
    "style={'description_width': 'initial'}\n",
    "\n",
    "df['is_waterfront'] = df['waterfront'].apply(\n",
    "    lambda x: 'yes' if x == 1\n",
    "        else  'no')\n",
    "\n",
    "# Interative buttons\n",
    "min_living_room = widgets.IntSlider(\n",
    "    value=int(df['sqft_living'].mean()),\n",
    "    min=df['sqft_living'].min(),\n",
    "    max=df['sqft_living'].max(),\n",
    "    step=1,\n",
    "    description='Minimum Living Room Size',\n",
    "    disabled=False,\n",
    "    style=style\n",
    ")\n",
    "\n",
    "\n",
    "min_bathrooms = widgets.IntSlider(\n",
    "    value=int(df['bathrooms'].mean()),\n",
    "    min=df['bathrooms'].min(),\n",
    "    max=10,\n",
    "    step=1,\n",
    "    description='Minimum Bathrooms Values',\n",
    "    disabled=False,\n",
    "    style=style\n",
    ")\n",
    "\n",
    "\n",
    "max_price = widgets.FloatSlider(\n",
    "    value=int(df['price'].mean()),\n",
    "    min=int(df['price'].min()),\n",
    "    max=int(df['price'].max()),\n",
    "    step=1,\n",
    "    description='Maximum Price',\n",
    "    disabled=False,\n",
    "    style=style\n",
    ")\n",
    "\n",
    "\n",
    "max_basement = widgets.FloatSlider(\n",
    "    value=int(df['sqft_basement'].mean()),\n",
    "    min=df['sqft_basement'].min(),\n",
    "    max=df['sqft_basement'].max(),\n",
    "    step=1,\n",
    "    description='Maximum Basement Size',\n",
    "    disabled=False,\n",
    "    style=style\n",
    ")\n",
    "\n",
    "condition_house = widgets.Dropdown(\n",
    "    options=df['condition'].sort_values().unique().tolist(),\n",
    "    value=int(df['condition'].mean()),\n",
    "    description='Condition House',\n",
    "    disable=False,\n",
    "    style=style\n",
    ")\n",
    "\n",
    "year_built = widgets.Dropdown(\n",
    "    options=df['yr_built'].sort_values().unique().tolist(),\n",
    "    value=int(df['yr_built'].mean()),\n",
    "    description='Year Built',\n",
    "    disable=False,\n",
    "    style=style\n",
    ")\n",
    "\n",
    "def update_map(data, living_room, min_bathrooms, max_price, basement, condition_house, year_built):\n",
    "    \n",
    "    houses = data[(data['sqft_living'] > living_room) &                              (data['bathrooms'] > min_bathrooms) &                              (data['price'] < max_price) & \n",
    "                  (data['sqft_basement'] < basement) &                                (data['condition'] == condition_house) &                            (data['yr_built'] > year_built)][['id', 'lat', 'long', 'price', 'sqft_living', 'level']].copy()\n",
    "    \n",
    "    # plot map\n",
    "    fig = px.scatter_mapbox(houses,\n",
    "                    lat='lat',\n",
    "                    lon='long',\n",
    "                    color='level',\n",
    "                    size='price',                                                        color_continuous_scale=px.colors.cyclical.IceFire,\n",
    "                    size_max=15,\n",
    "                    zoom=10)\n",
    "\n",
    "    fig.update_layout(mapbox_style='open-street-map')\n",
    "    fig.update_layout(height=600, margin={'r':0, 't':0, 'l':0, 'b':0})\n",
    "    fig.show()\n",
    "    \n",
    "# Plot map    \n",
    "widgets.interactive(update_map, \n",
    "                    data = fixed(df), \n",
    "                    living_room = min_living_room, \n",
    "                    min_bathrooms = min_bathrooms, \n",
    "                    max_price = max_price, \n",
    "                    basement = max_basement, \n",
    "                    condition_house = condition_house, \n",
    "                    year_built = year_built)"
   ]
  },
  {
   "cell_type": "markdown",
   "id": "b7fa5155",
   "metadata": {},
   "source": [
    "5. Adicione os seguintes filtros no Dashboard:\n",
    "    - Filtro por data disponível para compra\n",
    "    - Filtro por ano de renovação\n",
    "    - Filtro se possui vista para a água ou não"
   ]
  },
  {
   "cell_type": "code",
   "execution_count": 13,
   "id": "86423d7c",
   "metadata": {
    "ExecuteTime": {
     "end_time": "2022-04-23T16:29:47.911393Z",
     "start_time": "2022-04-23T16:29:39.999485Z"
    },
    "scrolled": false
   },
   "outputs": [
    {
     "data": {
      "application/vnd.jupyter.widget-view+json": {
       "model_id": "61ebf05d57154c298b3e7c157dba81a3",
       "version_major": 2,
       "version_minor": 0
      },
      "text/plain": [
       "interactive(children=(SelectionSlider(continuous_update=False, description='Max Available Date', index=212, op…"
      ]
     },
     "metadata": {},
     "output_type": "display_data"
    },
    {
     "data": {
      "image/png": "[encoded data removed]",
      "text/plain": [
       "<Figure size 1728x864 with 3 Axes>"
      ]
     },
     "metadata": {
      "needs_background": "light"
     },
     "output_type": "display_data"
    },
    {
     "data": {
      "image/png": "[encoded data removed]",
      "text/plain": [
       "<Figure size 1728x864 with 3 Axes>"
      ]
     },
     "metadata": {
      "needs_background": "light"
     },
     "output_type": "display_data"
    },
    {
     "data": {
      "image/png": "[encoded data removed]",
      "text/plain": [
       "<Figure size 1728x864 with 3 Axes>"
      ]
     },
     "metadata": {
      "needs_background": "light"
     },
     "output_type": "display_data"
    },
    {
     "data": {
      "image/png": "[encoded data removed]",
      "text/plain": [
       "<Figure size 1728x864 with 3 Axes>"
      ]
     },
     "metadata": {
      "needs_background": "light"
     },
     "output_type": "display_data"
    },
    {
     "data": {
      "image/png": "[encoded data removed]",
      "text/plain": [
       "<Figure size 1728x864 with 3 Axes>"
      ]
     },
     "metadata": {
      "needs_background": "light"
     },
     "output_type": "display_data"
    }
   ],
   "source": [
    "import ipywidgets as widgets\n",
    "from matplotlib import gridspec\n",
    "from matplotlib import pyplot as plt\n",
    "import seaborn as sns\n",
    "import pandas as pd \n",
    "\n",
    "# convert object columns to date \n",
    "df['year'] = pd.to_datetime(df['date']).dt.strftime('%Y')\n",
    "df['date'] = pd.to_datetime(df['date']).dt.strftime('%Y-%m-%d')\n",
    "df['year_week'] = pd.to_datetime(df['date']).dt.strftime('%Y-%U')\n",
    "\n",
    "date_limit = widgets.SelectionSlider(\n",
    "    options = df['date'].sort_values().unique().tolist()\n",
    "    ,value='2014-12-01'\n",
    "    ,description = 'Max Available Date'\n",
    "    ,disable = False\n",
    "    ,continuous_update = False\n",
    "    ,orientation='horizontal'\n",
    "    ,style=style\n",
    "    ,readout = True\n",
    ")\n",
    "\n",
    "yr_limit = widgets.SelectionSlider(            \n",
    "    options = df['yr_renovated'].sort_values().unique().tolist()\n",
    "    ,value=2000\n",
    "    ,description='Max Year'\n",
    "    ,disable=False\n",
    "    ,continuous_update = False\n",
    "    ,orientation='horizontal'\n",
    "    ,style=style\n",
    "    ,readout = True\n",
    ")\n",
    "\n",
    "water_front = widgets.Checkbox(\n",
    "    value=False\n",
    "    ,description='Is Water Front?'\n",
    "    ,disable=False\n",
    "    ,indent=False\n",
    ")\n",
    "\n",
    "def update_map(df, data_limit, yr_limit, is_water_front):\n",
    "    \n",
    "    house = df[(df['date'] <= data_limit) & \n",
    "              (df['yr_renovated'] >= yr_limit) & \n",
    "              (df['waterfront'] == is_water_front)].copy()\n",
    "    \n",
    "    fig = plt.figure(figsize=(24,12))\n",
    "    specs = gridspec.GridSpec(ncols=2, nrows=2, figure=fig)\n",
    "    \n",
    "    ax1 = fig.add_subplot(specs[0,:])\n",
    "    ax2 = fig.add_subplot(specs[1,0])\n",
    "    ax3 = fig.add_subplot(specs[1,1])\n",
    "    \n",
    "    by_year = house[['price', 'year']].groupby('year').sum() \\\n",
    " .reset_index()\n",
    "    sns.barplot(x='year', y='price', data=by_year, ax=ax1)\n",
    "    \n",
    "    by_day = house[['price', 'date']].groupby('date').mean() \\\n",
    " .reset_index()\n",
    "    sns.lineplot(x='date', y='price', data=by_day, ax=ax2)\n",
    "    plt.xticks(rotation=90);\n",
    "    \n",
    "    by_week =house[['price', 'year_week']].groupby('year_week') \\\n",
    "    .mean().reset_index()\n",
    "    sns.barplot(x='year_week', y='price', data=by_week, ax=ax3)\n",
    "    plt.xticks(rotation=90);\n",
    "    \n",
    "widgets.interactive(update_map, \n",
    "                    df=fixed(df), \n",
    "                    data_limit=date_limit, \n",
    "                    yr_limit=yr_limit, \n",
    "                    is_water_front=water_front )\n",
    "    "
   ]
  }
 ],
 "metadata": {
  "hide_input": false,
  "kernelspec": {
   "display_name": "Python 3 (ipykernel)",
   "language": "python",
   "name": "python3"
  },
  "language_info": {
   "codemirror_mode": {
    "name": "ipython",
    "version": 3
   },
   "file_extension": ".py",
   "mimetype": "text/x-python",
   "name": "python",
   "nbconvert_exporter": "python",
   "pygments_lexer": "ipython3",
   "version": "3.7.11"
  },
  "latex_envs": {
   "LaTeX_envs_menu_present": true,
   "autoclose": true,
   "autocomplete": true,
   "bibliofile": "biblio.bib",
   "cite_by": "apalike",
   "current_citInitial": 1,
   "eqLabelWithNumbers": true,
   "eqNumInitial": 1,
   "hotkeys": {
    "equation": "Ctrl-E",
    "itemize": "Ctrl-I"
   },
   "labels_anchors": false,
   "latex_user_defs": false,
   "report_style_numbering": false,
   "user_envs_cfg": false
  },
  "toc": {
   "base_numbering": 1,
   "nav_menu": {},
   "number_sections": true,
   "sideBar": true,
   "skip_h1_title": false,
   "title_cell": "Table of Contents",
   "title_sidebar": "Contents",
   "toc_cell": false,
   "toc_position": {},
   "toc_section_display": true,
   "toc_window_display": false
  },
  "varInspector": {
   "cols": {
    "lenName": 16,
    "lenType": 16,
    "lenVar": 40
   },
   "kernels_config": {
    "python": {
     "delete_cmd_postfix": "",
     "delete_cmd_prefix": "del ",
     "library": "var_list.py",
     "varRefreshCmd": "print(var_dic_list())"
    },
    "r": {
     "delete_cmd_postfix": ") ",
     "delete_cmd_prefix": "rm(",
     "library": "var_list.r",
     "varRefreshCmd": "cat(var_dic_list()) "
    }
   },
   "types_to_exclude": [
    "module",
    "function",
    "builtin_function_or_method",
    "instance",
    "_Feature"
   ],
   "window_display": false
  }
 },
 "nbformat": 4,
 "nbformat_minor": 5
}
